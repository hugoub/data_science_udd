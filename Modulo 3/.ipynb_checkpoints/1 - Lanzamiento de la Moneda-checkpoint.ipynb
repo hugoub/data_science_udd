{
 "cells": [
  {
   "cell_type": "markdown",
   "metadata": {},
   "source": [
    "# Simulación del lanzamiento de la moneda \n",
    "\n",
    "El lanzamiento de la moneda es un ejercicio clásico en probabilidades, el cual nos permite comparar probabilidades teóricas con probabilidades empíricas. Uno podría en la vida real simular el lanzamiento de una moneda muchas veces, para ver si efectivamente las probabilidades empíricas, se acercan a las probabilidades teóricas. El problema de realizar esto, es que requiere bastante tiempo el poder lanzar más de 1000 veces una moneda. Por lo mismo, podemos utilizar python (o cualquier lenguaje de programación) para realizar simulaciones. \n",
    "\n",
    "Para esta dinámica, vamos a requerir el uso de la librería `random`, la cual viene integrada por defecto en python. La idea es utilizar esta librería que genera números pseudoaleatorios para modelar el lanzamiento de una moneda. En este caso, la idea es simular una moneda justa (la misma probabilidad que sea cara o sello), siendo la probabilidad de un $50\\%$.\n",
    "\n",
    "Para simular un lanzamiento, podemos utilizar dos métodos de la librería random:\n",
    "\n",
    "- `random.random()`: devuelve un numero entre los intervalos: $[0,1)$\n",
    "- `random.randint(a,b)` devuelve un numero entero entre los intervalos $[a,b]$\n",
    "\n",
    "## - [Documentación de la librería random](https://docs.python.org/3/library/random.html)\n",
    "\n",
    "**Nota:** para asegurnarnos reproducibilidad, la librería random nos permite fijar una semilla, que va a dar punto de partida al proceso de generación pseudoaleatorio. Por ende, distintas semillas, distintas secuencias de números se van a ir generando. Para fijar dicha semilla, utilizamos el método `random.seed(seed)`. \n",
    "\n",
    "A modo de ejemplo, vamos a fijar la semilla con el numero 42 y mostraremos las salidas de los métodos descritos anteriormente:\n"
   ]
  },
  {
   "cell_type": "code",
   "execution_count": 119,
   "metadata": {},
   "outputs": [],
   "source": [
    "import random # importamos la libreria\n",
    "\n",
    "random.seed(42) # la fijamos con el número 42"
   ]
  },
  {
   "cell_type": "code",
   "execution_count": 120,
   "metadata": {},
   "outputs": [
    {
     "data": {
      "text/plain": [
       "0.6394267984578837"
      ]
     },
     "execution_count": 120,
     "metadata": {},
     "output_type": "execute_result"
    }
   ],
   "source": [
    "random.random() # ejemplo de random.random()"
   ]
  },
  {
   "cell_type": "code",
   "execution_count": 121,
   "metadata": {},
   "outputs": [
    {
     "data": {
      "text/plain": [
       "2"
      ]
     },
     "execution_count": 121,
     "metadata": {},
     "output_type": "execute_result"
    }
   ],
   "source": [
    "random.randint(2,5) # ejemplo de random.randint()"
   ]
  },
  {
   "cell_type": "markdown",
   "metadata": {},
   "source": [
    "# **Dinámica:**\n",
    "\n",
    "Generar una función que nos permita hacer un experimento de lanzar $n$ veces una moneda, y que retorne el número de caras y sellos para los $n$ lanzamientos. Una vez que la función esté lista, la idea es repetir $1.000$ veces el experimento de lanzar $100$ monedas y guardar en una lista, la cantidad de caras y sellos para cada experimento.\n",
    "\n",
    "Finalmente, una vez que tengamos dichas listas, vamos a calcular para cada uno de estos arreglos: \n",
    "\n",
    "- la media \n",
    "- la varianza \n",
    "- la desviación estándar\n",
    "- la mediana\n",
    "- la moda  \n",
    "\n",
    "La restricción es que no pueden utilizar los métodos de `numpy` `np.mean`, `np.var`, `np.std` y `np.median` para el cálculo de dichos valores. Tendrán que programar funciones desde cero para cada una de las medidas a calcular.\n",
    "\n",
    "Finalmente, comparemos las programadas por ustedes versus las funciones de numpy. ¿Dan los mismos valores?\n",
    "\n",
    "**Nota:** El resto de los métodos de `numpy` si pueden utilizarlos para el cálculo de dichas funciones\n"
   ]
  },
  {
   "cell_type": "code",
   "execution_count": 122,
   "metadata": {},
   "outputs": [],
   "source": [
    "#Importamos numpy y la libreria auxiliar de calculo matemático: math\n",
    "import numpy as np\n",
    "import math # de math podemos utilizar el método math.sqrt(value) para calcular la raiz cuadrada\n"
   ]
  },
  {
   "cell_type": "markdown",
   "metadata": {},
   "source": [
    "# Lanzamiento de la moneda\n",
    "\n",
    "complete esta función"
   ]
  },
  {
   "cell_type": "code",
   "execution_count": 124,
   "metadata": {},
   "outputs": [],
   "source": [
    "# tu código aca\n",
    "def coin_toss(n_toss):\n",
    "    val = [0 if random.random() < 0.5 else 1 for i in range(n_toss)]\n",
    "    n_heads = sum(val)         # 1 head\n",
    "    n_tails = n_toss - n_heads # 0 tail\n",
    "    return (n_heads, n_tails)\n"
   ]
  },
  {
   "cell_type": "code",
   "execution_count": 125,
   "metadata": {},
   "outputs": [],
   "source": [
    "### Vemos cuantas caras y sellos obtenemos de 100 lanzamientos"
   ]
  },
  {
   "cell_type": "code",
   "execution_count": 126,
   "metadata": {},
   "outputs": [
    {
     "data": {
      "text/plain": [
       "(48, 52)"
      ]
     },
     "execution_count": 126,
     "metadata": {},
     "output_type": "execute_result"
    }
   ],
   "source": [
    "coin_toss(100)"
   ]
  },
  {
   "cell_type": "markdown",
   "metadata": {},
   "source": [
    "realice los mil experimentos"
   ]
  },
  {
   "cell_type": "code",
   "execution_count": 127,
   "metadata": {},
   "outputs": [],
   "source": [
    "n_heads_list1 = []  # guardar las caras en esta variable para cada experimento en esta variable\n",
    "n_tails_list1 = [] # lo mismo para los sellos\n",
    "\n",
    "# tu código aca\n",
    "for i in range(1000):\n",
    "    result = coin_toss(100)\n",
    "    n_heads_list1.append(result[0])\n",
    "    n_tails_list1.append(result[1])"
   ]
  },
  {
   "cell_type": "markdown",
   "metadata": {},
   "source": [
    "# Media\n",
    "\n",
    "programe la función de la media"
   ]
  },
  {
   "cell_type": "code",
   "execution_count": 128,
   "metadata": {},
   "outputs": [],
   "source": [
    "# tu código aca\n",
    "def mean(elements):\n",
    "    return sum(elements)/len(elements)"
   ]
  },
  {
   "cell_type": "markdown",
   "metadata": {},
   "source": [
    "# Varianza / $\\sigma^2$\n",
    "\n",
    "programe la función de la varianza"
   ]
  },
  {
   "cell_type": "code",
   "execution_count": 129,
   "metadata": {},
   "outputs": [],
   "source": [
    "# tu código aca\n",
    "def varianza(elements):\n",
    "    suma = 0\n",
    "    mn = mean(elements)\n",
    "    for i in range(len(elements)):\n",
    "        suma = suma + (elements[i] - mn) ** 2 \n",
    "        \n",
    "    var = suma / (len(elements))\n",
    "    return var\n"
   ]
  },
  {
   "cell_type": "markdown",
   "metadata": {},
   "source": [
    "# Mediana \n",
    "\n",
    "programe la función de la Mediana"
   ]
  },
  {
   "cell_type": "code",
   "execution_count": 130,
   "metadata": {},
   "outputs": [],
   "source": [
    "# tu código aca\n",
    "def median(elements):\n",
    "    #Una pequeña ayuda, las siguientes sentencias generan una copia del arreglo, y luego los ordena\n",
    "    elements_sorted = elements.copy() \n",
    "    elements_sorted.sort()\n",
    "    if len(elements_sorted) % 2 == 0:\n",
    "        med_1 = int(len(elements_sorted) / 2)\n",
    "        return (elements_sorted[med_1] + elements_sorted[med_1 + 1]) / 2\n",
    "    else:\n",
    "        return elements_sorted[int((len(elements_sorted) + 1)/2)]"
   ]
  },
  {
   "cell_type": "markdown",
   "metadata": {},
   "source": [
    "# Moda \n",
    "\n",
    "programe la función de la Moda"
   ]
  },
  {
   "cell_type": "code",
   "execution_count": 1,
   "metadata": {},
   "outputs": [],
   "source": [
    "def mode(elements):\n",
    "    # Retorna todos los valores con la máxima frecuencia.\n",
    "\n",
    "    set_ele = set(elements)\n",
    "    dic = {str(i): 0 for i in set_ele}\n",
    "    for i in elements:\n",
    "        dic[str(i)] += 1\n",
    "        \n",
    "    # return max(dic, key = lambda x: dic[x])\n",
    "    \n",
    "    maxi = 0\n",
    "    for k, v in dic.items():\n",
    "        if v > maxi:\n",
    "            maxi = v\n",
    "            modas = []\n",
    "        if v == maxi:\n",
    "            modas.append(k)\n",
    "        \n",
    "    return modas"
   ]
  },
  {
   "cell_type": "code",
   "execution_count": 135,
   "metadata": {},
   "outputs": [
    {
     "data": {
      "text/plain": [
       "['49', '50']"
      ]
     },
     "execution_count": 135,
     "metadata": {},
     "output_type": "execute_result"
    }
   ],
   "source": [
    "mode(n_heads_list1)"
   ]
  },
  {
   "cell_type": "markdown",
   "metadata": {},
   "source": [
    "# Realicemos la comparación de los metodos, versus numpy\n",
    "\n",
    "Para las caras:"
   ]
  },
  {
   "cell_type": "code",
   "execution_count": 136,
   "metadata": {},
   "outputs": [
    {
     "name": "stdout",
     "output_type": "stream",
     "text": [
      "Media: 49.973\n",
      "Varianza: 27.25627099999972\n",
      "Desviación Estándar: 5.22075387276586\n",
      "Mediana: 50.0\n",
      "Moda: 49, 50\n"
     ]
    }
   ],
   "source": [
    "# tu código aca\n",
    "print(\"Media:\",mean(n_heads_list1))\n",
    "print(\"Varianza:\",varianza(n_heads_list1))\n",
    "print(\"Desviación Estándar:\",math.sqrt(varianza(n_heads_list1)))\n",
    "print(\"Mediana:\",median(n_heads_list1))\n",
    "print(\"Moda:\",\", \".join(mode(n_heads_list1)))\n"
   ]
  },
  {
   "cell_type": "code",
   "execution_count": 137,
   "metadata": {},
   "outputs": [
    {
     "name": "stdout",
     "output_type": "stream",
     "text": [
      "Media: 49.973\n",
      "Varianza: 27.256271\n",
      "Desviación Estándar: 5.220753872765886\n",
      "Mediana: 50.0\n",
      "Moda: 49\n"
     ]
    }
   ],
   "source": [
    "# tu código aca\n",
    "from scipy import stats\n",
    "\n",
    "print(\"Media:\",np.mean(n_heads_list1))\n",
    "print(\"Varianza:\",np.var(n_heads_list1))\n",
    "print(\"Desviación Estándar:\",np.std(n_heads_list1))\n",
    "print(\"Mediana:\",np.median(n_heads_list1))\n",
    "print(\"Moda:\",stats.mode(n_heads_list1)[0][0])\n",
    "\n"
   ]
  },
  {
   "cell_type": "markdown",
   "metadata": {},
   "source": [
    "Para los sellos"
   ]
  },
  {
   "cell_type": "code",
   "execution_count": 117,
   "metadata": {},
   "outputs": [
    {
     "name": "stdout",
     "output_type": "stream",
     "text": [
      "Media: 50.027\n",
      "Varianza: 27.25627099999972\n",
      "Desviación Estándar: 5.22075387276586\n",
      "Mediana: 50.0\n",
      "Moda: 50, 51\n"
     ]
    }
   ],
   "source": [
    "# tu código aca\n",
    "print(\"Media:\",mean(n_tails_list1))\n",
    "print(\"Varianza:\",varianza(n_tails_list1))\n",
    "print(\"Desviación Estándar:\",math.sqrt(varianza(n_tails_list1)))\n",
    "print(\"Mediana:\",median(n_tails_list1))\n",
    "print(\"Moda:\",\", \".join(mode(n_tails_list1)))\n"
   ]
  },
  {
   "cell_type": "code",
   "execution_count": 118,
   "metadata": {},
   "outputs": [
    {
     "name": "stdout",
     "output_type": "stream",
     "text": [
      "Media: 50.027\n",
      "Varianza: 27.256271\n",
      "Desviación Estándar: 5.220753872765886\n",
      "Mediana: 50.0\n",
      "Moda: 50\n"
     ]
    }
   ],
   "source": [
    "# tu código aca\n",
    "print(\"Media:\",np.mean(n_tails_list1))\n",
    "print(\"Varianza:\",np.var(n_tails_list1))\n",
    "print(\"Desviación Estándar:\",np.std(n_tails_list1))\n",
    "print(\"Mediana:\",np.median(n_tails_list1))\n",
    "print(\"Moda:\",stats.mode(n_tails_list1)[0][0])\n",
    "\n"
   ]
  },
  {
   "cell_type": "markdown",
   "metadata": {},
   "source": [
    "## Pregunta\n",
    "### ¿Los valores para cada medida, son iguales o no? ¿Por qué podria deberse eso?"
   ]
  },
  {
   "cell_type": "markdown",
   "metadata": {},
   "source": [
    "No exactamente. Se podría deber al redondeo de las variables.\n",
    "\n",
    "Y con respecto a la moda, retorna sólo el primer valor con máxima frecuencia a diferencia de todos los que tienen la máxima frecuencia."
   ]
  },
  {
   "cell_type": "markdown",
   "metadata": {},
   "source": [
    "# Desafio:\n",
    "\n",
    "Realizar el lanzamiento de la moneda, pero esta vez simule una moneda cargada, ya sea a cara o sello. Por lo mismo genere una nueva función la cual reciba como parametro que tanto cargar dicha moneda.\n",
    "\n",
    "Finalmente, realice 1000 experimentos, lanzando 100 monedas y calcule las medidas de tendencia central y dispersión mencionadas anteriormente para las caras y los sellos en cada experimento. "
   ]
  },
  {
   "cell_type": "code",
   "execution_count": 60,
   "metadata": {},
   "outputs": [],
   "source": [
    "# tu código aca\n",
    "def coin_toss_charged(n_toss, charged):\n",
    "    '''\n",
    "    Args:\n",
    "        charged (int): From -100 to 100. Full charge to head is -100 and full charge to tail is 100.\n",
    "    '''\n",
    "    val = [0 if random.random() < 0.5 + 0.5 * charged / 100 else 1 for i in range(n_toss)]\n",
    "    n_heads = sum(val)         # 1 head\n",
    "    n_tails = n_toss - n_heads # 0 tail\n",
    "    return (n_heads, n_tails)"
   ]
  },
  {
   "cell_type": "code",
   "execution_count": 61,
   "metadata": {},
   "outputs": [],
   "source": [
    "# tu código aca\n",
    "n_heads_list_charged = []\n",
    "n_tails_list_charged = []\n",
    "\n",
    "for i in range(1000):\n",
    "    result = coin_toss_charged(100, 25)\n",
    "    n_heads_list_charged.append(result[0])\n",
    "    n_tails_list_charged.append(result[1])"
   ]
  },
  {
   "cell_type": "markdown",
   "metadata": {},
   "source": [
    "Caras"
   ]
  },
  {
   "cell_type": "code",
   "execution_count": 138,
   "metadata": {},
   "outputs": [
    {
     "name": "stdout",
     "output_type": "stream",
     "text": [
      "Media: 37.585\n",
      "Varianza: 25.322775000000032\n",
      "Desviación Estándar: 5.032173983478715\n",
      "Mediana: 38.0\n",
      "Moda: 38\n"
     ]
    }
   ],
   "source": [
    "# tu código aca\n",
    "print(\"Media:\",mean(n_heads_list_charged))\n",
    "print(\"Varianza:\",varianza(n_heads_list_charged))\n",
    "print(\"Desviación Estándar:\",math.sqrt(varianza(n_heads_list_charged)))\n",
    "print(\"Mediana:\",median(n_heads_list_charged))\n",
    "print(\"Moda:\",\", \".join(mode(n_heads_list_charged)))"
   ]
  },
  {
   "cell_type": "markdown",
   "metadata": {},
   "source": [
    "Sellos"
   ]
  },
  {
   "cell_type": "code",
   "execution_count": 139,
   "metadata": {},
   "outputs": [
    {
     "name": "stdout",
     "output_type": "stream",
     "text": [
      "Media: 62.415\n",
      "Varianza: 25.322775000000032\n",
      "Desviación Estándar: 5.032173983478715\n",
      "Mediana: 62.0\n",
      "Moda: 62\n"
     ]
    }
   ],
   "source": [
    "# tu código aca\n",
    "print(\"Media:\",mean(n_tails_list_charged))\n",
    "print(\"Varianza:\",varianza(n_tails_list_charged))\n",
    "print(\"Desviación Estándar:\",math.sqrt(varianza(n_tails_list_charged)))\n",
    "print(\"Mediana:\",median(n_tails_list_charged))\n",
    "print(\"Moda:\",\", \".join(mode(n_tails_list_charged)))\n",
    "\n"
   ]
  },
  {
   "cell_type": "code",
   "execution_count": null,
   "metadata": {},
   "outputs": [],
   "source": []
  },
  {
   "cell_type": "code",
   "execution_count": null,
   "metadata": {},
   "outputs": [],
   "source": []
  }
 ],
 "metadata": {
  "kernelspec": {
   "display_name": "Python 3",
   "language": "python",
   "name": "python3"
  },
  "language_info": {
   "codemirror_mode": {
    "name": "ipython",
    "version": 3
   },
   "file_extension": ".py",
   "mimetype": "text/x-python",
   "name": "python",
   "nbconvert_exporter": "python",
   "pygments_lexer": "ipython3",
   "version": "3.7.5"
  }
 },
 "nbformat": 4,
 "nbformat_minor": 4
}
