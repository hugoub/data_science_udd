{
 "cells": [
  {
   "cell_type": "markdown",
   "metadata": {
    "id": "PhKSNWp1c9MK"
   },
   "source": [
    "## 1) Librerias\n",
    "El primer paso es cargar las librerias comunmente utilizadas en estadísticas con python"
   ]
  },
  {
   "cell_type": "code",
   "execution_count": 1,
   "metadata": {
    "id": "lGpr5T9XcrVc"
   },
   "outputs": [],
   "source": [
    "#Importamos librerias de la siguiente forma: \n",
    "import numpy as np # importando numpy\n",
    "from scipy import stats # importando scipy.stats\n",
    "import matplotlib.pyplot as plt #importando matplotlib"
   ]
  },
  {
   "cell_type": "markdown",
   "metadata": {
    "id": "dtHtZSsKfkTP"
   },
   "source": [
    "##2) Estadistica descriptiva"
   ]
  },
  {
   "cell_type": "code",
   "execution_count": 2,
   "metadata": {
    "id": "3mrkNLFKdWe7"
   },
   "outputs": [
    {
     "name": "stdout",
     "output_type": "stream",
     "text": [
      "media:  4.25\n",
      "sigma:  2.0943647333651407\n",
      "cantidad:  12\n"
     ]
    }
   ],
   "source": [
    "#ahora vamos a probar Numpy, crearemos un conjunto de datos de satisfaccion de clientes (12 casos, con escala de 1 a 10)\n",
    "satisfaccion= (2, 5, 3, 4, 2, 1, 4, 4, 5, 7, 6, 8)\n",
    "\n",
    "#ahora calular la media y la cantidad de datos usando numpy (np)\n",
    "media = np.mean(satisfaccion)\n",
    "sigma = np.std(satisfaccion, ddof=1)\n",
    "cantidad = np.size(satisfaccion)\n",
    "\n",
    "#ahora vamos a imprimir la media y cantidad de datos\n",
    "print(\"media: \", media)\n",
    "print(\"sigma: \", sigma)\n",
    "print(\"cantidad: \", cantidad)\n"
   ]
  },
  {
   "cell_type": "code",
   "execution_count": 3,
   "metadata": {
    "id": "EB1wY3bUfMyM"
   },
   "outputs": [
    {
     "data": {
      "text/plain": [
       "DescribeResult(nobs=12, minmax=(1, 8), mean=4.25, variance=4.386363636363637, skewness=0.21317614470832874, kurtosis=-0.7823565733308273)"
      ]
     },
     "execution_count": 3,
     "metadata": {},
     "output_type": "execute_result"
    }
   ],
   "source": [
    "#Usando Stats para analisis descriptivo\n",
    "\n",
    "stats.describe(satisfaccion, axis=0, ddof=1, bias=True, nan_policy='propagate')"
   ]
  },
  {
   "cell_type": "code",
   "execution_count": 4,
   "metadata": {
    "id": "E6DcG2DKdcoK"
   },
   "outputs": [
    {
     "data": {
      "image/png": "[encoded data removed]",
      "text/plain": [
       "<Figure size 432x288 with 1 Axes>"
      ]
     },
     "metadata": {
      "needs_background": "light"
     },
     "output_type": "display_data"
    },
    {
     "data": {
      "image/png": "[encoded data removed]",
      "text/plain": [
       "<Figure size 432x288 with 1 Axes>"
      ]
     },
     "metadata": {
      "needs_background": "light"
     },
     "output_type": "display_data"
    }
   ],
   "source": [
    "#ahora vamos a probar Matplotlib creando 1 grafico de histograma\n",
    "#un histograma simple\n",
    "\n",
    "plt.hist(satisfaccion, bins=15)\n",
    "plt.title(\"Histogram\")\n",
    "plt.show()\n",
    "\n",
    "#ahora vamos a crear un run chart / gráfico de línea\n",
    "\n",
    "plt.plot(satisfaccion)\n",
    "plt.title(\"grafico de linea\")\n",
    "plt.show()\n",
    "\n",
    "\n",
    "#que ves en los graficos?"
   ]
  },
  {
   "cell_type": "markdown",
   "metadata": {
    "id": "CKd8-CkJfqKf"
   },
   "source": [
    "##3) Poblacion\n",
    "\n",
    "Población: Colección completa de todos los individuos de interés para el investigador.\n",
    "\n",
    "A continuación crearemos una población, compuesta por personas, donde estudiaremos una característica común de ellos. Esta variable es el peso, la que exhibe una distribución Normal con media  𝜇=70  y sigma  𝜎=5 \n",
    "\n",
    "Las distribuciones normales se aplican a variables continuas, donde la gráfica de su función densidad de proabilidad tiene una forma acampanada y simétrica. Representan más del 50% de los fenomenos industriales estudiados. Sin embargo, hay otras distribuciones que estudiaremos más adelante."
   ]
  },
  {
   "cell_type": "code",
   "execution_count": 5,
   "metadata": {
    "id": "i-MPvsw0fpjZ"
   },
   "outputs": [
    {
     "name": "stdout",
     "output_type": "stream",
     "text": [
      "[76.26777636 57.64055624 66.17006794 77.28311155 65.68956152 79.98829367\n",
      " 64.81275236 62.50332524 77.51976874 71.38789525 70.16205768 73.67519323\n",
      " 70.89241471 72.52788128 76.29800256 67.07725258 66.52550477 68.50931265\n",
      " 69.47288999 71.11808214 78.91508433 62.00581215 73.46369228 66.03725264\n",
      " 74.71293185 71.97028167 62.61444123 71.55664233 63.16179487 58.72086427\n",
      " 65.6579473  72.48719044 70.04756056 69.33070084 74.89510652 65.45083564\n",
      " 78.06302238 76.56994917 76.39799703 70.7058825  63.95821774 72.66988908\n",
      " 73.71713792 64.82520046 83.75354483 63.01523243 67.34726025 74.6248591\n",
      " 75.68038325 62.62796757 67.80201417 71.12588615 69.40263004 68.2137742\n",
      " 68.46894247 64.06825997 69.92292029 68.79509803 68.89074517 65.07049243\n",
      " 57.40158642 65.62262822 68.24131505 67.15110977 76.97529368 68.44559588\n",
      " 68.34460351 68.77983832 69.79656069 67.04928341 72.41055333 74.79008443\n",
      " 64.07974499 73.7264495  69.59661013 67.32397354 74.77909603 70.56132639\n",
      " 69.89957884 74.63210633 69.20384242 68.4493247  61.08765205 69.4852789\n",
      " 67.71853617 72.93768546 75.38272738 63.94022691 78.97938478 77.26247071\n",
      " 73.10321233 69.94311333 64.84301681 78.28022298 71.47458561 64.61760891\n",
      " 68.26657171 75.36172066 67.80586069 71.24779461]\n"
     ]
    }
   ],
   "source": [
    "# Creamos la población de 100 personas utilizando los parámetros comentados\n",
    "media = 70\n",
    "sigma = 5.0\n",
    "size = 100\n",
    "\n",
    "poblacion = np.random.normal(media, sigma, size)\n",
    "print(poblacion)\n",
    "\n",
    "#Si queremos dejar fijo datos creados, usar semilla:\n",
    "#RandomState(seed=2)"
   ]
  },
  {
   "cell_type": "code",
   "execution_count": 6,
   "metadata": {
    "id": "sBuxuTKPgvo_"
   },
   "outputs": [
    {
     "data": {
      "image/png": "[encoded data removed]",
      "text/plain": [
       "<Figure size 720x288 with 1 Axes>"
      ]
     },
     "metadata": {
      "needs_background": "light"
     },
     "output_type": "display_data"
    }
   ],
   "source": [
    "#graficar datos de la poblacion\n",
    "\n",
    "plt.figure(figsize=(10, 4)) #tamaño grafico\n",
    "plt.hist(poblacion, 10, density=False, cumulative=False, color='b') #con 20 clases y color rojo\n",
    "plt.show()"
   ]
  },
  {
   "cell_type": "code",
   "execution_count": 7,
   "metadata": {
    "id": "EpMh7Ue_gQHk"
   },
   "outputs": [
    {
     "ename": "SyntaxError",
     "evalue": "invalid syntax (<ipython-input-7-58792dc8883f>, line 4)",
     "output_type": "error",
     "traceback": [
      "\u001b[1;36m  File \u001b[1;32m\"<ipython-input-7-58792dc8883f>\"\u001b[1;36m, line \u001b[1;32m4\u001b[0m\n\u001b[1;33m    poblacion2 = np.random.normal(.....\u001b[0m\n\u001b[1;37m                                      ^\u001b[0m\n\u001b[1;31mSyntaxError\u001b[0m\u001b[1;31m:\u001b[0m invalid syntax\n"
     ]
    }
   ],
   "source": [
    "#crear una poblacion (poblacion2) de 1000 personas con media 77 y sigma 1.2\n",
    "\n",
    "\n",
    "poblacion2 = np.random.normal(.....\n",
    "\n"
   ]
  },
  {
   "cell_type": "code",
   "execution_count": null,
   "metadata": {
    "id": "rSNHb9_rhAUE"
   },
   "outputs": [],
   "source": [
    "#graficar ambas poblaciones\n",
    "\n",
    "#en este caso para hacer comparables las distribuciones debemos trabajar con la frecuencia relativa (density=True)\n",
    "\n",
    "plt.figure(figsize=(10, 4)) #tamaño grafico\n",
    "plt.hist(poblacion, 20, density=True, cumulative=False, color='r', alpha=0.5, label=\"nuevos\") #con 20 clases y color rojo\n",
    "#Incorporar poblacion inicial\n",
    "plt.hist(poblacion2, 20, density=True, color='b', alpha=0.5,label=\"antiguos\") \n",
    "plt.legend()\n",
    "plt.show()"
   ]
  },
  {
   "cell_type": "code",
   "execution_count": null,
   "metadata": {
    "id": "9mpF8PoJhr3q"
   },
   "outputs": [],
   "source": [
    "#cambia colores y cantidad de clases\n",
    "\n",
    "#que observas en los graficos?\n",
    "\n"
   ]
  },
  {
   "cell_type": "markdown",
   "metadata": {
    "id": "ZrRuQoBKh8B5"
   },
   "source": [
    "## 4) Distribuciones\n",
    "\n",
    "###4.1) Normal\n",
    "Las distribuciones normales representan más del 50% de los fenomenos industriales estudiados. Esta distribución es de carácter continuo (no discreta).\n",
    "\n",
    "Los parámetros de media, mediana y moda en una distribución normal son iguales.\n",
    "\n",
    "La media corresponde al punto en la curva en el cual la pendiente (primera derivada) es cero, y la desviación estándar corresponde a la diferencia de los valores entre el punto de la media y el punto en la curva en los cuales la pendiente cambia de dirección (segunda derivada es 0).\n",
    "\n",
    "A considerar:\n",
    "Entre el primer sigma ($\\sigma$) positivo y el primer sigma negativo se encuentra el 68% de los casos.\n",
    "Entre el segundo sigma positivo y el segundo sigma negativo se encuentra el 95,5% de los casos.\n",
    "Entre el tercer sigma positivo y el tercer sigma negativo se encuentra el 99,73% de los casos."
   ]
  },
  {
   "cell_type": "code",
   "execution_count": null,
   "metadata": {
    "id": "ZBr5bo6oiSDL"
   },
   "outputs": [],
   "source": [
    "#crea una distribucion normal aqui\n",
    "\n"
   ]
  },
  {
   "cell_type": "code",
   "execution_count": null,
   "metadata": {
    "id": "byVJ_vUBiZGi"
   },
   "outputs": [],
   "source": [
    "#calculas sus parametros Mu, Sigma, la mediana, y el segundo cuartil y el percentil 50\n",
    "\n"
   ]
  },
  {
   "cell_type": "markdown",
   "metadata": {
    "id": "I-PklI0tjVkR"
   },
   "source": [
    "###4.2) Test de Normalidad\n",
    "Para comprobar si los datos de nuestra población o muestra siguen una distribución normal, utilizaremos un test de normalidad denominado Anderson-Darling, el cual evalúa la hipótesis (y su correspondiente hipótesis nula) de que los datos siguen una distribuión normal:\n",
    "\n",
    "H 0  :: los datos siguen una distribución normal\n",
    "\n",
    "H 1  :: los datos NO siguen una distribución normal\n",
    "\n",
    "Si el valor arrojado (Test estadístico de Anderson-Darling) es menor al valor crítico dado para un cierto nivel de significanci (e.g.: 5%), no se rechaza la hipótesis H0 , i.e., los datos tienen una distribución normal."
   ]
  },
  {
   "cell_type": "code",
   "execution_count": null,
   "metadata": {
    "colab": {
     "base_uri": "https://localhost:8080/"
    },
    "id": "4-fl8B4Ajn-0",
    "outputId": "dafcfdc1-49da-4e24-ed76-db1fecbeba18"
   },
   "outputs": [],
   "source": [
    "# Ejecutemos el Test de normalidad de Anderson Darling usaremos libreria Scipy Stats\n",
    "\n",
    "stats.anderson(poblacion, dist='norm')"
   ]
  },
  {
   "cell_type": "markdown",
   "metadata": {
    "id": "yNI5q3yRj3f3"
   },
   "source": [
    "Dado que los datos son normales, podemos realizar algunos cálculos de probabilidad, como por ejemplo:\n",
    "\n",
    "Calcular la probabilidad de que tomemos a una persona al azar y esta tenga un peso menor que 72 kg.\n",
    "\n",
    "Para responder esto usaremos la Tabla Z (normal) acumulada, aplicando la siguiente fórmula:\n",
    "\n",
    "Z = (X - mu) /sigma\n",
    "\n",
    "donde X es el valor buscado, en este ejemplo 72 kg."
   ]
  },
  {
   "cell_type": "code",
   "execution_count": null,
   "metadata": {
    "id": "O9DCHHZMj2Vi"
   },
   "outputs": [],
   "source": [
    "#Calcular la prob de que una persona de la población pese menos de 72 kg\n",
    "\n",
    "x = 72 # Valor al que queremos calcular su probabilidad acumulada\n",
    "mu = np.mean(poblacion) \n",
    "sigma = np.std(poblacion)\n",
    "\n",
    "Z = (x - mu) / sigma\n",
    "\n",
    "prob72= stats.norm.cdf(Z) # Probabilidad acumulada de infinito negativo al valor buscado\n",
    "print('prob pesar menos de 72 kg: ', prob72)\n",
    "\n",
    "#Otra forma sin aplicar Z, es usar libreria Scipy\n",
    "prob72b = stats.norm(mu, sigma).cdf(x)\n",
    "print('otra forma: ',prob72b)"
   ]
  },
  {
   "cell_type": "code",
   "execution_count": null,
   "metadata": {
    "id": "h9LfLnU3kZRf"
   },
   "outputs": [],
   "source": [
    "#Calcular la probabilidad de que una persona pese entre 73 y 75 kilogramos\n",
    "\n",
    "\n",
    "\n"
   ]
  },
  {
   "cell_type": "markdown",
   "metadata": {
    "id": "VvatY1A-kis9"
   },
   "source": [
    "###4.3) Triangular\n",
    "\n",
    "Esta distribución es muy simple de utilizar (es continua), y la podemos aplicar cuando tenemos pocos datos y quisieramos simular la distribución de la variable de estudio. En este caso debemos hablamos con los expertos y preguntamos 3 parametros:\n",
    "\n",
    "* valor mínimo\n",
    "* Valor más probable\n",
    "* valor más alto\n"
   ]
  },
  {
   "cell_type": "code",
   "execution_count": null,
   "metadata": {
    "id": "NGRwerIPk1eo"
   },
   "outputs": [],
   "source": [
    "#Ejemplo queremos simular el tiempo de que esperan los clientes en el proceso de atención de una sucursal\n",
    "min= 12\n",
    "mp = 44 #mas probable\n",
    "max= 58\n",
    "size= 100\n",
    "\n",
    "tiempo = np.random.triangular(min, mp, max, size)\n",
    "print(tiempo)\n",
    "\n",
    "\n"
   ]
  },
  {
   "cell_type": "markdown",
   "metadata": {
    "id": "Ac1w1wldk4cG"
   },
   "source": [
    "###4.4) Gamma\n",
    "La distribución Gamma se utiliza con variables continuas (no discretas) que siguen una forma asimétrica (no normales). Ejemplos de fenómenos que se describen con esta distribución son: tiempo de duración de procesos o ciclos productivos, vida útil de baterías y componentes eléctricos, vida de los seres vivos, caducidad de bienes perecibles, tiempo entre llegadas de pedidos de clientes, tiempo entre un despiegue a producción y otro, etc.\n",
    "\n",
    "Crearemos una distribución del tipo Gamma aleatoria en la cual se utilizan dos parámetros:\n",
    "\n",
    "$\\color{red} \\alpha$ : representa el parámetro de la forma\n",
    "$\\color{red} \\beta$ : representa el parámetro de la escala\n",
    "$\\color{red}n$ : tamaño de la población o muetra según el caso\n",
    "\n",
    "\n",
    "Nota:\n",
    "\n",
    "La media de una distribución Gamma se calcula $\\color{red}{\\alpha * \\beta}$\n",
    "La desviación estándar es $\\color{red}{\\sqrt{\\alpha} * \\beta}$"
   ]
  },
  {
   "cell_type": "code",
   "execution_count": null,
   "metadata": {
    "id": "DSLVIcf9lP3E"
   },
   "outputs": [],
   "source": [
    "#Crear un distribucion gamma para estudiar el tiempo de ciclo de un proceso de desarrollo de sw, que tiene media = 4.2 días\n",
    "#definimos los parámetros\n",
    "a= 1.5\n",
    "b= 2.8\n",
    "size= 100\n",
    "\n",
    "tiempo_sw = np.random.gamma(a, b, size)\n",
    "\n",
    "plt.hist(tiempo_sw)\n",
    "plt.show\n",
    "\n"
   ]
  },
  {
   "cell_type": "code",
   "execution_count": null,
   "metadata": {
    "id": "cL3ovqvmlS4s"
   },
   "outputs": [],
   "source": [
    "#calcule los parametros media y sigma\n",
    "\n",
    "\n"
   ]
  },
  {
   "cell_type": "markdown",
   "metadata": {
    "id": "JAxxfEIellVp"
   },
   "source": [
    "###4.5) Poisson\n",
    " \n",
    "La distribución Poisson se utiliza para contar de forma \"discreta\". Por ejemplo: cantidad de hijos, personas en una fila, camiones entrando a puerto, DPU (defector por unidad), pérdida de maletas por vuelo, cantidad de producción diaria, etc.\n",
    "\n",
    "Crearemos una distribución del tipo Poisson aleatoria en la cual se utilizan dos parámetros:\n",
    "\n",
    "$\\color{red}{\\lambda}$ (lambda) :: representa a la media de la población o muestra (e.g.: cantidad de personas promedio que llegana una cola de un banco por unidad de tiempo (hora)\n",
    "$\\color{red}n$ :: tamaño de la población o muetra según el caso\n",
    "Nota:\n",
    "\n",
    "* La media de una distribución Poisson es $\\color{red}{\\lambda}$\n",
    "\n",
    "\n",
    "* La desviación estándar es $\\color{red}{\\sqrt{\\lambda}}$"
   ]
  },
  {
   "cell_type": "code",
   "execution_count": null,
   "metadata": {
    "id": "bARme1JllpdI"
   },
   "outputs": [],
   "source": [
    "# Generemos una simulacion de la velocidad de un equipo de desarrollo de SW, quienes implementan en \n",
    "#promedio 3,3 funcionalidades por semana\n",
    "\n",
    "lambd = 3.3\n",
    "size = 100\n",
    "\n",
    "velocidad = np.random.poisson(lambd, size)\n"
   ]
  },
  {
   "cell_type": "code",
   "execution_count": null,
   "metadata": {
    "id": "8Qgw-Vi2mCOB"
   },
   "outputs": [],
   "source": [
    "#Calcular los parametros mu y sigma\n",
    "\n"
   ]
  },
  {
   "cell_type": "code",
   "execution_count": null,
   "metadata": {
    "id": "k-Os-3LFmM2R"
   },
   "outputs": [],
   "source": [
    "#Graficar histograma\n",
    "plt.hist(velocidad)\n",
    "plt.show"
   ]
  },
  {
   "cell_type": "code",
   "execution_count": null,
   "metadata": {
    "id": "0t7BZ8iyma0S"
   },
   "outputs": [],
   "source": [
    "#Cual es la probabilidad de entregar entre 0 y 4 funcionalidades\n",
    "#usar probabilidad de funcion cuantia/masa : .pmf\n",
    "\n",
    "cero = stats.poisson(lambd).pmf(0)  \n",
    "una = stats.poisson(lambd).pmf(1) \n",
    "dos= stats.poisson(lambd).pmf(2)\n",
    "tres = stats.poisson(lambd).pmf(3)     \n",
    "cuatro = stats.poisson(lambd).pmf(4)  \n",
    "print ('prob entre 0 y 4 es: ', (cero + una + dos + tres + cuatro))\n",
    "\n",
    "#Otra forma es usar de STATS la funcion de dist. acumulada:  .cdf\n",
    "otra= stats.poisson(lambd).cdf(4)\n",
    "print('otra forma; ', otra)\n",
    "\n"
   ]
  },
  {
   "cell_type": "markdown",
   "metadata": {
    "id": "ZakpiMZZnyte"
   },
   "source": [
    "## 5) Dados, y TLC\n",
    "\n"
   ]
  },
  {
   "cell_type": "code",
   "execution_count": null,
   "metadata": {
    "id": "xfIreK1Mn5po"
   },
   "outputs": [],
   "source": [
    "#Lanzar 2 dados y sumar\n",
    "#partir 10 veces y luego con 10.000 lanzamiento\n",
    "\n",
    "n = 10\n",
    "min = 1\n",
    "max = 7\n",
    "\n",
    "dado1 = np.random.randint(min, max, n)\n",
    "dado2 = np.random.randint(min, max,n)\n",
    "sumadados = dado1+dado2\n",
    "#print(dado1)\n",
    "#print(dado2)\n",
    "#print(sumadados)\n",
    "\n",
    "#graficar histograma con datos muestra\n",
    "plt.hist(dado1, range(0, 8, 1))\n",
    "plt.show()\n",
    "\n",
    "#graficar histograma con datos muestra\n",
    "plt.hist(dado2, range(0, 8, 1))\n",
    "plt.show()\n",
    "\n",
    "#graficar histograma con datos muestra\n",
    "plt.hist(sumadados, range(0, 14, 1))\n",
    "plt.show()"
   ]
  },
  {
   "cell_type": "markdown",
   "metadata": {
    "id": "TnTRn--9n41g"
   },
   "source": [
    "que observa??"
   ]
  },
  {
   "cell_type": "markdown",
   "metadata": {
    "id": "RpfGIW2mpK05"
   },
   "source": [
    "## 6) Intervalos de confianza\n",
    "\n",
    "\n",
    "**Vamos a ejercitar intervalos de confianza para la media poblacional**\n",
    "\n",
    "<img src='https://drive.google.com/uc?export=view&id=1eme-xoJHHrRm4IvgDoPaAL_N7oErlLHn' width=\"800\" align=\"left\" style=\"margin-right: 20px\"> \n",
    "<br>\n",
    "\n",
    "<p style=\"font-size:8pt\"> \n",
    "Imagen gentileza de: Roberto Moraga</p>"
   ]
  },
  {
   "cell_type": "markdown",
   "metadata": {
    "id": "eeplqtvgpVg7"
   },
   "source": [
    "###6.1) \n",
    "Se extrajo una muestra aleatoria de 172 clientes de la nueva APP de compras \"cornerTop\", y se les pidió que recordaran su última experiencia de compra para evaluar el servicio recibido en una escala de 1 (muy insatisfecho) a 5 (muy satisfecho). La satisfacción de los clientes recibió una calificación media de 4,38 con una desviación std. muestral de 0,70.\n",
    "\n",
    "a) Calcular un Intervalo de confianza del 95% para la media poblacional.\n",
    "\n",
    "b) Calcular un Intervalo de confianza del 99% para la media poblacional."
   ]
  },
  {
   "cell_type": "code",
   "execution_count": null,
   "metadata": {
    "id": "VFirxzDbpUq4"
   },
   "outputs": [],
   "source": [
    "\n",
    "#Caso al 95%\n",
    "#primero registrar los datos\n",
    "\n",
    "n= 172\n",
    "xbar = 4.38\n",
    "S = 0.7\n",
    "\n",
    "# IC con NC 95%\n",
    "NC = 0.95\n",
    "alpha = 1-NC\n",
    "alpha_medio = alpha/2\n",
    "\n",
    "#Calcular Z con la función de distribucion normal acumulada inversa (ppf)\n",
    "Z = stats.norm.ppf(1 - alpha_medio)\n",
    "print(\"Z\", Z)\n",
    "\n",
    "LI = xbar - Z *(S / np.sqrt(n))\n",
    "LS = xbar + Z *(S / np.sqrt(n))\n",
    "\n",
    "print('IC al ',NC, ' para media poblacional: ',(LI,LS))\n",
    "\n",
    "\n",
    "#Forma simple con Stats\n",
    "IC95 = stats.norm.interval(NC, loc = xbar, scale = S /np.sqrt(n))\n",
    "print('IC al', NC, 'para media poblacional: ', IC95)\n",
    "\n",
    "\n",
    "\n"
   ]
  },
  {
   "cell_type": "code",
   "execution_count": null,
   "metadata": {
    "id": "JkXBaRbSp0tS"
   },
   "outputs": [],
   "source": [
    "#aplicar aquí para caso al 99%\n",
    "\n",
    "#su codigo aqui\n",
    "\n"
   ]
  },
  {
   "cell_type": "markdown",
   "metadata": {
    "id": "odqn0NyRp39F"
   },
   "source": [
    "Su conclusión aquí: ...............\n"
   ]
  },
  {
   "cell_type": "markdown",
   "metadata": {
    "id": "-QQ3wKLMqDbG"
   },
   "source": [
    "###6.2) \n",
    "Un artículo públicado en el Journal of testing and Evaluation presenta las siguientes 20 mediciones del tiempo de combustión residual (en segundos) de especimenes tratados de ropa de dormir para niños:\n",
    "\n",
    "tiempo = (9.85, 9.93, 9.75, 9.77, 9.67, 9.87, 9.67, 9.94, 9.85, 9.75, 9.83, 9.92, 9.74, 9.99, 9.88, 9.95, 9.95, 9.93, 9.92, 9.89)\n",
    "\n",
    "a) Se desea encontrar un IC del 95% para el tiempo de combustion residual promedio."
   ]
  },
  {
   "cell_type": "code",
   "execution_count": null,
   "metadata": {
    "id": "R3jr0OXuqGEB"
   },
   "outputs": [],
   "source": [
    "# n < 30, y se desconoce la desv. std poblacional, por tanto aplicar T (distribucion de Student)\n",
    "\n",
    "#Datos 20 mediciones\n",
    "tiempo = (9.85, 9.93, 9.75, 9.77, 9.67, 9.87, 9.67, 9.94, 9.85, 9.75, 9.83, 9.92, 9.74, 9.99, 9.88, 9.95, 9.95, 9.93, 9.92, 9.89)\n",
    "\n",
    "#primero registrar los datos\n",
    "n= np.size(tiempo)\n",
    "xbar = np.mean(tiempo)\n",
    "S = np.std(tiempo, ddof=1) # divide en n-1 para sacar desv. std insesgada\n",
    "#sigma = ? # aca no la conocemos\n",
    "\n",
    "# IC con NC 95%\n",
    "NC = 0.95\n",
    "alpha = 1-NC\n",
    "alpha_medio = alpha/2\n",
    "\n",
    "#Calcular T con la función de distribucion T acumulada inversa (ppf)\n",
    "T = stats.t.ppf(1-alpha_medio, df=(n-1))# n-1 grados de libertad\n",
    "print('T: ', T)\n",
    "\n",
    "LI = xbar - T *(S / np.sqrt(n))\n",
    "LS = xbar + T *(S / np.sqrt(n))\n",
    "\n",
    "print('IC al ',NC, ' para media poblacional: ',(LI,LS))\n",
    "\n",
    "\n",
    "#Forma simple con Stats (no es necesario sacar alpha/2)\n",
    "\n",
    "IC95 = stats.t.interval(NC, n-1, loc=xbar, scale=S /np.sqrt(n)) \n",
    "\n",
    "print('IC al', NC, 'para media poblacional: ', IC95)"
   ]
  },
  {
   "cell_type": "code",
   "execution_count": null,
   "metadata": {
    "id": "5G9Te2qNqnu4"
   },
   "outputs": [],
   "source": [
    "#si nos dicen que el sigma poblacional es 0.11\n",
    "#calcular el IC con el mismo nivel de significancia anterior\n",
    "\n",
    "\n"
   ]
  },
  {
   "cell_type": "markdown",
   "metadata": {
    "id": "hgnVd47WrMeh"
   },
   "source": [
    "**Guia para STATS**\n",
    "\n",
    "pdf: Probability Density Function\n",
    "\n",
    "cdf: Cumulative Distribution Function\n",
    "\n",
    "sf: Survival Function (1-CDF)\n",
    "\n",
    "ppf: Percent Point Function (Inverse of CDF)\n",
    "\n",
    "isf: Inverse Survival Function (Inverse of SF)\n",
    "\n",
    "https://docs.scipy.org/doc/scipy/reference/stats.html"
   ]
  },
  {
   "cell_type": "markdown",
   "metadata": {
    "id": "VSUH1gXLv6rA"
   },
   "source": [
    "##7) Test de hipotesis"
   ]
  },
  {
   "cell_type": "markdown",
   "metadata": {
    "id": "JO4kDotbrO47"
   },
   "source": [
    "\n",
    "\n",
    "###7.1) Ejercicio:  Talla de los hombres\n",
    "\n",
    "Se desea contrastar con un nivel de significación del 5 % la hipótesis de que la talla media de los hombres de 18 o más años de un país es igual a 180. Suponiendo que la desviación estandar de las tallas en la población es 4, contraste dicha hipótesis frente a la alternativa de que es distinta.\n",
    "\n",
    "altura= (167, 167, 168, 168, 168, 169, 171, 172, 173, 175, 175, 175, 177, 182, 195)"
   ]
  },
  {
   "cell_type": "code",
   "execution_count": null,
   "metadata": {
    "id": "UWnM6QurrOQ_"
   },
   "outputs": [],
   "source": [
    "#cargar data de la muestra de 15 hombres seleccionados al azar\n",
    "\n",
    "altura= (167, 167, 168, 168, 168, 169, 171, 172, 173, 175, 175, 175, 177, 182, 195)\n",
    "\n",
    "#se conoce el sigma poblacional , Sigma = 4\n",
    "sigma = 4\n",
    "\n",
    "#calcular estadisticos muestra\n",
    "xbar = np.mean(altura)\n",
    "S = np.std(altura, ddof=1) #desv. std insesgada no es necesaria utilizarla dado que se conoce Sigma\n",
    "n = np.size(altura)\n",
    "\n",
    "print('sigma poblacion: ', sigma)\n",
    "print('Xbarra: ',xbar)\n",
    "print('S: ', S)\n",
    "print('tamaño muestra: ', n)"
   ]
  },
  {
   "cell_type": "code",
   "execution_count": null,
   "metadata": {
    "id": "Lenj1ap4rxHN"
   },
   "outputs": [],
   "source": [
    "#como n < 30 y sí se conoce Sigma, aplicaremos Z \n",
    "#asumimos que datos se distribuyen normal X-N(mu, 4)\n",
    "\n",
    "#Definir hipotesis a contrastar\n",
    "#H0:   Mu = 180\n",
    "#H1:   Mu ≠  180\n",
    "\n",
    "#Regla decisión\n",
    "#no rechazar H0 si: -Zcritico <= Z <= Z crítico\n",
    "#rechazar H0 si:  Z < -Zcritico  o  Z > Zcritico  \n",
    "\n",
    "alpha = 0.05\n",
    "Mu = 180\n",
    "\n",
    "#buscar valor critico de Z\n",
    "Zcritico = stats.norm.ppf(1-(alpha/2))# 2 colas\n",
    "print('Z critico: ', Zcritico)\n",
    "\n",
    "\n",
    "#calcular Estadistico Z\n",
    "Z =  (xbar - Mu) / (sigma / np.sqrt(n)) #utilizar sigma poblacion\n",
    "print('Z: ',Z)\n",
    "\n",
    "#calcular valor-p\n",
    "pvalue = (stats.norm.cdf(Z)) #Z de prueba se encuentra en cola izquierda\n",
    "print('Valor-p: ',pvalue*2)"
   ]
  },
  {
   "cell_type": "markdown",
   "metadata": {
    "id": "Fwl-E_FcsHd6"
   },
   "source": [
    "**Conclusión:**  como estadístico Z es menor que -Zcritico , se rechaza la H0.   La talla media es diferente de 180.\n",
    "\n",
    "**Desarrollo:**\n",
    "<img src='https://drive.google.com/uc?export=view&id=1B4LIDzk_s5jiihxwv3PNeBHqbhgX1TVa' width=\"800\" align=\"left\" style=\"margin-right: 20px\"> \n",
    "<br>\n",
    "\n",
    "<p style=\"font-size:8pt\"> \n",
    "Imagen gentileza de: Roberto Moraga</p>"
   ]
  },
  {
   "cell_type": "markdown",
   "metadata": {
    "id": "dZsr19XOsap8"
   },
   "source": [
    "---\n",
    "###7.2) Ejercicio: Rentabilidad fondos de inversión\n",
    "\n",
    "Sea X la variable ”rentabilidad de cierto tipo de fondos de inversión tras una apreciación fuerte del marco con respecto al dólar”. Se considera que la media de esta variable es 15. Un economista afirma que dicha rentabilidad media ha variado, por lo que lleva a cabo un estudio en las condiciones reseñadas anteriormente sobre una muestra de 9 fondos cuya media muestral resulta ser de 15,308 y cuya varianza muestral es 0,193.\n",
    "\n",
    "a) Especificando las hipótesis necesarias, contrastar la afirmación del economista al 5 %. \n"
   ]
  },
  {
   "cell_type": "code",
   "execution_count": null,
   "metadata": {
    "id": "i9-8pPPSsaJL"
   },
   "outputs": [],
   "source": [
    "#como n < 30 y no se conoce Sigma, aplicaremos T Student\n",
    "\n",
    "#calcular estadisticos muestra\n",
    "xbar = 15.308\n",
    "S2 = 0.193 #varianza muestral\n",
    "S = np.sqrt(S2) #desv. std muestral insesgada (asumimos)\n",
    "n = 9\n",
    "\n",
    "print('Xbarra: ',xbar)\n",
    "print('S: ', S)\n",
    "print('tamaño muestra: ', n)\n",
    "\n",
    "\n",
    "#Definir hipotesis a contrastar\n",
    "#H0:   Mu = 15\n",
    "#H1:   Mu ≠ 15\n",
    "\n",
    "alpha = 0.05\n",
    "Mu = 15\n",
    "\n",
    "#calcular valor critico de T\n",
    "Tcritico = stats.t.ppf(1-(alpha/2), df=(n-1))# n-1 grados de libertad y 2 colas\n",
    "print('T critico: ', Tcritico)\n",
    "\n",
    "\n",
    "#calcular Estadistico T\n",
    "T =  (xbar - Mu) / (S / np.sqrt(n))\n",
    "print('T: ',T)\n",
    "\n",
    "#calcular valor-p\n",
    "pvalue = 1 - (stats.t.cdf(T, df=(n-1)))# T prueba se encuentra en cola derecha\n",
    "print('Valor-p: ',pvalue*2) #2 colas"
   ]
  },
  {
   "cell_type": "markdown",
   "metadata": {
    "id": "volXUDAXt2_K"
   },
   "source": [
    "Conclusión:  como T de prueba se encuentra entre +- Tcritico , no se rechaza la H0.   No existe evidencia para afirmar que la rentabilidad ha cambiado.\n",
    "\n",
    "**Desarrollo:**\n",
    "<img src='https://drive.google.com/uc?export=view&id=1hzwZmpR_1Gy0edg7paSYs9dOPlmbWCku' width=\"800\" align=\"left\" style=\"margin-right: 20px\"> \n",
    "<br>\n",
    "\n",
    "<p style=\"font-size:8pt\"> \n",
    "Imagen gentileza de: Roberto Moraga</p>"
   ]
  },
  {
   "cell_type": "markdown",
   "metadata": {
    "id": "f43F9JdOttRr"
   },
   "source": [
    "a) Especificando las hipótesis necesarias, contrastar la afirmación del economista al 1 %."
   ]
  },
  {
   "cell_type": "code",
   "execution_count": 8,
   "metadata": {
    "id": "HNqTJ4xutvqi"
   },
   "outputs": [],
   "source": [
    "#su codigo aqui\n",
    "\n",
    "\n"
   ]
  },
  {
   "cell_type": "markdown",
   "metadata": {
    "id": "L-vvnsuOuUG6"
   },
   "source": [
    "\n",
    "\n",
    "\n",
    "---\n",
    "###7.3) Ejercicio: Control de calidad de los dulces M&M\n",
    "\n",
    "Se adjuntan los pesos de 13 dulces M&M rojos, elegidos de una bolsa que contiene 465 M&M. A continuación se presentan los pesos (en gramos), los cuales tienen una media 𝑥 ̅=0,8635 y una desviación estándar de 𝑆=0,0576 𝑔. En el empaque se afirma que el peso neto del contenido es 396,9 g. de manera que los M&M deben tener un peso medio de al menos 396,9/465=0,8535 g. para dar la cantidad anunciada. Utilice los datos muestrales con un nivel de significancia de 0,05, para probar la aseveración que hizo un gerente de producción que los M&M tienen en realidad una media mayor que 0,8535 g. de manera que los consumidores están recibiendo más que la cantidad en la etiqueta. \n",
    "\n",
    "dulces = (0.751, 0.841, 0.856, 0.799, 0.966, 0.859, 0.857, 0.942, 0.873, 0.809, 0.890, 0.878, 0.905)\n"
   ]
  },
  {
   "cell_type": "code",
   "execution_count": null,
   "metadata": {
    "id": "OqNWzC60u3od"
   },
   "outputs": [],
   "source": [
    "#su codigo aqui\n",
    "\n",
    "\n",
    "\n",
    "\n"
   ]
  }
 ],
 "metadata": {
  "colab": {
   "name": "Inferencia con python.ipynb",
   "provenance": []
  },
  "kernelspec": {
   "display_name": "Python 3",
   "language": "python",
   "name": "python3"
  },
  "language_info": {
   "codemirror_mode": {
    "name": "ipython",
    "version": 3
   },
   "file_extension": ".py",
   "mimetype": "text/x-python",
   "name": "python",
   "nbconvert_exporter": "python",
   "pygments_lexer": "ipython3",
   "version": "3.7.5"
  }
 },
 "nbformat": 4,
 "nbformat_minor": 1
}
