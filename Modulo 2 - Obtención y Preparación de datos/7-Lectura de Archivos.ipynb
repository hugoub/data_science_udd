{
 "cells": [
  {
   "cell_type": "markdown",
   "metadata": {
    "id": "w5HREB_GMmYG"
   },
   "source": [
    "# <font color='blue'>**Herramientas de Entrada/Salida (I/O)**</font>\n",
    "\n",
    "**Pandas** nos entrega un conjunto de funciones de lectura (*readers*) de alto nivel a las que por ejemplo se puede acceder como **pandas.read_csv()**, las que generalmente devuelven un objeto pandas. Las funciones de escritura (*writers*) correspondientes son métodos a los que se puede acceder popr ejemplo como **DataFrame.to_csv()**.\n",
    "\n",
    "A continuación se muestra una tabla que contiene los *readers* y *writers* disponibles.\n",
    "\n",
    "\n",
    "|   Tipo de Formato   | Descripción de la Data |  Reader  |  Writer |\n",
    "| -------             | :-----                 |  :-----: | :-----: |\n",
    "| text   |  CSV |  read_csv | to_csv |\n",
    "| text |  Fixed-Width Text File| read_fwf |  |\n",
    "| text   |  JSON | read_json | to_json |\n",
    "| text   |  HTML |  read_html | to_html |\n",
    "| text    |  Local clipboard|  read_clipboard | to_clipboard |\n",
    "|    |  MS Excel |  read_excel | to_excel |\n",
    "| binary   |  OpenDocument |  read_excel |  |\n",
    "| binary |  HDF5 Format| read_hdf | to_hdf |\n",
    "| binary   |  Feather Format | read_feather | to_feather |\n",
    "| binary   |  Parquet Format |  read_parquet | to_parquet |\n",
    "| binary    |  ORC Format|  read_orc | |\n",
    "| binary   |  Msgpack |  read_msgpack | to_msgpack |\n",
    "| binary |  Stata| read_stata | to_stata |\n",
    "| binary   |  SAS | read_sas |  |\n",
    "| binary   |  SPSS |  read_spss |  |\n",
    "| binary    | Python Pickle Format|  read_pickle | to_pickle |\n",
    "| SQL   |  SQL |  read_sql | to_sql |\n",
    "| SQL    | Google BigQuery|  read_gbq | to_gbq |\n",
    "\n",
    "El detalle de cada una de las funciones se encuentra en el siguiente <a href=\"https://pandas.pydata.org/pandas-docs/stable/user_guide/io.html\">link</a>."
   ]
  },
  {
   "cell_type": "markdown",
   "metadata": {
    "id": "Xer0wThDoIao"
   },
   "source": [
    "# <font color='blue'>**CSV y Archivos de Texto**</font>\n"
   ]
  },
  {
   "cell_type": "markdown",
   "metadata": {
    "id": "DtSCjcZCYZmX"
   },
   "source": [
    "## <font color='blue'>**Opciones de Análisis**</font>\n",
    "\n",
    "La función principal para leer archivos de texto (también conocidos como archivos planos) es **read_csv()**.\n",
    "\n",
    "### <font color='blue'>**Argumentos Básicos**</font>\n",
    "\n",
    "Acepta los siguientes argumentos comunes:\n",
    "\n",
    "* **filepath_or_buffer** (varios): una **ruta a un archivo** (str, pathlib.Path o py._path.local.LocalPath), **URL** (incluidas las ubicaciones http, ftp y S3) o cualquier objeto con un método **read()** (como un archivo abierto o StringIO).\n",
    "\n",
    "* **sep** (str, por defecto ',' para read_csv(), \\t para read_table()): delimitador a utilizar. Si **sep** es None, se utilizará y detectará automáticamente el separador mediante la herramienta de rastreo incorporada de Python, **csv.Sniffer**. Además, los separadores de más de 1 carácter y diferentes de **'\\s+'** se interpretarán como expresiones regulares. Los delimitadores de expresiones regulares tienden a ignorar los datos entre comillas.\n",
    "\n",
    "* **delimiter** (str, por defecto *None*): nombre alternativo de argumento para *sep*.\n",
    "\n",
    "* **delim_whitespace** (boolean, por defecto *False*):Especifica si se utilizarán espacios en blanco (por ejemplo, ' ' o '\\t') como delimitador. Equivalente a establecer **sep = '\\s+'**. Si esta opción se establece en *True*, no se debe pasar nada para el parámetro *delimiter*.\n",
    "\n",
    "### <font color='blue'>**Ubicación de columnas e Índices y Nombres**</font>\n",
    "\n",
    "Otros argumentos importantes:\n",
    "\n",
    "* **header** (int o lista de ints, por defecto *'infer'*): número(s) de fila(s) para usar como nombres de columnas y el inicio de los datos. El comportamiento predeterminado es inferir los nombres de las columnas. Si no se pasan nombres, el comportamiento es idéntico a **header = 0** y los nombres de las columnas se infieren de la primera línea del archivo, si los nombres de las columnas se pasan explícitamente, el comportamiento es idéntico al **header = None**. Se debe pasar explícitamente **header = 0** para poder reemplazar nombres.existentes. El encabezado puede ser una lista de entradas que especifican ubicaciones de filas para un *MultiIndex* en las columnas, por ejemplo [0, 1, 3]. Se omitirán las filas intermedias que no estén especificadas (2 en este ejemplo). Este parámetro ignora las líneas comentadas y las líneas vacías si **skip_blank_lines = True**, por lo que **header = 0** denota la primera línea de datos en lugar de la primera línea del archivo.\n",
    "\n",
    "* **names** (array-like, por defecto *None*): lista de nombres de columnas para usar. Si el archivo no contiene una fila de encabezado, debe pasar explícitamente **header = None**. No se permiten duplicados en esta lista.\n",
    "\n",
    "* **index_col** (int, str, secuencia de int/str, o False, por defecto *None*): columna(s) para usar como etiquetas de fila del *DataFrame*, ya sea como nombre de cadena o índice de columna. Si se proporciona una secuencia de int/str, se utiliza un MultiIndex. **index_col = False** se puede usar para forzar a pandas a no usar la primera columna como índice, por ejemplo, cuando se tiene un archivo con formato incorrecto con delimitadores al final de cada línea. El valor predeterminado de *None* indica a pandas que debe adivinar. Si el número de campos en la fila del encabezado de la columna es igual al número de campos en el cuerpo del archivo, se usa un índice predeterminado. Si es uno más grande, entonces el primer campo se usa como índice.\n",
    "\n",
    "* **usecols** (list-like or callable, por defecto None): Devuelve un subconjunto de las columnas. Si es similar a una lista, todos los elementos deben ser posicionales (es decir, índices enteros en las columnas del documento) o cadenas que correspondan a los nombres de columna proporcionados por el usuario en los nombres o inferidos de la(s) fila(s) del encabezado del documento. Por ejemplo, un parámetro de **usecols** de tipo lista válido sería [0, 1, 2] o ['foo', 'bar', 'baz']. El orden de los elementos se ignora, por lo que **usecols = [0, 1]** es lo mismo que [1, 0]."
   ]
  },
  {
   "cell_type": "code",
   "execution_count": 1,
   "metadata": {
    "id": "tTdCt3Moi4_5"
   },
   "outputs": [
    {
     "name": "stdout",
     "output_type": "stream",
     "text": [
      "col1,col2,col3\n",
      "a,b,1\n",
      "a,b,2\n",
      "c,d,3\n"
     ]
    }
   ],
   "source": [
    "import pandas as pd\n",
    "from io import StringIO\n",
    "\n",
    "data = ('col1,col2,col3\\n'\n",
    "                'a,b,1\\n'\n",
    "                'a,b,2\\n'\n",
    "                'c,d,3')\n",
    "print(data)"
   ]
  },
  {
   "cell_type": "code",
   "execution_count": 2,
   "metadata": {
    "id": "uxYFzv19j7aY"
   },
   "outputs": [
    {
     "data": {
      "text/html": [
       "<div>\n",
       "<style scoped>\n",
       "    .dataframe tbody tr th:only-of-type {\n",
       "        vertical-align: middle;\n",
       "    }\n",
       "\n",
       "    .dataframe tbody tr th {\n",
       "        vertical-align: top;\n",
       "    }\n",
       "\n",
       "    .dataframe thead th {\n",
       "        text-align: right;\n",
       "    }\n",
       "</style>\n",
       "<table border=\"1\" class=\"dataframe\">\n",
       "  <thead>\n",
       "    <tr style=\"text-align: right;\">\n",
       "      <th></th>\n",
       "      <th>col1</th>\n",
       "      <th>col2</th>\n",
       "      <th>col3</th>\n",
       "    </tr>\n",
       "  </thead>\n",
       "  <tbody>\n",
       "    <tr>\n",
       "      <th>0</th>\n",
       "      <td>a</td>\n",
       "      <td>b</td>\n",
       "      <td>1</td>\n",
       "    </tr>\n",
       "    <tr>\n",
       "      <th>1</th>\n",
       "      <td>a</td>\n",
       "      <td>b</td>\n",
       "      <td>2</td>\n",
       "    </tr>\n",
       "    <tr>\n",
       "      <th>2</th>\n",
       "      <td>c</td>\n",
       "      <td>d</td>\n",
       "      <td>3</td>\n",
       "    </tr>\n",
       "  </tbody>\n",
       "</table>\n",
       "</div>"
      ],
      "text/plain": [
       "  col1 col2  col3\n",
       "0    a    b     1\n",
       "1    a    b     2\n",
       "2    c    d     3"
      ]
     },
     "execution_count": 2,
     "metadata": {},
     "output_type": "execute_result"
    }
   ],
   "source": [
    "pd.read_csv(StringIO(data))"
   ]
  },
  {
   "cell_type": "code",
   "execution_count": 3,
   "metadata": {
    "id": "jvi3V9R-kBaN"
   },
   "outputs": [
    {
     "data": {
      "text/html": [
       "<div>\n",
       "<style scoped>\n",
       "    .dataframe tbody tr th:only-of-type {\n",
       "        vertical-align: middle;\n",
       "    }\n",
       "\n",
       "    .dataframe tbody tr th {\n",
       "        vertical-align: top;\n",
       "    }\n",
       "\n",
       "    .dataframe thead th {\n",
       "        text-align: right;\n",
       "    }\n",
       "</style>\n",
       "<table border=\"1\" class=\"dataframe\">\n",
       "  <thead>\n",
       "    <tr style=\"text-align: right;\">\n",
       "      <th></th>\n",
       "      <th>col1</th>\n",
       "      <th>col3</th>\n",
       "    </tr>\n",
       "  </thead>\n",
       "  <tbody>\n",
       "    <tr>\n",
       "      <th>0</th>\n",
       "      <td>a</td>\n",
       "      <td>1</td>\n",
       "    </tr>\n",
       "    <tr>\n",
       "      <th>1</th>\n",
       "      <td>a</td>\n",
       "      <td>2</td>\n",
       "    </tr>\n",
       "    <tr>\n",
       "      <th>2</th>\n",
       "      <td>c</td>\n",
       "      <td>3</td>\n",
       "    </tr>\n",
       "  </tbody>\n",
       "</table>\n",
       "</div>"
      ],
      "text/plain": [
       "  col1  col3\n",
       "0    a     1\n",
       "1    a     2\n",
       "2    c     3"
      ]
     },
     "execution_count": 3,
     "metadata": {},
     "output_type": "execute_result"
    }
   ],
   "source": [
    "pd.read_csv(StringIO(data), usecols=lambda x: x.upper() in ['COL1', 'COL3'])"
   ]
  },
  {
   "cell_type": "markdown",
   "metadata": {
    "id": "90eJPCyhnD4f"
   },
   "source": [
    "* **squeeze** (boolean, por defecto *False*): si los datos analizados solo contienen una columna, devuelve una serie.\n",
    "\n",
    "* **prefix** (str, por defecto *None*): prefijo para agregar a los números de columna cuando no hay encabezado, por ejemplo, \"X\" para X0, X1, ...\n",
    "\n",
    "* **mangle_dupe_cols** (boolean, por defecto *True*): las columnas duplicadas se especificarán como \"X\", \"X.1\" ... \"X.N\", en lugar de \"X\" ... \"X\". Pasar *False* hará que los datos se sobrescriban si hay nombres duplicados en las columnas.\n",
    "\n"
   ]
  },
  {
   "cell_type": "markdown",
   "metadata": {
    "id": "JwsZwkKsoxay"
   },
   "source": [
    "### <font color='blue'>**Configuración General de Análisis**</font>\n",
    "\n",
    "* **dtype** (Type name o dict of column -> type, por defecto *None*): tipo de datos para datos o columnas. Por ejemplo, {'a': np.float64, 'b': np.int32}. Utilice **str** u **object** junto con la configuración adecuada de **na_values** para preservar y no interpretar dtype.\n",
    "\n",
    "* **engine** ({'c', 'python'}): Motor analizador a utilizar. El motor C es más rápido, mientras que el motor Python actualmente tiene más funciones.\n",
    "\n",
    "* **converters** (dict, por defecto *None*): diccionario de funciones para convertir valores en determinadas columnas. Las claves pueden ser números enteros o etiquetas de columna.\n",
    "\n",
    "* **true_values** (list, por defecto *None*): Valores a considerar como verdaderos (*True*).\n",
    "\n",
    "* **false_values** (list, por defecto *None*): valores a considerar como falsos (*False*).\n",
    " \n",
    "* **skipinitialspace** (boolean, por defecto *False*): omitir espacios después del delimitador.\n",
    "\n",
    "* **skiprows** (list-like o integer, por defecto *None*): números de líneas para omitir (indexados en 0) o número de líneas para omitir (int) al comienzo del archivo. Si es invocable, la función invocable se evaluará contra los índices de fila, devolviendo *True* si la fila debe omitirse y *False* en caso contrario:"
   ]
  },
  {
   "cell_type": "code",
   "execution_count": 5,
   "metadata": {
    "id": "T3wjqtZTqxfv"
   },
   "outputs": [
    {
     "data": {
      "text/html": [
       "<div>\n",
       "<style scoped>\n",
       "    .dataframe tbody tr th:only-of-type {\n",
       "        vertical-align: middle;\n",
       "    }\n",
       "\n",
       "    .dataframe tbody tr th {\n",
       "        vertical-align: top;\n",
       "    }\n",
       "\n",
       "    .dataframe thead th {\n",
       "        text-align: right;\n",
       "    }\n",
       "</style>\n",
       "<table border=\"1\" class=\"dataframe\">\n",
       "  <thead>\n",
       "    <tr style=\"text-align: right;\">\n",
       "      <th></th>\n",
       "      <th>col1</th>\n",
       "      <th>col2</th>\n",
       "      <th>col3</th>\n",
       "    </tr>\n",
       "  </thead>\n",
       "  <tbody>\n",
       "    <tr>\n",
       "      <th>0</th>\n",
       "      <td>a</td>\n",
       "      <td>b</td>\n",
       "      <td>1</td>\n",
       "    </tr>\n",
       "    <tr>\n",
       "      <th>1</th>\n",
       "      <td>a</td>\n",
       "      <td>b</td>\n",
       "      <td>2</td>\n",
       "    </tr>\n",
       "    <tr>\n",
       "      <th>2</th>\n",
       "      <td>c</td>\n",
       "      <td>d</td>\n",
       "      <td>3</td>\n",
       "    </tr>\n",
       "  </tbody>\n",
       "</table>\n",
       "</div>"
      ],
      "text/plain": [
       "  col1 col2  col3\n",
       "0    a    b     1\n",
       "1    a    b     2\n",
       "2    c    d     3"
      ]
     },
     "execution_count": 5,
     "metadata": {},
     "output_type": "execute_result"
    }
   ],
   "source": [
    "data = ('col1,col2,col3\\n'\n",
    "                'a,b,1\\n'\n",
    "                'a,b,2\\n'\n",
    "                'c,d,3')\n",
    "pd.read_csv(StringIO(data))"
   ]
  },
  {
   "cell_type": "code",
   "execution_count": 6,
   "metadata": {
    "id": "qYEU08iRq7Vu"
   },
   "outputs": [
    {
     "data": {
      "text/html": [
       "<div>\n",
       "<style scoped>\n",
       "    .dataframe tbody tr th:only-of-type {\n",
       "        vertical-align: middle;\n",
       "    }\n",
       "\n",
       "    .dataframe tbody tr th {\n",
       "        vertical-align: top;\n",
       "    }\n",
       "\n",
       "    .dataframe thead th {\n",
       "        text-align: right;\n",
       "    }\n",
       "</style>\n",
       "<table border=\"1\" class=\"dataframe\">\n",
       "  <thead>\n",
       "    <tr style=\"text-align: right;\">\n",
       "      <th></th>\n",
       "      <th>col1</th>\n",
       "      <th>col2</th>\n",
       "      <th>col3</th>\n",
       "    </tr>\n",
       "  </thead>\n",
       "  <tbody>\n",
       "    <tr>\n",
       "      <th>0</th>\n",
       "      <td>a</td>\n",
       "      <td>b</td>\n",
       "      <td>2</td>\n",
       "    </tr>\n",
       "  </tbody>\n",
       "</table>\n",
       "</div>"
      ],
      "text/plain": [
       "  col1 col2  col3\n",
       "0    a    b     2"
      ]
     },
     "execution_count": 6,
     "metadata": {},
     "output_type": "execute_result"
    }
   ],
   "source": [
    "pd.read_csv(StringIO(data), skiprows=lambda x: x % 2 != 0)"
   ]
  },
  {
   "cell_type": "markdown",
   "metadata": {
    "id": "o1NjcEs-rIfj"
   },
   "source": [
    "* **skipfooter** (int, por defecto 0): Número de líneas en la parte inferior del archivo para omitir (no compatible con **engine = ’c’**).\n",
    "\n",
    "* **nrows** (int, por defecto *None*): Número de filas de archivo para leer. Útil para leer fragmentos de archivos grandes.\n",
    "\n",
    "* **low_memory** (boolean, por defecto *True*): permite procesar internamente el archivo en fragmentos, lo que dará como resultado un menor uso de memoria durante el análisis, pero posiblemente una inferencia de tipos mixtos. Para asegurarse de que no haya tipos mixtos, se debe establecer *False* o especificar el tipo con el parámetro **dtype**. Tenga en cuenta que todo el archivo se lee en un solo DataFrame, use el parámetro **chunksize** o **iterator** para devolver los datos en fragmentos. (Solo válido con *engine* C)\n",
    "\n",
    "* **memory_map** (boolean, por defecto *False*): Si se proporciona una ruta de archivo para **filepath_or_buffer**, asigne el objeto de archivo directamente a la memoria y acceda a los datos directamente desde allí. El uso de esta opción puede mejorar el rendimiento porque ya no hay sobrecarga de I/O.\n"
   ]
  },
  {
   "cell_type": "markdown",
   "metadata": {
    "id": "TsR70Rk9sfC5"
   },
   "source": [
    "### <font color='blue'>**NA y Manejo de Datos Faltantes**</font>\n",
    "\n",
    "* **na_values** (scalar, str, list-like, o dict, por defecto *None*): Cadenas adicionales para reconocer como **NA/NaN**. Si se pasa un diccionario, los valores NA deben ser especificados por columna.\n",
    "\n",
    "* **keep_default_na** (boolean, por defecto *True*): permite definir si incluir o no los valores NaN predeterminados al analizar los datos. Dependiendo de si se pasa **na_values**, el comportamiento es el siguiente:\n",
    "  * Si **keep_default_na** es *True* y se especifican *na_values*, na_values ​​se agrega a los valores predeterminados de NaN usados ​​para el análisis.\n",
    "  * Si **keep_default_na** es *True* y no se especifican *na_values*, solo se utilizan los valores predeterminados de NaN para el análisis.\n",
    "  * Si **keep_default_na** es *False*, y se especifican *na_values*, solo los valores de NaN especificados na_values ​​se utilizan para el análisis.\n",
    "  * Si **keep_default_na** es *False* y no se especifican *na_values*, no se analizarán cadenas como NaN.\n",
    "  \n",
    "* **na_filter** (boolean, por defecto *True*): detecta marcadores de valor perdidos (cadenas vacías y el valor de na_values). En datos sin NA, pasar **na_filter = False** puede mejorar el rendimiento de la lectura de un archivo grande.\n",
    "\n",
    "* **verbose** (boolean, por defecto *False*): indica el número de valores NA colocados en columnas no numéricas.\n",
    "\n",
    "* **skip_blank_lines** (boolean, por defecto *True*): si es True, omite las líneas en blanco en lugar de interpretarlas como valores NaN.\n"
   ]
  },
  {
   "cell_type": "markdown",
   "metadata": {
    "id": "DoF7utz6x5Ef"
   },
   "source": [
    "### <font color='blue'>**Manejo de Fecha y Hora**</font>\n",
    "\n",
    "* **parse_dates** (boolean o lista de enteros o names o listas de listas o diccionarios, por defecto *False*).\n",
    "  * Si True -> intenta analizar el índice.\n",
    "  * Si [1, 2, 3] -> intente analizar las columnas 1, 2, 3 cada una como una columna de fecha separada.\n",
    "  * Si [[1, 3]] -> combina las columnas 1 y 3 y analiza como una sola columna de fecha.\n",
    "  * Si {'foo': [1, 3]} ->  analizar las columnas 1, 3 como fecha y llamar al resultado \"foo\". Existe una ruta rápida para fechas con formato iso8601.\n",
    "\n",
    "* **infer_datetime_format** (boolean, por defecto *False*): Si *True* y *parse_dates* están habilitados para una columna, intente inferir el formato de fecha y hora para acelerar el procesamiento.\n",
    "\n",
    "* **keep_date_col** (boolean, por defecto *False*): Si *True* y *parse_dates* especifica la combinación de varias columnas, mantiene las columnas originales.\n",
    "\n",
    "* **date_parser** (function, por defecto *None*): función a utilizar para convertir una secuencia de columnas de cadena en una matriz de instancias de fecha y hora. El valor predeterminado usa **dateutil.parser.parser** para realizar la conversión. pandas intentará llamar a **date_parser** de tres formas diferentes, avanzando a la siguiente si ocurre una excepción: 1) Pasar una o más matrices (según lo definido por *parse_dates*) como argumentos; 2) concatenar (en filas) los valores de cadena de las columnas definidas por *parse_dates* en una sola matriz y pasar eso; y 3) llamar a *date_parser* una vez para cada fila usando una o más cadenas (correspondientes a las columnas definidas por *parse_dates*) como argumentos.\n",
    "\n",
    "* **dayfirst** (boolean, por defecto *False*): fechas en formato DD/MM, formato internacional y europeo.\n",
    "\n",
    "* **cache_dates** (boolean, por defecto *True*): Si es *True*, usa un caché de fechas convertidas únicas para aplicar la conversión de fecha y hora. Puede producir una aceleración significativa al analizar cadenas de fechas duplicadas, especialmente aquellas con desplazamientos de zona horaria.\n",
    "\n",
    "\n"
   ]
  },
  {
   "cell_type": "markdown",
   "metadata": {
    "id": "w-riUCii2Nq2"
   },
   "source": [
    "### <font color='blue'>**Iteración**</font>\n",
    "\n",
    "* **iterator** (boolean, por defecto *False*):retorna un TextFileReader object para iterar u obtener fragmentos con **get_chunk()**.\n",
    "\n",
    "* **chunksize** (int, por defecto *None*): Devuelve el objeto TextFileReader para iteración.\n"
   ]
  },
  {
   "cell_type": "markdown",
   "metadata": {
    "id": "k_UU7JJm254n"
   },
   "source": [
    "### <font color='blue'>**Quoting, Compresión y Formato de Archivo**</font>\n",
    "\n",
    "* **compression** ({'infer', 'gzip', 'bz2', 'zip', 'xz', None, dict}, por defecto *'infer'*): para descompresión sobre la marcha de datos en disco. Si \"infiere\", utiliza gzip, bz2, zip o xz si *filepath_or_buffer* es una cadena que termina en \".gz\", \".bz2\", \".zip\" o \".xz\", respectivamente, y sin descompresión en caso contrario. Si usa \"zip\", el archivo ZIP debe contener solo un archivo de datos para ser leído. Configure en *None* para no descomprimir. También puede ser un diccionario con la clave **method** establecida en una de las siguientes {'zip', 'gzip', 'bz2'}. Como ejemplo, se podría pasar lo siguiente para una compresión más rápida: **compression={'method': 'gzip', 'compresslevel': 1}**.\n",
    "\n",
    "* **thousands** (str, por defecto *None*): separador de miles.\n",
    "\n",
    "* **decimal** (str, por defecto '.'): caracter a reconocer como punto decimal. Por ejemplo, use ',' para datos europeos.\n",
    "\n",
    "* **float_precision** (string, por defecto *None*): especifica qué convertidor debe usar el motor C para valores de punto flotante. Las opciones son *None* para el convertidor ordinario, *high* para el convertidor de alta precisión y *round_trip* para el convertidor round_trip.\n",
    "\n",
    "* **lineterminator** (str (largo 1), por defecto *None*): caracter para dividir el archivo en líneas. Solo válido con *engine* C.\n",
    "\n",
    "* **quotechar** (str (largo 1)): caracter que se utiliza para indicar el inicio y el final de un elemento citado. Los elementos entre comillas pueden incluir el delimitador y se ignorará.\n",
    "\n",
    "* **quoting** (int o csv.QUOTE_* instance, por defecto 0): comportamiento de citado de campo de control por constantes csv.QUOTE_*. Utilice uno entre **QUOTE_MINIMAL** (0), **QUOTE_ALL** (1), **QUOTE_NONNUMERIC** (2) o **QUOTE_NONE** (3).\n",
    "\n",
    "* **doublequote** (boolean, por defecto *True*): cuando se especifica *quotechar* y citar no es QUOTE_NONE, indica si se deben interpretar o no dos elementos *quotechar* consecutivos dentro de un campo como un solo elemento *quotechar*.\n",
    "\n",
    "* **escapechar** (str (largo 1), por defecto *None*): cadena de un carácter que se usa para escapar del delimitador cuando se cita con QUOTE_NONE.\n",
    "\n",
    "* **comment** (str, por defecto *None*): indica que el resto de la línea no debe analizarse. Si se encuentra al principio de una línea, la línea se ignorará por completo. Este parámetro debe ser de un solo carácter. Al igual que las líneas vacías (siempre que **skip_blank_lines = True**), las líneas con comentarios completos son ignoradas por el encabezado del parámetro pero no por los saltos. Por ejemplo, si **comment = '#'**, analizar **\"#empty \\ na, b, c \\ n1,2,3\"** con **header = 0** dará como resultado que \"a, b, c\" se trate como el encabezado.\n",
    "\n",
    "* **encoding** (str, por defecto *None*): codificación para usar en UTF al leer/escribir (por ejemplo, 'utf-8'). Lista de codificaciones estándar de Python.\n",
    "\n",
    "* **dialect** (str o csv.Dialect instance, por defecto *None*): Si se proporciona, este parámetro anulará los valores (predeterminados o no) para los siguientes parámetros: **delimiter**, **doublequote**, **escapechar**, **skipinitialspace**, **quotechar** y **quoting**. Si es necesario anular los valores, se emitirá un **ParserWarning**.\n",
    "\n",
    "\n"
   ]
  },
  {
   "cell_type": "markdown",
   "metadata": {
    "id": "Ja47ucfM7b-O"
   },
   "source": [
    "### <font color='blue'>**Manejo de Errores**</font>\n",
    "\n",
    "* **error_bad_lines** (boolean, por defecto *True*): Las líneas con demasiados campos (por ejemplo, una línea csv con demasiadas comas) provocarán de forma predeterminada que se genere una excepción y no se devolverá ningún DataFrame. Si es *False*, estas \"líneas incorrectas\" se eliminarán del DataFrame que se devuelve.\n",
    "\n",
    "* **warn_bad_lines** (boolean, por defecto *True*): Si **error_bad_lines** es *False* y **warn_bad_lines** es *True*, se generará una advertencia por cada \"línea defectuosa\".\n",
    "\n",
    "\n"
   ]
  },
  {
   "cell_type": "markdown",
   "metadata": {
    "id": "6uxp9-U896ER"
   },
   "source": [
    "## <font color='blue'>**Especificando Tipo de Datos para Columnas**</font>\n",
    "\n",
    "Puede indicar el tipo de datos para todo el DataFrame o columnas individuales:"
   ]
  },
  {
   "cell_type": "code",
   "execution_count": 7,
   "metadata": {
    "id": "B5aUtZAU-L24"
   },
   "outputs": [
    {
     "name": "stdout",
     "output_type": "stream",
     "text": [
      "a,b,c,d\n",
      "1,2,3,4\n",
      "5,6,7,8\n",
      "9,10,11\n"
     ]
    }
   ],
   "source": [
    "import numpy as np\n",
    "\n",
    "data = ('a,b,c,d\\n'\n",
    "         '1,2,3,4\\n'\n",
    "         '5,6,7,8\\n'\n",
    "         '9,10,11')\n",
    "print(data)"
   ]
  },
  {
   "cell_type": "code",
   "execution_count": 8,
   "metadata": {
    "id": "_0KxxJfw-cTi"
   },
   "outputs": [
    {
     "data": {
      "text/html": [
       "<div>\n",
       "<style scoped>\n",
       "    .dataframe tbody tr th:only-of-type {\n",
       "        vertical-align: middle;\n",
       "    }\n",
       "\n",
       "    .dataframe tbody tr th {\n",
       "        vertical-align: top;\n",
       "    }\n",
       "\n",
       "    .dataframe thead th {\n",
       "        text-align: right;\n",
       "    }\n",
       "</style>\n",
       "<table border=\"1\" class=\"dataframe\">\n",
       "  <thead>\n",
       "    <tr style=\"text-align: right;\">\n",
       "      <th></th>\n",
       "      <th>a</th>\n",
       "      <th>b</th>\n",
       "      <th>c</th>\n",
       "      <th>d</th>\n",
       "    </tr>\n",
       "  </thead>\n",
       "  <tbody>\n",
       "    <tr>\n",
       "      <th>0</th>\n",
       "      <td>1</td>\n",
       "      <td>2</td>\n",
       "      <td>3</td>\n",
       "      <td>4</td>\n",
       "    </tr>\n",
       "    <tr>\n",
       "      <th>1</th>\n",
       "      <td>5</td>\n",
       "      <td>6</td>\n",
       "      <td>7</td>\n",
       "      <td>8</td>\n",
       "    </tr>\n",
       "    <tr>\n",
       "      <th>2</th>\n",
       "      <td>9</td>\n",
       "      <td>10</td>\n",
       "      <td>11</td>\n",
       "      <td>NaN</td>\n",
       "    </tr>\n",
       "  </tbody>\n",
       "</table>\n",
       "</div>"
      ],
      "text/plain": [
       "   a   b   c    d\n",
       "0  1   2   3    4\n",
       "1  5   6   7    8\n",
       "2  9  10  11  NaN"
      ]
     },
     "execution_count": 8,
     "metadata": {},
     "output_type": "execute_result"
    }
   ],
   "source": [
    "df = pd.read_csv(StringIO(data), dtype=object)\n",
    "df"
   ]
  },
  {
   "cell_type": "code",
   "execution_count": 9,
   "metadata": {
    "id": "NgDRF6Wl-jY0"
   },
   "outputs": [
    {
     "data": {
      "text/plain": [
       "'1'"
      ]
     },
     "execution_count": 9,
     "metadata": {},
     "output_type": "execute_result"
    }
   ],
   "source": [
    "df['a'][0]"
   ]
  },
  {
   "cell_type": "code",
   "execution_count": 10,
   "metadata": {
    "id": "xqcxZ0mL-mOF"
   },
   "outputs": [
    {
     "data": {
      "text/plain": [
       "a      int64\n",
       "b     object\n",
       "c    float64\n",
       "d      Int64\n",
       "dtype: object"
      ]
     },
     "execution_count": 10,
     "metadata": {},
     "output_type": "execute_result"
    }
   ],
   "source": [
    "df = pd.read_csv(StringIO(data), dtype={'b': object, 'c': np.float64, 'd': 'Int64'})\n",
    "df.dtypes"
   ]
  },
  {
   "cell_type": "markdown",
   "metadata": {
    "id": "mC-JT_yi-9ub"
   },
   "source": [
    "Afortunadamente, pandas ofrece más de una forma de asegurarse de que su(s) columna(s) contengan solo un dtype.\n",
    "\n",
    "Por ejemplo, puede usar el argumento **converters** de **read_csv()**:"
   ]
  },
  {
   "cell_type": "code",
   "execution_count": 11,
   "metadata": {
    "id": "3GPB0hMp_JQp"
   },
   "outputs": [
    {
     "name": "stdout",
     "output_type": "stream",
     "text": [
      "col_1\n",
      "1\n",
      "2\n",
      "'A'\n",
      "4.22\n"
     ]
    }
   ],
   "source": [
    "data = (\"col_1\\n\"\n",
    "         \"1\\n\"\n",
    "         \"2\\n\"\n",
    "         \"'A'\\n\"\n",
    "         \"4.22\")\n",
    "print(data)"
   ]
  },
  {
   "cell_type": "code",
   "execution_count": 12,
   "metadata": {
    "id": "GULYURpA_UCR"
   },
   "outputs": [
    {
     "data": {
      "text/html": [
       "<div>\n",
       "<style scoped>\n",
       "    .dataframe tbody tr th:only-of-type {\n",
       "        vertical-align: middle;\n",
       "    }\n",
       "\n",
       "    .dataframe tbody tr th {\n",
       "        vertical-align: top;\n",
       "    }\n",
       "\n",
       "    .dataframe thead th {\n",
       "        text-align: right;\n",
       "    }\n",
       "</style>\n",
       "<table border=\"1\" class=\"dataframe\">\n",
       "  <thead>\n",
       "    <tr style=\"text-align: right;\">\n",
       "      <th></th>\n",
       "      <th>col_1</th>\n",
       "    </tr>\n",
       "  </thead>\n",
       "  <tbody>\n",
       "    <tr>\n",
       "      <th>0</th>\n",
       "      <td>1</td>\n",
       "    </tr>\n",
       "    <tr>\n",
       "      <th>1</th>\n",
       "      <td>2</td>\n",
       "    </tr>\n",
       "    <tr>\n",
       "      <th>2</th>\n",
       "      <td>'A'</td>\n",
       "    </tr>\n",
       "    <tr>\n",
       "      <th>3</th>\n",
       "      <td>4.22</td>\n",
       "    </tr>\n",
       "  </tbody>\n",
       "</table>\n",
       "</div>"
      ],
      "text/plain": [
       "  col_1\n",
       "0     1\n",
       "1     2\n",
       "2   'A'\n",
       "3  4.22"
      ]
     },
     "execution_count": 12,
     "metadata": {},
     "output_type": "execute_result"
    }
   ],
   "source": [
    "df = pd.read_csv(StringIO(data), converters={'col_1': str})\n",
    "df"
   ]
  },
  {
   "cell_type": "code",
   "execution_count": 13,
   "metadata": {
    "id": "0gdtiQYr_c4i"
   },
   "outputs": [
    {
     "data": {
      "text/plain": [
       "<class 'str'>    4\n",
       "Name: col_1, dtype: int64"
      ]
     },
     "execution_count": 13,
     "metadata": {},
     "output_type": "execute_result"
    }
   ],
   "source": [
    "df['col_1'].apply(type).value_counts()"
   ]
  },
  {
   "cell_type": "markdown",
   "metadata": {
    "id": "TgFSdZcv_lZs"
   },
   "source": [
    "O puede usar la función **to_numeric()** para coaccionar los dtypes después de leer los datos."
   ]
  },
  {
   "cell_type": "code",
   "execution_count": 14,
   "metadata": {
    "id": "FN_wV_TZ_rpV"
   },
   "outputs": [
    {
     "data": {
      "text/html": [
       "<div>\n",
       "<style scoped>\n",
       "    .dataframe tbody tr th:only-of-type {\n",
       "        vertical-align: middle;\n",
       "    }\n",
       "\n",
       "    .dataframe tbody tr th {\n",
       "        vertical-align: top;\n",
       "    }\n",
       "\n",
       "    .dataframe thead th {\n",
       "        text-align: right;\n",
       "    }\n",
       "</style>\n",
       "<table border=\"1\" class=\"dataframe\">\n",
       "  <thead>\n",
       "    <tr style=\"text-align: right;\">\n",
       "      <th></th>\n",
       "      <th>col_1</th>\n",
       "    </tr>\n",
       "  </thead>\n",
       "  <tbody>\n",
       "    <tr>\n",
       "      <th>0</th>\n",
       "      <td>1</td>\n",
       "    </tr>\n",
       "    <tr>\n",
       "      <th>1</th>\n",
       "      <td>2</td>\n",
       "    </tr>\n",
       "    <tr>\n",
       "      <th>2</th>\n",
       "      <td>'A'</td>\n",
       "    </tr>\n",
       "    <tr>\n",
       "      <th>3</th>\n",
       "      <td>4.22</td>\n",
       "    </tr>\n",
       "  </tbody>\n",
       "</table>\n",
       "</div>"
      ],
      "text/plain": [
       "  col_1\n",
       "0     1\n",
       "1     2\n",
       "2   'A'\n",
       "3  4.22"
      ]
     },
     "execution_count": 14,
     "metadata": {},
     "output_type": "execute_result"
    }
   ],
   "source": [
    "df2 = pd.read_csv(StringIO(data))\n",
    "df2"
   ]
  },
  {
   "cell_type": "code",
   "execution_count": 15,
   "metadata": {
    "id": "WWEOQb-v_wBB"
   },
   "outputs": [
    {
     "data": {
      "text/html": [
       "<div>\n",
       "<style scoped>\n",
       "    .dataframe tbody tr th:only-of-type {\n",
       "        vertical-align: middle;\n",
       "    }\n",
       "\n",
       "    .dataframe tbody tr th {\n",
       "        vertical-align: top;\n",
       "    }\n",
       "\n",
       "    .dataframe thead th {\n",
       "        text-align: right;\n",
       "    }\n",
       "</style>\n",
       "<table border=\"1\" class=\"dataframe\">\n",
       "  <thead>\n",
       "    <tr style=\"text-align: right;\">\n",
       "      <th></th>\n",
       "      <th>col_1</th>\n",
       "    </tr>\n",
       "  </thead>\n",
       "  <tbody>\n",
       "    <tr>\n",
       "      <th>0</th>\n",
       "      <td>1.00</td>\n",
       "    </tr>\n",
       "    <tr>\n",
       "      <th>1</th>\n",
       "      <td>2.00</td>\n",
       "    </tr>\n",
       "    <tr>\n",
       "      <th>2</th>\n",
       "      <td>NaN</td>\n",
       "    </tr>\n",
       "    <tr>\n",
       "      <th>3</th>\n",
       "      <td>4.22</td>\n",
       "    </tr>\n",
       "  </tbody>\n",
       "</table>\n",
       "</div>"
      ],
      "text/plain": [
       "   col_1\n",
       "0   1.00\n",
       "1   2.00\n",
       "2    NaN\n",
       "3   4.22"
      ]
     },
     "execution_count": 15,
     "metadata": {},
     "output_type": "execute_result"
    }
   ],
   "source": [
    "df2['col_1'] = pd.to_numeric(df2['col_1'], errors='coerce')\n",
    "df2"
   ]
  },
  {
   "cell_type": "code",
   "execution_count": 16,
   "metadata": {
    "id": "8xz9yxhg_1xy"
   },
   "outputs": [
    {
     "data": {
      "text/plain": [
       "<class 'float'>    4\n",
       "Name: col_1, dtype: int64"
      ]
     },
     "execution_count": 16,
     "metadata": {},
     "output_type": "execute_result"
    }
   ],
   "source": [
    "df2['col_1'].apply(type).value_counts()"
   ]
  },
  {
   "cell_type": "markdown",
   "metadata": {
    "id": "ihQBMy_PAAlJ"
   },
   "source": [
    "## <font color='blue'>**Especificando Tipo de Datos Categóricos**</font>\n",
    "\n",
    "Las columnas categóricas se pueden analizar directamente especificando **dtype = 'category'** o **dtype = CategoricalDtype** (categorías, ordenadas)."
   ]
  },
  {
   "cell_type": "code",
   "execution_count": 17,
   "metadata": {
    "id": "NR8-t96gAQsz"
   },
   "outputs": [
    {
     "name": "stdout",
     "output_type": "stream",
     "text": [
      "col1,col2,col3\n",
      "a,b,1\n",
      "a,b,2\n",
      "c,d,3\n"
     ]
    }
   ],
   "source": [
    "data = ('col1,col2,col3\\n'\n",
    "         'a,b,1\\n'\n",
    "         'a,b,2\\n'\n",
    "         'c,d,3')\n",
    "print(data)"
   ]
  },
  {
   "cell_type": "code",
   "execution_count": 18,
   "metadata": {
    "id": "0IpbraKhAW90"
   },
   "outputs": [
    {
     "data": {
      "text/html": [
       "<div>\n",
       "<style scoped>\n",
       "    .dataframe tbody tr th:only-of-type {\n",
       "        vertical-align: middle;\n",
       "    }\n",
       "\n",
       "    .dataframe tbody tr th {\n",
       "        vertical-align: top;\n",
       "    }\n",
       "\n",
       "    .dataframe thead th {\n",
       "        text-align: right;\n",
       "    }\n",
       "</style>\n",
       "<table border=\"1\" class=\"dataframe\">\n",
       "  <thead>\n",
       "    <tr style=\"text-align: right;\">\n",
       "      <th></th>\n",
       "      <th>col1</th>\n",
       "      <th>col2</th>\n",
       "      <th>col3</th>\n",
       "    </tr>\n",
       "  </thead>\n",
       "  <tbody>\n",
       "    <tr>\n",
       "      <th>0</th>\n",
       "      <td>a</td>\n",
       "      <td>b</td>\n",
       "      <td>1</td>\n",
       "    </tr>\n",
       "    <tr>\n",
       "      <th>1</th>\n",
       "      <td>a</td>\n",
       "      <td>b</td>\n",
       "      <td>2</td>\n",
       "    </tr>\n",
       "    <tr>\n",
       "      <th>2</th>\n",
       "      <td>c</td>\n",
       "      <td>d</td>\n",
       "      <td>3</td>\n",
       "    </tr>\n",
       "  </tbody>\n",
       "</table>\n",
       "</div>"
      ],
      "text/plain": [
       "  col1 col2  col3\n",
       "0    a    b     1\n",
       "1    a    b     2\n",
       "2    c    d     3"
      ]
     },
     "execution_count": 18,
     "metadata": {},
     "output_type": "execute_result"
    }
   ],
   "source": [
    "pd.read_csv(StringIO(data))"
   ]
  },
  {
   "cell_type": "code",
   "execution_count": 19,
   "metadata": {
    "id": "8ApVMFgaAZ1P"
   },
   "outputs": [
    {
     "data": {
      "text/plain": [
       "col1    object\n",
       "col2    object\n",
       "col3     int64\n",
       "dtype: object"
      ]
     },
     "execution_count": 19,
     "metadata": {},
     "output_type": "execute_result"
    }
   ],
   "source": [
    "pd.read_csv(StringIO(data)).dtypes"
   ]
  },
  {
   "cell_type": "code",
   "execution_count": 20,
   "metadata": {
    "id": "d_YMLJF4AePw"
   },
   "outputs": [
    {
     "data": {
      "text/plain": [
       "col1    category\n",
       "col2    category\n",
       "col3    category\n",
       "dtype: object"
      ]
     },
     "execution_count": 20,
     "metadata": {},
     "output_type": "execute_result"
    }
   ],
   "source": [
    "pd.read_csv(StringIO(data), dtype='category').dtypes"
   ]
  },
  {
   "cell_type": "markdown",
   "metadata": {
    "id": "vjRL8gkmAkgi"
   },
   "source": [
    "Las columnas individuales se pueden analizar como categóricas usando una especificación a través de un diccionario:"
   ]
  },
  {
   "cell_type": "code",
   "execution_count": 21,
   "metadata": {
    "id": "aZEy16p8An5x"
   },
   "outputs": [
    {
     "data": {
      "text/plain": [
       "col1    category\n",
       "col2      object\n",
       "col3       int64\n",
       "dtype: object"
      ]
     },
     "execution_count": 21,
     "metadata": {},
     "output_type": "execute_result"
    }
   ],
   "source": [
    "pd.read_csv(StringIO(data), dtype={'col1': 'category'}).dtypes"
   ]
  },
  {
   "cell_type": "markdown",
   "metadata": {
    "id": "KPPXb6kxAv5Q"
   },
   "source": [
    "Especificar **dtype = 'category'** dará como resultado un Categórico desordenado cuyas categorías son los valores únicos observados en los datos. Para tener más control sobre las categorías y el orden, cree un **CategoricalDtype** antes y páselo para el *dtype* de esa columna."
   ]
  },
  {
   "cell_type": "code",
   "execution_count": 22,
   "metadata": {
    "id": "YezsjBZmA6tF"
   },
   "outputs": [
    {
     "data": {
      "text/plain": [
       "col1    category\n",
       "col2      object\n",
       "col3       int64\n",
       "dtype: object"
      ]
     },
     "execution_count": 22,
     "metadata": {},
     "output_type": "execute_result"
    }
   ],
   "source": [
    "from pandas.api.types import CategoricalDtype\n",
    "\n",
    "dtype = CategoricalDtype(['d', 'c', 'b', 'a'], ordered=True)\n",
    "pd.read_csv(StringIO(data), dtype={'col1': dtype}).dtypes"
   ]
  },
  {
   "cell_type": "markdown",
   "metadata": {
    "id": "LsjsII4EBIER"
   },
   "source": [
    "Cuando se usa **dtype = CategoricalDtype**, los valores \"inesperados\" fuera de **dtype.categories** se tratan como valores perdidos."
   ]
  },
  {
   "cell_type": "code",
   "execution_count": 23,
   "metadata": {
    "id": "WJ7ADC9kBNFg"
   },
   "outputs": [
    {
     "data": {
      "text/plain": [
       "0      a\n",
       "1      a\n",
       "2    NaN\n",
       "Name: col1, dtype: category\n",
       "Categories (3, object): ['a', 'b', 'd']"
      ]
     },
     "execution_count": 23,
     "metadata": {},
     "output_type": "execute_result"
    }
   ],
   "source": [
    "dtype = CategoricalDtype(['a', 'b', 'd'])  # No 'c'\n",
    "pd.read_csv(StringIO(data), dtype={'col1': dtype}).col1"
   ]
  },
  {
   "cell_type": "markdown",
   "metadata": {
    "id": "QSKoG0LNBZOE"
   },
   "source": [
    "## <font color='blue'>**Nombrar y Usar Columnas**</font>\n",
    "\n",
    "### <font color='blue'>**Manejo de Nombres de Columna**</font>\n",
    "\n",
    "Un archivo puede tener o no una fila de encabezado. pandas asume que la primera fila debe usarse como nombres de columna:\n"
   ]
  },
  {
   "cell_type": "code",
   "execution_count": 24,
   "metadata": {
    "id": "L4YB-uI7Bn0J"
   },
   "outputs": [
    {
     "name": "stdout",
     "output_type": "stream",
     "text": [
      "a,b,c\n",
      "1,2,3\n",
      "4,5,6\n",
      "7,8,9\n"
     ]
    }
   ],
   "source": [
    "data = ('a,b,c\\n'\n",
    "         '1,2,3\\n'\n",
    "         '4,5,6\\n'\n",
    "         '7,8,9')\n",
    "print(data)"
   ]
  },
  {
   "cell_type": "code",
   "execution_count": 25,
   "metadata": {
    "id": "Q2MA8ctvBvQo"
   },
   "outputs": [
    {
     "data": {
      "text/html": [
       "<div>\n",
       "<style scoped>\n",
       "    .dataframe tbody tr th:only-of-type {\n",
       "        vertical-align: middle;\n",
       "    }\n",
       "\n",
       "    .dataframe tbody tr th {\n",
       "        vertical-align: top;\n",
       "    }\n",
       "\n",
       "    .dataframe thead th {\n",
       "        text-align: right;\n",
       "    }\n",
       "</style>\n",
       "<table border=\"1\" class=\"dataframe\">\n",
       "  <thead>\n",
       "    <tr style=\"text-align: right;\">\n",
       "      <th></th>\n",
       "      <th>a</th>\n",
       "      <th>b</th>\n",
       "      <th>c</th>\n",
       "    </tr>\n",
       "  </thead>\n",
       "  <tbody>\n",
       "    <tr>\n",
       "      <th>0</th>\n",
       "      <td>1</td>\n",
       "      <td>2</td>\n",
       "      <td>3</td>\n",
       "    </tr>\n",
       "    <tr>\n",
       "      <th>1</th>\n",
       "      <td>4</td>\n",
       "      <td>5</td>\n",
       "      <td>6</td>\n",
       "    </tr>\n",
       "    <tr>\n",
       "      <th>2</th>\n",
       "      <td>7</td>\n",
       "      <td>8</td>\n",
       "      <td>9</td>\n",
       "    </tr>\n",
       "  </tbody>\n",
       "</table>\n",
       "</div>"
      ],
      "text/plain": [
       "   a  b  c\n",
       "0  1  2  3\n",
       "1  4  5  6\n",
       "2  7  8  9"
      ]
     },
     "execution_count": 25,
     "metadata": {},
     "output_type": "execute_result"
    }
   ],
   "source": [
    "pd.read_csv(StringIO(data))"
   ]
  },
  {
   "cell_type": "markdown",
   "metadata": {
    "id": "Xsx8tpWBB05R"
   },
   "source": [
    "Al especificar el argumento de nombres junto con el encabezado, puede indicar otros nombres para usar y si debe desechar o no la fila del encabezado (si corresponde):"
   ]
  },
  {
   "cell_type": "code",
   "execution_count": 26,
   "metadata": {
    "id": "nSzPi0p0B3uh"
   },
   "outputs": [
    {
     "name": "stdout",
     "output_type": "stream",
     "text": [
      "a,b,c\n",
      "1,2,3\n",
      "4,5,6\n",
      "7,8,9\n"
     ]
    }
   ],
   "source": [
    "print(data)"
   ]
  },
  {
   "cell_type": "code",
   "execution_count": 27,
   "metadata": {
    "id": "jOt_d5DSB64R"
   },
   "outputs": [
    {
     "data": {
      "text/html": [
       "<div>\n",
       "<style scoped>\n",
       "    .dataframe tbody tr th:only-of-type {\n",
       "        vertical-align: middle;\n",
       "    }\n",
       "\n",
       "    .dataframe tbody tr th {\n",
       "        vertical-align: top;\n",
       "    }\n",
       "\n",
       "    .dataframe thead th {\n",
       "        text-align: right;\n",
       "    }\n",
       "</style>\n",
       "<table border=\"1\" class=\"dataframe\">\n",
       "  <thead>\n",
       "    <tr style=\"text-align: right;\">\n",
       "      <th></th>\n",
       "      <th>foo</th>\n",
       "      <th>bar</th>\n",
       "      <th>baz</th>\n",
       "    </tr>\n",
       "  </thead>\n",
       "  <tbody>\n",
       "    <tr>\n",
       "      <th>0</th>\n",
       "      <td>1</td>\n",
       "      <td>2</td>\n",
       "      <td>3</td>\n",
       "    </tr>\n",
       "    <tr>\n",
       "      <th>1</th>\n",
       "      <td>4</td>\n",
       "      <td>5</td>\n",
       "      <td>6</td>\n",
       "    </tr>\n",
       "    <tr>\n",
       "      <th>2</th>\n",
       "      <td>7</td>\n",
       "      <td>8</td>\n",
       "      <td>9</td>\n",
       "    </tr>\n",
       "  </tbody>\n",
       "</table>\n",
       "</div>"
      ],
      "text/plain": [
       "   foo  bar  baz\n",
       "0    1    2    3\n",
       "1    4    5    6\n",
       "2    7    8    9"
      ]
     },
     "execution_count": 27,
     "metadata": {},
     "output_type": "execute_result"
    }
   ],
   "source": [
    "pd.read_csv(StringIO(data), names=['foo', 'bar', 'baz'], header=0)"
   ]
  },
  {
   "cell_type": "code",
   "execution_count": 28,
   "metadata": {
    "id": "lyvMZm8EB-IZ"
   },
   "outputs": [
    {
     "data": {
      "text/html": [
       "<div>\n",
       "<style scoped>\n",
       "    .dataframe tbody tr th:only-of-type {\n",
       "        vertical-align: middle;\n",
       "    }\n",
       "\n",
       "    .dataframe tbody tr th {\n",
       "        vertical-align: top;\n",
       "    }\n",
       "\n",
       "    .dataframe thead th {\n",
       "        text-align: right;\n",
       "    }\n",
       "</style>\n",
       "<table border=\"1\" class=\"dataframe\">\n",
       "  <thead>\n",
       "    <tr style=\"text-align: right;\">\n",
       "      <th></th>\n",
       "      <th>foo</th>\n",
       "      <th>bar</th>\n",
       "      <th>baz</th>\n",
       "    </tr>\n",
       "  </thead>\n",
       "  <tbody>\n",
       "    <tr>\n",
       "      <th>0</th>\n",
       "      <td>a</td>\n",
       "      <td>b</td>\n",
       "      <td>c</td>\n",
       "    </tr>\n",
       "    <tr>\n",
       "      <th>1</th>\n",
       "      <td>1</td>\n",
       "      <td>2</td>\n",
       "      <td>3</td>\n",
       "    </tr>\n",
       "    <tr>\n",
       "      <th>2</th>\n",
       "      <td>4</td>\n",
       "      <td>5</td>\n",
       "      <td>6</td>\n",
       "    </tr>\n",
       "    <tr>\n",
       "      <th>3</th>\n",
       "      <td>7</td>\n",
       "      <td>8</td>\n",
       "      <td>9</td>\n",
       "    </tr>\n",
       "  </tbody>\n",
       "</table>\n",
       "</div>"
      ],
      "text/plain": [
       "  foo bar baz\n",
       "0   a   b   c\n",
       "1   1   2   3\n",
       "2   4   5   6\n",
       "3   7   8   9"
      ]
     },
     "execution_count": 28,
     "metadata": {},
     "output_type": "execute_result"
    }
   ],
   "source": [
    "pd.read_csv(StringIO(data), names=['foo', 'bar', 'baz'], header=None)"
   ]
  },
  {
   "cell_type": "markdown",
   "metadata": {
    "id": "58xq985rCHbS"
   },
   "source": [
    "Si el encabezado está en una fila que no sea la primera, debe pasar el número de fila al encabezado. Esto omitirá las filas anteriores."
   ]
  },
  {
   "cell_type": "code",
   "execution_count": 29,
   "metadata": {
    "id": "nYCJVeLaCKai"
   },
   "outputs": [
    {
     "name": "stdout",
     "output_type": "stream",
     "text": [
      "skip this skip it\n",
      "a,b,c\n",
      "1,2,3\n",
      "4,5,6\n",
      "7,8,9\n"
     ]
    }
   ],
   "source": [
    "data = ('skip this skip it\\n'\n",
    "         'a,b,c\\n'\n",
    "         '1,2,3\\n'\n",
    "         '4,5,6\\n'\n",
    "         '7,8,9')\n",
    "print(data)"
   ]
  },
  {
   "cell_type": "code",
   "execution_count": 30,
   "metadata": {
    "id": "pSGTyknACSXU"
   },
   "outputs": [
    {
     "data": {
      "text/html": [
       "<div>\n",
       "<style scoped>\n",
       "    .dataframe tbody tr th:only-of-type {\n",
       "        vertical-align: middle;\n",
       "    }\n",
       "\n",
       "    .dataframe tbody tr th {\n",
       "        vertical-align: top;\n",
       "    }\n",
       "\n",
       "    .dataframe thead th {\n",
       "        text-align: right;\n",
       "    }\n",
       "</style>\n",
       "<table border=\"1\" class=\"dataframe\">\n",
       "  <thead>\n",
       "    <tr style=\"text-align: right;\">\n",
       "      <th></th>\n",
       "      <th>a</th>\n",
       "      <th>b</th>\n",
       "      <th>c</th>\n",
       "    </tr>\n",
       "  </thead>\n",
       "  <tbody>\n",
       "    <tr>\n",
       "      <th>0</th>\n",
       "      <td>1</td>\n",
       "      <td>2</td>\n",
       "      <td>3</td>\n",
       "    </tr>\n",
       "    <tr>\n",
       "      <th>1</th>\n",
       "      <td>4</td>\n",
       "      <td>5</td>\n",
       "      <td>6</td>\n",
       "    </tr>\n",
       "    <tr>\n",
       "      <th>2</th>\n",
       "      <td>7</td>\n",
       "      <td>8</td>\n",
       "      <td>9</td>\n",
       "    </tr>\n",
       "  </tbody>\n",
       "</table>\n",
       "</div>"
      ],
      "text/plain": [
       "   a  b  c\n",
       "0  1  2  3\n",
       "1  4  5  6\n",
       "2  7  8  9"
      ]
     },
     "execution_count": 30,
     "metadata": {},
     "output_type": "execute_result"
    }
   ],
   "source": [
    "pd.read_csv(StringIO(data), header=1)"
   ]
  },
  {
   "cell_type": "markdown",
   "metadata": {
    "id": "3M8449R0CdY0"
   },
   "source": [
    "## <font color='blue'>**Análisis de Nombres Duplicados**</font>\n",
    "\n",
    "Si el archivo o encabezado contiene nombres duplicados, pandas distinguirá entre ellos de forma predeterminada para evitar sobrescribir los datos:"
   ]
  },
  {
   "cell_type": "code",
   "execution_count": 31,
   "metadata": {
    "id": "Dg4X1P-iCkv6"
   },
   "outputs": [
    {
     "name": "stdout",
     "output_type": "stream",
     "text": [
      "a,b,a\n",
      "0,1,2\n",
      "3,4,5\n"
     ]
    }
   ],
   "source": [
    "data = ('a,b,a\\n'\n",
    "         '0,1,2\\n'\n",
    "         '3,4,5')\n",
    "print(data)"
   ]
  },
  {
   "cell_type": "code",
   "execution_count": 32,
   "metadata": {
    "id": "gi7WP-8LCqNd"
   },
   "outputs": [
    {
     "data": {
      "text/html": [
       "<div>\n",
       "<style scoped>\n",
       "    .dataframe tbody tr th:only-of-type {\n",
       "        vertical-align: middle;\n",
       "    }\n",
       "\n",
       "    .dataframe tbody tr th {\n",
       "        vertical-align: top;\n",
       "    }\n",
       "\n",
       "    .dataframe thead th {\n",
       "        text-align: right;\n",
       "    }\n",
       "</style>\n",
       "<table border=\"1\" class=\"dataframe\">\n",
       "  <thead>\n",
       "    <tr style=\"text-align: right;\">\n",
       "      <th></th>\n",
       "      <th>a</th>\n",
       "      <th>b</th>\n",
       "      <th>a.1</th>\n",
       "    </tr>\n",
       "  </thead>\n",
       "  <tbody>\n",
       "    <tr>\n",
       "      <th>0</th>\n",
       "      <td>0</td>\n",
       "      <td>1</td>\n",
       "      <td>2</td>\n",
       "    </tr>\n",
       "    <tr>\n",
       "      <th>1</th>\n",
       "      <td>3</td>\n",
       "      <td>4</td>\n",
       "      <td>5</td>\n",
       "    </tr>\n",
       "  </tbody>\n",
       "</table>\n",
       "</div>"
      ],
      "text/plain": [
       "   a  b  a.1\n",
       "0  0  1    2\n",
       "1  3  4    5"
      ]
     },
     "execution_count": 32,
     "metadata": {},
     "output_type": "execute_result"
    }
   ],
   "source": [
    "pd.read_csv(StringIO(data))"
   ]
  },
  {
   "cell_type": "markdown",
   "metadata": {
    "id": "WuTq9oWxDPzV"
   },
   "source": [
    "### <font color='blue'>**Filtrar Columnas**</font>\n",
    "\n",
    "El argumento **usecols** le permite seleccionar cualquier subconjunto de las columnas en un archivo, ya sea usando los nombres de las columnas, los números de posición o un invocable:"
   ]
  },
  {
   "cell_type": "code",
   "execution_count": 33,
   "metadata": {
    "id": "SqBN5UceDX6b"
   },
   "outputs": [
    {
     "name": "stdout",
     "output_type": "stream",
     "text": [
      "a,b,c,d\n",
      "1,2,3,foo\n",
      "4,5,6,bar\n",
      "7,8,9,baz\n"
     ]
    }
   ],
   "source": [
    "data = 'a,b,c,d\\n1,2,3,foo\\n4,5,6,bar\\n7,8,9,baz'\n",
    "print(data)"
   ]
  },
  {
   "cell_type": "code",
   "execution_count": 34,
   "metadata": {
    "id": "ERFPOSIHDdSP"
   },
   "outputs": [
    {
     "data": {
      "text/html": [
       "<div>\n",
       "<style scoped>\n",
       "    .dataframe tbody tr th:only-of-type {\n",
       "        vertical-align: middle;\n",
       "    }\n",
       "\n",
       "    .dataframe tbody tr th {\n",
       "        vertical-align: top;\n",
       "    }\n",
       "\n",
       "    .dataframe thead th {\n",
       "        text-align: right;\n",
       "    }\n",
       "</style>\n",
       "<table border=\"1\" class=\"dataframe\">\n",
       "  <thead>\n",
       "    <tr style=\"text-align: right;\">\n",
       "      <th></th>\n",
       "      <th>a</th>\n",
       "      <th>b</th>\n",
       "      <th>c</th>\n",
       "      <th>d</th>\n",
       "    </tr>\n",
       "  </thead>\n",
       "  <tbody>\n",
       "    <tr>\n",
       "      <th>0</th>\n",
       "      <td>1</td>\n",
       "      <td>2</td>\n",
       "      <td>3</td>\n",
       "      <td>foo</td>\n",
       "    </tr>\n",
       "    <tr>\n",
       "      <th>1</th>\n",
       "      <td>4</td>\n",
       "      <td>5</td>\n",
       "      <td>6</td>\n",
       "      <td>bar</td>\n",
       "    </tr>\n",
       "    <tr>\n",
       "      <th>2</th>\n",
       "      <td>7</td>\n",
       "      <td>8</td>\n",
       "      <td>9</td>\n",
       "      <td>baz</td>\n",
       "    </tr>\n",
       "  </tbody>\n",
       "</table>\n",
       "</div>"
      ],
      "text/plain": [
       "   a  b  c    d\n",
       "0  1  2  3  foo\n",
       "1  4  5  6  bar\n",
       "2  7  8  9  baz"
      ]
     },
     "execution_count": 34,
     "metadata": {},
     "output_type": "execute_result"
    }
   ],
   "source": [
    "pd.read_csv(StringIO(data))"
   ]
  },
  {
   "cell_type": "code",
   "execution_count": 35,
   "metadata": {
    "id": "WAMRfn5ADfbx"
   },
   "outputs": [
    {
     "data": {
      "text/html": [
       "<div>\n",
       "<style scoped>\n",
       "    .dataframe tbody tr th:only-of-type {\n",
       "        vertical-align: middle;\n",
       "    }\n",
       "\n",
       "    .dataframe tbody tr th {\n",
       "        vertical-align: top;\n",
       "    }\n",
       "\n",
       "    .dataframe thead th {\n",
       "        text-align: right;\n",
       "    }\n",
       "</style>\n",
       "<table border=\"1\" class=\"dataframe\">\n",
       "  <thead>\n",
       "    <tr style=\"text-align: right;\">\n",
       "      <th></th>\n",
       "      <th>b</th>\n",
       "      <th>d</th>\n",
       "    </tr>\n",
       "  </thead>\n",
       "  <tbody>\n",
       "    <tr>\n",
       "      <th>0</th>\n",
       "      <td>2</td>\n",
       "      <td>foo</td>\n",
       "    </tr>\n",
       "    <tr>\n",
       "      <th>1</th>\n",
       "      <td>5</td>\n",
       "      <td>bar</td>\n",
       "    </tr>\n",
       "    <tr>\n",
       "      <th>2</th>\n",
       "      <td>8</td>\n",
       "      <td>baz</td>\n",
       "    </tr>\n",
       "  </tbody>\n",
       "</table>\n",
       "</div>"
      ],
      "text/plain": [
       "   b    d\n",
       "0  2  foo\n",
       "1  5  bar\n",
       "2  8  baz"
      ]
     },
     "execution_count": 35,
     "metadata": {},
     "output_type": "execute_result"
    }
   ],
   "source": [
    "pd.read_csv(StringIO(data), usecols=['b', 'd'])"
   ]
  },
  {
   "cell_type": "code",
   "execution_count": 36,
   "metadata": {
    "id": "pxhIUU8mDhvb"
   },
   "outputs": [
    {
     "data": {
      "text/html": [
       "<div>\n",
       "<style scoped>\n",
       "    .dataframe tbody tr th:only-of-type {\n",
       "        vertical-align: middle;\n",
       "    }\n",
       "\n",
       "    .dataframe tbody tr th {\n",
       "        vertical-align: top;\n",
       "    }\n",
       "\n",
       "    .dataframe thead th {\n",
       "        text-align: right;\n",
       "    }\n",
       "</style>\n",
       "<table border=\"1\" class=\"dataframe\">\n",
       "  <thead>\n",
       "    <tr style=\"text-align: right;\">\n",
       "      <th></th>\n",
       "      <th>a</th>\n",
       "      <th>c</th>\n",
       "      <th>d</th>\n",
       "    </tr>\n",
       "  </thead>\n",
       "  <tbody>\n",
       "    <tr>\n",
       "      <th>0</th>\n",
       "      <td>1</td>\n",
       "      <td>3</td>\n",
       "      <td>foo</td>\n",
       "    </tr>\n",
       "    <tr>\n",
       "      <th>1</th>\n",
       "      <td>4</td>\n",
       "      <td>6</td>\n",
       "      <td>bar</td>\n",
       "    </tr>\n",
       "    <tr>\n",
       "      <th>2</th>\n",
       "      <td>7</td>\n",
       "      <td>9</td>\n",
       "      <td>baz</td>\n",
       "    </tr>\n",
       "  </tbody>\n",
       "</table>\n",
       "</div>"
      ],
      "text/plain": [
       "   a  c    d\n",
       "0  1  3  foo\n",
       "1  4  6  bar\n",
       "2  7  9  baz"
      ]
     },
     "execution_count": 36,
     "metadata": {},
     "output_type": "execute_result"
    }
   ],
   "source": [
    "pd.read_csv(StringIO(data), usecols=[0, 2, 3])"
   ]
  },
  {
   "cell_type": "code",
   "execution_count": 37,
   "metadata": {
    "id": "wfLud5TbDjui"
   },
   "outputs": [
    {
     "data": {
      "text/html": [
       "<div>\n",
       "<style scoped>\n",
       "    .dataframe tbody tr th:only-of-type {\n",
       "        vertical-align: middle;\n",
       "    }\n",
       "\n",
       "    .dataframe tbody tr th {\n",
       "        vertical-align: top;\n",
       "    }\n",
       "\n",
       "    .dataframe thead th {\n",
       "        text-align: right;\n",
       "    }\n",
       "</style>\n",
       "<table border=\"1\" class=\"dataframe\">\n",
       "  <thead>\n",
       "    <tr style=\"text-align: right;\">\n",
       "      <th></th>\n",
       "      <th>a</th>\n",
       "      <th>c</th>\n",
       "    </tr>\n",
       "  </thead>\n",
       "  <tbody>\n",
       "    <tr>\n",
       "      <th>0</th>\n",
       "      <td>1</td>\n",
       "      <td>3</td>\n",
       "    </tr>\n",
       "    <tr>\n",
       "      <th>1</th>\n",
       "      <td>4</td>\n",
       "      <td>6</td>\n",
       "    </tr>\n",
       "    <tr>\n",
       "      <th>2</th>\n",
       "      <td>7</td>\n",
       "      <td>9</td>\n",
       "    </tr>\n",
       "  </tbody>\n",
       "</table>\n",
       "</div>"
      ],
      "text/plain": [
       "   a  c\n",
       "0  1  3\n",
       "1  4  6\n",
       "2  7  9"
      ]
     },
     "execution_count": 37,
     "metadata": {},
     "output_type": "execute_result"
    }
   ],
   "source": [
    "pd.read_csv(StringIO(data), usecols=lambda x: x.upper() in ['A', 'C'])"
   ]
  },
  {
   "cell_type": "markdown",
   "metadata": {
    "id": "gNO7LWmqDvUR"
   },
   "source": [
    "El argumento **usecols** también se puede usar para especificar qué columnas no usar en el resultado final:"
   ]
  },
  {
   "cell_type": "code",
   "execution_count": 38,
   "metadata": {
    "id": "AovTVtNTDxSz"
   },
   "outputs": [
    {
     "data": {
      "text/html": [
       "<div>\n",
       "<style scoped>\n",
       "    .dataframe tbody tr th:only-of-type {\n",
       "        vertical-align: middle;\n",
       "    }\n",
       "\n",
       "    .dataframe tbody tr th {\n",
       "        vertical-align: top;\n",
       "    }\n",
       "\n",
       "    .dataframe thead th {\n",
       "        text-align: right;\n",
       "    }\n",
       "</style>\n",
       "<table border=\"1\" class=\"dataframe\">\n",
       "  <thead>\n",
       "    <tr style=\"text-align: right;\">\n",
       "      <th></th>\n",
       "      <th>b</th>\n",
       "      <th>d</th>\n",
       "    </tr>\n",
       "  </thead>\n",
       "  <tbody>\n",
       "    <tr>\n",
       "      <th>0</th>\n",
       "      <td>2</td>\n",
       "      <td>foo</td>\n",
       "    </tr>\n",
       "    <tr>\n",
       "      <th>1</th>\n",
       "      <td>5</td>\n",
       "      <td>bar</td>\n",
       "    </tr>\n",
       "    <tr>\n",
       "      <th>2</th>\n",
       "      <td>8</td>\n",
       "      <td>baz</td>\n",
       "    </tr>\n",
       "  </tbody>\n",
       "</table>\n",
       "</div>"
      ],
      "text/plain": [
       "   b    d\n",
       "0  2  foo\n",
       "1  5  bar\n",
       "2  8  baz"
      ]
     },
     "execution_count": 38,
     "metadata": {},
     "output_type": "execute_result"
    }
   ],
   "source": [
    "pd.read_csv(StringIO(data), usecols=lambda x: x not in ['a', 'c'])"
   ]
  },
  {
   "cell_type": "markdown",
   "metadata": {
    "id": "ODH6fcG3EEBZ"
   },
   "source": [
    "## <font color='blue'>**Comentarios y Líneas Vacías**</font>\n",
    "\n",
    "### <font color='blue'>**Ignorando comentarios de línea y líneas vacías**</font>\n",
    "\n",
    "Si se especifica el parámetro de comentario, se ignorarán las líneas completamente comentadas. De forma predeterminada, también se ignorarán las líneas completamente en blanco."
   ]
  },
  {
   "cell_type": "code",
   "execution_count": 39,
   "metadata": {
    "id": "7DJQNR3TEUyn"
   },
   "outputs": [
    {
     "name": "stdout",
     "output_type": "stream",
     "text": [
      "\n",
      "a,b,c\n",
      "  \n",
      "# commented line\n",
      "1,2,3\n",
      "\n",
      "4,5,6\n"
     ]
    }
   ],
   "source": [
    "data = ('\\n'\n",
    "         'a,b,c\\n'\n",
    "         '  \\n'\n",
    "         '# commented line\\n'\n",
    "         '1,2,3\\n'\n",
    "         '\\n'\n",
    "         '4,5,6')\n",
    "print(data)"
   ]
  },
  {
   "cell_type": "code",
   "execution_count": 40,
   "metadata": {
    "id": "FPrziVKEEdce"
   },
   "outputs": [
    {
     "data": {
      "text/html": [
       "<div>\n",
       "<style scoped>\n",
       "    .dataframe tbody tr th:only-of-type {\n",
       "        vertical-align: middle;\n",
       "    }\n",
       "\n",
       "    .dataframe tbody tr th {\n",
       "        vertical-align: top;\n",
       "    }\n",
       "\n",
       "    .dataframe thead th {\n",
       "        text-align: right;\n",
       "    }\n",
       "</style>\n",
       "<table border=\"1\" class=\"dataframe\">\n",
       "  <thead>\n",
       "    <tr style=\"text-align: right;\">\n",
       "      <th></th>\n",
       "      <th>a</th>\n",
       "      <th>b</th>\n",
       "      <th>c</th>\n",
       "    </tr>\n",
       "  </thead>\n",
       "  <tbody>\n",
       "    <tr>\n",
       "      <th>0</th>\n",
       "      <td>1</td>\n",
       "      <td>2</td>\n",
       "      <td>3</td>\n",
       "    </tr>\n",
       "    <tr>\n",
       "      <th>1</th>\n",
       "      <td>4</td>\n",
       "      <td>5</td>\n",
       "      <td>6</td>\n",
       "    </tr>\n",
       "  </tbody>\n",
       "</table>\n",
       "</div>"
      ],
      "text/plain": [
       "   a  b  c\n",
       "0  1  2  3\n",
       "1  4  5  6"
      ]
     },
     "execution_count": 40,
     "metadata": {},
     "output_type": "execute_result"
    }
   ],
   "source": [
    "pd.read_csv(StringIO(data), comment='#')"
   ]
  },
  {
   "cell_type": "markdown",
   "metadata": {
    "id": "81-wqBSCEjBH"
   },
   "source": [
    "Si **skip_blank_lines=False**, entonces **read_csv** no ignorará las líneas en blanco:"
   ]
  },
  {
   "cell_type": "code",
   "execution_count": 41,
   "metadata": {
    "id": "tlb-jRn3ErMq"
   },
   "outputs": [
    {
     "name": "stdout",
     "output_type": "stream",
     "text": [
      "a,b,c\n",
      "\n",
      "1,2,3\n",
      "\n",
      "\n",
      "4,5,6\n"
     ]
    }
   ],
   "source": [
    "data = ('a,b,c\\n'\n",
    "         '\\n'\n",
    "         '1,2,3\\n'\n",
    "         '\\n'\n",
    "         '\\n'\n",
    "         '4,5,6')\n",
    "print(data)"
   ]
  },
  {
   "cell_type": "code",
   "execution_count": 42,
   "metadata": {
    "id": "SUjRbqjUEu96"
   },
   "outputs": [
    {
     "data": {
      "text/html": [
       "<div>\n",
       "<style scoped>\n",
       "    .dataframe tbody tr th:only-of-type {\n",
       "        vertical-align: middle;\n",
       "    }\n",
       "\n",
       "    .dataframe tbody tr th {\n",
       "        vertical-align: top;\n",
       "    }\n",
       "\n",
       "    .dataframe thead th {\n",
       "        text-align: right;\n",
       "    }\n",
       "</style>\n",
       "<table border=\"1\" class=\"dataframe\">\n",
       "  <thead>\n",
       "    <tr style=\"text-align: right;\">\n",
       "      <th></th>\n",
       "      <th>a</th>\n",
       "      <th>b</th>\n",
       "      <th>c</th>\n",
       "    </tr>\n",
       "  </thead>\n",
       "  <tbody>\n",
       "    <tr>\n",
       "      <th>0</th>\n",
       "      <td>NaN</td>\n",
       "      <td>NaN</td>\n",
       "      <td>NaN</td>\n",
       "    </tr>\n",
       "    <tr>\n",
       "      <th>1</th>\n",
       "      <td>1.0</td>\n",
       "      <td>2.0</td>\n",
       "      <td>3.0</td>\n",
       "    </tr>\n",
       "    <tr>\n",
       "      <th>2</th>\n",
       "      <td>NaN</td>\n",
       "      <td>NaN</td>\n",
       "      <td>NaN</td>\n",
       "    </tr>\n",
       "    <tr>\n",
       "      <th>3</th>\n",
       "      <td>NaN</td>\n",
       "      <td>NaN</td>\n",
       "      <td>NaN</td>\n",
       "    </tr>\n",
       "    <tr>\n",
       "      <th>4</th>\n",
       "      <td>4.0</td>\n",
       "      <td>5.0</td>\n",
       "      <td>6.0</td>\n",
       "    </tr>\n",
       "  </tbody>\n",
       "</table>\n",
       "</div>"
      ],
      "text/plain": [
       "     a    b    c\n",
       "0  NaN  NaN  NaN\n",
       "1  1.0  2.0  3.0\n",
       "2  NaN  NaN  NaN\n",
       "3  NaN  NaN  NaN\n",
       "4  4.0  5.0  6.0"
      ]
     },
     "execution_count": 42,
     "metadata": {},
     "output_type": "execute_result"
    }
   ],
   "source": [
    "pd.read_csv(StringIO(data), skip_blank_lines=False)"
   ]
  },
  {
   "cell_type": "code",
   "execution_count": 43,
   "metadata": {
    "id": "UOciwn6WFQSH"
   },
   "outputs": [
    {
     "name": "stdout",
     "output_type": "stream",
     "text": [
      "# empty\n",
      "# second empty line\n",
      "# third emptyline\n",
      "X,Y,Z\n",
      "1,2,3\n",
      "A,B,C\n",
      "1,2.,4.\n",
      "5.,NaN,10.0\n",
      "\n"
     ]
    }
   ],
   "source": [
    "data = ('# empty\\n'\n",
    "         '# second empty line\\n'\n",
    "         '# third emptyline\\n'\n",
    "         'X,Y,Z\\n'\n",
    "         '1,2,3\\n'\n",
    "         'A,B,C\\n'\n",
    "         '1,2.,4.\\n'\n",
    "         '5.,NaN,10.0\\n')\n",
    "print(data)"
   ]
  },
  {
   "cell_type": "code",
   "execution_count": 44,
   "metadata": {
    "id": "ofQ6vtQwFV--"
   },
   "outputs": [
    {
     "data": {
      "text/html": [
       "<div>\n",
       "<style scoped>\n",
       "    .dataframe tbody tr th:only-of-type {\n",
       "        vertical-align: middle;\n",
       "    }\n",
       "\n",
       "    .dataframe tbody tr th {\n",
       "        vertical-align: top;\n",
       "    }\n",
       "\n",
       "    .dataframe thead th {\n",
       "        text-align: right;\n",
       "    }\n",
       "</style>\n",
       "<table border=\"1\" class=\"dataframe\">\n",
       "  <thead>\n",
       "    <tr style=\"text-align: right;\">\n",
       "      <th></th>\n",
       "      <th>A</th>\n",
       "      <th>B</th>\n",
       "      <th>C</th>\n",
       "    </tr>\n",
       "  </thead>\n",
       "  <tbody>\n",
       "    <tr>\n",
       "      <th>0</th>\n",
       "      <td>1.0</td>\n",
       "      <td>2.0</td>\n",
       "      <td>4.0</td>\n",
       "    </tr>\n",
       "    <tr>\n",
       "      <th>1</th>\n",
       "      <td>5.0</td>\n",
       "      <td>NaN</td>\n",
       "      <td>10.0</td>\n",
       "    </tr>\n",
       "  </tbody>\n",
       "</table>\n",
       "</div>"
      ],
      "text/plain": [
       "     A    B     C\n",
       "0  1.0  2.0   4.0\n",
       "1  5.0  NaN  10.0"
      ]
     },
     "execution_count": 44,
     "metadata": {},
     "output_type": "execute_result"
    }
   ],
   "source": [
    "pd.read_csv(StringIO(data), comment='#', skiprows=4, header=1)"
   ]
  },
  {
   "cell_type": "markdown",
   "metadata": {
    "id": "5qowbbRzGEth"
   },
   "source": [
    "### <font color='blue'>**Comentarios**</font>\n",
    "\n",
    "A veces, se pueden incluir comentarios o metadatos en un archivo:"
   ]
  },
  {
   "cell_type": "code",
   "execution_count": 45,
   "metadata": {
    "id": "bITUG1ZcGMqO"
   },
   "outputs": [
    {
     "name": "stdout",
     "output_type": "stream",
     "text": [
      "ID,level,category\n",
      "Patient1,123000,x # really unpleasant\n",
      "Patient2,23000,y # would not take his medicine\n",
      "Patient3,1234018,z # awesome\n",
      "\n"
     ]
    }
   ],
   "source": [
    "data = ('ID,level,category\\n'\n",
    "'Patient1,123000,x # really unpleasant\\n'\n",
    "'Patient2,23000,y # would not take his medicine\\n'\n",
    "'Patient3,1234018,z # awesome\\n')\n",
    "print(data)"
   ]
  },
  {
   "cell_type": "code",
   "execution_count": 46,
   "metadata": {
    "id": "2TXU63WIG6uI"
   },
   "outputs": [
    {
     "data": {
      "text/html": [
       "<div>\n",
       "<style scoped>\n",
       "    .dataframe tbody tr th:only-of-type {\n",
       "        vertical-align: middle;\n",
       "    }\n",
       "\n",
       "    .dataframe tbody tr th {\n",
       "        vertical-align: top;\n",
       "    }\n",
       "\n",
       "    .dataframe thead th {\n",
       "        text-align: right;\n",
       "    }\n",
       "</style>\n",
       "<table border=\"1\" class=\"dataframe\">\n",
       "  <thead>\n",
       "    <tr style=\"text-align: right;\">\n",
       "      <th></th>\n",
       "      <th>ID</th>\n",
       "      <th>level</th>\n",
       "      <th>category</th>\n",
       "    </tr>\n",
       "  </thead>\n",
       "  <tbody>\n",
       "    <tr>\n",
       "      <th>0</th>\n",
       "      <td>Patient1</td>\n",
       "      <td>123000</td>\n",
       "      <td>x # really unpleasant</td>\n",
       "    </tr>\n",
       "    <tr>\n",
       "      <th>1</th>\n",
       "      <td>Patient2</td>\n",
       "      <td>23000</td>\n",
       "      <td>y # would not take his medicine</td>\n",
       "    </tr>\n",
       "    <tr>\n",
       "      <th>2</th>\n",
       "      <td>Patient3</td>\n",
       "      <td>1234018</td>\n",
       "      <td>z # awesome</td>\n",
       "    </tr>\n",
       "  </tbody>\n",
       "</table>\n",
       "</div>"
      ],
      "text/plain": [
       "         ID    level                         category\n",
       "0  Patient1   123000            x # really unpleasant\n",
       "1  Patient2    23000  y # would not take his medicine\n",
       "2  Patient3  1234018                      z # awesome"
      ]
     },
     "execution_count": 46,
     "metadata": {},
     "output_type": "execute_result"
    }
   ],
   "source": [
    "df = pd.read_csv(StringIO(data))\n",
    "df"
   ]
  },
  {
   "cell_type": "code",
   "execution_count": 47,
   "metadata": {
    "id": "fGyAGmPwHUJ4"
   },
   "outputs": [
    {
     "data": {
      "text/html": [
       "<div>\n",
       "<style scoped>\n",
       "    .dataframe tbody tr th:only-of-type {\n",
       "        vertical-align: middle;\n",
       "    }\n",
       "\n",
       "    .dataframe tbody tr th {\n",
       "        vertical-align: top;\n",
       "    }\n",
       "\n",
       "    .dataframe thead th {\n",
       "        text-align: right;\n",
       "    }\n",
       "</style>\n",
       "<table border=\"1\" class=\"dataframe\">\n",
       "  <thead>\n",
       "    <tr style=\"text-align: right;\">\n",
       "      <th></th>\n",
       "      <th>ID</th>\n",
       "      <th>level</th>\n",
       "      <th>category</th>\n",
       "    </tr>\n",
       "  </thead>\n",
       "  <tbody>\n",
       "    <tr>\n",
       "      <th>0</th>\n",
       "      <td>Patient1</td>\n",
       "      <td>123000</td>\n",
       "      <td>x</td>\n",
       "    </tr>\n",
       "    <tr>\n",
       "      <th>1</th>\n",
       "      <td>Patient2</td>\n",
       "      <td>23000</td>\n",
       "      <td>y</td>\n",
       "    </tr>\n",
       "    <tr>\n",
       "      <th>2</th>\n",
       "      <td>Patient3</td>\n",
       "      <td>1234018</td>\n",
       "      <td>z</td>\n",
       "    </tr>\n",
       "  </tbody>\n",
       "</table>\n",
       "</div>"
      ],
      "text/plain": [
       "         ID    level category\n",
       "0  Patient1   123000       x \n",
       "1  Patient2    23000       y \n",
       "2  Patient3  1234018       z "
      ]
     },
     "execution_count": 47,
     "metadata": {},
     "output_type": "execute_result"
    }
   ],
   "source": [
    "df = pd.read_csv(StringIO(data), comment='#')\n",
    "df"
   ]
  },
  {
   "cell_type": "markdown",
   "metadata": {
    "id": "Jjferh9iHssz"
   },
   "source": [
    "## <font color='blue'>**Columnas de Índice y Delimitadores Finales**</font>\n",
    "\n",
    "Si un archivo tiene una columna de datos más que el número de nombres de columna, la primera columna se usará como nombres de fila del DataFrame:"
   ]
  },
  {
   "cell_type": "code",
   "execution_count": null,
   "metadata": {
    "id": "z_33-V6QH1nc"
   },
   "outputs": [],
   "source": [
    "data = ('a,b,c\\n'\n",
    "         '4,apple,bat,5.7\\n'\n",
    "         '8,orange,cow,10')\n",
    "print(data)"
   ]
  },
  {
   "cell_type": "code",
   "execution_count": null,
   "metadata": {
    "id": "mu-lD4XSH8Ym"
   },
   "outputs": [],
   "source": [
    "pd.read_csv(StringIO(data))"
   ]
  },
  {
   "cell_type": "code",
   "execution_count": null,
   "metadata": {
    "id": "cGJ9fAnrILXZ"
   },
   "outputs": [],
   "source": [
    "data = ('index,a,b,c\\n'\n",
    "         '4,apple,bat,5.7\\n'\n",
    "         '8,orange,cow,10')\n",
    "print(data)"
   ]
  },
  {
   "cell_type": "code",
   "execution_count": null,
   "metadata": {
    "id": "ooHJBWzfIB10"
   },
   "outputs": [],
   "source": [
    "pd.read_csv(StringIO(data), index_col=0)"
   ]
  },
  {
   "cell_type": "code",
   "execution_count": null,
   "metadata": {
    "id": "ssUiUirpIrQ_"
   },
   "outputs": [],
   "source": [
    "data = ('a,b,c\\n'\n",
    "         '4,apple,bat,\\n'\n",
    "         '8,orange,cow,')\n",
    "print(data)"
   ]
  },
  {
   "cell_type": "code",
   "execution_count": null,
   "metadata": {
    "id": "Otkqe3UrIxRh"
   },
   "outputs": [],
   "source": [
    "pd.read_csv(StringIO(data))"
   ]
  },
  {
   "cell_type": "code",
   "execution_count": null,
   "metadata": {
    "id": "x1voA4T5I0-l"
   },
   "outputs": [],
   "source": [
    "pd.read_csv(StringIO(data), index_col=False)"
   ]
  },
  {
   "cell_type": "code",
   "execution_count": null,
   "metadata": {
    "id": "0gQjLKtHI9VO"
   },
   "outputs": [],
   "source": [
    "data = ('a,b,c\\n'\n",
    "         '4,apple,bat,\\n'\n",
    "         '8,orange,cow,')\n",
    "print(data)"
   ]
  },
  {
   "cell_type": "code",
   "execution_count": null,
   "metadata": {
    "id": "tMld4rRRJBL-"
   },
   "outputs": [],
   "source": [
    "pd.read_csv(StringIO(data), usecols=['b', 'c'])"
   ]
  },
  {
   "cell_type": "code",
   "execution_count": null,
   "metadata": {
    "id": "W3BVKws7JDh-"
   },
   "outputs": [],
   "source": [
    "pd.read_csv(StringIO(data), usecols=['b', 'c'], index_col=0)"
   ]
  },
  {
   "cell_type": "markdown",
   "metadata": {
    "id": "tXxEoUo6NOsf"
   },
   "source": [
    "## <font color='blue'>**Manejo de Fechas**</font>\n",
    "\n",
    "### <font color='blue'>**Especificando Columnas de Fechas**</font>\n",
    "\n",
    "Para facilitar el trabajo con datos de fecha y hora, **read_csv()** usa los argumentos de palabras clave **parse_dates** y **date_parser** para permitir a los usuarios especificar una variedad de columnas y formatos de fecha/hora para convertir los datos de texto de entrada en objetos de fecha y hora.\n",
    "\n",
    "El caso más simple es simplemente pasar **parse_dates = True**:"
   ]
  },
  {
   "cell_type": "code",
   "execution_count": null,
   "metadata": {
    "id": "ZVF0IgTcNovc"
   },
   "outputs": [],
   "source": [
    "df = pd.read_csv('/content/drive/My Drive/UDD/Modulo 2 - Obtención y Preparación de Datos/Files/foo.csv', index_col=0, parse_dates=True)\n",
    "df"
   ]
  },
  {
   "cell_type": "code",
   "execution_count": null,
   "metadata": {
    "id": "e1LXW7_-Or6s"
   },
   "outputs": [],
   "source": [
    "df.index"
   ]
  },
  {
   "cell_type": "markdown",
   "metadata": {
    "id": "JUqLFVFEOzm_"
   },
   "source": [
    "Es posible que queramos almacenar datos de fecha y hora por separado, o almacenar varios campos de fecha por separado. La palabra clave **parse_dates** se puede utilizar para especificar una combinación de columnas para analizar las fechas y/o horas.\n",
    "\n",
    "Puede especificar una lista de listas de columnas para **parse_dates**, las columnas de fecha resultantes se antepondrán a la salida (para no afectar el orden de las columnas existentes) y los nombres de las nuevas columnas serán la concatenación de los nombres de las columnas del componente:"
   ]
  },
  {
   "cell_type": "code",
   "execution_count": null,
   "metadata": {
    "id": "UIvG4tTZO8sN"
   },
   "outputs": [],
   "source": [
    "print(open('/content/drive/My Drive/UDD/Modulo 2 - Obtención y Preparación de Datos/Files/tmp.csv').read())"
   ]
  },
  {
   "cell_type": "code",
   "execution_count": null,
   "metadata": {
    "id": "mBCKYfTcQn5q"
   },
   "outputs": [],
   "source": [
    "df = pd.read_csv('/content/drive/My Drive/UDD/Modulo 2 - Obtención y Preparación de Datos/Files/tmp.csv', header=None, parse_dates=[[1, 2], [1, 3]])\n",
    "df"
   ]
  },
  {
   "cell_type": "code",
   "execution_count": null,
   "metadata": {
    "id": "GRcCuol7QwHN"
   },
   "outputs": [],
   "source": [
    "df = pd.read_csv('/content/drive/My Drive/UDD/Modulo 2 - Obtención y Preparación de Datos/Files/tmp.csv', header=None, parse_dates=[[1, 2], [1, 3]], keep_date_col=True)\n",
    "df"
   ]
  },
  {
   "cell_type": "markdown",
   "metadata": {
    "id": "D1vE0u5uQ_94"
   },
   "source": [
    "Tenga en cuenta que si desea combinar varias columnas en una sola columna de fecha, se debe utilizar una lista anidada. En otras palabras, **parse_dates = [1, 2]** indica que la segunda y la tercera columna deben analizarse como columnas de fecha separadas, mientras que **parse_dates = [[1, 2]]** significa que las dos columnas deben analizarse en una sola columna.\n",
    "\n",
    "También puede usar un diccionario para especificar columnas de nombre personalizadas:"
   ]
  },
  {
   "cell_type": "code",
   "execution_count": null,
   "metadata": {
    "id": "K6XuOPzMRHfw"
   },
   "outputs": [],
   "source": [
    "date_spec = {'nominal': [1, 2], 'actual': [1, 3]}\n",
    "date_spec"
   ]
  },
  {
   "cell_type": "code",
   "execution_count": null,
   "metadata": {
    "id": "bPC8IKHLRMN1"
   },
   "outputs": [],
   "source": [
    "df = pd.read_csv('/content/drive/My Drive/UDD/Modulo 2 - Obtención y Preparación de Datos/Files/tmp.csv', header=None, parse_dates=date_spec)\n",
    "df"
   ]
  },
  {
   "cell_type": "markdown",
   "metadata": {
    "id": "dFCk6JZSRV8L"
   },
   "source": [
    "Es importante recordar que si se van a analizar varias columnas de texto en una sola columna de fecha, se antepone una nueva columna a los datos. La especificación **index_col** se basa en este nuevo conjunto de columnas en lugar de en las columnas de datos originales:"
   ]
  },
  {
   "cell_type": "code",
   "execution_count": null,
   "metadata": {
    "id": "_M68xigpRZsi"
   },
   "outputs": [],
   "source": [
    "date_spec = {'nominal': [1, 2], 'actual': [1, 3]}\n",
    "date_spec"
   ]
  },
  {
   "cell_type": "code",
   "execution_count": null,
   "metadata": {
    "id": "9ouT91d2RefF"
   },
   "outputs": [],
   "source": [
    "df = pd.read_csv('/content/drive/My Drive/UDD/Modulo 2 - Obtención y Preparación de Datos/Files/tmp.csv', header=None, parse_dates=date_spec, index_col=0)\n",
    "df"
   ]
  },
  {
   "cell_type": "markdown",
   "metadata": {
    "id": "OlmIPxA4RuZD"
   },
   "source": [
    "### <font color='blue'>**Funciones de Análisis de Fecha**</font>\n",
    "\n",
    "Se puede especificar una función **date_parser** personalizada para aprovechar al máximo la flexibilidad de la API de análisis de fechas:"
   ]
  },
  {
   "cell_type": "code",
   "execution_count": null,
   "metadata": {
    "id": "xIwLxhLVR7dM"
   },
   "outputs": [],
   "source": [
    "df = pd.read_csv('/content/drive/My Drive/UDD/Modulo 2 - Obtención y Preparación de Datos/Files/tmp.csv', header=None, parse_dates=date_spec, date_parser=pd.io.date_converters.parse_date_time)\n",
    "df"
   ]
  },
  {
   "cell_type": "markdown",
   "metadata": {
    "id": "eODURBN3SRXM"
   },
   "source": [
    "### <font color='blue'>**Inferir Formato de Fecha y Hora**</font>\n",
    "\n",
    "Si tiene **parse_dates** habilitado para algunas o todas sus columnas, y sus cadenas de fecha y hora están todas formateadas de la misma manera, puede obtener una gran aceleración al configurar **infer_datetime_format = True**. Si se establece, pandas intentará adivinar el formato de sus cadenas de fecha y hora y luego utilizará un medio más rápido para analizar las cadenas. Se han observado velocidades de análisis sintáctico de 5-10x. pandas recurrirá al análisis habitual si no se puede adivinar el formato o si el formato que se adivinó no se puede analizar correctamente toda la columna de cadenas. Entonces, en general, **infer_datetime_format** no debería tener consecuencias negativas si está habilitado.\n",
    "\n",
    "A continuación, se muestran algunos ejemplos de cadenas de fecha y hora que se pueden adivinar (todas representan el 30 de diciembre de 2011 a las 00:00:00):\n",
    "\n",
    "\"20111230\"\n",
    "\n",
    "\"2011/12/30\"\n",
    "\n",
    "\"20111230 00:00:00\"\n",
    "\n",
    "\"30/12/2011 00:00:00\"\n",
    "\n",
    "\"30/Dic/2011 00:00:00\"\n",
    "\n",
    "\"30/diciembre/2011 00:00:00\"\n",
    "\n",
    "Tenga en cuenta que **infer_datetime_format** es sensible a **dayfirst**. Con **dayfirst = True**, supondrá que “01/12/2011” es el 1 de diciembre. Con **dayfirst = False** (predeterminado) supondrá que “01/12/2011” es el 12 de enero."
   ]
  },
  {
   "cell_type": "code",
   "execution_count": null,
   "metadata": {
    "id": "xPbrhWoAT3cf"
   },
   "outputs": [],
   "source": [
    "df = pd.read_csv('/content/drive/My Drive/UDD/Modulo 2 - Obtención y Preparación de Datos/Files/foo.csv', index_col=0, parse_dates=True, infer_datetime_format=True)\n",
    "df"
   ]
  },
  {
   "cell_type": "markdown",
   "metadata": {
    "id": "-hBKDiAQUHgH"
   },
   "source": [
    "### <font color='blue'>**Formato Internacional de Fecha**</font>\n",
    "\n",
    "Si bien los formatos de fecha de EE.UU. tienden a ser MM/DD/YYYY, muchos formatos internacionales utilizan DD/MM/YYYY en su lugar. Para mayor comodidad, se proporciona una palabra clave **dayfirst**:"
   ]
  },
  {
   "cell_type": "code",
   "execution_count": null,
   "metadata": {
    "id": "0gxyDN30USOL"
   },
   "outputs": [],
   "source": [
    "print(open('/content/drive/My Drive/UDD/Modulo 2 - Obtención y Preparación de Datos/Files/tmp2.csv').read())"
   ]
  },
  {
   "cell_type": "code",
   "execution_count": null,
   "metadata": {
    "id": "Oe2rrqEtU4LV"
   },
   "outputs": [],
   "source": [
    "pd.read_csv('/content/drive/My Drive/UDD/Modulo 2 - Obtención y Preparación de Datos/Files/tmp2.csv', parse_dates=[0])"
   ]
  },
  {
   "cell_type": "code",
   "execution_count": null,
   "metadata": {
    "id": "pIn4sbHNU-oj"
   },
   "outputs": [],
   "source": [
    "pd.read_csv('/content/drive/My Drive/UDD/Modulo 2 - Obtención y Preparación de Datos/Files/tmp2.csv', dayfirst=True, parse_dates=[0])"
   ]
  },
  {
   "cell_type": "markdown",
   "metadata": {
    "id": "xkVCPSqYVaOl"
   },
   "source": [
    "## <font color='blue'>**Especificación del Método para la Conversión de Punto Flotante**</font>\n",
    "\n",
    "El parámetro **float_precisio**n se puede especificar para utilizar un convertidor de punto flotante específico durante el análisis con el motor C. Por ejemplo:"
   ]
  },
  {
   "cell_type": "code",
   "execution_count": null,
   "metadata": {
    "id": "Rsb2jsQkVp4s"
   },
   "outputs": [],
   "source": [
    "val = '0.3066101993807095471566981359501369297504425048828125'"
   ]
  },
  {
   "cell_type": "code",
   "execution_count": null,
   "metadata": {
    "id": "47kolhOMVsL0"
   },
   "outputs": [],
   "source": [
    "data = 'a,b,c\\n1,2,{0}'.format(val)\n",
    "print(data)"
   ]
  },
  {
   "cell_type": "code",
   "execution_count": null,
   "metadata": {
    "id": "w0-4RfztVzJ0"
   },
   "outputs": [],
   "source": [
    "abs(pd.read_csv(StringIO(data), engine='c', float_precision=None)['c'][0] - float(val))"
   ]
  },
  {
   "cell_type": "code",
   "execution_count": null,
   "metadata": {
    "id": "yDQpNy5HV8B0"
   },
   "outputs": [],
   "source": [
    "abs(pd.read_csv(StringIO(data), engine='c', float_precision='high')['c'][0] - float(val))"
   ]
  },
  {
   "cell_type": "code",
   "execution_count": null,
   "metadata": {
    "id": "H6Urt-8LV_kH"
   },
   "outputs": [],
   "source": [
    "abs(pd.read_csv(StringIO(data), engine='c', float_precision='round_trip')['c'][0] - float(val))"
   ]
  },
  {
   "cell_type": "markdown",
   "metadata": {
    "id": "JPhY9XnjWD-Z"
   },
   "source": [
    "## <font color='blue'>**Separador de Miles**</font>\n",
    "\n",
    "Para números grandes que se han escrito con un separador de miles, puede establecer la palabra clave **thousands** en una cadena de longitud 1 para que los enteros se analicen correctamente:\n",
    "\n",
    "De forma predeterminada, los números con un separador de miles se analizarán como cadenas:"
   ]
  },
  {
   "cell_type": "code",
   "execution_count": null,
   "metadata": {
    "id": "Ojepazw_W3uM"
   },
   "outputs": [],
   "source": [
    "print(open('/content/drive/My Drive/UDD/Modulo 2 - Obtención y Preparación de Datos/Files/tmp3.csv').read())"
   ]
  },
  {
   "cell_type": "code",
   "execution_count": null,
   "metadata": {
    "id": "j_6fsfwnW-no"
   },
   "outputs": [],
   "source": [
    "df = pd.read_csv('/content/drive/My Drive/UDD/Modulo 2 - Obtención y Preparación de Datos/Files/tmp3.csv', sep=';')\n",
    "df"
   ]
  },
  {
   "cell_type": "code",
   "execution_count": null,
   "metadata": {
    "id": "yDeTGGCNXMyQ"
   },
   "outputs": [],
   "source": [
    "df = pd.read_csv('/content/drive/My Drive/UDD/Modulo 2 - Obtención y Preparación de Datos/Files/tmp3.csv', sep=';', thousands=',')\n",
    "df"
   ]
  },
  {
   "cell_type": "markdown",
   "metadata": {
    "id": "o9zAlkQRYYlr"
   },
   "source": [
    "## <font color='blue'>**Valores NA**</font>\n",
    "\n",
    "Para controlar qué valores se analizan como valores perdidos (que se indican con NaN), se especifica una cadena en **na_values**. Si especifica una lista de cadenas, todos los valores en ella se consideran valores perdidos. Si especifica un número (un flotante, como 5.0 o un número entero como 5), los valores equivalentes correspondientes también implicarán un valor faltante (en este caso efectivamente [5.0, 5] se reconocen como NaN).\n",
    "\n",
    "Para anular completamente los valores predeterminados que se reconocen como faltantes, especifique **keep_default_na = False**.\n",
    "\n",
    "Los valores predeterminados reconocidos por NaN son ['-1. # IND', '1. # QNAN', '1. # IND', '-1. # QNAN', '# N / AN / A', '# N / A ',' N / A ',' n / a ',' NA ',' <NA> ',' #NA ',' NULL ',' null ',' NaN ',' -NaN ',' nan ' , '-nan', ''].\n"
   ]
  },
  {
   "cell_type": "markdown",
   "metadata": {
    "id": "FOQc45guY1Tv"
   },
   "source": [
    "## <font color='blue'>**Infinito**</font>\n",
    "\n",
    "Los valores similares a **inf** se analizarán como **np.inf** (infinito positivo) y **-inf** como **-np.inf** (infinito negativo). Estos ignorarán el caso del valor, es decir, **Inf**, también se analizará como **np.inf**."
   ]
  },
  {
   "cell_type": "markdown",
   "metadata": {
    "id": "D-vl8HcpZJWM"
   },
   "source": [
    "## <font color='blue'>**Valores Booleanos**</font>\n",
    "\n",
    "Los valores comunes *True*, *False*, *TRUE* y *FALSE* se reconocen como booleanos. En ocasiones, es posible que desee reconocer otros valores como booleanos. Para hacer esto, use las opciones **true_values** y **false_values** de la siguiente manera:"
   ]
  },
  {
   "cell_type": "code",
   "execution_count": null,
   "metadata": {
    "id": "LIa2lhrzZVzF"
   },
   "outputs": [],
   "source": [
    "data = ('a,b,c\\n'\n",
    "         '1,Yes,2\\n'\n",
    "         '3,No,4')\n",
    "print(data)"
   ]
  },
  {
   "cell_type": "code",
   "execution_count": null,
   "metadata": {
    "id": "eKf-aL3wZcAE"
   },
   "outputs": [],
   "source": [
    "pd.read_csv(StringIO(data))"
   ]
  },
  {
   "cell_type": "code",
   "execution_count": null,
   "metadata": {
    "id": "brZ8hSRHZe9N"
   },
   "outputs": [],
   "source": [
    "pd.read_csv(StringIO(data), true_values=['Yes'], false_values=['No'])"
   ]
  },
  {
   "cell_type": "markdown",
   "metadata": {
    "id": "tCSG1BosZvqE"
   },
   "source": [
    "## <font color='blue'>**Manejo de Líneas \"Malas\"**</font>\n",
    "\n",
    "Algunos archivos pueden tener líneas mal formadas con muy pocos campos o demasiados. Las líneas con muy pocos campos tendrán los valores NA rellenados en los campos finales. Las líneas con demasiados campos generarán un error de forma predeterminada:"
   ]
  },
  {
   "cell_type": "code",
   "execution_count": null,
   "metadata": {
    "id": "ZZZEDsGTZ3nD"
   },
   "outputs": [],
   "source": [
    "data = ('a,b,c\\n'\n",
    "         '1,2,3\\n'\n",
    "         '4,5,6,7\\n'\n",
    "         '8,9,10')\n",
    "print(data)"
   ]
  },
  {
   "cell_type": "code",
   "execution_count": null,
   "metadata": {
    "id": "I-2pza9gZ99i"
   },
   "outputs": [],
   "source": [
    "pd.read_csv(StringIO(data))"
   ]
  },
  {
   "cell_type": "markdown",
   "metadata": {
    "id": "lokdXrv8aFen"
   },
   "source": [
    "Puede optar por omitir las líneas incorrectas:"
   ]
  },
  {
   "cell_type": "code",
   "execution_count": null,
   "metadata": {
    "id": "ArqIkfkLaGTx"
   },
   "outputs": [],
   "source": [
    "pd.read_csv(StringIO(data), error_bad_lines=False)"
   ]
  },
  {
   "cell_type": "markdown",
   "metadata": {
    "id": "qYC3WxSYaOs-"
   },
   "source": [
    "También puede usar el parámetro **usecols** para eliminar datos de columna extraños que aparecen en algunas líneas pero no en otras:"
   ]
  },
  {
   "cell_type": "code",
   "execution_count": null,
   "metadata": {
    "id": "kPHgdcHDaRsw"
   },
   "outputs": [],
   "source": [
    "pd.read_csv(StringIO(data), usecols=[0, 1, 2])"
   ]
  },
  {
   "cell_type": "markdown",
   "metadata": {
    "id": "kGufrKEMbXch"
   },
   "source": [
    "## <font color='blue'>**Leer Varios Archivos para Crear un Solo DataFrame\"**</font>\n",
    "\n",
    "Es mejor usar **concat()** para combinar varios archivos.\n"
   ]
  },
  {
   "cell_type": "markdown",
   "metadata": {
    "id": "0v2_mdSFbqYZ"
   },
   "source": [
    "## <font color='blue'>**Iterando Archivos Fragmento a Fragmento\"**</font>\n",
    "\n",
    "Suponga que desea recorrer un archivo (potencialmente muy grande) de manera perezosa en lugar de leer todo el archivo en la memoria, como el siguiente:"
   ]
  },
  {
   "cell_type": "code",
   "execution_count": null,
   "metadata": {
    "id": "jgh4I6yHb1Qo"
   },
   "outputs": [],
   "source": [
    "print(open('/content/drive/My Drive/UDD/Modulo 2 - Obtención y Preparación de Datos/Files/bar.txt').read())"
   ]
  },
  {
   "cell_type": "code",
   "execution_count": null,
   "metadata": {
    "id": "91MDbYKAb6y5"
   },
   "outputs": [],
   "source": [
    "table = pd.read_csv('/content/drive/My Drive/UDD/Modulo 2 - Obtención y Preparación de Datos/Files/bar.txt', sep='|')\n",
    "table"
   ]
  },
  {
   "cell_type": "markdown",
   "metadata": {
    "id": "Bhj5G5I-cZsY"
   },
   "source": [
    "Al especificar un tamaño de trozo para **read_csv**, el valor de retorno será un objeto iterable de tipo TextFileReader:"
   ]
  },
  {
   "cell_type": "code",
   "execution_count": null,
   "metadata": {
    "id": "1kO7TzJtcb_7"
   },
   "outputs": [],
   "source": [
    "reader = pd.read_csv('/content/drive/My Drive/UDD/Modulo 2 - Obtención y Preparación de Datos/Files/bar.txt', sep='|', chunksize=4)\n",
    "reader"
   ]
  },
  {
   "cell_type": "code",
   "execution_count": null,
   "metadata": {
    "id": "wWff76Wyclx-"
   },
   "outputs": [],
   "source": [
    "for chunk in reader:\n",
    "  print(chunk)"
   ]
  },
  {
   "cell_type": "markdown",
   "metadata": {
    "id": "eqwNfkgCcsrX"
   },
   "source": [
    "Especificar **iterator = True** también devolverá el objeto TextFileReader:"
   ]
  },
  {
   "cell_type": "code",
   "execution_count": null,
   "metadata": {
    "id": "t2Ym5moTcuup"
   },
   "outputs": [],
   "source": [
    "reader = pd.read_csv('/content/drive/My Drive/UDD/Modulo 2 - Obtención y Preparación de Datos/Files/bar.txt', sep='|', iterator=True)\n",
    "reader.get_chunk(5)"
   ]
  },
  {
   "cell_type": "markdown",
   "metadata": {
    "id": "CMN3fkbIc8mG"
   },
   "source": [
    "## <font color='blue'>**Leyendo Archivos Remotos**</font>\n",
    "\n",
    "Usted puede pasar una URL a un archivo CSV."
   ]
  },
  {
   "cell_type": "code",
   "execution_count": null,
   "metadata": {
    "id": "dY2AUf6VdP0u"
   },
   "outputs": [],
   "source": [
    "df = pd.read_csv('https://download.bls.gov/pub/time.series/cu/cu.item', sep='\\t')\n",
    "df"
   ]
  },
  {
   "cell_type": "markdown",
   "metadata": {
    "id": "EJdazeipdnXB"
   },
   "source": [
    "# <font color='blue'>**Escribiendo Datos**</font>\n",
    "\n",
    "# <font color='blue'>**Escribir en Formato CSV**</font>\n",
    "\n",
    "Los objetos **Series** y **DataFram**e tienen un método de instancia **to_csv** que permite almacenar el contenido del objeto como un archivo de valores separados por comas. La función toma varios argumentos. Solo se requiere el primero.\n",
    "\n",
    "* **path_or_buf**: una ruta de cadena al archivo para escribir o un objeto de archivo. Si es un objeto de archivo, debe abrirse con una nueva línea = ’’\n",
    "\n",
    "* **sep**: delimitador de campo para el archivo de salida (predeterminado \",\")\n",
    "\n",
    "* **na_rep**: una representación de cadena de un valor faltante (predeterminado \"\")\n",
    "\n",
    "* **float_format**: cadena de formato para números de punto flotante\n",
    "\n",
    "* **columns**: columnas para escribir (predeterminado *None*)\n",
    "\n",
    "* **header**: si se deben escribir los nombres de las columnas (predeterminado *True*)\n",
    "\n",
    "* **index**: si se deben escribir nombres de fila (índice) (predeterminado *True*)\n",
    "\n",
    "* **index_label**: Etiqueta(s) de columna para la(s) columna(s) de índice si lo desea. Si *None* (predeterminado) y el header y el index son True, se utilizan los nombres de index. (Se debe dar una secuencia si el DataFrame usa MultiIndex).\n",
    "\n",
    "* **mode**: modo de escritura Python, predeterminado \"w\"\n",
    "\n",
    "* **encoding**: una cadena que representa la codificación que se utilizará si el contenido no es ASCII, para las versiones de Python anteriores a la 3\n",
    "\n",
    "* **line_terminator**: secuencia de caracteres que indica el final de la línea (por defecto *os.linesep*)\n",
    "\n",
    "* **quoting**: establece reglas de citado como en el módulo csv (por defecto csv.QUOTE_MINIMAL). Tenga en cuenta que si ha establecido un **float_format**, los flotantes se convierten en cadenas y csv.QUOTE_NONNUMERIC los tratará como no numéricos\n",
    "\n",
    "* **quotechar**: Carácter utilizado para citar campos (predeterminado \"\" \")\n",
    "\n",
    "* **doublequote**: Control de cotización de quotechar en campos (por defecto *True*)\n",
    "\n",
    "* **escapechar**: Carácter utilizado para escapar de *sep* y *quotechar* cuando sea apropiado (predeterminado *None*)\n",
    "\n",
    "* **chunksize**: número de filas para escribir a la vez\n",
    "\n",
    "* **date_format**: cadena de formato para objetos de fecha y hora\n"
   ]
  },
  {
   "cell_type": "markdown",
   "metadata": {
    "id": "UZqRyT2tgf1C"
   },
   "source": [
    "# <font color='blue'>**Escribir una Cadena Formateada**</font>\n",
    "\n",
    "El objeto DataFrame tiene un método de instancia **to_string** que permite controlar la representación de cadena del objeto. Todos los argumentos son opcionales:\n",
    "\n",
    "* **buf** predeterminado *None*, por ejemplo, un objeto StringIO\n",
    "\n",
    "* **columns** predeterminadas *None*, qué columnas escribir\n",
    "\n",
    "* **col_space** predeterminado *None*, ancho mínimo de cada columna.\n",
    "\n",
    "* **na_rep** predeterminado NaN, representación del valor NA\n",
    "\n",
    "* **formatters** predeterminado *None*, un diccionario (por columna) de funciones, cada una de las cuales toma un solo argumento y devuelve una cadena formateada\n",
    "\n",
    "* **float_format** predeterminado *None*, una función que toma un solo argumento (flotante) y devuelve una cadena formateada; que se aplicará a los flotantes en el DataFrame.\n",
    "\n",
    "* **sparsify** predeterminado *True*, establecido en *False* para un DataFrame con un índice jerárquico para imprimir cada clave MultiIndex en cada fila.\n",
    "\n",
    "* **index_names** predeterminado *True*, imprimirá los nombres de los índices\n",
    "\n",
    "* **index** predeterminado *True*, imprimirá el índice (es decir, etiquetas de fila)\n",
    "\n",
    "* **header** predeterminado *True*, imprimirá las etiquetas de las columnas\n",
    "\n",
    "* **justify** por defecto a la *left*, imprimirá los encabezados de columna justificados a la izquierda o derecha\n",
    "\n",
    "El objeto Series también tiene un método **to_string**, pero solo con los argumentos **buf**, **na_rep**, **float_format**. También hay un argumento de length que, si se establece en *True*, generará adicionalmente la longitud de la Serie."
   ]
  },
  {
   "cell_type": "markdown",
   "metadata": {
    "id": "49totW-ChluF"
   },
   "source": [
    "# <font color='blue'>**JSON**</font>\n",
    "\n",
    "## <font color='blue'>**Escribir un JSON**</font>\n",
    "\n",
    "Series o DataFrames pueden ser convertidos en JSON. Usando **to_json** con los siguientes parámetros opcionales:\n",
    "\n",
    "* **path_or_buf**: el nombre de ruta o búfer para escribir la salida. Este puede ser *None*, en cuyo caso se devuelve una cadena JSON.\n",
    "\n",
    "* **orient**:\n",
    "  * **Series**:\n",
    "    * por defecto es el *index*\n",
    "    * permite los valores {split, records, index}\n",
    "\n",
    "  * DataFrame:\n",
    "    * por defecto es *columns*\n",
    "    * permite los valores {split, records, index, columns, values, table}\n",
    "\n",
    "* **date_format**: str, tipo de conversión de fecha, \"época\" para la marca de tiempo, \"iso\" para ISO8601.\n",
    "\n",
    "* **double_precision**: el número de posiciones decimales que se utilizarán al codificar valores de coma flotante, por defecto 10.\n",
    "\n",
    "* **force_ascii**: forzar la cadena codificada para que sea ASCII, por defecto *True*.\n",
    "\n",
    "* **date_unit**: la unidad de tiempo para codificar, gobierna la marca de tiempo y la precisión ISO8601. Uno de \"s\", \"ms\", \"us\" o \"ns\" para segundos, milisegundos, microsegundos y nanosegundos respectivamente. \"ms\" predeterminado.\n",
    "\n",
    "* **default_handler**: el controlador al que se debe llamar si un objeto no se puede convertir de otro modo a un formato adecuado para JSON. Toma un solo argumento, que es el objeto a convertir, y devuelve un objeto serializable.\n",
    "\n",
    "* **lines**: si los registros se orientan, escribirá cada registro por línea como json.\n"
   ]
  },
  {
   "cell_type": "code",
   "execution_count": 4,
   "metadata": {
    "id": "dqngG-qVqtDQ"
   },
   "outputs": [
    {
     "ename": "NameError",
     "evalue": "name 'np' is not defined",
     "output_type": "error",
     "traceback": [
      "\u001b[1;31m---------------------------------------------------------------------------\u001b[0m",
      "\u001b[1;31mNameError\u001b[0m                                 Traceback (most recent call last)",
      "\u001b[1;32m<ipython-input-4-719dcbf02064>\u001b[0m in \u001b[0;36m<module>\u001b[1;34m\u001b[0m\n\u001b[1;32m----> 1\u001b[1;33m \u001b[0mdfj\u001b[0m \u001b[1;33m=\u001b[0m \u001b[0mpd\u001b[0m\u001b[1;33m.\u001b[0m\u001b[0mDataFrame\u001b[0m\u001b[1;33m(\u001b[0m\u001b[0mnp\u001b[0m\u001b[1;33m.\u001b[0m\u001b[0mrandom\u001b[0m\u001b[1;33m.\u001b[0m\u001b[0mrandn\u001b[0m\u001b[1;33m(\u001b[0m\u001b[1;36m5\u001b[0m\u001b[1;33m,\u001b[0m \u001b[1;36m2\u001b[0m\u001b[1;33m)\u001b[0m\u001b[1;33m,\u001b[0m \u001b[0mcolumns\u001b[0m\u001b[1;33m=\u001b[0m\u001b[0mlist\u001b[0m\u001b[1;33m(\u001b[0m\u001b[1;34m'AB'\u001b[0m\u001b[1;33m)\u001b[0m\u001b[1;33m)\u001b[0m\u001b[1;33m\u001b[0m\u001b[1;33m\u001b[0m\u001b[0m\n\u001b[0m\u001b[0;32m      2\u001b[0m \u001b[0mdfj\u001b[0m\u001b[1;33m\u001b[0m\u001b[1;33m\u001b[0m\u001b[0m\n",
      "\u001b[1;31mNameError\u001b[0m: name 'np' is not defined"
     ]
    }
   ],
   "source": [
    "dfj = pd.DataFrame(np.random.randn(5, 2), columns=list('AB'))\n",
    "dfj"
   ]
  },
  {
   "cell_type": "code",
   "execution_count": null,
   "metadata": {
    "id": "t_a4jqOXq0LS"
   },
   "outputs": [],
   "source": [
    "json = dfj.to_json()\n",
    "json"
   ]
  },
  {
   "cell_type": "code",
   "execution_count": null,
   "metadata": {
    "id": "ERBzse9oq14I"
   },
   "outputs": [],
   "source": [
    "dfjo = pd.DataFrame(dict(A=range(1, 4), B=range(4, 7), C=range(7, 10)),\n",
    "                     columns=list('ABC'), index=list('xyz'))\n",
    "dfjo"
   ]
  },
  {
   "cell_type": "code",
   "execution_count": null,
   "metadata": {
    "id": "YFYuL5uFrDAq"
   },
   "outputs": [],
   "source": [
    "sjo = pd.Series(dict(x=15, y=16, z=17), name='D')\n",
    "sjo"
   ]
  },
  {
   "cell_type": "code",
   "execution_count": null,
   "metadata": {
    "id": "x5BHG2TRrK95"
   },
   "outputs": [],
   "source": [
    "dfjo.to_json(orient=\"columns\")"
   ]
  },
  {
   "cell_type": "code",
   "execution_count": null,
   "metadata": {
    "id": "akSvxU_LrQk2"
   },
   "outputs": [],
   "source": [
    "dfjo.to_json(orient=\"index\")"
   ]
  },
  {
   "cell_type": "code",
   "execution_count": null,
   "metadata": {
    "id": "7XENubR-rUA4"
   },
   "outputs": [],
   "source": [
    "dfjo.to_json(orient=\"records\")"
   ]
  },
  {
   "cell_type": "code",
   "execution_count": null,
   "metadata": {
    "id": "Z1Rt9TokrW_a"
   },
   "outputs": [],
   "source": [
    "dfjo.to_json(orient=\"values\")"
   ]
  },
  {
   "cell_type": "code",
   "execution_count": null,
   "metadata": {
    "id": "obGlFEXgraT0"
   },
   "outputs": [],
   "source": [
    "dfjo.to_json(orient=\"split\")"
   ]
  },
  {
   "cell_type": "code",
   "execution_count": null,
   "metadata": {
    "id": "y41fADURrbr-"
   },
   "outputs": [],
   "source": [
    "sjo.to_json(orient=\"split\")"
   ]
  },
  {
   "cell_type": "markdown",
   "metadata": {
    "id": "vPXQ5jgnrjaO"
   },
   "source": [
    "## <font color='blue'>**Leyendo un JSON**</font>\n",
    "\n",
    "La lectura de una cadena JSON en un objeto pandas puede requerir una serie de parámetros. El analizador intentará analizar un DataFrame si no se proporciona **typ** o si es *None*. Para forzar explícitamente el análisis de series, pase *typ = series*.\n",
    "\n",
    "* **filepath_or_buffer**: una cadena JSON VÁLIDA o un identificador de archivo/StringIO. La cadena podría ser una URL. Los esquemas de URL válidos incluyen http, ftp, S3 y file. Para las URL de archivos, se espera un host. Por ejemplo, un archivo local podría ser file: //localhost/path/to/table.json\n",
    "\n",
    "* **typ**: tipo de objeto para recuperar (serie o dataframe), \"Dataframe\" es el valor predeterminado\n",
    "\n",
    "* **orient**:\n",
    "  * **Serie**:\n",
    "    * el valor predeterminado es *index*\n",
    "    * los valores permitidos son {split, records, index}\n",
    "\n",
    "  * **Dataframe**:\n",
    "      * por defecto son *columns*\n",
    "      * los valores permitidos son {división, registros, índice, columnas, valores, tabla}\n",
    "\n",
    "* **dtype**: si es *True*, infiere *dtypes*, si es un diccionario de columna a dtype, usa esos valores, si es *False*, entonces no infiera dtypes, el valor predeterminado es *True*, se aplica solo a los datos.\n",
    "\n",
    "* **convert_axes**: boolean, intenta convertir los ejes a los dtypes adecuados, el valor predeterminado es *True*\n",
    "\n",
    "* **convert_dates**: una lista de columnas para analizar las fechas; Si es *True*, intente analizar columnas similares a fechas, el valor predeterminado es *True*.\n",
    "\n",
    "* **keep_default_dates**: booleano, por defecto *True*. Si está analizando fechas, analiza las columnas de tipo fecha predeterminadas.\n",
    "\n",
    "* **numpy**: decodificación directa de matrices NumPy. El valor predeterminado es *False*; solo admite datos numéricos, aunque las etiquetas pueden ser no numéricas. También tenga en cuenta que el orden JSON DEBE ser el mismo para cada término si **numpy = True**.\n",
    "\n",
    "* **precise_float**: booleano, por defecto *False*. Configúrelo para habilitar el uso de la función de mayor precisión (*strtod*) al decodificar cadenas a valores dobles. El valor predeterminado (*False*) utiliza una funcionalidad integrada rápida pero menos precisa.\n",
    "\n",
    "* **date_unit**: str, la unidad de marca de tiempo para detectar si se convierten fechas. *None* es el valor predeterminado. De forma predeterminada, se detectará la precisión de la marca de tiempo; si no se desea, pase uno de 's', 'ms', 'us' o 'ns' para forzar la precisión de la marca de tiempo a segundos, milisegundos, microsegundos o nanosegundos respectivamente.\n",
    "\n",
    "* **lines**: lee el archivo como un objeto json por línea.\n",
    "\n",
    "* **encoding**: la codificación que se utilizará para decodificar los bytes py3.\n",
    "\n",
    "* **chunksize**: cuando se usa en combinación con **lines = True**, devuelve un JsonReader que lee en líneas de chunksize por iteración."
   ]
  },
  {
   "cell_type": "markdown",
   "metadata": {
    "id": "xULTz7UMuAXP"
   },
   "source": [
    "# <font color='blue'>**HTML**</font>\n",
    "\n",
    "## <font color='blue'>**Leer HTML**</font>"
   ]
  },
  {
   "cell_type": "code",
   "execution_count": null,
   "metadata": {
    "id": "mbKOmJunuF4s"
   },
   "outputs": [],
   "source": [
    "url = 'https://www.fdic.gov/bank/individual/failed/banklist.html'\n",
    "dfs = pd.read_html(url)\n",
    "dfs"
   ]
  },
  {
   "cell_type": "markdown",
   "metadata": {
    "id": "WBDPHCxwu_4r"
   },
   "source": [
    "## <font color='blue'>**Excribir un HTML**</font>"
   ]
  },
  {
   "cell_type": "code",
   "execution_count": null,
   "metadata": {
    "id": "-fXTFMXtvBov"
   },
   "outputs": [],
   "source": [
    "df = pd.DataFrame(np.random.randn(2, 2))\n",
    "df"
   ]
  },
  {
   "cell_type": "code",
   "execution_count": null,
   "metadata": {
    "id": "craR2D64vEKu"
   },
   "outputs": [],
   "source": [
    "print(df.to_html())"
   ]
  },
  {
   "cell_type": "code",
   "execution_count": null,
   "metadata": {
    "id": "M0HTDBhHvNRC"
   },
   "outputs": [],
   "source": [
    "print(df.to_html(columns=[0]))"
   ]
  },
  {
   "cell_type": "code",
   "execution_count": null,
   "metadata": {
    "id": "q8u4Y4oRvTbj"
   },
   "outputs": [],
   "source": [
    "print(df.to_html(float_format='{0:.10f}'.format))"
   ]
  },
  {
   "cell_type": "markdown",
   "metadata": {
    "id": "kfT1Pb7bvjOQ"
   },
   "source": [
    "# <font color='blue'>**Archivos Excel**</font>\n",
    "\n",
    "El método **read_excel()** puede leer archivos de Excel 2003 (.xls) usando el módulo **xlrd** Python. Los archivos de Excel 2007+ (.xlsx) se pueden leer usando **xlrd** o **openpyxl**. Los archivos binarios de Excel (.xlsb) se pueden leer usando **pyxlsb**. El método de instancia **to_excel()** se utiliza para guardar un DataFrame en Excel. Generalmente, la semántica es similar a trabajar con datos csv.\n",
    "\n",
    "## <font color='blue'>**Leer Excel**</font>\n",
    "\n",
    "En el caso de uso más básico, **read_excel** toma una *ruta a un archivo* de Excel y el *sheet_name* indica qué hoja analizar."
   ]
  },
  {
   "cell_type": "code",
   "execution_count": null,
   "metadata": {
    "id": "OWEChjgLxQ7C"
   },
   "outputs": [],
   "source": [
    "pd.read_excel('/content/drive/My Drive/UDD/Modulo 2 - Obtención y Preparación de Datos/Files/ESI_2017.xlsx')"
   ]
  },
  {
   "cell_type": "code",
   "execution_count": null,
   "metadata": {
    "id": "6LKje1zqxckl"
   },
   "outputs": [],
   "source": [
    "pd.read_excel('/content/drive/My Drive/UDD/Modulo 2 - Obtención y Preparación de Datos/Files/ESI_2017.xlsx', sheet_name='clasificacion_internacional_niv')"
   ]
  },
  {
   "cell_type": "code",
   "execution_count": null,
   "metadata": {
    "id": "MuCsXETMxyMH"
   },
   "outputs": [],
   "source": [
    "pd.read_excel('/content/drive/My Drive/UDD/Modulo 2 - Obtención y Preparación de Datos/Files/ESI_2017.xlsx', sheet_name=None)"
   ]
  },
  {
   "cell_type": "markdown",
   "metadata": {
    "id": "46CGnskWzCKs"
   },
   "source": [
    "## <font color='blue'>**Escribir un Archivo Excel**</font>\n",
    "\n",
    "Para escribir un objeto DataFrame en una hoja de un archivo de Excel, puede usar el método de instancia **to_excel**. Los argumentos son en gran medida los mismos que los de **to_csv** descritos anteriormente, el primer argumento es el nombre del archivo de Excel y el segundo argumento opcional el nombre de la hoja en la que se debe escribir el DataFrame. Por ejemplo:\n",
    "\n",
    "\n",
    "\n",
    "```\n",
    "df.to_excel('path_to_file.xlsx', sheet_name='Sheet1')\n",
    "```\n",
    "\n"
   ]
  }
 ],
 "metadata": {
  "colab": {
   "authorship_tag": "ABX9TyNYGUSHPbf6kkH8iD0T4UGi",
   "mount_file_id": "1nzLAFeadur8vLJqCgCKoUEFLavKkQwcO",
   "name": "7-Lectura de Archivos.ipynb",
   "provenance": []
  },
  "kernelspec": {
   "display_name": "Python 3",
   "language": "python",
   "name": "python3"
  },
  "language_info": {
   "codemirror_mode": {
    "name": "ipython",
    "version": 3
   },
   "file_extension": ".py",
   "mimetype": "text/x-python",
   "name": "python",
   "nbconvert_exporter": "python",
   "pygments_lexer": "ipython3",
   "version": "3.7.5"
  }
 },
 "nbformat": 4,
 "nbformat_minor": 1
}
