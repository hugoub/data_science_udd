{
 "cells": [
  {
   "cell_type": "markdown",
   "metadata": {
    "id": "i1pQhEx15avj"
   },
   "source": [
    "# <font color='blue'>**Proyecto 3: Modelo de Gaussian Naive Bayes para Apoyar la Toma de Decisiones**</font>\n",
    "\n",
    "## ¿Comprar o arrendar casa? ¿Qué me conviene?\n",
    "\n",
    "En este ejercicio, usaremos el algoritmo de Gaussian Naive Bayes para decidir \n",
    "si nos conviene:\n",
    "* Comprar una casa \n",
    "* Arrendar una casa\n",
    "\n",
    "Para ello utilizaremos el algoritmo Naive Bayes."
   ]
  },
  {
   "cell_type": "markdown",
   "metadata": {
    "id": "GyAC5vRX5awL"
   },
   "source": [
    "## <font color='blue'>**Estadística Bayesiana**</font>\n",
    "\n",
    "La **estadística bayesiana** es un subconjunto del campo de la estadística en la que la evidencia sobre el verdadero estado de las cosas se expresa en términos de grados de creencia (certeza). Esta filosofía de tratar a las creencias como probabilidad es algo natural para los seres humanos. Nosotros la utilizamos constantemente a medida que interactuamos con el mundo y sólo vemos verdades parciales; necesitando reunir pruebas para formar nuestras creencias.\n",
    "\n",
    "La diferencia fundamental entre la estadística clásica (frecuentista) y la bayesiana es el concepto de probabilidad. Para la estadística clásica es un concepto objetivo, que se encuentra en la naturaleza, mientras que para la estadística bayesiana se encuentra en el observador, siendo así un concepto subjetivo. De este modo, en estadística clásica solo se toma como fuente de información las muestras obtenidas. En el caso bayesiano, sin embargo, además de la muestra también juega un papel fundamental la información previa o externa que se posee en relación a los fenómenos que se tratan de modelar.\n",
    "\n",
    "La estadística bayesiana ha demostrando su utilidad en ciertas estimaciones basadas en el conocimiento subjetivo a priori y el hecho de permitir revisar esas estimaciones en función de la evidencia empírica es lo que está abriendo nuevas formas de hacer conocimiento. Una aplicación de esto son los clasificadores bayesianos que son frecuentemente usados en implementaciones de filtros de correo basura, que se adaptan con el uso. La estadística bayesiana es un tema muy interesante que merece un artículo en sí mismo.\n",
    "\n",
    "## <font color='blue'>**Teorema de Bayes**</font>\n",
    "\n",
    "El teorema de Bayes es una ecuación que describe la relación de probabilidades condicionales de cantidades estadísticas. En clasificación bayesiana estamos interesados en encontrar la probabilidad de que ocurra una “clase” dadas unas características observadas (datos). Lo podemos escribir como $P(Clase|Datos)$. El teorema de Bayes nos dice cómo lo podemos expresar en términos de cantidades que podemos calcular directamente:\n",
    "\n",
    "$$P(Clase|Datos) = \\frac{P(Datos|Clase)*P(Clase)}{P(Datos)}$$\n",
    "\n",
    "* **Clase** es una salida en particular, por ejemplo “comprar”\n",
    "* **Datos** son nuestras características, por ejemplo los ingresos, gastos, hijos, etc.\n",
    "* **P(Clase|Datos)** se llama posterior (y es el resultado que queremos hallar)\n",
    "* **P(Datos|Clase)** se llama “verosimilitud” (en inglés likelihood)\n",
    "* **P(Clase)** se llama anterior (pues es una probabilidad que ya tenemos)\n",
    "* **P(Datos)** se llama probabilidad marginal\n",
    "\n",
    "Para que quede más claro, ilustremos la aplicación de la inferencia bayesiana con un simple ejemplo del diagnostico médico, uno de los campos dónde más éxito ha tenido. Supongamos que nos hicimos un estudio y nos ha dado positivo para una rara enfermedad que solo el 0,3% de la población mundial tiene. La tasa de efectividad de este estudio es del 99%, es decir, que solo da falsos positivos en el 1% de los casos. *¿Cuán probable es que realmente tengamos la enfermedad?*.\n",
    "\n",
    "$$P( enfermedad|pos)=\\frac{P(pos|enfermedad)P(enfermedad)}{P(pos)}$$"
   ]
  },
  {
   "cell_type": "code",
   "execution_count": 3,
   "metadata": {
    "id": "uRMjK8rFB0QQ"
   },
   "outputs": [
    {
     "data": {
      "text/plain": [
       "0.297"
      ]
     },
     "execution_count": 3,
     "metadata": {},
     "output_type": "execute_result"
    }
   ],
   "source": [
    "# Ejemplo simple teorema de Bayes aplicado a estimación de un sólo parámetro.\n",
    "a_priori = 0.003\n",
    "likelihood = 0.99\n",
    "evidencia = 0.01\n",
    "\n",
    "a_posteriori = likelihood * a_priori / evidencia\n",
    "a_posteriori"
   ]
  },
  {
   "cell_type": "markdown",
   "metadata": {
    "id": "CPVuoRzrCx7f"
   },
   "source": [
    "En un principio, nos veríamos tentados a responder que hay un 99% de probabilidad de que tengamos la enfermedad; pero en este caso nos estaríamos olvidando del concepto importante del a priori. Sabemos con anterioridad que la enfermedad es extremadamente rara (solo el 0,3% la tiene); si incluimos esta información previa en nuestro cálculo de probabilidad y aplicamos el teorema de Bayes podemos llegar a una conclusión totalmente distinta."
   ]
  },
  {
   "cell_type": "markdown",
   "metadata": {
    "id": "k1St_H8XNHqh"
   },
   "source": [
    "Si estamos tratando de elegir entre dos clases como por ejemplo “comprar” ó “arrendar”, entonces una manera de tomar la decisión es calcular la tasa de probabilidades a posterior:\n",
    "\n",
    "$$\\frac{P(Comprar|Datos)}{P(Arrendar|Datos)} = \\frac{P(Datos|Comprar)*P(Comprar)}{P(Datos|Arrendar)*P(Arrendar)}$$\n",
    "\n",
    "con esta maniobra, nos deshacemos del denominador de la ecuación anterior $P(Datos)$ el llamado “probabilidad marginal”."
   ]
  },
  {
   "cell_type": "code",
   "execution_count": 2,
   "metadata": {
    "ExecuteTime": {
     "end_time": "2018-08-18T21:55:10.328067Z",
     "start_time": "2018-08-18T21:55:10.319427Z"
    },
    "id": "jV3U64Dq5avl"
   },
   "outputs": [],
   "source": [
    "#Seteos previos\n",
    "\n",
    "import pandas as pd\n",
    "import numpy as np\n",
    "import matplotlib.pyplot as plt\n",
    "from matplotlib import colors\n",
    "import seaborn as sb\n",
    "\n",
    "%matplotlib inline\n",
    "plt.rcParams['figure.figsize'] = (16, 9)\n",
    "plt.style.use('ggplot')\n",
    "\n",
    "from sklearn.model_selection import train_test_split\n",
    "from sklearn.metrics import classification_report\n",
    "from sklearn.metrics import confusion_matrix\n",
    "from sklearn.naive_bayes import GaussianNB\n",
    "from sklearn.feature_selection import SelectKBest"
   ]
  },
  {
   "cell_type": "markdown",
   "metadata": {
    "ExecuteTime": {
     "end_time": "2018-08-19T08:23:37.245939Z",
     "start_time": "2018-08-19T08:23:37.242853Z"
    },
    "id": "AzDmnXjd5avo"
   },
   "source": [
    "## <font color='green'>**Parte 1: Cargar Archivos**</font>\n",
    "\n",
    "El archivo \"comprar_arrendar.csv\" contiene la información para entrenar un modelo para el apoyo a la toma de decisiones. El archivo contiene los datos necesarios para el modelo y las referencias para entender las variables del modelo.\n",
    "\n",
    "1. Cargue el archivo \"comprar_arrendar.csv\" en un dataframe que contenga todos los datos del problema\n",
    "2. Guarde en algún tipo de variables de los vistos en clases, las referencias en los comentarios de cada una de las variables.\n"
   ]
  },
  {
   "cell_type": "code",
   "execution_count": 3,
   "metadata": {},
   "outputs": [
    {
     "data": {
      "text/html": [
       "<div>\n",
       "<style scoped>\n",
       "    .dataframe tbody tr th:only-of-type {\n",
       "        vertical-align: middle;\n",
       "    }\n",
       "\n",
       "    .dataframe tbody tr th {\n",
       "        vertical-align: top;\n",
       "    }\n",
       "\n",
       "    .dataframe thead th {\n",
       "        text-align: right;\n",
       "    }\n",
       "</style>\n",
       "<table border=\"1\" class=\"dataframe\">\n",
       "  <thead>\n",
       "    <tr style=\"text-align: right;\">\n",
       "      <th></th>\n",
       "      <th>ingresos</th>\n",
       "      <th>gastos_comunes</th>\n",
       "      <th>pago_vehiculo</th>\n",
       "      <th>gastos_otros</th>\n",
       "      <th>ahorros</th>\n",
       "      <th>vivienda</th>\n",
       "      <th>estado_civil</th>\n",
       "      <th>hijos</th>\n",
       "      <th>trabajo</th>\n",
       "      <th>comprar</th>\n",
       "    </tr>\n",
       "  </thead>\n",
       "  <tbody>\n",
       "    <tr>\n",
       "      <th>0</th>\n",
       "      <td>6000</td>\n",
       "      <td>1000</td>\n",
       "      <td>0</td>\n",
       "      <td>600</td>\n",
       "      <td>50000</td>\n",
       "      <td>400000</td>\n",
       "      <td>0</td>\n",
       "      <td>2</td>\n",
       "      <td>2</td>\n",
       "      <td>1</td>\n",
       "    </tr>\n",
       "    <tr>\n",
       "      <th>1</th>\n",
       "      <td>6745</td>\n",
       "      <td>944</td>\n",
       "      <td>123</td>\n",
       "      <td>429</td>\n",
       "      <td>43240</td>\n",
       "      <td>636897</td>\n",
       "      <td>1</td>\n",
       "      <td>3</td>\n",
       "      <td>6</td>\n",
       "      <td>0</td>\n",
       "    </tr>\n",
       "    <tr>\n",
       "      <th>2</th>\n",
       "      <td>6455</td>\n",
       "      <td>1033</td>\n",
       "      <td>98</td>\n",
       "      <td>795</td>\n",
       "      <td>57463</td>\n",
       "      <td>321779</td>\n",
       "      <td>2</td>\n",
       "      <td>1</td>\n",
       "      <td>8</td>\n",
       "      <td>1</td>\n",
       "    </tr>\n",
       "    <tr>\n",
       "      <th>3</th>\n",
       "      <td>7098</td>\n",
       "      <td>1278</td>\n",
       "      <td>15</td>\n",
       "      <td>254</td>\n",
       "      <td>54506</td>\n",
       "      <td>660933</td>\n",
       "      <td>0</td>\n",
       "      <td>0</td>\n",
       "      <td>3</td>\n",
       "      <td>0</td>\n",
       "    </tr>\n",
       "    <tr>\n",
       "      <th>4</th>\n",
       "      <td>6167</td>\n",
       "      <td>863</td>\n",
       "      <td>223</td>\n",
       "      <td>520</td>\n",
       "      <td>41512</td>\n",
       "      <td>348932</td>\n",
       "      <td>0</td>\n",
       "      <td>0</td>\n",
       "      <td>3</td>\n",
       "      <td>1</td>\n",
       "    </tr>\n",
       "    <tr>\n",
       "      <th>...</th>\n",
       "      <td>...</td>\n",
       "      <td>...</td>\n",
       "      <td>...</td>\n",
       "      <td>...</td>\n",
       "      <td>...</td>\n",
       "      <td>...</td>\n",
       "      <td>...</td>\n",
       "      <td>...</td>\n",
       "      <td>...</td>\n",
       "      <td>...</td>\n",
       "    </tr>\n",
       "    <tr>\n",
       "      <th>197</th>\n",
       "      <td>3831</td>\n",
       "      <td>690</td>\n",
       "      <td>352</td>\n",
       "      <td>488</td>\n",
       "      <td>10723</td>\n",
       "      <td>363120</td>\n",
       "      <td>0</td>\n",
       "      <td>0</td>\n",
       "      <td>2</td>\n",
       "      <td>0</td>\n",
       "    </tr>\n",
       "    <tr>\n",
       "      <th>198</th>\n",
       "      <td>3961</td>\n",
       "      <td>1030</td>\n",
       "      <td>270</td>\n",
       "      <td>475</td>\n",
       "      <td>21880</td>\n",
       "      <td>280421</td>\n",
       "      <td>2</td>\n",
       "      <td>3</td>\n",
       "      <td>8</td>\n",
       "      <td>0</td>\n",
       "    </tr>\n",
       "    <tr>\n",
       "      <th>199</th>\n",
       "      <td>3184</td>\n",
       "      <td>955</td>\n",
       "      <td>276</td>\n",
       "      <td>684</td>\n",
       "      <td>35565</td>\n",
       "      <td>388025</td>\n",
       "      <td>1</td>\n",
       "      <td>3</td>\n",
       "      <td>8</td>\n",
       "      <td>0</td>\n",
       "    </tr>\n",
       "    <tr>\n",
       "      <th>200</th>\n",
       "      <td>3334</td>\n",
       "      <td>867</td>\n",
       "      <td>369</td>\n",
       "      <td>652</td>\n",
       "      <td>19985</td>\n",
       "      <td>376892</td>\n",
       "      <td>1</td>\n",
       "      <td>2</td>\n",
       "      <td>5</td>\n",
       "      <td>0</td>\n",
       "    </tr>\n",
       "    <tr>\n",
       "      <th>201</th>\n",
       "      <td>3988</td>\n",
       "      <td>1157</td>\n",
       "      <td>105</td>\n",
       "      <td>382</td>\n",
       "      <td>11980</td>\n",
       "      <td>257580</td>\n",
       "      <td>0</td>\n",
       "      <td>0</td>\n",
       "      <td>4</td>\n",
       "      <td>0</td>\n",
       "    </tr>\n",
       "  </tbody>\n",
       "</table>\n",
       "<p>202 rows × 10 columns</p>\n",
       "</div>"
      ],
      "text/plain": [
       "     ingresos  gastos_comunes  pago_vehiculo  gastos_otros  ahorros  vivienda  \\\n",
       "0        6000            1000              0           600    50000    400000   \n",
       "1        6745             944            123           429    43240    636897   \n",
       "2        6455            1033             98           795    57463    321779   \n",
       "3        7098            1278             15           254    54506    660933   \n",
       "4        6167             863            223           520    41512    348932   \n",
       "..        ...             ...            ...           ...      ...       ...   \n",
       "197      3831             690            352           488    10723    363120   \n",
       "198      3961            1030            270           475    21880    280421   \n",
       "199      3184             955            276           684    35565    388025   \n",
       "200      3334             867            369           652    19985    376892   \n",
       "201      3988            1157            105           382    11980    257580   \n",
       "\n",
       "     estado_civil  hijos  trabajo  comprar  \n",
       "0               0      2        2        1  \n",
       "1               1      3        6        0  \n",
       "2               2      1        8        1  \n",
       "3               0      0        3        0  \n",
       "4               0      0        3        1  \n",
       "..            ...    ...      ...      ...  \n",
       "197             0      0        2        0  \n",
       "198             2      3        8        0  \n",
       "199             1      3        8        0  \n",
       "200             1      2        5        0  \n",
       "201             0      0        4        0  \n",
       "\n",
       "[202 rows x 10 columns]"
      ]
     },
     "execution_count": 3,
     "metadata": {},
     "output_type": "execute_result"
    }
   ],
   "source": [
    "df_cv = pd.read_csv('comprar_arrendar.csv', skiprows = 3, header = 1, comment = '#')\n",
    "df_cv"
   ]
  },
  {
   "cell_type": "code",
   "execution_count": 6,
   "metadata": {
    "id": "90t18N6uPuNE"
   },
   "outputs": [
    {
     "name": "stdout",
     "output_type": "stream",
     "text": [
      "# ingresos: los ingresos de la familia mensual\n",
      "# gastos comunes: pagos de luz, agua, gas, etc mensual\n",
      "# pago vehiculo: si se está pagando cuota por uno o más vehículos, y los gastos en combustible, etc. al mes\n",
      "# gastos_otros: compra en supermercado y lo necesario para vivir al mes\n",
      "# ahorros: suma de ahorros dispuestos a usar para la compra de la casa.\n",
      "# vivienda: precio de la vivienda que quiere comprar esa familia\n",
      "# estado civil: 0-soltero 1-casados 2-divorciados\n",
      "# hijos: cantidad de hijos menores y que no trabajan.\n",
      "# trabajo: 0-sin empleo 1-autónomo (freelance) 2-empleado 3-empresario 4-pareja: autónomos 5-pareja: empleados 6-pareja: autónomo y asalariado 7-pareja:empresario y autónomo 8-pareja: empresarios los dos o empresario y empleado\n",
      "# comprar: 0-No comprar 1-Comprar\n"
     ]
    }
   ],
   "source": [
    "#Solución\n",
    "# Parte 2: Guardar las referencias a los comentarios\n",
    "\n",
    "# Guardar comentarios\n",
    "comentarios = pd.read_csv('comprar_arrendar.csv', nrows = 10)\n",
    "comentarios = comentarios.loc[:,'#REFERENCIAS'].values\n",
    "print(*comentarios, sep = \"\\n\")"
   ]
  },
  {
   "cell_type": "markdown",
   "metadata": {
    "id": "jmgiZGz7Pvbu"
   },
   "source": [
    "## <font color='green'>**Fin Parte 1**</font>"
   ]
  },
  {
   "cell_type": "markdown",
   "metadata": {
    "id": "zX78HvVLIiAm"
   },
   "source": [
    "## <font color='green'>**Parte 2: Explorando los Datos**</font>\n",
    "\n",
    "1. Utilizando los métodos de agrupación vistos, determine las clases y sus cantidades asociadas para la variable \"comprar\".\n",
    "2. Genere una columna \"gastos\" que englobe todos los gastos de un sujeto (considere que cada fila es un sujeto) y agréguela al dataframe.\n",
    "3. Genere una nueva columna \"financiar\" que corresponda al monto que se debe solicitar de crédito hipotecario (asuma que todo el ahorro va para financiar el costo de la vivienda).\n",
    "4. Genere un nuevo dataframe que no contenga variables de gastos.\n",
    "5. Realice un análisis de estadística descriptiva del nuevo dataframe generado."
   ]
  },
  {
   "cell_type": "code",
   "execution_count": 7,
   "metadata": {
    "id": "xJcxokR9PzPa",
    "scrolled": true
   },
   "outputs": [
    {
     "name": "stdout",
     "output_type": "stream",
     "text": [
      "comprar\n",
      "0    135\n",
      "1     67\n",
      "dtype: int64\n"
     ]
    }
   ],
   "source": [
    "#Solución\n",
    "#df_compraventa.groupby(by = comprar).size()\n",
    "# 2.1\n",
    "#comprar = df_compraventa[df_compraventa['comprar'] == 1]\n",
    "\n",
    "# Las cantidades de la clase \n",
    "print(df_cv.groupby(by = 'comprar').size())"
   ]
  },
  {
   "cell_type": "code",
   "execution_count": 8,
   "metadata": {},
   "outputs": [
    {
     "name": "stdout",
     "output_type": "stream",
     "text": [
      "0      1600\n",
      "1      1496\n",
      "2      1926\n",
      "3      1547\n",
      "4      1606\n",
      "       ... \n",
      "197    1530\n",
      "198    1775\n",
      "199    1915\n",
      "200    1888\n",
      "201    1644\n",
      "Name: gastos, Length: 202, dtype: int64\n"
     ]
    }
   ],
   "source": [
    "# 2.1\n",
    "df_cv['gastos'] = df_cv['gastos_comunes'] + df_cv['pago_vehiculo'] + df_cv['gastos_otros']\n",
    "print(df_cv['gastos'])"
   ]
  },
  {
   "cell_type": "code",
   "execution_count": 9,
   "metadata": {},
   "outputs": [
    {
     "data": {
      "text/plain": [
       "0      350000\n",
       "1      593657\n",
       "2      264316\n",
       "3      606427\n",
       "4      307420\n",
       "        ...  \n",
       "197    352397\n",
       "198    258541\n",
       "199    352460\n",
       "200    356907\n",
       "201    245600\n",
       "Name: financiar, Length: 202, dtype: int64"
      ]
     },
     "execution_count": 9,
     "metadata": {},
     "output_type": "execute_result"
    }
   ],
   "source": [
    "# 2.3\n",
    "df_cv['financiar'] = df_cv['vivienda'] - df_cv['ahorros'] \n",
    "df_cv['financiar']"
   ]
  },
  {
   "cell_type": "code",
   "execution_count": 13,
   "metadata": {},
   "outputs": [
    {
     "data": {
      "text/html": [
       "<div>\n",
       "<style scoped>\n",
       "    .dataframe tbody tr th:only-of-type {\n",
       "        vertical-align: middle;\n",
       "    }\n",
       "\n",
       "    .dataframe tbody tr th {\n",
       "        vertical-align: top;\n",
       "    }\n",
       "\n",
       "    .dataframe thead th {\n",
       "        text-align: right;\n",
       "    }\n",
       "</style>\n",
       "<table border=\"1\" class=\"dataframe\">\n",
       "  <thead>\n",
       "    <tr style=\"text-align: right;\">\n",
       "      <th></th>\n",
       "      <th>ingresos</th>\n",
       "      <th>ahorros</th>\n",
       "      <th>vivienda</th>\n",
       "      <th>estado_civil</th>\n",
       "      <th>hijos</th>\n",
       "      <th>trabajo</th>\n",
       "      <th>comprar</th>\n",
       "      <th>gastos</th>\n",
       "      <th>financiar</th>\n",
       "    </tr>\n",
       "  </thead>\n",
       "  <tbody>\n",
       "    <tr>\n",
       "      <th>0</th>\n",
       "      <td>6000</td>\n",
       "      <td>50000</td>\n",
       "      <td>400000</td>\n",
       "      <td>0</td>\n",
       "      <td>2</td>\n",
       "      <td>2</td>\n",
       "      <td>1</td>\n",
       "      <td>1600</td>\n",
       "      <td>350000</td>\n",
       "    </tr>\n",
       "    <tr>\n",
       "      <th>1</th>\n",
       "      <td>6745</td>\n",
       "      <td>43240</td>\n",
       "      <td>636897</td>\n",
       "      <td>1</td>\n",
       "      <td>3</td>\n",
       "      <td>6</td>\n",
       "      <td>0</td>\n",
       "      <td>1496</td>\n",
       "      <td>593657</td>\n",
       "    </tr>\n",
       "    <tr>\n",
       "      <th>2</th>\n",
       "      <td>6455</td>\n",
       "      <td>57463</td>\n",
       "      <td>321779</td>\n",
       "      <td>2</td>\n",
       "      <td>1</td>\n",
       "      <td>8</td>\n",
       "      <td>1</td>\n",
       "      <td>1926</td>\n",
       "      <td>264316</td>\n",
       "    </tr>\n",
       "    <tr>\n",
       "      <th>3</th>\n",
       "      <td>7098</td>\n",
       "      <td>54506</td>\n",
       "      <td>660933</td>\n",
       "      <td>0</td>\n",
       "      <td>0</td>\n",
       "      <td>3</td>\n",
       "      <td>0</td>\n",
       "      <td>1547</td>\n",
       "      <td>606427</td>\n",
       "    </tr>\n",
       "    <tr>\n",
       "      <th>4</th>\n",
       "      <td>6167</td>\n",
       "      <td>41512</td>\n",
       "      <td>348932</td>\n",
       "      <td>0</td>\n",
       "      <td>0</td>\n",
       "      <td>3</td>\n",
       "      <td>1</td>\n",
       "      <td>1606</td>\n",
       "      <td>307420</td>\n",
       "    </tr>\n",
       "    <tr>\n",
       "      <th>...</th>\n",
       "      <td>...</td>\n",
       "      <td>...</td>\n",
       "      <td>...</td>\n",
       "      <td>...</td>\n",
       "      <td>...</td>\n",
       "      <td>...</td>\n",
       "      <td>...</td>\n",
       "      <td>...</td>\n",
       "      <td>...</td>\n",
       "    </tr>\n",
       "    <tr>\n",
       "      <th>197</th>\n",
       "      <td>3831</td>\n",
       "      <td>10723</td>\n",
       "      <td>363120</td>\n",
       "      <td>0</td>\n",
       "      <td>0</td>\n",
       "      <td>2</td>\n",
       "      <td>0</td>\n",
       "      <td>1530</td>\n",
       "      <td>352397</td>\n",
       "    </tr>\n",
       "    <tr>\n",
       "      <th>198</th>\n",
       "      <td>3961</td>\n",
       "      <td>21880</td>\n",
       "      <td>280421</td>\n",
       "      <td>2</td>\n",
       "      <td>3</td>\n",
       "      <td>8</td>\n",
       "      <td>0</td>\n",
       "      <td>1775</td>\n",
       "      <td>258541</td>\n",
       "    </tr>\n",
       "    <tr>\n",
       "      <th>199</th>\n",
       "      <td>3184</td>\n",
       "      <td>35565</td>\n",
       "      <td>388025</td>\n",
       "      <td>1</td>\n",
       "      <td>3</td>\n",
       "      <td>8</td>\n",
       "      <td>0</td>\n",
       "      <td>1915</td>\n",
       "      <td>352460</td>\n",
       "    </tr>\n",
       "    <tr>\n",
       "      <th>200</th>\n",
       "      <td>3334</td>\n",
       "      <td>19985</td>\n",
       "      <td>376892</td>\n",
       "      <td>1</td>\n",
       "      <td>2</td>\n",
       "      <td>5</td>\n",
       "      <td>0</td>\n",
       "      <td>1888</td>\n",
       "      <td>356907</td>\n",
       "    </tr>\n",
       "    <tr>\n",
       "      <th>201</th>\n",
       "      <td>3988</td>\n",
       "      <td>11980</td>\n",
       "      <td>257580</td>\n",
       "      <td>0</td>\n",
       "      <td>0</td>\n",
       "      <td>4</td>\n",
       "      <td>0</td>\n",
       "      <td>1644</td>\n",
       "      <td>245600</td>\n",
       "    </tr>\n",
       "  </tbody>\n",
       "</table>\n",
       "<p>202 rows × 9 columns</p>\n",
       "</div>"
      ],
      "text/plain": [
       "     ingresos  ahorros  vivienda  estado_civil  hijos  trabajo  comprar  \\\n",
       "0        6000    50000    400000             0      2        2        1   \n",
       "1        6745    43240    636897             1      3        6        0   \n",
       "2        6455    57463    321779             2      1        8        1   \n",
       "3        7098    54506    660933             0      0        3        0   \n",
       "4        6167    41512    348932             0      0        3        1   \n",
       "..        ...      ...       ...           ...    ...      ...      ...   \n",
       "197      3831    10723    363120             0      0        2        0   \n",
       "198      3961    21880    280421             2      3        8        0   \n",
       "199      3184    35565    388025             1      3        8        0   \n",
       "200      3334    19985    376892             1      2        5        0   \n",
       "201      3988    11980    257580             0      0        4        0   \n",
       "\n",
       "     gastos  financiar  \n",
       "0      1600     350000  \n",
       "1      1496     593657  \n",
       "2      1926     264316  \n",
       "3      1547     606427  \n",
       "4      1606     307420  \n",
       "..      ...        ...  \n",
       "197    1530     352397  \n",
       "198    1775     258541  \n",
       "199    1915     352460  \n",
       "200    1888     356907  \n",
       "201    1644     245600  \n",
       "\n",
       "[202 rows x 9 columns]"
      ]
     },
     "execution_count": 13,
     "metadata": {},
     "output_type": "execute_result"
    }
   ],
   "source": [
    "# 2.4\n",
    "df_cv_sin_gastos = df_cv.drop(columns = ['gastos_comunes','pago_vehiculo', 'gastos_otros'])\n",
    "df_cv_sin_gastos"
   ]
  },
  {
   "cell_type": "code",
   "execution_count": 14,
   "metadata": {},
   "outputs": [
    {
     "data": {
      "text/html": [
       "<div>\n",
       "<style scoped>\n",
       "    .dataframe tbody tr th:only-of-type {\n",
       "        vertical-align: middle;\n",
       "    }\n",
       "\n",
       "    .dataframe tbody tr th {\n",
       "        vertical-align: top;\n",
       "    }\n",
       "\n",
       "    .dataframe thead th {\n",
       "        text-align: right;\n",
       "    }\n",
       "</style>\n",
       "<table border=\"1\" class=\"dataframe\">\n",
       "  <thead>\n",
       "    <tr style=\"text-align: right;\">\n",
       "      <th></th>\n",
       "      <th>ingresos</th>\n",
       "      <th>ahorros</th>\n",
       "      <th>vivienda</th>\n",
       "      <th>estado_civil</th>\n",
       "      <th>hijos</th>\n",
       "      <th>trabajo</th>\n",
       "      <th>comprar</th>\n",
       "      <th>gastos</th>\n",
       "      <th>financiar</th>\n",
       "    </tr>\n",
       "  </thead>\n",
       "  <tbody>\n",
       "    <tr>\n",
       "      <th>count</th>\n",
       "      <td>202.000000</td>\n",
       "      <td>202.000000</td>\n",
       "      <td>202.000000</td>\n",
       "      <td>202.000000</td>\n",
       "      <td>202.000000</td>\n",
       "      <td>202.000000</td>\n",
       "      <td>202.000000</td>\n",
       "      <td>202.000000</td>\n",
       "      <td>202.000000</td>\n",
       "    </tr>\n",
       "    <tr>\n",
       "      <th>mean</th>\n",
       "      <td>4958.995050</td>\n",
       "      <td>38749.668317</td>\n",
       "      <td>373349.638614</td>\n",
       "      <td>1.024752</td>\n",
       "      <td>1.232673</td>\n",
       "      <td>4.490099</td>\n",
       "      <td>0.331683</td>\n",
       "      <td>1698.752475</td>\n",
       "      <td>334599.970297</td>\n",
       "    </tr>\n",
       "    <tr>\n",
       "      <th>std</th>\n",
       "      <td>1682.862556</td>\n",
       "      <td>17365.231870</td>\n",
       "      <td>136371.525622</td>\n",
       "      <td>0.837184</td>\n",
       "      <td>1.367833</td>\n",
       "      <td>2.535794</td>\n",
       "      <td>0.471988</td>\n",
       "      <td>324.838005</td>\n",
       "      <td>126607.099497</td>\n",
       "    </tr>\n",
       "    <tr>\n",
       "      <th>min</th>\n",
       "      <td>2008.000000</td>\n",
       "      <td>10319.000000</td>\n",
       "      <td>176553.000000</td>\n",
       "      <td>0.000000</td>\n",
       "      <td>0.000000</td>\n",
       "      <td>0.000000</td>\n",
       "      <td>0.000000</td>\n",
       "      <td>1007.000000</td>\n",
       "      <td>154716.000000</td>\n",
       "    </tr>\n",
       "    <tr>\n",
       "      <th>25%</th>\n",
       "      <td>3513.750000</td>\n",
       "      <td>24964.250000</td>\n",
       "      <td>274810.000000</td>\n",
       "      <td>0.000000</td>\n",
       "      <td>0.000000</td>\n",
       "      <td>2.000000</td>\n",
       "      <td>0.000000</td>\n",
       "      <td>1430.500000</td>\n",
       "      <td>240410.250000</td>\n",
       "    </tr>\n",
       "    <tr>\n",
       "      <th>50%</th>\n",
       "      <td>4947.500000</td>\n",
       "      <td>38523.000000</td>\n",
       "      <td>340783.500000</td>\n",
       "      <td>1.000000</td>\n",
       "      <td>1.000000</td>\n",
       "      <td>5.000000</td>\n",
       "      <td>0.000000</td>\n",
       "      <td>1669.500000</td>\n",
       "      <td>301177.000000</td>\n",
       "    </tr>\n",
       "    <tr>\n",
       "      <th>75%</th>\n",
       "      <td>6374.500000</td>\n",
       "      <td>52150.750000</td>\n",
       "      <td>444482.000000</td>\n",
       "      <td>2.000000</td>\n",
       "      <td>2.000000</td>\n",
       "      <td>7.000000</td>\n",
       "      <td>1.000000</td>\n",
       "      <td>1928.000000</td>\n",
       "      <td>393413.000000</td>\n",
       "    </tr>\n",
       "    <tr>\n",
       "      <th>max</th>\n",
       "      <td>7984.000000</td>\n",
       "      <td>69934.000000</td>\n",
       "      <td>669540.000000</td>\n",
       "      <td>2.000000</td>\n",
       "      <td>4.000000</td>\n",
       "      <td>8.000000</td>\n",
       "      <td>1.000000</td>\n",
       "      <td>2543.000000</td>\n",
       "      <td>618621.000000</td>\n",
       "    </tr>\n",
       "  </tbody>\n",
       "</table>\n",
       "</div>"
      ],
      "text/plain": [
       "          ingresos       ahorros       vivienda  estado_civil       hijos  \\\n",
       "count   202.000000    202.000000     202.000000    202.000000  202.000000   \n",
       "mean   4958.995050  38749.668317  373349.638614      1.024752    1.232673   \n",
       "std    1682.862556  17365.231870  136371.525622      0.837184    1.367833   \n",
       "min    2008.000000  10319.000000  176553.000000      0.000000    0.000000   \n",
       "25%    3513.750000  24964.250000  274810.000000      0.000000    0.000000   \n",
       "50%    4947.500000  38523.000000  340783.500000      1.000000    1.000000   \n",
       "75%    6374.500000  52150.750000  444482.000000      2.000000    2.000000   \n",
       "max    7984.000000  69934.000000  669540.000000      2.000000    4.000000   \n",
       "\n",
       "          trabajo     comprar       gastos      financiar  \n",
       "count  202.000000  202.000000   202.000000     202.000000  \n",
       "mean     4.490099    0.331683  1698.752475  334599.970297  \n",
       "std      2.535794    0.471988   324.838005  126607.099497  \n",
       "min      0.000000    0.000000  1007.000000  154716.000000  \n",
       "25%      2.000000    0.000000  1430.500000  240410.250000  \n",
       "50%      5.000000    0.000000  1669.500000  301177.000000  \n",
       "75%      7.000000    1.000000  1928.000000  393413.000000  \n",
       "max      8.000000    1.000000  2543.000000  618621.000000  "
      ]
     },
     "execution_count": 14,
     "metadata": {},
     "output_type": "execute_result"
    }
   ],
   "source": [
    "# 2.5\n",
    "df_cv_sin_gastos.describe()"
   ]
  },
  {
   "cell_type": "markdown",
   "metadata": {
    "id": "B0GXFSFvP0RQ"
   },
   "source": [
    "\n",
    "## <font color='green'>**Fin Parte 2**</font>"
   ]
  },
  {
   "cell_type": "markdown",
   "metadata": {
    "id": "Md4vaR6o5awO"
   },
   "source": [
    "## <font color='blue'>**Clasificador Gaussian Naive Bayes**</font>\n",
    "\n",
    "Uno de los tipos de clasificadores más populares es el *Gaussian Naive Bayes Classifier*.\n",
    "\n",
    "Por ejemplo, para el caso que estamos analizando aplicaremos 2 clases (comprar, arrendar) y 3 características: ingresos, ahorros e hijos.\n",
    "\n",
    "$$posteriori(Comprar) = \\frac{P(Comprar)*P(Ingresos|Comprar)P(Ahorros|Comprar)P(Hijos|Comprar)}{Probabilidad Marginal}$$\n",
    "\n",
    ", y\n",
    "\n",
    "$$posteriori(Arrendar) = \\frac{P(Arrendar)*P(Ingresos|Arrendar)P(Ahorros|Arrendar)P(Hijos|Arrendar)}{Probabilidad Marginal}$$\n",
    "\n",
    "Pbb a posteriori de comprar es lo que queremos hallar: $$P(Comprar|Datos)$$.\n",
    "\n",
    "* $P(Comprar)$ es la probabilidad que ya tenemos. Es sencillamente el número de veces que se selecciona $comprar = 1$ en nuestro conjunto de datos, dividido el total de observaciones.\n",
    "\n",
    "* $P(Ingresos|Comprar)P(Ahorros|Comprar)P(Hijos|Comprar)$ es la **verosimilitud**. Los nombres Gaussian y Naive (ingenuo) del algoritmo vienen de dos suposiciones:\n",
    "    1. asumimos que las características de la verosimilitud no estan correlacionadas entre ellas. Esto sería que los ingresos sean independientes a la cantidad de hijos y de los ahorros. Como no es siempre cierto y es una suposición ingenua es que aparece en el nombre “naive bayes”\n",
    "    2. Asumimos que el valor de las características (ingresos, hijos, etc) tendrá una distribución normal (gaussiana). Esto nos permite calcular cada parte $P(Ingresos|Comprar)$ usando la función de probabilidad de densidad normal.\n",
    "\n",
    "* Probabilidad marginal muchas veces es difícil de calcular, sin embargo, por la ecuación que vimos más arriba, no la necesitaremos para obtener nuestro valor a posteriori. Esto simplifica los cálculos."
   ]
  },
  {
   "cell_type": "markdown",
   "metadata": {
    "id": "kGbSGosM5av5"
   },
   "source": [
    "## <font color='blue'>**Selección de Características**</font>\n",
    "\n",
    "Para mejorar nuestros resultados con este algoritmo haremos **Feature Selection**. En vez de utilizar todas las columnas de datos de entrada que tenemos, vamos a utilizar una Clase de SkLearn llamada **SelectKBest** con la que seleccionaremos las 5 mejores características y usaremos sólo esas."
   ]
  },
  {
   "cell_type": "markdown",
   "metadata": {
    "id": "lDqxypclBecS"
   },
   "source": [
    "## <font color='green'>**Parte 3: Analizando las Variables**</font>\n",
    "\n",
    "El feature selection se debe realizar sobre todas las variables del modelo, salvo la variable de salida.\n",
    "\n",
    "1. Genere un dataframe $X$ que corresponda al dataframe de datos procesado en el punto anterior sin la variable de salida.\n",
    "2. Genere una variable $y$ corresponda a la variable de salida"
   ]
  },
  {
   "cell_type": "code",
   "execution_count": 15,
   "metadata": {},
   "outputs": [
    {
     "data": {
      "text/html": [
       "<div>\n",
       "<style scoped>\n",
       "    .dataframe tbody tr th:only-of-type {\n",
       "        vertical-align: middle;\n",
       "    }\n",
       "\n",
       "    .dataframe tbody tr th {\n",
       "        vertical-align: top;\n",
       "    }\n",
       "\n",
       "    .dataframe thead th {\n",
       "        text-align: right;\n",
       "    }\n",
       "</style>\n",
       "<table border=\"1\" class=\"dataframe\">\n",
       "  <thead>\n",
       "    <tr style=\"text-align: right;\">\n",
       "      <th></th>\n",
       "      <th>ingresos</th>\n",
       "      <th>ahorros</th>\n",
       "      <th>vivienda</th>\n",
       "      <th>estado_civil</th>\n",
       "      <th>hijos</th>\n",
       "      <th>trabajo</th>\n",
       "      <th>gastos</th>\n",
       "      <th>financiar</th>\n",
       "    </tr>\n",
       "  </thead>\n",
       "  <tbody>\n",
       "    <tr>\n",
       "      <th>0</th>\n",
       "      <td>6000</td>\n",
       "      <td>50000</td>\n",
       "      <td>400000</td>\n",
       "      <td>0</td>\n",
       "      <td>2</td>\n",
       "      <td>2</td>\n",
       "      <td>1600</td>\n",
       "      <td>350000</td>\n",
       "    </tr>\n",
       "    <tr>\n",
       "      <th>1</th>\n",
       "      <td>6745</td>\n",
       "      <td>43240</td>\n",
       "      <td>636897</td>\n",
       "      <td>1</td>\n",
       "      <td>3</td>\n",
       "      <td>6</td>\n",
       "      <td>1496</td>\n",
       "      <td>593657</td>\n",
       "    </tr>\n",
       "    <tr>\n",
       "      <th>2</th>\n",
       "      <td>6455</td>\n",
       "      <td>57463</td>\n",
       "      <td>321779</td>\n",
       "      <td>2</td>\n",
       "      <td>1</td>\n",
       "      <td>8</td>\n",
       "      <td>1926</td>\n",
       "      <td>264316</td>\n",
       "    </tr>\n",
       "    <tr>\n",
       "      <th>3</th>\n",
       "      <td>7098</td>\n",
       "      <td>54506</td>\n",
       "      <td>660933</td>\n",
       "      <td>0</td>\n",
       "      <td>0</td>\n",
       "      <td>3</td>\n",
       "      <td>1547</td>\n",
       "      <td>606427</td>\n",
       "    </tr>\n",
       "    <tr>\n",
       "      <th>4</th>\n",
       "      <td>6167</td>\n",
       "      <td>41512</td>\n",
       "      <td>348932</td>\n",
       "      <td>0</td>\n",
       "      <td>0</td>\n",
       "      <td>3</td>\n",
       "      <td>1606</td>\n",
       "      <td>307420</td>\n",
       "    </tr>\n",
       "    <tr>\n",
       "      <th>...</th>\n",
       "      <td>...</td>\n",
       "      <td>...</td>\n",
       "      <td>...</td>\n",
       "      <td>...</td>\n",
       "      <td>...</td>\n",
       "      <td>...</td>\n",
       "      <td>...</td>\n",
       "      <td>...</td>\n",
       "    </tr>\n",
       "    <tr>\n",
       "      <th>197</th>\n",
       "      <td>3831</td>\n",
       "      <td>10723</td>\n",
       "      <td>363120</td>\n",
       "      <td>0</td>\n",
       "      <td>0</td>\n",
       "      <td>2</td>\n",
       "      <td>1530</td>\n",
       "      <td>352397</td>\n",
       "    </tr>\n",
       "    <tr>\n",
       "      <th>198</th>\n",
       "      <td>3961</td>\n",
       "      <td>21880</td>\n",
       "      <td>280421</td>\n",
       "      <td>2</td>\n",
       "      <td>3</td>\n",
       "      <td>8</td>\n",
       "      <td>1775</td>\n",
       "      <td>258541</td>\n",
       "    </tr>\n",
       "    <tr>\n",
       "      <th>199</th>\n",
       "      <td>3184</td>\n",
       "      <td>35565</td>\n",
       "      <td>388025</td>\n",
       "      <td>1</td>\n",
       "      <td>3</td>\n",
       "      <td>8</td>\n",
       "      <td>1915</td>\n",
       "      <td>352460</td>\n",
       "    </tr>\n",
       "    <tr>\n",
       "      <th>200</th>\n",
       "      <td>3334</td>\n",
       "      <td>19985</td>\n",
       "      <td>376892</td>\n",
       "      <td>1</td>\n",
       "      <td>2</td>\n",
       "      <td>5</td>\n",
       "      <td>1888</td>\n",
       "      <td>356907</td>\n",
       "    </tr>\n",
       "    <tr>\n",
       "      <th>201</th>\n",
       "      <td>3988</td>\n",
       "      <td>11980</td>\n",
       "      <td>257580</td>\n",
       "      <td>0</td>\n",
       "      <td>0</td>\n",
       "      <td>4</td>\n",
       "      <td>1644</td>\n",
       "      <td>245600</td>\n",
       "    </tr>\n",
       "  </tbody>\n",
       "</table>\n",
       "<p>202 rows × 8 columns</p>\n",
       "</div>"
      ],
      "text/plain": [
       "     ingresos  ahorros  vivienda  estado_civil  hijos  trabajo  gastos  \\\n",
       "0        6000    50000    400000             0      2        2    1600   \n",
       "1        6745    43240    636897             1      3        6    1496   \n",
       "2        6455    57463    321779             2      1        8    1926   \n",
       "3        7098    54506    660933             0      0        3    1547   \n",
       "4        6167    41512    348932             0      0        3    1606   \n",
       "..        ...      ...       ...           ...    ...      ...     ...   \n",
       "197      3831    10723    363120             0      0        2    1530   \n",
       "198      3961    21880    280421             2      3        8    1775   \n",
       "199      3184    35565    388025             1      3        8    1915   \n",
       "200      3334    19985    376892             1      2        5    1888   \n",
       "201      3988    11980    257580             0      0        4    1644   \n",
       "\n",
       "     financiar  \n",
       "0       350000  \n",
       "1       593657  \n",
       "2       264316  \n",
       "3       606427  \n",
       "4       307420  \n",
       "..         ...  \n",
       "197     352397  \n",
       "198     258541  \n",
       "199     352460  \n",
       "200     356907  \n",
       "201     245600  \n",
       "\n",
       "[202 rows x 8 columns]"
      ]
     },
     "execution_count": 15,
     "metadata": {},
     "output_type": "execute_result"
    }
   ],
   "source": [
    "X = df_cv_sin_gastos.drop(columns = ['comprar'])\n",
    "X"
   ]
  },
  {
   "cell_type": "code",
   "execution_count": 16,
   "metadata": {
    "id": "84fHLcZSOrRY"
   },
   "outputs": [
    {
     "name": "stdout",
     "output_type": "stream",
     "text": [
      "Index(['ingresos', 'ahorros', 'hijos', 'trabajo', 'financiar'], dtype='object')\n"
     ]
    }
   ],
   "source": [
    "#Solución\n",
    "X = df_cv_sin_gastos.drop(columns = ['comprar'])\n",
    "y = df_cv_sin_gastos['comprar']\n",
    "\n",
    "best=SelectKBest(k=5)\n",
    "X_new = best.fit_transform(X, y)\n",
    "X_new.shape\n",
    "selected = best.get_support(indices=True)\n",
    "print(X.columns[selected])"
   ]
  },
  {
   "cell_type": "code",
   "execution_count": 17,
   "metadata": {},
   "outputs": [
    {
     "data": {
      "text/html": [
       "<div>\n",
       "<style scoped>\n",
       "    .dataframe tbody tr th:only-of-type {\n",
       "        vertical-align: middle;\n",
       "    }\n",
       "\n",
       "    .dataframe tbody tr th {\n",
       "        vertical-align: top;\n",
       "    }\n",
       "\n",
       "    .dataframe thead th {\n",
       "        text-align: right;\n",
       "    }\n",
       "</style>\n",
       "<table border=\"1\" class=\"dataframe\">\n",
       "  <thead>\n",
       "    <tr style=\"text-align: right;\">\n",
       "      <th></th>\n",
       "      <th>ingresos</th>\n",
       "      <th>ahorros</th>\n",
       "      <th>vivienda</th>\n",
       "      <th>estado_civil</th>\n",
       "      <th>hijos</th>\n",
       "      <th>trabajo</th>\n",
       "      <th>gastos</th>\n",
       "      <th>financiar</th>\n",
       "    </tr>\n",
       "  </thead>\n",
       "  <tbody>\n",
       "    <tr>\n",
       "      <th>0</th>\n",
       "      <td>6000</td>\n",
       "      <td>50000</td>\n",
       "      <td>400000</td>\n",
       "      <td>0</td>\n",
       "      <td>2</td>\n",
       "      <td>2</td>\n",
       "      <td>1600</td>\n",
       "      <td>350000</td>\n",
       "    </tr>\n",
       "    <tr>\n",
       "      <th>1</th>\n",
       "      <td>6745</td>\n",
       "      <td>43240</td>\n",
       "      <td>636897</td>\n",
       "      <td>1</td>\n",
       "      <td>3</td>\n",
       "      <td>6</td>\n",
       "      <td>1496</td>\n",
       "      <td>593657</td>\n",
       "    </tr>\n",
       "    <tr>\n",
       "      <th>2</th>\n",
       "      <td>6455</td>\n",
       "      <td>57463</td>\n",
       "      <td>321779</td>\n",
       "      <td>2</td>\n",
       "      <td>1</td>\n",
       "      <td>8</td>\n",
       "      <td>1926</td>\n",
       "      <td>264316</td>\n",
       "    </tr>\n",
       "    <tr>\n",
       "      <th>3</th>\n",
       "      <td>7098</td>\n",
       "      <td>54506</td>\n",
       "      <td>660933</td>\n",
       "      <td>0</td>\n",
       "      <td>0</td>\n",
       "      <td>3</td>\n",
       "      <td>1547</td>\n",
       "      <td>606427</td>\n",
       "    </tr>\n",
       "    <tr>\n",
       "      <th>4</th>\n",
       "      <td>6167</td>\n",
       "      <td>41512</td>\n",
       "      <td>348932</td>\n",
       "      <td>0</td>\n",
       "      <td>0</td>\n",
       "      <td>3</td>\n",
       "      <td>1606</td>\n",
       "      <td>307420</td>\n",
       "    </tr>\n",
       "    <tr>\n",
       "      <th>...</th>\n",
       "      <td>...</td>\n",
       "      <td>...</td>\n",
       "      <td>...</td>\n",
       "      <td>...</td>\n",
       "      <td>...</td>\n",
       "      <td>...</td>\n",
       "      <td>...</td>\n",
       "      <td>...</td>\n",
       "    </tr>\n",
       "    <tr>\n",
       "      <th>197</th>\n",
       "      <td>3831</td>\n",
       "      <td>10723</td>\n",
       "      <td>363120</td>\n",
       "      <td>0</td>\n",
       "      <td>0</td>\n",
       "      <td>2</td>\n",
       "      <td>1530</td>\n",
       "      <td>352397</td>\n",
       "    </tr>\n",
       "    <tr>\n",
       "      <th>198</th>\n",
       "      <td>3961</td>\n",
       "      <td>21880</td>\n",
       "      <td>280421</td>\n",
       "      <td>2</td>\n",
       "      <td>3</td>\n",
       "      <td>8</td>\n",
       "      <td>1775</td>\n",
       "      <td>258541</td>\n",
       "    </tr>\n",
       "    <tr>\n",
       "      <th>199</th>\n",
       "      <td>3184</td>\n",
       "      <td>35565</td>\n",
       "      <td>388025</td>\n",
       "      <td>1</td>\n",
       "      <td>3</td>\n",
       "      <td>8</td>\n",
       "      <td>1915</td>\n",
       "      <td>352460</td>\n",
       "    </tr>\n",
       "    <tr>\n",
       "      <th>200</th>\n",
       "      <td>3334</td>\n",
       "      <td>19985</td>\n",
       "      <td>376892</td>\n",
       "      <td>1</td>\n",
       "      <td>2</td>\n",
       "      <td>5</td>\n",
       "      <td>1888</td>\n",
       "      <td>356907</td>\n",
       "    </tr>\n",
       "    <tr>\n",
       "      <th>201</th>\n",
       "      <td>3988</td>\n",
       "      <td>11980</td>\n",
       "      <td>257580</td>\n",
       "      <td>0</td>\n",
       "      <td>0</td>\n",
       "      <td>4</td>\n",
       "      <td>1644</td>\n",
       "      <td>245600</td>\n",
       "    </tr>\n",
       "  </tbody>\n",
       "</table>\n",
       "<p>202 rows × 8 columns</p>\n",
       "</div>"
      ],
      "text/plain": [
       "     ingresos  ahorros  vivienda  estado_civil  hijos  trabajo  gastos  \\\n",
       "0        6000    50000    400000             0      2        2    1600   \n",
       "1        6745    43240    636897             1      3        6    1496   \n",
       "2        6455    57463    321779             2      1        8    1926   \n",
       "3        7098    54506    660933             0      0        3    1547   \n",
       "4        6167    41512    348932             0      0        3    1606   \n",
       "..        ...      ...       ...           ...    ...      ...     ...   \n",
       "197      3831    10723    363120             0      0        2    1530   \n",
       "198      3961    21880    280421             2      3        8    1775   \n",
       "199      3184    35565    388025             1      3        8    1915   \n",
       "200      3334    19985    376892             1      2        5    1888   \n",
       "201      3988    11980    257580             0      0        4    1644   \n",
       "\n",
       "     financiar  \n",
       "0       350000  \n",
       "1       593657  \n",
       "2       264316  \n",
       "3       606427  \n",
       "4       307420  \n",
       "..         ...  \n",
       "197     352397  \n",
       "198     258541  \n",
       "199     352460  \n",
       "200     356907  \n",
       "201     245600  \n",
       "\n",
       "[202 rows x 8 columns]"
      ]
     },
     "execution_count": 17,
     "metadata": {},
     "output_type": "execute_result"
    }
   ],
   "source": [
    "X"
   ]
  },
  {
   "cell_type": "markdown",
   "metadata": {
    "id": "Jt5Waw9dQKFi"
   },
   "source": [
    "La variable **selected** contienen las mejores características y por lo tanto las que \"más aportan\". Podemos ver el grado de correlación con las siguientes líneas de código:\n",
    "\n",
    "\n",
    "\n",
    "```\n",
    "used_features =\n",
    "\n",
    "colormap = plt.cm.viridis\n",
    "plt.figure(figsize=(12,12))\n",
    "plt.title('Pearson Correlation of Features', y=1.05, size=15)\n",
    "sb.heatmap(dataframe[used_features].astype(float).corr(),linewidths=0.1,vmax=1.0, square=True, cmap=colormap, linecolor='white', annot=True)\n",
    "```\n",
    "\n",
    "3. Pase a la variable **used_features** las columnas seleccionadas del dataframe $X$. y ejecute las líneas de código anterior para obtener el mapa de correlación de Pearson.\n",
    "\n"
   ]
  },
  {
   "cell_type": "code",
   "execution_count": 166,
   "metadata": {
    "id": "mUezj1IrQ8-K"
   },
   "outputs": [
    {
     "data": {
      "text/plain": [
       "<matplotlib.axes._subplots.AxesSubplot at 0x1fc6285ac08>"
      ]
     },
     "execution_count": 166,
     "metadata": {},
     "output_type": "execute_result"
    },
    {
     "data": {
      "image/png": "[encoded data removed]",
      "text/plain": [
       "<Figure size 864x864 with 2 Axes>"
      ]
     },
     "metadata": {
      "needs_background": "light"
     },
     "output_type": "display_data"
    }
   ],
   "source": [
    "#Solución\n",
    "used_features = X.columns[selected]\n",
    " \n",
    "colormap = plt.cm.viridis\n",
    "plt.figure(figsize=(12,12))\n",
    "plt.title('Pearson Correlation of Features', y=1.05, size=15)\n",
    "sb.heatmap(df_cv_sin_gastos[used_features].astype(float).corr(),linewidths=0.1,vmax=1.0, square=True, cmap=colormap, linecolor='white', annot=True)"
   ]
  },
  {
   "cell_type": "markdown",
   "metadata": {
    "id": "-xW84j4OP55L"
   },
   "source": [
    "## <font color='green'>**Fin Parte 3**</font>"
   ]
  },
  {
   "cell_type": "markdown",
   "metadata": {
    "id": "YSXMVQ7M5awK"
   },
   "source": [
    "## <font color='blue'>**Creamos el modelo de Gaussian Naive Bayes**</font>\n",
    "\n",
    "Usemos la clase SelectKBest de SkLearn para elegir las 5 mejores características a usar. Pero lo pirmero que debemos hacer es dividir nuestros datos en conjuntos de entrenamiento y prueba."
   ]
  },
  {
   "cell_type": "markdown",
   "metadata": {
    "id": "9a_rzdHvR4SY"
   },
   "source": [
    "## <font color='green'>**Parte 4: Construyendo el modelo**</font>\n",
    "\n",
    "1. Divida su dataframe con los datos del modelo en 2 conjuntos (disjuntos):\n",
    "  * Entrenamiento, X_train, con el 80% de los datos\n",
    "  * Prueba, X_test, con el 20% de los datos restantes\n",
    "2. Para esta misma división genere 2 variables con las salidas del modelo para realizar el entrenamiento, es decir, y_train e y_test."
   ]
  },
  {
   "cell_type": "code",
   "execution_count": 18,
   "metadata": {},
   "outputs": [],
   "source": [
    "a = df_cv_sin_gastos.sample(frac = 0.8, random_state = 1).index\n",
    "b = list(filter(lambda x: False if x in a else True,list(range(0, 202))))"
   ]
  },
  {
   "cell_type": "code",
   "execution_count": 243,
   "metadata": {
    "id": "KUK9rLCFSqP3"
   },
   "outputs": [],
   "source": [
    "#Solución\n",
    "\n",
    "a = df_cv_sin_gastos.sample(frac = 0.8, random_state = 1).index\n",
    "b = list(filter(lambda x: False if x in a else True,list(range(0, 202))))\n",
    "\n",
    "X_train, X_test = df_cv_sin_gastos.loc[a], df_cv_sin_gastos.loc[b]\n",
    "y_train = df_cv_sin_gastos['comprar'].loc[a]\n",
    "y_test = df_cv_sin_gastos['comprar'].loc[b]"
   ]
  },
  {
   "cell_type": "code",
   "execution_count": 244,
   "metadata": {
    "id": "S9j0c9ylSyOu"
   },
   "outputs": [],
   "source": [
    "# Instantiate the classifier\n",
    "gnb = GaussianNB()\n",
    "# Train classifier\n",
    "gnb.fit(\n",
    "    X_train[used_features].values,\n",
    "    y_train\n",
    ")\n",
    "y_pred = gnb.predict(X_test[used_features])"
   ]
  },
  {
   "cell_type": "code",
   "execution_count": 245,
   "metadata": {
    "id": "xyYEQ5-GS7iY"
   },
   "outputs": [
    {
     "name": "stdout",
     "output_type": "stream",
     "text": [
      "Precisión en el set de Entrenamiento: 0.87\n",
      "Precisión en el set de Prueba: 0.80\n"
     ]
    }
   ],
   "source": [
    "print('Precisión en el set de Entrenamiento: {:.2f}'\n",
    "     .format(gnb.score(X_train[used_features], y_train)))\n",
    "print('Precisión en el set de Prueba: {:.2f}'\n",
    "     .format(gnb.score(X_test[used_features], y_test))) "
   ]
  },
  {
   "cell_type": "code",
   "execution_count": 246,
   "metadata": {
    "id": "TKThfn9NTTcI"
   },
   "outputs": [
    {
     "name": "stdout",
     "output_type": "stream",
     "text": [
      "Total de Muestras en Test: 40\n",
      "Fallos: 8\n"
     ]
    }
   ],
   "source": [
    "# Print Test results\n",
    "print(\"Total de Muestras en Test: {}\\nFallos: {}\"\n",
    "      .format(\n",
    "          X_test.shape[0],\n",
    "          (y_test != y_pred).sum()\n",
    "))"
   ]
  },
  {
   "cell_type": "code",
   "execution_count": 247,
   "metadata": {
    "id": "qynENkJ3TWrH"
   },
   "outputs": [
    {
     "name": "stdout",
     "output_type": "stream",
     "text": [
      "[[21  3]\n",
      " [ 5 11]]\n",
      "              precision    recall  f1-score   support\n",
      "\n",
      "           0       0.81      0.88      0.84        24\n",
      "           1       0.79      0.69      0.73        16\n",
      "\n",
      "    accuracy                           0.80        40\n",
      "   macro avg       0.80      0.78      0.79        40\n",
      "weighted avg       0.80      0.80      0.80        40\n",
      "\n"
     ]
    }
   ],
   "source": [
    "print(confusion_matrix(y_test, y_pred))\n",
    "print(classification_report(y_test, y_pred))"
   ]
  },
  {
   "cell_type": "markdown",
   "metadata": {
    "id": "So6s2PQ_TaIg"
   },
   "source": [
    "## <font color='green'>**Fin Parte 4**</font>"
   ]
  },
  {
   "cell_type": "markdown",
   "metadata": {
    "id": "K4owhfl55awY"
   },
   "source": [
    "## <font color='green'>**Parte 5: Nuevas Predicciones**</font>\n",
    "\n",
    "Genere un nuevo dataframe con información inventada por cada uno de los integrantes del grupo y simule la salida del clasificador.\n",
    "\n",
    "Para simular, debe usar los siguientes comandos:\n",
    "\n",
    "\n",
    "\n",
    "```\n",
    "print(gnb.predict(New_dataframe))\n",
    "```\n",
    "\n"
   ]
  },
  {
   "cell_type": "code",
   "execution_count": null,
   "metadata": {
    "id": "aYqGpTV8UCim"
   },
   "outputs": [],
   "source": [
    "#Solución\n"
   ]
  },
  {
   "cell_type": "markdown",
   "metadata": {
    "id": "8pRX1iZmUBi2"
   },
   "source": [
    "## <font color='green'>**Fin Parte 5**</font>"
   ]
  }
 ],
 "metadata": {
  "colab": {
   "name": "8-Aplicación Lectura de Archivos y Dataframes.ipynb",
   "provenance": [],
   "toc_visible": true
  },
  "kernelspec": {
   "display_name": "Python 3",
   "language": "python",
   "name": "python3"
  },
  "language_info": {
   "codemirror_mode": {
    "name": "ipython",
    "version": 3
   },
   "file_extension": ".py",
   "mimetype": "text/x-python",
   "name": "python",
   "nbconvert_exporter": "python",
   "pygments_lexer": "ipython3",
   "version": "3.7.5"
  }
 },
 "nbformat": 4,
 "nbformat_minor": 1
}
