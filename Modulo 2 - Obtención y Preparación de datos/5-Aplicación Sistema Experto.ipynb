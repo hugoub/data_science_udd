{
 "cells": [
  {
   "cell_type": "markdown",
   "metadata": {
    "id": "hDvMWhshFLGd"
   },
   "source": [
    "# <font color='blue'>**Proyecto 2: Sistema Experto para el Apoyo a la Toma de Decisiones - Lógica Difusa**</font>\n",
    "\n",
    "Cuando los computadores se enfrentan a la situación de “tomar decisiones”,\n",
    "generalmente hacen preguntas que tienen respuestas del tipo “sí o no”. Por ejemplo:\n",
    "\n",
    "1. “¿La temperatura excede los 50 o C?”,\n",
    "2. “¿Es Juanito de menor estatura que Lucía?”\n",
    "\n",
    "Los seres humanos, en cambio, no razonan en forma tan precisa. La mayor parte del razonamiento humano tiene que ver con categorías que se “matizan”, como por\n",
    "ejemplo:\n",
    "\n",
    "1. “Es peligroso manejar en un camino resbaladizo”\n",
    "2. “Un circuito complejo debe ser diseñado para alta seguridad (es decir, bajísimo ́índice de fallas)”\n",
    "\n",
    "Las personas son capaces de tomar decisiones basadas en información imprecisa, no numérica. Los **conjuntos difusos** proveen una herramienta para representar esta información, y poder así también construir un **sistema de ayuda para la toma de decisiones**. Los conjuntos difusos son un concepto que puede acercar el razonamiento computacional al que usan las personas.\n",
    "\n",
    "La teoría de conjuntos difusos fue enunciada por primera vez por Lotfi Zadeh en 1965. Señaló que en muchos casos las clases de objetos que se encuentran en el mundo físico real no tienen criterios de membresía precisamente definidos Postuló entonces los Conjuntos Difusos, como clases de objetos con grados de pertenencia continuos. Mientras que en un conjunto tradicional, por ejemplo “el conjunto de todos los números mayores o iguales que 5”, los límites son abruptos, la transición entre ser y no ser miembro es gradual en un conjunto difuso. Si el grado de membresía en un conjunto tradicional se define en forma binaria de la siguiente manera: $elemento$ $no$ $es$ $miembro = 0$, $elemento$ $es$ $miembro = 1$; en un conjunto difuso se especifica por un número real entre $1$ (miembro total) a $0$ (no miembro total).\n",
    "\n",
    "Los Sistemas Basados en Conocimiento (SBC) o Sistemas Expertos son sistemas de apoyo a la solución de problemas cuyo desempeño está primordialmente en conocimiento “declarado” o “explícito” (en contraposición al conocimiento “operativo” o “algorítmico”). Estos sistemas derivan sus conclusiones de conocimiento almacenado en bases de conocimiento, más que de algún algoritmo prefijado.\n",
    "\n",
    "Una distinción entre SBC y programas convencionales es la separación explícita de conocimiento y control. En un programa algorítmico típicamente el flujo de control está entrelazado con la información en que se basa el algoritmo. En cambio, en un SBC se distinguen 3 componentes distintivos: una Base de Conocimiento (BC, ó en inglés, KB), una Memoria de Trabajo (MT, ó en inglés, WM) y una Máquina de Inferencia (MI, ó en inglés, IE).\n",
    "\n",
    "La siguiente figura muestra las componentes de un sistema experto.\n",
    "\n",
    "<img src='https://drive.google.com/uc?export=view&id=1iTK2BL9H1XZS0YfHPT2fAh370fKN_zNT' width=\"500\" align=\"center\" style=\"margin-right: 20px\">\n",
    "\n",
    "Características de los EDSS son:\n",
    "\n",
    "* Se caracterizan por utilizar bases de conocimiento que **incorporan la experiencia** que se va adquiriendo en el proceso de toma de decisión y que permite seleccionar las mejores decisiones a tomar sobre un determinado problema.\n",
    "* Interactividad: sistema computacional con la posibilidad de **interactuar en forma amigable y con respuestas a tiempo real** con el encargado de tomar decisiones.\n",
    "* Tipo de decisiones: Apoya el proceso de toma de decisiones estructuradas y no estructuradas.\n",
    "* Frecuencia de Uso: Tiene una utilización frecuente por parte de la administración media y alta para el desempeño de su función.\n",
    "* Variedad de Usuarios: Puede emplearse por usuarios de diferentes áreas funcionales como ventas, producción, administración, finanzas y recursos humanos.\n",
    "* Flexibilidad: Permite acoplarse a una variedad determinada de estilos administrativos: Autocráticos, Participativos, etc.\n",
    "* Desarrollo: Permite que el usuario desarrollo de manera directa modelos de decisión sin la participación operativa de profesionales en informática.\n",
    "* Interacción Ambiental: Permite la posibilidad de interactuar con información externa como parte de los modelos de decisión.\n",
    "* Comunicación Inter-Organizacional: Facilita la comunicación de información relevante de los niveles altos a los niveles operativos y viceversa, a través de gráficas.\n",
    "* Acceso a base de Datos: Tiene la capacidad de accesar información de las bases de datos corporativos.\n",
    "* Simplicidad: Simple y fácil de aprender y utilizar por el usuario final.\n",
    "\n",
    "Existen diversos tipos de sistemas expertos, los más importantes son:\n",
    "\n",
    "1. **Sistema experto basado en encadenamiento directo**.\n",
    "2. Sistema experto basado en encadenamiento inverso."
   ]
  },
  {
   "cell_type": "markdown",
   "metadata": {
    "id": "0J-jmQvgKA5V"
   },
   "source": [
    "## <font color='green'>**Parte 1**</font>\n",
    "\n",
    "En este proyecto construiremos un sistema experto basado en encadenamiento directo utilizando las librerías n\n",
    "\n",
    "A continuación se entregan una serie de listas, correspondientes a una evaluación que se realizó a una grupo de jugador@s, para definir quienes formarían parte del equipo.\n",
    "\n",
    "Durante las pruebas se midieron las siguientes variables:\n",
    "\n",
    "* Cantidad de encestadas para un total de 25 intentos\n",
    "* Estatura del candidato (en metros)\n",
    "* Peso del candidato (en kilogramos)\n",
    "* Velocidad, evaluada de acuerdo a la marca en segundos en la prueba de 100 metros planos\n",
    "\n",
    "Se pide lo siguiente:\n",
    "\n",
    "1. Utilizando la información entregada, crear un dataframe llamado **candidatos**.\n",
    "2. Realizar la analítica descriptiva de la muestra (media, desviaciones y otros estadísticos relevantes).\n",
    "3. Crear un nuevo dataframe llamado **buen encestador** que incluya a tod@s l@s candidat@s que hayan logrado más de 17 encestadas en sus 25 intentos.\n",
    "4. ¿Qué peso tiene el tercer candidato?, ¿Qué peso tiene Julio y Usaína?\n",
    "5. Genere un nuevo dataframe llamado **sin datos** que incluya l@s candidat@s que en alguna de sus variables no tienen datos.\n",
    "6. En el dataframe candidatos, reemplazar los valores faltantes por el valor promedio de la variable.\n",
    "7. En el dataframe candidatos, crear una nueva columna llamadas *IMC* que corresponda al índice de masa corporal de cada candidat@.\n",
    "8. Crear un dataframe llamado **candidatos_grupo** que corresponda a los alumnos del grupo de trabajo y agregar este dataframe al dataframe candidatos."
   ]
  },
  {
   "cell_type": "code",
   "execution_count": null,
   "metadata": {
    "id": "2Q34DzMmFPFf"
   },
   "outputs": [],
   "source": [
    "import pandas as pd\n",
    "import numpy as np\n",
    "\n",
    "nombre = ['Olivia', 'Daniel', 'Juan', 'Germán', 'Eduardo', 'Alejandra', 'Julio', \n",
    "          'Edgardo', 'Angélica', 'Usaína']\n",
    "encestadas = [12, 17, 25, np.nan, 25, 19, 13, np.nan, 18, 25]\n",
    "estatura = [1.70, 1.90, 1.85, 2.13, 1.78, 2.03, 1.65, 1.79, 1.93, 1.95]\n",
    "peso = [81.5, 92.0, 97.7, 115.2, 80, 97.3, 58, 74.5, 88, 94.0]\n",
    "velocidad = [14.9, 12.8, 13.6, 10.7, np.nan, 12.8, 13, 12.5, 11.9, 9.6]\n",
    "\n",
    "indices = ['a', 'b', 'c', 'd', 'e', 'f', 'g', 'h', 'i', 'j']\n",
    "\n",
    "jugadores = {'nombre': nombre, 'encestadas': encestadas, 'estatura': estatura, \n",
    "             'peso': peso, 'velocidad': velocidad}"
   ]
  },
  {
   "cell_type": "code",
   "execution_count": null,
   "metadata": {
    "id": "q_NP7XHpaSIv"
   },
   "outputs": [],
   "source": [
    "#Solución"
   ]
  },
  {
   "cell_type": "markdown",
   "metadata": {
    "id": "I4o0ADDpkkRe"
   },
   "source": [
    "## <font color='green'>**Fin Parte 1**</font>"
   ]
  },
  {
   "cell_type": "markdown",
   "metadata": {
    "id": "mEbGMRs6aUJS"
   },
   "source": [
    "## <font color='green'>**Parte 2**</font>\n",
    "\n",
    "Para evaluar si l@s candidat@s formarán parte del equipo, se implementó un **Sistema Experto para el Apoyo a la Toma de Decisiones Basado en Lógica Difusa**. Este sistema utiliza una serie de reglas definidas por el entrenador para preseleccionar a sus jugador@s.\n",
    "\n",
    "**Regla 1:**\n",
    "\n",
    "Si el candidato es **buen encestador** y **es alto**,\n",
    "entonces **es adecuado para el equipo con certeza 0.75**.\n",
    "\n",
    "**Regla 2:**\n",
    "\n",
    "Si el candidato es **buen encestador** y **tiene buen sprint**,\n",
    "entonces **es adecuado para el equipo con certeza 0.9**.\n",
    "\t\n",
    "**Regla 3:**\n",
    "\n",
    "Si el candidato **es alto** y **tiene buen sprint**,\n",
    "entonces **es adecuado para el equipo con certeza 0.7**.\n",
    "\n",
    "\n",
    "Suponga que:\n",
    "\n",
    "* las premisas en cada regla se combinan utilizando $min$,\n",
    "* el valor del consecuente de cada regla es el valor anterior (combinación de premisas) multiplicado por el valor de certeza de la regla, y \n",
    "* el resultado del conjunto de reglas se obtienen combinando los valores del consecuente de todas las reglas gatilladas utilizando $max$.\n",
    "\n",
    "Los conceptos difusos que constituyen las premisas de las reglas se definen en forma de trapezoides de altura 1 (ver las figuras en cada caso), donde la ordenada es el grado de pertenencia, y la abscisa corresponde a la medida en el universo real en que se basa la generación del concepto difuso:\n",
    "\n",
    "i). **\"Buen encestador\"**: Se mide en términos del número de aciertos sobre un total de 25 tiros libres: (12/25, 17/25, 25/25, 25/25).\n",
    "\n",
    "<img src='https://drive.google.com/uc?export=view&id=16bQXOIAjrjlYaaA55G_nbtz4rSl_6PCR' width=\"500\" align=\"center\" style=\"margin-right: 20px\">\n",
    "\n",
    "ii). **\"Alto\"**: Es un juicio a partir de la estatura en cm del candidato: (170, 190, 230, 230).\n",
    "\n",
    "<img src='https://drive.google.com/uc?export=view&id=1026XeaRpK99iu1NC1MHCCzTWTHh3D1Ti' width=\"500\" align=\"center\" style=\"margin-right: 20px\">\n",
    "\n",
    "iii). **\"Buen sprint\"**: Se evalúa de acuerdo a la marca en segundos en la prueba de 100 m planos: (0, 0, 11, 15).\n",
    "\n",
    "<img src='https://drive.google.com/uc?export=view&id=1_KQz04yyLIXtCZRXz09C5yfBulfN2NHZ' width=\"500\" align=\"center\" style=\"margin-right: 20px\">\n",
    "\n",
    "El sistema debe entregar como resultado el valor de certeza de que el candidato sea adecuado para el equipo. Si ninguna regla es gatillada, el sistema debe informar asociar un grado de certeza de 0.0.\n",
    "\n",
    "1. Implemente en python una función que permita determinar el grado de certeza de que un candidat@ sea elegible para el equipo, mediante el sistema experto descrito anteriormente.\n",
    "\n",
    "2. Evalúe el dataframe candidatos con el programa que ha implementado, agregue una columna al dataframe llamada **\"certeza de selección\"**, en que incluya el valor entregado por su función.\n",
    "\n",
    "3. Agregue una nueva columna al dataframe llamada **\"seleccionados\"** en que se indique l@s candidat@s que han sido seleccionados (\"Si\"/\"No\"). Utilice como umbral de selección aquell@s jugador@s con una certeza de selección mayor a 0.7."
   ]
  },
  {
   "cell_type": "code",
   "execution_count": null,
   "metadata": {
    "id": "u7v9l_BGdEKS"
   },
   "outputs": [],
   "source": [
    "#Solución"
   ]
  },
  {
   "cell_type": "markdown",
   "metadata": {
    "id": "2MKDGBrvo1cu"
   },
   "source": [
    "## <font color='green'>**Fin Parte 2**</font>"
   ]
  },
  {
   "cell_type": "markdown",
   "metadata": {
    "id": "XFGDaEixo4Ru"
   },
   "source": [
    "## <font color='green'>**Parte 3**</font>\n",
    "\n",
    "Modifique su programa para que pueda recibir inputs desde la línea de comandos y que pueda evaluar un nuevo candidato. En cada iteración el programa debe preguntar por las variables correspondientes (calcular las que se obtienen a partir de otras entradas) y responder al usuario si quedó seleccionado o no y su grado de certeza de selección.\n",
    "\n",
    "Cada vez que ingrese un nuevo candidato, este debe agregarse al dataframe candidatos. Para finalizar, muestre una dataframe llamado **\"ranking\"** en que aparezcan los nombres de todos los candidatos, su certeza de selección y si fue seleccionado o no; ordenados de acuerdo a la certeza de selección de mayor a menor.\n"
   ]
  },
  {
   "cell_type": "code",
   "execution_count": null,
   "metadata": {
    "id": "du1P2ukzp2mk"
   },
   "outputs": [],
   "source": [
    "#Solución"
   ]
  },
  {
   "cell_type": "markdown",
   "metadata": {
    "id": "YHCl7j-Op3qi"
   },
   "source": [
    "## <font color='green'>**Fin Parte 3**</font>"
   ]
  }
 ],
 "metadata": {
  "colab": {
   "authorship_tag": "ABX9TyMqHV6K0l8etMQG+dPmwVl8",
   "name": "5-Aplicación Sistema Experto.ipynb",
   "provenance": []
  },
  "kernelspec": {
   "display_name": "Python 3",
   "language": "python",
   "name": "python3"
  },
  "language_info": {
   "codemirror_mode": {
    "name": "ipython",
    "version": 3
   },
   "file_extension": ".py",
   "mimetype": "text/x-python",
   "name": "python",
   "nbconvert_exporter": "python",
   "pygments_lexer": "ipython3",
   "version": "3.7.5"
  }
 },
 "nbformat": 4,
 "nbformat_minor": 1
}
