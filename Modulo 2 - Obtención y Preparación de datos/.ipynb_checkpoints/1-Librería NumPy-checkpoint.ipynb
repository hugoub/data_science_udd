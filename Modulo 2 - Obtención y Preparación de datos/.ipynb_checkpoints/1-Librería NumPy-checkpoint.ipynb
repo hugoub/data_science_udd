{
 "cells": [
  {
   "cell_type": "markdown",
   "metadata": {
    "id": "6I35N-xQ9i88"
   },
   "source": [
    "# <font color='blue'>**Librería NumPy**</font>"
   ]
  },
  {
   "cell_type": "markdown",
   "metadata": {
    "id": "0_32E2Xx9i89"
   },
   "source": [
    "**NumPy** es la librería por excelencia para computación científica en Python. Integra muchas funciones de cálculo matricial de N dimensiones, y una variedad de rutinas para operaciones rápidas en matrices, que incluyen manipulación matemática, lógica, y de tamaño y forma, clasificación, selección, I/O, transformada de Fourier, algebra lineal, operaciones estadísticas, simulación aleatoria y muchas otras."
   ]
  },
  {
   "cell_type": "markdown",
   "metadata": {
    "id": "KLxOLg7Q-_-t"
   },
   "source": [
    "<img src='https://drive.google.com/uc?export=view&id=1_foOq3ZJE-GKzm9hDpuTDrT8c_YxkorY' width=\"400\" align=\"center\" style=\"margin-right: 20px\">"
   ]
  },
  {
   "cell_type": "markdown",
   "metadata": {
    "id": "P40p1e1b_BwM"
   },
   "source": [
    "En el núcleo del paquete NumPy está el objeto **ndarray**. Este encapsula matrices n-dimensionales de tipos de datos homogeneos, con muchas operaciones que se realizan en código compilado (lenguaje C) para mejorar el rendimiento. Es la librería de cálculo más popular debido a su facilidad de uso y la rapidez de sus cálculos.\n",
    "\n",
    "Existen varias diferencias importantes entre las matrices de NumPy y las secuencias estándar de Python:\n",
    "\n",
    "* Las matrices NumPy tienen un tamaño fijo al momento de la creación, a diferencia de las listas de Python (que pueden crecer dinámicamente). Cambiar el tamaño de un ndarray creará una nueva matriz y eliminará la original.\n",
    "\n",
    "\n",
    "* Se requiere que todos los elementos de una matriz NumPy correspondan al mismo tipo de datos y, por lo tanto, tendrán el mismo tamaño en la memoria. La excepción: uno puede tener matrices de objetos (Python, incluido NumPy), lo que permite matrices de elementos de diferentes tamaños.\n",
    "\n",
    "\n",
    "* Las matrices NumPy facilitan las operaciones matemáticas avanzadas y las de otro tipo, en grandes cantidades de datos. Por lo general, estas operaciones se ejecutan de manera más eficiente y con menos código que al usar las secuencias integradas de Python.\n",
    "\n",
    "\n",
    "* Una multitud de paquetes científicos y matemáticos basados en Python utilizan matrices NumPy; aunque estos paquetes suelen admitir la entrada de secuencias estándar de Python, convierten dicha entrada en matrices NumPy antes del procesamiento y, a menudo, generan matrices NumPy. En otras palabras, para usar de manera eficiente gran parte (quizás incluso la mayoría) del software científico/matemático basado en Python de hoy en día, simplemente saber cómo usar los tipos de secuencia incorporados de Python es insuficiente; uno también necesita saber cómo usar las matrices NumPy."
   ]
  },
  {
   "cell_type": "markdown",
   "metadata": {
    "id": "Fk6_al2D9i8-"
   },
   "source": [
    "## <font color='blue'>**Instalando NumPy**</font>"
   ]
  },
  {
   "cell_type": "markdown",
   "metadata": {
    "id": "Lii79DzU9i8_"
   },
   "source": [
    "Para instalar NumPy, se recomienda utilizar una distribución científica de Python. Las instrucciones completas para instalar NumPy en sus sistemas operativos, las pueden encontrar en <a href=”https://www.scipy.org/install.html”>https://www.scipy.org/install.html</a>.\n",
    "\n",
    "Si ya tienes Python, puedes instalar NumPy con:"
   ]
  },
  {
   "cell_type": "markdown",
   "metadata": {
    "id": "j0br_7xb9i9A"
   },
   "source": [
    "\n",
    "\n",
    "```\n",
    "conda install numpy\n",
    "```\n",
    "\n"
   ]
  },
  {
   "cell_type": "markdown",
   "metadata": {
    "id": "kP0GBMTp9i9A"
   },
   "source": [
    "o"
   ]
  },
  {
   "cell_type": "markdown",
   "metadata": {
    "id": "YLyw_RP19i9B"
   },
   "source": [
    "```\n",
    "pip install numpy\n",
    "```"
   ]
  },
  {
   "cell_type": "markdown",
   "metadata": {
    "id": "s8oJyY599i9C"
   },
   "source": [
    "Si aún no tiene Python instalado &#128544; &#128544; &#128544;, se recomienda utilizar **Anaconda**. Es la forma más sencilla de empezar. Lo bueno de obtener esta distribución es el hecho de que no necesita preocuparse demasiado por instalar NumPy por separado o cualquiera de los paquetes principales que utilizará para sus análisis de datos, como pandas, Scikit-Learn, entre otras.\n",
    "\n",
    "Puede encontrar todos los detalles de instalación en la sección Instalación en <a href=”https://www.scipy.org/install.html”>SciPy</a>. "
   ]
  },
  {
   "cell_type": "markdown",
   "metadata": {
    "id": "BvK1UVkp9i9C"
   },
   "source": [
    "### <font color='blue'>**¿Cómo importar NumPy?**</font>\n",
    "\n",
    "Siempre que desee utilizar un paquete o una biblioteca en su código, **primero debe hacerlo accesible**.\n",
    "\n",
    "Para comenzar a usar NumPy y todas las funciones disponibles en NumPy, necesitará importarlo. Esto se puede hacer fácilmente con esta declaración de importación:"
   ]
  },
  {
   "cell_type": "code",
   "execution_count": 4,
   "metadata": {
    "executionInfo": {
     "elapsed": 879,
     "status": "ok",
     "timestamp": 1602699774684,
     "user": {
      "displayName": "Jose Garcia",
      "photoUrl": "https://lh3.googleusercontent.com/a-/AOh14GjhVumYNbkFNN5_FNhYU66e0ISQpLkFFjToc7wy0Q=s64",
      "userId": "13404731561212022132"
     },
     "user_tz": 180
    },
    "id": "U-5_aVRT9i9D"
   },
   "outputs": [],
   "source": [
    "import numpy as np"
   ]
  },
  {
   "cell_type": "markdown",
   "metadata": {
    "id": "77TTmC2l9i9H"
   },
   "source": [
    "Acortamos el nombre **numpy** a **np** para ahorrar tiempo y para mantener el código legible para que cualquiera que trabaje con su código pueda entenderlo y ejecutarlo fácilmente."
   ]
  },
  {
   "cell_type": "markdown",
   "metadata": {
    "id": "BRZG69kL9i9H"
   },
   "source": [
    "### <font color='blue'>**¿Cuál es la diferencia entre una lista y un matriz NumPy?**</font>\n",
    "\n",
    "NumPy ofrece una enorme variedad de formas rápidas y eficientes de crear matrices y manipular datos numéricos. Si bien una lista de Python puede contener diferentes tipos de datos dentro de una sola lista, todos los elementos de una matriz NumPy deben ser homogéneos. Las operaciones matemáticas que deben realizarse en matrices serían extremadamente ineficaces si las matrices no fueran homogéneas.\n",
    "\n",
    "#### <font color='blue'>**¿Por qué usar NumPy?**</font>\n",
    "\n",
    "Las matrices NumPy son más rápidas y compactas que las listas de Python. Una matriz consume menos memoria. NumPy usa mucha menos memoria para almacenar datos y proporciona un mecanismo para especificar los tipos de datos. Esto permite optimizar aún más el código."
   ]
  },
  {
   "cell_type": "code",
   "execution_count": 5,
   "metadata": {
    "colab": {
     "base_uri": "https://localhost:8080/",
     "height": 102
    },
    "executionInfo": {
     "elapsed": 1088,
     "status": "ok",
     "timestamp": 1602699782764,
     "user": {
      "displayName": "Jose Garcia",
      "photoUrl": "https://lh3.googleusercontent.com/a-/AOh14GjhVumYNbkFNN5_FNhYU66e0ISQpLkFFjToc7wy0Q=s64",
      "userId": "13404731561212022132"
     },
     "user_tz": 180
    },
    "id": "dkBdIUN69i9I",
    "outputId": "81af0e4d-c6ed-4560-8126-6ef09903423d"
   },
   "outputs": [
    {
     "name": "stdout",
     "output_type": "stream",
     "text": [
      "Resultado de memoria asignada a la lista de Python:\n",
      "280000\n",
      "\n",
      "Resultado de memoria asignada a NumPy array:\n",
      "40000\n"
     ]
    }
   ],
   "source": [
    "import sys\n",
    "\n",
    "S = range(10000)\n",
    "print('Resultado de memoria asignada a la lista de Python:')\n",
    "print(sys.getsizeof(5)*len(S))\n",
    "print()\n",
    "D=np.arange(10000)\n",
    "print('Resultado de memoria asignada a NumPy array:')\n",
    "print(D.size*D.itemsize)"
   ]
  },
  {
   "cell_type": "code",
   "execution_count": 6,
   "metadata": {},
   "outputs": [
    {
     "name": "stdout",
     "output_type": "stream",
     "text": [
      "[   0    1    2 ... 9997 9998 9999]\n",
      "24\n"
     ]
    }
   ],
   "source": [
    "D=np.arange(10000)\n",
    "print(D)\n",
    "D.size\n",
    "D.itemsize\n",
    "\n",
    "print(sys.getsizeof(int()))"
   ]
  },
  {
   "cell_type": "code",
   "execution_count": 7,
   "metadata": {
    "colab": {
     "base_uri": "https://localhost:8080/",
     "height": 102
    },
    "executionInfo": {
     "elapsed": 1229,
     "status": "ok",
     "timestamp": 1602699787645,
     "user": {
      "displayName": "Jose Garcia",
      "photoUrl": "https://lh3.googleusercontent.com/a-/AOh14GjhVumYNbkFNN5_FNhYU66e0ISQpLkFFjToc7wy0Q=s64",
      "userId": "13404731561212022132"
     },
     "user_tz": 180
    },
    "id": "XofwE9oH9i9L",
    "outputId": "11776e11-b19c-49cb-fb8d-6692077a4a39"
   },
   "outputs": [
    {
     "name": "stdout",
     "output_type": "stream",
     "text": [
      "Resultado test de velocidad para lista de Python [ms]:\n",
      "414.04128074645996\n",
      "\n",
      "Resultado test de velocidad para NumPy array [ms]:\n",
      "78.12762260437012\n"
     ]
    }
   ],
   "source": [
    "import time\n",
    "SIZE = 1000000\n",
    "\n",
    "L1 = range(SIZE)\n",
    "L2 = range(SIZE)\n",
    "A1 = np.arange(SIZE)\n",
    "A2 = np.arange(SIZE)\n",
    "\n",
    "start = time.time()\n",
    "result = [(x,y) for x,y in zip(L1,L2)]\n",
    "print('Resultado test de velocidad para lista de Python [ms]:')\n",
    "print((time.time()-start)*1000)\n",
    "print()\n",
    "\n",
    "start = time.time()\n",
    "result = A1+A2\n",
    "print('Resultado test de velocidad para NumPy array [ms]:')\n",
    "print((time.time()-start)*1000)\n"
   ]
  },
  {
   "cell_type": "markdown",
   "metadata": {
    "id": "3t_jEFXa9i9N"
   },
   "source": [
    "### <font color='blue'>**¿Qué es un matriz?**</font>\n",
    "\n",
    "Una matriz (o arreglo) es la estructura de datos central de la biblioteca NumPy. Una matriz es una cuadrícula de valores y contiene información sobre los datos sin procesar, cómo ubicar un elemento y cómo interpretar un elemento. Tiene una cuadrícula de elementos que se pueden indexar de varias formas. Los elementos son todos del mismo tipo, denominados **array dtype**.\n",
    "\n",
    "<img src='https://drive.google.com/uc?export=view&id=1gzNzhv_B2Dcu5NzozSAXqmNp3zio6Mc1' width=\"500\" align=\"center\" style=\"margin-right: 20px\">\n",
    "\n",
    "**Nota: es posible referirse la estructura ndarray de NumPy de las siguientes formas: array, arreglo, y/o matriz.**\n",
    "\n",
    "Una matriz puede ser indexada por una tupla de enteros no negativos, por booleanos, por otra matriz o por enteros. El rango de la matriz es el número de dimensiones. La forma de la matriz es una tupla de números enteros que dan el tamaño de la matriz a lo largo de cada dimensión.\n",
    "\n",
    "Una forma en que podemos inicializar matrices NumPy es a partir de listas de Python, utilizando listas anidadas para datos bidimensionales o de mayor dimensión. Por ejemplo:\n"
   ]
  },
  {
   "cell_type": "code",
   "execution_count": 8,
   "metadata": {
    "colab": {
     "base_uri": "https://localhost:8080/",
     "height": 34
    },
    "executionInfo": {
     "elapsed": 1144,
     "status": "ok",
     "timestamp": 1602699796957,
     "user": {
      "displayName": "Jose Garcia",
      "photoUrl": "https://lh3.googleusercontent.com/a-/AOh14GjhVumYNbkFNN5_FNhYU66e0ISQpLkFFjToc7wy0Q=s64",
      "userId": "13404731561212022132"
     },
     "user_tz": 180
    },
    "id": "X0foAkMz9i9O",
    "outputId": "86575a02-10f1-4b22-efc8-95ed5d979426"
   },
   "outputs": [
    {
     "name": "stdout",
     "output_type": "stream",
     "text": [
      "[1 2 3 4 5]\n"
     ]
    }
   ],
   "source": [
    "# rango/range: ndim - número de dimensiones\n",
    "# forma/shape: tamaño de cada una de estas dimensiones\n",
    "\n",
    "A = np.array([1, 2, 3, 4, 5])\n",
    "print(A)"
   ]
  },
  {
   "cell_type": "code",
   "execution_count": 9,
   "metadata": {},
   "outputs": [
    {
     "name": "stdout",
     "output_type": "stream",
     "text": [
      "5\n",
      "1\n",
      "(5,)\n"
     ]
    }
   ],
   "source": [
    "print(A.size)\n",
    "print(A.ndim)   # Rango\n",
    "print(A.shape)  # Shape\n"
   ]
  },
  {
   "cell_type": "markdown",
   "metadata": {
    "id": "rMAX7IFM9i9Q"
   },
   "source": [
    "o"
   ]
  },
  {
   "cell_type": "code",
   "execution_count": 10,
   "metadata": {
    "colab": {
     "base_uri": "https://localhost:8080/",
     "height": 85
    },
    "executionInfo": {
     "elapsed": 1134,
     "status": "ok",
     "timestamp": 1602699800341,
     "user": {
      "displayName": "Jose Garcia",
      "photoUrl": "https://lh3.googleusercontent.com/a-/AOh14GjhVumYNbkFNN5_FNhYU66e0ISQpLkFFjToc7wy0Q=s64",
      "userId": "13404731561212022132"
     },
     "user_tz": 180
    },
    "id": "NJm3BodP9i9R",
    "outputId": "deef5c0a-6de0-43af-fb2f-175687e17688"
   },
   "outputs": [
    {
     "name": "stdout",
     "output_type": "stream",
     "text": [
      "[[ 1  2  3]\n",
      " [ 7  8  9]\n",
      " [13 14 15]\n",
      " [19 20 21]]\n"
     ]
    }
   ],
   "source": [
    "A = np.array([[1, 2, 3], [7, 8, 9], [13, 14, 15], [19, 20, 21]])\n",
    "print(A)"
   ]
  },
  {
   "cell_type": "markdown",
   "metadata": {
    "id": "hj82Bba09i9U"
   },
   "source": [
    "Podemos acceder a los elementos de la matriz utilizando **corchetes**. Cuando acceda a los elementos de la matriz, recuerde que la **indexación en NumPy comienza en 0**. Eso significa que si desea acceder al primer elemento de su matriz, estará accediendo al elemento \"0\".\n",
    "\n",
    "<img src='https://drive.google.com/uc?export=view&id=18qtkEag596pYiUWuULj1f88v4L-1DEnq' width=\"500\" align=\"center\" style=\"margin-right: 20px\">"
   ]
  },
  {
   "cell_type": "code",
   "execution_count": 11,
   "metadata": {
    "id": "uwxJsaQZ9i9V"
   },
   "outputs": [
    {
     "name": "stdout",
     "output_type": "stream",
     "text": [
      "[1 2 3]\n"
     ]
    }
   ],
   "source": [
    "print(A[0])"
   ]
  },
  {
   "cell_type": "code",
   "execution_count": 46,
   "metadata": {
    "id": "xFU1P_OV9i9X"
   },
   "outputs": [
    {
     "name": "stdout",
     "output_type": "stream",
     "text": [
      "[ 1  8 20]\n"
     ]
    }
   ],
   "source": [
    "print(A[[0,1,3],[0,1,1]])"
   ]
  },
  {
   "cell_type": "markdown",
   "metadata": {
    "id": "ugHhWBvq9i9a"
   },
   "source": [
    "Una matriz N-dimensional es una matriz con cualquier número de dimensiones. También puede encontrar matrices 1D o matriz unidimensional, 2D o matriz bidimensional, etc.\n",
    "\n",
    "La clase ndarray de NumPy se utiliza para representar tanto matrices como vectores. Un vector es una matriz con una sola dimensión (no hay diferencia entre los vectores de fila y columna), mientras que una matriz se refiere a una matriz con dos dimensiones. Para matrices tridimensionales o superiores, el término tensor también se usa comúnmente.\n",
    "\n",
    "#### <font color='blue'>**¿Cuáles son los atributos de una matriz?**</font>\n",
    "\n",
    "Una matriz suele ser un contenedor de tamaño fijo de elementos del mismo tipo y tamaño. El número de dimensiones y elementos de una matriz se define por su forma. La forma de una matriz es una tupla de números enteros no negativos que especifican los tamaños de cada dimensión.\n",
    "\n",
    "En NumPy, las dimensiones se llaman ejes. Esto significa que si tiene una matriz 2D que se ve así:"
   ]
  },
  {
   "cell_type": "code",
   "execution_count": 6,
   "metadata": {
    "colab": {
     "base_uri": "https://localhost:8080/",
     "height": 34
    },
    "executionInfo": {
     "elapsed": 1258,
     "status": "ok",
     "timestamp": 1602699809630,
     "user": {
      "displayName": "Jose Garcia",
      "photoUrl": "https://lh3.googleusercontent.com/a-/AOh14GjhVumYNbkFNN5_FNhYU66e0ISQpLkFFjToc7wy0Q=s64",
      "userId": "13404731561212022132"
     },
     "user_tz": 180
    },
    "id": "tkLAEqhY9i9a",
    "outputId": "d8284c49-9e3c-4cb8-b5b5-eb626a909888"
   },
   "outputs": [
    {
     "data": {
      "text/plain": [
       "[[0.0, 0.0, 0.0], [1.0, 1.0, 1.0]]"
      ]
     },
     "execution_count": 6,
     "metadata": {
      "tags": []
     },
     "output_type": "execute_result"
    }
   ],
   "source": [
    "[[0., 0., 0.],\n",
    " [1., 1., 1.]]"
   ]
  },
  {
   "cell_type": "markdown",
   "metadata": {
    "id": "rkM2yewO9i9c"
   },
   "source": [
    "Su matriz tiene 2 ejes. El primer eje tiene una longitud de 2 y el segundo eje tiene una longitud de 3.\n",
    "\n",
    "Al igual que en otros objetos contenedores de Python, se puede acceder y modificar el contenido de una matriz indexando o dividiendo la matriz. A diferencia de los objetos contenedores típicos, diferentes matrices pueden compartir los mismos datos, por lo que los cambios realizados en una matriz pueden ser visibles en otra.\n",
    "\n",
    "Los atributos de la matriz reflejan información intrínseca a la propia matriz. Si necesita obtener, o incluso establecer, propiedades de una matriz sin crear una nueva matriz, a menudo puede acceder a una matriz a través de sus atributos. Para detalles y más información pinche <a href=”https://numpy.org/devdocs/reference/arrays.ndarray.html#arrays-ndarray”>aquí</a>. "
   ]
  },
  {
   "cell_type": "markdown",
   "metadata": {
    "id": "HrybO6-B9i9d"
   },
   "source": [
    "## <font color='green'>**Ejercicio 1**</font>"
   ]
  },
  {
   "cell_type": "markdown",
   "metadata": {
    "id": "rhMrjXbM9i9d"
   },
   "source": [
    "A partir de la matriz A definida anteriomente:\n",
    "\n",
    "1. Indicar el rango y la forma de la matriz A.\n",
    "1. Crear un vector *a1* que corresponda a la segunda columna de la matriz A.\n",
    "1. Crear una matriz *a2* que incluya los elementos de las filas 2 a 4 y de las columnas 2 a 3 de la matriz A.\n",
    "1. Crear un vector *a3* que contenga los elementos A[0,0], A[1,2], A[0,1], A[3,2], A[2,3] y A[1,1]\n",
    "1. Crear una matriz *a4* de 2x2 con las primeras dos filas.\n",
    "1. crear una matriz *a5* que contenga la última y la primera fila de la matriz A."
   ]
  },
  {
   "cell_type": "code",
   "execution_count": 48,
   "metadata": {
    "id": "4irU2lyT9i9e"
   },
   "outputs": [
    {
     "name": "stdout",
     "output_type": "stream",
     "text": [
      "2\n",
      "(4, 3)\n",
      "a1:\n",
      " [ 2  8 14 20]\n",
      "a2:\n",
      " [[ 8  9]\n",
      " [14 15]\n",
      " [20 21]]\n",
      "a3:\n",
      " [1, 9, 2, 8]\n",
      "a3:\n",
      " [1 9 2 8]\n",
      "a4:\n",
      " [[1 2]\n",
      " [7 8]]\n",
      "a5:\n",
      " [[ 1  2  3]\n",
      " [19 20 21]]\n"
     ]
    }
   ],
   "source": [
    "# Dimensiones\n",
    "print(A.ndim)\n",
    "\n",
    "# Tamano\n",
    "print(A.shape)\n",
    "\n",
    "a1 =  A[:,1]\n",
    "print(f'a1:\\n {a1}')\n",
    "\n",
    "a2 = A[1:4,1:3]\n",
    "print(f'a2:\\n {a2}')\n",
    "\n",
    "#a3 = np.ndarray([A[0,0], A[1,2], A[0,1], A[3,2], A[2,3], A[1,1]])\n",
    "a3 = [A[0,0], A[1,2], A[0,1], A[1,1]]\n",
    "print(f'a3:\\n {a3}')\n",
    "# Indexing tomando coordenadas de la dimensión 1 y de la dimensión 2. \n",
    "a3 = A[[0, 1, 0, 1],[0, 2, 1, 1]]\n",
    "print(f'a3:\\n {a3}')\n",
    "\n",
    "a4 = A[:2,:2]\n",
    "print(f'a4:\\n {a4}')\n",
    "\n",
    "a5 = [A[0,:], A[-1,:]]\n",
    "a5 = [A[0], A[-1]]\n",
    "a5 = A[[0,-1],:]\n",
    "print(f'a5:\\n {a5}')\n"
   ]
  },
  {
   "cell_type": "markdown",
   "metadata": {
    "id": "sFMmV6Bdjj34"
   },
   "source": [
    "## <font color='green'>**Fin ejercicio 1**</font>"
   ]
  },
  {
   "cell_type": "markdown",
   "metadata": {
    "id": "UAf2kncw9i9h"
   },
   "source": [
    "## <font color='blue'>**Creando vectores y matrices** </font>"
   ]
  },
  {
   "cell_type": "markdown",
   "metadata": {
    "id": "238Emlgc9i9h"
   },
   "source": [
    "Para crear una matriz NumPy, se puede utilizar la función **np.array()**.\n",
    "\n",
    "Todo lo que necesita hacer para crear una matriz simple es pasarle una lista. Si lo desea, también puede especificar el tipo de datos en su lista."
   ]
  },
  {
   "cell_type": "code",
   "execution_count": 7,
   "metadata": {
    "colab": {
     "base_uri": "https://localhost:8080/",
     "height": 187
    },
    "executionInfo": {
     "elapsed": 2228,
     "status": "ok",
     "timestamp": 1602699821137,
     "user": {
      "displayName": "Jose Garcia",
      "photoUrl": "https://lh3.googleusercontent.com/a-/AOh14GjhVumYNbkFNN5_FNhYU66e0ISQpLkFFjToc7wy0Q=s64",
      "userId": "13404731561212022132"
     },
     "user_tz": 180
    },
    "id": "e6C2M_KH9i9i",
    "outputId": "f1c36ccc-0575-4ee7-b94d-a702e72f5de2"
   },
   "outputs": [
    {
     "name": "stdout",
     "output_type": "stream",
     "text": [
      "[1 2 3]\n",
      "\n",
      "[[1 2 3]\n",
      " [4 5 6]]\n",
      "\n",
      "[[[ 1  2  3]\n",
      "  [ 4  5  6]]\n",
      "\n",
      " [[ 7  8  9]\n",
      "  [10 11 12]]]\n"
     ]
    }
   ],
   "source": [
    "a = np.array([1, 2, 3])\n",
    "b = np.array([[1, 2, 3],[4, 5, 6]])\n",
    "c = np.array([[[1, 2, 3],[4, 5, 6]], [[7, 8, 9],[10, 11, 12]]])\n",
    "print(a)\n",
    "print()\n",
    "print(b)\n",
    "print()\n",
    "print(c)"
   ]
  },
  {
   "cell_type": "markdown",
   "metadata": {
    "id": "bTEl5Sat9i9k"
   },
   "source": [
    "Además de crear una matriz a partir de una secuencia de elementos, puede crear fácilmente un vector o una matriz llena de ceros:"
   ]
  },
  {
   "cell_type": "code",
   "execution_count": 8,
   "metadata": {
    "colab": {
     "base_uri": "https://localhost:8080/",
     "height": 85
    },
    "executionInfo": {
     "elapsed": 1165,
     "status": "ok",
     "timestamp": 1602700010763,
     "user": {
      "displayName": "Jose Garcia",
      "photoUrl": "https://lh3.googleusercontent.com/a-/AOh14GjhVumYNbkFNN5_FNhYU66e0ISQpLkFFjToc7wy0Q=s64",
      "userId": "13404731561212022132"
     },
     "user_tz": 180
    },
    "id": "NhN-xYbq9i9l",
    "outputId": "a7e9ca61-974d-4a8a-ff0b-c2aa3c58a13e"
   },
   "outputs": [
    {
     "name": "stdout",
     "output_type": "stream",
     "text": [
      "[0. 0. 0. 0. 0.]\n",
      "\n",
      "[[0. 0. 0. 0. 0.]\n",
      " [0. 0. 0. 0. 0.]]\n"
     ]
    }
   ],
   "source": [
    "vector_ceros = np.zeros(5)\n",
    "matriz_ceros = np.zeros((2,5))\n",
    "print(vector_ceros)\n",
    "print()\n",
    "print(matriz_ceros)"
   ]
  },
  {
   "cell_type": "markdown",
   "metadata": {
    "id": "_48CR0V69i9s"
   },
   "source": [
    "o un vector o matriz de 1s:"
   ]
  },
  {
   "cell_type": "code",
   "execution_count": 9,
   "metadata": {
    "colab": {
     "base_uri": "https://localhost:8080/",
     "height": 85
    },
    "executionInfo": {
     "elapsed": 1284,
     "status": "ok",
     "timestamp": 1602700014553,
     "user": {
      "displayName": "Jose Garcia",
      "photoUrl": "https://lh3.googleusercontent.com/a-/AOh14GjhVumYNbkFNN5_FNhYU66e0ISQpLkFFjToc7wy0Q=s64",
      "userId": "13404731561212022132"
     },
     "user_tz": 180
    },
    "id": "G0kO6M_j9i9s",
    "outputId": "a4b071b1-1b78-4b54-e3ec-99338f2a9339"
   },
   "outputs": [
    {
     "name": "stdout",
     "output_type": "stream",
     "text": [
      "[1. 1. 1. 1. 1.]\n",
      "\n",
      "[[1. 1. 1. 1. 1.]\n",
      " [1. 1. 1. 1. 1.]]\n"
     ]
    }
   ],
   "source": [
    "vector_unos = np.ones(5)\n",
    "matriz_unos = np.ones((2,5))\n",
    "print(vector_unos)\n",
    "print()\n",
    "print(matriz_unos)"
   ]
  },
  {
   "cell_type": "markdown",
   "metadata": {
    "id": "3CPcoslQ9i9v"
   },
   "source": [
    "o un vector o matriz vacía. La función vacía crea una matriz cuyo contenido inicial es aleatorio y depende del estado de la memoria. La razón para usar vacío sobre ceros (o algo similar) es la velocidad, ¡solo asegúrese de completar todos los elementos después! &#128521; &#128521; &#128521;."
   ]
  },
  {
   "cell_type": "code",
   "execution_count": 72,
   "metadata": {
    "colab": {
     "base_uri": "https://localhost:8080/",
     "height": 34
    },
    "executionInfo": {
     "elapsed": 1034,
     "status": "ok",
     "timestamp": 1602700018879,
     "user": {
      "displayName": "Jose Garcia",
      "photoUrl": "https://lh3.googleusercontent.com/a-/AOh14GjhVumYNbkFNN5_FNhYU66e0ISQpLkFFjToc7wy0Q=s64",
      "userId": "13404731561212022132"
     },
     "user_tz": 180
    },
    "id": "LnxtkbyJ9i9v",
    "outputId": "b927ecb9-e45e-4921-87db-9ae33633e1ee"
   },
   "outputs": [
    {
     "data": {
      "text/plain": [
       "array([5.e-324, 5.e-324, 0.e+000, 0.e+000, 0.e+000])"
      ]
     },
     "execution_count": 72,
     "metadata": {},
     "output_type": "execute_result"
    }
   ],
   "source": [
    "np.empty(5)"
   ]
  },
  {
   "cell_type": "markdown",
   "metadata": {
    "id": "kJYDvmDg9i9x"
   },
   "source": [
    "También es posible crear un vector con elementos dentro de un rango:"
   ]
  },
  {
   "cell_type": "code",
   "execution_count": 11,
   "metadata": {
    "colab": {
     "base_uri": "https://localhost:8080/",
     "height": 34
    },
    "executionInfo": {
     "elapsed": 1251,
     "status": "ok",
     "timestamp": 1602700022456,
     "user": {
      "displayName": "Jose Garcia",
      "photoUrl": "https://lh3.googleusercontent.com/a-/AOh14GjhVumYNbkFNN5_FNhYU66e0ISQpLkFFjToc7wy0Q=s64",
      "userId": "13404731561212022132"
     },
     "user_tz": 180
    },
    "id": "hNJ4dNO29i9y",
    "outputId": "ae1e22e0-ce23-477d-f6f3-348611b74a05"
   },
   "outputs": [
    {
     "data": {
      "text/plain": [
       "array([0, 1, 2, 3])"
      ]
     },
     "execution_count": 11,
     "metadata": {
      "tags": []
     },
     "output_type": "execute_result"
    }
   ],
   "source": [
    "np.arange(4)"
   ]
  },
  {
   "cell_type": "markdown",
   "metadata": {
    "id": "tR_0NWrw9i91"
   },
   "source": [
    "Un vector que contiene un rango de intervalos espaciados uniformemente. Para hacer esto, debe especificar el primer número, el último número y el tamaño del paso."
   ]
  },
  {
   "cell_type": "code",
   "execution_count": 12,
   "metadata": {
    "colab": {
     "base_uri": "https://localhost:8080/",
     "height": 34
    },
    "executionInfo": {
     "elapsed": 1028,
     "status": "ok",
     "timestamp": 1602700026066,
     "user": {
      "displayName": "Jose Garcia",
      "photoUrl": "https://lh3.googleusercontent.com/a-/AOh14GjhVumYNbkFNN5_FNhYU66e0ISQpLkFFjToc7wy0Q=s64",
      "userId": "13404731561212022132"
     },
     "user_tz": 180
    },
    "id": "7kalX1_89i91",
    "outputId": "1f046fea-5465-4ae3-cafd-dea30e7d8d3c"
   },
   "outputs": [
    {
     "data": {
      "text/plain": [
       "array([3, 5, 7, 9])"
      ]
     },
     "execution_count": 12,
     "metadata": {
      "tags": []
     },
     "output_type": "execute_result"
    }
   ],
   "source": [
    "np.arange(3, 10, 2)"
   ]
  },
  {
   "cell_type": "markdown",
   "metadata": {
    "id": "ic7Bl_Hs9i93"
   },
   "source": [
    "También puede utilizar **np.linspace()** para crear una matriz con valores espaciados linealmente en un intervalo especificado:"
   ]
  },
  {
   "cell_type": "code",
   "execution_count": 49,
   "metadata": {
    "colab": {
     "base_uri": "https://localhost:8080/",
     "height": 34
    },
    "executionInfo": {
     "elapsed": 1025,
     "status": "ok",
     "timestamp": 1602700029459,
     "user": {
      "displayName": "Jose Garcia",
      "photoUrl": "https://lh3.googleusercontent.com/a-/AOh14GjhVumYNbkFNN5_FNhYU66e0ISQpLkFFjToc7wy0Q=s64",
      "userId": "13404731561212022132"
     },
     "user_tz": 180
    },
    "id": "wW3kKZgV9i94",
    "outputId": "b04e332d-e2b7-422e-e587-6d9d3105e890"
   },
   "outputs": [
    {
     "data": {
      "text/plain": [
       "array([ 0.  ,  3.75,  7.5 , 11.25, 15.  ])"
      ]
     },
     "execution_count": 49,
     "metadata": {},
     "output_type": "execute_result"
    }
   ],
   "source": [
    "np.linspace(0, 15, num=5)"
   ]
  },
  {
   "cell_type": "markdown",
   "metadata": {
    "id": "Eihq6Hor9i98"
   },
   "source": [
    "El tipo de datos predeterminado es punto flotante (*np.float64*), pero es posible especificar explícitamente qué tipo de datos desea, utilizando la palabra clave **dtype**. Para más información sobre tipo de datos, pinche <a href=”https://numpy.org/devdocs/reference/arrays.dtypes.html#arrays-dtypes”>aquí</a>."
   ]
  },
  {
   "cell_type": "code",
   "execution_count": 14,
   "metadata": {
    "colab": {
     "base_uri": "https://localhost:8080/",
     "height": 34
    },
    "executionInfo": {
     "elapsed": 1345,
     "status": "ok",
     "timestamp": 1602700033821,
     "user": {
      "displayName": "Jose Garcia",
      "photoUrl": "https://lh3.googleusercontent.com/a-/AOh14GjhVumYNbkFNN5_FNhYU66e0ISQpLkFFjToc7wy0Q=s64",
      "userId": "13404731561212022132"
     },
     "user_tz": 180
    },
    "id": "D3X8V3hV9i98",
    "outputId": "f76e794f-faad-49ff-aebe-c42b76b647b3"
   },
   "outputs": [
    {
     "data": {
      "text/plain": [
       "array([1, 1, 1, 1, 1])"
      ]
     },
     "execution_count": 14,
     "metadata": {
      "tags": []
     },
     "output_type": "execute_result"
    }
   ],
   "source": [
    "x = np.ones(5, dtype=np.int64)\n",
    "x"
   ]
  },
  {
   "cell_type": "markdown",
   "metadata": {
    "id": "RYQnTW1u9i9-"
   },
   "source": [
    "La matriz de identidad es una matriz cuadrada con unos en la diagonal principal:"
   ]
  },
  {
   "cell_type": "code",
   "execution_count": 15,
   "metadata": {
    "colab": {
     "base_uri": "https://localhost:8080/",
     "height": 68
    },
    "executionInfo": {
     "elapsed": 995,
     "status": "ok",
     "timestamp": 1602700036533,
     "user": {
      "displayName": "Jose Garcia",
      "photoUrl": "https://lh3.googleusercontent.com/a-/AOh14GjhVumYNbkFNN5_FNhYU66e0ISQpLkFFjToc7wy0Q=s64",
      "userId": "13404731561212022132"
     },
     "user_tz": 180
    },
    "id": "ZFfshoGM9i9_",
    "outputId": "b487d7a9-1e30-42d5-d0d1-b55750c27839"
   },
   "outputs": [
    {
     "data": {
      "text/plain": [
       "array([[1., 0., 0.],\n",
       "       [0., 1., 0.],\n",
       "       [0., 0., 1.]])"
      ]
     },
     "execution_count": 15,
     "metadata": {
      "tags": []
     },
     "output_type": "execute_result"
    }
   ],
   "source": [
    "np.identity(3)"
   ]
  },
  {
   "cell_type": "markdown",
   "metadata": {
    "id": "g_nOdgNK9i-B"
   },
   "source": [
    "## <font color='blue'>**Operaciones con matrices**</font>"
   ]
  },
  {
   "cell_type": "markdown",
   "metadata": {
    "id": "WlXAmLx39i-B"
   },
   "source": [
    "Las operaciones básicas son simples con NumPy. Una vez que ha creado sus matrices, puede comenzar a trabajar con ellas. Por ejemplo, se han creado dos matrices, una llamada *a* y otra llamada *b*."
   ]
  },
  {
   "cell_type": "code",
   "execution_count": 79,
   "metadata": {
    "colab": {
     "base_uri": "https://localhost:8080/",
     "height": 34
    },
    "executionInfo": {
     "elapsed": 1022,
     "status": "ok",
     "timestamp": 1602700056421,
     "user": {
      "displayName": "Jose Garcia",
      "photoUrl": "https://lh3.googleusercontent.com/a-/AOh14GjhVumYNbkFNN5_FNhYU66e0ISQpLkFFjToc7wy0Q=s64",
      "userId": "13404731561212022132"
     },
     "user_tz": 180
    },
    "id": "HxocIoQy9i-C",
    "outputId": "6ad3e390-b42f-4a95-c8ef-dc1995880ed1"
   },
   "outputs": [
    {
     "data": {
      "text/plain": [
       "array([11,  5,  9, 12,  6])"
      ]
     },
     "execution_count": 79,
     "metadata": {},
     "output_type": "execute_result"
    }
   ],
   "source": [
    "a = np.array([1, 2, 3, 4, 5])\n",
    "b = np.array([10, 3, 6, 8, 1], dtype=int)\n",
    "a + b"
   ]
  },
  {
   "cell_type": "markdown",
   "metadata": {
    "id": "K8Tj0qui9i-F"
   },
   "source": [
    "Si desea encontrar la suma de los elementos en una matriz, debe usar **sum()**. Esto funciona para matrices 1D, matrices 2D y matrices en dimensiones más altas."
   ]
  },
  {
   "cell_type": "code",
   "execution_count": 80,
   "metadata": {
    "colab": {
     "base_uri": "https://localhost:8080/",
     "height": 34
    },
    "executionInfo": {
     "elapsed": 761,
     "status": "ok",
     "timestamp": 1602700059595,
     "user": {
      "displayName": "Jose Garcia",
      "photoUrl": "https://lh3.googleusercontent.com/a-/AOh14GjhVumYNbkFNN5_FNhYU66e0ISQpLkFFjToc7wy0Q=s64",
      "userId": "13404731561212022132"
     },
     "user_tz": 180
    },
    "id": "LRzxmChM9i-G",
    "outputId": "b00db696-406c-4093-a17e-e914898fd6bb"
   },
   "outputs": [
    {
     "data": {
      "text/plain": [
       "10"
      ]
     },
     "execution_count": 80,
     "metadata": {},
     "output_type": "execute_result"
    }
   ],
   "source": [
    "a = np.array([1, 2, 3, 4])\n",
    "a.sum()"
   ]
  },
  {
   "cell_type": "markdown",
   "metadata": {
    "id": "1xCGCtUO9i-J"
   },
   "source": [
    "Para realizar esta operación en más dimensiones, debe especificar el eje."
   ]
  },
  {
   "cell_type": "code",
   "execution_count": 81,
   "metadata": {
    "executionInfo": {
     "elapsed": 1025,
     "status": "ok",
     "timestamp": 1602700062914,
     "user": {
      "displayName": "Jose Garcia",
      "photoUrl": "https://lh3.googleusercontent.com/a-/AOh14GjhVumYNbkFNN5_FNhYU66e0ISQpLkFFjToc7wy0Q=s64",
      "userId": "13404731561212022132"
     },
     "user_tz": 180
    },
    "id": "u6Bf7dod9i-J"
   },
   "outputs": [],
   "source": [
    "b = np.array([[1, 1], [2, 2]])"
   ]
  },
  {
   "cell_type": "markdown",
   "metadata": {
    "id": "T7UM_gFh9i-L"
   },
   "source": [
    "Para sumar por filas:"
   ]
  },
  {
   "cell_type": "code",
   "execution_count": 82,
   "metadata": {
    "colab": {
     "base_uri": "https://localhost:8080/",
     "height": 34
    },
    "executionInfo": {
     "elapsed": 964,
     "status": "ok",
     "timestamp": 1602700065979,
     "user": {
      "displayName": "Jose Garcia",
      "photoUrl": "https://lh3.googleusercontent.com/a-/AOh14GjhVumYNbkFNN5_FNhYU66e0ISQpLkFFjToc7wy0Q=s64",
      "userId": "13404731561212022132"
     },
     "user_tz": 180
    },
    "id": "BwxmS45y9i-M",
    "outputId": "369eb163-761f-412d-d2d6-fbf7ba2bf140"
   },
   "outputs": [
    {
     "data": {
      "text/plain": [
       "array([3, 3])"
      ]
     },
     "execution_count": 82,
     "metadata": {},
     "output_type": "execute_result"
    }
   ],
   "source": [
    "b.sum(axis=0)"
   ]
  },
  {
   "cell_type": "markdown",
   "metadata": {
    "id": "laH3M_4a9i-O"
   },
   "source": [
    "Para sumar por columnas:"
   ]
  },
  {
   "cell_type": "code",
   "execution_count": 83,
   "metadata": {
    "colab": {
     "base_uri": "https://localhost:8080/",
     "height": 34
    },
    "executionInfo": {
     "elapsed": 1020,
     "status": "ok",
     "timestamp": 1602700068862,
     "user": {
      "displayName": "Jose Garcia",
      "photoUrl": "https://lh3.googleusercontent.com/a-/AOh14GjhVumYNbkFNN5_FNhYU66e0ISQpLkFFjToc7wy0Q=s64",
      "userId": "13404731561212022132"
     },
     "user_tz": 180
    },
    "id": "LzVMKXl69i-O",
    "outputId": "ac4b52c9-ff32-4016-ceaa-b5fc2daf73b4"
   },
   "outputs": [
    {
     "data": {
      "text/plain": [
       "array([2, 4])"
      ]
     },
     "execution_count": 83,
     "metadata": {},
     "output_type": "execute_result"
    }
   ],
   "source": [
    "b.sum(axis=1)"
   ]
  },
  {
   "cell_type": "markdown",
   "metadata": {
    "id": "Uv-IndhV9i-Q"
   },
   "source": [
    "Sustracción:"
   ]
  },
  {
   "cell_type": "code",
   "execution_count": 84,
   "metadata": {
    "colab": {
     "base_uri": "https://localhost:8080/",
     "height": 164
    },
    "executionInfo": {
     "elapsed": 2348,
     "status": "error",
     "timestamp": 1602700074067,
     "user": {
      "displayName": "Jose Garcia",
      "photoUrl": "https://lh3.googleusercontent.com/a-/AOh14GjhVumYNbkFNN5_FNhYU66e0ISQpLkFFjToc7wy0Q=s64",
      "userId": "13404731561212022132"
     },
     "user_tz": 180
    },
    "id": "nYZRPFq89i-R",
    "outputId": "c0cae91d-81ee-4757-8699-e1dcc2b4ebea"
   },
   "outputs": [
    {
     "ename": "ValueError",
     "evalue": "operands could not be broadcast together with shapes (4,) (2,2) ",
     "output_type": "error",
     "traceback": [
      "\u001b[1;31m---------------------------------------------------------------------------\u001b[0m",
      "\u001b[1;31mValueError\u001b[0m                                Traceback (most recent call last)",
      "\u001b[1;32m<ipython-input-84-09bd029d0285>\u001b[0m in \u001b[0;36m<module>\u001b[1;34m\u001b[0m\n\u001b[1;32m----> 1\u001b[1;33m \u001b[0ma\u001b[0m \u001b[1;33m-\u001b[0m \u001b[0mb\u001b[0m\u001b[1;33m\u001b[0m\u001b[1;33m\u001b[0m\u001b[0m\n\u001b[0m",
      "\u001b[1;31mValueError\u001b[0m: operands could not be broadcast together with shapes (4,) (2,2) "
     ]
    }
   ],
   "source": [
    "a - b"
   ]
  },
  {
   "cell_type": "markdown",
   "metadata": {
    "id": "GtgehIq19i-U"
   },
   "source": [
    "Multiplicación por elementos:"
   ]
  },
  {
   "cell_type": "code",
   "execution_count": 85,
   "metadata": {
    "colab": {
     "base_uri": "https://localhost:8080/",
     "height": 51
    },
    "executionInfo": {
     "elapsed": 1360,
     "status": "ok",
     "timestamp": 1602700158906,
     "user": {
      "displayName": "Jose Garcia",
      "photoUrl": "https://lh3.googleusercontent.com/a-/AOh14GjhVumYNbkFNN5_FNhYU66e0ISQpLkFFjToc7wy0Q=s64",
      "userId": "13404731561212022132"
     },
     "user_tz": 180
    },
    "id": "Ff-j_Bgc9i-U",
    "outputId": "5676040a-52e6-4db4-f798-5d06a98b2cea"
   },
   "outputs": [
    {
     "data": {
      "text/plain": [
       "array([[2, 4],\n",
       "       [6, 4]])"
      ]
     },
     "execution_count": 85,
     "metadata": {},
     "output_type": "execute_result"
    }
   ],
   "source": [
    "a = np.array( [[1,1],[2,1]] )\n",
    "b = np.array( [[2,4],[3,4]] )\n",
    "a * b"
   ]
  },
  {
   "cell_type": "markdown",
   "metadata": {
    "id": "McUdjGXP9i-W"
   },
   "source": [
    "Multiplicación de matrices: se puede realizar utilizando el operador @ (en python> = 3.5) o la función o método **dot**:"
   ]
  },
  {
   "cell_type": "code",
   "execution_count": 86,
   "metadata": {
    "colab": {
     "base_uri": "https://localhost:8080/",
     "height": 51
    },
    "executionInfo": {
     "elapsed": 1040,
     "status": "ok",
     "timestamp": 1602700162176,
     "user": {
      "displayName": "Jose Garcia",
      "photoUrl": "https://lh3.googleusercontent.com/a-/AOh14GjhVumYNbkFNN5_FNhYU66e0ISQpLkFFjToc7wy0Q=s64",
      "userId": "13404731561212022132"
     },
     "user_tz": 180
    },
    "id": "i7A1kmMK9i-X",
    "outputId": "c4b86421-3a31-434b-8cf1-c46978201325"
   },
   "outputs": [
    {
     "data": {
      "text/plain": [
       "array([[ 5,  8],\n",
       "       [ 7, 12]])"
      ]
     },
     "execution_count": 86,
     "metadata": {},
     "output_type": "execute_result"
    }
   ],
   "source": [
    "a @ b"
   ]
  },
  {
   "cell_type": "code",
   "execution_count": 87,
   "metadata": {
    "colab": {
     "base_uri": "https://localhost:8080/",
     "height": 51
    },
    "executionInfo": {
     "elapsed": 1178,
     "status": "ok",
     "timestamp": 1602700167751,
     "user": {
      "displayName": "Jose Garcia",
      "photoUrl": "https://lh3.googleusercontent.com/a-/AOh14GjhVumYNbkFNN5_FNhYU66e0ISQpLkFFjToc7wy0Q=s64",
      "userId": "13404731561212022132"
     },
     "user_tz": 180
    },
    "id": "yPSMwB6K9i-Z",
    "outputId": "853ec6ee-bb9d-4ba3-8501-62fb2bf50c90"
   },
   "outputs": [
    {
     "data": {
      "text/plain": [
       "array([[ 5,  8],\n",
       "       [ 7, 12]])"
      ]
     },
     "execution_count": 87,
     "metadata": {},
     "output_type": "execute_result"
    }
   ],
   "source": [
    "a.dot(b)"
   ]
  },
  {
   "cell_type": "markdown",
   "metadata": {
    "id": "8G_rNcbh9i-b"
   },
   "source": [
    "División:"
   ]
  },
  {
   "cell_type": "code",
   "execution_count": 25,
   "metadata": {
    "colab": {
     "base_uri": "https://localhost:8080/",
     "height": 51
    },
    "executionInfo": {
     "elapsed": 1426,
     "status": "ok",
     "timestamp": 1602700171846,
     "user": {
      "displayName": "Jose Garcia",
      "photoUrl": "https://lh3.googleusercontent.com/a-/AOh14GjhVumYNbkFNN5_FNhYU66e0ISQpLkFFjToc7wy0Q=s64",
      "userId": "13404731561212022132"
     },
     "user_tz": 180
    },
    "id": "9d3qqvfr9i-b",
    "outputId": "6a2ed2c1-a94a-4a3f-8187-2657d42963b3"
   },
   "outputs": [
    {
     "data": {
      "text/plain": [
       "array([[0.5       , 0.25      ],\n",
       "       [0.66666667, 0.25      ]])"
      ]
     },
     "execution_count": 25,
     "metadata": {
      "tags": []
     },
     "output_type": "execute_result"
    }
   ],
   "source": [
    "a / b"
   ]
  },
  {
   "cell_type": "markdown",
   "metadata": {
    "id": "gwP_iXaS9i-f"
   },
   "source": [
    "Otras operaciones:"
   ]
  },
  {
   "cell_type": "code",
   "execution_count": 88,
   "metadata": {
    "colab": {
     "base_uri": "https://localhost:8080/",
     "height": 102
    },
    "executionInfo": {
     "elapsed": 1154,
     "status": "ok",
     "timestamp": 1602700404020,
     "user": {
      "displayName": "Jose Garcia",
      "photoUrl": "https://lh3.googleusercontent.com/a-/AOh14GjhVumYNbkFNN5_FNhYU66e0ISQpLkFFjToc7wy0Q=s64",
      "userId": "13404731561212022132"
     },
     "user_tz": 180
    },
    "id": "21fm6z5T9i-g",
    "outputId": "1fa40594-248d-4a23-8843-51e3dae14e5b"
   },
   "outputs": [
    {
     "name": "stdout",
     "output_type": "stream",
     "text": [
      "[0 1 4 9]\n",
      "\n",
      "[ 9.12945251 -9.88031624  7.4511316  -2.62374854]\n",
      "\n",
      "[ True  True False False]\n"
     ]
    }
   ],
   "source": [
    "a = np.array([20,30,40,50])\n",
    "b = np.arange(4)\n",
    "#Elevar a una potencia\n",
    "c = b**2\n",
    "print(c)\n",
    "print()\n",
    "#Función seno\n",
    "c = 10*np.sin(a)\n",
    "print(c)\n",
    "print()\n",
    "#Funciones lógicas\n",
    "c = a < 35\n",
    "print(c)"
   ]
  },
  {
   "cell_type": "code",
   "execution_count": 89,
   "metadata": {
    "colab": {
     "base_uri": "https://localhost:8080/",
     "height": 187
    },
    "executionInfo": {
     "elapsed": 1082,
     "status": "ok",
     "timestamp": 1602700410120,
     "user": {
      "displayName": "Jose Garcia",
      "photoUrl": "https://lh3.googleusercontent.com/a-/AOh14GjhVumYNbkFNN5_FNhYU66e0ISQpLkFFjToc7wy0Q=s64",
      "userId": "13404731561212022132"
     },
     "user_tz": 180
    },
    "id": "g9NUMzUu9i-i",
    "outputId": "c1ec283c-d1f4-4b15-d36c-4f85790a06d1"
   },
   "outputs": [
    {
     "name": "stdout",
     "output_type": "stream",
     "text": [
      "0.05093587\n",
      "\n",
      "0.82485143\n",
      "\n",
      "[0.5510652  0.55645993 0.82485143]\n",
      "\n",
      "0.4049648666666667\n",
      "\n",
      "0.21392120766089617\n",
      "\n"
     ]
    }
   ],
   "source": [
    "a = np.array([[0.45053314, 0.17296777, 0.34376245, 0.5510652],\n",
    "...              [0.54627315, 0.05093587, 0.40067661, 0.55645993],\n",
    "...              [0.12697628, 0.82485143, 0.26590556, 0.56917101]])\n",
    "#Mínimo\n",
    "b = a.min()\n",
    "print(b)\n",
    "print()\n",
    "#Máximo\n",
    "b = a.max()\n",
    "print(b)\n",
    "print()\n",
    "#Máximo por columna\n",
    "b = a.max(axis=1)\n",
    "print(b)\n",
    "print()\n",
    "#Media\n",
    "b = a.mean()\n",
    "print(b)\n",
    "print()\n",
    "#Desviación estándar\n",
    "b = a.std()\n",
    "print(b)\n",
    "print()"
   ]
  },
  {
   "cell_type": "markdown",
   "metadata": {
    "id": "Mdq6eKDV9i-k"
   },
   "source": [
    "NumPy contiene una batería de operaciones sobre matrices: aritméticas, operaciones binarias, estadísticas, funciones, entre otras. Para más información, pinche <a href=”https://numpy.org/devdocs/user/quickstart.html#the-basics”>aquí</a>."
   ]
  },
  {
   "cell_type": "markdown",
   "metadata": {
    "id": "XH4yPaVs9i-l"
   },
   "source": [
    "La generación de números aleatorios es una parte importante en la configuración y evaluación de muchos algoritmos de aprendizaje automático. Ya sea que necesite inicializar pesos aleatoriamente en una red neuronal artificial, dividir datos en conjuntos aleatorios o mezclar aleatoriamente su conjunto de datos, es esencial poder generar números aleatorios (en realidad, números pseudoaleatorios repetibles).\n",
    "\n",
    "Con **Generator.integers**, puede generar números enteros aleatorios. Puede generar una matriz de 2 x 4 de números enteros aleatorios entre 0 y 4 con:"
   ]
  },
  {
   "cell_type": "code",
   "execution_count": 28,
   "metadata": {
    "colab": {
     "base_uri": "https://localhost:8080/",
     "height": 51
    },
    "executionInfo": {
     "elapsed": 1500,
     "status": "ok",
     "timestamp": 1602700418555,
     "user": {
      "displayName": "Jose Garcia",
      "photoUrl": "https://lh3.googleusercontent.com/a-/AOh14GjhVumYNbkFNN5_FNhYU66e0ISQpLkFFjToc7wy0Q=s64",
      "userId": "13404731561212022132"
     },
     "user_tz": 180
    },
    "id": "hUjpDnCX9i-l",
    "outputId": "29e3db91-9ee4-462f-f7ad-35213923dd6f"
   },
   "outputs": [
    {
     "data": {
      "text/plain": [
       "array([[1, 4, 4, 0],\n",
       "       [0, 1, 3, 3]])"
      ]
     },
     "execution_count": 28,
     "metadata": {
      "tags": []
     },
     "output_type": "execute_result"
    }
   ],
   "source": [
    "rng = np.random.default_rng()\n",
    "rng.integers(5, size=(2, 4))"
   ]
  },
  {
   "cell_type": "markdown",
   "metadata": {
    "id": "nkd6vN-D9i-n"
   },
   "source": [
    "Con la clase **random.Generator** puede generar números aleatorios:"
   ]
  },
  {
   "cell_type": "code",
   "execution_count": 29,
   "metadata": {
    "colab": {
     "base_uri": "https://localhost:8080/",
     "height": 34
    },
    "executionInfo": {
     "elapsed": 1120,
     "status": "ok",
     "timestamp": 1602700421569,
     "user": {
      "displayName": "Jose Garcia",
      "photoUrl": "https://lh3.googleusercontent.com/a-/AOh14GjhVumYNbkFNN5_FNhYU66e0ISQpLkFFjToc7wy0Q=s64",
      "userId": "13404731561212022132"
     },
     "user_tz": 180
    },
    "id": "K2MbMEIP9i-o",
    "outputId": "627589c2-b106-4c18-fdf4-fae8654ca1a5"
   },
   "outputs": [
    {
     "data": {
      "text/plain": [
       "array([0.63696169, 0.26978671, 0.04097352])"
      ]
     },
     "execution_count": 29,
     "metadata": {
      "tags": []
     },
     "output_type": "execute_result"
    }
   ],
   "source": [
    "rng = np.random.default_rng(0)\n",
    "rng.random(3)"
   ]
  },
  {
   "cell_type": "markdown",
   "metadata": {
    "id": "GBjkeafT9i-q"
   },
   "source": [
    "Algunas operaciones, como += y *=, actúan para modificar una matriz existente en lugar de crear una nueva."
   ]
  },
  {
   "cell_type": "code",
   "execution_count": 30,
   "metadata": {
    "colab": {
     "base_uri": "https://localhost:8080/",
     "height": 102
    },
    "executionInfo": {
     "elapsed": 1201,
     "status": "ok",
     "timestamp": 1602700425149,
     "user": {
      "displayName": "Jose Garcia",
      "photoUrl": "https://lh3.googleusercontent.com/a-/AOh14GjhVumYNbkFNN5_FNhYU66e0ISQpLkFFjToc7wy0Q=s64",
      "userId": "13404731561212022132"
     },
     "user_tz": 180
    },
    "id": "CNoOGEI49i-r",
    "outputId": "09a43797-1906-4bcd-df40-388b4dbc3c03"
   },
   "outputs": [
    {
     "name": "stdout",
     "output_type": "stream",
     "text": [
      "[[3 3 3]\n",
      " [3 3 3]]\n",
      "\n",
      "[[3.51182162 3.9504637  3.14415961]\n",
      " [3.94864945 3.31183145 3.42332645]]\n"
     ]
    }
   ],
   "source": [
    "rg = np.random.default_rng(1)\n",
    "a = np.ones((2,3), dtype=int)\n",
    "b = rg.random((2,3))\n",
    "a *= 3\n",
    "print(a)\n",
    "print()\n",
    "b += a\n",
    "print(b)"
   ]
  },
  {
   "cell_type": "markdown",
   "metadata": {
    "id": "ZReAA7mO9i-v"
   },
   "source": [
    "Es posible realizar una operación entre una matriz y un solo número (operación entre un vector y un escalar) o entre matrices de dos tamaños diferentes. Por ejemplo:"
   ]
  },
  {
   "cell_type": "code",
   "execution_count": 31,
   "metadata": {
    "colab": {
     "base_uri": "https://localhost:8080/",
     "height": 34
    },
    "executionInfo": {
     "elapsed": 1153,
     "status": "ok",
     "timestamp": 1602700430014,
     "user": {
      "displayName": "Jose Garcia",
      "photoUrl": "https://lh3.googleusercontent.com/a-/AOh14GjhVumYNbkFNN5_FNhYU66e0ISQpLkFFjToc7wy0Q=s64",
      "userId": "13404731561212022132"
     },
     "user_tz": 180
    },
    "id": "ppjf7CNG9i-v",
    "outputId": "1f9fe23e-6150-45c5-8429-2ab7c41cefcc"
   },
   "outputs": [
    {
     "name": "stdout",
     "output_type": "stream",
     "text": [
      "[1.6 3.2]\n"
     ]
    }
   ],
   "source": [
    "distancia_millas = np.array([1.0, 2.0])\n",
    "distancia_km = distancia_millas * 1.6\n",
    "print(distancia_km)"
   ]
  },
  {
   "cell_type": "markdown",
   "metadata": {
    "id": "130dOJNT9i-z"
   },
   "source": [
    "## <font color='green'>**Ejercicio 2**</font>"
   ]
  },
  {
   "cell_type": "markdown",
   "metadata": {
    "id": "uPq-IqNu9i-0"
   },
   "source": [
    "1. Crear una matriz de 4x9 que esté inicializa con el valor 3.5.\n",
    "1. Crear un vector de longitud 4.\n",
    "1. Crear una matriz de rango 4.\n",
    "1. Crear una matriz de dos dimensiones en que una dimensión represente el sexo y la otra la edad de los integrantes del grupo. Luego, convertir la dimensión edad en años a la edad en meses.\n",
    "1. Generar una matriz de 7 por 9. Las primeras 3 columnas de la matriz tienen que tener el valor 0. La cuarta columna debe tener el valor 0.5, excepto por el último valor de esa columna, que tiene que ser 0.7.Las otras tres columnas deben tener el valor 1."
   ]
  },
  {
   "cell_type": "code",
   "execution_count": 120,
   "metadata": {
    "id": "FC6uMh9G9i-1"
   },
   "outputs": [
    {
     "name": "stdout",
     "output_type": "stream",
     "text": [
      "[[3.5 3.5 3.5 3.5 3.5 3.5 3.5 3.5 3.5]\n",
      " [3.5 3.5 3.5 3.5 3.5 3.5 3.5 3.5 3.5]\n",
      " [3.5 3.5 3.5 3.5 3.5 3.5 3.5 3.5 3.5]\n",
      " [3.5 3.5 3.5 3.5 3.5 3.5 3.5 3.5 3.5]]\n",
      "[0 1 2 3]\n",
      "[[[[0. 0.]\n",
      "   [0. 0.]]\n",
      "\n",
      "  [[0. 0.]\n",
      "   [0. 0.]]]\n",
      "\n",
      "\n",
      " [[[0. 0.]\n",
      "   [0. 0.]]\n",
      "\n",
      "  [[0. 0.]\n",
      "   [0. 0.]]]]\n",
      "[[ 0 29]\n",
      " [ 0 38]\n",
      " [ 0 30]\n",
      " [ 1 27]\n",
      " [ 0 40]]\n",
      "[[  0 348]\n",
      " [  0 456]\n",
      " [  0 360]\n",
      " [  1 324]\n",
      " [  0 480]]\n",
      "[[0.  0.  0.  0.5 1.  1.  1.  1.  1. ]\n",
      " [0.  0.  0.  0.5 1.  1.  1.  1.  1. ]\n",
      " [0.  0.  0.  0.5 1.  1.  1.  1.  1. ]\n",
      " [0.  0.  0.  0.5 1.  1.  1.  1.  1. ]\n",
      " [0.  0.  0.  0.5 1.  1.  1.  1.  1. ]\n",
      " [0.  0.  0.  0.5 1.  1.  1.  1.  1. ]\n",
      " [0.  0.  0.  0.7 1.  1.  1.  1.  1. ]]\n"
     ]
    }
   ],
   "source": [
    "#Solución\n",
    "# Parte 1:\n",
    "a = np.ones([4,9]) * 3.5\n",
    "print(a)\n",
    "\n",
    "# Parte 2:\n",
    "vector = np.zeros(4)\n",
    "vector = np.ones(4)\n",
    "vector = np.arange(4)\n",
    "print(vector)\n",
    "\n",
    "# Parte 3:\n",
    "matriz_4 = np.zeros([2,2,2,2])\n",
    "print(matriz_4)\n",
    "\n",
    "# Parte 4. \n",
    "# Sexo: Femenino 1 Masculino 0\n",
    "# Edad \n",
    "mat = np.array([[0,29],[0,38],[0,30],[1,27],[0,40]])\n",
    "print(mat)\n",
    "mat = mat * [1,12] # Transformar a meses\n",
    "print(mat)\n",
    "\n",
    "\n",
    "# Parte 5\n",
    "mat2 = np.ones([7,9]) * [0,0,0,0.5,1,1,1,1,1]\n",
    "mat2[-1,3] = 0.7\n",
    "print(mat2)"
   ]
  },
  {
   "cell_type": "markdown",
   "metadata": {
    "id": "s2SBgyDBkVbb"
   },
   "source": [
    "## <font color='green'>**Fin ejercicio 2**</font>"
   ]
  },
  {
   "cell_type": "markdown",
   "metadata": {
    "id": "jf4brU719i-4"
   },
   "source": [
    "## <font color='blue'>**Ordenar y agregar elementos a una matriz**</font>"
   ]
  },
  {
   "cell_type": "markdown",
   "metadata": {
    "id": "Quy7OtbJ9i-5"
   },
   "source": [
    "Ordenar un elemento es simple con **np.sort()**. Puede especificar el eje, el tipo y el orden cuando llama a la función."
   ]
  },
  {
   "cell_type": "code",
   "execution_count": null,
   "metadata": {
    "id": "qtNqi_-59i-5"
   },
   "outputs": [],
   "source": [
    "arr = np.array([2, 1, 5, 10, 3, 7, 4, 9, 6, 8])\n",
    "np.sort(arr)"
   ]
  },
  {
   "cell_type": "code",
   "execution_count": null,
   "metadata": {
    "id": "PwDn9BPJ9i-7"
   },
   "outputs": [],
   "source": [
    "a = np.array([1, 2, 3, 4])\n",
    "b = np.array([5, 6, 7, 8])"
   ]
  },
  {
   "cell_type": "markdown",
   "metadata": {
    "id": "p878Vbef9i-9"
   },
   "source": [
    "Para agregar elementos, se utiliza la función **np.concatenate()**:"
   ]
  },
  {
   "cell_type": "code",
   "execution_count": null,
   "metadata": {
    "id": "iW5VWwJ19i-9"
   },
   "outputs": [],
   "source": [
    "np.concatenate((a, b))"
   ]
  },
  {
   "cell_type": "code",
   "execution_count": null,
   "metadata": {
    "id": "TlE78unA9i-_"
   },
   "outputs": [],
   "source": [
    "x = np.array([[1, 2], [3, 4]])\n",
    "y = np.array([[5, 6]])"
   ]
  },
  {
   "cell_type": "code",
   "execution_count": null,
   "metadata": {
    "id": "N9h2zs7B9i_B"
   },
   "outputs": [],
   "source": [
    "np.concatenate((x, y), axis=0)"
   ]
  },
  {
   "cell_type": "markdown",
   "metadata": {
    "id": "BQEeQ4PZ9i_F"
   },
   "source": [
    "## <font color='blue'>**Forma y Tamaño de una matriz**</font>"
   ]
  },
  {
   "cell_type": "markdown",
   "metadata": {
    "id": "N9cFOb179i_F"
   },
   "source": [
    "**ndarray.ndim** entrega el número de ejes, o dimensiones, de la matriz.\n",
    "\n",
    "**ndarray.size** entrega el número total de elementos de la matriz.\n",
    "\n",
    "**ndarray.shape** entrega una tupla de números enteros que indican el número de elementos almacenados a lo largo de cada dimensión de la matriz. Si, por ejemplo, tiene una matriz 2D con 2 filas y 3 columnas, la forma de su matriz es (2, 3).\n",
    "\n",
    "Por ejemplo:"
   ]
  },
  {
   "cell_type": "code",
   "execution_count": null,
   "metadata": {
    "id": "V4yq-UqC9i_G"
   },
   "outputs": [],
   "source": [
    "arr_ejemplo = np.array([[[0, 1, 2, 3],[4, 5, 6, 7]],[[0, 1, 2, 3],[4, 5, 6, 7]],[[0 ,1 ,2, 3],[4, 5, 6, 7]]])"
   ]
  },
  {
   "cell_type": "code",
   "execution_count": null,
   "metadata": {
    "id": "GGva_cNq9i_I"
   },
   "outputs": [],
   "source": [
    "arr_ejemplo.ndim  # n dimension"
   ]
  },
  {
   "cell_type": "code",
   "execution_count": null,
   "metadata": {
    "id": "Bqxh400H9i_L"
   },
   "outputs": [],
   "source": [
    "arr_ejemplo.size  # n total de elementos"
   ]
  },
  {
   "cell_type": "code",
   "execution_count": null,
   "metadata": {
    "id": "ySotF0Ok9i_P"
   },
   "outputs": [],
   "source": [
    "arr_ejemplo.shape  # numero de columnas y  numero de filas"
   ]
  },
  {
   "cell_type": "markdown",
   "metadata": {
    "id": "T7r1a_cF9i_V"
   },
   "source": [
    "## <font color='blue'>**Redimensionamiento de matrices**</font>"
   ]
  },
  {
   "cell_type": "markdown",
   "metadata": {
    "id": "IFn5Mpyf9i_V"
   },
   "source": [
    "El uso de **arr.reshape()** le dará una nueva forma a una matriz sin cambiar los datos. Recuerde que cuando usa el método de redimensionamiento, la matriz que desea generar debe tener la misma cantidad de elementos que la matriz original. Si comienza con una matriz con 12 elementos, deberá asegurarse de que su nueva matriz también tenga un total de 12 elementos."
   ]
  },
  {
   "cell_type": "code",
   "execution_count": 50,
   "metadata": {
    "id": "LIpNN-Md9i_W"
   },
   "outputs": [
    {
     "name": "stdout",
     "output_type": "stream",
     "text": [
      "[0 1 2 3 4 5]\n"
     ]
    }
   ],
   "source": [
    "a = np.arange(6)\n",
    "print(a)"
   ]
  },
  {
   "cell_type": "code",
   "execution_count": 51,
   "metadata": {
    "id": "kSCqLbgj9i_Y"
   },
   "outputs": [
    {
     "name": "stdout",
     "output_type": "stream",
     "text": [
      "[[0 1]\n",
      " [2 3]\n",
      " [4 5]]\n"
     ]
    }
   ],
   "source": [
    "b = a.reshape(3, 2)\n",
    "print(b)"
   ]
  },
  {
   "cell_type": "markdown",
   "metadata": {
    "id": "oqqmNBdB9i_c"
   },
   "source": [
    "## <font color='blue'>**Transponer una matriz**</font>"
   ]
  },
  {
   "cell_type": "code",
   "execution_count": 53,
   "metadata": {
    "id": "fBwj39dT9i_d"
   },
   "outputs": [
    {
     "data": {
      "text/plain": [
       "array([[0, 1, 2],\n",
       "       [3, 4, 5]])"
      ]
     },
     "execution_count": 53,
     "metadata": {},
     "output_type": "execute_result"
    }
   ],
   "source": [
    "arr = np.arange(6).reshape((2, 3))\n",
    "arr"
   ]
  },
  {
   "cell_type": "code",
   "execution_count": 54,
   "metadata": {
    "id": "OSgt5cEf9i_g"
   },
   "outputs": [
    {
     "data": {
      "text/plain": [
       "array([[0, 3],\n",
       "       [1, 4],\n",
       "       [2, 5]])"
      ]
     },
     "execution_count": 54,
     "metadata": {},
     "output_type": "execute_result"
    }
   ],
   "source": [
    "arr.transpose()"
   ]
  },
  {
   "cell_type": "markdown",
   "metadata": {
    "id": "4iCDRwg_9i_j"
   },
   "source": [
    "## <font color='blue'>**¿Cómo agregar nuevos ejes (dimensiones) a una matriz?**</font>\n",
    "\n",
    "Con las funcionaes **np.newaxis** y **np.expand_dims** se puede aumentar las dimensiones de su matriz existente.\n",
    "\n",
    "El uso de **np.newaxis** aumentará las dimensiones de su matriz en una dimensión cuando se use una vez. Esto significa que una matriz 1D se convertirá en una matriz 2D, una matriz 2D se convertirá en una matriz 3D, y así sucesivamente. Por ejemplo:"
   ]
  },
  {
   "cell_type": "code",
   "execution_count": 55,
   "metadata": {
    "id": "UPW2-hlN9i_j"
   },
   "outputs": [
    {
     "data": {
      "text/plain": [
       "(7,)"
      ]
     },
     "execution_count": 55,
     "metadata": {},
     "output_type": "execute_result"
    }
   ],
   "source": [
    "a = np.array([1, 2, 3, 4, 5, 6, 7])\n",
    "a.shape"
   ]
  },
  {
   "cell_type": "code",
   "execution_count": 58,
   "metadata": {
    "id": "WugE0vgM9i_l"
   },
   "outputs": [
    {
     "data": {
      "text/plain": [
       "(1, 7)"
      ]
     },
     "execution_count": 58,
     "metadata": {},
     "output_type": "execute_result"
    }
   ],
   "source": [
    "a2 = a[np.newaxis, :]\n",
    "a2.shape\n",
    "\n",
    "a3 = a.reshape(1,-1)\n",
    "a3.shape"
   ]
  },
  {
   "cell_type": "markdown",
   "metadata": {
    "id": "zoq8FHQU9i_m"
   },
   "source": [
    "Es posible convertir explícitamente una matriz 1D a un vector de fila o a un vector de columna usando **np.newaxis**. Por ejemplo, puede convertir una matriz 1D en un vector de fila insertando un eje a lo largo de la primera dimensión:"
   ]
  },
  {
   "cell_type": "code",
   "execution_count": null,
   "metadata": {
    "id": "4Nt1J8JM9i_n"
   },
   "outputs": [],
   "source": [
    "row_vector = a[np.newaxis, :]\n",
    "row_vector.shape"
   ]
  },
  {
   "cell_type": "markdown",
   "metadata": {
    "id": "CQVjfd659i_p"
   },
   "source": [
    "o convertirlo en un vector columna, insertando un ejer en la segundo dimensión:"
   ]
  },
  {
   "cell_type": "code",
   "execution_count": null,
   "metadata": {
    "id": "kn_qV_BK9i_q"
   },
   "outputs": [],
   "source": [
    "col_vector = a[:, np.newaxis]\n",
    "col_vector.shape"
   ]
  },
  {
   "cell_type": "markdown",
   "metadata": {
    "id": "TxN1GYoG9i_v"
   },
   "source": [
    "También es posible expandir una matriz insertando un nuevo eje en una posición específica con la función **np.expand_dims()**:"
   ]
  },
  {
   "cell_type": "code",
   "execution_count": 59,
   "metadata": {
    "id": "0NIxWD4e9i_v"
   },
   "outputs": [
    {
     "data": {
      "text/plain": [
       "(6,)"
      ]
     },
     "execution_count": 59,
     "metadata": {},
     "output_type": "execute_result"
    }
   ],
   "source": [
    "a = np.array([1, 2, 3, 4, 5, 6])\n",
    "a.shape"
   ]
  },
  {
   "cell_type": "code",
   "execution_count": 60,
   "metadata": {
    "id": "-sZmcKZ69i_x"
   },
   "outputs": [
    {
     "data": {
      "text/plain": [
       "(6, 1)"
      ]
     },
     "execution_count": 60,
     "metadata": {},
     "output_type": "execute_result"
    }
   ],
   "source": [
    "b = np.expand_dims(a, axis=1)\n",
    "b.shape"
   ]
  },
  {
   "cell_type": "code",
   "execution_count": 61,
   "metadata": {
    "id": "VUL1Mhf_9i_z"
   },
   "outputs": [
    {
     "data": {
      "text/plain": [
       "(1, 6)"
      ]
     },
     "execution_count": 61,
     "metadata": {},
     "output_type": "execute_result"
    }
   ],
   "source": [
    "c = np.expand_dims(a, axis=0)\n",
    "c.shape"
   ]
  },
  {
   "cell_type": "markdown",
   "metadata": {
    "id": "_e8g5UfV9i_0"
   },
   "source": [
    "## <font color='blue'>**Elementos únicos y conteo**</font>"
   ]
  },
  {
   "cell_type": "code",
   "execution_count": 62,
   "metadata": {
    "id": "RTHmOAUF9i_1"
   },
   "outputs": [
    {
     "name": "stdout",
     "output_type": "stream",
     "text": [
      "[11 12 13 14 15 16 17 18 19 20]\n"
     ]
    }
   ],
   "source": [
    "a = np.array([11, 11, 12, 13, 14, 15, 16, 17, 12, 13, 11, 14, 18, 19, 20])\n",
    "valores_unicos = np.unique(a)\n",
    "print(valores_unicos)"
   ]
  },
  {
   "cell_type": "markdown",
   "metadata": {
    "id": "vZvwSZ909i_2"
   },
   "source": [
    "Para obtener los índices de los valores únicos en una matriz NumPy se debe usar el argumento **return_index** en la función **np.unique()**:"
   ]
  },
  {
   "cell_type": "code",
   "execution_count": 63,
   "metadata": {
    "id": "obLjqFcT9i_2"
   },
   "outputs": [
    {
     "name": "stdout",
     "output_type": "stream",
     "text": [
      "[ 0  2  3  4  5  6  7 12 13 14]\n"
     ]
    }
   ],
   "source": [
    "valores_unicos, indices_list = np.unique(a, return_index=True)\n",
    "print(indices_list)"
   ]
  },
  {
   "cell_type": "markdown",
   "metadata": {
    "id": "5bFvnWl19i_4"
   },
   "source": [
    "Puede pasar el argumento **return_counts** en **np.unique()** junto con su matriz para obtener el recuento de frecuencia de valores únicos en una matriz de NumPy:"
   ]
  },
  {
   "cell_type": "code",
   "execution_count": 64,
   "metadata": {
    "id": "uUFTEObX9i_4"
   },
   "outputs": [
    {
     "name": "stdout",
     "output_type": "stream",
     "text": [
      "[3 2 2 2 1 1 1 1 1 1]\n"
     ]
    }
   ],
   "source": [
    "valores_unicos, contar_ocurrencia = np.unique(a, return_counts=True)\n",
    "print(contar_ocurrencia)"
   ]
  },
  {
   "cell_type": "markdown",
   "metadata": {
    "id": "4Ty1Um1A9i_5"
   },
   "source": [
    "## <font color='blue'>**Aplicar una función sobre una fila o columna de una matriz**</font>"
   ]
  },
  {
   "cell_type": "markdown",
   "metadata": {
    "id": "IHfReGgY9i_6"
   },
   "source": [
    "La función **np.apply_along_axis()** permite aplicar una función sobre una de las dimisiones de un matriz. Por lo que es una herramienta con muchas posibilidades. La función tiene tres parámetros, en el primero se indica la función que se desea aplicar, en la segunda el eje sobre el que se desea aplicar la función y finalmente la matriz. Obteniéndose como salida de la función una matriz con un eje menos que el original.\n",
    "\n",
    "Por ejemplo:"
   ]
  },
  {
   "cell_type": "code",
   "execution_count": null,
   "metadata": {
    "id": "YTWxxC5G9i_6"
   },
   "outputs": [],
   "source": [
    "arr = np.arange(1, 10).reshape(3,3)\n",
    "np.apply_along_axis(sum, 0, arr)"
   ]
  },
  {
   "cell_type": "code",
   "execution_count": null,
   "metadata": {
    "id": "8Fm_rbdN9i_7"
   },
   "outputs": [],
   "source": [
    "#Función que calcula el promedio entre el primero y el último elemento de un vector\n",
    "def my_func(a):\n",
    "    return (a[0] + a[-1]) * 0.5\n",
    "\n",
    "b = np.array([[1,2,3], [4,5,6], [7,8,9]])\n",
    "np.apply_along_axis(my_func, 0, b)"
   ]
  },
  {
   "cell_type": "code",
   "execution_count": null,
   "metadata": {
    "id": "iL-0nQTB9i_-"
   },
   "outputs": [],
   "source": [
    "np.apply_along_axis(my_func, 1, b)"
   ]
  },
  {
   "cell_type": "markdown",
   "metadata": {
    "id": "r6VHpJTJ9i__"
   },
   "source": [
    "## <font color='green'>**Ejercicio 3**</font>"
   ]
  },
  {
   "cell_type": "markdown",
   "metadata": {
    "id": "G-Q9SVlemfnj"
   },
   "source": [
    "Crear un matriz bidimensional 5x5 con todos los valores cero. Usando el indexado de matrices, asignar 1 a todos los elementos de la última fila y 5 a todos los elementos de la primera columna. Finalmente, asignar el valor 100 a todos los elementos de la subamatriz central de 3x3 de la matriz de 5x5."
   ]
  },
  {
   "cell_type": "code",
   "execution_count": 70,
   "metadata": {
    "id": "p4kwdZ3e9jAA"
   },
   "outputs": [
    {
     "name": "stdout",
     "output_type": "stream",
     "text": [
      "[[  5.   0.   0.   0.   0.]\n",
      " [  5. 100. 100. 100.   0.]\n",
      " [  5. 100. 100. 100.   0.]\n",
      " [  5. 100. 100. 100.   0.]\n",
      " [  5.   1.   1.   1.   1.]]\n"
     ]
    }
   ],
   "source": [
    "#Solución\n",
    "\n",
    "matriz = np.zeros((5, 5))\n",
    "\n",
    "matriz[-1] = 1\n",
    "matriz[:, 0] = 5\n",
    "matriz[1: 4, 1: 4] = 100\n",
    "\n",
    "print(matriz)"
   ]
  },
  {
   "cell_type": "markdown",
   "metadata": {
    "id": "6H_2sJOAlIxb"
   },
   "source": [
    "## <font color='green'>**Fin ejercicio 3**</font>"
   ]
  },
  {
   "cell_type": "markdown",
   "metadata": {
    "id": "x2JVn3iUmaMC"
   },
   "source": [
    "## <font color='green'>**Ejercicio 4**</font>"
   ]
  },
  {
   "cell_type": "markdown",
   "metadata": {
    "id": "Dl6EyB0Q9jAA"
   },
   "source": [
    "Los diámetros de las esporas del lycopodium pueden medirse por métodos interferométricos &#129299; &#129299; &#129299;. Los resultados de uno de estos experimentos son los siguientes:\n",
    "\n",
    "<img src='https://drive.google.com/uc?export=view&id=1te4LaaTF_WzyjPShqDOMnP9qDiswwZGG' width=\"500\" align=\"center\" style=\"margin-right: 20px\">\n",
    "\n",
    "donde $k$ = 5880.\n",
    "\n",
    "Calcular, usando funciones de NumPy, el diámetro medio de las esporas y la desviación estándar de la muestra. Separar, en matrices independientes, las medidas de los diámetros:\n",
    "\n",
    "* Que tengan valores inferiores a la media ($\\mu$) menos la desviación estándar ($\\sigma$), es decir $d < \\mu_{d} - \\sigma_{d}$\n",
    "* Que tengan valores superiores a la media más la desviación estándar, es decir $d > \\mu_{d} + \\sigma_{d}$\n",
    "* Que tengan valores entre $\\mu_{d} - \\sigma_{d} < d < \\mu_{d} + \\sigma_{d}$\n",
    "\n",
    "**Adaptado de Curso de Computación Científica, J. Pérez, T. Roca y C. López**"
   ]
  },
  {
   "cell_type": "code",
   "execution_count": 169,
   "metadata": {
    "id": "3e-cfJ6zmjiH"
   },
   "outputs": [
    {
     "name": "stdout",
     "output_type": "stream",
     "text": [
      "El diametro medio es de 0.0032023809523809513 cm\n",
      "El diametro medio es de 18.829999999999995 * k cm\n",
      "La desviación estándar 1 es 0.0002517408958495976\n",
      "La desviación estándar 2 es 1.4802364675956339\n",
      "La desviación estándar 1 es 0.0002517408958495976\n",
      "La desviación estándar 2 es 1.4802364675956339\n",
      "Valores de diametros menores al promedio menos desviacion son [14. 15. 16. 17.] * k\n",
      "Valores de diametros mayores al promedio mas desviacion son [21. 22. 23.] * k\n",
      "Valores de diametros centrales son [18. 19. 20.] * k\n"
     ]
    }
   ],
   "source": [
    "#Solución\n",
    "import numpy as np\n",
    "\n",
    "# 1. Datos\n",
    "k = 5880\n",
    "diametro = np.arange(14,24)/ k \n",
    "n_esporas = np.array([1, 1 ,8 ,24 ,48 ,58, 35, 16, 8, 1])\n",
    "\n",
    "# 2. Promedio (2 formas)\n",
    "diametro_medio = np.average(diametro, weights = n_esporas)\n",
    "diametro_medio_2 = np.sum(diametro * n_esporas)/np.sum(n_esporas)\n",
    "\n",
    "print(f'El diametro medio es de {diametro_medio} cm')\n",
    "print(f'El diametro medio es de {diametro_medio * k} * k cm')\n",
    "\n",
    "# 3. Desviación estandar (2 formas)\n",
    "desviacion = np.sqrt(np.sum((diametro - diametro_medio)**2 * n_esporas) / np.sum(n_esporas))\n",
    "desviacion_2 = np.sqrt(np.average((diametro - diametro_medio)**2, weights=n_esporas))\n",
    "\n",
    "print(f'La desviación estándar 1 es {desviacion}')\n",
    "print(f'La desviación estándar 2 es {desviacion * k}')\n",
    "print(f'La desviación estándar 1 es {desviacion_2}')\n",
    "print(f'La desviación estándar 2 es {desviacion_2 * k}')\n",
    "\n",
    "# 4. Medias inferiores\n",
    "medias_inferiores = diametro[diametro < (diametro_medio - desviacion)] * k\n",
    "print(f'Valores de diametros menores al promedio menos desviacion son {medias_inferiores} * k')\n",
    "\n",
    "# 5. Medias mayores\n",
    "medias_mayores = diametro[diametro > (diametro_medio + desviacion)] * k\n",
    "print(f'Valores de diametros mayores al promedio mas desviacion son {medias_mayores} * k')\n",
    "\n",
    "# 6. Medias mayores\n",
    "medias_centrales = diametro[(diametro > (diametro_medio - desviacion)) & (diametro < (diametro_medio + desviacion)) ] * k\n",
    "print(f'Valores de diametros centrales son {medias_centrales} * k')\n",
    "\n"
   ]
  },
  {
   "cell_type": "code",
   "execution_count": 145,
   "metadata": {},
   "outputs": [
    {
     "data": {
      "text/plain": [
       "18.829999999999995"
      ]
     },
     "execution_count": 145,
     "metadata": {},
     "output_type": "execute_result"
    }
   ],
   "source": [
    "diametro_medio * k"
   ]
  },
  {
   "cell_type": "markdown",
   "metadata": {
    "id": "B6jnUlWvmmjJ"
   },
   "source": [
    "## <font color='green'>**Fin ejercicio 4**</font>"
   ]
  }
 ],
 "metadata": {
  "colab": {
   "name": "1-Librería NumPy.ipynb",
   "provenance": []
  },
  "kernelspec": {
   "display_name": "Python 3",
   "language": "python",
   "name": "python3"
  },
  "language_info": {
   "codemirror_mode": {
    "name": "ipython",
    "version": 3
   },
   "file_extension": ".py",
   "mimetype": "text/x-python",
   "name": "python",
   "nbconvert_exporter": "python",
   "pygments_lexer": "ipython3",
   "version": "3.7.5"
  }
 },
 "nbformat": 4,
 "nbformat_minor": 1
}
