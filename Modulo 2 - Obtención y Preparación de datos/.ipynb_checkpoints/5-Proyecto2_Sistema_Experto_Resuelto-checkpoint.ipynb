{
 "cells": [
  {
   "cell_type": "code",
   "execution_count": null,
   "metadata": {
    "colab": {},
    "colab_type": "code",
    "id": "GLxRJ8_9RuBc"
   },
   "outputs": [],
   "source": [
    "class DecisionSystem:\n",
    "    def __init__(self, rules):\n",
    "        self.rules = rules\n",
    "        self.current_data = {}\n",
    "\n",
    "    def evaluate_rules(self):\n",
    "        consecuents = []\n",
    "        for rule in self.rules:\n",
    "            ev_values = []\n",
    "            for ev_set in rule.sets:\n",
    "                if ev_set in self.current_data:\n",
    "                    _, ev_value = self.current_data[ev_set]\n",
    "                \n",
    "                else:\n",
    "                    real, ev_value = ev_set.ask()\n",
    "                    self.current_data[ev_set] = (real, ev_value)\n",
    "\n",
    "                ev_values.append(ev_value)\n",
    "\n",
    "            evaluation = rule.evaluate(ev_values)\n",
    "            consecuents.append(evaluation * rule.certainty)\n",
    "        \n",
    "        return max(consecuents)\n",
    "\n",
    "    def reset(self):\n",
    "        self.current_data = {}\n",
    "\n",
    "    def start(self):\n",
    "        print(\"Comenzando sistema de apoyo a la toma de decisiones...\")\n",
    "        print(\"Y: si\")\n",
    "        print(\"n: no\\n\")\n",
    "        while input(\"Evaluar? (Y/n)\") in [\"Y\", \"y\", \"\"]:\n",
    "            result = self.evaluate_rules()\n",
    "            print(\"\\nResultados:\")\n",
    "            print(f\"El candidato es adecuado para el equipo con certeza {result:.4f}\")\n",
    "            for key, val in self.current_data.items():\n",
    "                print(f\"Porque se evaluó como \\\"{key.name}\\\" con certeza {val[1]:.4f} ({key.interpretation(val[0])})\")\n",
    "            print()\n",
    "            print(\"Volver a \", end='')\n",
    "            self.reset()"
   ]
  },
  {
   "cell_type": "code",
   "execution_count": null,
   "metadata": {
    "colab": {},
    "colab_type": "code",
    "id": "RqcwHhJJQemx"
   },
   "outputs": [],
   "source": [
    "class Trapezoid:\n",
    "\n",
    "    def __init__(self, trapezoid_points, name, interpretation, question, rescaling=1):\n",
    "        # Check that there is no trapezoid point less than a previous one\n",
    "        if any(\n",
    "            trapezoid_points[i + 1] < trapezoid_points[i]\n",
    "            for i in range(len(trapezoid_points) - 1)\n",
    "        ):\n",
    "            raise ValueError(\n",
    "                \"Trapezoid points have to be increasing with index.\"\n",
    "            )\n",
    "\n",
    "        self.trapezoid_points = trapezoid_points\n",
    "        self.question = question\n",
    "        self.name = name\n",
    "        self.interpretation = interpretation\n",
    "        self.rescaling = rescaling\n",
    "\n",
    "    def ask(self):\n",
    "        while True:\n",
    "            try:\n",
    "                val = float(input(self.question + \": \"))\n",
    "                break\n",
    "\n",
    "            except ValueError:\n",
    "                print(\"Ingresar valores válidos\")\n",
    "                continue\n",
    "\n",
    "        return self.evaluate(val)\n",
    "\n",
    "    def evaluate(self, val):\n",
    "        resc_val = val * self.rescaling\n",
    "\n",
    "        a, b, c, d = self.trapezoid_points\n",
    "\n",
    "        if resc_val < a or resc_val > d:\n",
    "            certainty = 0\n",
    "\n",
    "        elif a <= resc_val < b:\n",
    "            certainty = (resc_val - a) / (b - a)\n",
    "\n",
    "        elif b <= resc_val < c:\n",
    "            certainty = 1\n",
    "\n",
    "        elif c <= resc_val <= d:\n",
    "            if c == d:\n",
    "                certainty = 1\n",
    "\n",
    "            else:\n",
    "                certainty = (d - resc_val) / (d - c)\n",
    "\n",
    "        return val, certainty"
   ]
  },
  {
   "cell_type": "code",
   "execution_count": null,
   "metadata": {
    "colab": {},
    "colab_type": "code",
    "id": "h7zUuc9DQuBh"
   },
   "outputs": [],
   "source": [
    "class Rule:\n",
    "    def __init__(self, sets, certainty):\n",
    "        self.sets = sets\n",
    "        self.certainty = certainty\n",
    "    \n",
    "    def evaluate(self, vals):\n",
    "        return min(vals)"
   ]
  },
  {
   "cell_type": "markdown",
   "metadata": {
    "colab_type": "text",
    "id": "IR1YfUHJQun4"
   },
   "source": [
    "# Sistema"
   ]
  },
  {
   "cell_type": "code",
   "execution_count": null,
   "metadata": {
    "colab": {},
    "colab_type": "code",
    "id": "Y-PeGixoQvlQ"
   },
   "outputs": [],
   "source": [
    "buen_encestador = Trapezoid(\n",
    "    [12 / 25, 17 / 25, 25 / 25, 25 / 25],\n",
    "    \"Buen Encestador\",\n",
    "    lambda x: f\"Encestó {int(x)} tiros libres en 25 intentos\",\n",
    "    \"¿Cuántas veces encestó al lanzar 25 tiros libres?\",\n",
    "    rescaling=1/25\n",
    ")\n",
    "alto = Trapezoid(\n",
    "    [170, 190, 230, 230],\n",
    "    \"Alto\",\n",
    "    lambda x: f\"Mide {x:.4f} cm\",\n",
    "    \"Ingrese estatura en cm\"\n",
    ")\n",
    "buen_sprint = Trapezoid(\n",
    "    [0, 0, 11, 15],\n",
    "    \"Buen Sprint\",\n",
    "    lambda x: f\"Corrió 100 m planos en {x:.4f} segundos\",\n",
    "    \"¿Cuál es su marca en segundos en la prueba de 100 m planos?\"\n",
    ")\n",
    "\n",
    "rule_1 = Rule([buen_encestador, alto], 0.75)\n",
    "rule_2 = Rule([buen_encestador, buen_sprint], 0.9)\n",
    "rule_3 = Rule([alto, buen_sprint], 0.7)\n",
    "\n",
    "decision_system = DecisionSystem([rule_1, rule_2, rule_3])"
   ]
  },
  {
   "cell_type": "code",
   "execution_count": null,
   "metadata": {
    "colab": {
     "base_uri": "https://localhost:8080/",
     "height": 1000
    },
    "colab_type": "code",
    "id": "2HsVclq9Q5wU",
    "outputId": "a63cf27e-5713-49fb-84cd-bd8e808c2be2"
   },
   "outputs": [],
   "source": [
    "decision_system.start()"
   ]
  },
  {
   "cell_type": "code",
   "execution_count": null,
   "metadata": {
    "colab": {},
    "colab_type": "code",
    "id": "CRLbJ8GVXXpw"
   },
   "outputs": [],
   "source": []
  }
 ],
 "metadata": {
  "colab": {
   "collapsed_sections": [],
   "name": "tarea_avance_3_difusos.ipynb",
   "provenance": []
  },
  "kernelspec": {
   "display_name": "Python 3",
   "language": "python",
   "name": "python3"
  },
  "language_info": {
   "codemirror_mode": {
    "name": "ipython",
    "version": 3
   },
   "file_extension": ".py",
   "mimetype": "text/x-python",
   "name": "python",
   "nbconvert_exporter": "python",
   "pygments_lexer": "ipython3",
   "version": "3.7.5"
  }
 },
 "nbformat": 4,
 "nbformat_minor": 4
}
