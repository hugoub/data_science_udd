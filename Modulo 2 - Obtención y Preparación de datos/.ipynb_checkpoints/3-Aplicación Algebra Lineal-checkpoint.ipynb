{
 "cells": [
  {
   "cell_type": "markdown",
   "metadata": {
    "id": "kQtn8mDtbqNm"
   },
   "source": [
    "# <font color='blue'>**Proyecto 1: Modelo Epidemiológico Básico**</font>\n",
    "\n",
    "**Adaptado de Contagio Lineal, Leonardo Martinez Sandoval, 2019.**\n"
   ]
  },
  {
   "cell_type": "markdown",
   "metadata": {
    "id": "ae6YPiVUbqNn"
   },
   "source": [
    "El objetivo de esta actividad es construir un modelo epidemiológico básico usando álgebra lineal. Para ello, se modelará la epidemia como un **modelo de Markov**.\n",
    "\n",
    "*Nota 1: En primer luga rdebe quedar claro que ningún modelo es una representación perfecta de la realidad. Su validez depende de lo razonables que sean las estimaciones o suposiciones tomadas y de su grado de aproximación a la realidad*\n",
    "\n",
    "Con este modelo básico, se podrán verificar varias de las acciones que hemos estado aprendiendo durante la crisis de la pandemia del coronavirus. \n",
    "\n",
    "Se estudiarán dos escenarios posibles:\n",
    "\n",
    "1. La gente sale de sus casas.\n",
    "2. La gente se queda en sus casas.\n",
    "\n",
    "Para modelar se usarán las librerías **NumPy** y **Matplotlib**.\n",
    "\n",
    "*Nota 2: La librería Matplotlib se revisará en detalle en el módulo 3 del diplomado. En esta actividad la utilizaremos para graficar los resultados de nuestro modelo.*\n",
    "\n",
    "El objetivo es construir un modelo que nos permita visualizar la evolución de la enfermedad en el tiempo (ver figura).\n",
    "\n",
    "<img src='https://drive.google.com/uc?export=view&id=1JEQuOy062yyASrdO3xmNtCO25nITmvWW' width=\"500\" align=\"center\" style=\"margin-right: 20px\">"
   ]
  },
  {
   "cell_type": "markdown",
   "metadata": {
    "id": "dHhsdlAxwDXk"
   },
   "source": [
    "# <font color='blue'>**Introducción**</font>\n",
    "\n",
    "## <font color='blue'>**¿Qué es un modelo de Markov?**</font>\n",
    "\n",
    "Un modelo de Markov aplicado al campo sanitario puede definirse como **un modelo estocástico de una enfermedad en el que se asume que el paciente se encuentra siempre en uno de un número finito de estados de salud**, denominados estados de Markov, los cuales deben ser **exhaustivos**, es decir, todos los posibles; y **mutuamente excluyentes**, un individuo no puede estar en dos estados al mismo tiempo.\n",
    "\n",
    "Los estados pueden ser de dos tipos: \n",
    "\n",
    "1. **Absorbentes**: aquellos que no pueden abandonarse, siendo el más habitual y obvio el estado de *muerte*.\n",
    "\n",
    "2. **No absorbentes**: cualquier estado desde el que se puede pasar a otro distinto.\n",
    "\n",
    "Los acontecimientos se modelizan como pasos o transiciones de unos estados a otros que se producen en períodos uniformes de tiempo, que se denominan ciclos de Markov, y con una probabilidad de transición que depende del estado en el que se encuentre el individuo en cada momento.\n",
    "\n",
    "Los modelos de Markov pueden representarse gráficamente como una variante de los árboles de decisión empleados en los modelos determinísticos, como diagramas en cascada, o bien como un diagrama de influencias."
   ]
  },
  {
   "cell_type": "markdown",
   "metadata": {
    "id": "oM7LlA06yRVf"
   },
   "source": [
    "Posibles representaciones gráficas de los modelos de Markov. A: como árboles de decisión. B: como diagramas en cascada. C: como diagramas de influencia.\n",
    "\n",
    "<img src='https://drive.google.com/uc?export=view&id=1vRLKkWgZkLskeYVtm5zuVEbeDPmXQh44' width=\"400\" align=\"center\" style=\"margin-right: 20px\">\n",
    "\n",
    "*Referencia: C. Rubio Terrés, \"Introduction to the use of Markov models in pharmacoeconomic analysis,\" Farmacia Hospitalaria, vol. 24, n°4, 241-247, 2000.*"
   ]
  },
  {
   "cell_type": "markdown",
   "metadata": {
    "id": "cggCXcdAzZxn"
   },
   "source": [
    "### <font color='blue'>**¿Cuándo debe utilizarse un modelo de Markov y con qué condiciones?**</font>\n",
    "\n",
    "Puede estar justificado utilizar un modelo de Markov cuando se trata de eventos repetitivos, irreversibles y de larga duración. En caso de realizarse, las condiciones generales de los modelos de Markov son las siguientes:\n",
    "\n",
    "* Sólo se permiten unas determinadas transiciones entre estados previamente establecidas.\n",
    "\n",
    "* La duración de los ciclos de Markov, que es arbitraria, debe ser constante a lo largo de la simulación.\n",
    "\n",
    "* Cada paciente sólo puede hacer una transición en cada ciclo.\n",
    "\n",
    "* Todos los pacientes están sometidos a las mismas probabilidades de transición.\n",
    "\n",
    "### <font color='blue'>**Ventajas e inconvenientes de los modelos de Markov**</font>\n",
    "\n",
    "Los modelos de Markov ayudan a modelizar eventos sanitarios complejos que pueden simplificarse en exceso con los modelos determinísticos. \n",
    "\n",
    "Son especialmente útiles para modelizar enfermedades crónicas. La modelización de Markov intenta simular de una manera más *«realista»* lo que ocurre en el proceso de la enfermedad. Sin embargo, en algunas ocasiones este tipo de modelo puede ser inviable debido a la insuficiencia de los datos disponibles. Por ejemplo, en modelos muy complejos puede ser difícil establecer la totalidad de las probabilidades de transición entre los estados de salud.\n",
    "\n",
    "Por otra parte, en los modelos se hace una suposición bastante fuerte, la denominada suposición markoviana. De acuerdo con ésta **el modelo carece de «memoria»** y se asume que conociendo únicamente el estado de salud presente de un paciente es posible simular la evolución futura del mismo; es decir, se asume que todos los pacientes que se encuentran en un estado de salud, en un momento concreto, tienen el mismo pronóstico, independientemente de su estado previo. Por tanto, un paciente que pasa del estado *«sano»* al de *«enfermo»* tendría el mismo pronóstico que otro paciente *«enfermo»* que transcurrido el ciclo siguiese en el mismo estado de *«enfermo»*. Esta suposición del modelo no se ajusta estrictamente a la realidad de numerosas enfermedades, por lo que supone un inconveniente de los modelos de Markov."
   ]
  },
  {
   "cell_type": "markdown",
   "metadata": {
    "id": "h8TKZn2kbqNo"
   },
   "source": [
    "# <font color='blue'>**Modelo epidemiológico básico para Covid19**</font>"
   ]
  },
  {
   "cell_type": "markdown",
   "metadata": {
    "id": "s0d49E--bqNo"
   },
   "source": [
    "## <font color='blue'>**Suposiciones y modelo de Markov**</font>\n",
    "\n",
    "1. La población inicial es de 100.000 habitantes sanos, en el día 0.\n",
    "\n",
    "2. Una persona puede estar en alguno de los siguientes cinco estados:\n",
    "    * Sano\n",
    "    * Síntomas leves\n",
    "    * Síntomas graves\n",
    "    * Recuperado\n",
    "    * Fallecido\n",
    "\n",
    "3. Asociado a los estados anteriores podemos obtener las siguientes probabilidades de transición:\n",
    "    * $s_l$, la probabilidad de pasar de estar sano a tener síntomas leves,\n",
    "    * $l_g$, la probabilidad de pasar de tener síntomas leves a graves,\n",
    "    * $l_r$, la probabilidad de pasar de tener síntomas leves a recuperarse,\n",
    "    * $g_r$, la probabilidad de pasar de tener síntomas graves a recuperarse y\n",
    "    * $g_f$, la probabilidad de pasar de tener síntomas graves, a fallecer.\n",
    "\n",
    "Para cada día $n$, consideremos el vector:\n",
    "\n",
    "$$\\mathbf{X}(n) = \\begin{pmatrix}s(n), l(n), g(n), r(n), f(n)\\end{pmatrix}$$\n",
    "\n",
    "que corresponde a los individuos sanos, los de síntomas leves, de síntomas graves, recuperados y fallecidos al día $n$.\n",
    "\n",
    "Por ejemplo al día $0$ todos los individuos están sanos, así que $X(0)=(100000,0,0,0,0)$.\n",
    "\n",
    "Para la evolución entre los distintos estados de Markov, se realizan las siguientes suposiciones:\n",
    "\n",
    "1. Paso de un estado a otro:\n",
    "    * Los únicos fallecidos del periodo de tiempo que tendremos son por Covid19. Sólo se puede fallecer de ello tras tener síntomas graves. Si alguien tiene síntomas graves, entonces tiene cierta probabilidad $g_f$ de fallecer al día siguiente, $g_r$ de recuperarse y por lo tanto $(1-g_r-g_f)$ de quedarse como enfermo grave.\n",
    "        \n",
    "    * Covid19 se contagia de persona a persona, y de un día a otro una persona tiene probabilidad $s_l$ de pasar de estar sana a tener síntomas leves. No se puede pasar directamente a tener síntomas graves, recuperarse o morir. De modo que se queda sana de un día a otro con probabilidad $(1-s_l)$.\n",
    "        \n",
    "    * Si una persona tiene síntomas leves, tiene probabilidad $l_g$ de pasar a tener síntomas graves y $l_r$ de pasar a recuperarse. Por lo tanto, tiene probabilidad $(1-l_g-l_r)$ de quedarse con síntomas leves.\n",
    "        \n",
    "    * Una persona que se recupera desarrolla inmunidad a Covid19, así que se queda en ese estado.\n",
    "        \n",
    "    * Una persona que fallece, se queda en ese estado.\n",
    "    \n",
    "En otras palabras, tenemos el siguiente diagrama de infleuncia para las transicioens de un estado a otro, en donde los números en las flechas muestran la probabilidad de pasar de un estado a otro:\n",
    "\n",
    "<img src='https://drive.google.com/uc?export=view&id=14xNoCzg-RxK7-34axR-MIkhaJ9c86BkU' width=\"700\" align=\"center\" style=\"margin-right: 20px\">\n",
    "\n",
    "Con estos números y suposiciones, podemos entender, en valor esperado, cómo será el vector de población\n",
    "\n",
    "$$\\mathbf{X}(n+1) = \\begin{pmatrix}s(n+1), l(n+1), g(n+1), r(n+1), f(n+1)\\end{pmatrix}$$\n",
    "\n",
    "si sabemos cómo es el vector\n",
    "\n",
    "$$\\mathbf{X}(n) = \\begin{pmatrix}s(n), l(n), g(n), r(n), f(n)\\end{pmatrix}$$\n",
    "\n",
    "Por ejemplo, podemos esperar que la cantidad de recuperados al día $n+1$ sea:\n",
    "\n",
    "$$r(n+1) = l_r·l(n) + g_r·g(n) + 1·r(n)$$\n",
    "\n",
    "pues de los de síntomas leves del día $n$ habrá una proporción $l_r$ de ellos que se recuperen, de los graves del día $n$ habrá una proporción $g_r$ de ellos que se recuperen, y todos los recuperados del día $n$ se quedan recuperados. De esta forma, obtenemos el siguiente sistema de ecuaciones de lo que podemos esperar:\n",
    "\n",
    "$s(n+1) = (1 - s_l)·s(n)$\n",
    "\n",
    "$l(n+1) = s_l·s(n)+(1-l_r-l_g)·l(n)$\n",
    "\n",
    "$g(n+1) = l_g·l(n)+(1-g_r-g_f)·g(n)$\n",
    "\n",
    "$r(n+1) = l_r·l(n)+g_r·g(n)+1·r(n)$\n",
    "\n",
    "$f(n+1) = g_f·g(n)+1·f(n)$\n",
    "\n",
    "Este sistema de ecuaciones se puede escribir de una forma mucho más compacta. Si definimos la matriz:\n",
    "\n",
    "$$\\mathbf{A}=\\begin{pmatrix} 1-s_l & 0 & 0 & 0 & 0 \\\\s_l & 1-l_r-l_g & 0 & 0 & 0 \\\\0 & l_g & 1-g_r-g_f & 0 & 0 \\\\ 0 & l_r & g_r & 1 & 0\\\\ 0 & 0 & g_f & 0 & 1 \\end{pmatrix}$$\n",
    "\n",
    "las ecuaciones anteriores se pueden abreviar simplemente a:\n",
    "\n",
    "$$X(n+1)=AX(n)$$\n",
    "\n",
    "De esta forma, si queremos entender qué esperar del día $n$, basta hacer la multiplicación matricial:\n",
    "\n",
    "$$X(n)=A^n X(0)$$."
   ]
  },
  {
   "cell_type": "markdown",
   "metadata": {
    "id": "8sOzyYa8bqNp"
   },
   "source": [
    "## <font color='green'>**Escenario 1: Tasa de contagio alta**</font>\n",
    "\n",
    "Se tienen los siguientes valores para los parámetros del modelo: $s_l=0.30$, $l_g=0.10$, $l_r=0.20$, $g_r=0.10$ y $g_f=0.10$.\n",
    "\n",
    "1. Implmente el modelo epidemiológico básico mediante una función en Python.\n",
    "\n",
    "2. Grafique los resultados de su modelo para mostrar como evoluciona la epidemia de Covid19 para un periodo de 60 días.\n",
    "\n",
    "3. Entregue los resultados para la evolución de la enfermedad en la primera semana de análisis.\n",
    "\n",
    "4. Para el último día de la ventana de estudio, calcule la cantidad de individuos recuperados y fallecidos."
   ]
  },
  {
   "cell_type": "code",
   "execution_count": 28,
   "metadata": {
    "id": "kGPe0dlybqNq"
   },
   "outputs": [],
   "source": [
    "# Parte 1\n",
    "\n",
    "import numpy as np\n",
    "import matplotlib.pyplot as plt\n",
    "\n",
    "# Población inicial (supuesto 1)\n",
    "x_0 = np.array([100000, 0, 0, 0, 0])\n",
    "x_0 = x_0.reshape((-1,1))\n",
    "\n",
    "# Definimos las probabilidades de transición (supuesto 3 y datos del enunciado)\n",
    "S_L = 0.3\n",
    "L_G = 0.1\n",
    "L_R = 0.2\n",
    "G_R = 0.1\n",
    "G_F = 0.1\n",
    "\n",
    "# Definimos la matriz A\n",
    "A = np.array([[1 - S_L, 0, 0, 0, 0],\n",
    "              [S_L, 1 - L_R - L_G, 0, 0, 0],\n",
    "              [0, L_G, 1 - G_R - G_F, 0, 0],\n",
    "              [0, L_R, G_R, 1, 0],\n",
    "              [0, 0, G_F, 0, 1]\n",
    "             ])\n",
    "\n",
    "# Encontramos la evolución de la epidemia los primeros 60 días\n",
    "dias = 60\n",
    "evolucion = np.empty((61, 5))\n",
    "evolucion[0] = x_0.transpose()\n",
    "\n",
    "for j in range(dias):\n",
    "    matriz_A = np.linalg.matrix_power(A, j+1)\n",
    "    x_n = np.matmul(matriz_A, x_0)\n",
    "    evolucion[j+1] = x_n.transpose()\n"
   ]
  },
  {
   "cell_type": "markdown",
   "metadata": {
    "id": "KIbMxCqOnnnW"
   },
   "source": [
    "En Numpy se pueden multiplicar matrices con la función:\n",
    "\n",
    "```\n",
    "np.matmul(A,X)\n",
    "```"
   ]
  },
  {
   "cell_type": "code",
   "execution_count": 29,
   "metadata": {
    "id": "0wIELeyXbqNt"
   },
   "outputs": [
    {
     "data": {
      "image/png": "[encoded data removed]",
      "text/plain": [
       "<Figure size 432x288 with 1 Axes>"
      ]
     },
     "metadata": {
      "needs_background": "light"
     },
     "output_type": "display_data"
    }
   ],
   "source": [
    "#Parte 2\n",
    "\n",
    "#Gráfica para mostrar la evolución de la pandemia en el periodo de tiempo analizado\n",
    "plt.plot([j[0] for j in evolucion], label=\"Sanos\")\n",
    "plt.plot([j[1] for j in evolucion], label=\"Síntomas leves\")\n",
    "plt.plot([j[2] for j in evolucion], label=\"Síntomas graves\")\n",
    "plt.plot([j[3] for j in evolucion], label=\"Recuperados\")\n",
    "plt.plot([j[4] for j in evolucion], label=\"Fallecidos\")\n",
    "plt.title(\"Evolución de la enfermedad para probabilidad de contagio=0.30\")\n",
    "plt.legend()\n",
    "plt.show()"
   ]
  },
  {
   "cell_type": "code",
   "execution_count": 117,
   "metadata": {
    "id": "cInhi-6kANZm"
   },
   "outputs": [
    {
     "name": "stdout",
     "output_type": "stream",
     "text": [
      "Dia      Sanos        Leves       Graves  Recuperados   Fallecidos\n",
      "0       100000            0            0            0            0\n",
      "1        70000        30000            0            0            0\n",
      "2        49000        42000         3000         6000            0\n",
      "3        34300        44100         6600        14700          300\n",
      "4        24010        41160         9690        24180          960\n",
      "5        16807        36015        11868        33381         1929\n",
      "6        11765        30253        13096        41771         3116\n",
      "7         8235        24706        13502        49131         4425\n"
     ]
    }
   ],
   "source": [
    "#Parte 3\n",
    "\n",
    "# Mostramos la primera semana de análisis\n",
    "print(f'{\"Dia\"} {\"Sanos\":>10} {\"Leves\":>12} {\"Graves\":>12s} {\"Recuperados\":>12s} {\"Fallecidos\":>12s}')\n",
    "\n",
    "for j in range(8):\n",
    "    print(f'{j} {evolucion[j][0]:12.0f} {evolucion[j][1]:12.0f} {evolucion[j][2]:12.0f} {evolucion[j][3]:12.0f} {evolucion[j][4]:12.0f}')"
   ]
  },
  {
   "cell_type": "code",
   "execution_count": 116,
   "metadata": {
    "id": "UVj_KRaqbqNw"
   },
   "outputs": [
    {
     "name": "stdout",
     "output_type": "stream",
     "text": [
      "Los recuperados al último día (día 60) son: 83333\n",
      "Los fallecidos al último día (día 60) son: 16666\n"
     ]
    }
   ],
   "source": [
    "#Parte 4\n",
    "\n",
    "#Mostramos recuperados y fallecidos al último día\n",
    "print(f'Los recuperados al último día (día 60) son: {evolucion[-1][3]:0.0f}')\n",
    "print(f'Los fallecidos al último día (día 60) son: {evolucion[-1][4]:0.0f}')"
   ]
  },
  {
   "cell_type": "markdown",
   "metadata": {
    "id": "KIiPeuPjBMK4"
   },
   "source": [
    "## <font color='green'>**Fin Escenario 1**</font>"
   ]
  },
  {
   "cell_type": "markdown",
   "metadata": {
    "id": "HPUzXFJ5AiRX"
   },
   "source": [
    "## <font color='green'>**Escenario 2: Menor tasa de contagio**</font>\n",
    "\n",
    "Considere que la tasa de contagio $s_l$ disminuye y tiene un valor de 0.05. Todas las otras probabilidades de transición se mantienen inalteradas con respecto al escenario 1. Considere una ventana de análisis de 60 días.\n",
    "\n",
    "1. Ejecute el modelo epidemiológico con las nuevas condiciones iniciales.\n",
    "\n",
    "2. Grafique la evolución del modelo para el escenario 2.\n",
    "\n",
    "3. Compare los escenarios 1 y 2 en términos de la cantidad de personas fallecidas a los 30 y 60 días.\n",
    "\n",
    "4. Considere que la capacidad total del sistema de salud es de 6.000 camas. Grafique los enfermos leves y graves para ambos escenarios en conjunto con la capacidad del sistema de salud. Comente los resultados.\n",
    "\n",
    "5. Considerando que sólo los enfermos graves utilizan camas del sistema de salud, indique, para ambos escenarios, en qué día el sistema colapsa (existen más casos graves que camas disponibles).\n",
    "\n",
    "6. Grafique la curva de fallecidos para ambos escenarios para todo el periodo de tiempo analizado."
   ]
  },
  {
   "cell_type": "code",
   "execution_count": null,
   "metadata": {
    "id": "QHIJH-wlBaBT"
   },
   "outputs": [],
   "source": [
    "# Parte 1\n",
    "\n",
    "import numpy as np\n",
    "import matplotlib.pyplot as plt\n",
    "\n",
    "# Población inicial (supuesto 1)\n",
    "x_0 = np.array([100000, 0, 0, 0, 0])\n",
    "x_0 = x_0.reshape((-1,1))\n",
    "\n",
    "# Definimos las probabilidades de transición (supuesto 3 y datos del enunciado)\n",
    "S_L = \n",
    "L_G = \n",
    "L_R = \n",
    "G_R = \n",
    "G_F = \n",
    "\n",
    "# Definimos la matriz A\n",
    "A =\n",
    "\n",
    "# Encontramos la evolución de la epidemia los primeros 60 días\n",
    "dias = \n",
    "evolucion2 = \n",
    "for j in range():\n",
    "  "
   ]
  },
  {
   "cell_type": "code",
   "execution_count": null,
   "metadata": {
    "id": "Va7HJG0sBlsM"
   },
   "outputs": [],
   "source": [
    "#Parte 2\n",
    "\n",
    "#Gráfica para mostrar la evolución de la pandemia en el periodo de tiempo analizado\n"
   ]
  },
  {
   "cell_type": "code",
   "execution_count": null,
   "metadata": {
    "id": "5LLgBtoPGgC7"
   },
   "outputs": [],
   "source": [
    "#Parte 3\n",
    "\n",
    "print(\"Al día 30, para contagio bajo el número de fallecidos es\", )\n",
    "print(' ')\n",
    "print(\"Al día 30, para contagio alto el número de fallecidos es\", )\n",
    "print(' ')\n",
    "print(\"Al día 60, para contagio bajo el número de fallecidos es\", )\n",
    "print(' ')\n",
    "print(\"Al día 60, para contagio alto el número de fallecidos es\", )"
   ]
  },
  {
   "cell_type": "code",
   "execution_count": null,
   "metadata": {
    "id": "Dh6aOHx6HYrZ"
   },
   "outputs": [],
   "source": [
    "#Parte 4\n",
    "\n",
    "camas = \n",
    "plt.plot(, color=\"red\", linestyle=\":\", label=\"Leves, Contagio=0.30\")\n",
    "plt.plot(, color=\"red\", label=\"Graves, Contagio=0.30\")\n",
    "plt.plot(, color=\"green\", linestyle=\":\", label=\"Leves, Contagio=0.05\")\n",
    "plt.plot(, color=\"green\", label=\"Graves, Contagio=0.05\")\n",
    "plt.hlines(camas,0,dias, color=\"black\", label=\"Capacidad del sistema salud\")\n",
    "plt.title(\"Enfermos a través del tiempo\")\n",
    "plt.legend()\n",
    "plt.plot()"
   ]
  },
  {
   "cell_type": "code",
   "execution_count": null,
   "metadata": {
    "id": "5Tp1zXKUshz_"
   },
   "outputs": [],
   "source": [
    "#Parte 5\n",
    "\n",
    "graves1 = \n",
    "graves2 = "
   ]
  },
  {
   "cell_type": "code",
   "execution_count": null,
   "metadata": {
    "id": "zfuUK9WPbg7z"
   },
   "outputs": [],
   "source": [
    "#Parte 6\n"
   ]
  },
  {
   "cell_type": "markdown",
   "metadata": {
    "id": "TfL-EouOxVNZ"
   },
   "source": [
    "## <font color='green'>**Fin Escenario 2**</font>"
   ]
  }
 ],
 "metadata": {
  "colab": {
   "name": "3-Aplicación Algebra Lineal.ipynb",
   "provenance": []
  },
  "kernelspec": {
   "display_name": "Python 3",
   "language": "python",
   "name": "python3"
  },
  "language_info": {
   "codemirror_mode": {
    "name": "ipython",
    "version": 3
   },
   "file_extension": ".py",
   "mimetype": "text/x-python",
   "name": "python",
   "nbconvert_exporter": "python",
   "pygments_lexer": "ipython3",
   "version": "3.7.5"
  }
 },
 "nbformat": 4,
 "nbformat_minor": 1
}
