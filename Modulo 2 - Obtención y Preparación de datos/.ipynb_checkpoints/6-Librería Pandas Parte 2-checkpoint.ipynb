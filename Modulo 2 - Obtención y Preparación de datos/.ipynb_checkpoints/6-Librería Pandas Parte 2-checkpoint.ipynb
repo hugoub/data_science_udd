{
 "cells": [
  {
   "cell_type": "markdown",
   "metadata": {
    "id": "cyOeXh_-dFSd"
   },
   "source": [
    "# <font color='blue'>**Librería Pandas - Parte 2**</font>"
   ]
  },
  {
   "cell_type": "code",
   "execution_count": null,
   "metadata": {
    "id": "xL8iBoNMxqJM"
   },
   "outputs": [],
   "source": [
    "import numpy as np\n",
    "import pandas as pd"
   ]
  },
  {
   "cell_type": "markdown",
   "metadata": {
    "id": "k34hGXssxYq0"
   },
   "source": [
    "# <font color='blue'>**Edición de Series**</font>\n",
    "\n",
    "Podemos modificar un valor de una serie usando la notación corchetes, y haciendo referencia a índices o a las etiquetas.\n",
    "\n"
   ]
  },
  {
   "cell_type": "code",
   "execution_count": null,
   "metadata": {
    "id": "V4Yrm_zNxoDH"
   },
   "outputs": [],
   "source": [
    "s = pd.Series([1, 2, 3, 4, 5], index = [\"a\", \"b\", \"c\", \"d\", \"e\"])\n",
    "s"
   ]
  },
  {
   "cell_type": "code",
   "execution_count": null,
   "metadata": {
    "id": "tOTareaHx8zX"
   },
   "outputs": [],
   "source": [
    "s[0] = -1\n",
    "s[\"b\"] = -2\n",
    "s"
   ]
  },
  {
   "cell_type": "markdown",
   "metadata": {
    "id": "IlrrjI0oyIMa"
   },
   "source": [
    "Podemos asignar un valor a un rango, definido por índices o por etiquetas, asignando el valor a cada uno de los elementos involucrados en el rango."
   ]
  },
  {
   "cell_type": "code",
   "execution_count": null,
   "metadata": {
    "id": "1H5pebRgySiY"
   },
   "outputs": [],
   "source": [
    "s[1:3] = 0\n",
    "s"
   ]
  },
  {
   "cell_type": "code",
   "execution_count": null,
   "metadata": {
    "id": "Cu3UZ_96yXcw"
   },
   "outputs": [],
   "source": [
    "s[\"b\":\"d\"]\n",
    "s"
   ]
  },
  {
   "cell_type": "markdown",
   "metadata": {
    "id": "E3-4QC5Iycn4"
   },
   "source": [
    "Si el rango está delimitado por números (haciendo referencia a la posición de los elementos), el último elemento del rango no se incluye. Por el contrario, si está delimitado por etiquetas, el último elemento sí se incluye.\n",
    "\n",
    "Al rango podemos asignar también una lista de valores, aunque en este caso la lista deberá tener el mismo número de elementos que el rango en cuestión."
   ]
  },
  {
   "cell_type": "code",
   "execution_count": null,
   "metadata": {
    "id": "FpdtyEqvyi0a"
   },
   "outputs": [],
   "source": [
    "s[1:3] = [0, 1]\n",
    "s"
   ]
  },
  {
   "cell_type": "code",
   "execution_count": null,
   "metadata": {
    "id": "U7YLufNOysNb"
   },
   "outputs": [],
   "source": [
    "s[\"b\":\"d\"] = [10, 11, 12]\n",
    "s"
   ]
  },
  {
   "cell_type": "markdown",
   "metadata": {
    "id": "ne071b33y0lk"
   },
   "source": [
    "Si asignamos un valor haciendo referencia a una etiqueta que no existe en el índice, se añade dicha etiqueta al índice y se le asigna el valor."
   ]
  },
  {
   "cell_type": "code",
   "execution_count": null,
   "metadata": {
    "id": "nsfUGiCPy28R"
   },
   "outputs": [],
   "source": [
    "s[\"f\"] = 0\n",
    "s"
   ]
  },
  {
   "cell_type": "markdown",
   "metadata": {
    "id": "in_MaF7ny9B5"
   },
   "source": [
    "Esto solo funciona con etiquetas. Si utilizamos un índice y éste no existe en la serie, se devolverá un error.\n",
    "\n",
    "Si usamos un rango con etiquetas y alguna de las etiquetas no existe, solo se asigna el valor a las existentes."
   ]
  },
  {
   "cell_type": "code",
   "execution_count": null,
   "metadata": {
    "id": "IXXIgx89y_vH"
   },
   "outputs": [],
   "source": [
    "s[\"f\":\"h\"] = 0\n",
    "s"
   ]
  },
  {
   "cell_type": "markdown",
   "metadata": {
    "id": "EDsJi7_QzH8M"
   },
   "source": [
    "Por último, también podemos usar en la selección una lista -tanto de índices como de etiquetas-, en cuyo caso se seleccionan los valores indicados en el orden indicado. Por ejemplo, podemos usar la lista [\"c\", \"a\"] para asignar a los elementos correspondientes los valores 1 y 2, respectivamente."
   ]
  },
  {
   "cell_type": "code",
   "execution_count": null,
   "metadata": {
    "id": "CNV-4FYAzPCz"
   },
   "outputs": [],
   "source": [
    "s[[\"c\", \"a\"]] = [1, 2]\n",
    "s"
   ]
  },
  {
   "cell_type": "code",
   "execution_count": null,
   "metadata": {
    "id": "PdsQmPKczYzB"
   },
   "outputs": [],
   "source": [
    "s[[1, 0]] = [20, 21]\n",
    "s"
   ]
  },
  {
   "cell_type": "markdown",
   "metadata": {
    "id": "z0D7Vil68MPV"
   },
   "source": [
    "## <font color='blue'>**Eliminación de elementos en una Serie**</font>\n",
    "\n",
    "El método **pandas.Series.drop** devuelve una copia de la serie tras eliminar el elemento cuya etiqueta se especifica como argumento."
   ]
  },
  {
   "cell_type": "code",
   "execution_count": null,
   "metadata": {
    "id": "UkDRC-PX8Yu3"
   },
   "outputs": [],
   "source": [
    "s = pd.Series([1, 2, 3, 4, 5], index = [\"a\", \"b\", \"c\", \"d\", \"e\"])\n",
    "s"
   ]
  },
  {
   "cell_type": "code",
   "execution_count": null,
   "metadata": {
    "id": "3xzh0Lhw8dgY"
   },
   "outputs": [],
   "source": [
    "r = s.drop(\"b\")\n",
    "r"
   ]
  },
  {
   "cell_type": "markdown",
   "metadata": {
    "id": "WWcegipa8kfv"
   },
   "source": [
    "En este ejemplo se ha pasado como único argumento la etiqueta del elemento a eliminar, y el método ha devuelto la serie sin dicho elemento. Si la etiqueta no se encontrase en la serie, se devolvería un error.\n",
    "\n",
    "También se puede pasar como argumento no una etiqueta, sino una lista de etiquetas. En este caso se eliminarán todos los elementos con dichas etiquetas."
   ]
  },
  {
   "cell_type": "code",
   "execution_count": null,
   "metadata": {
    "id": "2lobEjJM8rt4"
   },
   "outputs": [],
   "source": [
    "r = s.drop([\"d\", \"a\"])\n",
    "r"
   ]
  },
  {
   "cell_type": "markdown",
   "metadata": {
    "id": "kxxzillx9IF_"
   },
   "source": [
    "Las etiquetas no tienen que estar en orden.\n",
    "\n",
    "El argumento **inplace = True** realiza la eliminación inplace (modificando directamente la serie).\n",
    "\n",
    "Este método exige el uso de etiquetas para seleccionar los elementos a eliminar. Esto significa que si en un momento dado necesitamos eliminar uno o más elementos por su índice, deberemos convertirlos en sus correspondientes etiquetas, lo que resulta extremadamente sencillo seleccionando los elementos adecuados del index."
   ]
  },
  {
   "cell_type": "code",
   "execution_count": null,
   "metadata": {
    "id": "JxYoGNQJ9Tak"
   },
   "outputs": [],
   "source": [
    "s = pd.Series([1, 2, 3, 4, 5], index = [\"a\", \"b\", \"c\", \"d\", \"e\"])\n",
    "s"
   ]
  },
  {
   "cell_type": "markdown",
   "metadata": {
    "id": "MkJbhIwZ9X64"
   },
   "source": [
    "Si se desea eliminar los elementos cuyos índices son 1 y 3, basta utilizar el atributo *index* para que devuelve todas las etiquetas."
   ]
  },
  {
   "cell_type": "code",
   "execution_count": null,
   "metadata": {
    "id": "BzW27rwW9o1A"
   },
   "outputs": [],
   "source": [
    "s.index[[1, 3]]"
   ]
  },
  {
   "cell_type": "code",
   "execution_count": null,
   "metadata": {
    "id": "JZVKlV689x5X"
   },
   "outputs": [],
   "source": [
    "s.drop(s.index[[1, 3]])"
   ]
  },
  {
   "cell_type": "markdown",
   "metadata": {
    "id": "f_ib1Loc9815"
   },
   "source": [
    "Otra forma para eliminar un elemento de una serie es el método **pandas.Series.pop**. Al igual que con el método drop, éste solo acepta una etiqueta y devuelve el valor correspondiente a dicha etiqueta, eliminándolo de la serie in-place."
   ]
  },
  {
   "cell_type": "code",
   "execution_count": null,
   "metadata": {
    "id": "YV1Wvw4S-D4A"
   },
   "outputs": [],
   "source": [
    "s = pd.Series([1, 2, 3, 4, 5], index = [\"a\", \"b\", \"c\", \"d\", \"e\"])\n",
    "s.pop(\"b\")\n",
    "s"
   ]
  },
  {
   "cell_type": "markdown",
   "metadata": {
    "id": "MlWQqoUI-O8S"
   },
   "source": [
    "Si la etiqueta no se encuentra en el index, el método devolverá un error."
   ]
  },
  {
   "cell_type": "markdown",
   "metadata": {
    "id": "tYpCWcuW-iEe"
   },
   "source": [
    "## <font color='blue'>**Método where**</font>\n",
    "\n",
    "El método **pandas.Series.where** permite filtrar los valores de una serie de forma que solo los que cumplan cierta condición se mantengan. Los valores que no la cumplan son sustituidos por un valor (NaN por defecto)."
   ]
  },
  {
   "cell_type": "code",
   "execution_count": null,
   "metadata": {
    "id": "E80AVrSS-rD1"
   },
   "outputs": [],
   "source": [
    "s = pd.Series(np.arange(0,10))\n",
    "s"
   ]
  },
  {
   "cell_type": "markdown",
   "metadata": {
    "id": "6_NEaT_G-x-a"
   },
   "source": [
    "Por ejemplo, filtrar los elementos de $s$ que sean pares."
   ]
  },
  {
   "cell_type": "code",
   "execution_count": null,
   "metadata": {
    "id": "1WCzRGhY-3nC"
   },
   "outputs": [],
   "source": [
    "s.where(s % 2 == 0)"
   ]
  },
  {
   "cell_type": "markdown",
   "metadata": {
    "id": "k3pgTavM---V"
   },
   "source": [
    "Los valores que no cumplen la condición son sustituidos por NaN. Es posible modificar este valor de reemplazo pasando al método como segundo argumento el valor que se quiere fijar."
   ]
  },
  {
   "cell_type": "code",
   "execution_count": null,
   "metadata": {
    "id": "2mEqz1Ew_Jb3"
   },
   "outputs": [],
   "source": [
    "s.where(s % 2 == 0, -1)"
   ]
  },
  {
   "cell_type": "markdown",
   "metadata": {
    "id": "72-5OgIy_UQa"
   },
   "source": [
    "# <font color='blue'>**Edición de Dataframes**</font>\n",
    "\n",
    "Existe una gran variedad de formas para seleccionar elementos o bloques de elementos de un dataframe, y cada una de estas selecciones puede ser utilizada para modificar los valores contenidos en el dataframe.\n",
    "\n",
    "Podemos modificar un valor concreto usando los métodos **loc** o **iloc**, en función de que queramos usar sus etiquetas o índices.\n",
    "\n"
   ]
  },
  {
   "cell_type": "code",
   "execution_count": null,
   "metadata": {
    "id": "vOrY3UWh_o_W"
   },
   "outputs": [],
   "source": [
    "df = pd.DataFrame(np.arange(12).reshape([4, 3]),\n",
    "                  index = [\"a\", \"b\", \"c\", \"d\"],\n",
    "                  columns = [\"A\", \"B\", \"C\"])\n",
    "df"
   ]
  },
  {
   "cell_type": "code",
   "execution_count": null,
   "metadata": {
    "id": "VB2Z7oleAfjm"
   },
   "outputs": [],
   "source": [
    "df.iloc[1, 2] = -1\n",
    "df"
   ]
  },
  {
   "cell_type": "markdown",
   "metadata": {
    "id": "NSS7iNioAoGV"
   },
   "source": [
    "Es posible modificar una columna completa seleccionándola y asignándole, por ejemplo, una lista con los nuevos valores."
   ]
  },
  {
   "cell_type": "code",
   "execution_count": null,
   "metadata": {
    "id": "1zQCuQzAAsAu"
   },
   "outputs": [],
   "source": [
    "df = pd.DataFrame(np.arange(12).reshape([4, 3]),\n",
    "                  index = [\"a\", \"b\", \"c\", \"d\"],\n",
    "                  columns = [\"A\", \"B\", \"C\"])\n",
    "df[\"A\"] = [10, 20, 30, 40]\n",
    "df"
   ]
  },
  {
   "cell_type": "markdown",
   "metadata": {
    "id": "OVD0hbIzA1V-"
   },
   "source": [
    "En este caso, la longitud de la lista conteniendo los valores a insertar deberá coincidir con la longitud de la columna, salvo que en lugar de una lista se esté asignando un único valor, en cuyo caso se propagará a toda la columna.\n",
    "\n",
    "Si la selección es un bloque de datos de un tamaño arbitrario, nos encontramos en el mismo escenario: o bien insertamos datos con el mismo tamaño que la selección, o insertamos un único valor que se propagará a toda la selección."
   ]
  },
  {
   "cell_type": "code",
   "execution_count": null,
   "metadata": {
    "id": "zE88szIFA9e9"
   },
   "outputs": [],
   "source": [
    "df = pd.DataFrame(np.arange(12).reshape([4, 3]),\n",
    "                  index = [\"a\", \"b\", \"c\", \"d\"],\n",
    "                  columns = [\"A\", \"B\", \"C\"])\n",
    "df.loc[\"b\":\"c\", \"A\":\"B\"] = [[-1, -2], [-3, -4]]\n",
    "df"
   ]
  },
  {
   "cell_type": "code",
   "execution_count": null,
   "metadata": {
    "id": "uJJJvBLIBQnn"
   },
   "outputs": [],
   "source": [
    "df = pd.DataFrame(np.arange(12).reshape([4, 3]),\n",
    "                  index = [\"a\", \"b\", \"c\", \"d\"],\n",
    "                  columns = [\"A\", \"B\", \"C\"])\n",
    "df.loc[\"b\":\"c\", \"A\":\"B\"] = -1\n",
    "df"
   ]
  },
  {
   "cell_type": "markdown",
   "metadata": {
    "id": "nRNXR7Z4BWzE"
   },
   "source": [
    "También es posible insertar datos en una columna o fila inexistente, en cuyo caso se crea y se le asignan los valores en cuestión."
   ]
  },
  {
   "cell_type": "code",
   "execution_count": null,
   "metadata": {
    "id": "R8vtBxNABfX5"
   },
   "outputs": [],
   "source": [
    "df = pd.DataFrame(np.arange(12).reshape([4, 3]),\n",
    "                  index = [\"a\", \"b\", \"c\", \"d\"],\n",
    "                  columns = [\"A\", \"B\", \"C\"])\n",
    "df[\"D\"] = [10, 20, 30, 40]\n",
    "df"
   ]
  },
  {
   "cell_type": "code",
   "execution_count": null,
   "metadata": {
    "id": "iulLBqXgBr7U"
   },
   "outputs": [],
   "source": [
    "df = pd.DataFrame(np.arange(12).reshape([4, 3]),\n",
    "                  index = [\"a\", \"b\", \"c\", \"d\"],\n",
    "                  columns = [\"A\", \"B\", \"C\"])\n",
    "df.loc[\"e\"] = [10, 20, 30]\n",
    "df"
   ]
  },
  {
   "cell_type": "markdown",
   "metadata": {
    "id": "tQI7q_mKB3zz"
   },
   "source": [
    "## <font color='blue'>**Método where**</font>\n",
    "\n",
    "De forma semejante a las series, el método de los dataframes **where** filtra los valores contenidos en el dataframe de forma que solo los que cumplan cierta condición se mantengan. El resto de valores son sustituidos por un valor que, por defecto, es NaN."
   ]
  },
  {
   "cell_type": "code",
   "execution_count": null,
   "metadata": {
    "id": "b5GQUJczCYzK"
   },
   "outputs": [],
   "source": [
    "df = pd.DataFrame(np.arange(12).reshape(-1, 3), columns = [\"A\", \"B\", \"C\"])\n",
    "df"
   ]
  },
  {
   "cell_type": "markdown",
   "metadata": {
    "id": "eRqLuh3RDkyM"
   },
   "source": [
    "Filtrar los valores múltiplos de 2:"
   ]
  },
  {
   "cell_type": "code",
   "execution_count": null,
   "metadata": {
    "id": "vCtuGHWiDpAM"
   },
   "outputs": [],
   "source": [
    "df.where(df % 2 == 0)"
   ]
  },
  {
   "cell_type": "markdown",
   "metadata": {
    "id": "3iBCpPvNDvxC"
   },
   "source": [
    "Todos aquellos valores que no son múltiplo de 2 son sustituidos por NaN. Si, por ejemplo, quisiéramos cambiar de signo a los valores que no cumplen la condición impuesta, lo haríamos así:"
   ]
  },
  {
   "cell_type": "code",
   "execution_count": null,
   "metadata": {
    "id": "im9OBw1tDzXI"
   },
   "outputs": [],
   "source": [
    "df.where(df % 2 == 0, -df)"
   ]
  },
  {
   "cell_type": "markdown",
   "metadata": {
    "id": "mYRVfM2zD5JW"
   },
   "source": [
    "## <font color='blue'>**Eliminación de elementos en un dataframe**</font>\n",
    "\n",
    "El método **pandas.DataFrame.drop** elimina las filas o columnas indicadas y devuelve el resultado, permitiéndose diferentes criterios para especificarlas.\n",
    "\n",
    "El primer criterio consiste en indicar la lista de etiquetas a eliminar y el eje al que pertenecen."
   ]
  },
  {
   "cell_type": "code",
   "execution_count": null,
   "metadata": {
    "id": "IrWoOnsMEGU-"
   },
   "outputs": [],
   "source": [
    "df = pd.DataFrame(np.arange(16).reshape([4, 4]), \n",
    "                  index = [\"a\", \"b\", \"c\", \"d\"],\n",
    "                  columns = [\"A\", \"B\", \"C\", \"D\"])\n",
    "df"
   ]
  },
  {
   "cell_type": "markdown",
   "metadata": {
    "id": "EohyLf8BEQAz"
   },
   "source": [
    "Eliminar las filas cuyas etiquetas son \"a\" y \"c\"."
   ]
  },
  {
   "cell_type": "code",
   "execution_count": null,
   "metadata": {
    "id": "ICB7In6DEUJo"
   },
   "outputs": [],
   "source": [
    "df.drop([\"a\", \"c\"], axis = 0)"
   ]
  },
  {
   "cell_type": "code",
   "execution_count": null,
   "metadata": {
    "id": "MCG6xVMQEmYp"
   },
   "outputs": [],
   "source": [
    "df.drop([\"a\", \"c\"])"
   ]
  },
  {
   "cell_type": "markdown",
   "metadata": {
    "id": "3C8fdzzIEqQA"
   },
   "source": [
    "Obsérvese que lo que se muestra es el resultado de eliminar las filas indicadas del dataframe. Éste no se modifica salvo que utilicemos el argumento **inplace = True**."
   ]
  },
  {
   "cell_type": "markdown",
   "metadata": {
    "id": "SP9AyCDeEwBj"
   },
   "source": [
    "Para eliminar columnas, habría que indicar el eje correspondiente."
   ]
  },
  {
   "cell_type": "code",
   "execution_count": null,
   "metadata": {
    "id": "u_GC78zkExtm"
   },
   "outputs": [],
   "source": [
    "df.drop([\"B\", \"D\"], axis = 1)"
   ]
  },
  {
   "cell_type": "markdown",
   "metadata": {
    "id": "jTNzmUf6FFno"
   },
   "source": [
    "Otra alternativa para especificar si se están eliminando filas o columnas es utilizar directamente los parámetros **index** y **columns**. Así, otra forma de eliminar las filas \"a\" y \"c\" sería la siguiente:\n",
    "\n"
   ]
  },
  {
   "cell_type": "code",
   "execution_count": null,
   "metadata": {
    "id": "6GGjGOm3FL7Y"
   },
   "outputs": [],
   "source": [
    "df.drop(index = [\"a\", \"c\"])"
   ]
  },
  {
   "cell_type": "code",
   "execution_count": null,
   "metadata": {
    "id": "Yd-NxfoiFR4A"
   },
   "outputs": [],
   "source": [
    "df.drop(columns = [\"B\", \"D\"])"
   ]
  },
  {
   "cell_type": "markdown",
   "metadata": {
    "id": "520WILsA2CFW"
   },
   "source": [
    "## <font color='green'>**Ejercicio 1**</font>\n",
    "\n",
    "En la liga del diplomado de ciencia de datos juegan 6 equipos: Equipo A, Equipo B, Equipo C, Equipo D, Equipo E y el **Equipo de Profes** (Campeón invicto).\n",
    "\n",
    "La imagen muestra la tabla resumen con los resultados de la liga.\n",
    "\n",
    "<img src='https://drive.google.com/uc?export=view&id=1xW3fW4RrTim0N6hGjT51QxBOW-e36if8' width=\"800\" align=\"center\" style=\"margin-right: 20px\">\n",
    "\n",
    "1. Generar el dataframe tabla_posiciones con la información de la tabla anterior.\n",
    "2. Determinar para cada equipo la diferencia de goles (goles a favor -  goles en contra) y agregar esta información al dataframe.\n",
    "3. Determinar la posición de cada equipo en la liga y presentar la información ordenada.\n",
    "4. Durante la confrontación entre el Equipo A y el **Equipo de Profes** que fue ganada por A. El equipo A tenía más jugadores en cancha que los reglamentarios (tramposos!!!), por lo que la comisión disciplinaria decidió: i) descontar los puntos al equipo A y entregarlos (justamente) al **Equipo de Profes**, ii) finalizar el partido por un marcador de 3-0 a favor de los profes. Realice las ediciones correspondientes en el dataframe y entregue la tabla de posiciones final.\n",
    "5. El premio al fair play se entrega al equipo con mejor comportamiento, para ello, se deben sumar las tarjetas acumuladas (tanto amarillas como rojas) en donde a las tarjetas rojas se les aplica un castigo multiplicándolas por 2, en caso de empate se selecciona al con menor número de tarjetas rojas, si se mantiene el empate el premio es para el equipo con menor número de tarjetas totales. Cree una columna fair play con el indicador descrito y determine el ganador del premio.\n",
    "6. El último lugar de la tabla desciende de la liga y por lo tanto debe ser eliminado del dataframe.\n"
   ]
  },
  {
   "cell_type": "code",
   "execution_count": 59,
   "metadata": {
    "id": "oCmr4yNb2DIf"
   },
   "outputs": [
    {
     "name": "stdout",
     "output_type": "stream",
     "text": [
      "               Puntos  Goles a favor  Goles en contra  Tarjetas Amarillas  \\\n",
      "Equipo A           30             65               10                   7   \n",
      "Equipo B           25             45               15                   2   \n",
      "Equipo Profes      27             60               20                   4   \n",
      "Equipos C          17             30               60                   4   \n",
      "Equipos D          19             25               30                   9   \n",
      "Equipo E           23             45               20                   4   \n",
      "\n",
      "               Tarjetas Rojas  \n",
      "Equipo A                    3  \n",
      "Equipo B                    2  \n",
      "Equipo Profes               2  \n",
      "Equipos C                   4  \n",
      "Equipos D                   5  \n",
      "Equipo E                    1  \n"
     ]
    }
   ],
   "source": [
    "#Parte 1\n",
    "dic1 = {'Puntos': [30, 25, 27, 17, 19, 23], 'Goles a favor': [65, 45, 60, 30, 25, 45], 'Goles en contra': [10, 15, 20, 60, 30, 20], 'Tarjetas Amarillas': [7, 2, 4, 4, 9, 4], 'Tarjetas Rojas': [3,2,2,4,5,1]}\n",
    "indices = ['Equipo A', 'Equipo B', 'Equipo Profes', 'Equipos C','Equipos D', 'Equipo E']\n",
    "\n",
    "tabla_posiciones = pd.DataFrame(dic1, index = indices)\n",
    "print(tabla_posiciones)"
   ]
  },
  {
   "cell_type": "code",
   "execution_count": 60,
   "metadata": {
    "scrolled": true
   },
   "outputs": [
    {
     "name": "stdout",
     "output_type": "stream",
     "text": [
      "               Puntos  Goles a favor  Goles en contra  Tarjetas Amarillas  \\\n",
      "Equipo A           30             65               10                   7   \n",
      "Equipo B           25             45               15                   2   \n",
      "Equipo Profes      27             60               20                   4   \n",
      "Equipos C          17             30               60                   4   \n",
      "Equipos D          19             25               30                   9   \n",
      "Equipo E           23             45               20                   4   \n",
      "\n",
      "               Tarjetas Rojas  Diferencia de goles  \n",
      "Equipo A                    3                   55  \n",
      "Equipo B                    2                   30  \n",
      "Equipo Profes               2                   40  \n",
      "Equipos C                   4                  -30  \n",
      "Equipos D                   5                   -5  \n",
      "Equipo E                    1                   25  \n"
     ]
    }
   ],
   "source": [
    "tabla_posiciones['Diferencia de goles'] = tabla_posiciones['Goles a favor'] - tabla_posiciones['Goles en contra']\n",
    "print(tabla_posiciones)"
   ]
  },
  {
   "cell_type": "code",
   "execution_count": 66,
   "metadata": {
    "scrolled": true
   },
   "outputs": [],
   "source": [
    "tabla_posiciones.sort_values('Puntos', ascending = False, inplace = True)\n",
    "tabla_posiciones['Posiciones'] = list(range(1, len(indices) + 1))"
   ]
  },
  {
   "cell_type": "code",
   "execution_count": 67,
   "metadata": {},
   "outputs": [],
   "source": [
    "# Parte 1\n",
    "tabla_posiciones.loc['Equipo A', 'Puntos'] -= 3\n",
    "tabla_posiciones.loc['Equipo Profes', 'Puntos'] += 3\n",
    "\n",
    "# Parte 2\n",
    "tabla_posiciones.loc['Equipo Profes', 'Goles a favor'] += 3"
   ]
  },
  {
   "cell_type": "code",
   "execution_count": 68,
   "metadata": {},
   "outputs": [
    {
     "data": {
      "text/html": [
       "<div>\n",
       "<style scoped>\n",
       "    .dataframe tbody tr th:only-of-type {\n",
       "        vertical-align: middle;\n",
       "    }\n",
       "\n",
       "    .dataframe tbody tr th {\n",
       "        vertical-align: top;\n",
       "    }\n",
       "\n",
       "    .dataframe thead th {\n",
       "        text-align: right;\n",
       "    }\n",
       "</style>\n",
       "<table border=\"1\" class=\"dataframe\">\n",
       "  <thead>\n",
       "    <tr style=\"text-align: right;\">\n",
       "      <th></th>\n",
       "      <th>Puntos</th>\n",
       "      <th>Goles a favor</th>\n",
       "      <th>Goles en contra</th>\n",
       "      <th>Tarjetas Amarillas</th>\n",
       "      <th>Tarjetas Rojas</th>\n",
       "      <th>Diferencia de goles</th>\n",
       "      <th>Posiciones</th>\n",
       "    </tr>\n",
       "  </thead>\n",
       "  <tbody>\n",
       "    <tr>\n",
       "      <th>Equipo Profes</th>\n",
       "      <td>33</td>\n",
       "      <td>66</td>\n",
       "      <td>20</td>\n",
       "      <td>4</td>\n",
       "      <td>2</td>\n",
       "      <td>40</td>\n",
       "      <td>1</td>\n",
       "    </tr>\n",
       "    <tr>\n",
       "      <th>Equipo B</th>\n",
       "      <td>25</td>\n",
       "      <td>45</td>\n",
       "      <td>15</td>\n",
       "      <td>2</td>\n",
       "      <td>2</td>\n",
       "      <td>30</td>\n",
       "      <td>3</td>\n",
       "    </tr>\n",
       "    <tr>\n",
       "      <th>Equipo A</th>\n",
       "      <td>24</td>\n",
       "      <td>65</td>\n",
       "      <td>10</td>\n",
       "      <td>7</td>\n",
       "      <td>3</td>\n",
       "      <td>55</td>\n",
       "      <td>2</td>\n",
       "    </tr>\n",
       "    <tr>\n",
       "      <th>Equipo E</th>\n",
       "      <td>23</td>\n",
       "      <td>45</td>\n",
       "      <td>20</td>\n",
       "      <td>4</td>\n",
       "      <td>1</td>\n",
       "      <td>25</td>\n",
       "      <td>4</td>\n",
       "    </tr>\n",
       "    <tr>\n",
       "      <th>Equipos D</th>\n",
       "      <td>19</td>\n",
       "      <td>25</td>\n",
       "      <td>30</td>\n",
       "      <td>9</td>\n",
       "      <td>5</td>\n",
       "      <td>-5</td>\n",
       "      <td>5</td>\n",
       "    </tr>\n",
       "    <tr>\n",
       "      <th>Equipos C</th>\n",
       "      <td>17</td>\n",
       "      <td>30</td>\n",
       "      <td>60</td>\n",
       "      <td>4</td>\n",
       "      <td>4</td>\n",
       "      <td>-30</td>\n",
       "      <td>6</td>\n",
       "    </tr>\n",
       "  </tbody>\n",
       "</table>\n",
       "</div>"
      ],
      "text/plain": [
       "               Puntos  Goles a favor  Goles en contra  Tarjetas Amarillas  \\\n",
       "Equipo Profes      33             66               20                   4   \n",
       "Equipo B           25             45               15                   2   \n",
       "Equipo A           24             65               10                   7   \n",
       "Equipo E           23             45               20                   4   \n",
       "Equipos D          19             25               30                   9   \n",
       "Equipos C          17             30               60                   4   \n",
       "\n",
       "               Tarjetas Rojas  Diferencia de goles  Posiciones  \n",
       "Equipo Profes               2                   40           1  \n",
       "Equipo B                    2                   30           3  \n",
       "Equipo A                    3                   55           2  \n",
       "Equipo E                    1                   25           4  \n",
       "Equipos D                   5                   -5           5  \n",
       "Equipos C                   4                  -30           6  "
      ]
     },
     "execution_count": 68,
     "metadata": {},
     "output_type": "execute_result"
    }
   ],
   "source": [
    "# Nueva tabla\n",
    "tabla_posiciones.sort_values('Puntos', ascending = False, inplace = True)\n",
    "tabla_posiciones"
   ]
  },
  {
   "cell_type": "markdown",
   "metadata": {
    "id": "zRVMnAga2EpR"
   },
   "source": [
    "## <font color='green'>**Fin ejercicio 1**</font>"
   ]
  },
  {
   "cell_type": "markdown",
   "metadata": {
    "id": "w6ZS4AZpFrSa"
   },
   "source": [
    "# <font color='blue'>**Unión de series y dataframes**</font>\n",
    "\n",
    "Muchas veces nos encontramos con que los datos a analizar están repartidos entre dos o más bloques de datos, lo que nos obliga a unirlos, bien concatenándolos, o bien realizando un \"join\" entre las estructuras (uniones del mismo tipo que las realizadas en bases de datos)."
   ]
  },
  {
   "cell_type": "markdown",
   "metadata": {
    "id": "jc6RQT0EF-7Q"
   },
   "source": [
    "## <font color='blue'>**Unión de series**</font>\n"
   ]
  },
  {
   "cell_type": "markdown",
   "metadata": {
    "id": "dZbk-MTlKOoc"
   },
   "source": [
    "## <font color='blue'>**Función concat**</font>\n",
    "\n",
    "Un caso con el que nos encontramos con relativa frecuencia es aquel en el que queremos unir una serie a otra."
   ]
  },
  {
   "cell_type": "code",
   "execution_count": 2,
   "metadata": {
    "id": "YIVfMHnYGFyw"
   },
   "outputs": [],
   "source": [
    "import pandas as pd\n",
    "s = pd.Series([1, 2, 3, 4, 5], index = [\"a\", \"b\", \"c\", \"d\", \"e\"])\n",
    "r = pd.Series([10, 11, 12], index = [\"f\", \"g\", \"h\"])"
   ]
  },
  {
   "cell_type": "markdown",
   "metadata": {
    "id": "3pmqAQtKG_C2"
   },
   "source": [
    "Si deseamos unir $r$ y $s$ en una nueva serie, podemos usar la función **pandas.concat**. Esta función permite especificar el eje a lo largo del cual unir los diferentes objetos (pueden ser series o dataframes). Por defecto, la concatenación se realiza a lo largo del eje 0."
   ]
  },
  {
   "cell_type": "code",
   "execution_count": 3,
   "metadata": {
    "id": "6cYF_XaGHIqv"
   },
   "outputs": [
    {
     "name": "stdout",
     "output_type": "stream",
     "text": [
      "<class 'pandas.core.series.Series'>\n"
     ]
    },
    {
     "data": {
      "text/plain": [
       "a     1\n",
       "b     2\n",
       "c     3\n",
       "d     4\n",
       "e     5\n",
       "f    10\n",
       "g    11\n",
       "h    12\n",
       "dtype: int64"
      ]
     },
     "execution_count": 3,
     "metadata": {},
     "output_type": "execute_result"
    }
   ],
   "source": [
    "t = pd.concat([s, r])\n",
    "print(type(t))\n",
    "t"
   ]
  },
  {
   "cell_type": "markdown",
   "metadata": {
    "id": "ZNBx06JzHU9_"
   },
   "source": [
    "El resultado es una serie."
   ]
  },
  {
   "cell_type": "code",
   "execution_count": 5,
   "metadata": {
    "id": "f2qVl4YmHm13"
   },
   "outputs": [
    {
     "name": "stdout",
     "output_type": "stream",
     "text": [
      "a    1\n",
      "b    2\n",
      "c    3\n",
      "d    4\n",
      "e    5\n",
      "dtype: int64\n",
      "\n",
      "a    10\n",
      "b    11\n",
      "f    12\n",
      "dtype: int64\n"
     ]
    }
   ],
   "source": [
    "a = pd.Series([1, 2, 3, 4, 5], index = [\"a\", \"b\", \"c\", \"d\", \"e\"])\n",
    "b = pd.Series([10, 11, 12], index = [\"a\", \"b\", \"f\"])\n",
    "print(a)\n",
    "print( )\n",
    "print(b)"
   ]
  },
  {
   "cell_type": "markdown",
   "metadata": {
    "id": "xwqEhMaTHXjt"
   },
   "source": [
    "Si especificamos como eje de concatenación el eje 1, pandas alineará los valores con idénticas etiquetas. En el siguiente ejemplo, las series $a$ y $b$ tienen algunas etiquetas comunes (y otras no). El resultado incluye todas las etiquetas asignando el valor NaN (\"Not a Number\") a aquellos valores desconocidos.\n",
    "\n"
   ]
  },
  {
   "cell_type": "code",
   "execution_count": 6,
   "metadata": {
    "id": "e7dl4oQgH0-8"
   },
   "outputs": [
    {
     "data": {
      "text/html": [
       "<div>\n",
       "<style scoped>\n",
       "    .dataframe tbody tr th:only-of-type {\n",
       "        vertical-align: middle;\n",
       "    }\n",
       "\n",
       "    .dataframe tbody tr th {\n",
       "        vertical-align: top;\n",
       "    }\n",
       "\n",
       "    .dataframe thead th {\n",
       "        text-align: right;\n",
       "    }\n",
       "</style>\n",
       "<table border=\"1\" class=\"dataframe\">\n",
       "  <thead>\n",
       "    <tr style=\"text-align: right;\">\n",
       "      <th></th>\n",
       "      <th>0</th>\n",
       "      <th>1</th>\n",
       "    </tr>\n",
       "  </thead>\n",
       "  <tbody>\n",
       "    <tr>\n",
       "      <th>a</th>\n",
       "      <td>1.0</td>\n",
       "      <td>10.0</td>\n",
       "    </tr>\n",
       "    <tr>\n",
       "      <th>b</th>\n",
       "      <td>2.0</td>\n",
       "      <td>11.0</td>\n",
       "    </tr>\n",
       "    <tr>\n",
       "      <th>c</th>\n",
       "      <td>3.0</td>\n",
       "      <td>NaN</td>\n",
       "    </tr>\n",
       "    <tr>\n",
       "      <th>d</th>\n",
       "      <td>4.0</td>\n",
       "      <td>NaN</td>\n",
       "    </tr>\n",
       "    <tr>\n",
       "      <th>e</th>\n",
       "      <td>5.0</td>\n",
       "      <td>NaN</td>\n",
       "    </tr>\n",
       "    <tr>\n",
       "      <th>f</th>\n",
       "      <td>NaN</td>\n",
       "      <td>12.0</td>\n",
       "    </tr>\n",
       "  </tbody>\n",
       "</table>\n",
       "</div>"
      ],
      "text/plain": [
       "     0     1\n",
       "a  1.0  10.0\n",
       "b  2.0  11.0\n",
       "c  3.0   NaN\n",
       "d  4.0   NaN\n",
       "e  5.0   NaN\n",
       "f  NaN  12.0"
      ]
     },
     "execution_count": 6,
     "metadata": {},
     "output_type": "execute_result"
    }
   ],
   "source": [
    "pd.concat([a,b], axis = 1)"
   ]
  },
  {
   "cell_type": "code",
   "execution_count": null,
   "metadata": {
    "id": "sXThH-bWILow"
   },
   "outputs": [],
   "source": [
    "type(pd.concat([a,b], axis = 1))"
   ]
  },
  {
   "cell_type": "markdown",
   "metadata": {
    "id": "zeFwuJWsIOgu"
   },
   "source": [
    "Como puede observarse, el resultado es un dataframe."
   ]
  },
  {
   "cell_type": "markdown",
   "metadata": {
    "id": "PncBwN6BIMNr"
   },
   "source": [
    "Por otro lado, las etiquetas del índice no tienen por qué ser diferentes, de forma que si se estuviesen concatenando series con etiquetas comunes en sus índices, el resultado sería equivalente a los vistos hasta ahora."
   ]
  },
  {
   "cell_type": "code",
   "execution_count": null,
   "metadata": {
    "id": "Vfevy_gYIqev"
   },
   "outputs": [],
   "source": [
    "s = pd.Series([1, 2, 3, 4], index = [\"a\", \"b\", \"c\", \"d\"])\n",
    "r = pd.Series([10, 11, 12], index = [\"a\", \"c\", \"e\"])\n",
    "print(a)\n",
    "print( )\n",
    "print(b)"
   ]
  },
  {
   "cell_type": "code",
   "execution_count": null,
   "metadata": {
    "id": "m-qN5MasI2Yn"
   },
   "outputs": [],
   "source": [
    "pd.concat([s, r])"
   ]
  },
  {
   "cell_type": "markdown",
   "metadata": {
    "id": "Wl03QEVRJB_K"
   },
   "source": [
    "En este ejemplo se han concatenado dos series que tienen dos etiquetas comunes (\"a\" y \"c\"), y se puede observar que las dos apariciones de cada una de ellas se incluyen en el resultado de la concatenación."
   ]
  },
  {
   "cell_type": "markdown",
   "metadata": {
    "id": "aw7bSeK8Kdnd"
   },
   "source": [
    "## <font color='blue'>**Método append**</font>\n",
    "\n",
    "Otra alternativa es usar el método **pandas.Series.append**, versión simplificada de la función concat ya vista que devuelve la unión de la serie sobre la que se aplica con otra (u otras) series, pero solo a lo largo del eje 0."
   ]
  },
  {
   "cell_type": "code",
   "execution_count": null,
   "metadata": {
    "id": "rkZDh_OXKtCy"
   },
   "outputs": [],
   "source": [
    "a = pd.Series([1, 2, 3, 4, 5], index = [\"a\", \"b\", \"c\", \"d\", \"e\"])\n",
    "b = pd.Series([10, 11, 12], index = [\"f\", \"g\", \"h\"])\n",
    "print(a)\n",
    "print( )\n",
    "print(b)"
   ]
  },
  {
   "cell_type": "code",
   "execution_count": null,
   "metadata": {
    "id": "RypyUjlEK0Lt"
   },
   "outputs": [],
   "source": [
    "c = a.append(b)\n",
    "c"
   ]
  },
  {
   "cell_type": "markdown",
   "metadata": {
    "id": "8cNeYlRrK7s6"
   },
   "source": [
    "Si el argumento **ignore_index** toma el valor True, se ignoran las etiquetas de las series."
   ]
  },
  {
   "cell_type": "code",
   "execution_count": null,
   "metadata": {
    "id": "NdcJqbabK-oA"
   },
   "outputs": [],
   "source": [
    "c = a.append(b, ignore_index = True)\n",
    "c"
   ]
  },
  {
   "cell_type": "markdown",
   "metadata": {
    "id": "pULXnMCXLIZ6"
   },
   "source": [
    "## <font color='blue'>**Concatenación y unión de dataframes**</font>\n",
    "\n",
    "Ésta es otra de las áreas en las que la variedad de opciones puede resultar confusa. A modo de resumen, digamos que pandas ofrece dos principales funciones con este objetivo: **pandas.concat** y **pandas.merge**.\n",
    "\n",
    "* La función **concat** permite concatenar dataframes a lo largo de un determinado eje\n",
    "* La función **merge** permite realizar uniones (joins) entre dataframes tal y como se realizan en bases de datos. Esta función también está disponible como método: **pandas.DataFrame.merge**\n",
    "\n",
    "Hay una tercera función que está disponible solo como método: **pandas.DataFrame.append**. El método **append** ofrece una funcionalidad semejante a la de la función concat pero reducida. Así, por ejemplo, solo permite realizar concatenaciones a lo largo del eje 0 (es decir, verticalmente)."
   ]
  },
  {
   "cell_type": "markdown",
   "metadata": {
    "id": "c8Rh9GKFL1ek"
   },
   "source": [
    "## <font color='blue'>**Función concat**</font>\n",
    "\n",
    "La función **pandas.concat** es la responsable de concatenar dos o más dataframes (y de todas las estructuras proveídas por pandas) a lo largo de un eje, con soporte a lógica de conjuntos a la hora de gestionar etiquetas en ejes no coincidentes."
   ]
  },
  {
   "cell_type": "code",
   "execution_count": null,
   "metadata": {
    "id": "nafiOU6YMD1h"
   },
   "outputs": [],
   "source": [
    "df1 = pd.DataFrame(np.arange(9).reshape([3, 3]),\n",
    "                   index = [\"a\", \"b\", \"d\"],\n",
    "                   columns = [\"A\", \"B\", \"C\"])\n",
    "df1"
   ]
  },
  {
   "cell_type": "code",
   "execution_count": null,
   "metadata": {
    "id": "678ah7ShMZnK"
   },
   "outputs": [],
   "source": [
    "df2 = pd.DataFrame(np.arange(12).reshape([4, 3]),\n",
    "                   index = [\"a\", \"b\", \"c\", \"e\"],\n",
    "                   columns = [\"B\", \"C\", \"D\"])\n",
    "df2"
   ]
  },
  {
   "cell_type": "markdown",
   "metadata": {
    "id": "F8ktN91mMzA7"
   },
   "source": [
    "Si pasamos a la función concat ambos dataframes como primer argumento (en forma de lista), obtenemos el siguiente resultado:"
   ]
  },
  {
   "cell_type": "code",
   "execution_count": null,
   "metadata": {
    "id": "1PGX57QgM4k7"
   },
   "outputs": [],
   "source": [
    "pd.concat([df1, df2])"
   ]
  },
  {
   "cell_type": "markdown",
   "metadata": {
    "id": "fAtd90IwM_08"
   },
   "source": [
    "Por defecto, la concatenación se ha realizado a lo largo del eje 0 (eje vertical), uniendo los índices de fila de ambos dataframes, y alineando las columnas por su etiqueta. Los valores para los que no hay datos se han rellenado con NaN.\n",
    "\n",
    "Si especificamos que la concatenación se realice a lo largo del eje 1 (eje horizontal), el resultado es el siguiente:"
   ]
  },
  {
   "cell_type": "code",
   "execution_count": null,
   "metadata": {
    "id": "xVFnXa1MNIto"
   },
   "outputs": [],
   "source": [
    "pd.concat([df1, df2], axis = 1)"
   ]
  },
  {
   "cell_type": "markdown",
   "metadata": {
    "id": "jJMvEwSINRKJ"
   },
   "source": [
    "De modo semejante al primer ejemplo, se han introducido NaN's donde no había datos, y se han alineado las filas por su etiqueta.\n",
    "\n",
    "Estos dos ejemplos vistos son tipo **\"Outer\"** (opción por defecto), considerando todas las etiquetas de los dos dataframes aun cuando no sean comunes a ambos. Pero si especificamos el argumento **join = \"Inner\"**, los resultados pasan a considerar solo las etiquetas comunes."
   ]
  },
  {
   "cell_type": "code",
   "execution_count": null,
   "metadata": {
    "id": "Xz2RbryRNbj1"
   },
   "outputs": [],
   "source": [
    "pd.concat([df1, df2], join = \"inner\")"
   ]
  },
  {
   "cell_type": "markdown",
   "metadata": {
    "id": "wV7vzfHFNluf"
   },
   "source": [
    "Incluye solo las columnas B y C comunes a ambos dataframes. Y para el segundo ejemplo tenemos:"
   ]
  },
  {
   "cell_type": "code",
   "execution_count": null,
   "metadata": {
    "id": "zYIO8oILNosc"
   },
   "outputs": [],
   "source": [
    "pd.concat([df1, df2], axis = 1, join = \"inner\")"
   ]
  },
  {
   "cell_type": "markdown",
   "metadata": {
    "id": "36bn8bQ9NvHL"
   },
   "source": [
    "Incluyendo solo las filas a y b comunes a ambos dataframes."
   ]
  },
  {
   "cell_type": "markdown",
   "metadata": {
    "id": "J3cXFLwWNyt1"
   },
   "source": [
    "El parámetro **ignore_index** controla el índice a asignar al eje a lo largo del cuál se realiza la concatenación. Si este parámetro toma el valor False (por defecto), el eje de concatenación mantiene las etiquetas de los dataframes originales. Si toma el valor True, se ignoran dichas etiquetas y el resultado de la concatenación recibe un nuevo índice automático numérico. "
   ]
  },
  {
   "cell_type": "code",
   "execution_count": null,
   "metadata": {
    "id": "93lc9C-TN-iH"
   },
   "outputs": [],
   "source": [
    "pd.concat([df1, df2], axis = 1, join = \"inner\", ignore_index = True)"
   ]
  },
  {
   "cell_type": "markdown",
   "metadata": {
    "id": "SwmFJfB6OKYI"
   },
   "source": [
    "## <font color='blue'>**Método append**</font>\n",
    "\n",
    "El método **pandas.DataFrame.append** es un atajo de la función concat que ofrece funcionalidad semejante pero limitada: no permite especificar el eje de concatenación (siempre es el eje 0) ni el tipo de \"join\" (siempre es tipo \"Outer\")."
   ]
  },
  {
   "cell_type": "code",
   "execution_count": null,
   "metadata": {
    "id": "VWsOLi6WOX78"
   },
   "outputs": [],
   "source": [
    "df1 = pd.DataFrame(np.arange(9).reshape([3, 3]),\n",
    "                   index = [\"a\", \"b\", \"d\"],\n",
    "                   columns = [\"A\", \"B\", \"C\"])\n",
    "df1"
   ]
  },
  {
   "cell_type": "code",
   "execution_count": null,
   "metadata": {
    "id": "ipGuEARqObxY"
   },
   "outputs": [],
   "source": [
    "df2 = pd.DataFrame(np.arange(12).reshape([4, 3]),\n",
    "                   index = [\"a\", \"b\", \"c\", \"e\"],\n",
    "                   columns = [\"B\", \"C\", \"D\"])\n",
    "df2"
   ]
  },
  {
   "cell_type": "code",
   "execution_count": null,
   "metadata": {
    "id": "LDYz-0SiOf57"
   },
   "outputs": [],
   "source": [
    "df1.append(df2)"
   ]
  },
  {
   "cell_type": "markdown",
   "metadata": {
    "id": "keyCIp92Ok1Q"
   },
   "source": [
    "Al igual que ocurría con la función **concat**, el parámetro ignore_index nos permite controlar las etiquetas que recibe el índice del resultado: las de los dataframes originales (con ignore_index = False, opción por defecto), o uno nuevo automático (con ignore_index = True)."
   ]
  },
  {
   "cell_type": "markdown",
   "metadata": {
    "id": "ck7WGAv3OrN7"
   },
   "source": [
    "## <font color='blue'>**Función Merge**</font>\n",
    "\n",
    "La función **pandas.merge** nos permite realizar \"joins\" entre tablas. El join es realizado sobre las columnas o sobre las filas. En el primer caso, las etiquetas de las filas son ignoradas. En cualquier otro caso (joins realizado entre etiquetas de filas, o entre etiquetas de filas y de columnas), las etiquetas de filas se mantienen.\n"
   ]
  },
  {
   "cell_type": "code",
   "execution_count": null,
   "metadata": {
    "id": "MRsfchCqO5VS"
   },
   "outputs": [],
   "source": [
    "df1 = pd.DataFrame({\n",
    "    \"Mes\": [\"ene\", \"feb\", \"mar\", \"may\"],\n",
    "    \"Ventas\": [14, 8, 12, 17]\n",
    "})\n",
    "df1"
   ]
  },
  {
   "cell_type": "code",
   "execution_count": null,
   "metadata": {
    "id": "aV3Cv4HvPMcV"
   },
   "outputs": [],
   "source": [
    "df2 = pd.DataFrame({\n",
    "    \"Mes\": [\"feb\", \"ene\", \"mar\", \"abr\"],\n",
    "    \"Costos\": [7, 6, 8, 5]\n",
    "})\n",
    "df2"
   ]
  },
  {
   "cell_type": "markdown",
   "metadata": {
    "id": "EKOkpNDFPavu"
   },
   "source": [
    "Ambos dataframes tienen una columna común (\"Month\") y varias filas comunes (\"ene\", \"feb\" y \"mar\"). Obsérvese que en df2 las filas no están ordenadas y que, en df1, el mes de enero tiene índice 0 mientras que, en df2, el mes de enero tiene índice 1.\n",
    "\n",
    "Si aplicamos la función merge a estos dataframes con los valores por defecto, obtenemos el siguiente resultado."
   ]
  },
  {
   "cell_type": "code",
   "execution_count": null,
   "metadata": {
    "id": "D5NkKfrqPh74"
   },
   "outputs": [],
   "source": [
    "pd.merge(df1, df2)"
   ]
  },
  {
   "cell_type": "markdown",
   "metadata": {
    "id": "YsJA18iPPoY7"
   },
   "source": [
    "Esos valores por defecto suponen que el join se realiza sobre las columnas comunes y tipo \"inner\" (considerando solo las filas con etiquetas comunes).\n",
    "\n",
    "Si especificamos que el join sea de tipo \"outer\", lo que definimos con el parámetro how, el resultado considerará todas las etiquetas presentes en ambos dataframes."
   ]
  },
  {
   "cell_type": "code",
   "execution_count": null,
   "metadata": {
    "id": "7mJwdNA-P3Ke"
   },
   "outputs": [],
   "source": [
    "pd.merge(df1, df2, how = \"outer\")"
   ]
  },
  {
   "cell_type": "markdown",
   "metadata": {
    "id": "tkwIGwRnP_hg"
   },
   "source": [
    "Se rellena con NaN's los valores inexistentes. Otras opciones para el parámetro how son \"left\" y \"right\" (además de la opción por defecto, \"outer\").\n",
    "\n",
    "Por defecto, el join se realiza entre las columnas comunes. Esto es, sin embargo, controlable usando el parámetro **on** y especificando la columna o columnas a usar."
   ]
  },
  {
   "cell_type": "code",
   "execution_count": null,
   "metadata": {
    "id": "uH-5NA4WQLbC"
   },
   "outputs": [],
   "source": [
    "df1 = pd.DataFrame({\n",
    "    \"Mes\": [\"ene\", \"ene\", \"feb\", \"feb\"],\n",
    "    \"Producto\": [\"A\", \"B\", \"A\", \"B\"],\n",
    "    \"Ventas\": [14, 8, 12, 17]\n",
    "})\n",
    "df1"
   ]
  },
  {
   "cell_type": "code",
   "execution_count": null,
   "metadata": {
    "id": "ueI7l-ynQdt9"
   },
   "outputs": [],
   "source": [
    "df2 = pd.DataFrame({\n",
    "    \"Mes\": [\"ene\", \"ene\", \"feb\", \"feb\"],\n",
    "    \"Producto\": [\"A\", \"B\", \"A\", \"B\"],\n",
    "    \"Costo\": [7, 6, 8, 5]\n",
    "})\n",
    "df2"
   ]
  },
  {
   "cell_type": "markdown",
   "metadata": {
    "id": "hBTjmIoSQp29"
   },
   "source": [
    "Hay dos columnas comunes, lo que supone que el resultado de un merge por defecto sería el siguiente:"
   ]
  },
  {
   "cell_type": "code",
   "execution_count": null,
   "metadata": {
    "id": "anqHOxg3QsRo"
   },
   "outputs": [],
   "source": [
    "pd.merge(df1, df2)"
   ]
  },
  {
   "cell_type": "markdown",
   "metadata": {
    "id": "UW0xvbV9Q0b4"
   },
   "source": [
    "Es decir, para cada combinación de Mes-Producto se añadirían los valores de los campos de ventas y costo. Si se quiere que el join se realice solo por uno de los campos, Producto, por ejemplo, bastaría con especificarlo con el parámetro on."
   ]
  },
  {
   "cell_type": "code",
   "execution_count": null,
   "metadata": {
    "id": "1oe0yvVfQ85c"
   },
   "outputs": [],
   "source": [
    "pd.merge(df1, df2, on = \"Producto\")"
   ]
  },
  {
   "cell_type": "markdown",
   "metadata": {
    "id": "7rfjJFCHRJIM"
   },
   "source": [
    "Además del campo utilizado para realizar el join (\"Producto\"), al existir un campo común a ambos dataframes (\"Mes\") que no se desea usar para el join, pandas añade un sufijo (configurable) a este campo en ambas tablas para poder diferenciarlo.\n",
    "\n",
    "También podría ocurrir que ambos dataframes no tuviesen columnas comunes (columnas con el mismo nombre) pero que, aun así, quisiéramos realizar el join por algunas de ellas. Por ejemplo:"
   ]
  },
  {
   "cell_type": "code",
   "execution_count": null,
   "metadata": {
    "id": "Ze03TH3TRRoh"
   },
   "outputs": [],
   "source": [
    "df1 = pd.DataFrame({\n",
    "    \"Mes\": [\"ene\", \"feb\", \"mar\", \"may\"],\n",
    "    \"Ventas\": [14, 8, 12, 17]\n",
    "})\n",
    "df1"
   ]
  },
  {
   "cell_type": "code",
   "execution_count": null,
   "metadata": {
    "id": "E0TkltaQRbZx"
   },
   "outputs": [],
   "source": [
    "df2 = pd.DataFrame({\n",
    "    \"NombreMes\": [\"feb\", \"ene\", \"mar\", \"abr\"],\n",
    "    \"Costos\": [7, 6, 8, 5]\n",
    "})\n",
    "df2"
   ]
  },
  {
   "cell_type": "markdown",
   "metadata": {
    "id": "oM9-Q4_LReGk"
   },
   "source": [
    "Al no haber columnas comunes, la ejecución de la función merge devolvería un error. En este caso podemos usar los parámetros **left_on** y **right_on** para especificar el campo a usar en la tabla de la izquierda del join y en la de la derecha, respectivamente."
   ]
  },
  {
   "cell_type": "code",
   "execution_count": null,
   "metadata": {
    "id": "tpxxN2SSRkrO"
   },
   "outputs": [],
   "source": [
    "pd.merge(df1, df2, left_on = \"Mes\", right_on = \"NombreMes\")"
   ]
  },
  {
   "cell_type": "markdown",
   "metadata": {
    "id": "BNHzyOEUR-S8"
   },
   "source": [
    "## <font color='blue'>**Join por filas**</font>\n",
    "\n",
    "Si queremos que el join considere las filas -y no las columnas- de alguno de los dataframes para realizar el join, podemos usar los parámetros **left_index** y **right_index**.\n"
   ]
  },
  {
   "cell_type": "code",
   "execution_count": null,
   "metadata": {
    "id": "Ovo8Xw4tSKiD"
   },
   "outputs": [],
   "source": [
    "df1 = pd.DataFrame({\n",
    "    \"Mes\": [\"ene\", \"feb\", \"mar\", \"may\"],\n",
    "    \"Ventas\": [14, 8, 12, 17]\n",
    "})\n",
    "df1"
   ]
  },
  {
   "cell_type": "code",
   "execution_count": null,
   "metadata": {
    "id": "vWBXOFCaSRXT"
   },
   "outputs": [],
   "source": [
    "df2 = pd.DataFrame({\n",
    "    \"Compras\": [5, 9, 11, 2, 6]},\n",
    "    index = [\"ene\", \"feb\", \"mar\", \"abr\", \"may\"]\n",
    ")\n",
    "df2"
   ]
  },
  {
   "cell_type": "markdown",
   "metadata": {
    "id": "2Vtz98U4SquH"
   },
   "source": [
    "La ejecución de la función **merge** no sería posible -devolvería un error- pues no hay columnas columnes. En este caso querríamos que para el dataframe df1 se considerase la columna \"Mes\" -usando el parámetro left_on- y para el dataframe df2 el índice -usando el parámetro right_index-, de la siguiente forma:"
   ]
  },
  {
   "cell_type": "code",
   "execution_count": null,
   "metadata": {
    "id": "I3Hqn8MhSwma"
   },
   "outputs": [],
   "source": [
    "pd.merge(df1, df2, left_on = \"Mes\", right_index = True)"
   ]
  },
  {
   "cell_type": "markdown",
   "metadata": {
    "id": "QPbYKu25Vrae"
   },
   "source": [
    "# <font color='blue'>**Operaciones con estructuras pandas**</font>\n",
    "\n",
    "Al basarse la bibliteca **pandas** en **NumPy**, todas las funciones universales de esta última funcionan con pandas, pero con una particularidad: al aplicar operaciones unarias se conservan las etiquetas de filas y columnas, y en funciones binarias, se van a alinear las filas y columnas de las estructuras involucradas por sus etiquetas."
   ]
  },
  {
   "cell_type": "markdown",
   "metadata": {
    "id": "2d-LSQs5V7pQ"
   },
   "source": [
    "## <font color='blue'>**Operaciones con series**</font>\n",
    "\n",
    "Si aplicamos una función unaria a una serie, el resultado es otra serie que conserva los índices de la original."
   ]
  },
  {
   "cell_type": "code",
   "execution_count": null,
   "metadata": {
    "id": "PZRJpRI2WCli"
   },
   "outputs": [],
   "source": [
    "r = pd.Series([1, 2, 3, 4], index = [\"a\", \"b\", \"c\", \"d\"])\n",
    "r"
   ]
  },
  {
   "cell_type": "code",
   "execution_count": null,
   "metadata": {
    "id": "HmYi-PyYWKZa"
   },
   "outputs": [],
   "source": [
    "print(type(np.square(r)))\n",
    "np.square(r)"
   ]
  },
  {
   "cell_type": "markdown",
   "metadata": {
    "id": "CoIPnVnyWYIT"
   },
   "source": [
    "Por otro lado, los operadores aritméticos que involucran dos o más series van a alinear las etiquetas antes de ejecutarse."
   ]
  },
  {
   "cell_type": "code",
   "execution_count": null,
   "metadata": {
    "id": "qhwjJck4WaYh"
   },
   "outputs": [],
   "source": [
    "r = pd.Series([1, 2, 3, 4], index = [\"a\", \"b\", \"c\", \"d\"])\n",
    "s = pd.Series([1, 2, 3, 4], index = [\"b\", \"c\", \"d\", \"e\"])\n",
    "print(r)\n",
    "print( )\n",
    "print(s)"
   ]
  },
  {
   "cell_type": "code",
   "execution_count": null,
   "metadata": {
    "id": "BOjvplb4WnSM"
   },
   "outputs": [],
   "source": [
    "r + s"
   ]
  },
  {
   "cell_type": "markdown",
   "metadata": {
    "id": "Yo-zyd-HWvR5"
   },
   "source": [
    "En este ejemplo, se han sumado dos series cuyas etiquetas no son todas comunes. Pandas rellena los valores no coincidentes con NaN.\n",
    "\n",
    "Si se utiliza el método **pandas.Series.add** se asigna a la serie sobre la que se aplica el método el resultado de la suma."
   ]
  },
  {
   "cell_type": "code",
   "execution_count": null,
   "metadata": {
    "id": "KNoLWP98W8nV"
   },
   "outputs": [],
   "source": [
    "r = pd.Series([1, 2, 3, 4], index = [\"a\", \"b\", \"c\", \"d\"])\n",
    "s = pd.Series([1, 2, 3, 4], index = [\"b\", \"c\", \"d\", \"e\"])\n",
    "r.add(s)"
   ]
  },
  {
   "cell_type": "markdown",
   "metadata": {
    "id": "k6mBIHDDXErp"
   },
   "source": [
    "Usando este método es posible especificar el valor a usar para rellenar los elementos desconocidos usando el parámetro **fill_value**.\n",
    "\n"
   ]
  },
  {
   "cell_type": "code",
   "execution_count": null,
   "metadata": {
    "id": "UaG02Jt5XIT_"
   },
   "outputs": [],
   "source": [
    "r = pd.Series([1, 2, 3, 4], index = [\"a\", \"b\", \"c\", \"d\"])\n",
    "s = pd.Series([1, 2, 3, 4], index = [\"b\", \"c\", \"d\", \"e\"])\n",
    "print(r)\n",
    "print( )\n",
    "print(s)"
   ]
  },
  {
   "cell_type": "code",
   "execution_count": null,
   "metadata": {
    "id": "YAP-api9XWN4"
   },
   "outputs": [],
   "source": [
    "r.add(s, fill_value = 0)"
   ]
  },
  {
   "cell_type": "markdown",
   "metadata": {
    "id": "tX17ga54Xb8M"
   },
   "source": [
    "Con este atributo, no estamos simplemente sustituyendo los NaN del resultado por el valor indicado, sino que estamos usando dicho valor como alternativa a los valores de las series originales que no existiesen."
   ]
  },
  {
   "cell_type": "markdown",
   "metadata": {
    "id": "gpT1NOL5Xjkq"
   },
   "source": [
    "Otras funciones son:\n",
    "\n",
    "* **pandas.Series.sub**, que resta una serie a otra, elemento por elemento\n",
    "* **pandas.Series.mul**, que multipica una serie por otra, elemento por elemento\n",
    "* **pandas.Series.div**, que divide una serie por otra, elemento por elemento\n",
    "* **pandas.Series.round**, que redondea los elementos de una serie al número de decimales indicado.\n",
    "\n",
    "En la documentación oficial está el listado completo de funciones disponibles para las series, pinche <a href=\"https://pandas.pydata.org/pandas-docs/stable/reference/series.html\">aquí</a>."
   ]
  },
  {
   "cell_type": "markdown",
   "metadata": {
    "id": "ryPqLUH4YV2F"
   },
   "source": [
    "## <font color='blue'>**Operaciones con dataframes**</font>\n",
    "\n",
    "Las operaciones binarias alinearán los datos de los dataframes involucrados según sus etiquetas de filas y columnas antes de ejecutarse."
   ]
  },
  {
   "cell_type": "code",
   "execution_count": null,
   "metadata": {
    "id": "SMc2dsPkYhAu"
   },
   "outputs": [],
   "source": [
    "df1 = pd.DataFrame({\"A\": [2, 4, 2],\n",
    "                    \"B\": [1, 0, 4],\n",
    "                    \"C\": [7, 3, 4],\n",
    "                    \"D\": [3, 1, 5]},\n",
    "                   index = [\"ene\", \"feb\", \"mar\"])\n",
    "df1"
   ]
  },
  {
   "cell_type": "code",
   "execution_count": null,
   "metadata": {
    "id": "8Jf_Cz4bZGQq"
   },
   "outputs": [],
   "source": [
    "df2 = pd.DataFrame({\"A\": [3, 5, 2],\n",
    "                    \"C\": [1, 2, 3],\n",
    "                    \"D\": [4, 3, 4],\n",
    "                    \"E\": [6, 3, 1]},\n",
    "                   index = [\"feb\", \"mar\", \"abr\"])\n",
    "df2"
   ]
  },
  {
   "cell_type": "code",
   "execution_count": null,
   "metadata": {
    "id": "HpXzzd9KZXMC"
   },
   "outputs": [],
   "source": [
    "df1 + df2"
   ]
  },
  {
   "cell_type": "markdown",
   "metadata": {
    "id": "Ih17vgZPZoOj"
   },
   "source": [
    "Pandas inserta NaN's en aquellas combinaciones de etiquetas para las que no hay un valor en ambos dataframes.\n",
    "\n",
    "La alineación se produce con independencia del orden en el que las etiquetas aparezcan en los índices.\n",
    "\n",
    "Podemos realizar la misma operación y asignar el resultado a uno de los dataframes con el método **pandas.DataFrame.add**."
   ]
  },
  {
   "cell_type": "code",
   "execution_count": null,
   "metadata": {
    "id": "i8P3FyLdZy4y"
   },
   "outputs": [],
   "source": [
    "df1.add(df2)"
   ]
  },
  {
   "cell_type": "markdown",
   "metadata": {
    "id": "G3b5WLBsZ3Cv"
   },
   "source": [
    "Con este método, de forma semejante a como ocurría con las series, es posible establecar un valor predeterminado para aquellos valores que no se encuentren en uno de los dataframes usando el parámetro **fill_value**."
   ]
  },
  {
   "cell_type": "code",
   "execution_count": null,
   "metadata": {
    "id": "Fg-IfiHYZ7Cr"
   },
   "outputs": [],
   "source": [
    "df1.add(df2, fill_value = 0)"
   ]
  },
  {
   "cell_type": "markdown",
   "metadata": {
    "id": "cs8Ncj2faJl7"
   },
   "source": [
    "Ahora, el valor correspondiente a A-Abr no es un NaN, sino 2 (valor que podemos encontrar en el dataframe df2). Aquellas combinaciones de etiquetas para las que no existe valor alguno en ninguno de los dos dataframes siguen recibiendo un NaN.\n",
    "\n",
    "Se muestra a continuación un listado con algunas operaciones básicas disponibles como métodos de dataframes:\n",
    "\n",
    "* **pandas.DataFrame.add**: suma los dos dataframes, elemento por elemento\n",
    "* **pandas.DataFrame.sub**: resta a un dataframe otro dataframe, elemento por elemento\n",
    "* **pandas.DataFrame.mul**: multiplica un dataframe por otro, elemento por elemento\n",
    "* **pandas.DataFrame.div**: divide un dataframe por otro, elemento por elemento\n",
    "* **pandas.DataFrame.mod**: devuelve el resultado de calcular el módulo de un dataframe y otro dataframe, elemento por elemento\n",
    "* **pandas.DataFrame.dot**: devuelve la multiplicación de las dos matrices representadas por los dos dataframes\n",
    "* **pandas.DataFrame.abs**: devuelve una copia del dataframe conteniendo el valor absoluto de cada uno de sus valores\n",
    "\n",
    "Podemos encontrar en la documentación oficial de pandas el listado completo de funciones disponibles, pinche <a href=\"https://pandas.pydata.org/pandas-docs/stable/reference/frame.html\">aquí</a>.\n",
    "."
   ]
  },
  {
   "cell_type": "markdown",
   "metadata": {
    "id": "yiGydku_a6nE"
   },
   "source": [
    "## <font color='blue'>**Métodos de agregación y estadística**</font>\n",
    "\n",
    "Los dataframes poseen un útil método que devuelve información estadística sobre los valores contenidos en él: **pandas.DataFrame.describe**:"
   ]
  },
  {
   "cell_type": "code",
   "execution_count": null,
   "metadata": {
    "id": "dPZIn2awbB3E"
   },
   "outputs": [],
   "source": [
    "ventas = pd.DataFrame({\n",
    "    \"Entradas\": [41, 32, 56, 18],\n",
    "    \"Salidas\": [17, 54, 6, 78],\n",
    "    \"Valoración\": [66, 54, 49, 66],\n",
    "    \"Limite\": [\"No\", \"Si\", \"No\", \"No\"],\n",
    "    \"Cambio\": [1.43, 1.16, -0.67, 0.77]\n",
    "},\n",
    "index = [\"ene\", \"feb\", \"mar\", \"abr\"]\n",
    ")\n",
    "ventas"
   ]
  },
  {
   "cell_type": "code",
   "execution_count": null,
   "metadata": {
    "id": "cP38itrebuJj"
   },
   "outputs": [],
   "source": [
    "ventas.describe()"
   ]
  },
  {
   "cell_type": "markdown",
   "metadata": {
    "id": "Rx7fF0xLbzJ_"
   },
   "source": [
    "Este método devuelve el número de elementos no nulos por columna, el valor medio, la desviación estándar, el valor mínimo y el máximo, y los valores correspondientes a los percentiles 25, 50 y 75."
   ]
  },
  {
   "cell_type": "code",
   "execution_count": null,
   "metadata": {
    "id": "6I9SKeyLcDfE"
   },
   "outputs": [],
   "source": [
    "df = pd.DataFrame({\"A\": [3, 5, 2],\n",
    "                    \"B\": [1, 2, 3],\n",
    "                    \"C\": [4, 3, 4],\n",
    "                    \"D\": [6, 3, 1]},\n",
    "                   index = [\"ene\", \"feb\", \"mar\"])\n",
    "df"
   ]
  },
  {
   "cell_type": "markdown",
   "metadata": {
    "id": "_pCExmZfcY5N"
   },
   "source": [
    "**pandas.DataFrame.mean**, devuelve la media aritmética de los valores del dataframe a lo largo de un determinado eje (eje 0 -vertical- por defecto):"
   ]
  },
  {
   "cell_type": "code",
   "execution_count": null,
   "metadata": {
    "id": "ZO4z62N1cQwf"
   },
   "outputs": [],
   "source": [
    "df.mean()"
   ]
  },
  {
   "cell_type": "code",
   "execution_count": null,
   "metadata": {
    "id": "gtvIOh2IcgkN"
   },
   "outputs": [],
   "source": [
    "df.mean(axis = 1)"
   ]
  },
  {
   "cell_type": "markdown",
   "metadata": {
    "id": "fL16OHOZcmL0"
   },
   "source": [
    "* **pandas.DataFrame.median**: Devuelve la mediana de los valores del dataframe a lo largo de un determinado eje.\n",
    "* **pandas.DataFrame.mode**: Devuelve la moda de los valores del dataframe a lo largo de un determinado eje.\n",
    "* **pandas.DataFrame.std**: Devuelve la desviación estándar de los valores del dataframe a lo largo de un determinado eje.\n",
    "* **pandas.DataFrame.var**: Devuelve la varianza de los valores del dataframe a lo largo de un determinado eje\n",
    "* **pandas.DataFrame.pct_change**: Devuelve el porcentaje de cambio de un valor con respecto al de la fila anterior (también puede aplicarse a columnas usando el parámetro axis):"
   ]
  },
  {
   "cell_type": "code",
   "execution_count": null,
   "metadata": {
    "id": "ipNsvQdhdDc-"
   },
   "outputs": [],
   "source": [
    "df = pd.DataFrame({\"A\": [3, 5, 2, 4],\n",
    "                    \"B\": [1, 2, 3, 3],\n",
    "                    \"C\": [4, 3, 4, 6],\n",
    "                    \"D\": [6, 3, 1, 3]},\n",
    "                   index = [\"ene\", \"feb\", \"mar\", \"abr\"])\n",
    "df"
   ]
  },
  {
   "cell_type": "code",
   "execution_count": null,
   "metadata": {
    "id": "eYTOYqubdbB3"
   },
   "outputs": [],
   "source": [
    "df.pct_change()"
   ]
  },
  {
   "cell_type": "markdown",
   "metadata": {
    "id": "rlyyKogXdhgS"
   },
   "source": [
    "Para los valores de la primera fila, al no existir una anterior con respecto a la que realizar el cálculo, reciben un valor NaN por defecto. En todo caso, es posible regular el comportamiento del método al respecto de los valores NaN con el parámetro **fill_method**."
   ]
  },
  {
   "cell_type": "markdown",
   "metadata": {
    "id": "fQYeDVxpdqPb"
   },
   "source": [
    "**pandas.DataFrame.nunique**: Devuelve el número de elementos distintos a lo largo de un determinado eje. El parámetro dropna controla si se incluyen los NaN en el recuento o no."
   ]
  },
  {
   "cell_type": "code",
   "execution_count": null,
   "metadata": {
    "id": "ZhjttzZ_dwNK"
   },
   "outputs": [],
   "source": [
    "df.nunique()"
   ]
  },
  {
   "cell_type": "markdown",
   "metadata": {
    "id": "642ZgWSVeAeh"
   },
   "source": [
    "## <font color='blue'>**Operaciones entre dataframes y series**</font>\n",
    "\n",
    "Podemos operar entre un dataframe y una serie."
   ]
  },
  {
   "cell_type": "code",
   "execution_count": null,
   "metadata": {
    "id": "xYCoJYVZeHHO"
   },
   "outputs": [],
   "source": [
    "df = pd.DataFrame({\"A\": [3, 5, 2],\n",
    "                    \"B\": [1, 2, 3],\n",
    "                    \"C\": [4, 3, 4],\n",
    "                    \"D\": [6, 3, 1]},\n",
    "                   index = [\"ene\", \"feb\", \"mar\"])\n",
    "df"
   ]
  },
  {
   "cell_type": "code",
   "execution_count": null,
   "metadata": {
    "id": "o4AObj52eO4L"
   },
   "outputs": [],
   "source": [
    "s = pd.Series([2, 1, 0, 2], index = [\"A\", \"B\", \"C\", \"D\"])\n",
    "s"
   ]
  },
  {
   "cell_type": "code",
   "execution_count": null,
   "metadata": {
    "id": "xx8DjjBBea_1"
   },
   "outputs": [],
   "source": [
    "df + s"
   ]
  },
  {
   "cell_type": "markdown",
   "metadata": {
    "id": "T4A0uNMxefV8"
   },
   "source": [
    "La operación se ha realizado **\"row-wise\"**, aplicando la suma fila por fila, tras haberse alineado el dataframe y la serie según las etiquetas del índice de columnas.\n",
    "\n",
    "En el caso de que las columnas no sean completamente coincidentes, se rellenan los elementos desconocidos con NaN."
   ]
  },
  {
   "cell_type": "code",
   "execution_count": null,
   "metadata": {
    "id": "QLtRLytZem_d"
   },
   "outputs": [],
   "source": [
    "s = pd.Series([2, 1, 0, 2], index = [\"A\", \"B\", \"E\", \"D\"])\n",
    "df + s"
   ]
  },
  {
   "cell_type": "markdown",
   "metadata": {
    "id": "Ujc4dAqnevGq"
   },
   "source": [
    "Es posible usar los métodos vistos en la sección anterior para operar también entre dataframes y series, pudiendo especificar el eje a lo largo del cual quiere realizarse la operación."
   ]
  },
  {
   "cell_type": "code",
   "execution_count": null,
   "metadata": {
    "id": "89FSNLEsezUz"
   },
   "outputs": [],
   "source": [
    "df = pd.DataFrame({\"A\": [3, 5, 2],\n",
    "                    \"B\": [1, 2, 3],\n",
    "                    \"C\": [4, 3, 4],\n",
    "                    \"D\": [6, 3, 1]},\n",
    "                   index = [\"ene\", \"feb\", \"mar\"])\n",
    "df"
   ]
  },
  {
   "cell_type": "code",
   "execution_count": null,
   "metadata": {
    "id": "w7SOwskBe7L0"
   },
   "outputs": [],
   "source": [
    "s = pd.Series([2, 1, 0], index = [\"ene\", \"feb\", \"mar\"])\n",
    "s"
   ]
  },
  {
   "cell_type": "code",
   "execution_count": null,
   "metadata": {
    "id": "lP3BrqJpfEEH"
   },
   "outputs": [],
   "source": [
    "df.add(s, axis = 0)"
   ]
  },
  {
   "cell_type": "markdown",
   "metadata": {
    "id": "dPnzzh1bI852"
   },
   "source": [
    "## <font color='green'>**Ejercicio 2**</font>\n",
    "\n",
    "Para cada integrante del grupo "
   ]
  },
  {
   "cell_type": "markdown",
   "metadata": {
    "id": "l9aAEXMDkV0I"
   },
   "source": [
    "# <font color='blue'>**Reindexación**</font>\n",
    "\n",
    "Creación de una copia de una estructura pandas -una serie o un dataframe- en base a un nuevo índice."
   ]
  },
  {
   "cell_type": "markdown",
   "metadata": {
    "id": "4NBoOWxckmg1"
   },
   "source": [
    "# <font color='blue'>**Reindexación de series**</font>\n",
    "\n",
    "El método básico para la reindexación de series es **pandas.Series.reindex**. Este método devuelve una copia de una serie basándose en el índice modificado de la serie original."
   ]
  },
  {
   "cell_type": "code",
   "execution_count": null,
   "metadata": {
    "id": "RuvjNKg2ky3R"
   },
   "outputs": [],
   "source": [
    "s = pd.Series([1, 2, 3, 4, 5], index = [\"a\", \"c\", \"f\", \"g\", \"j\"])\n",
    "s"
   ]
  },
  {
   "cell_type": "markdown",
   "metadata": {
    "id": "GrCPzYRRlLGK"
   },
   "source": [
    "Se trata de una serie cuyas etiquetas son letras no consecutivas. Es posible generar una copia reindexada de esta serie de la siguiente forma:\n",
    "\n"
   ]
  },
  {
   "cell_type": "code",
   "execution_count": null,
   "metadata": {
    "id": "4G2j1PYUlR_t"
   },
   "outputs": [],
   "source": [
    "r = s.reindex([\"g\", \"c\", \"a\", \"j\", \"f\"])\n",
    "r"
   ]
  },
  {
   "cell_type": "markdown",
   "metadata": {
    "id": "GnAJhmyPlhNz"
   },
   "source": [
    "El primer argumento siempre es el nuevo índice. En el caso anterior se trata de una versión desordenada del índice original, por lo que la serie generada es también una versión desordenada de la original.\n",
    "\n",
    "Si el nuevo índice es un subconjunto del original, la serie generada no contendrá todos los valores de la serie de la que se patió, tan solo los incluidos en el nuevo índice. En el siguiente ejemplo, el nuevo índice no incluye la etiqueta \"a\" por lo que la serie generada no incluye el valor correspondiente (1):"
   ]
  },
  {
   "cell_type": "code",
   "execution_count": null,
   "metadata": {
    "id": "sQJ8QF0XlxX2"
   },
   "outputs": [],
   "source": [
    "r = s.reindex([\"g\", \"c\", \"j\", \"f\"])\n",
    "r"
   ]
  },
  {
   "cell_type": "markdown",
   "metadata": {
    "id": "np4ocTonl5vL"
   },
   "source": [
    "Por el contrario, si en el nuevo índice se incluyen etiquetas no incluidas en el índice original, la nueva serie incluirá dicha etiqueta pero el valor asignado a ella recibe el valor por defecto NaN. En este próximo ejemplo incluimos la etiqueta \"e\" (no presente en el índice original) en el nuevo índice:"
   ]
  },
  {
   "cell_type": "code",
   "execution_count": null,
   "metadata": {
    "id": "TDa09df6l_gL"
   },
   "outputs": [],
   "source": [
    "r = s.reindex([\"g\", \"c\", \"e\", \"a\", \"j\", \"f\"])\n",
    "r"
   ]
  },
  {
   "cell_type": "markdown",
   "metadata": {
    "id": "tD_JMfbjmMoH"
   },
   "source": [
    "Este valor de relleno (\"NaN\") es personalizable usando el parámetro **fill_value**. Si repetimos las instrucciones anteriores especificando que el valor de relleno sea, por ejemplo, 0:"
   ]
  },
  {
   "cell_type": "code",
   "execution_count": null,
   "metadata": {
    "id": "1ePUkZnamVZN"
   },
   "outputs": [],
   "source": [
    "r = s.reindex([\"g\", \"c\", \"e\", \"a\", \"j\", \"f\"], fill_value = 0)\n",
    "r"
   ]
  },
  {
   "cell_type": "markdown",
   "metadata": {
    "id": "e8J6C2PFmdfa"
   },
   "source": [
    "Una alternativa a fijar el valor de relleno por defecto es aplicar \"lógica de relleno\", rellenando los valores inexistentes con otro valor que sí exista. Tenemos tres opciones..."
   ]
  },
  {
   "cell_type": "markdown",
   "metadata": {
    "id": "ASPz4V2fqgoJ"
   },
   "source": [
    "## <font color='blue'>**Forward fill**</font>\n",
    "\n",
    "La primera opción consiste en rellenar los valores inexistentes \"hacia adelante\", haciendo que los valores existentes rellenen los valores inexistentes que los sigan. O, en otras palabras, rellenar los valores inexistentes con el primer valor existente que los precedan:"
   ]
  },
  {
   "cell_type": "code",
   "execution_count": null,
   "metadata": {
    "id": "6WapxMInrR3O"
   },
   "outputs": [],
   "source": [
    "s = pd.Series([1, 2, 3, 4, 5], index = [\"a\", \"c\", \"f\", \"g\", \"j\"])\n",
    "s"
   ]
  },
  {
   "cell_type": "code",
   "execution_count": null,
   "metadata": {
    "id": "jpWWLGcbqviH"
   },
   "outputs": [],
   "source": [
    "r = s.reindex([\"g\", \"c\", \"e\", \"a\", \"j\", \"f\"], method = \"ffill\")\n",
    "r"
   ]
  },
  {
   "cell_type": "markdown",
   "metadata": {
    "id": "rayp36birKNJ"
   },
   "source": [
    "En este caso, el valor correspondiente a la etiqueta \"e\" se rellena con el valor de la etiqueta anterior \"c\". Pero no la anterior en el nuevo índice, sino la anterior en el índice original. Veámoslos con otro ejemplo:"
   ]
  },
  {
   "cell_type": "code",
   "execution_count": null,
   "metadata": {
    "id": "GxgQj9UZrYIy"
   },
   "outputs": [],
   "source": [
    "r = s.reindex([\"g\", \"c\", \"m\", \"a\", \"j\", \"f\"], method = \"ffill\")\n",
    "r"
   ]
  },
  {
   "cell_type": "markdown",
   "metadata": {
    "id": "jS8O5h7Qre8h"
   },
   "source": [
    "Ahora, la etiqueta nueva es \"m\", siendo precedida en el índice original por la \"j\" (si se ordenan alfabéticamente), por lo que el valor que recibe r[\"m\"] es el que tenía r[\"j\"]: 5."
   ]
  },
  {
   "cell_type": "markdown",
   "metadata": {
    "id": "3wQDCGW2rwj5"
   },
   "source": [
    "## <font color='blue'>**Backward fill**</font>\n",
    "\n",
    "En este otro caso, los valores inexistentes se rellenan \"hacia atrás\", con el primer valor existente que los siga."
   ]
  },
  {
   "cell_type": "code",
   "execution_count": null,
   "metadata": {
    "id": "422tBmlor9ZJ"
   },
   "outputs": [],
   "source": [
    "s = pd.Series([1, 2, 3, 4, 5], index = [\"a\", \"c\", \"f\", \"g\", \"j\"])\n",
    "s"
   ]
  },
  {
   "cell_type": "code",
   "execution_count": null,
   "metadata": {
    "id": "INeBaxwKr2ig"
   },
   "outputs": [],
   "source": [
    "r = s.reindex([\"g\", \"c\", \"e\", \"a\", \"j\", \"f\"], method = \"bfill\")\n",
    "r"
   ]
  },
  {
   "cell_type": "markdown",
   "metadata": {
    "id": "rulTk2FBsFTU"
   },
   "source": [
    "Nuevamente, la etiqueta no existente en el índice original es \"e\", y el valor que se le asigna es el correspondiente a la etiqueta que seguía a \"e\" en dicho índice (si se ordenan alfabéticamente): \"f\". Por lo tanto, se asigna a r[\"e\"] el valor de r[\"f\"]: 3."
   ]
  },
  {
   "cell_type": "markdown",
   "metadata": {
    "id": "dqgxfBe_sLji"
   },
   "source": [
    "## <font color='blue'>**Nearest (el más cercano)**</font>\n",
    "\n",
    "La tercera opción asigna a cada valor desconocido el valor más próximo en la serie original. Para ver esta opción en funcionamiento necesitamos partir de una serie cuyo índice sea numérico (la operación \"sustracción\" en la que se basa esta tercera opción no está soportada entre cadenas de texto)."
   ]
  },
  {
   "cell_type": "code",
   "execution_count": null,
   "metadata": {
    "id": "xYhLdvE4sUtb"
   },
   "outputs": [],
   "source": [
    "s = pd.Series([100, 200, 300, 400, 500], index = [10, 20, 30, 40, 50])\n",
    "s"
   ]
  },
  {
   "cell_type": "markdown",
   "metadata": {
    "id": "61SKXjpcsebl"
   },
   "source": [
    "Una serie cuyo índice está formado por múltiplos de 10. Generemos ahora una copia del mismo con el índice [20, 40, 19] aplicando como método de relleno \"nearest\"."
   ]
  },
  {
   "cell_type": "code",
   "execution_count": null,
   "metadata": {
    "id": "TRWGN2keskpR"
   },
   "outputs": [],
   "source": [
    "r = s.reindex([20, 40, 19], method = \"nearest\")\n",
    "r"
   ]
  },
  {
   "cell_type": "markdown",
   "metadata": {
    "id": "1WSZCX-WsvPq"
   },
   "source": [
    "El método ha incluido el índice 19 y le ha asignado el valor del índice más próximo (20), es decir, el valor de s[20] (200)."
   ]
  },
  {
   "cell_type": "code",
   "execution_count": null,
   "metadata": {
    "id": "0HfYm7d9szgO"
   },
   "outputs": [],
   "source": [
    "r = s.reindex([20, 40, 11], method = \"nearest\")\n",
    "r"
   ]
  },
  {
   "cell_type": "markdown",
   "metadata": {
    "id": "6aSd9VEJs5J8"
   },
   "source": [
    "En este caso, el índice más próximo es 10, y el valor asignado es, por lo tanto, s[10]: 100."
   ]
  },
  {
   "cell_type": "markdown",
   "metadata": {
    "id": "8PM__lvwtBLM"
   },
   "source": [
    "# <font color='blue'>**Reindexación de dataframes**</font>\n",
    "\n",
    "El método **pandas.DataFrame.reindex** ofrece una funcionalidad semejante a la disponible para series con la particularidad de que, en este caso, podemos reindexar por filas y/o por columnas. Por defecto, este método acepta una secuencia de etiquetas que determinarán qué filas se incluyen y en qué orden (es decir, por defecto la reindexación se aplica al eje 0)."
   ]
  },
  {
   "cell_type": "code",
   "execution_count": null,
   "metadata": {
    "id": "RawH-UrrtKzH"
   },
   "outputs": [],
   "source": [
    "df = pd.DataFrame(np.arange(15).reshape([5, 3]),\n",
    "                  index = [\"a\", \"b\", \"c\", \"d\", \"e\"],\n",
    "                  columns = [\"A\", \"B\", \"C\"])\n",
    "df"
   ]
  },
  {
   "cell_type": "code",
   "execution_count": null,
   "metadata": {
    "id": "VjI-6EnStg6Q"
   },
   "outputs": [],
   "source": [
    "df.reindex([\"d\", \"b\"])"
   ]
  },
  {
   "cell_type": "markdown",
   "metadata": {
    "id": "SsrPl5_WtokR"
   },
   "source": [
    "En este ejemplo, partimos de un dataframe cuyo índice de filas tiene las etiquetas \"a\", \"b\", \"c\", \"d\" y \"e\", y hemos indicado como nuevo índice las etiquetas \"d\" y \"b\" (en este orden), y son estas filas (en ese orden) las que se devuelven como resultado.\n",
    "\n",
    "Este método permite especificar las etiquetas de filas como hemos visto, pasándoselas al método como primer argumento, o con el parámetro **index**."
   ]
  },
  {
   "cell_type": "code",
   "execution_count": null,
   "metadata": {
    "id": "kRn5ok0Gtwfd"
   },
   "outputs": [],
   "source": [
    "df.reindex(index = [\"d\", \"b\"])"
   ]
  },
  {
   "cell_type": "markdown",
   "metadata": {
    "id": "yAz3OEdAt3QP"
   },
   "source": [
    "El parámetro **columns**, por su parte, permite especificar el nuevo índice de columnas:\n",
    "\n"
   ]
  },
  {
   "cell_type": "code",
   "execution_count": null,
   "metadata": {
    "id": "pwZm4Y5Ht-kI"
   },
   "outputs": [],
   "source": [
    "df.reindex(columns = [\"A\", \"C\"])"
   ]
  },
  {
   "cell_type": "markdown",
   "metadata": {
    "id": "H-9Tr2h5uEo1"
   },
   "source": [
    "Si utilizamos ambos parámetros al mismo tiempo, imponemos simultáneamente el nuevo índice para filas y columnas."
   ]
  },
  {
   "cell_type": "code",
   "execution_count": null,
   "metadata": {
    "id": "UbNaYQyxuG79"
   },
   "outputs": [],
   "source": [
    "df.reindex(index = [\"a\", \"c\", \"f\"], columns = [\"A\", \"D\", \"C\"])"
   ]
  },
  {
   "cell_type": "markdown",
   "metadata": {
    "id": "CfVRvZcuuU5a"
   },
   "source": [
    "Podemos asignar a los valores inexistentes un valor concreto usando el parámetro **fill_value**, o podemos aplicar \"lógica de relleno\" con el parámetro **method**, permitiéndonos rellenar los valores inexistentes hacia adelante o hacia atrás.\n",
    "\n",
    "Y, por supuesto, si los nuevos índices contienen los mismos elementos que los índices originales pero en otro orden, el resultado del método será equivalente al original ordenado según el nuevo criterio."
   ]
  },
  {
   "cell_type": "code",
   "execution_count": null,
   "metadata": {
    "id": "p4HsqEk_udwk"
   },
   "outputs": [],
   "source": [
    "df.reindex(index = [\"a\", \"c\", \"b\", \"e\", \"d\"], columns = [\"B\", \"C\", \"A\"])"
   ]
  },
  {
   "cell_type": "markdown",
   "metadata": {
    "id": "tMKqq5kWusAV"
   },
   "source": [
    "## <font color='blue'>**Método set_index**</font>\n",
    "\n",
    "El método **pandas.DataFrame.set_index** fija una columna del dataframe como índice, descartando el índice existente."
   ]
  },
  {
   "cell_type": "code",
   "execution_count": null,
   "metadata": {
    "id": "QEH7lSSWu0Tw"
   },
   "outputs": [],
   "source": [
    "df = pd.DataFrame({\n",
    "    \"año\": [2016, 2017, 2018],\n",
    "    \"mes\": [\"ene\", \"sep\", \"jun\"],\n",
    "    \"ventas\": [87, 34, 112]\n",
    "})\n",
    "df"
   ]
  },
  {
   "cell_type": "markdown",
   "metadata": {
    "id": "S7igAni_u5RV"
   },
   "source": [
    "Vemos que se ha asignado un índice automático. Si ejecutamos el método set_index indicando como argumento el campo \"mes\"."
   ]
  },
  {
   "cell_type": "code",
   "execution_count": null,
   "metadata": {
    "id": "3vv8nkU4u8SZ"
   },
   "outputs": [],
   "source": [
    "df.set_index(\"mes\")"
   ]
  },
  {
   "cell_type": "markdown",
   "metadata": {
    "id": "316SciwavA_o"
   },
   "source": [
    "Se fija dicha columna como índice y se elimina del conjunto de características. Aunque esta eliminación es el comportamiento por defecto, podemos controlarlo con el parámetro drop."
   ]
  },
  {
   "cell_type": "code",
   "execution_count": null,
   "metadata": {
    "id": "z_BkqSMQvFVD"
   },
   "outputs": [],
   "source": [
    "df.set_index(\"mes\", drop = False)"
   ]
  },
  {
   "cell_type": "markdown",
   "metadata": {
    "id": "Oy4-op7evM0z"
   },
   "source": [
    "# <font color='blue'>**Multi-indexación**</font>\n",
    "\n",
    "Hasta ahora hemos visto series y dataframes pandas con índices sencillos, pero pueden tener también índices jerárquicos o multi-índices, lo que abre la puerta a sofisticados procesos de manipulación y análisis de datos.\n",
    "\n",
    "Podemos imaginarnos un multi-índice como un índice en el que cada valor es una tupla única de elementos. Es posible crear estos multi-índices y extraerlos posteriormente de varias formas."
   ]
  },
  {
   "cell_type": "markdown",
   "metadata": {
    "id": "Lulg3AsDvesM"
   },
   "source": [
    "## <font color='blue'>**Creación de multi-índices**</font>\n",
    "\n",
    "Podemos crear un multi-índice de cuatro formas distintas:\n",
    "\n",
    "* A partir de una lista de arrays, usando el método **pd.MultiIndex.from_arrays()**\n",
    "* A partir de un array de tuplas, usando el método **pd.MultiIndex.from_tuples()**\n",
    "* A partir del producto cartesiano de los valores de dos iterables, usando el método **pd.MultiIndex.from_product()**\n",
    "* A partir de un DataFrame, usando el método **pd.MultiIndex.from_frame()**"
   ]
  },
  {
   "cell_type": "markdown",
   "metadata": {
    "id": "yKfm-Oc8vwGc"
   },
   "source": [
    "## <font color='blue'>**Multi-índices a partir de una lista de arrays**</font>\n",
    "\n",
    "El primer método es aquel en el que creamos el multi-índice indicando cada una de las columnas que lo van a formar."
   ]
  },
  {
   "cell_type": "code",
   "execution_count": null,
   "metadata": {
    "id": "SMK912uYv7Id"
   },
   "outputs": [],
   "source": [
    "index = pd.MultiIndex.from_arrays(\n",
    "    [\n",
    "        [2018, 2018, 2018, 2019, 2019, 2019],\n",
    "        [\"España\", \"Portugal\", \"Francia\", \"España\", \"Portugal\", \"Francia\"]\n",
    "    ],\n",
    "    names = [\"Año\", \"País\"]\n",
    ")\n",
    "index"
   ]
  },
  {
   "cell_type": "markdown",
   "metadata": {
    "id": "-2Ub4hZTwB6a"
   },
   "source": [
    "El parámetro **names** permite especificar los nombres de los niveles del índice jerárquico.\n",
    "\n",
    "Al llevar este multi-índice a un dataframe se obtiene el siguiente resultado:"
   ]
  },
  {
   "cell_type": "code",
   "execution_count": null,
   "metadata": {
    "id": "JqKJv3OOwJq-"
   },
   "outputs": [],
   "source": [
    "data = pd.DataFrame(data = [18, 20, 10, 15, 12, 18], index = index, columns = [\"Ventas\"])\n",
    "data"
   ]
  },
  {
   "cell_type": "markdown",
   "metadata": {
    "id": "xMmiMBviwXQt"
   },
   "source": [
    "## <font color='blue'>**Multi-índices a partir de un array de tuplas**</font>\n",
    "\n",
    "En este segundo método indicamos los valores del multi-índice valor por valor, siendo éstos tuplas.\n"
   ]
  },
  {
   "cell_type": "code",
   "execution_count": null,
   "metadata": {
    "id": "7vBpMpmvwc-1"
   },
   "outputs": [],
   "source": [
    "index = pd.MultiIndex.from_tuples(\n",
    "    [\n",
    "    (2018, \"España\"),\n",
    "    (2018, \"Portugal\"),\n",
    "    (2018, \"Francia\"),\n",
    "    (2019, \"España\"),\n",
    "    (2019, \"Portugal\"),\n",
    "    (2019, \"Francia\")\n",
    "    ],\n",
    "    names = [\"Año\", \"País\"])\n",
    "index"
   ]
  },
  {
   "cell_type": "markdown",
   "metadata": {
    "id": "OjjHT0VIwhTv"
   },
   "source": [
    "Seguimos teniendo a nuestra disposición el parámetro names para especificar los nombres de los niveles.\n",
    "\n",
    "Si creamos nuestro DataFrame vemos que el resultado es el mismo que el que habíamos obtenido:"
   ]
  },
  {
   "cell_type": "code",
   "execution_count": null,
   "metadata": {
    "id": "BJBiE0kywk4D"
   },
   "outputs": [],
   "source": [
    "data = pd.DataFrame(data = [18, 20, 10, 15, 12, 18], index = index, columns = [\"Ventas\"])\n",
    "data"
   ]
  },
  {
   "cell_type": "markdown",
   "metadata": {
    "id": "WgseWjv7wo0F"
   },
   "source": [
    "## <font color='blue'>**Multi-índices por producto cartesiano de arrays**</font>\n",
    "\n",
    "El tercer método nos permite especificar los valores (únicos) de los diferentes niveles, creándose el índice jerárquico como resultado del producto escalar de los valores. Por ejemplo:\n"
   ]
  },
  {
   "cell_type": "code",
   "execution_count": null,
   "metadata": {
    "id": "p_6tK8wSwvdB"
   },
   "outputs": [],
   "source": [
    "index = pd.MultiIndex.from_product(\n",
    "    [\n",
    "        [2018, 2019],\n",
    "        [\"España\", \"Portugal\", \"Francia\"]\n",
    "    ],\n",
    "    names = [\"Año\", \"País\"]\n",
    ")\n",
    "index"
   ]
  },
  {
   "cell_type": "markdown",
   "metadata": {
    "id": "o4pn4HMjw0Hm"
   },
   "source": [
    "Nuevamente, el parámetro names nos permite dar nombre a los niveles.\n",
    "\n",
    "El resultado de llevar este índice a nuestro DataFrame es el ya conocido:"
   ]
  },
  {
   "cell_type": "code",
   "execution_count": null,
   "metadata": {
    "id": "SKDLUnXfw2DL"
   },
   "outputs": [],
   "source": [
    "data = pd.DataFrame(data = [18, 20, 10, 15, 12, 18], index = index, columns = [\"Ventas\"])\n",
    "data"
   ]
  },
  {
   "cell_type": "markdown",
   "metadata": {
    "id": "y-rUVltqw8dv"
   },
   "source": [
    "## <font color='blue'>**Multi-índices a partir de un DataFrame**</font>\n",
    "\n",
    "Por último, podemos crear el multi-índice a partir de un DataFrame en el que cada columna coincide con una columna del multi-índice."
   ]
  },
  {
   "cell_type": "code",
   "execution_count": null,
   "metadata": {
    "id": "LiT3lr5LxDED"
   },
   "outputs": [],
   "source": [
    "df = pd.DataFrame({\n",
    "    \"Año\":[2018, 2018, 2018, 2019, 2019, 2019],\n",
    "    \"País\": [\"España\", \"Portugal\", \"Francia\", \"España\", \"Portugal\", \"Francia\"]\n",
    "})\n",
    "df"
   ]
  },
  {
   "cell_type": "markdown",
   "metadata": {
    "id": "0qGiFwRexHv8"
   },
   "source": [
    "Ahora podemos crear el índice:\n",
    "\n"
   ]
  },
  {
   "cell_type": "code",
   "execution_count": null,
   "metadata": {
    "id": "T5nsfIuJxIHE"
   },
   "outputs": [],
   "source": [
    "index = pd.MultiIndex.from_frame(df)\n",
    "index"
   ]
  },
  {
   "cell_type": "markdown",
   "metadata": {
    "id": "_ZNj0xphxMcQ"
   },
   "source": [
    "DataFrame con índice jerárquico:"
   ]
  },
  {
   "cell_type": "code",
   "execution_count": null,
   "metadata": {
    "id": "l8-vB27lxNFE"
   },
   "outputs": [],
   "source": [
    "data = pd.DataFrame(data = [18, 20, 10, 15, 12, 18], index = index, columns = [\"Ventas\"])\n",
    "data"
   ]
  },
  {
   "cell_type": "markdown",
   "metadata": {
    "id": "wv0EZLsFz7M4"
   },
   "source": [
    "## <font color='blue'>**Extracción de un nivel del índice**</font>\n",
    "\n",
    "Trabajando con un DataFrame o una Serie pandas con multi-índice, es posible extraer los valores de un nivel del índice con el método **.get_level_values()**. El parámetro que deberemos pasar a este método será o el número del nivel o su nombre -si es que el índice ha recibido nombres-."
   ]
  },
  {
   "cell_type": "code",
   "execution_count": null,
   "metadata": {
    "id": "gahW7BL_0H-D"
   },
   "outputs": [],
   "source": [
    "index = pd.MultiIndex.from_product(\n",
    "    [[2018, 2019],[\"España\", \"Portugal\", \"Francia\"]],\n",
    "    names = [\"Año\", \"País\"]\n",
    ")\n",
    "data = pd.DataFrame(data = [18, 20, 10, 15, 12, 18], index = index, columns = [\"Ventas\"])\n",
    "data"
   ]
  },
  {
   "cell_type": "markdown",
   "metadata": {
    "id": "dnpkOhAA0Ne8"
   },
   "source": [
    "La columna de etiquetas del multi-índice situada en el extremo izquierdo es la que recibe el número (el índice) 0. Por lo tanto:"
   ]
  },
  {
   "cell_type": "code",
   "execution_count": null,
   "metadata": {
    "id": "uXYfI2fj0Qis"
   },
   "outputs": [],
   "source": [
    "data.index.get_level_values(0)"
   ]
  },
  {
   "cell_type": "markdown",
   "metadata": {
    "id": "iFcKKVaX0V5z"
   },
   "source": [
    "De forma semejante:"
   ]
  },
  {
   "cell_type": "code",
   "execution_count": null,
   "metadata": {
    "id": "UGfbFVrO0WZc"
   },
   "outputs": [],
   "source": [
    "data.index.get_level_values(1)"
   ]
  },
  {
   "cell_type": "markdown",
   "metadata": {
    "id": "JPfA0QV-0aZM"
   },
   "source": [
    "Si pasamos como argumento el nombre de la columna del índice obtenemos resultados semejantes:"
   ]
  },
  {
   "cell_type": "code",
   "execution_count": null,
   "metadata": {
    "id": "jj2U-euB0b_Y"
   },
   "outputs": [],
   "source": [
    "data.index.get_level_values(\"Año\")"
   ]
  },
  {
   "cell_type": "code",
   "execution_count": null,
   "metadata": {
    "id": "ZD0dThjw0gDa"
   },
   "outputs": [],
   "source": [
    "data.index.get_level_values(\"País\")"
   ]
  },
  {
   "cell_type": "markdown",
   "metadata": {
    "id": "Yz7XMBAY0mL4"
   },
   "source": [
    "## <font color='blue'>**Selección con multi-índices**</font>\n",
    "\n",
    "El trabajar con estructuras pandas con multi-índices nos ofrece nuevos métodos de selección de datos."
   ]
  },
  {
   "cell_type": "code",
   "execution_count": null,
   "metadata": {
    "id": "A38yeHco0sC-"
   },
   "outputs": [],
   "source": [
    "index = pd.MultiIndex.from_product(\n",
    "    [[2018, 2019],[\"España\", \"Portugal\", \"Francia\"]],\n",
    "    names = [\"Año\", \"País\"]\n",
    ")\n",
    "data = pd.DataFrame(data = [18, 20, 10, 15, 12, 18], index = index, columns = [\"Ventas\"])\n",
    "data"
   ]
  },
  {
   "cell_type": "markdown",
   "metadata": {
    "id": "8HwpDyhJ0x4S"
   },
   "source": [
    "Podemos extraer las filas correspondientes al año 2018 con la siguiente expresión:"
   ]
  },
  {
   "cell_type": "code",
   "execution_count": null,
   "metadata": {
    "id": "J_A5rHlc00_P"
   },
   "outputs": [],
   "source": [
    "data.loc[2018]"
   ]
  },
  {
   "cell_type": "markdown",
   "metadata": {
    "id": "alJqg5PS06yz"
   },
   "source": [
    "O extraer el valor del campo \"Ventas\" correspondiente al año 2018 y el país \"España\" con la siguiente expresión:"
   ]
  },
  {
   "cell_type": "code",
   "execution_count": null,
   "metadata": {
    "id": "vYzSohpU0-Bb"
   },
   "outputs": [],
   "source": [
    "data.loc[(2018, \"España\")]"
   ]
  },
  {
   "cell_type": "markdown",
   "metadata": {
    "id": "lyxTQek31Erz"
   },
   "source": [
    "## <font color='blue'>**Aplicación de funciones estadísticas**</font>\n",
    "\n",
    "Usando multi-índices, también es posible aplicar funciones estadísticas al DataFrame o a la Serie especificando el nivel de la jerarquía al que aplicarlas."
   ]
  },
  {
   "cell_type": "code",
   "execution_count": null,
   "metadata": {
    "id": "sFj2KD8Q1KFN"
   },
   "outputs": [],
   "source": [
    "index = pd.MultiIndex.from_product(\n",
    "    [[2018, 2019],[\"España\", \"Portugal\", \"Francia\"]],\n",
    "    names = [\"Año\", \"País\"]\n",
    ")\n",
    "data = pd.DataFrame(data = [18, 20, 10, 15, 12, 18], index = index, columns = [\"Ventas\"])\n",
    "data"
   ]
  },
  {
   "cell_type": "markdown",
   "metadata": {
    "id": "I3tBc4Bm1NIH"
   },
   "source": [
    "Podemos calcular el valor medio de las ventas, como ya sabemos con el método .mean():"
   ]
  },
  {
   "cell_type": "code",
   "execution_count": null,
   "metadata": {
    "id": "FjMGCaRL1QgE"
   },
   "outputs": [],
   "source": [
    "data.mean()"
   ]
  },
  {
   "cell_type": "markdown",
   "metadata": {
    "id": "Uhs3_p-s1U-u"
   },
   "source": [
    "Pero si especificamos el nivel al que queremos aplicarlo, el DataFrame se agrega según los valores de dicho nivel antes de realizar la operación."
   ]
  },
  {
   "cell_type": "code",
   "execution_count": null,
   "metadata": {
    "id": "Kj4kByDk1W_c"
   },
   "outputs": [],
   "source": [
    "data.mean(level = \"Año\")"
   ]
  },
  {
   "cell_type": "markdown",
   "metadata": {
    "id": "Jp9lY58R1akW"
   },
   "source": [
    "O el valor medio por país:"
   ]
  },
  {
   "cell_type": "code",
   "execution_count": null,
   "metadata": {
    "id": "01ZzaQHZ1bNL"
   },
   "outputs": [],
   "source": [
    "data.mean(level = \"País\")"
   ]
  }
 ],
 "metadata": {
  "colab": {
   "name": "6-Librería Pandas Parte 2.ipynb",
   "provenance": []
  },
  "kernelspec": {
   "display_name": "Python 3",
   "language": "python",
   "name": "python3"
  },
  "language_info": {
   "codemirror_mode": {
    "name": "ipython",
    "version": 3
   },
   "file_extension": ".py",
   "mimetype": "text/x-python",
   "name": "python",
   "nbconvert_exporter": "python",
   "pygments_lexer": "ipython3",
   "version": "3.7.5"
  }
 },
 "nbformat": 4,
 "nbformat_minor": 1
}
