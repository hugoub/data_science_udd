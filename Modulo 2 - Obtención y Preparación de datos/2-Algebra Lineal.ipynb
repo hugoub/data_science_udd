{
 "cells": [
  {
   "cell_type": "markdown",
   "metadata": {
    "id": "cb8LIsQOY3ka"
   },
   "source": [
    "# <font color='blue'>**Algebra Lineal**</font>"
   ]
  },
  {
   "cell_type": "code",
   "execution_count": 1,
   "metadata": {
    "id": "ChcOIPuiY3kb"
   },
   "outputs": [],
   "source": [
    "%matplotlib inline\n",
    "import matplotlib\n",
    "import seaborn as sns\n",
    "import numpy as np\n",
    "sns.set()\n",
    "matplotlib.rcParams['figure.dpi'] = 144"
   ]
  },
  {
   "cell_type": "markdown",
   "metadata": {
    "id": "f7CMXXkQY3kg"
   },
   "source": [
    "El **álgebra lineal** es una rama de las matemáticas que estudia conceptos tales como vectores, matrices, espacio dual, sistemas de ecuaciones lineales y en su enfoque de manera más formal, espacios vectoriales y sus transformaciones lineales.\n",
    "\n",
    "Es un área activa que tiene conexiones con muchas áreas dentro y fuera de las matemáticas, como el análisis funcional, las ecuaciones diferenciales, la investigación de operaciones, las gráficas por computadora, la ingeniería, etc.\n",
    "\n",
    "**Es el lenguaje de muchas teorías matemáticas y físicas, machine learning y computación eficiente.**"
   ]
  },
  {
   "cell_type": "markdown",
   "metadata": {
    "id": "4caUUwZ2Y3kh"
   },
   "source": [
    "## <font color='blue'>**Ecuaciones lineales**</font>"
   ]
  },
  {
   "cell_type": "markdown",
   "metadata": {
    "id": "-Up8fbPbY3ki"
   },
   "source": [
    "Una ecuación lineal o de primer orden es una igualdad que involucra una o más variables a la primera potencia y no contiene productos entre las variables, es decir, una ecuación que involucra solamente sumas y restas de una variable a la primera potencia. Por ejemplo:\n",
    "\n",
    " 1. $y = 1.75$\n",
    " 1. $\\pi w - e y = 3 x$\n",
    " 1. $5(x + y + z) = 7y$"
   ]
  },
  {
   "cell_type": "markdown",
   "metadata": {
    "id": "rFVpM4oaY3ki"
   },
   "source": [
    "## <font color='blue'>**Escalares, vectores, matrices y tensores**</font>"
   ]
  },
  {
   "cell_type": "markdown",
   "metadata": {
    "id": "YJp3JazwY3kj"
   },
   "source": [
    "Un **escalar** es únicamente un número, a diferencia de la mayoría de los otros elementos del álgebra lineal que son conjuntos de valores como los vectores y matrices.\n",
    "\n",
    "$$\\omega = 12.5$$\n",
    "$$a = 3$$\n",
    "\n",
    "Un **vector** es un arreglo de números. Un vector de $n$ componentes se define como un conjunto ordenado de $n$ números. Pueden ser representados como vectores columna:\n",
    "\n",
    "$$\\vec{x} = \\begin{pmatrix}t\\\\y\\\\z\\\\w\\end{pmatrix} \\qquad \\vec{a} = \\begin{pmatrix}a_0\\\\a_1\\\\a_2\\\\a_3\\end{pmatrix}$$\n",
    "\n",
    "o como vectores fila:\n",
    "\n",
    "$$\\vec{x} = \\begin{pmatrix}t, y, z, w\\end{pmatrix} \\qquad \\vec{a} = \\begin{pmatrix}a_0, a_1, a_2, a_3\\end{pmatrix}$$\n",
    "\n",
    "Una **matriz** es un arreglo bidimensional de números. Cada elemento de la misma está identificado por dos índices, en lugar de uno como en los vectores.\n",
    "\n",
    "$$\\mathbf{A} = \\begin{pmatrix}a_0 & b_0 & c_0\\\\a_1 & b_1 & c_1\\end{pmatrix}\\qquad\n",
    " \\mathbf{B} = \\begin{pmatrix}a_0 & b_0\\\\a_1 & b_1\\\\a_2 & b_2\\end{pmatrix}$$\n",
    "\n",
    "Existen diversos casos en los cuales se precisan mas de dos ejes para almacenar valores. En el caso general, una matriz con un número regular de ejes se lo conoce como tensor (matriz N-dimensional, con $N > 2$). Por ejemplo, cuando almacenamos los valores de los píxeles de una imagen a color necesitamos una matriz con tres ejes (uno para cada canal de color: R, G y B)."
   ]
  },
  {
   "cell_type": "markdown",
   "metadata": {
    "id": "ycneXayjY3kk"
   },
   "source": [
    "## <font color='green'>**Ejercicio 1**</font>"
   ]
  },
  {
   "cell_type": "markdown",
   "metadata": {
    "id": "NmM1U0wJY3kk"
   },
   "source": [
    "Utilizando la librería NumPy, crear las siguientes matrices e indicar el número de ejes, tamaño y forma para cada una.\n",
    "\n",
    "$$\\mathbf{A_1} = \\begin{pmatrix}4 & 5 & 6\\\\8 & -1 & 7\\end{pmatrix}\\qquad\n",
    "\\mathbf{A_2} = \\begin{pmatrix}3 & -5\\\\ -2 & 5\\\\8 & 8\\end{pmatrix}\\qquad\n",
    "\\mathbf{A_3} = \\begin{pmatrix}4 & 7 & 5\\end{pmatrix}$$\n",
    "$$\\mathbf{A_4} = \\begin{pmatrix}4\\\\ 9 \\\\ 2\\end{pmatrix}\\qquad\n",
    "\\mathbf{A_5} = \\begin{pmatrix}3&1\\\\7&8\\end{pmatrix}\\qquad\n",
    "\\mathbf{A_6} = \\begin{pmatrix}5&0\\\\3&2\\end{pmatrix}$$"
   ]
  },
  {
   "cell_type": "code",
   "execution_count": 5,
   "metadata": {
    "id": "lZyXCQYeaMt8"
   },
   "outputs": [
    {
     "name": "stdout",
     "output_type": "stream",
     "text": [
      "A1 = \n",
      "[[ 4  5  6]\n",
      " [ 8 -1  7]]\n",
      "La cantidad de ejes de A1 es 2\n",
      "El tamaño de A1 es 6\n",
      "La forma de A1 es (2, 3)\n",
      "A2 = \n",
      "[[ 3 -5]\n",
      " [-2  5]\n",
      " [ 8  8]]\n",
      "La cantidad de ejes de A2 es 2\n",
      "El tamaño de A2 es 6\n",
      "La forma de A2 es (3, 2)\n",
      "A3 = \n",
      "[[4 7 5]]\n",
      "La cantidad de ejes de A3 es 2\n",
      "El tamaño de A3 es 3\n",
      "La forma de A3 es (1, 3)\n",
      "A4 = \n",
      "[[4]\n",
      " [9]\n",
      " [2]]\n",
      "La cantidad de ejes de A4 es 2\n",
      "El tamaño de A4 es 3\n",
      "La forma de A4 es (3, 1)\n",
      "A5 = \n",
      "[[3 1]\n",
      " [7 8]]\n",
      "La cantidad de ejes de A5 es 2\n",
      "El tamaño de A5 es 4\n",
      "La forma de A5 es (2, 2)\n",
      "A6 = \n",
      "[[5 0]\n",
      " [3 2]]\n",
      "La cantidad de ejes de A6 es 2\n",
      "El tamaño de A6 es 4\n",
      "La forma de A6 es (2, 2)\n"
     ]
    }
   ],
   "source": [
    "#Solución\n",
    "A1 = np.array([[4, 5, 6],[8, -1, 7]])\n",
    "print(f'A1 = \\n{A1}')\n",
    "print(f'La cantidad de ejes de A1 es {A1.ndim}')\n",
    "print(f'El tamaño de A1 es {A1.size}')\n",
    "print(f'La forma de A1 es {A1.shape}')\n",
    "\n",
    "A2 = np.array([[3, -5],[-2, 5], [8, 8]])\n",
    "print(f'A2 = \\n{A2}')\n",
    "print(f'La cantidad de ejes de A2 es {A2.ndim}')\n",
    "print(f'El tamaño de A2 es {A2.size}')\n",
    "print(f'La forma de A2 es {A2.shape}')\n",
    "\n",
    "A3 = np.array([[4, 7, 5]])\n",
    "print(f'A3 = \\n{A3}')\n",
    "print(f'La cantidad de ejes de A3 es {A3.ndim}')\n",
    "print(f'El tamaño de A3 es {A3.size}')\n",
    "print(f'La forma de A3 es {A3.shape}')\n",
    "\n",
    "A4 = np.array([[4], [9], [2]])\n",
    "print(f'A4 = \\n{A4}')\n",
    "print(f'La cantidad de ejes de A4 es {A4.ndim}')\n",
    "print(f'El tamaño de A4 es {A4.size}')\n",
    "print(f'La forma de A4 es {A4.shape}')\n",
    "\n",
    "\n",
    "A5 = np.array([[3, 1], [7, 8]])\n",
    "print(f'A5 = \\n{A5}')\n",
    "print(f'La cantidad de ejes de A5 es {A5.ndim}')\n",
    "print(f'El tamaño de A5 es {A5.size}')\n",
    "print(f'La forma de A5 es {A5.shape}')\n",
    "\n",
    "\n",
    "A6 = np.array([[5, 0], [3, 2]])\n",
    "print(f'A6 = \\n{A6}')\n",
    "print(f'La cantidad de ejes de A6 es {A6.ndim}')\n",
    "print(f'El tamaño de A6 es {A6.size}')\n",
    "print(f'La forma de A6 es {A6.shape}')"
   ]
  },
  {
   "cell_type": "markdown",
   "metadata": {
    "id": "_ldL9uNlaOed"
   },
   "source": [
    "## <font color='green'>**Fin ejercicio 1**</font>"
   ]
  },
  {
   "cell_type": "markdown",
   "metadata": {
    "id": "ruEhNBmBY3kl"
   },
   "source": [
    "## <font color='green'>**Ejercicio 2**</font>"
   ]
  },
  {
   "cell_type": "markdown",
   "metadata": {
    "id": "jYHK0m8rY3ko"
   },
   "source": [
    "Crear un tensor de nombre *A* de 15x15x3 de valores aleatorios enteros en el rango de 0 a 255 (niveles de intensidad de un pixel en el rango RGB) y graficarlo como si fuera una imagen."
   ]
  },
  {
   "cell_type": "code",
   "execution_count": 6,
   "metadata": {
    "id": "iDGl8C9iY3kp"
   },
   "outputs": [
    {
     "data": {
      "text/plain": [
       "<matplotlib.image.AxesImage at 0x1dda5a8ed48>"
      ]
     },
     "execution_count": 6,
     "metadata": {},
     "output_type": "execute_result"
    },
    {
     "data": {
      "image/png": "[encoded data removed]",
      "text/plain": [
       "<Figure size 432x288 with 1 Axes>"
      ]
     },
     "metadata": {
      "needs_background": "light"
     },
     "output_type": "display_data"
    }
   ],
   "source": [
    "#Solución\n",
    "\n",
    "#Libería para visualizar la imagen\n",
    "import matplotlib.pyplot as plt\n",
    "\n",
    "#Generar el tensor A\n",
    "\n",
    "# Forma 1\n",
    "A = np.random.randint(0, 255, size = 15 * 15 * 3)\n",
    "A = A.reshape((15, 15, 3))\n",
    "\n",
    "# Forma 2\n",
    "A = np.random.randint(255, size = (15,15,3))\n",
    "\n",
    "#Visualizamos el tensor A\n",
    "plt.imshow(A)"
   ]
  },
  {
   "cell_type": "markdown",
   "metadata": {
    "id": "JSJdjUJfaaKT"
   },
   "source": [
    "## <font color='green'>**Fin ejercicio 2**</font>"
   ]
  },
  {
   "cell_type": "markdown",
   "metadata": {
    "id": "_t0sKfapY3kr"
   },
   "source": [
    "## <font color='blue'>**Sistemas de ecuaciones lineales**</font>"
   ]
  },
  {
   "cell_type": "markdown",
   "metadata": {
    "id": "TH9sglTIY3ks"
   },
   "source": [
    "Un sistema de ecuaciones lineales es un conjunto de ecuaciones lineales de la forma:\n",
    "\n",
    "$$a_{11} x_1 + a_{12} x_2 + a_{13} x_3 + ··· + a_{1n} x_n = b_1$$\n",
    "$$a_{21} x_1 + a_{22} x_2 + a_{23} x_3 + ··· + a_{2n} x_n = b_2$$\n",
    "$$.$$\n",
    "$$.$$\n",
    "$$.$$\n",
    "$$a_{m1} x_1 + a_{m2} x_2 + a_{m3} x_3 + ··· + a_{mn} x_n = b_m$$\n",
    "\n",
    "En este caso tenemos $m$ ecuaciones y $n$ incógnitas. Los números reales $a_{ij}$ se denominan coeficientes y los $x_i$ se denominan incógnitas (o números a determinar) y $b_j$ se denominan términos independientes.\n",
    "\n",
    "Resolver el sistema consiste en calcular las incógnitas para que se cumplan todas las ecuaciones del sistema simultáneamente.\n",
    "\n",
    "Ejemplos:\n",
    "\n",
    "$$5 x + 2.45 y = 3.6$$\n",
    "$$6 x - 1.2 y = 0$$\n",
    "\n",
    "Sistema de 4 variables y 4 ecuaciones:\n",
    "\n",
    "$$a_0 t + b_0 y + c_0 z + d_0 w = e_0$$\n",
    "$$a_1 t + b_1 y + c_1 z + d_1 w = e_1$$\n",
    "$$a_2 t + b_2 y + c_2 z + d_2 w = e_2$$\n",
    "$$a_3 t + b_3 y + c_3 z + d_3 w = e_3$$\n",
    "\n",
    "En notación matricial:\n",
    "\n",
    "$$\\begin{pmatrix}a_0 & b_0 & c_0 & d_0\\\\a_1 & b_1 & c_1 & d_1\\\\\n",
    "a_2 & b_2 & c_2 & d_2\\\\ a_3 & b_3 & c_3 & d_3\\end{pmatrix}\n",
    "\\begin{pmatrix}t\\\\y\\\\z\\\\w\\end{pmatrix} = \\begin{pmatrix}e_0\\\\e_1\\\\e_2\\\\e_3\\end{pmatrix}$$\n",
    "\n",
    "Esto dice exactamente lo mismo, solo que en una forma diferente. Pero usa vectores y matrices, nuestros dos nuevos objetos y las ideas de multiplicación y suma de matrices. N este caso tenemos 2 vectores y 1 matriz, que puede ser escrito como:\n",
    "\n",
    "$$\\mathbf{A} = \\begin{pmatrix}a_0 & b_0 & c_0 & d_0\\\\a_1 & b_1 & c_1 & d_1\\\\\n",
    "a_2 & b_2 & c_2 & d_2\\\\ a_3 & b_3 & c_3 & d_3\\end{pmatrix}\\qquad \\vec{x} = \\begin{pmatrix}t\\\\y\\\\z\\\\w\\end{pmatrix}\n",
    "\\qquad \\vec{e} = \\begin{pmatrix}e_0\\\\e_1\\\\e_2\\\\e_3\\end{pmatrix}$$"
   ]
  },
  {
   "cell_type": "markdown",
   "metadata": {
    "id": "ONbJMHtXY3ks"
   },
   "source": [
    "## <font color='blue'>**Operaciones con vectores y matrices**</font>"
   ]
  },
  {
   "cell_type": "markdown",
   "metadata": {
    "id": "nPYZPYg8Y3kt"
   },
   "source": [
    "### <font color='blue'>**Multiplicación de matrices**</font>\n",
    "\n",
    "Sean las siguientes matrices:\n",
    "\n",
    "$$\\mathbf{A} = \\begin{pmatrix}a_{00} & a_{01} & a_{02} & a_{03}\\\\a_{10} & a_{11} & a_{12} & a_{13}\\\\\n",
    "a_{20} & a_{21} & a_{22} & a_{23}\\\\ a_{30} & a_{31} & a_{32} & a_{33}\\end{pmatrix} \\qquad \\vec{x} = \n",
    "\\begin{pmatrix}x_0 \\\\ x_1 \\\\ x_2 \\\\ x_3\\end{pmatrix}$$\n",
    "\n",
    "La multiplicación de matrices se puede definir como:\n",
    "\n",
    "$$\\vec{p} = \\mathbf{A} \\vec{x}$$\n",
    "\n",
    "donde\n",
    "\n",
    "$$p_{i} = \\sum_j a_{i j} x_j$$\n",
    "\n",
    "Lo anterior nos permite pasar desde la representación matricial al sistema de ecuaciones, por ejemplo:\n",
    "\n",
    "$$p_{0} = a_{00} x_0 + a_{01} x_1 + a_{02} x_2 + a_{03} x_3 $$\n",
    "\n",
    "Multiplicando todo, obtenemos:\n",
    "\n",
    "$$\\quad \\begin{pmatrix}a_{00} x_0 + a_{01} x_1 + a_{02} x_2 + a_{03} x_3 \\\\\n",
    "a_{10} x_0 + a_{11} x_1 + a_{12} x_2 + a_{13} x_3\\\\a_{20} x_0 + a_{21} x_1 + a_{22} x_2 + a_{23} x_3\\\\a_{30} x_0 + a_{31} x_1 + a_{32} x_2 + a_{33} x_3 \\end{pmatrix} = \n",
    "\\begin{pmatrix}p_0\\\\p_1\\\\p_2\\\\p_3\\end{pmatrix}$$\n",
    "\n",
    "que corresponde a la representación como sistema de ecuaciones lineales.\n",
    "\n",
    "La definición general para la multiplicación de matrices es:\n",
    "\n",
    "$$\\mathbf{C} = \\mathbf{A}\\mathbf{B}$$\n",
    "\n",
    "entonces,\n",
    "\n",
    "$$c_{i j} = \\sum_k a_{i k} b_{k j}$$\n",
    "\n",
    "<img src='https://drive.google.com/uc?export=view&id=1s5v3KJVjvq4BfNsiwou6mq6Za1jyr6Rf' width=\"500\" align=\"center\" style=\"margin-right: 20px\">\n",
    "\n",
    "Esta definición genera restricciones sobre lo que podemos multiplicar: solo funcionan aquellos casos en los que el **número de columnas en la primera matriz es igual al número de filas en la segunda matriz**. \n",
    "\n",
    "La multiplicación de matrices no es conmutativa, es decir, $\\mathbf{A} \\mathbf{B} \\neq \\mathbf{B} \\mathbf{A}$."
   ]
  },
  {
   "cell_type": "markdown",
   "metadata": {
    "id": "p-OWT7IeY3kt"
   },
   "source": [
    "### <font color='blue'>**Adición de matrices**</font>\n",
    "\n",
    "Se tiene la siguiente suma de ecuaciones:\n",
    "\n",
    "$$(a x + b y) + (c x + d y) = (a + c) x + (b + d) y$$\n",
    "\n",
    "Lo anterior, lo podemos representar como un sistema de ecuaciones:\n",
    "\n",
    "$$\\begin{pmatrix}a_0 x + b_0 y\\\\a_1 x + b_1 y\\\\a_2 x + b_2 y\\end{pmatrix} + \n",
    "\\begin{pmatrix}c_0 x + d_0 y\\\\c_1 x + d_1 y\\\\c_2 x + d_2 y\\end{pmatrix} = \n",
    "\\begin{pmatrix}(a_0 + c_0) x + (b_0 + d_0) y\\\\(a_1 + c_1) x + (b_1 + d_1) y\\\\(a_2 + c_2) x + \n",
    "(b_2 + c_2) y\\end{pmatrix}$$\n",
    "\n",
    "En notación matricial, quedaría como:\n",
    "\n",
    "$$\\begin{pmatrix}a_0 & b_0\\\\a_1 & b_1\\\\a_2 & b_2\\end{pmatrix} \\begin{pmatrix}x\\\\y\\end{pmatrix} + \n",
    "\\begin{pmatrix}c_0 & d_0\\\\c_1 & d_1\\\\c_2 & d_2\\end{pmatrix} \\begin{pmatrix}x\\\\y\\end{pmatrix} = \n",
    "\\begin{pmatrix}(a_0 + c_0) & (b_0 + d_0)\\\\(a_1 + c_1) & (b_1 + d_1)\\\\(a_2 + c_2) & (b_2 + c_2)\\end{pmatrix}\n",
    "\\begin{pmatrix}x\\\\y\\end{pmatrix}$$\n",
    "\n",
    "La adición de matrices es simplemente agregar los elementos correspondientes. Aunque se debe tener en cuenta que esto solo tiene sentido para matrices que tienen la misma forma. Por lo tanto, puede agregar dos (3 x 2), pero no un (3 x 2) y un (2 x 3).\n",
    "\n",
    "La adición de matrices es conmutativa, por lo tanto, $\\mathbf{A} + \\mathbf{B} = \\mathbf{B} + \\mathbf{A}$"
   ]
  },
  {
   "cell_type": "markdown",
   "metadata": {
    "id": "LlhGaxfeY3ku"
   },
   "source": [
    "## <font color='green'>**Ejercicio 3**</font>"
   ]
  },
  {
   "cell_type": "markdown",
   "metadata": {
    "id": "SQ3WAPraY3ku"
   },
   "source": [
    "1. ¿Cuál de las matrices del ejercicio 1 se pueden multiplicar y en qué orden? ¿cuál es la forma de su producto?.\n",
    "Seleccione 3 casos y realice la multiplicación.\n",
    "1. Realice la suma de 3 matrices del ejercicio 1."
   ]
  },
  {
   "cell_type": "code",
   "execution_count": 7,
   "metadata": {
    "id": "IUPjy9adbAaD"
   },
   "outputs": [
    {
     "name": "stdout",
     "output_type": "stream",
     "text": [
      "[[50 53]\n",
      " [82 11]]\n",
      "[[73]\n",
      " [37]]\n",
      "[[-28  20 -17]\n",
      " [ 32 -15  23]\n",
      " [ 96  32 104]]\n",
      "[[-26 -37]\n",
      " [ 29  38]\n",
      " [ 80  72]]\n",
      "[[  0 -10]\n",
      " [  5  10]\n",
      " [ 64  16]]\n",
      "[[38 55]]\n",
      "[[89]]\n",
      "[[16 28 20]\n",
      " [36 63 45]\n",
      " [ 8 14 10]]\n",
      "[[20 14 25]\n",
      " [92 27 98]]\n",
      "[[18  2]\n",
      " [59 16]]\n",
      "[[20 25 30]\n",
      " [28 13 32]]\n",
      "[[15  5]\n",
      " [23 19]]\n"
     ]
    }
   ],
   "source": [
    "#Solución\n",
    "print(np.dot(A1,A2))\n",
    "print(np.dot(A1,A4))\n",
    "\n",
    "print(np.dot(A2,A1))\n",
    "print(np.dot(A2,A5))\n",
    "print(np.dot(A2,A6))\n",
    "\n",
    "print(np.dot(A3,A2))\n",
    "print(np.dot(A3,A4))\n",
    "\n",
    "print(np.dot(A4,A3))\n",
    "\n",
    "print(np.dot(A5,A1))\n",
    "print(np.dot(A5,A6))\n",
    "\n",
    "print(np.dot(A6,A1))\n",
    "print(np.dot(A6,A5))"
   ]
  },
  {
   "cell_type": "markdown",
   "metadata": {
    "id": "ROQUvD0abBep"
   },
   "source": [
    "## <font color='green'>**Fin ejercicio 3**</font>"
   ]
  },
  {
   "cell_type": "markdown",
   "metadata": {
    "id": "TKUyuGmDY3kv"
   },
   "source": [
    "## <font color='blue'>**Producto escalar y ortogonalidad**</font>"
   ]
  },
  {
   "cell_type": "markdown",
   "metadata": {
    "id": "-ll3m_7PY3kw"
   },
   "source": [
    "Un caso especial de multiplicación de matrices es multiplicar dos vectores. Por supuesto, no podemos multiplicar directamente dos vectores de 4 x 1; su forma es incompatible.\n",
    "\n",
    "Para poder realizar esta multiplicación es necesario transponer el vector, lo que corresponde a intercambiar filas por columnas. Se denota con una 𝑇 mayúscula como exponente.\n",
    "\n",
    "Trabajando con las matrices anteriores:\n",
    "\n",
    "$$\\mathbf{B} = \\begin{pmatrix}a_0 & b_0 & c_0\\\\a_1 & b_1 & c_1\\end{pmatrix}\\qquad\n",
    " \\mathbf{C} = \\begin{pmatrix}a_0 & b_0\\\\a_1 & b_1\\\\a_2 & b_2\\end{pmatrix}$$\n",
    "\n",
    "$$\\mathbf{B}^T = \\begin{pmatrix}a_0 & a_1\\\\b_0 & b_1\\\\c_0 & c_1\\end{pmatrix}\\qquad\n",
    " \\mathbf{C}^T = \\begin{pmatrix}a_0 & a_1 & a_2\\\\b_0 & b_1 & b_2\\end{pmatrix}$$\n",
    "\n",
    "Lo anterior, es equivalente a cambiar el orden de los índices de los elementos:\n",
    "\n",
    "$$a_{ij} \\rightarrow a_{ji}$$\n",
    "\n",
    "Tenga en cuenta que esto cambia la forma de la matriz. En particular, convertirá los vectores de columna en vectores de fila y viceversa.\n",
    "\n",
    "Ahora es posible definir el **producto escalar** de dos vectores como:\n",
    "\n",
    "$$\\mathrm{dot}(\\vec{a},\\vec{b}) = \\vec{a}\\cdot\\vec{b} = \\vec{a}^T \\vec{b}$$\n",
    "\n",
    "El objeto resultante de esta operación es de $1x1$, es decir, un escalar. Por ejemplo:\n",
    "\n",
    "$$\\vec{x}\\cdot\\vec{e} = \\begin{pmatrix}t & y & z & w\\end{pmatrix}\n",
    "\\begin{pmatrix}e_0\\\\e_1\\\\e_2\\\\e_3\\end{pmatrix} = e_0 t + e_1 y + e_2 z + e_3 w$$\n",
    "\n",
    "Un caso aún más especial es el producto escalar de un vector consigo mismo. Esto da una medida escalar del vector y da lugar a la norma del vector.\n",
    "\n",
    "$$\\lVert \\vec{v} \\lVert^2 = \\vec{v}\\cdot\\vec{v}$$\n",
    " \n",
    "Si estos vectores están en $\\mathbb{R}^n$, entonces corresponde a la distancia euclidiana tradicional dada por el teorema de Pitágoras.\n",
    "\n",
    "Si consideramos las columnas vectoriales como direcciones en el espacio, podemos definir el concepto de **ortogonalidad**. Dos direcciones son ortogonales si son perpendiculares, es decir, dos líneas trazadas en las direcciones respectivas se cruzan en ángulo recto. En 2-D, podríamos elegir los ejes 𝑥 e 𝑦, o los dos vectores a 45 grados entre ellos."
   ]
  },
  {
   "cell_type": "code",
   "execution_count": null,
   "metadata": {
    "id": "MRVM8PkKY3kw"
   },
   "outputs": [],
   "source": [
    "import matplotlib.pyplot as plt\n",
    "\n",
    "plt.figure()\n",
    "ax = plt.gca()\n",
    "ax.axhline(y=0, color='0.5')\n",
    "ax.axvline(x=0, color='0.5')\n",
    "plt.quiver([0, 0], [0, 0], [0, 1], [1, 0], angles='xy', scale_units='xy', scale=1, color='r')\n",
    "plt.quiver([0, 0], [0, 0], [1, 1], [1, -1], angles='xy', scale_units='xy', scale=1, color='b')\n",
    "plt.xlim(-2, 2)\n",
    "plt.ylim(-2, 2)\n",
    "plt.title('(0,1), (1,0), (1,1), (1,-1) as vectors')\n",
    "ax.set_aspect('equal')\n",
    "\n",
    "plt.show();"
   ]
  },
  {
   "cell_type": "markdown",
   "metadata": {
    "id": "M1_5FUhlY3kz"
   },
   "source": [
    "Por ejemplo consideremos los siguientes vectores:\n",
    "\n",
    "$$\\begin{pmatrix}1\\\\0\\end{pmatrix}\\cdot\\begin{pmatrix}0\\\\1\\end{pmatrix} = 0\\qquad\n",
    "\\begin{pmatrix}1\\\\1\\end{pmatrix}\\cdot\\begin{pmatrix}1\\\\-1\\end{pmatrix} = 0$$\n",
    "\n",
    "**Dos vectores son ortogonales si y solo si su producto escalar es cero**. \n",
    "\n",
    "$$\\vec{a} \\cdot \\vec{b} = 0 \\qquad \\iff \\qquad \\vec{a}\\; \\mathrm{and}\\; \\vec{b}\\ \n",
    "\\mathrm{son\\ ortogonales}$$\n",
    "\n",
    "Esto nos permite definir el ángulo entre dos vectores\n",
    "\n",
    "$$\\vec{a} \\cdot \\vec{b} = \\lVert \\vec{a} \\lVert\\,\\lVert \\vec{b} \\lVert\\,\\cos(\\theta)$$\n",
    " \n",
    "**¿Por qué es tan importante la ortogonalidad?** porque los vectores ortogonales llevan información independiente entre sí, al igual que nuestras direcciones 𝑥 e 𝑦. También son extremadamente importantes en la interpretación geométrica, ya que definen diferentes direcciones en un espacio."
   ]
  },
  {
   "cell_type": "markdown",
   "metadata": {
    "id": "YPzFW4KlY3k0"
   },
   "source": [
    "## <font color='blue'>**Vectores linealmente independientes**</font>"
   ]
  },
  {
   "cell_type": "markdown",
   "metadata": {
    "id": "RUVH1AYNY3k1"
   },
   "source": [
    "Un conjunto de vectores es linealmente independiente si no es posible escribir ninguno de ellos como una combinación lineal de los demás.\n",
    "\n",
    "Los vectores ortogonales son automáticamente linealmente independientes, pero otros también pueden serlo. En general, se puede decir que los vectores $\\{ \\vec{v}_0, \\ldots, \\vec{v}_i, \\ldots, \\vec{v}_n \\}$ son linealmente dependientes si podemos encontrar un conjunto de constantes $c_i$, que no es igual a 0, tal que:\n",
    "\n",
    "$$\\sum_i c_i \\vec{v}_i = c_0 \\vec{v}_0 + c_1 \\vec{v}_1 + ... + c_n \\vec{v}_n = 0$$\n",
    "\n",
    "Ejemplo de vector dependiente es:\n",
    "\n",
    "$$\\begin{pmatrix}1\\\\1\\\\1\\end{pmatrix} \\qquad \\begin{pmatrix}1\\\\1\\\\-1\\end{pmatrix}\n",
    "\\qquad \\begin{pmatrix}1\\\\1\\\\0\\end{pmatrix}$$\n",
    "\n",
    "ya que es posible sumar los dos primeros vectores para obtener un vector que es el doble del tercero:\n",
    "\n",
    "$$\\begin{pmatrix}1\\\\1\\\\1\\end{pmatrix} + \\begin{pmatrix}1\\\\1\\\\-1\\end{pmatrix} =\n",
    "\\begin{pmatrix}2\\\\2\\\\0\\end{pmatrix}\n",
    "= 2\\begin{pmatrix}1\\\\1\\\\0\\end{pmatrix}$$\n",
    "\n",
    "Sin embargo, este conjunto de vectores, muy similar al anterior, si son linealmente independientes:\n",
    "\n",
    "$$\\begin{pmatrix}1\\\\1\\\\1\\end{pmatrix} \\qquad \\begin{pmatrix}1\\\\1\\\\-1\\end{pmatrix}\n",
    "\\qquad \\begin{pmatrix}1\\\\-1\\\\0\\end{pmatrix}$$\n",
    "\n",
    "En un sistema con $n$ vectores linealmente independientes, se pueden definir exactamente $n$ direcciones ortogonales. Esta es la **dimensión del sistema**. Es una medida del contenido de la información.\n",
    "\n",
    "La determinación de la independencia lineal es difícil de realizar mediante inspección. Incluso calcular el determinante se vuelve difícil a medida que aumentan las dimensiones de una matriz. Afortunadamente, podemos usar NumPy para calcular el determinante de una matriz de manera fácil usando la función **linalg.det()**."
   ]
  },
  {
   "cell_type": "code",
   "execution_count": 32,
   "metadata": {
    "id": "cbBTxzVEY3k2"
   },
   "outputs": [
    {
     "name": "stdout",
     "output_type": "stream",
     "text": [
      "Linealmente dependiente\n",
      "[[ 0  1 -3]\n",
      " [ 1  0  1]\n",
      " [ 4  1  1]]\n",
      "0.0\n",
      "\n",
      "Linealmente independiente\n",
      "[[0 1 1]\n",
      " [1 0 1]\n",
      " [4 1 1]]\n",
      "4.0\n"
     ]
    }
   ],
   "source": [
    "A = np.array([[0, 1, -3], [1, 0, 1], [4, 1, 1]])\n",
    "print(\"Linealmente dependiente\")\n",
    "print(A)\n",
    "print(np.linalg.det(A))\n",
    "print()\n",
    "\n",
    "B = np.array([[0, 1, 1], [1, 0, 1], [4, 1, 1]])\n",
    "print(\"Linealmente independiente\")\n",
    "print(B)\n",
    "print(np.linalg.det(B))"
   ]
  },
  {
   "cell_type": "markdown",
   "metadata": {
    "id": "9--Ud0mmY3k4"
   },
   "source": [
    "Si el determinante es no nulo, el conjunto de vectores es linealmente independiente."
   ]
  },
  {
   "cell_type": "markdown",
   "metadata": {
    "id": "vM_F4e8QY3k5"
   },
   "source": [
    "## <font color='blue'>**Transformación lineal**</font>"
   ]
  },
  {
   "cell_type": "markdown",
   "metadata": {
    "id": "Hk6t2GhEY3k5"
   },
   "source": [
    "Una función lineal 1-D se puede representar como:\n",
    "\n",
    "$$f(x) = a x$$\n",
    "\n",
    "donde $a$ es una constante. Pero también es posible definir funcionales lineales en más dimensiones, por ejemplo:\n",
    "\n",
    "$$\\vec{f}(\\vec{x}) = \\begin{pmatrix}a_x x + a_y y + a_z z\\\\b_x x + b_y y + b_z z\\end{pmatrix}$$\n",
    "\n",
    "donde $a_i$ y $b_i$ son constantes. Pero también es posible representar las funciones lineales de forma matricial, en este caso:\n",
    "\n",
    "$$\\begin{pmatrix}a_x&a_y&a_z\\\\b_x&b_y&b_z\\end{pmatrix}\\begin{pmatrix}x\\\\y\\\\z\\end{pmatrix}$$\n",
    "\n",
    "Lo anterior, nos permite definir que es una transformación lineal en general mediante la siguiente propiedad:\n",
    "\n",
    "$$\\vec{f}(\\alpha \\vec{x} + \\beta \\vec{y}) = \\alpha\\,\\vec{f}(\\vec{x}) + \n",
    "\\beta\\,\\vec{f}(\\vec{y})$$"
   ]
  },
  {
   "cell_type": "markdown",
   "metadata": {
    "id": "HG0_CyOhY3k5"
   },
   "source": [
    "## <font color='blue'>**Vectores propios y valores propios (autovalores)**</font>"
   ]
  },
  {
   "cell_type": "markdown",
   "metadata": {
    "id": "ErYqaMUhY3k6"
   },
   "source": [
    "Conside la matriz:\n",
    "\n",
    "$$\\mathbf{A} = \\begin{pmatrix}3&2\\\\1&4\\end{pmatrix}$$\n",
    "\n",
    "Queremos ver cuál es el efecto de esa matriz para los valores de $\\mathbb{R}^2$. ¿Qué pasa cuando uno multiplica esa matriz A por un vector?\n",
    "\n",
    "$$\\mathbf{A} \\begin{pmatrix}x\\\\y\\end{pmatrix} = \\begin{pmatrix}3&2\\\\1&4\\end{pmatrix}\\begin{pmatrix}x\\\\y\\end{pmatrix} = \\begin{pmatrix}3x+2y\\\\x+4y\\end{pmatrix}$$\n",
    "\n",
    "Tomamos un cuadrado con vértice en el origen y lado de tamaño unitario en el primer cuadrante:\n",
    "\n",
    "<img src='https://drive.google.com/uc?export=view&id=1-O1C0-yk7tMUlBqr9bRGSocrZ1k9K1nJ' width=\"300\" align=\"center\" style=\"margin-right: 20px\">\n",
    "\n",
    "Llamamos $R$ a la zona formada por los vertices de los vectores unitarios. ¿En qué se transformara esta área bajo el efecto de nuestra matriz? Para responder esta pregunta podemos ver en que se transforman sus vértices.\n",
    "\n",
    "$$\\mathbf{A} \\begin{pmatrix}0\\\\0\\end{pmatrix} = \\begin{pmatrix}0\\\\0\\end{pmatrix}$$\n",
    "\n",
    "$$\\mathbf{A} \\begin{pmatrix}1\\\\0\\end{pmatrix} = \\begin{pmatrix}3\\\\1\\end{pmatrix}$$\n",
    "\n",
    "$$\\mathbf{A} \\begin{pmatrix}0\\\\1\\end{pmatrix} = \\begin{pmatrix}2\\\\4\\end{pmatrix}$$\n",
    "\n",
    "$$\\mathbf{A} \\begin{pmatrix}1\\\\1\\end{pmatrix} = \\begin{pmatrix}5\\\\5\\end{pmatrix}$$\n",
    "\n",
    "<img src='https://drive.google.com/uc?export=view&id=1cQCffFHcmBDtcZpvD7EuW2Dl54rC-wCp' width=\"300\" align=\"center\" style=\"margin-right: 20px\">\n",
    "\n",
    "¿Habrá vectores que después de la deformación conservaron la dirección?\n",
    "\n",
    "* El vector (1,0) se transformó en el (3,1). No conserva la dirección.\n",
    "* El (0,1) se transforma en el (2,4). No conserva la dirección.\n",
    "* El (1,1) se transformó el (5,5). Entonces se produjo una dilatación de factor 5, y se conservó la dirección.\n",
    "\n",
    "Ese vector que mantuvo su dirección se denomina **vector propio**, y el factor por el cual se dilató es el **autovalor** correspondiente.\n",
    "\n",
    "En términos matemáticos:\n",
    "\n",
    "Una matriz cuadrada posee vectores especiales que realmente no cambian. Estos se denominan **vectores propios** (*eigenvectors*), y los definimos simplemente como vectores distintos de cero donde:\n",
    "\n",
    "$$\\mathbf{M} \\vec{v} = \\lambda \\vec{v}$$\n",
    " \n",
    "donde 𝜆 es solo una constante, denominada **autovalor** para ese vector. Tenga en cuenta que varios vectores pueden tener el mismo valor propio, pero si lo tienen, también lo tendrá cualquier combinación lineal de ellos. Tenga en cuenta que estos autovalores y autovectores pueden ser números complejos, incluso para una matriz de valores reales. Por ejemplo:\n",
    "\n",
    "$$\\begin{pmatrix}1&-1\\\\1&1\\end{pmatrix}\\begin{pmatrix}1\\\\i\\end{pmatrix} = \n",
    "\\begin{pmatrix}1-i\\\\1+i\\end{pmatrix} = (1-i)\\begin{pmatrix}1\\\\i\\end{pmatrix}\\qquad\n",
    "\\begin{pmatrix}1&-1\\\\1&1\\end{pmatrix}\\begin{pmatrix}1\\\\-i\\end{pmatrix} = \n",
    "\\begin{pmatrix}1+i\\\\1-i\\end{pmatrix} = (1+i)\\begin{pmatrix}1\\\\-i\\end{pmatrix}$$\n",
    "\n",
    "Cada matriz tiene, como máximo, tantos de estos vectores como dimensiones, y conocer estos vectores más el 𝜆 puede permitir reconstruir la matriz original. Los autovectores forman un conjunto de vectores linealmente independientes."
   ]
  },
  {
   "cell_type": "markdown",
   "metadata": {
    "id": "wlJRnnDoY3k6"
   },
   "source": [
    "## <font color='green'>**Ejercicio 4**</font>"
   ]
  },
  {
   "cell_type": "markdown",
   "metadata": {
    "id": "g6_UmylhY3k7"
   },
   "source": [
    "Determine los autovalores para la matriz:\n",
    "   \n",
    "$$\\begin{pmatrix}2&3\\\\4&1\\end{pmatrix}$$\n",
    "\n",
    "para el vector propio:\n",
    "\n",
    "$$\\begin{pmatrix}7\\\\7\\end{pmatrix}$$"
   ]
  },
  {
   "cell_type": "code",
   "execution_count": 65,
   "metadata": {
    "id": "TtU651OBY3k7"
   },
   "outputs": [
    {
     "name": "stdout",
     "output_type": "stream",
     "text": [
      "[3.53553391 3.53553391]\n",
      "[3.53553391 3.53553391]\n",
      "[ 1.2 -1.6]\n",
      "[ 1.2 -1.6]\n",
      "[[35]\n",
      " [35]]\n",
      "[[5.]\n",
      " [5.]]\n"
     ]
    }
   ],
   "source": [
    "#solución\n",
    "\n",
    "A = np.array([[2, 3], [4, 1]])\n",
    "v_p = np.array([[7],[7]])\n",
    "#val_p = np.linalg.eigvals(A)\n",
    "\n",
    "# Parte 1, calcular valores y vectores propios\n",
    "\n",
    "val_p, vec_p = np.linalg.eig(A)\n",
    "\n",
    "# Vector y Valor propio 1\n",
    "print(np.dot(A, vec_p[:,0]))\n",
    "print(val_p[0] * vec_p[:, 0])\n",
    "\n",
    "# Vector y Valor propio 2\n",
    "print(np.dot(A, vec_p[:,1]))\n",
    "print(val_p[1] * vec_p[:, 1])\n",
    "\n",
    "\n",
    "# Parte 2, calcular valores propios para vector [7,7]\n",
    "\n",
    "print(np.dot(A, v_p))\n",
    "resultado = np.dot(A, v_p)\n",
    "valor_propio = resultado/v_p\n",
    "\n",
    "print(valor_propio)"
   ]
  },
  {
   "cell_type": "markdown",
   "metadata": {
    "id": "aOwIu_gjbhoT"
   },
   "source": [
    "## <font color='green'>**Fin ejercicio 4**</font>"
   ]
  }
 ],
 "metadata": {
  "colab": {
   "name": "2-Algebra Lineal.ipynb",
   "provenance": []
  },
  "kernelspec": {
   "display_name": "Python 3",
   "language": "python",
   "name": "python3"
  },
  "language_info": {
   "codemirror_mode": {
    "name": "ipython",
    "version": 3
   },
   "file_extension": ".py",
   "mimetype": "text/x-python",
   "name": "python",
   "nbconvert_exporter": "python",
   "pygments_lexer": "ipython3",
   "version": "3.7.5"
  }
 },
 "nbformat": 4,
 "nbformat_minor": 1
}
