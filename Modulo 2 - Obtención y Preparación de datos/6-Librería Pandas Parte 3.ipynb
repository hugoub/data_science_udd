{
 "cells": [
  {
   "cell_type": "markdown",
   "metadata": {
    "id": "cyOeXh_-dFSd"
   },
   "source": [
    "# <font color='blue'>**Librería Pandas - Parte 2**</font>"
   ]
  },
  {
   "cell_type": "code",
   "execution_count": 1,
   "metadata": {
    "id": "xL8iBoNMxqJM"
   },
   "outputs": [],
   "source": [
    "import numpy as np\n",
    "import pandas as pd"
   ]
  },
  {
   "cell_type": "markdown",
   "metadata": {
    "id": "k34hGXssxYq0"
   },
   "source": [
    "# <font color='blue'>**Edición de Series**</font>\n",
    "\n",
    "Podemos modificar un valor de una serie usando la notación corchetes, y haciendo referencia a índices o a las etiquetas.\n",
    "\n"
   ]
  },
  {
   "cell_type": "code",
   "execution_count": null,
   "metadata": {
    "id": "V4Yrm_zNxoDH"
   },
   "outputs": [],
   "source": [
    "s = pd.Series([1, 2, 3, 4, 5], index = [\"a\", \"b\", \"c\", \"d\", \"e\"])\n",
    "s"
   ]
  },
  {
   "cell_type": "code",
   "execution_count": null,
   "metadata": {
    "id": "tOTareaHx8zX"
   },
   "outputs": [],
   "source": [
    "s[0] = -1\n",
    "s[\"b\"] = -2\n",
    "s"
   ]
  },
  {
   "cell_type": "markdown",
   "metadata": {
    "id": "IlrrjI0oyIMa"
   },
   "source": [
    "Podemos asignar un valor a un rango, definido por índices o por etiquetas, asignando el valor a cada uno de los elementos involucrados en el rango."
   ]
  },
  {
   "cell_type": "code",
   "execution_count": null,
   "metadata": {
    "id": "1H5pebRgySiY"
   },
   "outputs": [],
   "source": [
    "s[1:3] = 0\n",
    "s"
   ]
  },
  {
   "cell_type": "code",
   "execution_count": null,
   "metadata": {
    "id": "Cu3UZ_96yXcw"
   },
   "outputs": [],
   "source": [
    "s[\"b\":\"d\"] = -2\n",
    "s"
   ]
  },
  {
   "cell_type": "markdown",
   "metadata": {
    "id": "E3-4QC5Iycn4"
   },
   "source": [
    "Si el rango está delimitado por números (haciendo referencia a la posición de los elementos), el último elemento del rango no se incluye. Por el contrario, si está delimitado por etiquetas, el último elemento sí se incluye.\n",
    "\n",
    "Al rango podemos asignar también una lista de valores, aunque en este caso la lista deberá tener el mismo número de elementos que el rango en cuestión."
   ]
  },
  {
   "cell_type": "code",
   "execution_count": null,
   "metadata": {
    "id": "FpdtyEqvyi0a"
   },
   "outputs": [],
   "source": [
    "s[1:3] = [0, 1]\n",
    "s"
   ]
  },
  {
   "cell_type": "code",
   "execution_count": null,
   "metadata": {
    "id": "U7YLufNOysNb"
   },
   "outputs": [],
   "source": [
    "s[\"b\":\"d\"] = [10, 11, 12]\n",
    "s"
   ]
  },
  {
   "cell_type": "markdown",
   "metadata": {
    "id": "ne071b33y0lk"
   },
   "source": [
    "Si asignamos un valor haciendo referencia a una etiqueta que no existe en el índice, se añade dicha etiqueta al índice y se le asigna el valor."
   ]
  },
  {
   "cell_type": "code",
   "execution_count": null,
   "metadata": {
    "id": "nsfUGiCPy28R"
   },
   "outputs": [],
   "source": [
    "s[\"f\"] = 0\n",
    "s"
   ]
  },
  {
   "cell_type": "markdown",
   "metadata": {
    "id": "in_MaF7ny9B5"
   },
   "source": [
    "Esto solo funciona con etiquetas. Si utilizamos un índice y éste no existe en la serie, se devolverá un error.\n",
    "\n",
    "Si usamos un rango con etiquetas y alguna de las etiquetas no existe, solo se asigna el valor a las existentes."
   ]
  },
  {
   "cell_type": "code",
   "execution_count": null,
   "metadata": {
    "id": "IXXIgx89y_vH"
   },
   "outputs": [],
   "source": [
    "s[\"f\":\"h\"] = -1\n",
    "s"
   ]
  },
  {
   "cell_type": "markdown",
   "metadata": {
    "id": "EDsJi7_QzH8M"
   },
   "source": [
    "Por último, también podemos usar en la selección una lista -tanto de índices como de etiquetas-, en cuyo caso se seleccionan los valores indicados en el orden indicado. Por ejemplo, podemos usar la lista [\"c\", \"a\"] para asignar a los elementos correspondientes los valores 1 y 2, respectivamente."
   ]
  },
  {
   "cell_type": "code",
   "execution_count": null,
   "metadata": {
    "id": "CNV-4FYAzPCz"
   },
   "outputs": [],
   "source": [
    "s[[\"c\", \"a\"]] = [1, 2]\n",
    "s"
   ]
  },
  {
   "cell_type": "code",
   "execution_count": null,
   "metadata": {
    "id": "PdsQmPKczYzB"
   },
   "outputs": [],
   "source": [
    "s[[1, 0]] = [20, 21]\n",
    "s"
   ]
  },
  {
   "cell_type": "markdown",
   "metadata": {
    "id": "z0D7Vil68MPV"
   },
   "source": [
    "## <font color='blue'>**Eliminación de elementos en una Serie**</font>\n",
    "\n",
    "El método **pandas.Series.drop** devuelve una copia de la serie tras eliminar el elemento cuya etiqueta se especifica como argumento."
   ]
  },
  {
   "cell_type": "code",
   "execution_count": null,
   "metadata": {
    "id": "UkDRC-PX8Yu3"
   },
   "outputs": [],
   "source": [
    "s = pd.Series([1, 2, 3, 4, 5], index = [\"a\", \"b\", \"c\", \"d\", \"e\"])\n",
    "s"
   ]
  },
  {
   "cell_type": "code",
   "execution_count": null,
   "metadata": {
    "id": "3xzh0Lhw8dgY"
   },
   "outputs": [],
   "source": [
    "r = s.drop(1)\n",
    "r"
   ]
  },
  {
   "cell_type": "markdown",
   "metadata": {
    "id": "WWcegipa8kfv"
   },
   "source": [
    "En este ejemplo se ha pasado como único argumento la etiqueta del elemento a eliminar, y el método ha devuelto la serie sin dicho elemento. Si la etiqueta no se encontrase en la serie, se devolvería un error.\n",
    "\n",
    "También se puede pasar como argumento no una etiqueta, sino una lista de etiquetas. En este caso se eliminarán todos los elementos con dichas etiquetas."
   ]
  },
  {
   "cell_type": "code",
   "execution_count": null,
   "metadata": {
    "id": "2lobEjJM8rt4"
   },
   "outputs": [],
   "source": [
    "r = s.drop([\"d\", \"a\"])\n",
    "r"
   ]
  },
  {
   "cell_type": "markdown",
   "metadata": {
    "id": "kxxzillx9IF_"
   },
   "source": [
    "Las etiquetas no tienen que estar en orden.\n",
    "\n",
    "El argumento **inplace = True** realiza la eliminación inplace (modificando directamente la serie)."
   ]
  },
  {
   "cell_type": "code",
   "execution_count": null,
   "metadata": {
    "id": "4Go2Oj8vN_qp"
   },
   "outputs": [],
   "source": [
    "s"
   ]
  },
  {
   "cell_type": "markdown",
   "metadata": {
    "id": "W4B7prM5N72O"
   },
   "source": [
    "Este método exige el uso de etiquetas para seleccionar los elementos a eliminar. Esto significa que si en un momento dado necesitamos eliminar uno o más elementos por su índice, deberemos convertirlos en sus correspondientes etiquetas, lo que resulta extremadamente sencillo seleccionando los elementos adecuados del index."
   ]
  },
  {
   "cell_type": "code",
   "execution_count": 7,
   "metadata": {
    "id": "JxYoGNQJ9Tak"
   },
   "outputs": [
    {
     "data": {
      "text/plain": [
       "0    1\n",
       "1    2\n",
       "2    3\n",
       "3    4\n",
       "4    5\n",
       "dtype: int64"
      ]
     },
     "execution_count": 7,
     "metadata": {},
     "output_type": "execute_result"
    }
   ],
   "source": [
    "s = pd.Series([1, 2, 3, 4, 5])\n",
    "s"
   ]
  },
  {
   "cell_type": "markdown",
   "metadata": {
    "id": "MkJbhIwZ9X64"
   },
   "source": [
    "Si se desea eliminar los elementos cuyos índices son 1 y 3, basta utilizar el atributo *index* para que devuelve todas las etiquetas."
   ]
  },
  {
   "cell_type": "code",
   "execution_count": null,
   "metadata": {
    "id": "BzW27rwW9o1A"
   },
   "outputs": [],
   "source": [
    "s.index[[1, 3]]"
   ]
  },
  {
   "cell_type": "code",
   "execution_count": null,
   "metadata": {
    "id": "JZVKlV689x5X"
   },
   "outputs": [],
   "source": [
    "s.drop(s.index[[1, 3]])"
   ]
  },
  {
   "cell_type": "markdown",
   "metadata": {
    "id": "f_ib1Loc9815"
   },
   "source": [
    "Otra forma para eliminar un elemento de una serie es el método **pandas.Series.pop**. Al igual que con el método drop, éste solo acepta una etiqueta y devuelve el valor correspondiente a dicha etiqueta, eliminándolo de la serie in-place."
   ]
  },
  {
   "cell_type": "code",
   "execution_count": null,
   "metadata": {
    "id": "YV1Wvw4S-D4A"
   },
   "outputs": [],
   "source": [
    "s = pd.Series([1, 2, 3, 4, 5])\n",
    "s"
   ]
  },
  {
   "cell_type": "code",
   "execution_count": null,
   "metadata": {
    "id": "U-gGJfoQNvIt"
   },
   "outputs": [],
   "source": [
    "s.pop(1)"
   ]
  },
  {
   "cell_type": "code",
   "execution_count": null,
   "metadata": {
    "id": "CA3UXVSxNzf5"
   },
   "outputs": [],
   "source": [
    "s"
   ]
  },
  {
   "cell_type": "markdown",
   "metadata": {
    "id": "MlWQqoUI-O8S"
   },
   "source": [
    "Si la etiqueta no se encuentra en el index, el método devolverá un error."
   ]
  },
  {
   "cell_type": "markdown",
   "metadata": {
    "id": "tYpCWcuW-iEe"
   },
   "source": [
    "## <font color='blue'>**Método where**</font>\n",
    "\n",
    "El método **pandas.Series.where** permite filtrar los valores de una serie de forma que solo los que cumplan cierta condición se mantengan. Los valores que no la cumplan son sustituidos por un valor (NaN por defecto)."
   ]
  },
  {
   "cell_type": "code",
   "execution_count": null,
   "metadata": {
    "id": "E80AVrSS-rD1"
   },
   "outputs": [],
   "source": [
    "s = pd.Series(np.arange(0,10))\n",
    "s"
   ]
  },
  {
   "cell_type": "markdown",
   "metadata": {
    "id": "6_NEaT_G-x-a"
   },
   "source": [
    "Por ejemplo, filtrar los elementos de $s$ que sean pares."
   ]
  },
  {
   "cell_type": "code",
   "execution_count": null,
   "metadata": {
    "id": "1WCzRGhY-3nC"
   },
   "outputs": [],
   "source": [
    "s.where(s % 2 == 0)"
   ]
  },
  {
   "cell_type": "markdown",
   "metadata": {
    "id": "k3pgTavM---V"
   },
   "source": [
    "Los valores que no cumplen la condición son sustituidos por NaN. Es posible modificar este valor de reemplazo pasando al método como segundo argumento el valor que se quiere fijar."
   ]
  },
  {
   "cell_type": "code",
   "execution_count": null,
   "metadata": {
    "id": "2mEqz1Ew_Jb3"
   },
   "outputs": [],
   "source": [
    "s.where(s % 2 == 0, -1)"
   ]
  },
  {
   "cell_type": "markdown",
   "metadata": {
    "id": "72-5OgIy_UQa"
   },
   "source": [
    "# <font color='blue'>**Edición de Dataframes**</font>\n",
    "\n",
    "Existe una gran variedad de formas para seleccionar elementos o bloques de elementos de un dataframe, y cada una de estas selecciones puede ser utilizada para modificar los valores contenidos en el dataframe.\n",
    "\n",
    "Podemos modificar un valor concreto usando los métodos **loc** o **iloc**, en función de que queramos usar sus etiquetas o índices.\n",
    "\n"
   ]
  },
  {
   "cell_type": "code",
   "execution_count": null,
   "metadata": {
    "id": "vOrY3UWh_o_W"
   },
   "outputs": [],
   "source": [
    "df = pd.DataFrame(np.arange(12).reshape([4, 3]),\n",
    "                  index = [\"a\", \"b\", \"c\", \"d\"],\n",
    "                  columns = [\"A\", \"B\", \"C\"])\n",
    "df"
   ]
  },
  {
   "cell_type": "code",
   "execution_count": null,
   "metadata": {
    "id": "VB2Z7oleAfjm"
   },
   "outputs": [],
   "source": [
    "df.iloc[1, 2] = -1\n",
    "df"
   ]
  },
  {
   "cell_type": "markdown",
   "metadata": {
    "id": "NSS7iNioAoGV"
   },
   "source": [
    "Es posible modificar una columna completa seleccionándola y asignándole, por ejemplo, una lista con los nuevos valores."
   ]
  },
  {
   "cell_type": "code",
   "execution_count": null,
   "metadata": {
    "id": "1zQCuQzAAsAu"
   },
   "outputs": [],
   "source": [
    "df = pd.DataFrame(np.arange(12).reshape([4, 3]),\n",
    "                  index = [\"a\", \"b\", \"c\", \"d\"],\n",
    "                  columns = [\"A\", \"B\", \"C\"])\n",
    "df[\"A\"] = -1\n",
    "df"
   ]
  },
  {
   "cell_type": "markdown",
   "metadata": {
    "id": "OVD0hbIzA1V-"
   },
   "source": [
    "En este caso, la longitud de la lista conteniendo los valores a insertar deberá coincidir con la longitud de la columna, salvo que en lugar de una lista se esté asignando un único valor, en cuyo caso se propagará a toda la columna.\n",
    "\n",
    "Si la selección es un bloque de datos de un tamaño arbitrario, nos encontramos en el mismo escenario: o bien insertamos datos con el mismo tamaño que la selección, o insertamos un único valor que se propagará a toda la selección."
   ]
  },
  {
   "cell_type": "code",
   "execution_count": null,
   "metadata": {
    "id": "zE88szIFA9e9"
   },
   "outputs": [],
   "source": [
    "df = pd.DataFrame(np.arange(12).reshape([4, 3]),\n",
    "                  index = [\"a\", \"b\", \"c\", \"d\"],\n",
    "                  columns = [\"A\", \"B\", \"C\"])\n",
    "df.loc[\"b\":\"c\", \"A\":\"B\"] = [[-1, -2], [-3, -4]]\n",
    "df"
   ]
  },
  {
   "cell_type": "code",
   "execution_count": null,
   "metadata": {
    "id": "uJJJvBLIBQnn"
   },
   "outputs": [],
   "source": [
    "df = pd.DataFrame(np.arange(12).reshape([4, 3]),\n",
    "                  index = [\"a\", \"b\", \"c\", \"d\"],\n",
    "                  columns = [\"A\", \"B\", \"C\"])\n",
    "df.loc[\"b\":\"c\", \"A\":\"B\"] = -1\n",
    "df"
   ]
  },
  {
   "cell_type": "markdown",
   "metadata": {
    "id": "nRNXR7Z4BWzE"
   },
   "source": [
    "También es posible insertar datos en una columna o fila inexistente, en cuyo caso se crea y se le asignan los valores en cuestión."
   ]
  },
  {
   "cell_type": "code",
   "execution_count": null,
   "metadata": {
    "id": "R8vtBxNABfX5"
   },
   "outputs": [],
   "source": [
    "df = pd.DataFrame(np.arange(12).reshape([4, 3]),\n",
    "                  index = [\"a\", \"b\", \"c\", \"d\"],\n",
    "                  columns = [\"A\", \"B\", \"C\"])\n",
    "df[\"D\"] = [10, 20, 30, 40]\n",
    "df"
   ]
  },
  {
   "cell_type": "code",
   "execution_count": null,
   "metadata": {
    "id": "iulLBqXgBr7U"
   },
   "outputs": [],
   "source": [
    "df = pd.DataFrame(np.arange(12).reshape([4, 3]),\n",
    "                  index = [\"a\", \"b\", \"c\", \"d\"],\n",
    "                  columns = [\"A\", \"B\", \"C\"])\n",
    "df.loc[\"e\"] = [10, 20, 30]\n",
    "df"
   ]
  },
  {
   "cell_type": "markdown",
   "metadata": {
    "id": "tQI7q_mKB3zz"
   },
   "source": [
    "## <font color='blue'>**Método where**</font>\n",
    "\n",
    "De forma semejante a las series, el método de los dataframes **where** filtra los valores contenidos en el dataframe de forma que solo los que cumplan cierta condición se mantengan. El resto de valores son sustituidos por un valor que, por defecto, es NaN."
   ]
  },
  {
   "cell_type": "code",
   "execution_count": null,
   "metadata": {
    "id": "b5GQUJczCYzK"
   },
   "outputs": [],
   "source": [
    "df = pd.DataFrame(np.arange(12).reshape(-1, 3), columns = [\"A\", \"B\", \"C\"])\n",
    "df"
   ]
  },
  {
   "cell_type": "markdown",
   "metadata": {
    "id": "eRqLuh3RDkyM"
   },
   "source": [
    "Filtrar los valores múltiplos de 2:"
   ]
  },
  {
   "cell_type": "code",
   "execution_count": null,
   "metadata": {
    "id": "vCtuGHWiDpAM"
   },
   "outputs": [],
   "source": [
    "df.where(df % 2 == 0)"
   ]
  },
  {
   "cell_type": "markdown",
   "metadata": {
    "id": "3iBCpPvNDvxC"
   },
   "source": [
    "Todos aquellos valores que no son múltiplo de 2 son sustituidos por NaN. Si, por ejemplo, quisiéramos cambiar de signo a los valores que no cumplen la condición impuesta, lo haríamos así:"
   ]
  },
  {
   "cell_type": "code",
   "execution_count": null,
   "metadata": {
    "id": "im9OBw1tDzXI"
   },
   "outputs": [],
   "source": [
    "df.where(df % 2 == 0, -df)"
   ]
  },
  {
   "cell_type": "markdown",
   "metadata": {
    "id": "mYRVfM2zD5JW"
   },
   "source": [
    "## <font color='blue'>**Eliminación de elementos en un dataframe**</font>\n",
    "\n",
    "El método **pandas.DataFrame.drop** elimina las filas o columnas indicadas y devuelve el resultado, permitiéndose diferentes criterios para especificarlas.\n",
    "\n",
    "El primer criterio consiste en indicar la lista de etiquetas a eliminar y el eje al que pertenecen."
   ]
  },
  {
   "cell_type": "code",
   "execution_count": null,
   "metadata": {
    "id": "IrWoOnsMEGU-"
   },
   "outputs": [],
   "source": [
    "df = pd.DataFrame(np.arange(16).reshape([4, 4]), \n",
    "                  index = [\"a\", \"b\", \"c\", \"d\"],\n",
    "                  columns = [\"A\", \"B\", \"C\", \"D\"])\n",
    "df"
   ]
  },
  {
   "cell_type": "markdown",
   "metadata": {
    "id": "EohyLf8BEQAz"
   },
   "source": [
    "Eliminar las filas cuyas etiquetas son \"a\" y \"c\"."
   ]
  },
  {
   "cell_type": "code",
   "execution_count": null,
   "metadata": {
    "id": "ICB7In6DEUJo"
   },
   "outputs": [],
   "source": [
    "df.drop([\"a\", \"c\"], axis = 0)"
   ]
  },
  {
   "cell_type": "code",
   "execution_count": null,
   "metadata": {
    "id": "MCG6xVMQEmYp"
   },
   "outputs": [],
   "source": [
    "df.drop([\"a\", \"c\"])"
   ]
  },
  {
   "cell_type": "markdown",
   "metadata": {
    "id": "3C8fdzzIEqQA"
   },
   "source": [
    "Obsérvese que lo que se muestra es el resultado de eliminar las filas indicadas del dataframe. Éste no se modifica salvo que utilicemos el argumento **inplace = True**."
   ]
  },
  {
   "cell_type": "markdown",
   "metadata": {
    "id": "SP9AyCDeEwBj"
   },
   "source": [
    "Para eliminar columnas, habría que indicar el eje correspondiente."
   ]
  },
  {
   "cell_type": "code",
   "execution_count": null,
   "metadata": {
    "id": "u_GC78zkExtm"
   },
   "outputs": [],
   "source": [
    "df.drop([\"B\", \"D\"], axis = 1)"
   ]
  },
  {
   "cell_type": "markdown",
   "metadata": {
    "id": "jTNzmUf6FFno"
   },
   "source": [
    "Otra alternativa para especificar si se están eliminando filas o columnas es utilizar directamente los parámetros **index** y **columns**. Así, otra forma de eliminar las filas \"a\" y \"c\" sería la siguiente:\n",
    "\n"
   ]
  },
  {
   "cell_type": "code",
   "execution_count": null,
   "metadata": {
    "id": "6GGjGOm3FL7Y"
   },
   "outputs": [],
   "source": [
    "df.drop(index = [\"a\", \"c\"])"
   ]
  },
  {
   "cell_type": "code",
   "execution_count": null,
   "metadata": {
    "id": "Yd-NxfoiFR4A"
   },
   "outputs": [],
   "source": [
    "df.drop(columns = [\"B\", \"D\"])"
   ]
  },
  {
   "cell_type": "markdown",
   "metadata": {
    "id": "520WILsA2CFW"
   },
   "source": [
    "## <font color='green'>**Ejercicio 1**</font>\n",
    "\n",
    "En la liga del diplomado de ciencia de datos juegan 6 equipos: Equipo A, Equipo B, Equipo C, Equipo D, Equipo E y el **Equipo de Profes** (Campeón invicto).\n",
    "\n",
    "La imagen muestra la tabla resumen con los resultados de la liga.\n",
    "\n",
    "<img src='https://drive.google.com/uc?export=view&id=1xW3fW4RrTim0N6hGjT51QxBOW-e36if8' width=\"800\" align=\"center\" style=\"margin-right: 20px\">\n",
    "\n",
    "1. Generar el dataframe tabla_posiciones con la información de la tabla anterior.\n",
    "2. Determinar para cada equipo la diferencia de goles (goles a favor -  goles en contra) y agregar esta información al dataframe.\n",
    "3. Determinar la posición de cada equipo en la liga y presentar la información ordenada.\n",
    "4. Durante la confrontación entre el Equipo A y el **Equipo de Profes** que fue ganada por A. El equipo A tenía más jugadores en cancha que los reglamentarios (tramposos!!!), por lo que la comisión disciplinaria decidió: i) descontar los puntos al equipo A y entregarlos (justamente) al **Equipo de Profes**, ii) finalizar el partido por un marcador de 3-0 a favor de los profes. Realice las ediciones correspondientes en el dataframe y entregue la tabla de posiciones final.\n",
    "5. El premio al fair play se entrega al equipo con mejor comportamiento, para ello, se deben sumar las tarjetas acumuladas (tanto amarillas como rojas) en donde a las tarjetas rojas se les aplica un castigo multiplicándolas por 2, en caso de empate se selecciona al con menor número de tarjetas rojas, si se mantiene el empate el premio es para el equipo con menor número de tarjetas totales. Cree una columna fair play con el indicador descrito y determine el ganador del premio.\n",
    "6. El último lugar de la tabla desciende de la liga y por lo tanto debe ser eliminado del dataframe.\n"
   ]
  },
  {
   "cell_type": "code",
   "execution_count": null,
   "metadata": {
    "id": "oCmr4yNb2DIf"
   },
   "outputs": [],
   "source": [
    "#solución"
   ]
  },
  {
   "cell_type": "markdown",
   "metadata": {
    "id": "zRVMnAga2EpR"
   },
   "source": [
    "## <font color='green'>**Fin ejercicio 1**</font>"
   ]
  },
  {
   "cell_type": "markdown",
   "metadata": {
    "id": "w6ZS4AZpFrSa"
   },
   "source": [
    "# <font color='blue'>**Unión de series y dataframes**</font>\n",
    "\n",
    "Muchas veces nos encontramos con que los datos a analizar están repartidos entre dos o más bloques de datos, lo que nos obliga a unirlos, bien concatenándolos, o bien realizando un \"join\" entre las estructuras (uniones del mismo tipo que las realizadas en bases de datos)."
   ]
  },
  {
   "cell_type": "markdown",
   "metadata": {
    "id": "jc6RQT0EF-7Q"
   },
   "source": [
    "## <font color='blue'>**Unión de series**</font>\n"
   ]
  },
  {
   "cell_type": "markdown",
   "metadata": {
    "id": "dZbk-MTlKOoc"
   },
   "source": [
    "## <font color='blue'>**Función concat**</font>\n",
    "\n",
    "Un caso con el que nos encontramos con relativa frecuencia es aquel en el que queremos unir una serie a otra."
   ]
  },
  {
   "cell_type": "code",
   "execution_count": null,
   "metadata": {
    "id": "YIVfMHnYGFyw"
   },
   "outputs": [],
   "source": [
    "s = pd.Series([1, 2, 3, 4, 5], index = [\"a\", \"b\", \"c\", \"d\", \"e\"])\n",
    "r = pd.Series([10, 11, 12], index = [\"f\", \"g\", \"h\"])"
   ]
  },
  {
   "cell_type": "markdown",
   "metadata": {
    "id": "3pmqAQtKG_C2"
   },
   "source": [
    "Si deseamos unir $r$ y $s$ en una nueva serie, podemos usar la función **pandas.concat**. Esta función permite especificar el eje a lo largo del cual unir los diferentes objetos (pueden ser series o dataframes). Por defecto, la concatenación se realiza a lo largo del eje 0."
   ]
  },
  {
   "cell_type": "code",
   "execution_count": null,
   "metadata": {
    "id": "6cYF_XaGHIqv"
   },
   "outputs": [],
   "source": [
    "t = pd.concat([s, r])\n",
    "print(type(t))\n",
    "t"
   ]
  },
  {
   "cell_type": "markdown",
   "metadata": {
    "id": "ZNBx06JzHU9_"
   },
   "source": [
    "El resultado es una serie."
   ]
  },
  {
   "cell_type": "code",
   "execution_count": null,
   "metadata": {
    "id": "f2qVl4YmHm13"
   },
   "outputs": [],
   "source": [
    "a = pd.Series([1, 2, 3, 4, 5], index = [\"a\", \"b\", \"c\", \"d\", \"e\"])\n",
    "b = pd.Series([10, 11, 12, 13, 14], index = [\"a\", \"b\", \"c\", \"d\", \"e\"])\n",
    "print(a)\n",
    "print( )\n",
    "print(b)"
   ]
  },
  {
   "cell_type": "code",
   "execution_count": null,
   "metadata": {
    "id": "TwQhQ7OAu96s"
   },
   "outputs": [],
   "source": [
    "s = pd.concat([a,b])"
   ]
  },
  {
   "cell_type": "code",
   "execution_count": null,
   "metadata": {
    "id": "oork4NRIvD4d"
   },
   "outputs": [],
   "source": [
    "s[\"a\"]"
   ]
  },
  {
   "cell_type": "markdown",
   "metadata": {
    "id": "xwqEhMaTHXjt"
   },
   "source": [
    "Si especificamos como eje de concatenación el eje 1, pandas alineará los valores con idénticas etiquetas. En el siguiente ejemplo, las series $a$ y $b$ tienen algunas etiquetas comunes (y otras no). El resultado incluye todas las etiquetas asignando el valor NaN (\"Not a Number\") a aquellos valores desconocidos.\n",
    "\n"
   ]
  },
  {
   "cell_type": "code",
   "execution_count": null,
   "metadata": {
    "id": "e7dl4oQgH0-8"
   },
   "outputs": [],
   "source": [
    "pd.concat([a,b], axis = 1)"
   ]
  },
  {
   "cell_type": "code",
   "execution_count": null,
   "metadata": {
    "id": "sXThH-bWILow"
   },
   "outputs": [],
   "source": [
    "type(pd.concat([a,b], axis = 1))"
   ]
  },
  {
   "cell_type": "markdown",
   "metadata": {
    "id": "zeFwuJWsIOgu"
   },
   "source": [
    "Como puede observarse, el resultado es un dataframe."
   ]
  },
  {
   "cell_type": "markdown",
   "metadata": {
    "id": "PncBwN6BIMNr"
   },
   "source": [
    "Por otro lado, las etiquetas del índice no tienen por qué ser diferentes, de forma que si se estuviesen concatenando series con etiquetas comunes en sus índices, el resultado sería equivalente a los vistos hasta ahora."
   ]
  },
  {
   "cell_type": "code",
   "execution_count": null,
   "metadata": {
    "id": "Vfevy_gYIqev"
   },
   "outputs": [],
   "source": [
    "s = pd.Series([1, 2, 3, 4], index = [\"a\", \"b\", \"c\", \"d\"])\n",
    "r = pd.Series([10, 11, 12], index = [\"a\", \"c\", \"e\"])\n",
    "print(a)\n",
    "print( )\n",
    "print(b)"
   ]
  },
  {
   "cell_type": "code",
   "execution_count": null,
   "metadata": {
    "id": "m-qN5MasI2Yn"
   },
   "outputs": [],
   "source": [
    "pd.concat([s, r])"
   ]
  },
  {
   "cell_type": "markdown",
   "metadata": {
    "id": "Wl03QEVRJB_K"
   },
   "source": [
    "En este ejemplo se han concatenado dos series que tienen dos etiquetas comunes (\"a\" y \"c\"), y se puede observar que las dos apariciones de cada una de ellas se incluyen en el resultado de la concatenación."
   ]
  },
  {
   "cell_type": "markdown",
   "metadata": {
    "id": "aw7bSeK8Kdnd"
   },
   "source": [
    "## <font color='blue'>**Método append**</font>\n",
    "\n",
    "Otra alternativa es usar el método **pandas.Series.append**, versión simplificada de la función concat ya vista que devuelve la unión de la serie sobre la que se aplica con otra (u otras) series, pero solo a lo largo del eje 0."
   ]
  },
  {
   "cell_type": "code",
   "execution_count": null,
   "metadata": {
    "id": "rkZDh_OXKtCy"
   },
   "outputs": [],
   "source": [
    "a = pd.Series([1, 2, 3, 4, 5], index = [\"a\", \"b\", \"c\", \"d\", \"e\"])\n",
    "b = pd.Series([10, 11, 12], index = [\"f\", \"g\", \"h\"])\n",
    "print(a)\n",
    "print( )\n",
    "print(b)"
   ]
  },
  {
   "cell_type": "code",
   "execution_count": null,
   "metadata": {
    "id": "RypyUjlEK0Lt"
   },
   "outputs": [],
   "source": [
    "c = a.append(b)\n",
    "c"
   ]
  },
  {
   "cell_type": "markdown",
   "metadata": {
    "id": "8cNeYlRrK7s6"
   },
   "source": [
    "Si el argumento **ignore_index** toma el valor True, se ignoran las etiquetas de las series."
   ]
  },
  {
   "cell_type": "code",
   "execution_count": null,
   "metadata": {
    "id": "NdcJqbabK-oA"
   },
   "outputs": [],
   "source": [
    "c = a.append(b, ignore_index = True)\n",
    "c"
   ]
  },
  {
   "cell_type": "markdown",
   "metadata": {
    "id": "pULXnMCXLIZ6"
   },
   "source": [
    "## <font color='blue'>**Concatenación y unión de dataframes**</font>\n",
    "\n",
    "Ésta es otra de las áreas en las que la variedad de opciones puede resultar confusa. A modo de resumen, digamos que pandas ofrece dos principales funciones con este objetivo: **pandas.concat** y **pandas.merge**.\n",
    "\n",
    "* La función **concat** permite concatenar dataframes a lo largo de un determinado eje\n",
    "* La función **merge** permite realizar uniones (joins) entre dataframes tal y como se realizan en bases de datos. Esta función también está disponible como método: **pandas.DataFrame.merge**\n",
    "\n",
    "Hay una tercera función que está disponible solo como método: **pandas.DataFrame.append**. El método **append** ofrece una funcionalidad semejante a la de la función concat pero reducida. Así, por ejemplo, solo permite realizar concatenaciones a lo largo del eje 0 (es decir, verticalmente)."
   ]
  },
  {
   "cell_type": "markdown",
   "metadata": {
    "id": "c8Rh9GKFL1ek"
   },
   "source": [
    "## <font color='blue'>**Función concat**</font>\n",
    "\n",
    "La función **pandas.concat** es la responsable de concatenar dos o más dataframes (y de todas las estructuras proveídas por pandas) a lo largo de un eje, con soporte a lógica de conjuntos a la hora de gestionar etiquetas en ejes no coincidentes."
   ]
  },
  {
   "cell_type": "code",
   "execution_count": null,
   "metadata": {
    "id": "nafiOU6YMD1h"
   },
   "outputs": [],
   "source": [
    "df1 = pd.DataFrame(np.arange(9).reshape([3, 3]),\n",
    "                   index = [\"a\", \"b\", \"d\"],\n",
    "                   columns = [\"A\", \"B\", \"C\"])\n",
    "df1"
   ]
  },
  {
   "cell_type": "code",
   "execution_count": null,
   "metadata": {
    "id": "678ah7ShMZnK"
   },
   "outputs": [],
   "source": [
    "df2 = pd.DataFrame(np.arange(12).reshape([4, 3]),\n",
    "                   index = [\"a\", \"b\", \"c\", \"e\"],\n",
    "                   columns = [\"B\", \"C\", \"D\"])\n",
    "df2"
   ]
  },
  {
   "cell_type": "markdown",
   "metadata": {
    "id": "F8ktN91mMzA7"
   },
   "source": [
    "Si pasamos a la función concat ambos dataframes como primer argumento (en forma de lista), obtenemos el siguiente resultado:"
   ]
  },
  {
   "cell_type": "code",
   "execution_count": null,
   "metadata": {
    "id": "1PGX57QgM4k7"
   },
   "outputs": [],
   "source": [
    "pd.concat([df1, df2])"
   ]
  },
  {
   "cell_type": "markdown",
   "metadata": {
    "id": "fAtd90IwM_08"
   },
   "source": [
    "Por defecto, la concatenación se ha realizado a lo largo del eje 0 (eje vertical), uniendo los índices de fila de ambos dataframes, y alineando las columnas por su etiqueta. Los valores para los que no hay datos se han rellenado con NaN.\n",
    "\n",
    "Si especificamos que la concatenación se realice a lo largo del eje 1 (eje horizontal), el resultado es el siguiente:"
   ]
  },
  {
   "cell_type": "code",
   "execution_count": null,
   "metadata": {
    "id": "xVFnXa1MNIto"
   },
   "outputs": [],
   "source": [
    "pd.concat([df1, df2], axis = 1)"
   ]
  },
  {
   "cell_type": "markdown",
   "metadata": {
    "id": "jJMvEwSINRKJ"
   },
   "source": [
    "De modo semejante al primer ejemplo, se han introducido NaN's donde no había datos, y se han alineado las filas por su etiqueta.\n",
    "\n",
    "Estos dos ejemplos vistos son tipo **\"Outer\"** (opción por defecto), considerando todas las etiquetas de los dos dataframes aun cuando no sean comunes a ambos. Pero si especificamos el argumento **join = \"Inner\"**, los resultados pasan a considerar solo las etiquetas comunes."
   ]
  },
  {
   "cell_type": "code",
   "execution_count": null,
   "metadata": {
    "id": "Xz2RbryRNbj1"
   },
   "outputs": [],
   "source": [
    "pd.concat([df1, df2], join = \"inner\")"
   ]
  },
  {
   "cell_type": "markdown",
   "metadata": {
    "id": "wV7vzfHFNluf"
   },
   "source": [
    "Incluye solo las columnas B y C comunes a ambos dataframes. Y para el segundo ejemplo tenemos:"
   ]
  },
  {
   "cell_type": "code",
   "execution_count": null,
   "metadata": {
    "id": "zYIO8oILNosc"
   },
   "outputs": [],
   "source": [
    "pd.concat([df1, df2], axis = 1, join = \"inner\")"
   ]
  },
  {
   "cell_type": "markdown",
   "metadata": {
    "id": "36bn8bQ9NvHL"
   },
   "source": [
    "Incluyendo solo las filas a y b comunes a ambos dataframes."
   ]
  },
  {
   "cell_type": "markdown",
   "metadata": {
    "id": "J3cXFLwWNyt1"
   },
   "source": [
    "El parámetro **ignore_index** controla el índice a asignar al eje a lo largo del cuál se realiza la concatenación. Si este parámetro toma el valor False (por defecto), el eje de concatenación mantiene las etiquetas de los dataframes originales. Si toma el valor True, se ignoran dichas etiquetas y el resultado de la concatenación recibe un nuevo índice automático numérico. "
   ]
  },
  {
   "cell_type": "code",
   "execution_count": null,
   "metadata": {
    "id": "93lc9C-TN-iH"
   },
   "outputs": [],
   "source": [
    "pd.concat([df1, df2], axis = 1, join = \"inner\", ignore_index = True)"
   ]
  },
  {
   "cell_type": "markdown",
   "metadata": {
    "id": "SwmFJfB6OKYI"
   },
   "source": [
    "## <font color='blue'>**Método append**</font>\n",
    "\n",
    "El método **pandas.DataFrame.append** es un atajo de la función concat que ofrece funcionalidad semejante pero limitada: no permite especificar el eje de concatenación (siempre es el eje 0) ni el tipo de \"join\" (siempre es tipo \"Outer\")."
   ]
  },
  {
   "cell_type": "code",
   "execution_count": null,
   "metadata": {
    "id": "VWsOLi6WOX78"
   },
   "outputs": [],
   "source": [
    "df1 = pd.DataFrame(np.arange(9).reshape([3, 3]),\n",
    "                   index = [\"a\", \"b\", \"d\"],\n",
    "                   columns = [\"A\", \"B\", \"C\"])\n",
    "df1"
   ]
  },
  {
   "cell_type": "code",
   "execution_count": null,
   "metadata": {
    "id": "ipGuEARqObxY"
   },
   "outputs": [],
   "source": [
    "df2 = pd.DataFrame(np.arange(12).reshape([4, 3]),\n",
    "                   index = [\"a\", \"b\", \"c\", \"e\"],\n",
    "                   columns = [\"B\", \"C\", \"D\"])\n",
    "df2"
   ]
  },
  {
   "cell_type": "code",
   "execution_count": null,
   "metadata": {
    "id": "LDYz-0SiOf57"
   },
   "outputs": [],
   "source": [
    "df1.append(df2)"
   ]
  },
  {
   "cell_type": "markdown",
   "metadata": {
    "id": "keyCIp92Ok1Q"
   },
   "source": [
    "Al igual que ocurría con la función **concat**, el parámetro ignore_index nos permite controlar las etiquetas que recibe el índice del resultado: las de los dataframes originales (con ignore_index = False, opción por defecto), o uno nuevo automático (con ignore_index = True)."
   ]
  },
  {
   "cell_type": "markdown",
   "metadata": {
    "id": "ck7WGAv3OrN7"
   },
   "source": [
    "## <font color='blue'>**Función Merge**</font>\n",
    "\n",
    "La función **pandas.merge** nos permite realizar \"joins\" entre tablas. El join es realizado sobre las columnas o sobre las filas. En el primer caso, las etiquetas de las filas son ignoradas. En cualquier otro caso (joins realizado entre etiquetas de filas, o entre etiquetas de filas y de columnas), las etiquetas de filas se mantienen.\n"
   ]
  },
  {
   "cell_type": "code",
   "execution_count": null,
   "metadata": {
    "id": "MRsfchCqO5VS"
   },
   "outputs": [],
   "source": [
    "df1 = pd.DataFrame({\n",
    "    \"Mes\": [\"ene\", \"feb\", \"mar\", \"may\"],\n",
    "    \"Ventas\": [14, 8, 12, 17]\n",
    "})\n",
    "df1"
   ]
  },
  {
   "cell_type": "code",
   "execution_count": null,
   "metadata": {
    "id": "aV3Cv4HvPMcV"
   },
   "outputs": [],
   "source": [
    "df2 = pd.DataFrame({\n",
    "    \"Mes\": [\"feb\", \"ene\", \"mar\", \"abr\"],\n",
    "    \"Costos\": [7, 6, 8, 5]\n",
    "})\n",
    "df2"
   ]
  },
  {
   "cell_type": "markdown",
   "metadata": {
    "id": "EKOkpNDFPavu"
   },
   "source": [
    "Ambos dataframes tienen una columna común (\"Month\") y varias filas comunes (\"ene\", \"feb\" y \"mar\"). Obsérvese que en df2 las filas no están ordenadas y que, en df1, el mes de enero tiene índice 0 mientras que, en df2, el mes de enero tiene índice 1.\n",
    "\n",
    "Si aplicamos la función merge a estos dataframes con los valores por defecto, obtenemos el siguiente resultado."
   ]
  },
  {
   "cell_type": "code",
   "execution_count": null,
   "metadata": {
    "id": "D5NkKfrqPh74"
   },
   "outputs": [],
   "source": [
    "pd.merge(df1, df2)"
   ]
  },
  {
   "cell_type": "markdown",
   "metadata": {
    "id": "YsJA18iPPoY7"
   },
   "source": [
    "Esos valores por defecto suponen que el join se realiza sobre las columnas comunes y tipo \"inner\" (considerando solo las filas con etiquetas comunes).\n",
    "\n",
    "Si especificamos que el join sea de tipo \"outer\", lo que definimos con el parámetro how, el resultado considerará todas las etiquetas presentes en ambos dataframes."
   ]
  },
  {
   "cell_type": "code",
   "execution_count": null,
   "metadata": {
    "id": "7mJwdNA-P3Ke"
   },
   "outputs": [],
   "source": [
    "pd.merge(df1, df2, how = \"outer\")"
   ]
  },
  {
   "cell_type": "markdown",
   "metadata": {
    "id": "tkwIGwRnP_hg"
   },
   "source": [
    "Se rellena con NaN's los valores inexistentes. Otras opciones para el parámetro how son \"left\" y \"right\" (además de la opción por defecto, \"outer\").\n",
    "\n",
    "Por defecto, el join se realiza entre las columnas comunes. Esto es, sin embargo, controlable usando el parámetro **on** y especificando la columna o columnas a usar."
   ]
  },
  {
   "cell_type": "code",
   "execution_count": null,
   "metadata": {
    "id": "uH-5NA4WQLbC"
   },
   "outputs": [],
   "source": [
    "df1 = pd.DataFrame({\n",
    "    \"Mes\": [\"ene\", \"ene\", \"feb\", \"feb\"],\n",
    "    \"Producto\": [\"A\", \"B\", \"A\", \"B\"],\n",
    "    \"Ventas\": [14, 8, 12, 17]\n",
    "})\n",
    "df1"
   ]
  },
  {
   "cell_type": "code",
   "execution_count": null,
   "metadata": {
    "id": "ueI7l-ynQdt9"
   },
   "outputs": [],
   "source": [
    "df2 = pd.DataFrame({\n",
    "    \"Mes\": [\"ene\", \"ene\", \"feb\", \"feb\"],\n",
    "    \"Producto\": [\"A\", \"B\", \"A\", \"B\"],\n",
    "    \"Costo\": [7, 6, 8, 5]\n",
    "})\n",
    "df2"
   ]
  },
  {
   "cell_type": "markdown",
   "metadata": {
    "id": "hBTjmIoSQp29"
   },
   "source": [
    "Hay dos columnas comunes, lo que supone que el resultado de un merge por defecto sería el siguiente:"
   ]
  },
  {
   "cell_type": "code",
   "execution_count": null,
   "metadata": {
    "id": "anqHOxg3QsRo"
   },
   "outputs": [],
   "source": [
    "pd.merge(df1, df2)"
   ]
  },
  {
   "cell_type": "markdown",
   "metadata": {
    "id": "UW0xvbV9Q0b4"
   },
   "source": [
    "Es decir, para cada combinación de Mes-Producto se añadirían los valores de los campos de ventas y costo. Si se quiere que el join se realice solo por uno de los campos, Producto, por ejemplo, bastaría con especificarlo con el parámetro on."
   ]
  },
  {
   "cell_type": "code",
   "execution_count": null,
   "metadata": {
    "id": "1oe0yvVfQ85c"
   },
   "outputs": [],
   "source": [
    "pd.merge(df1, df2, on = \"Producto\")"
   ]
  },
  {
   "cell_type": "markdown",
   "metadata": {
    "id": "7rfjJFCHRJIM"
   },
   "source": [
    "Además del campo utilizado para realizar el join (\"Producto\"), al existir un campo común a ambos dataframes (\"Mes\") que no se desea usar para el join, pandas añade un sufijo (configurable) a este campo en ambas tablas para poder diferenciarlo.\n",
    "\n",
    "También podría ocurrir que ambos dataframes no tuviesen columnas comunes (columnas con el mismo nombre) pero que, aun así, quisiéramos realizar el join por algunas de ellas. Por ejemplo:"
   ]
  },
  {
   "cell_type": "code",
   "execution_count": null,
   "metadata": {
    "id": "Ze03TH3TRRoh"
   },
   "outputs": [],
   "source": [
    "df1 = pd.DataFrame({\n",
    "    \"Mes\": [\"ene\", \"feb\", \"mar\", \"may\"],\n",
    "    \"Ventas\": [14, 8, 12, 17]\n",
    "})\n",
    "df1"
   ]
  },
  {
   "cell_type": "code",
   "execution_count": null,
   "metadata": {
    "id": "E0TkltaQRbZx"
   },
   "outputs": [],
   "source": [
    "df2 = pd.DataFrame({\n",
    "    \"NombreMes\": [\"feb\", \"ene\", \"mar\", \"abr\"],\n",
    "    \"Costos\": [7, 6, 8, 5]\n",
    "})\n",
    "df2"
   ]
  },
  {
   "cell_type": "markdown",
   "metadata": {
    "id": "oM9-Q4_LReGk"
   },
   "source": [
    "Al no haber columnas comunes, la ejecución de la función merge devolvería un error. En este caso podemos usar los parámetros **left_on** y **right_on** para especificar el campo a usar en la tabla de la izquierda del join y en la de la derecha, respectivamente."
   ]
  },
  {
   "cell_type": "code",
   "execution_count": null,
   "metadata": {
    "id": "tpxxN2SSRkrO"
   },
   "outputs": [],
   "source": [
    "pd.merge(df1, df2, left_on = \"Mes\", right_on = \"NombreMes\")"
   ]
  },
  {
   "cell_type": "markdown",
   "metadata": {
    "id": "BNHzyOEUR-S8"
   },
   "source": [
    "## <font color='blue'>**Join por filas**</font>\n",
    "\n",
    "Si queremos que el join considere las filas -y no las columnas- de alguno de los dataframes para realizar el join, podemos usar los parámetros **left_index** y **right_index**.\n"
   ]
  },
  {
   "cell_type": "code",
   "execution_count": null,
   "metadata": {
    "id": "Ovo8Xw4tSKiD"
   },
   "outputs": [],
   "source": [
    "df1 = pd.DataFrame({\n",
    "    \"Mes\": [\"ene\", \"feb\", \"mar\", \"may\"],\n",
    "    \"Ventas\": [14, 8, 12, 17]\n",
    "})\n",
    "df1"
   ]
  },
  {
   "cell_type": "code",
   "execution_count": null,
   "metadata": {
    "id": "vWBXOFCaSRXT"
   },
   "outputs": [],
   "source": [
    "df2 = pd.DataFrame({\n",
    "    \"Compras\": [5, 9, 11, 2, 6]},\n",
    "    index = [\"ene\", \"feb\", \"mar\", \"abr\", \"may\"]\n",
    ")\n",
    "df2"
   ]
  },
  {
   "cell_type": "markdown",
   "metadata": {
    "id": "2Vtz98U4SquH"
   },
   "source": [
    "La ejecución de la función **merge** no sería posible -devolvería un error- pues no hay columnas columnes. En este caso querríamos que para el dataframe df1 se considerase la columna \"Mes\" -usando el parámetro left_on- y para el dataframe df2 el índice -usando el parámetro right_index-, de la siguiente forma:"
   ]
  },
  {
   "cell_type": "code",
   "execution_count": null,
   "metadata": {
    "id": "I3Hqn8MhSwma"
   },
   "outputs": [],
   "source": [
    "pd.merge(df1, df2, left_on = \"Mes\", right_index = True)"
   ]
  },
  {
   "cell_type": "markdown",
   "metadata": {
    "id": "QPbYKu25Vrae"
   },
   "source": [
    "# <font color='blue'>**Operaciones con estructuras pandas**</font>\n",
    "\n",
    "Al basarse la bibliteca **pandas** en **NumPy**, todas las funciones universales de esta última funcionan con pandas, pero con una particularidad: al aplicar operaciones unarias se conservan las etiquetas de filas y columnas, y en funciones binarias, se van a alinear las filas y columnas de las estructuras involucradas por sus etiquetas."
   ]
  },
  {
   "cell_type": "markdown",
   "metadata": {
    "id": "2d-LSQs5V7pQ"
   },
   "source": [
    "## <font color='blue'>**Operaciones con series**</font>\n",
    "\n",
    "Si aplicamos una función unaria a una serie, el resultado es otra serie que conserva los índices de la original."
   ]
  },
  {
   "cell_type": "code",
   "execution_count": null,
   "metadata": {
    "id": "PZRJpRI2WCli"
   },
   "outputs": [],
   "source": [
    "r = pd.Series([1, 2, 3, 4], index = [\"a\", \"b\", \"c\", \"d\"])\n",
    "r"
   ]
  },
  {
   "cell_type": "code",
   "execution_count": null,
   "metadata": {
    "id": "HmYi-PyYWKZa"
   },
   "outputs": [],
   "source": [
    "print(type(np.square(r)))\n",
    "np.square(r)"
   ]
  },
  {
   "cell_type": "markdown",
   "metadata": {
    "id": "CoIPnVnyWYIT"
   },
   "source": [
    "Por otro lado, los operadores aritméticos que involucran dos o más series van a alinear las etiquetas antes de ejecutarse."
   ]
  },
  {
   "cell_type": "code",
   "execution_count": null,
   "metadata": {
    "id": "qhwjJck4WaYh"
   },
   "outputs": [],
   "source": [
    "r = pd.Series([1, 2, 3, 4], index = [\"a\", \"b\", \"c\", \"d\"])\n",
    "s = pd.Series([1, 2, 3, 4], index = [\"b\", \"c\", \"d\", \"e\"])\n",
    "print(r)\n",
    "print( )\n",
    "print(s)"
   ]
  },
  {
   "cell_type": "code",
   "execution_count": null,
   "metadata": {
    "id": "BOjvplb4WnSM"
   },
   "outputs": [],
   "source": [
    "r + s"
   ]
  },
  {
   "cell_type": "markdown",
   "metadata": {
    "id": "Yo-zyd-HWvR5"
   },
   "source": [
    "En este ejemplo, se han sumado dos series cuyas etiquetas no son todas comunes. Pandas rellena los valores no coincidentes con NaN.\n",
    "\n",
    "Si se utiliza el método **pandas.Series.add** se asigna a la serie sobre la que se aplica el método el resultado de la suma."
   ]
  },
  {
   "cell_type": "code",
   "execution_count": null,
   "metadata": {
    "id": "KNoLWP98W8nV"
   },
   "outputs": [],
   "source": [
    "r = pd.Series([1, 2, 3, 4], index = [\"a\", \"b\", \"c\", \"d\"])\n",
    "s = pd.Series([1, 2, 3, 4], index = [\"b\", \"c\", \"d\", \"e\"])\n",
    "r.add(s)"
   ]
  },
  {
   "cell_type": "markdown",
   "metadata": {
    "id": "k6mBIHDDXErp"
   },
   "source": [
    "Usando este método es posible especificar el valor a usar para rellenar los elementos desconocidos usando el parámetro **fill_value**.\n",
    "\n"
   ]
  },
  {
   "cell_type": "code",
   "execution_count": null,
   "metadata": {
    "id": "UaG02Jt5XIT_"
   },
   "outputs": [],
   "source": [
    "r = pd.Series([1, 2, 3, 4], index = [\"a\", \"b\", \"c\", \"d\"])\n",
    "s = pd.Series([1, 2, 3, 4], index = [\"b\", \"c\", \"d\", \"e\"])\n",
    "print(r)\n",
    "print( )\n",
    "print(s)"
   ]
  },
  {
   "cell_type": "code",
   "execution_count": null,
   "metadata": {
    "id": "YAP-api9XWN4"
   },
   "outputs": [],
   "source": [
    "r.add(s, fill_value = 0)"
   ]
  },
  {
   "cell_type": "markdown",
   "metadata": {
    "id": "tX17ga54Xb8M"
   },
   "source": [
    "Con este atributo, no estamos simplemente sustituyendo los NaN del resultado por el valor indicado, sino que estamos usando dicho valor como alternativa a los valores de las series originales que no existiesen."
   ]
  },
  {
   "cell_type": "markdown",
   "metadata": {
    "id": "gpT1NOL5Xjkq"
   },
   "source": [
    "Otras funciones son:\n",
    "\n",
    "* **pandas.Series.sub**, que resta una serie a otra, elemento por elemento\n",
    "* **pandas.Series.mul**, que multipica una serie por otra, elemento por elemento\n",
    "* **pandas.Series.div**, que divide una serie por otra, elemento por elemento\n",
    "* **pandas.Series.round**, que redondea los elementos de una serie al número de decimales indicado.\n",
    "\n",
    "En la documentación oficial está el listado completo de funciones disponibles para las series, pinche <a href=\"https://pandas.pydata.org/pandas-docs/stable/reference/series.html\">aquí</a>."
   ]
  },
  {
   "cell_type": "markdown",
   "metadata": {
    "id": "ryPqLUH4YV2F"
   },
   "source": [
    "## <font color='blue'>**Operaciones con dataframes**</font>\n",
    "\n",
    "Las operaciones binarias alinearán los datos de los dataframes involucrados según sus etiquetas de filas y columnas antes de ejecutarse."
   ]
  },
  {
   "cell_type": "code",
   "execution_count": null,
   "metadata": {
    "id": "SMc2dsPkYhAu"
   },
   "outputs": [],
   "source": [
    "df1 = pd.DataFrame({\"A\": [2, 4, 2],\n",
    "                    \"B\": [1, 0, 4],\n",
    "                    \"C\": [7, 3, 4],\n",
    "                    \"D\": [3, 1, 5]},\n",
    "                   index = [\"ene\", \"feb\", \"mar\"])\n",
    "df1"
   ]
  },
  {
   "cell_type": "code",
   "execution_count": null,
   "metadata": {
    "id": "8Jf_Cz4bZGQq"
   },
   "outputs": [],
   "source": [
    "df2 = pd.DataFrame({\"A\": [3, 5, 2],\n",
    "                    \"C\": [1, 2, 3],\n",
    "                    \"D\": [4, 3, 4],\n",
    "                    \"E\": [6, 3, 1]},\n",
    "                   index = [\"feb\", \"mar\", \"abr\"])\n",
    "df2"
   ]
  },
  {
   "cell_type": "code",
   "execution_count": null,
   "metadata": {
    "id": "HpXzzd9KZXMC"
   },
   "outputs": [],
   "source": [
    "df1 + df2"
   ]
  },
  {
   "cell_type": "markdown",
   "metadata": {
    "id": "Ih17vgZPZoOj"
   },
   "source": [
    "Pandas inserta NaN's en aquellas combinaciones de etiquetas para las que no hay un valor en ambos dataframes.\n",
    "\n",
    "La alineación se produce con independencia del orden en el que las etiquetas aparezcan en los índices.\n",
    "\n",
    "Podemos realizar la misma operación y asignar el resultado a uno de los dataframes con el método **pandas.DataFrame.add**."
   ]
  },
  {
   "cell_type": "code",
   "execution_count": null,
   "metadata": {
    "id": "i8P3FyLdZy4y"
   },
   "outputs": [],
   "source": [
    "df1.add(df2)"
   ]
  },
  {
   "cell_type": "markdown",
   "metadata": {
    "id": "G3b5WLBsZ3Cv"
   },
   "source": [
    "Con este método, de forma semejante a como ocurría con las series, es posible establecar un valor predeterminado para aquellos valores que no se encuentren en uno de los dataframes usando el parámetro **fill_value**."
   ]
  },
  {
   "cell_type": "code",
   "execution_count": null,
   "metadata": {
    "id": "Fg-IfiHYZ7Cr"
   },
   "outputs": [],
   "source": [
    "df1.add(df2, fill_value = 0)"
   ]
  },
  {
   "cell_type": "markdown",
   "metadata": {
    "id": "cs8Ncj2faJl7"
   },
   "source": [
    "Ahora, el valor correspondiente a A-Abr no es un NaN, sino 2 (valor que podemos encontrar en el dataframe df2). Aquellas combinaciones de etiquetas para las que no existe valor alguno en ninguno de los dos dataframes siguen recibiendo un NaN.\n",
    "\n",
    "Se muestra a continuación un listado con algunas operaciones básicas disponibles como métodos de dataframes:\n",
    "\n",
    "* **pandas.DataFrame.add**: suma los dos dataframes, elemento por elemento\n",
    "* **pandas.DataFrame.sub**: resta a un dataframe otro dataframe, elemento por elemento\n",
    "* **pandas.DataFrame.mul**: multiplica un dataframe por otro, elemento por elemento\n",
    "* **pandas.DataFrame.div**: divide un dataframe por otro, elemento por elemento\n",
    "* **pandas.DataFrame.mod**: devuelve el resultado de calcular el módulo de un dataframe y otro dataframe, elemento por elemento\n",
    "* **pandas.DataFrame.dot**: devuelve la multiplicación de las dos matrices representadas por los dos dataframes\n",
    "* **pandas.DataFrame.abs**: devuelve una copia del dataframe conteniendo el valor absoluto de cada uno de sus valores\n",
    "\n",
    "Podemos encontrar en la documentación oficial de pandas el listado completo de funciones disponibles, pinche <a href=\"https://pandas.pydata.org/pandas-docs/stable/reference/frame.html\">aquí</a>.\n",
    "."
   ]
  },
  {
   "cell_type": "markdown",
   "metadata": {
    "id": "yiGydku_a6nE"
   },
   "source": [
    "## <font color='blue'>**Métodos de agregación y estadística**</font>\n",
    "\n",
    "Los dataframes poseen un útil método que devuelve información estadística sobre los valores contenidos en él: **pandas.DataFrame.describe**:"
   ]
  },
  {
   "cell_type": "code",
   "execution_count": null,
   "metadata": {
    "id": "dPZIn2awbB3E"
   },
   "outputs": [],
   "source": [
    "ventas = pd.DataFrame({\n",
    "    \"Entradas\": [41, 32, 56, 18],\n",
    "    \"Salidas\": [17, 54, 6, 78],\n",
    "    \"Valoración\": [66, 54, 49, 66],\n",
    "    \"Limite\": [\"No\", \"Si\", \"No\", \"No\"],\n",
    "    \"Cambio\": [1.43, 1.16, -0.67, 0.77]\n",
    "},\n",
    "index = [\"ene\", \"feb\", \"mar\", \"abr\"]\n",
    ")\n",
    "ventas"
   ]
  },
  {
   "cell_type": "code",
   "execution_count": null,
   "metadata": {
    "id": "cP38itrebuJj"
   },
   "outputs": [],
   "source": [
    "ventas.describe()"
   ]
  },
  {
   "cell_type": "markdown",
   "metadata": {
    "id": "Rx7fF0xLbzJ_"
   },
   "source": [
    "Este método devuelve el número de elementos no nulos por columna, el valor medio, la desviación estándar, el valor mínimo y el máximo, y los valores correspondientes a los percentiles 25, 50 y 75."
   ]
  },
  {
   "cell_type": "code",
   "execution_count": null,
   "metadata": {
    "id": "6I9SKeyLcDfE"
   },
   "outputs": [],
   "source": [
    "df = pd.DataFrame({\"A\": [3, 5, 2],\n",
    "                    \"B\": [1, 2, 3],\n",
    "                    \"C\": [4, 3, 4],\n",
    "                    \"D\": [6, 3, 1]},\n",
    "                   index = [\"ene\", \"feb\", \"mar\"])\n",
    "df"
   ]
  },
  {
   "cell_type": "markdown",
   "metadata": {
    "id": "_pCExmZfcY5N"
   },
   "source": [
    "**pandas.DataFrame.mean**, devuelve la media aritmética de los valores del dataframe a lo largo de un determinado eje (eje 0 -vertical- por defecto):"
   ]
  },
  {
   "cell_type": "code",
   "execution_count": null,
   "metadata": {
    "id": "ZO4z62N1cQwf"
   },
   "outputs": [],
   "source": [
    "df.mean()"
   ]
  },
  {
   "cell_type": "code",
   "execution_count": null,
   "metadata": {
    "id": "gtvIOh2IcgkN"
   },
   "outputs": [],
   "source": [
    "df.mean(axis = 1)"
   ]
  },
  {
   "cell_type": "markdown",
   "metadata": {
    "id": "fL16OHOZcmL0"
   },
   "source": [
    "* **pandas.DataFrame.median**: Devuelve la mediana de los valores del dataframe a lo largo de un determinado eje.\n",
    "* **pandas.DataFrame.mode**: Devuelve la moda de los valores del dataframe a lo largo de un determinado eje.\n",
    "* **pandas.DataFrame.std**: Devuelve la desviación estándar de los valores del dataframe a lo largo de un determinado eje.\n",
    "* **pandas.DataFrame.var**: Devuelve la varianza de los valores del dataframe a lo largo de un determinado eje\n",
    "* **pandas.DataFrame.pct_change**: Devuelve el porcentaje de cambio de un valor con respecto al de la fila anterior (también puede aplicarse a columnas usando el parámetro axis):"
   ]
  },
  {
   "cell_type": "code",
   "execution_count": null,
   "metadata": {
    "id": "ipNsvQdhdDc-"
   },
   "outputs": [],
   "source": [
    "df = pd.DataFrame({\"A\": [3, 5, 2, 4],\n",
    "                    \"B\": [1, 2, 3, 3],\n",
    "                    \"C\": [4, 3, 4, 6],\n",
    "                    \"D\": [6, 3, 1, 3]},\n",
    "                   index = [\"ene\", \"feb\", \"mar\", \"abr\"])\n",
    "df"
   ]
  },
  {
   "cell_type": "code",
   "execution_count": null,
   "metadata": {
    "id": "eYTOYqubdbB3"
   },
   "outputs": [],
   "source": [
    "df.pct_change()"
   ]
  },
  {
   "cell_type": "markdown",
   "metadata": {
    "id": "rlyyKogXdhgS"
   },
   "source": [
    "Para los valores de la primera fila, al no existir una anterior con respecto a la que realizar el cálculo, reciben un valor NaN por defecto. En todo caso, es posible regular el comportamiento del método al respecto de los valores NaN con el parámetro **fill_method**."
   ]
  },
  {
   "cell_type": "markdown",
   "metadata": {
    "id": "fQYeDVxpdqPb"
   },
   "source": [
    "**pandas.DataFrame.nunique**: Devuelve el número de elementos distintos a lo largo de un determinado eje. El parámetro dropna controla si se incluyen los NaN en el recuento o no."
   ]
  },
  {
   "cell_type": "code",
   "execution_count": null,
   "metadata": {
    "id": "ZhjttzZ_dwNK"
   },
   "outputs": [],
   "source": [
    "df.nunique()"
   ]
  },
  {
   "cell_type": "markdown",
   "metadata": {
    "id": "642ZgWSVeAeh"
   },
   "source": [
    "## <font color='blue'>**Operaciones entre dataframes y series**</font>\n",
    "\n",
    "Podemos operar entre un dataframe y una serie."
   ]
  },
  {
   "cell_type": "code",
   "execution_count": null,
   "metadata": {
    "id": "xYCoJYVZeHHO"
   },
   "outputs": [],
   "source": [
    "df = pd.DataFrame({\"A\": [3, 5, 2],\n",
    "                    \"B\": [1, 2, 3],\n",
    "                    \"C\": [4, 3, 4],\n",
    "                    \"D\": [6, 3, 1]},\n",
    "                   index = [\"ene\", \"feb\", \"mar\"])\n",
    "df"
   ]
  },
  {
   "cell_type": "code",
   "execution_count": null,
   "metadata": {
    "id": "o4AObj52eO4L"
   },
   "outputs": [],
   "source": [
    "s = pd.Series([2, 1, 0, 2], index = [\"A\", \"B\", \"C\", \"D\"])\n",
    "s"
   ]
  },
  {
   "cell_type": "code",
   "execution_count": null,
   "metadata": {
    "id": "xx8DjjBBea_1"
   },
   "outputs": [],
   "source": [
    "df + s"
   ]
  },
  {
   "cell_type": "markdown",
   "metadata": {
    "id": "T4A0uNMxefV8"
   },
   "source": [
    "La operación se ha realizado **\"row-wise\"**, aplicando la suma fila por fila, tras haberse alineado el dataframe y la serie según las etiquetas del índice de columnas.\n",
    "\n",
    "En el caso de que las columnas no sean completamente coincidentes, se rellenan los elementos desconocidos con NaN."
   ]
  },
  {
   "cell_type": "code",
   "execution_count": null,
   "metadata": {
    "id": "QLtRLytZem_d"
   },
   "outputs": [],
   "source": [
    "s = pd.Series([2, 1, 0, 2], index = [\"A\", \"B\", \"E\", \"D\"])\n",
    "df + s"
   ]
  },
  {
   "cell_type": "markdown",
   "metadata": {
    "id": "Ujc4dAqnevGq"
   },
   "source": [
    "Es posible usar los métodos vistos en la sección anterior para operar también entre dataframes y series, pudiendo especificar el eje a lo largo del cual quiere realizarse la operación."
   ]
  },
  {
   "cell_type": "code",
   "execution_count": null,
   "metadata": {
    "id": "89FSNLEsezUz"
   },
   "outputs": [],
   "source": [
    "df = pd.DataFrame({\"A\": [3, 5, 2],\n",
    "                    \"B\": [1, 2, 3],\n",
    "                    \"C\": [4, 3, 4],\n",
    "                    \"D\": [6, 3, 1]},\n",
    "                   index = [\"ene\", \"feb\", \"mar\"])\n",
    "df"
   ]
  },
  {
   "cell_type": "code",
   "execution_count": null,
   "metadata": {
    "id": "w7SOwskBe7L0"
   },
   "outputs": [],
   "source": [
    "s = pd.Series([2, 1, 0], index = [\"ene\", \"feb\", \"mar\"])\n",
    "s"
   ]
  },
  {
   "cell_type": "code",
   "execution_count": null,
   "metadata": {
    "id": "lP3BrqJpfEEH"
   },
   "outputs": [],
   "source": [
    "df.add(s, axis = 0)"
   ]
  },
  {
   "cell_type": "markdown",
   "metadata": {
    "id": "dPnzzh1bI852"
   },
   "source": [
    "## <font color='green'>**Ejercicio 2**</font>\n",
    "\n",
    "En el siguiente dataframe se guardan los datos personales de un grupo de clientes:\n",
    "\n",
    "```\n",
    "clientes = {'nombre' : ['Orlando' ,'Inés' ,'Michelle', 'Alberto', 'Esteban'],\n",
    "           'apellido' : ['Figueroa' ,'Benítez' ,'Gómez', 'Riesco', 'Martínez'],\n",
    "           'edad' : [30 ,21 ,29 ,22, 24]}\n",
    "clientes = pd.DataFrame(clientes, columns = ['nombre', 'apellido', 'edad'])\n",
    "```\n",
    "En el siguiente se incluyen las transacciones:\n",
    "\n",
    "\n",
    "\n",
    "```\n",
    "facturas = {'factura_id': [1, 2, 3, 4, 5, 6, 7, 8, 9, 10, 11, 12],\n",
    "            'cliente_id' : [3, 2, 7, 2, 7, 3, 1, 4 ,2, 3, 6, 2],\n",
    "            'cantidad': [77.91, 24.36, 74.65, 19.75, 27.46, 17.13, 45.77, 81.7, 14.41, 52.69, 32.03, 12.78]}\n",
    "facturas = pd.DataFrame(facturas, columns = ['factura_id', 'cliente_id', 'cantidad'])\n",
    "```\n",
    "\n",
    "Considere el dataframe llamado nuevos_clientes:\n",
    "\n",
    "\n",
    "\n",
    "```\n",
    "nuevos_clientes = pd.DataFrame({'nombre' : ['Rebeca'],\n",
    "                            'apellido' : ['Rojas'],\n",
    "                            'edad' : [21]},\n",
    "                           columns = ['nombre', 'apellido', 'edad'])\n",
    "```\n",
    "\n",
    "1. Agregar los nuevos clientes al dataframe *clientes*.\n",
    "2. Actualice los valores para los índices del dataframe *clientes*.\n",
    "3. Genere un dataframe llamado *cliente_id* y agréguelo como una columna nueva a *clientes*.\n",
    "4. Realice la unión de los dataframes *clientes* y *facturas* de manera que el resultado sean todos los registros almacenados.\n",
    "5. Agregue al dataframe *nuevos clientes* a todos los integrantes del grupo, repita el proceso y haga el join entre clientes y facturas pero su resultado debe contener solo las filas con etiquetas comunes.\n",
    "\n",
    "\n",
    "\n",
    "\n",
    "\n"
   ]
  },
  {
   "cell_type": "code",
   "execution_count": 124,
   "metadata": {
    "id": "KjGboTTmvcRI"
   },
   "outputs": [],
   "source": [
    "#Solución\n",
    "clientes = {'nombre' : ['Orlando' ,'Inés' ,'Michelle', 'Alberto', 'Esteban'],\n",
    "           'apellido' : ['Figueroa' ,'Benítez' ,'Gómez', 'Riesco', 'Martínez'],\n",
    "           'edad' : [30 ,21 ,29 ,22, 24]}\n",
    "clientes = pd.DataFrame(clientes, columns = ['nombre', 'apellido', 'edad'])\n",
    "\n",
    "facturas = {'factura_id': [1, 2, 3, 4, 5, 6, 7, 8, 9, 10, 11, 12],\n",
    "            'cliente_id' : [3, 2, 7, 2, 7, 3, 1, 4 ,2, 3, 6, 2],\n",
    "            'cantidad': [77.91, 24.36, 74.65, 19.75, 27.46, 17.13, 45.77, 81.7, 14.41, 52.69, 32.03, 12.78]}\n",
    "facturas = pd.DataFrame(facturas, columns = ['factura_id', 'cliente_id', 'cantidad'])"
   ]
  },
  {
   "cell_type": "code",
   "execution_count": 125,
   "metadata": {},
   "outputs": [],
   "source": [
    "nuevos_clientes = pd.DataFrame({'nombre' : ['Rebeca'],\n",
    "                            'apellido' : ['Rojas'],\n",
    "                            'edad' : [21]},\n",
    "                           columns = ['nombre', 'apellido', 'edad'])"
   ]
  },
  {
   "cell_type": "code",
   "execution_count": 126,
   "metadata": {},
   "outputs": [],
   "source": [
    "# Parte 1\n",
    "# Acá tendriamos la 1 y la 2\n",
    "clientes = clientes.append(nuevos_clientes, ignore_index = True)"
   ]
  },
  {
   "cell_type": "code",
   "execution_count": 127,
   "metadata": {},
   "outputs": [
    {
     "name": "stdout",
     "output_type": "stream",
     "text": [
      "|    | nombre   | apellido   |   edad |\n",
      "|---:|:---------|:-----------|-------:|\n",
      "|  0 | Orlando  | Figueroa   |     30 |\n",
      "|  1 | Inés     | Benítez    |     21 |\n",
      "|  2 | Michelle | Gómez      |     29 |\n",
      "|  3 | Alberto  | Riesco     |     22 |\n",
      "|  4 | Esteban  | Martínez   |     24 |\n",
      "|  5 | Rebeca   | Rojas      |     21 |\n"
     ]
    }
   ],
   "source": [
    "# Parte 2\n",
    "#clientes = clientes.reset_index().drop('index', axis = 1)\n",
    "#lientes.reset_index(drop = True, inplace = True)\n",
    "print(clientes.to_markdown())"
   ]
  },
  {
   "cell_type": "code",
   "execution_count": 120,
   "metadata": {
    "scrolled": true
   },
   "outputs": [
    {
     "name": "stdout",
     "output_type": "stream",
     "text": [
      "   cliente_id\n",
      "0           1\n",
      "1           2\n",
      "2           3\n",
      "3           4\n",
      "4           5\n",
      "5           6\n"
     ]
    }
   ],
   "source": [
    "# Parte 3\n",
    "cliente_id = range(1, len(clientes)+1)\n",
    "clientes_id = pd.DataFrame(cliente_id, columns = ['cliente_id'])\n",
    "print(clientes_id)"
   ]
  },
  {
   "cell_type": "code",
   "execution_count": 121,
   "metadata": {
    "scrolled": true
   },
   "outputs": [
    {
     "name": "stdout",
     "output_type": "stream",
     "text": [
      "|    | nombre   | apellido   |   edad |   cliente_id |\n",
      "|---:|:---------|:-----------|-------:|-------------:|\n",
      "|  0 | Orlando  | Figueroa   |     30 |            1 |\n",
      "|  1 | Inés     | Benítez    |     21 |            2 |\n",
      "|  2 | Michelle | Gómez      |     29 |            3 |\n",
      "|  3 | Alberto  | Riesco     |     22 |            4 |\n",
      "|  4 | Esteban  | Martínez   |     24 |            5 |\n",
      "|  5 | Rebeca   | Rojas      |     21 |            6 |\n"
     ]
    }
   ],
   "source": [
    "# Parte 3.2\n",
    "clientes = pd.concat([clientes, clientes_id], axis = 1)\n",
    "print(clientes.to_markdown())"
   ]
  },
  {
   "cell_type": "code",
   "execution_count": 128,
   "metadata": {},
   "outputs": [
    {
     "data": {
      "text/html": [
       "<div>\n",
       "<style scoped>\n",
       "    .dataframe tbody tr th:only-of-type {\n",
       "        vertical-align: middle;\n",
       "    }\n",
       "\n",
       "    .dataframe tbody tr th {\n",
       "        vertical-align: top;\n",
       "    }\n",
       "\n",
       "    .dataframe thead th {\n",
       "        text-align: right;\n",
       "    }\n",
       "</style>\n",
       "<table border=\"1\" class=\"dataframe\">\n",
       "  <thead>\n",
       "    <tr style=\"text-align: right;\">\n",
       "      <th></th>\n",
       "      <th>nombre</th>\n",
       "      <th>apellido</th>\n",
       "      <th>edad</th>\n",
       "      <th>cliente_id</th>\n",
       "    </tr>\n",
       "  </thead>\n",
       "  <tbody>\n",
       "    <tr>\n",
       "      <th>0</th>\n",
       "      <td>Orlando</td>\n",
       "      <td>Figueroa</td>\n",
       "      <td>30</td>\n",
       "      <td>1</td>\n",
       "    </tr>\n",
       "    <tr>\n",
       "      <th>1</th>\n",
       "      <td>Inés</td>\n",
       "      <td>Benítez</td>\n",
       "      <td>21</td>\n",
       "      <td>2</td>\n",
       "    </tr>\n",
       "    <tr>\n",
       "      <th>2</th>\n",
       "      <td>Michelle</td>\n",
       "      <td>Gómez</td>\n",
       "      <td>29</td>\n",
       "      <td>3</td>\n",
       "    </tr>\n",
       "    <tr>\n",
       "      <th>3</th>\n",
       "      <td>Alberto</td>\n",
       "      <td>Riesco</td>\n",
       "      <td>22</td>\n",
       "      <td>4</td>\n",
       "    </tr>\n",
       "    <tr>\n",
       "      <th>4</th>\n",
       "      <td>Esteban</td>\n",
       "      <td>Martínez</td>\n",
       "      <td>24</td>\n",
       "      <td>5</td>\n",
       "    </tr>\n",
       "    <tr>\n",
       "      <th>5</th>\n",
       "      <td>Rebeca</td>\n",
       "      <td>Rojas</td>\n",
       "      <td>21</td>\n",
       "      <td>6</td>\n",
       "    </tr>\n",
       "  </tbody>\n",
       "</table>\n",
       "</div>"
      ],
      "text/plain": [
       "     nombre  apellido  edad  cliente_id\n",
       "0   Orlando  Figueroa    30           1\n",
       "1      Inés   Benítez    21           2\n",
       "2  Michelle     Gómez    29           3\n",
       "3   Alberto    Riesco    22           4\n",
       "4   Esteban  Martínez    24           5\n",
       "5    Rebeca     Rojas    21           6"
      ]
     },
     "execution_count": 128,
     "metadata": {},
     "output_type": "execute_result"
    }
   ],
   "source": [
    "#Parte 3\n",
    "clientes['cliente_id'] = range(1, len(clientes) +1)\n",
    "clientes"
   ]
  },
  {
   "cell_type": "code",
   "execution_count": 122,
   "metadata": {},
   "outputs": [],
   "source": [
    "# Parte 4, unir clientes y facturas.\n",
    "\n",
    "nuevo_df = pd.merge(clientes, facturas, how ='outer')"
   ]
  },
  {
   "cell_type": "code",
   "execution_count": 123,
   "metadata": {
    "scrolled": true
   },
   "outputs": [
    {
     "data": {
      "text/html": [
       "<div>\n",
       "<style scoped>\n",
       "    .dataframe tbody tr th:only-of-type {\n",
       "        vertical-align: middle;\n",
       "    }\n",
       "\n",
       "    .dataframe tbody tr th {\n",
       "        vertical-align: top;\n",
       "    }\n",
       "\n",
       "    .dataframe thead th {\n",
       "        text-align: right;\n",
       "    }\n",
       "</style>\n",
       "<table border=\"1\" class=\"dataframe\">\n",
       "  <thead>\n",
       "    <tr style=\"text-align: right;\">\n",
       "      <th></th>\n",
       "      <th>nombre</th>\n",
       "      <th>apellido</th>\n",
       "      <th>edad</th>\n",
       "      <th>cliente_id</th>\n",
       "      <th>factura_id</th>\n",
       "      <th>cantidad</th>\n",
       "    </tr>\n",
       "  </thead>\n",
       "  <tbody>\n",
       "    <tr>\n",
       "      <th>0</th>\n",
       "      <td>Orlando</td>\n",
       "      <td>Figueroa</td>\n",
       "      <td>30.0</td>\n",
       "      <td>1</td>\n",
       "      <td>7.0</td>\n",
       "      <td>45.77</td>\n",
       "    </tr>\n",
       "    <tr>\n",
       "      <th>1</th>\n",
       "      <td>Inés</td>\n",
       "      <td>Benítez</td>\n",
       "      <td>21.0</td>\n",
       "      <td>2</td>\n",
       "      <td>2.0</td>\n",
       "      <td>24.36</td>\n",
       "    </tr>\n",
       "    <tr>\n",
       "      <th>2</th>\n",
       "      <td>Inés</td>\n",
       "      <td>Benítez</td>\n",
       "      <td>21.0</td>\n",
       "      <td>2</td>\n",
       "      <td>4.0</td>\n",
       "      <td>19.75</td>\n",
       "    </tr>\n",
       "    <tr>\n",
       "      <th>3</th>\n",
       "      <td>Inés</td>\n",
       "      <td>Benítez</td>\n",
       "      <td>21.0</td>\n",
       "      <td>2</td>\n",
       "      <td>9.0</td>\n",
       "      <td>14.41</td>\n",
       "    </tr>\n",
       "    <tr>\n",
       "      <th>4</th>\n",
       "      <td>Inés</td>\n",
       "      <td>Benítez</td>\n",
       "      <td>21.0</td>\n",
       "      <td>2</td>\n",
       "      <td>12.0</td>\n",
       "      <td>12.78</td>\n",
       "    </tr>\n",
       "    <tr>\n",
       "      <th>5</th>\n",
       "      <td>Michelle</td>\n",
       "      <td>Gómez</td>\n",
       "      <td>29.0</td>\n",
       "      <td>3</td>\n",
       "      <td>1.0</td>\n",
       "      <td>77.91</td>\n",
       "    </tr>\n",
       "    <tr>\n",
       "      <th>6</th>\n",
       "      <td>Michelle</td>\n",
       "      <td>Gómez</td>\n",
       "      <td>29.0</td>\n",
       "      <td>3</td>\n",
       "      <td>6.0</td>\n",
       "      <td>17.13</td>\n",
       "    </tr>\n",
       "    <tr>\n",
       "      <th>7</th>\n",
       "      <td>Michelle</td>\n",
       "      <td>Gómez</td>\n",
       "      <td>29.0</td>\n",
       "      <td>3</td>\n",
       "      <td>10.0</td>\n",
       "      <td>52.69</td>\n",
       "    </tr>\n",
       "    <tr>\n",
       "      <th>8</th>\n",
       "      <td>Alberto</td>\n",
       "      <td>Riesco</td>\n",
       "      <td>22.0</td>\n",
       "      <td>4</td>\n",
       "      <td>8.0</td>\n",
       "      <td>81.70</td>\n",
       "    </tr>\n",
       "    <tr>\n",
       "      <th>9</th>\n",
       "      <td>Esteban</td>\n",
       "      <td>Martínez</td>\n",
       "      <td>24.0</td>\n",
       "      <td>5</td>\n",
       "      <td>NaN</td>\n",
       "      <td>NaN</td>\n",
       "    </tr>\n",
       "    <tr>\n",
       "      <th>10</th>\n",
       "      <td>Rebeca</td>\n",
       "      <td>Rojas</td>\n",
       "      <td>21.0</td>\n",
       "      <td>6</td>\n",
       "      <td>11.0</td>\n",
       "      <td>32.03</td>\n",
       "    </tr>\n",
       "    <tr>\n",
       "      <th>11</th>\n",
       "      <td>NaN</td>\n",
       "      <td>NaN</td>\n",
       "      <td>NaN</td>\n",
       "      <td>7</td>\n",
       "      <td>3.0</td>\n",
       "      <td>74.65</td>\n",
       "    </tr>\n",
       "    <tr>\n",
       "      <th>12</th>\n",
       "      <td>NaN</td>\n",
       "      <td>NaN</td>\n",
       "      <td>NaN</td>\n",
       "      <td>7</td>\n",
       "      <td>5.0</td>\n",
       "      <td>27.46</td>\n",
       "    </tr>\n",
       "  </tbody>\n",
       "</table>\n",
       "</div>"
      ],
      "text/plain": [
       "      nombre  apellido  edad  cliente_id  factura_id  cantidad\n",
       "0    Orlando  Figueroa  30.0           1         7.0     45.77\n",
       "1       Inés   Benítez  21.0           2         2.0     24.36\n",
       "2       Inés   Benítez  21.0           2         4.0     19.75\n",
       "3       Inés   Benítez  21.0           2         9.0     14.41\n",
       "4       Inés   Benítez  21.0           2        12.0     12.78\n",
       "5   Michelle     Gómez  29.0           3         1.0     77.91\n",
       "6   Michelle     Gómez  29.0           3         6.0     17.13\n",
       "7   Michelle     Gómez  29.0           3        10.0     52.69\n",
       "8    Alberto    Riesco  22.0           4         8.0     81.70\n",
       "9    Esteban  Martínez  24.0           5         NaN       NaN\n",
       "10    Rebeca     Rojas  21.0           6        11.0     32.03\n",
       "11       NaN       NaN   NaN           7         3.0     74.65\n",
       "12       NaN       NaN   NaN           7         5.0     27.46"
      ]
     },
     "execution_count": 123,
     "metadata": {},
     "output_type": "execute_result"
    }
   ],
   "source": [
    "nuevo_df"
   ]
  },
  {
   "cell_type": "code",
   "execution_count": null,
   "metadata": {},
   "outputs": [],
   "source": [
    "clientes = {'nombre' : ['Daniela' ,'Benjamín' ,'Michelle', 'Alberto', 'Esteban'],\n",
    "           'apellido' : ['Paz' ,'' ,'Gómez', 'Riesco', 'Martínez'],\n",
    "           'edad' : [30 ,21 ,29 ,22, 24]}\n",
    "clientes = pd.DataFrame(clientes, columns = ['nombre', 'apellido', 'edad'])\n"
   ]
  },
  {
   "cell_type": "markdown",
   "metadata": {
    "id": "lJi9be3mGgoq"
   },
   "source": [
    "## <font color='green'>**Fin ejercicio 2**</font>\n"
   ]
  },
  {
   "cell_type": "markdown",
   "metadata": {
    "id": "l9aAEXMDkV0I"
   },
   "source": [
    "# <font color='blue'>**Reindexación**</font>\n",
    "\n",
    "Creación de una copia de una estructura pandas -una serie o un dataframe- en base a un nuevo índice."
   ]
  },
  {
   "cell_type": "markdown",
   "metadata": {
    "id": "4NBoOWxckmg1"
   },
   "source": [
    "# <font color='blue'>**Reindexación de series**</font>\n",
    "\n",
    "El método básico para la reindexación de series es **pandas.Series.reindex**. Este método devuelve una copia de una serie basándose en el índice modificado de la serie original."
   ]
  },
  {
   "cell_type": "code",
   "execution_count": null,
   "metadata": {
    "id": "RuvjNKg2ky3R"
   },
   "outputs": [],
   "source": [
    "s = pd.Series([1, 2, 3, 4, 5], index = [\"a\", \"c\", \"f\", \"g\", \"j\"])\n",
    "s"
   ]
  },
  {
   "cell_type": "markdown",
   "metadata": {
    "id": "GrCPzYRRlLGK"
   },
   "source": [
    "Se trata de una serie cuyas etiquetas son letras no consecutivas. Es posible generar una copia reindexada de esta serie de la siguiente forma:\n",
    "\n"
   ]
  },
  {
   "cell_type": "code",
   "execution_count": null,
   "metadata": {
    "id": "4G2j1PYUlR_t"
   },
   "outputs": [],
   "source": [
    "r = s.reindex([\"g\", \"c\", \"a\", \"j\", \"f\"])\n",
    "r"
   ]
  },
  {
   "cell_type": "markdown",
   "metadata": {
    "id": "GnAJhmyPlhNz"
   },
   "source": [
    "El primer argumento siempre es el nuevo índice. En el caso anterior se trata de una versión desordenada del índice original, por lo que la serie generada es también una versión desordenada de la original.\n",
    "\n",
    "Si el nuevo índice es un subconjunto del original, la serie generada no contendrá todos los valores de la serie de la que se patió, tan solo los incluidos en el nuevo índice. En el siguiente ejemplo, el nuevo índice no incluye la etiqueta \"a\" por lo que la serie generada no incluye el valor correspondiente (1):"
   ]
  },
  {
   "cell_type": "code",
   "execution_count": null,
   "metadata": {
    "id": "sQJ8QF0XlxX2"
   },
   "outputs": [],
   "source": [
    "r = s.reindex([\"g\", \"c\", \"j\", \"f\"])\n",
    "r"
   ]
  },
  {
   "cell_type": "markdown",
   "metadata": {
    "id": "np4ocTonl5vL"
   },
   "source": [
    "Por el contrario, si en el nuevo índice se incluyen etiquetas no incluidas en el índice original, la nueva serie incluirá dicha etiqueta pero el valor asignado a ella recibe el valor por defecto NaN. En este próximo ejemplo incluimos la etiqueta \"e\" (no presente en el índice original) en el nuevo índice:"
   ]
  },
  {
   "cell_type": "code",
   "execution_count": null,
   "metadata": {
    "id": "TDa09df6l_gL"
   },
   "outputs": [],
   "source": [
    "r = s.reindex([\"g\", \"c\", \"e\", \"a\", \"j\", \"f\"])\n",
    "r"
   ]
  },
  {
   "cell_type": "markdown",
   "metadata": {
    "id": "tD_JMfbjmMoH"
   },
   "source": [
    "Este valor de relleno (\"NaN\") es personalizable usando el parámetro **fill_value**. Si repetimos las instrucciones anteriores especificando que el valor de relleno sea, por ejemplo, 0:"
   ]
  },
  {
   "cell_type": "code",
   "execution_count": null,
   "metadata": {
    "id": "1ePUkZnamVZN"
   },
   "outputs": [],
   "source": [
    "r = s.reindex([\"g\", \"c\", \"e\", \"a\", \"j\", \"f\"], fill_value = 0)\n",
    "r"
   ]
  },
  {
   "cell_type": "markdown",
   "metadata": {
    "id": "e8J6C2PFmdfa"
   },
   "source": [
    "Una alternativa a fijar el valor de relleno por defecto es aplicar \"lógica de relleno\", rellenando los valores inexistentes con otro valor que sí exista. Tenemos tres opciones..."
   ]
  },
  {
   "cell_type": "markdown",
   "metadata": {
    "id": "ASPz4V2fqgoJ"
   },
   "source": [
    "## <font color='blue'>**Forward fill**</font>\n",
    "\n",
    "La primera opción consiste en rellenar los valores inexistentes \"hacia adelante\", haciendo que los valores existentes rellenen los valores inexistentes que los sigan. O, en otras palabras, rellenar los valores inexistentes con el primer valor existente que los precedan:"
   ]
  },
  {
   "cell_type": "code",
   "execution_count": null,
   "metadata": {
    "id": "6WapxMInrR3O"
   },
   "outputs": [],
   "source": [
    "s = pd.Series([1, 2, 3, 4, 5], index = [\"a\", \"c\", \"f\", \"g\", \"j\"])\n",
    "s"
   ]
  },
  {
   "cell_type": "code",
   "execution_count": null,
   "metadata": {
    "id": "jpWWLGcbqviH"
   },
   "outputs": [],
   "source": [
    "r = s.reindex([\"g\", \"c\", \"e\", \"a\", \"j\", \"f\"], method = \"ffill\")\n",
    "r"
   ]
  },
  {
   "cell_type": "markdown",
   "metadata": {
    "id": "rayp36birKNJ"
   },
   "source": [
    "En este caso, el valor correspondiente a la etiqueta \"e\" se rellena con el valor de la etiqueta anterior \"c\". Pero no la anterior en el nuevo índice, sino la anterior en el índice original. Veámoslos con otro ejemplo:"
   ]
  },
  {
   "cell_type": "code",
   "execution_count": null,
   "metadata": {
    "id": "GxgQj9UZrYIy"
   },
   "outputs": [],
   "source": [
    "r = s.reindex([\"g\", \"c\", \"m\", \"a\", \"j\", \"f\"], method = \"ffill\")\n",
    "r"
   ]
  },
  {
   "cell_type": "markdown",
   "metadata": {
    "id": "jS8O5h7Qre8h"
   },
   "source": [
    "Ahora, la etiqueta nueva es \"m\", siendo precedida en el índice original por la \"j\" (si se ordenan alfabéticamente), por lo que el valor que recibe r[\"m\"] es el que tenía r[\"j\"]: 5."
   ]
  },
  {
   "cell_type": "markdown",
   "metadata": {
    "id": "3wQDCGW2rwj5"
   },
   "source": [
    "## <font color='blue'>**Backward fill**</font>\n",
    "\n",
    "En este otro caso, los valores inexistentes se rellenan \"hacia atrás\", con el primer valor existente que los siga."
   ]
  },
  {
   "cell_type": "code",
   "execution_count": null,
   "metadata": {
    "id": "422tBmlor9ZJ"
   },
   "outputs": [],
   "source": [
    "s = pd.Series([1, 2, 3, 4, 5], index = [\"a\", \"c\", \"f\", \"g\", \"j\"])\n",
    "s"
   ]
  },
  {
   "cell_type": "code",
   "execution_count": null,
   "metadata": {
    "id": "INeBaxwKr2ig"
   },
   "outputs": [],
   "source": [
    "r = s.reindex([\"g\", \"c\", \"e\", \"a\", \"j\", \"f\"], method = \"bfill\")\n",
    "r"
   ]
  },
  {
   "cell_type": "markdown",
   "metadata": {
    "id": "rulTk2FBsFTU"
   },
   "source": [
    "Nuevamente, la etiqueta no existente en el índice original es \"e\", y el valor que se le asigna es el correspondiente a la etiqueta que seguía a \"e\" en dicho índice (si se ordenan alfabéticamente): \"f\". Por lo tanto, se asigna a r[\"e\"] el valor de r[\"f\"]: 3."
   ]
  },
  {
   "cell_type": "markdown",
   "metadata": {
    "id": "dqgxfBe_sLji"
   },
   "source": [
    "## <font color='blue'>**Nearest (el más cercano)**</font>\n",
    "\n",
    "La tercera opción asigna a cada valor desconocido el valor más próximo en la serie original. Para ver esta opción en funcionamiento necesitamos partir de una serie cuyo índice sea numérico (la operación \"sustracción\" en la que se basa esta tercera opción no está soportada entre cadenas de texto)."
   ]
  },
  {
   "cell_type": "code",
   "execution_count": null,
   "metadata": {
    "id": "xYhLdvE4sUtb"
   },
   "outputs": [],
   "source": [
    "s = pd.Series([100, 200, 300, 400, 500], index = [10, 20, 30, 40, 50])\n",
    "s"
   ]
  },
  {
   "cell_type": "markdown",
   "metadata": {
    "id": "61SKXjpcsebl"
   },
   "source": [
    "Una serie cuyo índice está formado por múltiplos de 10. Generemos ahora una copia del mismo con el índice [20, 40, 19] aplicando como método de relleno \"nearest\"."
   ]
  },
  {
   "cell_type": "code",
   "execution_count": null,
   "metadata": {
    "id": "TRWGN2keskpR"
   },
   "outputs": [],
   "source": [
    "r = s.reindex([20, 40, 19], method = \"nearest\")\n",
    "r"
   ]
  },
  {
   "cell_type": "markdown",
   "metadata": {
    "id": "1WSZCX-WsvPq"
   },
   "source": [
    "El método ha incluido el índice 19 y le ha asignado el valor del índice más próximo (20), es decir, el valor de s[20] (200)."
   ]
  },
  {
   "cell_type": "code",
   "execution_count": null,
   "metadata": {
    "id": "0HfYm7d9szgO"
   },
   "outputs": [],
   "source": [
    "r = s.reindex([20, 40, 11], method = \"nearest\")\n",
    "r"
   ]
  },
  {
   "cell_type": "markdown",
   "metadata": {
    "id": "6aSd9VEJs5J8"
   },
   "source": [
    "En este caso, el índice más próximo es 10, y el valor asignado es, por lo tanto, s[10]: 100."
   ]
  },
  {
   "cell_type": "markdown",
   "metadata": {
    "id": "8PM__lvwtBLM"
   },
   "source": [
    "# <font color='blue'>**Reindexación de dataframes**</font>\n",
    "\n",
    "El método **pandas.DataFrame.reindex** ofrece una funcionalidad semejante a la disponible para series con la particularidad de que, en este caso, podemos reindexar por filas y/o por columnas. Por defecto, este método acepta una secuencia de etiquetas que determinarán qué filas se incluyen y en qué orden (es decir, por defecto la reindexación se aplica al eje 0)."
   ]
  },
  {
   "cell_type": "code",
   "execution_count": null,
   "metadata": {
    "id": "RawH-UrrtKzH"
   },
   "outputs": [],
   "source": [
    "df = pd.DataFrame(np.arange(15).reshape([5, 3]),\n",
    "                  index = [\"a\", \"b\", \"c\", \"d\", \"e\"],\n",
    "                  columns = [\"A\", \"B\", \"C\"])\n",
    "df"
   ]
  },
  {
   "cell_type": "code",
   "execution_count": null,
   "metadata": {
    "id": "VjI-6EnStg6Q"
   },
   "outputs": [],
   "source": [
    "df.reindex([\"d\", \"b\"])"
   ]
  },
  {
   "cell_type": "markdown",
   "metadata": {
    "id": "SsrPl5_WtokR"
   },
   "source": [
    "En este ejemplo, partimos de un dataframe cuyo índice de filas tiene las etiquetas \"a\", \"b\", \"c\", \"d\" y \"e\", y hemos indicado como nuevo índice las etiquetas \"d\" y \"b\" (en este orden), y son estas filas (en ese orden) las que se devuelven como resultado.\n",
    "\n",
    "Este método permite especificar las etiquetas de filas como hemos visto, pasándoselas al método como primer argumento, o con el parámetro **index**."
   ]
  },
  {
   "cell_type": "code",
   "execution_count": null,
   "metadata": {
    "id": "kRn5ok0Gtwfd"
   },
   "outputs": [],
   "source": [
    "df.reindex(index = [\"d\", \"b\"])"
   ]
  },
  {
   "cell_type": "markdown",
   "metadata": {
    "id": "yAz3OEdAt3QP"
   },
   "source": [
    "El parámetro **columns**, por su parte, permite especificar el nuevo índice de columnas:\n",
    "\n"
   ]
  },
  {
   "cell_type": "code",
   "execution_count": null,
   "metadata": {
    "id": "pwZm4Y5Ht-kI"
   },
   "outputs": [],
   "source": [
    "df.reindex(columns = [\"A\", \"C\"])"
   ]
  },
  {
   "cell_type": "markdown",
   "metadata": {
    "id": "H-9Tr2h5uEo1"
   },
   "source": [
    "Si utilizamos ambos parámetros al mismo tiempo, imponemos simultáneamente el nuevo índice para filas y columnas."
   ]
  },
  {
   "cell_type": "code",
   "execution_count": null,
   "metadata": {
    "id": "UbNaYQyxuG79"
   },
   "outputs": [],
   "source": [
    "df.reindex(index = [\"a\", \"c\", \"f\"], columns = [\"A\", \"D\", \"C\"])"
   ]
  },
  {
   "cell_type": "markdown",
   "metadata": {
    "id": "CfVRvZcuuU5a"
   },
   "source": [
    "Podemos asignar a los valores inexistentes un valor concreto usando el parámetro **fill_value**, o podemos aplicar \"lógica de relleno\" con el parámetro **method**, permitiéndonos rellenar los valores inexistentes hacia adelante o hacia atrás.\n",
    "\n",
    "Y, por supuesto, si los nuevos índices contienen los mismos elementos que los índices originales pero en otro orden, el resultado del método será equivalente al original ordenado según el nuevo criterio."
   ]
  },
  {
   "cell_type": "code",
   "execution_count": null,
   "metadata": {
    "id": "p4HsqEk_udwk"
   },
   "outputs": [],
   "source": [
    "df.reindex(index = [\"a\", \"c\", \"b\", \"e\", \"d\"], columns = [\"B\", \"C\", \"A\"])"
   ]
  },
  {
   "cell_type": "markdown",
   "metadata": {
    "id": "tMKqq5kWusAV"
   },
   "source": [
    "## <font color='blue'>**Método set_index**</font>\n",
    "\n",
    "El método **pandas.DataFrame.set_index** fija una columna del dataframe como índice, descartando el índice existente."
   ]
  },
  {
   "cell_type": "code",
   "execution_count": null,
   "metadata": {
    "id": "QEH7lSSWu0Tw"
   },
   "outputs": [],
   "source": [
    "df = pd.DataFrame({\n",
    "    \"año\": [2016, 2017, 2018],\n",
    "    \"mes\": [\"ene\", \"sep\", \"jun\"],\n",
    "    \"ventas\": [87, 34, 112]\n",
    "})\n",
    "df"
   ]
  },
  {
   "cell_type": "markdown",
   "metadata": {
    "id": "S7igAni_u5RV"
   },
   "source": [
    "Vemos que se ha asignado un índice automático. Si ejecutamos el método set_index indicando como argumento el campo \"mes\"."
   ]
  },
  {
   "cell_type": "code",
   "execution_count": null,
   "metadata": {
    "id": "3vv8nkU4u8SZ"
   },
   "outputs": [],
   "source": [
    "df.set_index(\"mes\")"
   ]
  },
  {
   "cell_type": "markdown",
   "metadata": {
    "id": "316SciwavA_o"
   },
   "source": [
    "Se fija dicha columna como índice y se elimina del conjunto de características. Aunque esta eliminación es el comportamiento por defecto, podemos controlarlo con el parámetro drop."
   ]
  },
  {
   "cell_type": "code",
   "execution_count": null,
   "metadata": {
    "id": "z_BkqSMQvFVD"
   },
   "outputs": [],
   "source": [
    "df.set_index(\"mes\", drop = False)"
   ]
  },
  {
   "cell_type": "markdown",
   "metadata": {
    "id": "Oy4-op7evM0z"
   },
   "source": [
    "# <font color='blue'>**Multi-indexación**</font>\n",
    "\n",
    "Hasta ahora hemos visto series y dataframes pandas con índices sencillos, pero pueden tener también índices jerárquicos o multi-índices, lo que abre la puerta a sofisticados procesos de manipulación y análisis de datos.\n",
    "\n",
    "Podemos imaginarnos un multi-índice como un índice en el que cada valor es una tupla única de elementos. Es posible crear estos multi-índices y extraerlos posteriormente de varias formas."
   ]
  },
  {
   "cell_type": "markdown",
   "metadata": {
    "id": "Lulg3AsDvesM"
   },
   "source": [
    "## <font color='blue'>**Creación de multi-índices**</font>\n",
    "\n",
    "Podemos crear un multi-índice de cuatro formas distintas:\n",
    "\n",
    "* A partir de una lista de arrays, usando el método **pd.MultiIndex.from_arrays()**\n",
    "* A partir de un array de tuplas, usando el método **pd.MultiIndex.from_tuples()**\n",
    "* A partir del producto cartesiano de los valores de dos iterables, usando el método **pd.MultiIndex.from_product()**\n",
    "* A partir de un DataFrame, usando el método **pd.MultiIndex.from_frame()**"
   ]
  },
  {
   "cell_type": "markdown",
   "metadata": {
    "id": "yKfm-Oc8vwGc"
   },
   "source": [
    "## <font color='blue'>**Multi-índices a partir de una lista de arrays**</font>\n",
    "\n",
    "\n",
    "El primer método es aquel en el que creamos el multi-índice indicando cada una de las columnas que lo van a formar."
   ]
  },
  {
   "cell_type": "code",
   "execution_count": 2,
   "metadata": {
    "id": "SMK912uYv7Id"
   },
   "outputs": [
    {
     "data": {
      "text/plain": [
       "MultiIndex([(2018,   'España'),\n",
       "            (2018, 'Portugal'),\n",
       "            (2018,  'Francia'),\n",
       "            (2019,   'España'),\n",
       "            (2019, 'Portugal'),\n",
       "            (2019,  'Francia')],\n",
       "           names=['Año', 'País'])"
      ]
     },
     "execution_count": 2,
     "metadata": {},
     "output_type": "execute_result"
    }
   ],
   "source": [
    "import pandas as pd\n",
    "index = pd.MultiIndex.from_arrays(\n",
    "    [\n",
    "        [2018, 2018, 2018, 2019, 2019, 2019],\n",
    "        [\"España\", \"Portugal\", \"Francia\", \"España\", \"Portugal\", \"Francia\"]\n",
    "    ],\n",
    "    names = [\"Año\", \"País\"]\n",
    ")\n",
    "index"
   ]
  },
  {
   "cell_type": "markdown",
   "metadata": {
    "id": "-2Ub4hZTwB6a"
   },
   "source": [
    "El parámetro **names** permite especificar los nombres de los niveles del índice jerárquico.\n",
    "\n",
    "Al llevar este multi-índice a un dataframe se obtiene el siguiente resultado:"
   ]
  },
  {
   "cell_type": "code",
   "execution_count": 3,
   "metadata": {
    "id": "JqKJv3OOwJq-"
   },
   "outputs": [
    {
     "data": {
      "text/html": [
       "<div>\n",
       "<style scoped>\n",
       "    .dataframe tbody tr th:only-of-type {\n",
       "        vertical-align: middle;\n",
       "    }\n",
       "\n",
       "    .dataframe tbody tr th {\n",
       "        vertical-align: top;\n",
       "    }\n",
       "\n",
       "    .dataframe thead th {\n",
       "        text-align: right;\n",
       "    }\n",
       "</style>\n",
       "<table border=\"1\" class=\"dataframe\">\n",
       "  <thead>\n",
       "    <tr style=\"text-align: right;\">\n",
       "      <th></th>\n",
       "      <th></th>\n",
       "      <th>Ventas</th>\n",
       "    </tr>\n",
       "    <tr>\n",
       "      <th>Año</th>\n",
       "      <th>País</th>\n",
       "      <th></th>\n",
       "    </tr>\n",
       "  </thead>\n",
       "  <tbody>\n",
       "    <tr>\n",
       "      <th rowspan=\"3\" valign=\"top\">2018</th>\n",
       "      <th>España</th>\n",
       "      <td>18</td>\n",
       "    </tr>\n",
       "    <tr>\n",
       "      <th>Portugal</th>\n",
       "      <td>20</td>\n",
       "    </tr>\n",
       "    <tr>\n",
       "      <th>Francia</th>\n",
       "      <td>10</td>\n",
       "    </tr>\n",
       "    <tr>\n",
       "      <th rowspan=\"3\" valign=\"top\">2019</th>\n",
       "      <th>España</th>\n",
       "      <td>15</td>\n",
       "    </tr>\n",
       "    <tr>\n",
       "      <th>Portugal</th>\n",
       "      <td>12</td>\n",
       "    </tr>\n",
       "    <tr>\n",
       "      <th>Francia</th>\n",
       "      <td>18</td>\n",
       "    </tr>\n",
       "  </tbody>\n",
       "</table>\n",
       "</div>"
      ],
      "text/plain": [
       "               Ventas\n",
       "Año  País            \n",
       "2018 España        18\n",
       "     Portugal      20\n",
       "     Francia       10\n",
       "2019 España        15\n",
       "     Portugal      12\n",
       "     Francia       18"
      ]
     },
     "execution_count": 3,
     "metadata": {},
     "output_type": "execute_result"
    }
   ],
   "source": [
    "data = pd.DataFrame(data = [18, 20, 10, 15, 12, 18], index = index, columns = [\"Ventas\"])\n",
    "data"
   ]
  },
  {
   "cell_type": "markdown",
   "metadata": {
    "id": "xMmiMBviwXQt"
   },
   "source": [
    "## <font color='blue'>**Multi-índices a partir de un array de tuplas**</font>\n",
    "\n",
    "En este segundo método indicamos los valores del multi-índice valor por valor, siendo éstos tuplas.\n"
   ]
  },
  {
   "cell_type": "code",
   "execution_count": null,
   "metadata": {
    "id": "7vBpMpmvwc-1"
   },
   "outputs": [],
   "source": [
    "index = pd.MultiIndex.from_tuples(\n",
    "    [\n",
    "    (2018, \"España\"),\n",
    "    (2018, \"Portugal\"),\n",
    "    (2018, \"Francia\"),\n",
    "    (2019, \"España\"),\n",
    "    (2019, \"Portugal\"),\n",
    "    (2019, \"Francia\")\n",
    "    ],\n",
    "    names = [\"Año\", \"País\"])\n",
    "index"
   ]
  },
  {
   "cell_type": "markdown",
   "metadata": {
    "id": "OjjHT0VIwhTv"
   },
   "source": [
    "Seguimos teniendo a nuestra disposición el parámetro names para especificar los nombres de los niveles.\n",
    "\n",
    "Si creamos nuestro DataFrame vemos que el resultado es el mismo que el que habíamos obtenido:"
   ]
  },
  {
   "cell_type": "code",
   "execution_count": null,
   "metadata": {
    "id": "BJBiE0kywk4D"
   },
   "outputs": [],
   "source": [
    "data = pd.DataFrame(data = [18, 20, 10, 15, 12, 18], index = index, columns = [\"Ventas\"])\n",
    "data"
   ]
  },
  {
   "cell_type": "markdown",
   "metadata": {
    "id": "WgseWjv7wo0F"
   },
   "source": [
    "## <font color='blue'>**Multi-índices por producto cartesiano de arrays**</font>\n",
    "\n",
    "El tercer método nos permite especificar los valores (únicos) de los diferentes niveles, creándose el índice jerárquico como resultado del producto escalar de los valores. Por ejemplo:\n"
   ]
  },
  {
   "cell_type": "code",
   "execution_count": null,
   "metadata": {
    "id": "p_6tK8wSwvdB"
   },
   "outputs": [],
   "source": [
    "index = pd.MultiIndex.from_product(\n",
    "    [\n",
    "        [2018, 2019],\n",
    "        [\"España\", \"Portugal\", \"Francia\"]\n",
    "    ],\n",
    "    names = [\"Año\", \"País\"]\n",
    ")\n",
    "index"
   ]
  },
  {
   "cell_type": "markdown",
   "metadata": {
    "id": "o4pn4HMjw0Hm"
   },
   "source": [
    "Nuevamente, el parámetro names nos permite dar nombre a los niveles.\n",
    "\n",
    "El resultado de llevar este índice a nuestro DataFrame es el ya conocido:"
   ]
  },
  {
   "cell_type": "code",
   "execution_count": null,
   "metadata": {
    "id": "SKDLUnXfw2DL"
   },
   "outputs": [],
   "source": [
    "data = pd.DataFrame(data = [18, 20, 10, 15, 12, 18], index = index, columns = [\"Ventas\"])\n",
    "data"
   ]
  },
  {
   "cell_type": "markdown",
   "metadata": {
    "id": "y-rUVltqw8dv"
   },
   "source": [
    "## <font color='blue'>**Multi-índices a partir de un DataFrame**</font>\n",
    "\n",
    "Por último, podemos crear el multi-índice a partir de un DataFrame en el que cada columna coincide con una columna del multi-índice."
   ]
  },
  {
   "cell_type": "code",
   "execution_count": 4,
   "metadata": {
    "id": "LiT3lr5LxDED"
   },
   "outputs": [
    {
     "data": {
      "text/html": [
       "<div>\n",
       "<style scoped>\n",
       "    .dataframe tbody tr th:only-of-type {\n",
       "        vertical-align: middle;\n",
       "    }\n",
       "\n",
       "    .dataframe tbody tr th {\n",
       "        vertical-align: top;\n",
       "    }\n",
       "\n",
       "    .dataframe thead th {\n",
       "        text-align: right;\n",
       "    }\n",
       "</style>\n",
       "<table border=\"1\" class=\"dataframe\">\n",
       "  <thead>\n",
       "    <tr style=\"text-align: right;\">\n",
       "      <th></th>\n",
       "      <th>Año</th>\n",
       "      <th>País</th>\n",
       "    </tr>\n",
       "  </thead>\n",
       "  <tbody>\n",
       "    <tr>\n",
       "      <th>0</th>\n",
       "      <td>2018</td>\n",
       "      <td>España</td>\n",
       "    </tr>\n",
       "    <tr>\n",
       "      <th>1</th>\n",
       "      <td>2018</td>\n",
       "      <td>Portugal</td>\n",
       "    </tr>\n",
       "    <tr>\n",
       "      <th>2</th>\n",
       "      <td>2018</td>\n",
       "      <td>Francia</td>\n",
       "    </tr>\n",
       "    <tr>\n",
       "      <th>3</th>\n",
       "      <td>2019</td>\n",
       "      <td>España</td>\n",
       "    </tr>\n",
       "    <tr>\n",
       "      <th>4</th>\n",
       "      <td>2019</td>\n",
       "      <td>Portugal</td>\n",
       "    </tr>\n",
       "    <tr>\n",
       "      <th>5</th>\n",
       "      <td>2019</td>\n",
       "      <td>Francia</td>\n",
       "    </tr>\n",
       "  </tbody>\n",
       "</table>\n",
       "</div>"
      ],
      "text/plain": [
       "    Año      País\n",
       "0  2018    España\n",
       "1  2018  Portugal\n",
       "2  2018   Francia\n",
       "3  2019    España\n",
       "4  2019  Portugal\n",
       "5  2019   Francia"
      ]
     },
     "execution_count": 4,
     "metadata": {},
     "output_type": "execute_result"
    }
   ],
   "source": [
    "df = pd.DataFrame({\n",
    "    \"Año\":[2018, 2018, 2018, 2019, 2019, 2019],\n",
    "    \"País\": [\"España\", \"Portugal\", \"Francia\", \"España\", \"Portugal\", \"Francia\"]\n",
    "})\n",
    "df"
   ]
  },
  {
   "cell_type": "markdown",
   "metadata": {
    "id": "0qGiFwRexHv8"
   },
   "source": [
    "Ahora podemos crear el índice:\n",
    "\n"
   ]
  },
  {
   "cell_type": "code",
   "execution_count": 5,
   "metadata": {
    "id": "T5nsfIuJxIHE"
   },
   "outputs": [
    {
     "data": {
      "text/plain": [
       "MultiIndex([(2018,   'España'),\n",
       "            (2018, 'Portugal'),\n",
       "            (2018,  'Francia'),\n",
       "            (2019,   'España'),\n",
       "            (2019, 'Portugal'),\n",
       "            (2019,  'Francia')],\n",
       "           names=['Año', 'País'])"
      ]
     },
     "execution_count": 5,
     "metadata": {},
     "output_type": "execute_result"
    }
   ],
   "source": [
    "index = pd.MultiIndex.from_frame(df)\n",
    "index"
   ]
  },
  {
   "cell_type": "markdown",
   "metadata": {
    "id": "_ZNj0xphxMcQ"
   },
   "source": [
    "DataFrame con índice jerárquico:"
   ]
  },
  {
   "cell_type": "code",
   "execution_count": 6,
   "metadata": {
    "id": "l8-vB27lxNFE"
   },
   "outputs": [
    {
     "data": {
      "text/html": [
       "<div>\n",
       "<style scoped>\n",
       "    .dataframe tbody tr th:only-of-type {\n",
       "        vertical-align: middle;\n",
       "    }\n",
       "\n",
       "    .dataframe tbody tr th {\n",
       "        vertical-align: top;\n",
       "    }\n",
       "\n",
       "    .dataframe thead th {\n",
       "        text-align: right;\n",
       "    }\n",
       "</style>\n",
       "<table border=\"1\" class=\"dataframe\">\n",
       "  <thead>\n",
       "    <tr style=\"text-align: right;\">\n",
       "      <th></th>\n",
       "      <th></th>\n",
       "      <th>Ventas</th>\n",
       "    </tr>\n",
       "    <tr>\n",
       "      <th>Año</th>\n",
       "      <th>País</th>\n",
       "      <th></th>\n",
       "    </tr>\n",
       "  </thead>\n",
       "  <tbody>\n",
       "    <tr>\n",
       "      <th rowspan=\"3\" valign=\"top\">2018</th>\n",
       "      <th>España</th>\n",
       "      <td>18</td>\n",
       "    </tr>\n",
       "    <tr>\n",
       "      <th>Portugal</th>\n",
       "      <td>20</td>\n",
       "    </tr>\n",
       "    <tr>\n",
       "      <th>Francia</th>\n",
       "      <td>10</td>\n",
       "    </tr>\n",
       "    <tr>\n",
       "      <th rowspan=\"3\" valign=\"top\">2019</th>\n",
       "      <th>España</th>\n",
       "      <td>15</td>\n",
       "    </tr>\n",
       "    <tr>\n",
       "      <th>Portugal</th>\n",
       "      <td>12</td>\n",
       "    </tr>\n",
       "    <tr>\n",
       "      <th>Francia</th>\n",
       "      <td>18</td>\n",
       "    </tr>\n",
       "  </tbody>\n",
       "</table>\n",
       "</div>"
      ],
      "text/plain": [
       "               Ventas\n",
       "Año  País            \n",
       "2018 España        18\n",
       "     Portugal      20\n",
       "     Francia       10\n",
       "2019 España        15\n",
       "     Portugal      12\n",
       "     Francia       18"
      ]
     },
     "execution_count": 6,
     "metadata": {},
     "output_type": "execute_result"
    }
   ],
   "source": [
    "data = pd.DataFrame(data = [18, 20, 10, 15, 12, 18], index = index, columns = [\"Ventas\"])\n",
    "data"
   ]
  },
  {
   "cell_type": "markdown",
   "metadata": {
    "id": "wv0EZLsFz7M4"
   },
   "source": [
    "## <font color='blue'>**Extracción de un nivel del índice**</font>\n",
    "\n",
    "Trabajando con un DataFrame o una Serie pandas con multi-índice, es posible extraer los valores de un nivel del índice con el método **.get_level_values()**. El parámetro que deberemos pasar a este método será o el número del nivel o su nombre -si es que el índice ha recibido nombres-."
   ]
  },
  {
   "cell_type": "code",
   "execution_count": null,
   "metadata": {
    "id": "gahW7BL_0H-D"
   },
   "outputs": [],
   "source": [
    "index = pd.MultiIndex.from_product(\n",
    "    [[2018, 2019],[\"España\", \"Portugal\", \"Francia\"]],\n",
    "    names = [\"Año\", \"País\"]\n",
    ")\n",
    "data = pd.DataFrame(data = [18, 20, 10, 15, 12, 18], index = index, columns = [\"Ventas\"])\n",
    "data"
   ]
  },
  {
   "cell_type": "markdown",
   "metadata": {
    "id": "dnpkOhAA0Ne8"
   },
   "source": [
    "La columna de etiquetas del multi-índice situada en el extremo izquierdo es la que recibe el número (el índice) 0. Por lo tanto:"
   ]
  },
  {
   "cell_type": "code",
   "execution_count": null,
   "metadata": {
    "id": "uXYfI2fj0Qis"
   },
   "outputs": [],
   "source": [
    "data.index.get_level_values(0)"
   ]
  },
  {
   "cell_type": "markdown",
   "metadata": {
    "id": "iFcKKVaX0V5z"
   },
   "source": [
    "De forma semejante:"
   ]
  },
  {
   "cell_type": "code",
   "execution_count": null,
   "metadata": {
    "id": "UGfbFVrO0WZc"
   },
   "outputs": [],
   "source": [
    "data.index.get_level_values(1)"
   ]
  },
  {
   "cell_type": "markdown",
   "metadata": {
    "id": "JPfA0QV-0aZM"
   },
   "source": [
    "Si pasamos como argumento el nombre de la columna del índice obtenemos resultados semejantes:"
   ]
  },
  {
   "cell_type": "code",
   "execution_count": null,
   "metadata": {
    "id": "jj2U-euB0b_Y"
   },
   "outputs": [],
   "source": [
    "data.index.get_level_values(\"Año\")"
   ]
  },
  {
   "cell_type": "code",
   "execution_count": null,
   "metadata": {
    "id": "ZD0dThjw0gDa"
   },
   "outputs": [],
   "source": [
    "data.index.get_level_values(\"País\")"
   ]
  },
  {
   "cell_type": "markdown",
   "metadata": {
    "id": "Yz7XMBAY0mL4"
   },
   "source": [
    "## <font color='blue'>**Selección con multi-índices**</font>\n",
    "\n",
    "El trabajar con estructuras pandas con multi-índices nos ofrece nuevos métodos de selección de datos."
   ]
  },
  {
   "cell_type": "code",
   "execution_count": null,
   "metadata": {
    "id": "A38yeHco0sC-"
   },
   "outputs": [],
   "source": [
    "index = pd.MultiIndex.from_product(\n",
    "    [[2018, 2019],[\"España\", \"Portugal\", \"Francia\"]],\n",
    "    names = [\"Año\", \"País\"]\n",
    ")\n",
    "data = pd.DataFrame(data = [18, 20, 10, 15, 12, 18], index = index, columns = [\"Ventas\"])\n",
    "data"
   ]
  },
  {
   "cell_type": "markdown",
   "metadata": {
    "id": "8HwpDyhJ0x4S"
   },
   "source": [
    "Podemos extraer las filas correspondientes al año 2018 con la siguiente expresión:"
   ]
  },
  {
   "cell_type": "code",
   "execution_count": null,
   "metadata": {
    "id": "J_A5rHlc00_P"
   },
   "outputs": [],
   "source": [
    "data.loc[2018]"
   ]
  },
  {
   "cell_type": "markdown",
   "metadata": {
    "id": "alJqg5PS06yz"
   },
   "source": [
    "O extraer el valor del campo \"Ventas\" correspondiente al año 2018 y el país \"España\" con la siguiente expresión:"
   ]
  },
  {
   "cell_type": "code",
   "execution_count": null,
   "metadata": {
    "id": "vYzSohpU0-Bb"
   },
   "outputs": [],
   "source": [
    "data.loc[(2018, \"España\")]"
   ]
  },
  {
   "cell_type": "markdown",
   "metadata": {
    "id": "lyxTQek31Erz"
   },
   "source": [
    "## <font color='blue'>**Aplicación de funciones estadísticas**</font>\n",
    "\n",
    "Usando multi-índices, también es posible aplicar funciones estadísticas al DataFrame o a la Serie especificando el nivel de la jerarquía al que aplicarlas."
   ]
  },
  {
   "cell_type": "code",
   "execution_count": 7,
   "metadata": {
    "id": "sFj2KD8Q1KFN"
   },
   "outputs": [
    {
     "data": {
      "text/html": [
       "<div>\n",
       "<style scoped>\n",
       "    .dataframe tbody tr th:only-of-type {\n",
       "        vertical-align: middle;\n",
       "    }\n",
       "\n",
       "    .dataframe tbody tr th {\n",
       "        vertical-align: top;\n",
       "    }\n",
       "\n",
       "    .dataframe thead th {\n",
       "        text-align: right;\n",
       "    }\n",
       "</style>\n",
       "<table border=\"1\" class=\"dataframe\">\n",
       "  <thead>\n",
       "    <tr style=\"text-align: right;\">\n",
       "      <th></th>\n",
       "      <th></th>\n",
       "      <th>Ventas</th>\n",
       "    </tr>\n",
       "    <tr>\n",
       "      <th>Año</th>\n",
       "      <th>País</th>\n",
       "      <th></th>\n",
       "    </tr>\n",
       "  </thead>\n",
       "  <tbody>\n",
       "    <tr>\n",
       "      <th rowspan=\"3\" valign=\"top\">2018</th>\n",
       "      <th>España</th>\n",
       "      <td>18</td>\n",
       "    </tr>\n",
       "    <tr>\n",
       "      <th>Portugal</th>\n",
       "      <td>20</td>\n",
       "    </tr>\n",
       "    <tr>\n",
       "      <th>Francia</th>\n",
       "      <td>10</td>\n",
       "    </tr>\n",
       "    <tr>\n",
       "      <th rowspan=\"3\" valign=\"top\">2019</th>\n",
       "      <th>España</th>\n",
       "      <td>15</td>\n",
       "    </tr>\n",
       "    <tr>\n",
       "      <th>Portugal</th>\n",
       "      <td>12</td>\n",
       "    </tr>\n",
       "    <tr>\n",
       "      <th>Francia</th>\n",
       "      <td>18</td>\n",
       "    </tr>\n",
       "  </tbody>\n",
       "</table>\n",
       "</div>"
      ],
      "text/plain": [
       "               Ventas\n",
       "Año  País            \n",
       "2018 España        18\n",
       "     Portugal      20\n",
       "     Francia       10\n",
       "2019 España        15\n",
       "     Portugal      12\n",
       "     Francia       18"
      ]
     },
     "execution_count": 7,
     "metadata": {},
     "output_type": "execute_result"
    }
   ],
   "source": [
    "index = pd.MultiIndex.from_product(\n",
    "    [[2018, 2019],[\"España\", \"Portugal\", \"Francia\"]],\n",
    "    names = [\"Año\", \"País\"]\n",
    ")\n",
    "data = pd.DataFrame(data = [18, 20, 10, 15, 12, 18], index = index, columns = [\"Ventas\"])\n",
    "data"
   ]
  },
  {
   "cell_type": "markdown",
   "metadata": {
    "id": "I3tBc4Bm1NIH"
   },
   "source": [
    "Podemos calcular el valor medio de las ventas, como ya sabemos con el método .mean():"
   ]
  },
  {
   "cell_type": "code",
   "execution_count": 8,
   "metadata": {
    "id": "FjMGCaRL1QgE"
   },
   "outputs": [
    {
     "data": {
      "text/plain": [
       "Ventas    15.5\n",
       "dtype: float64"
      ]
     },
     "execution_count": 8,
     "metadata": {},
     "output_type": "execute_result"
    }
   ],
   "source": [
    "data.mean()"
   ]
  },
  {
   "cell_type": "markdown",
   "metadata": {
    "id": "Uhs3_p-s1U-u"
   },
   "source": [
    "Pero si especificamos el nivel al que queremos aplicarlo, el DataFrame se agrega según los valores de dicho nivel antes de realizar la operación."
   ]
  },
  {
   "cell_type": "code",
   "execution_count": 9,
   "metadata": {
    "id": "Kj4kByDk1W_c"
   },
   "outputs": [
    {
     "data": {
      "text/html": [
       "<div>\n",
       "<style scoped>\n",
       "    .dataframe tbody tr th:only-of-type {\n",
       "        vertical-align: middle;\n",
       "    }\n",
       "\n",
       "    .dataframe tbody tr th {\n",
       "        vertical-align: top;\n",
       "    }\n",
       "\n",
       "    .dataframe thead th {\n",
       "        text-align: right;\n",
       "    }\n",
       "</style>\n",
       "<table border=\"1\" class=\"dataframe\">\n",
       "  <thead>\n",
       "    <tr style=\"text-align: right;\">\n",
       "      <th></th>\n",
       "      <th>Ventas</th>\n",
       "    </tr>\n",
       "    <tr>\n",
       "      <th>Año</th>\n",
       "      <th></th>\n",
       "    </tr>\n",
       "  </thead>\n",
       "  <tbody>\n",
       "    <tr>\n",
       "      <th>2018</th>\n",
       "      <td>16</td>\n",
       "    </tr>\n",
       "    <tr>\n",
       "      <th>2019</th>\n",
       "      <td>15</td>\n",
       "    </tr>\n",
       "  </tbody>\n",
       "</table>\n",
       "</div>"
      ],
      "text/plain": [
       "      Ventas\n",
       "Año         \n",
       "2018      16\n",
       "2019      15"
      ]
     },
     "execution_count": 9,
     "metadata": {},
     "output_type": "execute_result"
    }
   ],
   "source": [
    "data.mean(level = \"Año\")"
   ]
  },
  {
   "cell_type": "markdown",
   "metadata": {
    "id": "Jp9lY58R1akW"
   },
   "source": [
    "O el valor medio por país:"
   ]
  },
  {
   "cell_type": "code",
   "execution_count": 10,
   "metadata": {
    "id": "01ZzaQHZ1bNL"
   },
   "outputs": [
    {
     "data": {
      "text/html": [
       "<div>\n",
       "<style scoped>\n",
       "    .dataframe tbody tr th:only-of-type {\n",
       "        vertical-align: middle;\n",
       "    }\n",
       "\n",
       "    .dataframe tbody tr th {\n",
       "        vertical-align: top;\n",
       "    }\n",
       "\n",
       "    .dataframe thead th {\n",
       "        text-align: right;\n",
       "    }\n",
       "</style>\n",
       "<table border=\"1\" class=\"dataframe\">\n",
       "  <thead>\n",
       "    <tr style=\"text-align: right;\">\n",
       "      <th></th>\n",
       "      <th>Ventas</th>\n",
       "    </tr>\n",
       "    <tr>\n",
       "      <th>País</th>\n",
       "      <th></th>\n",
       "    </tr>\n",
       "  </thead>\n",
       "  <tbody>\n",
       "    <tr>\n",
       "      <th>España</th>\n",
       "      <td>16.5</td>\n",
       "    </tr>\n",
       "    <tr>\n",
       "      <th>Portugal</th>\n",
       "      <td>16.0</td>\n",
       "    </tr>\n",
       "    <tr>\n",
       "      <th>Francia</th>\n",
       "      <td>14.0</td>\n",
       "    </tr>\n",
       "  </tbody>\n",
       "</table>\n",
       "</div>"
      ],
      "text/plain": [
       "          Ventas\n",
       "País            \n",
       "España      16.5\n",
       "Portugal    16.0\n",
       "Francia     14.0"
      ]
     },
     "execution_count": 10,
     "metadata": {},
     "output_type": "execute_result"
    }
   ],
   "source": [
    "data.mean(level = \"País\")"
   ]
  },
  {
   "cell_type": "markdown",
   "metadata": {
    "id": "p2jAllRbGyKm"
   },
   "source": [
    "# <font color='blue'>**Ordenación y clasificación**</font>\n",
    "\n",
    "Otras útiles herramientas son aquellas que permiten ordenar las estructuras de datos de pandas -ordenación según los índices o según los valores- y las que permiten clasificar cada elemento de una estructura según su valor."
   ]
  },
  {
   "cell_type": "markdown",
   "metadata": {
    "id": "pf9Vl24mG_4_"
   },
   "source": [
    "## <font color='blue'>**Ordenación de series por índice**</font>\n",
    "\n",
    "El método **pandas.Series.sort_index** devuelve una copia de la serie ordenada según las etiquetas de forma ascendente."
   ]
  },
  {
   "cell_type": "code",
   "execution_count": 11,
   "metadata": {
    "id": "VWi52mbTHJMK"
   },
   "outputs": [
    {
     "data": {
      "text/plain": [
       "3    0\n",
       "1    1\n",
       "5    2\n",
       "0    3\n",
       "4    4\n",
       "dtype: int64"
      ]
     },
     "execution_count": 11,
     "metadata": {},
     "output_type": "execute_result"
    }
   ],
   "source": [
    "s = pd.Series([0, 1, 2, 3, 4], index = [3, 1, 5, 0, 4])\n",
    "s"
   ]
  },
  {
   "cell_type": "code",
   "execution_count": 12,
   "metadata": {
    "id": "XFKGuQ5cHT0h"
   },
   "outputs": [
    {
     "data": {
      "text/plain": [
       "0    3\n",
       "1    1\n",
       "3    0\n",
       "4    4\n",
       "5    2\n",
       "dtype: int64"
      ]
     },
     "execution_count": 12,
     "metadata": {},
     "output_type": "execute_result"
    }
   ],
   "source": [
    "s.sort_index()"
   ]
  },
  {
   "cell_type": "code",
   "execution_count": 13,
   "metadata": {
    "id": "oD_MaHmKHaZt"
   },
   "outputs": [
    {
     "data": {
      "text/plain": [
       "5    2\n",
       "4    4\n",
       "3    0\n",
       "1    1\n",
       "0    3\n",
       "dtype: int64"
      ]
     },
     "execution_count": 13,
     "metadata": {},
     "output_type": "execute_result"
    }
   ],
   "source": [
    "s.sort_index(ascending = False)"
   ]
  },
  {
   "cell_type": "markdown",
   "metadata": {
    "id": "bFKdqgNfHhh2"
   },
   "source": [
    "Si los índices fuesen cadenas de texto, se ordenarían de la a a la z, dando a las mayúsculas mayor prioridad (siguiendo el criterio del estándar Unicode)."
   ]
  },
  {
   "cell_type": "code",
   "execution_count": 14,
   "metadata": {
    "id": "hX5nMY8yHkZt"
   },
   "outputs": [
    {
     "data": {
      "text/plain": [
       "b    0\n",
       "d    1\n",
       "a    2\n",
       "A    3\n",
       "B    4\n",
       "dtype: int64"
      ]
     },
     "execution_count": 14,
     "metadata": {},
     "output_type": "execute_result"
    }
   ],
   "source": [
    "s = pd.Series([0, 1, 2, 3, 4], index = [\"b\", \"d\", \"a\", \"A\", \"B\"])\n",
    "s"
   ]
  },
  {
   "cell_type": "code",
   "execution_count": 15,
   "metadata": {
    "id": "wxVtOpDPHvGQ"
   },
   "outputs": [
    {
     "data": {
      "text/plain": [
       "A    3\n",
       "B    4\n",
       "a    2\n",
       "b    0\n",
       "d    1\n",
       "dtype: int64"
      ]
     },
     "execution_count": 15,
     "metadata": {},
     "output_type": "execute_result"
    }
   ],
   "source": [
    "s.sort_index()"
   ]
  },
  {
   "cell_type": "markdown",
   "metadata": {
    "id": "um41pl9YH2tu"
   },
   "source": [
    "## <font color='blue'>**Ordenación de series por valor**</font>\n",
    "\n",
    "Si lo que deseamos es obtener una copia de una serie tras ordenarla según sus valores, el método **pandas.Series.sort_values** hace exactamente esto, permitiéndonos -entre otras cosas- escoger si la ordenación es ascendente -valor por defecto- o descendente."
   ]
  },
  {
   "cell_type": "code",
   "execution_count": 16,
   "metadata": {
    "id": "U7rWrcGcH-59"
   },
   "outputs": [
    {
     "data": {
      "text/plain": [
       "a    7\n",
       "b    3\n",
       "c    6\n",
       "d    1\n",
       "e   -4\n",
       "dtype: int64"
      ]
     },
     "execution_count": 16,
     "metadata": {},
     "output_type": "execute_result"
    }
   ],
   "source": [
    "s = pd.Series([7, 3, 6, 1, -4], index = [\"a\", \"b\", \"c\", \"d\", \"e\"])\n",
    "s"
   ]
  },
  {
   "cell_type": "code",
   "execution_count": 17,
   "metadata": {
    "id": "nUiOZHFKIKIl"
   },
   "outputs": [
    {
     "data": {
      "text/plain": [
       "e   -4\n",
       "d    1\n",
       "b    3\n",
       "c    6\n",
       "a    7\n",
       "dtype: int64"
      ]
     },
     "execution_count": 17,
     "metadata": {},
     "output_type": "execute_result"
    }
   ],
   "source": [
    "s.sort_values()"
   ]
  },
  {
   "cell_type": "code",
   "execution_count": 18,
   "metadata": {
    "id": "439OGxJxIRjG"
   },
   "outputs": [
    {
     "data": {
      "text/plain": [
       "a    7\n",
       "c    6\n",
       "b    3\n",
       "d    1\n",
       "e   -4\n",
       "dtype: int64"
      ]
     },
     "execution_count": 18,
     "metadata": {},
     "output_type": "execute_result"
    }
   ],
   "source": [
    "s.sort_values(ascending = False)"
   ]
  },
  {
   "cell_type": "markdown",
   "metadata": {
    "id": "VyrS2tU3IXuh"
   },
   "source": [
    "## <font color='blue'>**Ordenación de dataframes por índice**</font>\n",
    "\n",
    "Los dataframes también tienen el mismo método que las series, **pandas.DataFrame.sort_index**, que devuelven una copia del mismo tras ordenarlo según las etiquetas a lo largo de un determinado eje."
   ]
  },
  {
   "cell_type": "code",
   "execution_count": 137,
   "metadata": {
    "id": "E2AmF6Z8IgQu"
   },
   "outputs": [
    {
     "data": {
      "text/html": [
       "<div>\n",
       "<style scoped>\n",
       "    .dataframe tbody tr th:only-of-type {\n",
       "        vertical-align: middle;\n",
       "    }\n",
       "\n",
       "    .dataframe tbody tr th {\n",
       "        vertical-align: top;\n",
       "    }\n",
       "\n",
       "    .dataframe thead th {\n",
       "        text-align: right;\n",
       "    }\n",
       "</style>\n",
       "<table border=\"1\" class=\"dataframe\">\n",
       "  <thead>\n",
       "    <tr style=\"text-align: right;\">\n",
       "      <th></th>\n",
       "      <th>C</th>\n",
       "      <th>A</th>\n",
       "      <th>D</th>\n",
       "      <th>B</th>\n",
       "    </tr>\n",
       "  </thead>\n",
       "  <tbody>\n",
       "    <tr>\n",
       "      <th>c</th>\n",
       "      <td>-3</td>\n",
       "      <td>1</td>\n",
       "      <td>4</td>\n",
       "      <td>-2</td>\n",
       "    </tr>\n",
       "    <tr>\n",
       "      <th>a</th>\n",
       "      <td>5</td>\n",
       "      <td>0</td>\n",
       "      <td>3</td>\n",
       "      <td>3</td>\n",
       "    </tr>\n",
       "    <tr>\n",
       "      <th>b</th>\n",
       "      <td>2</td>\n",
       "      <td>3</td>\n",
       "      <td>-4</td>\n",
       "      <td>1</td>\n",
       "    </tr>\n",
       "  </tbody>\n",
       "</table>\n",
       "</div>"
      ],
      "text/plain": [
       "   C  A  D  B\n",
       "c -3  1  4 -2\n",
       "a  5  0  3  3\n",
       "b  2  3 -4  1"
      ]
     },
     "execution_count": 137,
     "metadata": {},
     "output_type": "execute_result"
    }
   ],
   "source": [
    "df = pd.DataFrame({\"C\": [-3, 5, 2],\n",
    "                   \"A\": [1, 0, 3],\n",
    "                   \"D\": [4, 3, -4],\n",
    "                   \"B\": [-2, 3, 1]},\n",
    "                  index = [\"c\", \"a\", \"b\"])\n",
    "df"
   ]
  },
  {
   "cell_type": "markdown",
   "metadata": {
    "id": "2DyEGV0uI9Fv"
   },
   "source": [
    "Los índices del dataframe son de tipo texto y susceptibles de ser ordenados alfabéticamene, de la a a la z o viceversa (ya se ha comentado que las mayúsculas son situadas antes que las minúsculas en una ordenación ascendente). Ordenemos el dataframe, por lo tanto, a lo largo del eje 0 (eje vertical) -opción por defecto si no se indica otra cosa."
   ]
  },
  {
   "cell_type": "code",
   "execution_count": 138,
   "metadata": {
    "id": "A1uvVXD1JCc-"
   },
   "outputs": [
    {
     "data": {
      "text/html": [
       "<div>\n",
       "<style scoped>\n",
       "    .dataframe tbody tr th:only-of-type {\n",
       "        vertical-align: middle;\n",
       "    }\n",
       "\n",
       "    .dataframe tbody tr th {\n",
       "        vertical-align: top;\n",
       "    }\n",
       "\n",
       "    .dataframe thead th {\n",
       "        text-align: right;\n",
       "    }\n",
       "</style>\n",
       "<table border=\"1\" class=\"dataframe\">\n",
       "  <thead>\n",
       "    <tr style=\"text-align: right;\">\n",
       "      <th></th>\n",
       "      <th>C</th>\n",
       "      <th>A</th>\n",
       "      <th>D</th>\n",
       "      <th>B</th>\n",
       "    </tr>\n",
       "  </thead>\n",
       "  <tbody>\n",
       "    <tr>\n",
       "      <th>a</th>\n",
       "      <td>5</td>\n",
       "      <td>0</td>\n",
       "      <td>3</td>\n",
       "      <td>3</td>\n",
       "    </tr>\n",
       "    <tr>\n",
       "      <th>b</th>\n",
       "      <td>2</td>\n",
       "      <td>3</td>\n",
       "      <td>-4</td>\n",
       "      <td>1</td>\n",
       "    </tr>\n",
       "    <tr>\n",
       "      <th>c</th>\n",
       "      <td>-3</td>\n",
       "      <td>1</td>\n",
       "      <td>4</td>\n",
       "      <td>-2</td>\n",
       "    </tr>\n",
       "  </tbody>\n",
       "</table>\n",
       "</div>"
      ],
      "text/plain": [
       "   C  A  D  B\n",
       "a  5  0  3  3\n",
       "b  2  3 -4  1\n",
       "c -3  1  4 -2"
      ]
     },
     "execution_count": 138,
     "metadata": {},
     "output_type": "execute_result"
    }
   ],
   "source": [
    "df.sort_index()"
   ]
  },
  {
   "cell_type": "markdown",
   "metadata": {
    "id": "M7R3rHKvMZ0a"
   },
   "source": [
    "Efectivamente, las filas han sido ordenadas según el índice de filas. Especifiquemos que la ordenación del dataframe df sea por el eje 1 (eje horizontal)."
   ]
  },
  {
   "cell_type": "code",
   "execution_count": null,
   "metadata": {
    "id": "iCChhuULMcd-"
   },
   "outputs": [],
   "source": [
    "df.sort_index(axis = 1)"
   ]
  },
  {
   "cell_type": "markdown",
   "metadata": {
    "id": "M-fjEn36MjEK"
   },
   "source": [
    "En este caso vemos cómo han sido las columnas las que han sido ordenadas según sus etiquetas. Por supuesto, también tenemos la opción de recurrir al parámetro ascending para especificar el orden (ascendente o descendente)."
   ]
  },
  {
   "cell_type": "code",
   "execution_count": null,
   "metadata": {
    "id": "-ChVMs4rMnFv"
   },
   "outputs": [],
   "source": [
    "df.sort_index(axis = 1, ascending = False)"
   ]
  },
  {
   "cell_type": "markdown",
   "metadata": {
    "id": "SIY_YKRHMv5a"
   },
   "source": [
    "El método *sort_index* no permite especificar más que un único eje, por lo que si deseásemos realizar una segunda ordenación a lo largo del otro eje, tendríamos que volver a aplicar el mismo método.\n",
    "\n"
   ]
  },
  {
   "cell_type": "code",
   "execution_count": null,
   "metadata": {
    "id": "haK5omyPMz88"
   },
   "outputs": [],
   "source": [
    "df.sort_index().sort_index(axis = 1)"
   ]
  },
  {
   "cell_type": "markdown",
   "metadata": {
    "id": "1y0hYGCzNAi0"
   },
   "source": [
    "## <font color='blue'>**Ordenación de dataframes por valor**</font>\n",
    "\n",
    "El método **pandas.DataFrame.sort_values** asociado a todo dataframe es el que nos va a permitir ordenarlo según sus valores. En el caso de una estructura de dos dimensiones, hay dos elementos que van a definir cómo realizar la ordenación: el eje escogido (eje 0, por defecto) y, dentro de ese eje, qué fila o columna (o qué filas o columnas) van a determinar el orden de los datos."
   ]
  },
  {
   "cell_type": "code",
   "execution_count": null,
   "metadata": {
    "id": "kwlLHh4sNLCX"
   },
   "outputs": [],
   "source": [
    "df = pd.DataFrame({\"A\": [3, 2, 2, 0],\n",
    "                   \"B\": [1, 2, 2, 0],\n",
    "                   \"C\": [0, 3, 1, 5],\n",
    "                   \"D\": [2, 4, 5, 6]},\n",
    "                  index = [\"a\", \"b\", \"c\", \"d\"])\n",
    "df"
   ]
  },
  {
   "cell_type": "markdown",
   "metadata": {
    "id": "xhtlrEMJNfIn"
   },
   "source": [
    "Supongamos que queremos ordenar esta estructura según la columna A, es decir, según el eje vertical o eje 0."
   ]
  },
  {
   "cell_type": "code",
   "execution_count": null,
   "metadata": {
    "id": "1nMg1EvrNhRM"
   },
   "outputs": [],
   "source": [
    "df.sort_values(by = \"A\")"
   ]
  },
  {
   "cell_type": "markdown",
   "metadata": {
    "id": "SDcPJxY0NrIF"
   },
   "source": [
    "Al tratarse del eje por defecto, no ha sido necesario especificarlo mediante el parámetro **axis**. Las columnas (en este caso solo una) que determinan el criterio de ordenación se han indicado mediante el parámetro **by** (si se trata de una única fila o columna basta indicar el nombre de la misma. Si se tratase de más de una, habría que agregarlas en forma de lista). Por cierto, este método exige trabajar con etiquetas, no acepta índices.\n",
    "\n",
    "Las filas se han reordenado de forma que la columna A muestre sus valores ordenados de menor a mayor. Las filas cuyas etiquetas son \"b\" y \"c\" , al tener el mismo valor en la columna \"A\", reciben una ordenadión por defecto (la que imponga el código que, probablemente, deja el mismo orden en el que aparecen en el dataframe original). Si quisiéramos ordenar las filas también según una segunda columna, podríamos hacerlo de la siguiente manera:"
   ]
  },
  {
   "cell_type": "code",
   "execution_count": null,
   "metadata": {
    "id": "Xau8wpAgN8PB"
   },
   "outputs": [],
   "source": [
    "df.sort_values(by = [\"A\", \"C\"])"
   ]
  },
  {
   "cell_type": "markdown",
   "metadata": {
    "id": "D_fCIZKPOF4c"
   },
   "source": [
    "Las filas \"b\" y \"c\", que en el ejemplo anterior no se ordenaban entre sí pues no había criterio alguno que lo impusiese, ahora sí se muestran ordenadas según la columna \"C\".\n",
    "\n",
    "Si deseásemos ordenar el dataframe según los valores de las filas \"a\" y \"b\", por ejemplo, y de mayor a menor, podríamos conseguirlo del siguiente modo:"
   ]
  },
  {
   "cell_type": "code",
   "execution_count": null,
   "metadata": {
    "id": "qNUOxQ8TOKh3"
   },
   "outputs": [],
   "source": [
    "df.sort_values(by = [\"a\", \"b\"], axis = 1, ascending = False)"
   ]
  },
  {
   "cell_type": "markdown",
   "metadata": {
    "id": "SQA1Gh9UOWyq"
   },
   "source": [
    "En este caso ha sido necesario especificar el eje de ordenación, al no tratarse del eje por defecto (argumento axis = 1)."
   ]
  },
  {
   "cell_type": "markdown",
   "metadata": {
    "id": "au__TMGiOXgo"
   },
   "source": [
    "## <font color='blue'>**Clasificación de series**</font>\n",
    "\n",
    "El método **pandas.Series.rank** devuelve una serie conteniendo la clasificación o posición de cada valor de la serie original si fuesen ordenados de menor a mayor."
   ]
  },
  {
   "cell_type": "code",
   "execution_count": null,
   "metadata": {
    "id": "kYnQHhjiOn5S"
   },
   "outputs": [],
   "source": [
    "s = pd.Series([4, 2, 0, 3, 6], index = [\"a\", \"b\", \"c\", \"d\", \"e\"])\n",
    "s"
   ]
  },
  {
   "cell_type": "markdown",
   "metadata": {
    "id": "4iIQyEhcO1oG"
   },
   "source": [
    "Si ejecutamos el método **rank** asociado a esta serie, el resultado es el siguiente:"
   ]
  },
  {
   "cell_type": "code",
   "execution_count": null,
   "metadata": {
    "id": "WIB8QglzO4TV"
   },
   "outputs": [],
   "source": [
    "print(type(s.rank()))\n",
    "s.rank()"
   ]
  },
  {
   "cell_type": "markdown",
   "metadata": {
    "id": "azbGeUP6PIi2"
   },
   "source": [
    "Vemos que la estructura devuelta es una serie pandas, y que está formada por la posición o clasificación de cada elemento en la serie original. Así, por ejemplo, el menor valor de s era el 0 correspondiente a la etiqueta \"c\", de forma que, en la serie resultante de aplicar el método rank, el valor correspondiente a la etiqueta \"c\" es 1. El segundo valor de la serie s era el correspondiente a la etiqueta \"b\", que se muestra con el valor 2 en el resultado de rank, y así sucesivamente. Es decir, los valores de la serie resultante son los números desde 1 hasta n, siendo n el número de elementos de la serie original.\n",
    "\n",
    "O, al menos, esto es así si no hay valores repetidos en la serie original pues, en ese caso, el método rank nos permite especificar cómo queremos clasificarlos, cosa que podemos hacer con el parámetro **method**. Por defecto, cada uno de los valores repetidos recibe el valor medio de las clasificaciones de cada uno de los valores suponiendo que se les aplicase como clasificación un número entero consecutivo. "
   ]
  },
  {
   "cell_type": "code",
   "execution_count": null,
   "metadata": {
    "id": "roccCq3nPfK9"
   },
   "outputs": [],
   "source": [
    "s = pd.Series([4, 2, 2, 3, 3, 3, 6], index = [\"a\", \"b\", \"c\", \"d\", \"e\", \"f\", \"g\"])\n",
    "s"
   ]
  },
  {
   "cell_type": "markdown",
   "metadata": {
    "id": "GKBWugmIPsfX"
   },
   "source": [
    "El valor 2 está repetido dos veces, y que el valor 3 está repetido tres veces. Apliquemos el método rank con los argumentos por defecto:"
   ]
  },
  {
   "cell_type": "code",
   "execution_count": null,
   "metadata": {
    "id": "XBS5f4efPu8L"
   },
   "outputs": [],
   "source": [
    "s.rank()"
   ]
  },
  {
   "cell_type": "markdown",
   "metadata": {
    "id": "cvpfvVnKP0Og"
   },
   "source": [
    "Si ordenásemos los valores de la serie $s$ de menos a mayor, el resultado sería el siguiente:\n",
    "\n",
    "2, 2, 3, 3, 3, 4, 5\n",
    "\n",
    "Es decir, los valores 2 ocuparían las posiciones 1 y 2. Su valor medio es 1.5, que es el valor que les asigna el método rank. Los valores 3 ocuparían las posiciones 3, 4 y 5, cuyo valor medio es 4, y éste es el valor que les asigna el método rank.\n",
    "\n",
    "En todo caso, el parámetro **method** del método nos permite escoger el criterio de asignación de la clasificación para valores repetidos: puede ser, por ejemplo, el menor valor (de los que recibirían si se asignasen valores no repetidos):"
   ]
  },
  {
   "cell_type": "code",
   "execution_count": 19,
   "metadata": {
    "id": "89cO00NIQBuZ"
   },
   "outputs": [
    {
     "data": {
      "text/plain": [
       "a    5.0\n",
       "b    3.0\n",
       "c    4.0\n",
       "d    2.0\n",
       "e    1.0\n",
       "dtype: float64"
      ]
     },
     "execution_count": 19,
     "metadata": {},
     "output_type": "execute_result"
    }
   ],
   "source": [
    "s.rank(method = \"min\")"
   ]
  },
  {
   "cell_type": "markdown",
   "metadata": {
    "id": "oUyViWsJQIAU"
   },
   "source": [
    "Vemos cómo se ha asignado a los dos valores correspondientes al menor valor (etiquetas \"b\" y \"c\") el valor 1 (mínimo de 1 y 2, posiciones que ocupan ambos números) y se ha asignado el valor 3 a los tres valores que ocupan las posiciones 3, 4 y 5."
   ]
  },
  {
   "cell_type": "markdown",
   "metadata": {
    "id": "YOydZgH1QOfq"
   },
   "source": [
    "## <font color='blue'>**Clasificación de dataframes**</font>\n",
    "\n",
    "De forma semejante a las series, los dataframes tienen el método **pandas.DataFrame.rank**, que devuelve la clasificación de cada valor a lo largo de un determinado eje. "
   ]
  },
  {
   "cell_type": "code",
   "execution_count": 20,
   "metadata": {
    "id": "iYMlSNhTQYeT"
   },
   "outputs": [
    {
     "data": {
      "text/html": [
       "<div>\n",
       "<style scoped>\n",
       "    .dataframe tbody tr th:only-of-type {\n",
       "        vertical-align: middle;\n",
       "    }\n",
       "\n",
       "    .dataframe tbody tr th {\n",
       "        vertical-align: top;\n",
       "    }\n",
       "\n",
       "    .dataframe thead th {\n",
       "        text-align: right;\n",
       "    }\n",
       "</style>\n",
       "<table border=\"1\" class=\"dataframe\">\n",
       "  <thead>\n",
       "    <tr style=\"text-align: right;\">\n",
       "      <th></th>\n",
       "      <th>A</th>\n",
       "      <th>B</th>\n",
       "      <th>C</th>\n",
       "      <th>D</th>\n",
       "    </tr>\n",
       "  </thead>\n",
       "  <tbody>\n",
       "    <tr>\n",
       "      <th>ene</th>\n",
       "      <td>3</td>\n",
       "      <td>1</td>\n",
       "      <td>3</td>\n",
       "      <td>7</td>\n",
       "    </tr>\n",
       "    <tr>\n",
       "      <th>feb</th>\n",
       "      <td>3</td>\n",
       "      <td>5</td>\n",
       "      <td>7</td>\n",
       "      <td>2</td>\n",
       "    </tr>\n",
       "    <tr>\n",
       "      <th>mar</th>\n",
       "      <td>1</td>\n",
       "      <td>2</td>\n",
       "      <td>2</td>\n",
       "      <td>-1</td>\n",
       "    </tr>\n",
       "  </tbody>\n",
       "</table>\n",
       "</div>"
      ],
      "text/plain": [
       "     A  B  C  D\n",
       "ene  3  1  3  7\n",
       "feb  3  5  7  2\n",
       "mar  1  2  2 -1"
      ]
     },
     "execution_count": 20,
     "metadata": {},
     "output_type": "execute_result"
    }
   ],
   "source": [
    "ventas = pd.DataFrame({\"A\": [3, 3, 1],\n",
    "                   \"B\": [1, 5, 2],\n",
    "                   \"C\": [3, 7, 2],\n",
    "                   \"D\": [7, 2, -1]},\n",
    "                  index = [\"ene\", \"feb\", \"mar\"])\n",
    "ventas"
   ]
  },
  {
   "cell_type": "code",
   "execution_count": 21,
   "metadata": {
    "id": "_-iGQ5pOQtqA"
   },
   "outputs": [
    {
     "data": {
      "text/html": [
       "<div>\n",
       "<style scoped>\n",
       "    .dataframe tbody tr th:only-of-type {\n",
       "        vertical-align: middle;\n",
       "    }\n",
       "\n",
       "    .dataframe tbody tr th {\n",
       "        vertical-align: top;\n",
       "    }\n",
       "\n",
       "    .dataframe thead th {\n",
       "        text-align: right;\n",
       "    }\n",
       "</style>\n",
       "<table border=\"1\" class=\"dataframe\">\n",
       "  <thead>\n",
       "    <tr style=\"text-align: right;\">\n",
       "      <th></th>\n",
       "      <th>A</th>\n",
       "      <th>B</th>\n",
       "      <th>C</th>\n",
       "      <th>D</th>\n",
       "    </tr>\n",
       "  </thead>\n",
       "  <tbody>\n",
       "    <tr>\n",
       "      <th>ene</th>\n",
       "      <td>2.5</td>\n",
       "      <td>1.0</td>\n",
       "      <td>2.0</td>\n",
       "      <td>3.0</td>\n",
       "    </tr>\n",
       "    <tr>\n",
       "      <th>feb</th>\n",
       "      <td>2.5</td>\n",
       "      <td>3.0</td>\n",
       "      <td>3.0</td>\n",
       "      <td>2.0</td>\n",
       "    </tr>\n",
       "    <tr>\n",
       "      <th>mar</th>\n",
       "      <td>1.0</td>\n",
       "      <td>2.0</td>\n",
       "      <td>1.0</td>\n",
       "      <td>1.0</td>\n",
       "    </tr>\n",
       "  </tbody>\n",
       "</table>\n",
       "</div>"
      ],
      "text/plain": [
       "       A    B    C    D\n",
       "ene  2.5  1.0  2.0  3.0\n",
       "feb  2.5  3.0  3.0  2.0\n",
       "mar  1.0  2.0  1.0  1.0"
      ]
     },
     "execution_count": 21,
     "metadata": {},
     "output_type": "execute_result"
    }
   ],
   "source": [
    "ventas.rank()"
   ]
  },
  {
   "cell_type": "markdown",
   "metadata": {
    "id": "PkFhBS_7Qxzr"
   },
   "source": [
    "La estructura devuelta por el método **rank** es otro dataframe, y el eje por defecto en el que se calculan las clasificaciones es el eje 0 (eje vertical). Vemos que el comportamiento es semejante al visto para las series (de hecho, podemos pensar que el método se aplica a cada columna por separado, siendo éstas, como sabemos, series). Por ejemplo, la primera columna está formada por las cifras 3, 3 y 1, y la clasificación es 2.5, 2.5 y 1 respectivamente, sabiendo que el 2.5 es la media de las posiciones 2 y 3 que dichas cifras ocuparían si la serie original se ordenase de menor a mayor.\n",
    "\n",
    "También podemos aplicar el método a lo largo del eje 1 (eje horizonta):"
   ]
  },
  {
   "cell_type": "code",
   "execution_count": null,
   "metadata": {
    "id": "QJPhct7QQ7Ff"
   },
   "outputs": [],
   "source": [
    "ventas.rank(axis = 1)"
   ]
  },
  {
   "cell_type": "markdown",
   "metadata": {
    "id": "rXOS7nnLQ_Sd"
   },
   "source": [
    "En este caso, si consideramos la primera fila, los valores del dataframe original son 3, 1, 3 y 7, y su clasificación es 2.5, 1, 2.5 y 4, sabiendo nuevamente que el 2.5 es el valor medio de las posiciones 2 y 3 que ocuparían los valores repetidos (3) si se asignasen posiciones numéricas consecutivas.\n",
    "\n",
    "El método **rank** tiene -ya lo hemos visto para series- el parámetro **ascending** que controla el orden de los resultados (ascendente o descendente) y el parámetro method que controla el criterio de clasificación para valores repetidos."
   ]
  },
  {
   "cell_type": "markdown",
   "metadata": {
    "id": "cRY9g7q3T6p1"
   },
   "source": [
    "# <font color='blue'>**Aplicación de funciones y mapeado**</font>\n",
    "\n",
    "pandas ofrece varios métodos para aplicar funciones a los valores de una serie o de un dataframe, o para sustituir dichos valores por otros aplicando un cierto \"mapeado\". Más concretamente nos encontramos con los siguientes métodos:\n",
    "\n",
    "* **pandas.Series.apply**: aplica una función a cada uno de los elementos de la serie cuyo resultado, por lo tanto, tendrá el mismo tamaño que la serie original.\n",
    "* **pandas.Series.map**: devuelve una serie del mismo tamaño que la original en la que cada valor ha sido sustituido por otro valor resultante de aplicar una \"función de mapeado\".\n",
    "* **pandas.DataFrame.applymap**: aplica una función a cada uno de los elementos del dataframe que, por lo tanto, tendrá el mismo tamaño que el dataframe original.\n",
    "* **pandas.DataFrame.apply**: aplica una función a las filas o a las columnas de un dataframe. Si, por ejemplo, se aplica a las filas, el resultado será una serie con tantos valores como filas tuviese el dataframe original.\n",
    "\n",
    "Los nombres pueden parecer un tanto confusos: uno podría esperar que el método apply tuviese el mismo comportamiento en series y en dataframes y, en realidad, el método equivalente al método apply de las series es el applymap de los dataframes."
   ]
  },
  {
   "cell_type": "markdown",
   "metadata": {
    "id": "Ne3OIjLvUX9h"
   },
   "source": [
    "## <font color='blue'>**El método Series.apply**</font>\n",
    "\n",
    "El método **pandas.Series.apply** permite aplicar a cada uno de los elementos de la serie una función. Ésta deberá aceptar un único valor como argumento y devolver también un único valor."
   ]
  },
  {
   "cell_type": "code",
   "execution_count": 139,
   "metadata": {
    "id": "F52NYeHaUjKp"
   },
   "outputs": [
    {
     "data": {
      "text/plain": [
       "0    2\n",
       "1    5\n",
       "2    4\n",
       "dtype: int64"
      ]
     },
     "execution_count": 139,
     "metadata": {},
     "output_type": "execute_result"
    }
   ],
   "source": [
    "s = pd.Series([2, 5, 4])\n",
    "s"
   ]
  },
  {
   "cell_type": "markdown",
   "metadata": {
    "id": "OoaYikvsUtag"
   },
   "source": [
    "Una función que eleve al cubo el argumento de entrada:\n",
    "\n"
   ]
  },
  {
   "cell_type": "code",
   "execution_count": 140,
   "metadata": {
    "id": "EdFwsLzaUu3F"
   },
   "outputs": [],
   "source": [
    "def cubo(n):\n",
    "  return n ** 3"
   ]
  },
  {
   "cell_type": "markdown",
   "metadata": {
    "id": "6PJ2IqluU2Ol"
   },
   "source": [
    "Podemos usar el método **apply** para aplicar esta función a cada uno de los elementos de la serie $s$:\n",
    "\n"
   ]
  },
  {
   "cell_type": "code",
   "execution_count": 141,
   "metadata": {
    "id": "sjhUf4olU7AP"
   },
   "outputs": [
    {
     "data": {
      "text/plain": [
       "0      8\n",
       "1    125\n",
       "2     64\n",
       "dtype: int64"
      ]
     },
     "execution_count": 141,
     "metadata": {},
     "output_type": "execute_result"
    }
   ],
   "source": [
    "s.apply(cubo)"
   ]
  },
  {
   "cell_type": "markdown",
   "metadata": {
    "id": "a3ZANEwuVBTI"
   },
   "source": [
    "El resultado es también una serie pandas."
   ]
  },
  {
   "cell_type": "markdown",
   "metadata": {
    "id": "XD0Hm60LVGi9"
   },
   "source": [
    "## <font color='blue'>**El método Series.map**</font>\n",
    "\n",
    "El método **pandas.Series.map** aplicado a una serie $s$ acepta un argumento que indica el tipo de mapeo a realizar y devuelve una serie equivalente a $s$ con sus valores una vez mapeados. Por ejemplo, supongamos que tenemos una serie cuyos valores representan el mes en el que se ha realizado una venta."
   ]
  },
  {
   "cell_type": "code",
   "execution_count": 142,
   "metadata": {
    "id": "CgLyT_Z5VV-z"
   },
   "outputs": [
    {
     "data": {
      "text/plain": [
       "0    1\n",
       "1    2\n",
       "2    1\n",
       "3    1\n",
       "4    3\n",
       "5    1\n",
       "dtype: int64"
      ]
     },
     "execution_count": 142,
     "metadata": {},
     "output_type": "execute_result"
    }
   ],
   "source": [
    "ventas = pd.Series([1, 2, 1, 1, 3, 1])\n",
    "ventas"
   ]
  },
  {
   "cell_type": "markdown",
   "metadata": {
    "id": "pynasb_fVfSq"
   },
   "source": [
    "Y supongamos que queremos generar una serie equivalente a ésta en la que cada mes aparezca representado por su nombre, y no por un número."
   ]
  },
  {
   "cell_type": "markdown",
   "metadata": {
    "id": "wt4SFcEnVqZt"
   },
   "source": [
    "### <font color='blue'>**Uso de un diccionario como función de mapeo**</font>\n",
    "\n",
    "Una de las formas que tenemos de definir este \"mapeo\" entre números y cadenas de texto es utilizando un diccionario:"
   ]
  },
  {
   "cell_type": "code",
   "execution_count": 143,
   "metadata": {
    "id": "BJ9a_QxDVwNy"
   },
   "outputs": [
    {
     "data": {
      "text/plain": [
       "{1: 'ene', 2: 'feb', 3: 'mar'}"
      ]
     },
     "execution_count": 143,
     "metadata": {},
     "output_type": "execute_result"
    }
   ],
   "source": [
    "meses = {1: \"ene\", 2: \"feb\", 3: \"mar\"}\n",
    "meses"
   ]
  },
  {
   "cell_type": "markdown",
   "metadata": {
    "id": "nTp7OQ1aV6Bs"
   },
   "source": [
    "Ahora, si ejecutamos el método **map** añadiendo como argumento este diccionario, se devolverá la serie que buscábamos:\n",
    "\n"
   ]
  },
  {
   "cell_type": "code",
   "execution_count": 144,
   "metadata": {
    "id": "MWgZYL_VV9O0"
   },
   "outputs": [
    {
     "data": {
      "text/plain": [
       "0    ene\n",
       "1    feb\n",
       "2    ene\n",
       "3    ene\n",
       "4    mar\n",
       "5    ene\n",
       "dtype: object"
      ]
     },
     "execution_count": 144,
     "metadata": {},
     "output_type": "execute_result"
    }
   ],
   "source": [
    "ventas.map(meses)"
   ]
  },
  {
   "cell_type": "markdown",
   "metadata": {
    "id": "hxndfwVDWFR-"
   },
   "source": [
    "### <font color='blue'>**Uso de una serie como función de mapeo**</font>\n",
    "\n",
    "El método también admite como \"función de mapeo\" una serie:"
   ]
  },
  {
   "cell_type": "code",
   "execution_count": 145,
   "metadata": {
    "id": "-Bef29bbWKhn"
   },
   "outputs": [
    {
     "data": {
      "text/plain": [
       "1    ene\n",
       "2    feb\n",
       "3    mar\n",
       "dtype: object"
      ]
     },
     "execution_count": 145,
     "metadata": {},
     "output_type": "execute_result"
    }
   ],
   "source": [
    "meses = pd.Series([\"ene\", \"feb\", \"mar\"], index = [1, 2, 3])\n",
    "meses"
   ]
  },
  {
   "cell_type": "code",
   "execution_count": 146,
   "metadata": {
    "id": "NBezvhZ4WUyM"
   },
   "outputs": [
    {
     "data": {
      "text/plain": [
       "0    ene\n",
       "1    feb\n",
       "2    ene\n",
       "3    ene\n",
       "4    mar\n",
       "5    ene\n",
       "dtype: object"
      ]
     },
     "execution_count": 146,
     "metadata": {},
     "output_type": "execute_result"
    }
   ],
   "source": [
    "ventas.map(meses)"
   ]
  },
  {
   "cell_type": "markdown",
   "metadata": {
    "id": "DyBEW602WYCF"
   },
   "source": [
    "En este caso, cada valor de la serie original (ventas, en nuestro ejemplo) se mapeará con el elemento cuya etiqueta coincida con él."
   ]
  },
  {
   "cell_type": "markdown",
   "metadata": {
    "id": "-iWmTADoWa2O"
   },
   "source": [
    "### <font color='blue'>**Uso de una función como función de mapeo**</font>\n",
    "\n",
    "El tercer método al que podemos recurrir es utilizar una función que acepte como entradas los valores que se encuentren en la serie original y devuelva el resultado del mapeo. Por ejemplo:\n"
   ]
  },
  {
   "cell_type": "code",
   "execution_count": null,
   "metadata": {
    "id": "CM2VsgpjWhC-"
   },
   "outputs": [],
   "source": [
    "def mes_str(n):\n",
    "  if n == 1:\n",
    "    return \"ene\"\n",
    "  elif n == 2:\n",
    "    return \"feb\"\n",
    "  elif n == 3:\n",
    "    return \"mar\""
   ]
  },
  {
   "cell_type": "code",
   "execution_count": null,
   "metadata": {
    "id": "JZ39ltsEWw6E"
   },
   "outputs": [],
   "source": [
    "ventas.map(mes_str)"
   ]
  },
  {
   "cell_type": "markdown",
   "metadata": {
    "id": "zSzCol5PW6M6"
   },
   "source": [
    "## <font color='blue'>**El método DataFrame.apply**</font>\n",
    "\n",
    "Los dataframes tienen un método con el mismo nombre que el método **apply** de las series, **pandas.DataFrame.apply**, pero con funcionalidad diferente pues, en el caso de los dataframes, se aplica a lo largo de un eje del dataframe. Esto quiere decir que el argumento de entrada de la función a utilizar no va a ser un simple escalar, sino una serie cuyo índice va a ser el índice de filas del dataframe (si la función se aplica al eje 0) o el índice de columnas del dataframe (si la función se aplica al eje 1). El resultado del método también será una serie que estará formada por los valores calculados.\n",
    "\n",
    "Por ejemplo, si tenemos el siguiente dataframe con las ventas de los productos A, B, C y D a lo largo de los meses de enero, febrero y marzo:"
   ]
  },
  {
   "cell_type": "code",
   "execution_count": 147,
   "metadata": {
    "id": "FMasMq7wXIXj"
   },
   "outputs": [
    {
     "data": {
      "text/html": [
       "<div>\n",
       "<style scoped>\n",
       "    .dataframe tbody tr th:only-of-type {\n",
       "        vertical-align: middle;\n",
       "    }\n",
       "\n",
       "    .dataframe tbody tr th {\n",
       "        vertical-align: top;\n",
       "    }\n",
       "\n",
       "    .dataframe thead th {\n",
       "        text-align: right;\n",
       "    }\n",
       "</style>\n",
       "<table border=\"1\" class=\"dataframe\">\n",
       "  <thead>\n",
       "    <tr style=\"text-align: right;\">\n",
       "      <th></th>\n",
       "      <th>A</th>\n",
       "      <th>B</th>\n",
       "      <th>C</th>\n",
       "      <th>D</th>\n",
       "    </tr>\n",
       "  </thead>\n",
       "  <tbody>\n",
       "    <tr>\n",
       "      <th>ene</th>\n",
       "      <td>3</td>\n",
       "      <td>1</td>\n",
       "      <td>3</td>\n",
       "      <td>7</td>\n",
       "    </tr>\n",
       "    <tr>\n",
       "      <th>feb</th>\n",
       "      <td>3</td>\n",
       "      <td>5</td>\n",
       "      <td>7</td>\n",
       "      <td>2</td>\n",
       "    </tr>\n",
       "    <tr>\n",
       "      <th>mar</th>\n",
       "      <td>1</td>\n",
       "      <td>2</td>\n",
       "      <td>2</td>\n",
       "      <td>3</td>\n",
       "    </tr>\n",
       "  </tbody>\n",
       "</table>\n",
       "</div>"
      ],
      "text/plain": [
       "     A  B  C  D\n",
       "ene  3  1  3  7\n",
       "feb  3  5  7  2\n",
       "mar  1  2  2  3"
      ]
     },
     "execution_count": 147,
     "metadata": {},
     "output_type": "execute_result"
    }
   ],
   "source": [
    "ventas = pd.DataFrame({\"A\": [3, 3, 1],\n",
    "                   \"B\": [1, 5, 2],\n",
    "                   \"C\": [3, 7, 2],\n",
    "                   \"D\": [7, 2, 3]},\n",
    "                  index = [\"ene\", \"feb\", \"mar\"])\n",
    "ventas"
   ]
  },
  {
   "cell_type": "markdown",
   "metadata": {
    "id": "RMmalTBBXRx-"
   },
   "source": [
    "Podríamos estar interesados en calcular el rango en el que se mueven las ventas, es decir, la diferencia entre el mayor y el menor valor de ventas. Para ello, sabiendo que dicho rango se va a aplicar a una fila o a una columna -es decir, a una serie-, definimos la siguiente función:"
   ]
  },
  {
   "cell_type": "code",
   "execution_count": 148,
   "metadata": {
    "id": "7sE0C7UJXW6o"
   },
   "outputs": [],
   "source": [
    "def rango(s):\n",
    "  return max(s) - min(s)"
   ]
  },
  {
   "cell_type": "markdown",
   "metadata": {
    "id": "tzbuXgO0XdPF"
   },
   "source": [
    "Esta función acepta un iterable y devuelve la diferencia entre el valor máximo y el mínimo.\n",
    "\n",
    "Ahora podemos aplicar esta función a nuestro dataframe de ventas. Por defecto se va a aplicar al eje 0 (eje vertical):"
   ]
  },
  {
   "cell_type": "code",
   "execution_count": 149,
   "metadata": {
    "id": "yyWYNVLhXgfR"
   },
   "outputs": [
    {
     "data": {
      "text/plain": [
       "A    2\n",
       "B    4\n",
       "C    5\n",
       "D    5\n",
       "dtype: int64"
      ]
     },
     "execution_count": 149,
     "metadata": {},
     "output_type": "execute_result"
    }
   ],
   "source": [
    "ventas.apply(rango)"
   ]
  },
  {
   "cell_type": "markdown",
   "metadata": {
    "id": "-GF2NKHqXr5Y"
   },
   "source": [
    "Si nos fijamos en la columna A, el valor máximo es 3 y el mínimo es 1, de forma que su diferencia es 2, tal y como se muestra en el resultado del método **apply**.\n",
    "\n",
    "Si aplicamos el método a lo largo del eje 1 (eje horizontal), obtendremos la diferencia entre el mayor y el menor valor de cada fila:"
   ]
  },
  {
   "cell_type": "code",
   "execution_count": null,
   "metadata": {
    "id": "ATkZpncnXwLB"
   },
   "outputs": [],
   "source": [
    "ventas.apply(rango, axis = 1)"
   ]
  },
  {
   "cell_type": "markdown",
   "metadata": {
    "id": "AlWXrPzsX6Ns"
   },
   "source": [
    "## <font color='blue'>**El método DataFrame.applymap**</font>\n",
    "\n",
    "Al contrario de lo que ocurría con el método **apply** de los dataframes, el método **pandas.DataFrame.applymap** aplica una función que acepta y devuelve un único escalar, función que se va a aplicar a todos los elementos del dataframe.*texto en cursiva*"
   ]
  },
  {
   "cell_type": "code",
   "execution_count": 150,
   "metadata": {
    "id": "P_3C2cq0YEgT"
   },
   "outputs": [
    {
     "data": {
      "text/html": [
       "<div>\n",
       "<style scoped>\n",
       "    .dataframe tbody tr th:only-of-type {\n",
       "        vertical-align: middle;\n",
       "    }\n",
       "\n",
       "    .dataframe tbody tr th {\n",
       "        vertical-align: top;\n",
       "    }\n",
       "\n",
       "    .dataframe thead th {\n",
       "        text-align: right;\n",
       "    }\n",
       "</style>\n",
       "<table border=\"1\" class=\"dataframe\">\n",
       "  <thead>\n",
       "    <tr style=\"text-align: right;\">\n",
       "      <th></th>\n",
       "      <th>A</th>\n",
       "      <th>B</th>\n",
       "      <th>C</th>\n",
       "      <th>D</th>\n",
       "    </tr>\n",
       "  </thead>\n",
       "  <tbody>\n",
       "    <tr>\n",
       "      <th>ene</th>\n",
       "      <td>3</td>\n",
       "      <td>1</td>\n",
       "      <td>3</td>\n",
       "      <td>7</td>\n",
       "    </tr>\n",
       "    <tr>\n",
       "      <th>feb</th>\n",
       "      <td>3</td>\n",
       "      <td>5</td>\n",
       "      <td>7</td>\n",
       "      <td>2</td>\n",
       "    </tr>\n",
       "    <tr>\n",
       "      <th>mar</th>\n",
       "      <td>1</td>\n",
       "      <td>2</td>\n",
       "      <td>2</td>\n",
       "      <td>3</td>\n",
       "    </tr>\n",
       "  </tbody>\n",
       "</table>\n",
       "</div>"
      ],
      "text/plain": [
       "     A  B  C  D\n",
       "ene  3  1  3  7\n",
       "feb  3  5  7  2\n",
       "mar  1  2  2  3"
      ]
     },
     "execution_count": 150,
     "metadata": {},
     "output_type": "execute_result"
    }
   ],
   "source": [
    "ventas = pd.DataFrame({\"A\": [3, 3, 1],\n",
    "                   \"B\": [1, 5, 2],\n",
    "                   \"C\": [3, 7, 2],\n",
    "                   \"D\": [7, 2, 3]},\n",
    "                  index = [\"ene\", \"feb\", \"mar\"])\n",
    "ventas"
   ]
  },
  {
   "cell_type": "markdown",
   "metadata": {
    "id": "L4WJqPIhYJgR"
   },
   "source": [
    "Supongamos que queremos saber si los valores son pares o no. Para ello definimos una función que acepta un valor de entrada y devuelve el booleano True si el valor es par y False en caso contrario:"
   ]
  },
  {
   "cell_type": "code",
   "execution_count": 151,
   "metadata": {
    "id": "igRtAfZpYMyb"
   },
   "outputs": [],
   "source": [
    "def par(n):\n",
    "  if n/2 == n//2:\n",
    "    return True\n",
    "  else:\n",
    "    return False"
   ]
  },
  {
   "cell_type": "markdown",
   "metadata": {
    "id": "OCERYqD3YaYq"
   },
   "source": [
    "Ahora podemos aplicar el método añadiendo como argumento esta función:"
   ]
  },
  {
   "cell_type": "code",
   "execution_count": 152,
   "metadata": {
    "id": "yaTYeTghYbr7"
   },
   "outputs": [
    {
     "data": {
      "text/html": [
       "<div>\n",
       "<style scoped>\n",
       "    .dataframe tbody tr th:only-of-type {\n",
       "        vertical-align: middle;\n",
       "    }\n",
       "\n",
       "    .dataframe tbody tr th {\n",
       "        vertical-align: top;\n",
       "    }\n",
       "\n",
       "    .dataframe thead th {\n",
       "        text-align: right;\n",
       "    }\n",
       "</style>\n",
       "<table border=\"1\" class=\"dataframe\">\n",
       "  <thead>\n",
       "    <tr style=\"text-align: right;\">\n",
       "      <th></th>\n",
       "      <th>A</th>\n",
       "      <th>B</th>\n",
       "      <th>C</th>\n",
       "      <th>D</th>\n",
       "    </tr>\n",
       "  </thead>\n",
       "  <tbody>\n",
       "    <tr>\n",
       "      <th>ene</th>\n",
       "      <td>False</td>\n",
       "      <td>False</td>\n",
       "      <td>False</td>\n",
       "      <td>False</td>\n",
       "    </tr>\n",
       "    <tr>\n",
       "      <th>feb</th>\n",
       "      <td>False</td>\n",
       "      <td>False</td>\n",
       "      <td>False</td>\n",
       "      <td>True</td>\n",
       "    </tr>\n",
       "    <tr>\n",
       "      <th>mar</th>\n",
       "      <td>False</td>\n",
       "      <td>True</td>\n",
       "      <td>True</td>\n",
       "      <td>False</td>\n",
       "    </tr>\n",
       "  </tbody>\n",
       "</table>\n",
       "</div>"
      ],
      "text/plain": [
       "         A      B      C      D\n",
       "ene  False  False  False  False\n",
       "feb  False  False  False   True\n",
       "mar  False   True   True  False"
      ]
     },
     "execution_count": 152,
     "metadata": {},
     "output_type": "execute_result"
    }
   ],
   "source": [
    "ventas.applymap(par)"
   ]
  },
  {
   "cell_type": "markdown",
   "metadata": {
    "id": "t5xC8sNjYhup"
   },
   "source": [
    "Comprobamos que el resultado es un dataframe del mismo tamaño que el dataframe original en el que cada valor se ha sustituido por el resultado de aplicar la función indicada."
   ]
  },
  {
   "cell_type": "markdown",
   "metadata": {
    "id": "ZhX0SrtvYnaS"
   },
   "source": [
    "# <font color='blue'>**Gestión de valores nulos**</font>\n",
    "\n",
    "Un aspecto crítico en todo análisis de datos es la gestión de los valores nulos, representados en pandas por la valor real NaN (\"Not a Number\").\n",
    "\n",
    "pandas ofrece diferentes funciones y métodos para gestionar estos valores."
   ]
  },
  {
   "cell_type": "markdown",
   "metadata": {
    "id": "_MGc9vcuYvjJ"
   },
   "source": [
    "## <font color='blue'>**La función isnull**</font>\n",
    "\n",
    "La función **pandas.isnull** devuelve una estructura con las mismas dimensiones que la que se cede como argumento sustituyendo cada valor por el booleano True si el correspondiente elemento es un valor nulo, y por el booleano False en caso contrario.\n",
    "\n",
    "Esta función es equivalente a **pandas.isna**."
   ]
  },
  {
   "cell_type": "code",
   "execution_count": null,
   "metadata": {
    "id": "FtFW9EDSY-jY"
   },
   "outputs": [],
   "source": [
    "s = pd.Series([1, np.nan, 7, np.nan, 3])\n",
    "s"
   ]
  },
  {
   "cell_type": "code",
   "execution_count": null,
   "metadata": {
    "id": "o5KA28caZIYs"
   },
   "outputs": [],
   "source": [
    "pd.isnull(s)"
   ]
  },
  {
   "cell_type": "markdown",
   "metadata": {
    "id": "5q0zzfNzZOM3"
   },
   "source": [
    "Esta funcionalidad también está disponible como método:"
   ]
  },
  {
   "cell_type": "code",
   "execution_count": null,
   "metadata": {
    "id": "6y2CbCwfZO6E"
   },
   "outputs": [],
   "source": [
    "s.isnull()"
   ]
  },
  {
   "cell_type": "markdown",
   "metadata": {
    "id": "zlsOQ9yEZUcX"
   },
   "source": [
    "También podemos aplicarla a un dataframe:"
   ]
  },
  {
   "cell_type": "code",
   "execution_count": null,
   "metadata": {
    "id": "IYl6QezPZVeF"
   },
   "outputs": [],
   "source": [
    "ventas = pd.DataFrame({\"A\": [3, np.nan, 1],\n",
    "                   \"B\": [1, 5, np.nan],\n",
    "                   \"C\": [3, 7, 2],\n",
    "                   \"D\": [np.nan, 2, np.nan]},\n",
    "                  index = [\"ene\", \"feb\", \"mar\"])\n",
    "ventas"
   ]
  },
  {
   "cell_type": "code",
   "execution_count": null,
   "metadata": {
    "id": "O-WB3wZUZgYi"
   },
   "outputs": [],
   "source": [
    "pd.isnull(ventas)"
   ]
  },
  {
   "cell_type": "code",
   "execution_count": null,
   "metadata": {
    "id": "T7F3hhptZl18"
   },
   "outputs": [],
   "source": [
    "ventas.isnull()"
   ]
  },
  {
   "cell_type": "markdown",
   "metadata": {
    "id": "lXkZMvtyZrqT"
   },
   "source": [
    "## <font color='blue'>**El método dropna**</font>\n",
    "\n",
    "El método **dropna** permite, de una forma muy conveniente, filtrar los valores de una estructura de datos pandas para dejar solo aquellos no nulos.\n",
    "\n",
    "Aplicado a una serie, el método **pandas.Series.dropna** devuelve una nueva serie tras eliminar los valores nulos:\n"
   ]
  },
  {
   "cell_type": "code",
   "execution_count": null,
   "metadata": {
    "id": "ukmj5VEXZ0SI"
   },
   "outputs": [],
   "source": [
    "s = pd.Series([1, np.nan, 7, np.nan, 3])\n",
    "s"
   ]
  },
  {
   "cell_type": "code",
   "execution_count": null,
   "metadata": {
    "id": "TjvyoNXFZ45P"
   },
   "outputs": [],
   "source": [
    "s.dropna()"
   ]
  },
  {
   "cell_type": "markdown",
   "metadata": {
    "id": "n9E7pNifZ9k8"
   },
   "source": [
    "Aplicado a un dataframe, el método **pandas.DataFrame.dropna** ofrece algo más de funcionalidad: podemos escoger si queremos eliminar filas o columnas, y si queremos eliminarlas cuando todos sus elementos sean nulos o simplemente cuando alguno de ellos lo sea."
   ]
  },
  {
   "cell_type": "code",
   "execution_count": null,
   "metadata": {
    "id": "kt5e4O-HaCST"
   },
   "outputs": [],
   "source": [
    "ventas = pd.DataFrame({\"A\": [1, 5, 4, 7],\n",
    "                   \"B\": [3, 4, 1, np.nan],\n",
    "                   \"C\": [3, 7, 2, 1],\n",
    "                   \"D\": [np.nan, 2, 2, 3]},\n",
    "                  index = [\"ene\", \"feb\", \"mar\", \"abr\"])\n",
    "ventas"
   ]
  },
  {
   "cell_type": "markdown",
   "metadata": {
    "id": "AMDfGTJhaSSZ"
   },
   "source": [
    "Por defecto, el método se aplica al eje 0, es decir, va a eliminar filas que incluyan valores nulos:"
   ]
  },
  {
   "cell_type": "code",
   "execution_count": null,
   "metadata": {
    "id": "KySb8WmuaTZ_"
   },
   "outputs": [],
   "source": [
    "ventas.dropna()"
   ]
  },
  {
   "cell_type": "markdown",
   "metadata": {
    "id": "y0xIfSrBaWqa"
   },
   "source": [
    "Si especificamos el eje 1, lo que se eliminan son las columnas que incluyan valores nulos:"
   ]
  },
  {
   "cell_type": "code",
   "execution_count": null,
   "metadata": {
    "id": "uI2xsSYBaXqb"
   },
   "outputs": [],
   "source": [
    "ventas.dropna(axis = 1)"
   ]
  },
  {
   "cell_type": "markdown",
   "metadata": {
    "id": "NuoyKhsyadN0"
   },
   "source": [
    "Mediante el parámetro **how** podemos controlar cómo queremos que se aplique el método: si toma el valor \"all\", solo se eliminarán las filas o columnas en las que todos sus elementos sean nulos. Si toma el valor \"any\" (valor por defecto), se eliminarán las filas o columnas en las que algún elemento sea nulo. De esta forma:\n",
    "\n"
   ]
  },
  {
   "cell_type": "code",
   "execution_count": null,
   "metadata": {
    "id": "Id0Ss168ahW-"
   },
   "outputs": [],
   "source": [
    "ventas.dropna(how = \"all\")"
   ]
  },
  {
   "cell_type": "markdown",
   "metadata": {
    "id": "KcQVj3MYayQI"
   },
   "source": [
    "Vemos cómo ninguna fila se ha eliminado pues en ninguna de ellas todos los elementos nulos."
   ]
  },
  {
   "cell_type": "markdown",
   "metadata": {
    "id": "3HU9lXuka04D"
   },
   "source": [
    "## <font color='blue'>**El método fillna**</font>\n",
    "\n",
    "El método **fillna** permite sustituir los valores nulos de una estructura pandas por otro valor según ciertos criterios: pueden sustituirse por un valor concreto o bien puede utilizarse el anterior o posterior valor no nulo (en el caso de los dataframes habrá que especificar el eje sobre el que queremos aplicar la función).\n",
    "\n",
    "Veamos el caso de ejecutar este método en una serie, **pandas.Series.fillna**."
   ]
  },
  {
   "cell_type": "code",
   "execution_count": null,
   "metadata": {
    "id": "4gOHv3qebC4u"
   },
   "outputs": [],
   "source": [
    "s = pd.Series([1, np.nan, 7, np.nan, 3])\n",
    "s"
   ]
  },
  {
   "cell_type": "code",
   "execution_count": null,
   "metadata": {
    "id": "ZaAkriTWbH8E"
   },
   "outputs": [],
   "source": [
    "s.fillna(0)"
   ]
  },
  {
   "cell_type": "markdown",
   "metadata": {
    "id": "Bb5Y-ilfbMHc"
   },
   "source": [
    "Hemos indicado el valor 0 como argumento, y es este valor el que se utiliza para sustituir los valores nulos de la serie original.\n",
    "\n",
    "También podríamos haber especificado que el método a utilizar fuese, por ejemplo, el **forward fill** (\"ffill\"), de forma que los valores no nulos se copien \"hacia adelante\" siempre que se encuentren valores nulos. Esto se indicaría con el parámetro **method**."
   ]
  },
  {
   "cell_type": "code",
   "execution_count": null,
   "metadata": {
    "id": "Zdynp8f4bV6O"
   },
   "outputs": [],
   "source": [
    "s.fillna(method = \"ffill\")"
   ]
  },
  {
   "cell_type": "markdown",
   "metadata": {
    "id": "Ah1rezN8bc2D"
   },
   "source": [
    "Vemos cómo los valores nulos se han rellenado con el anterior valor no nulo (o, dicho con otras palabras, cómo los valores no nulos se han extendido hacia adelante).\n",
    "\n",
    "Si especificamos el método **backward fill** (\"bfill\")."
   ]
  },
  {
   "cell_type": "code",
   "execution_count": null,
   "metadata": {
    "id": "RYYJBtsybgo3"
   },
   "outputs": [],
   "source": [
    "s.fillna(method = \"bfill\")"
   ]
  },
  {
   "cell_type": "markdown",
   "metadata": {
    "id": "hH3BULviblP1"
   },
   "source": [
    "Los valores nulos se han rellenado con el siguiente valor no nulo.\n",
    "\n",
    "En el caso de los dataframe, **pandas.DataFrame.fillna**, la funcionalidad es semejante. Como se ha comentado, la mayor diferencia consiste en que, en el caso de querer rellenar los valores nulos con el anterior o posterior no nulo, habrá que indicar el eje del que obtener estos datos. "
   ]
  },
  {
   "cell_type": "code",
   "execution_count": null,
   "metadata": {
    "id": "N4GC0Skdbs3C"
   },
   "outputs": [],
   "source": [
    "ventas = pd.DataFrame({\"A\": [1, 5, 4, 7],\n",
    "                   \"B\": [3, 4, 1, np.nan],\n",
    "                   \"C\": [3, 7, 2, 1],\n",
    "                   \"D\": [np.nan, 2, 2, 3]},\n",
    "                  index = [\"ene\", \"feb\", \"mar\", \"abr\"])\n",
    "ventas"
   ]
  },
  {
   "cell_type": "markdown",
   "metadata": {
    "id": "gugW6NpBbz7I"
   },
   "source": [
    "Podemos sustituir los valores nulos por una cifra concreta.\n",
    "\n"
   ]
  },
  {
   "cell_type": "code",
   "execution_count": null,
   "metadata": {
    "id": "-JId86yMb2mg"
   },
   "outputs": [],
   "source": [
    "ventas.fillna(0)"
   ]
  },
  {
   "cell_type": "markdown",
   "metadata": {
    "id": "y2I5TfVib7kE"
   },
   "source": [
    "Si aplicamos el método de **forward fill** a lo largo del eje 0 (eje por defecto).\n",
    "\n"
   ]
  },
  {
   "cell_type": "code",
   "execution_count": null,
   "metadata": {
    "id": "-tSxx4NEb-tL"
   },
   "outputs": [],
   "source": [
    "ventas.fillna(method = \"ffill\")"
   ]
  },
  {
   "cell_type": "markdown",
   "metadata": {
    "id": "L11xSSn4cSl_"
   },
   "source": [
    "Vemos cómo el primer valor de la columna D no se ha modificado pues no hay ningún valor anterior (en el eje 0) del que tomar el valor.\n",
    "\n",
    "Y si aplicamos el método **backward fill** a lo largo del eje 1."
   ]
  },
  {
   "cell_type": "code",
   "execution_count": null,
   "metadata": {
    "id": "QhtI6zWpcGdP"
   },
   "outputs": [],
   "source": [
    "ventas.fillna(method = \"bfill\")"
   ]
  },
  {
   "cell_type": "markdown",
   "metadata": {
    "id": "RkTLE4L_cKip"
   },
   "source": [
    "En este caso, el valor de la columna D correspondiente a enero no se ha modificado pues, nuevamente, no hay un valor posterior (en el eje 1) del que tomar el valor.\n",
    "\n",
    "En un caso práctico puede resultar recomendable utilizar \"lógica de relleno\" seguida de la asignación de un valor por defecto para los valores nulos que puedan seguir existiendo, para asegurarnos de que todos ellos han sido sustituidos adecuadamente."
   ]
  },
  {
   "cell_type": "code",
   "execution_count": null,
   "metadata": {
    "id": "WCYoEzpBccPL"
   },
   "outputs": [],
   "source": [
    "ventas.fillna(axis = 1, method = \"bfill\").fillna(0)"
   ]
  },
  {
   "cell_type": "markdown",
   "metadata": {
    "id": "dR9TaC-Ecp1l"
   },
   "source": [
    "# <font color='blue'>**Agrupaciones**</font>\n",
    "\n",
    "Las agrupaciones realizadas con el método de series y dataframes **groupby** son una herramienta un tanto más sofisticada pero extremadamente útil en ciertas circunstancias. También resulta muy útil la creación de tablas dinámicas a partir de un dataframe utilizando el método **pivot_table**. Veamos algunos ejemplos sencillos de estas funciones."
   ]
  },
  {
   "cell_type": "markdown",
   "metadata": {
    "id": "G-sVu7Kkd_m9"
   },
   "source": [
    "## <font color='blue'>**Agrupaciones en series**</font>\n",
    "\n",
    "El método que permite agrupar una serie es **pandas.Series.groupby**. En su sintaxis más básica, requiere el parámetro **by** o el parámetro **level**."
   ]
  },
  {
   "cell_type": "code",
   "execution_count": 22,
   "metadata": {
    "id": "Ki0SYrqDeKoa"
   },
   "outputs": [
    {
     "data": {
      "text/plain": [
       "A    2\n",
       "B    4\n",
       "C    1\n",
       "A    6\n",
       "C    2\n",
       "dtype: int64"
      ]
     },
     "execution_count": 22,
     "metadata": {},
     "output_type": "execute_result"
    }
   ],
   "source": [
    "ventas = pd.Series([2, 4, 1, 6, 2], index = [\"A\", \"B\", \"C\", \"A\", \"C\"])\n",
    "ventas"
   ]
  },
  {
   "cell_type": "markdown",
   "metadata": {
    "id": "0JsdNmdweZWo"
   },
   "source": [
    "El parámetro **by** se usa para determinar los grupos. Puede ser una función -que se aplicará a todos los elementos del índice-, un diccionario o una serie -en cuyo caso serán los valores los que determinen los grupos.\n",
    "\n",
    "Para ver el método **groupby** en funcionamiento con una función que determine los grupos, definamos una que simplemente devuelva la concatenación del texto \"Grupo \" y el valor que recibe: recordemos que esta función se va a aplicar sobre el índice de la serie, es decir, sobre los elementos \"A\", \"B\", etc. La función devolverá, por lo tanto, \"Grupo A\", \"Grupo B\", etc. y serán estas etiquetas las que determinen los grupos:\n",
    "\n"
   ]
  },
  {
   "cell_type": "code",
   "execution_count": 23,
   "metadata": {
    "id": "feEj9T-TehTb"
   },
   "outputs": [],
   "source": [
    "def grupo(s):\n",
    "  return(\"Grupo \" + s)"
   ]
  },
  {
   "cell_type": "markdown",
   "metadata": {
    "id": "bqrJGn2ierhY"
   },
   "source": [
    "El resultado de la agrupación es un objeto (SeriesGroupBy en el caso de las series) que contiene información sobre las agrupaciones pero no es visible. Lo que sí podemos hacer es aplicar a este objeto una función de agregación, por ejemplo el método **mean()** para obtener el valor medio de la serie original para cada uno de los grupos. En este caso tendríamos:"
   ]
  },
  {
   "cell_type": "code",
   "execution_count": 24,
   "metadata": {
    "id": "AEB_LeTsezfX"
   },
   "outputs": [
    {
     "data": {
      "text/plain": [
       "Grupo A    4.0\n",
       "Grupo B    4.0\n",
       "Grupo C    1.5\n",
       "dtype: float64"
      ]
     },
     "execution_count": 24,
     "metadata": {},
     "output_type": "execute_result"
    }
   ],
   "source": [
    "ventas.groupby(by = grupo).mean()"
   ]
  },
  {
   "cell_type": "markdown",
   "metadata": {
    "id": "VIiwt-1He6MN"
   },
   "source": [
    "Hemos comentado que el método puede también recibir como parámetro **by** un diccionario, en cuyo caso serán los valores los que determinen los nombres de los grupos a crear tras mapear las claves del diccionario con las etiquetas de la serie. En nuestro caso, las etiquetas de la serie son \"A\", \"B\", etc., por lo que podemos usar el siguiente diccionario para mapear estos valores con los nombres de los grupos a crear: \"Producto A\", \"Producto B\", etc. en este ejemplo:"
   ]
  },
  {
   "cell_type": "code",
   "execution_count": 25,
   "metadata": {
    "id": "ectPHwwAfAyG"
   },
   "outputs": [
    {
     "data": {
      "text/plain": [
       "{'A': 'Producto A', 'B': 'Producto B', 'C': 'Producto C'}"
      ]
     },
     "execution_count": 25,
     "metadata": {},
     "output_type": "execute_result"
    }
   ],
   "source": [
    "d = {\"A\": \"Producto A\", \"B\": \"Producto B\", \"C\": \"Producto C\"}\n",
    "d"
   ]
  },
  {
   "cell_type": "markdown",
   "metadata": {
    "id": "z2SDfZ94fOMC"
   },
   "source": [
    "Ahora, si aplicamos el método con este diccionario:"
   ]
  },
  {
   "cell_type": "code",
   "execution_count": 157,
   "metadata": {
    "id": "_lIxO6AWfPKQ"
   },
   "outputs": [
    {
     "data": {
      "text/plain": [
       "Producto A    4.0\n",
       "Producto B    4.0\n",
       "Producto C    1.5\n",
       "dtype: float64"
      ]
     },
     "execution_count": 157,
     "metadata": {},
     "output_type": "execute_result"
    }
   ],
   "source": [
    "ventas.groupby(by = d).mean()"
   ]
  },
  {
   "cell_type": "markdown",
   "metadata": {
    "id": "Xp_XFJ60fWyX"
   },
   "source": [
    "Vemos que obtenemos un resultado semejante al anterior.\n",
    "\n",
    "Si, en lugar de hacer uso del parámetro **by**, hacemos uso del parámetro **level**, tendríamos que indicar el nivel del índice según el cual queremos realizar la agrupación (lo que tiene sentido en series con multi índice o índice jerárquico). Si indicamos como nivel el 0, sencillamente estaremos agrupando según las etiquetas de la serie."
   ]
  },
  {
   "cell_type": "code",
   "execution_count": 162,
   "metadata": {
    "id": "teDfzcA-fcqV"
   },
   "outputs": [
    {
     "data": {
      "text/plain": [
       "A    4.0\n",
       "B    4.0\n",
       "C    1.5\n",
       "dtype: float64"
      ]
     },
     "execution_count": 162,
     "metadata": {},
     "output_type": "execute_result"
    }
   ],
   "source": [
    "ventas.groupby(level = 0).mean()"
   ]
  },
  {
   "cell_type": "markdown",
   "metadata": {
    "id": "DGR87OQgfnSu"
   },
   "source": [
    "## <font color='blue'>**Agrupaciones en dataframes**</font>\n",
    "\n",
    "El método **pandas.DataFrame.groupby** tiene una funcionalidad semejante a la vista para series, con los condicionantes propios de los dataframes: es necesario indicar el eje que contiene el criterio por el que se va a realizar la agrupación. Comencemos con un ejemplo sencillo."
   ]
  },
  {
   "cell_type": "code",
   "execution_count": 26,
   "metadata": {
    "id": "2d0UzGOVfv8w"
   },
   "outputs": [
    {
     "data": {
      "text/html": [
       "<div>\n",
       "<style scoped>\n",
       "    .dataframe tbody tr th:only-of-type {\n",
       "        vertical-align: middle;\n",
       "    }\n",
       "\n",
       "    .dataframe tbody tr th {\n",
       "        vertical-align: top;\n",
       "    }\n",
       "\n",
       "    .dataframe thead th {\n",
       "        text-align: right;\n",
       "    }\n",
       "</style>\n",
       "<table border=\"1\" class=\"dataframe\">\n",
       "  <thead>\n",
       "    <tr style=\"text-align: right;\">\n",
       "      <th></th>\n",
       "      <th>Producto</th>\n",
       "      <th>Ventas</th>\n",
       "    </tr>\n",
       "  </thead>\n",
       "  <tbody>\n",
       "    <tr>\n",
       "      <th>0</th>\n",
       "      <td>A</td>\n",
       "      <td>6</td>\n",
       "    </tr>\n",
       "    <tr>\n",
       "      <th>1</th>\n",
       "      <td>B</td>\n",
       "      <td>2</td>\n",
       "    </tr>\n",
       "    <tr>\n",
       "      <th>2</th>\n",
       "      <td>C</td>\n",
       "      <td>1</td>\n",
       "    </tr>\n",
       "    <tr>\n",
       "      <th>3</th>\n",
       "      <td>B</td>\n",
       "      <td>4</td>\n",
       "    </tr>\n",
       "    <tr>\n",
       "      <th>4</th>\n",
       "      <td>A</td>\n",
       "      <td>5</td>\n",
       "    </tr>\n",
       "    <tr>\n",
       "      <th>5</th>\n",
       "      <td>A</td>\n",
       "      <td>2</td>\n",
       "    </tr>\n",
       "  </tbody>\n",
       "</table>\n",
       "</div>"
      ],
      "text/plain": [
       "  Producto  Ventas\n",
       "0        A       6\n",
       "1        B       2\n",
       "2        C       1\n",
       "3        B       4\n",
       "4        A       5\n",
       "5        A       2"
      ]
     },
     "execution_count": 26,
     "metadata": {},
     "output_type": "execute_result"
    }
   ],
   "source": [
    "ventas = pd.DataFrame({\n",
    "    \"Producto\": [\"A\", \"B\", \"C\", \"B\", \"A\", \"A\"],\n",
    "    \"Ventas\": [6, 2, 1, 4, 5, 2]\n",
    "})\n",
    "ventas"
   ]
  },
  {
   "cell_type": "markdown",
   "metadata": {
    "id": "AJKm4r66gDWH"
   },
   "source": [
    "En el caso de los dataframes, el parámetro **by** puede hacer referencia a una función, a un diccionario, a una etiqueta o a una lista de etiquetas. Si pasamos simplemente la etiqueta \"Producto\" para indicar que la agrupación se realice según los valores de esta columna, tenemos:"
   ]
  },
  {
   "cell_type": "code",
   "execution_count": 27,
   "metadata": {
    "id": "yoUB_V74gIHV"
   },
   "outputs": [
    {
     "data": {
      "text/html": [
       "<div>\n",
       "<style scoped>\n",
       "    .dataframe tbody tr th:only-of-type {\n",
       "        vertical-align: middle;\n",
       "    }\n",
       "\n",
       "    .dataframe tbody tr th {\n",
       "        vertical-align: top;\n",
       "    }\n",
       "\n",
       "    .dataframe thead th {\n",
       "        text-align: right;\n",
       "    }\n",
       "</style>\n",
       "<table border=\"1\" class=\"dataframe\">\n",
       "  <thead>\n",
       "    <tr style=\"text-align: right;\">\n",
       "      <th></th>\n",
       "      <th>Ventas</th>\n",
       "    </tr>\n",
       "    <tr>\n",
       "      <th>Producto</th>\n",
       "      <th></th>\n",
       "    </tr>\n",
       "  </thead>\n",
       "  <tbody>\n",
       "    <tr>\n",
       "      <th>A</th>\n",
       "      <td>4.333333</td>\n",
       "    </tr>\n",
       "    <tr>\n",
       "      <th>B</th>\n",
       "      <td>3.000000</td>\n",
       "    </tr>\n",
       "    <tr>\n",
       "      <th>C</th>\n",
       "      <td>1.000000</td>\n",
       "    </tr>\n",
       "  </tbody>\n",
       "</table>\n",
       "</div>"
      ],
      "text/plain": [
       "            Ventas\n",
       "Producto          \n",
       "A         4.333333\n",
       "B         3.000000\n",
       "C         1.000000"
      ]
     },
     "execution_count": 27,
     "metadata": {},
     "output_type": "execute_result"
    }
   ],
   "source": [
    "ventas.groupby(by = \"Producto\").mean()"
   ]
  },
  {
   "cell_type": "markdown",
   "metadata": {
    "id": "AlqreTrWgPOQ"
   },
   "source": [
    "Si quisiéramos realizar la agrupación por más de una columna, bastaría con pasar como argumento una lista con las etiquetas en cuestión. Por ejemplo, consideremos el siguiente caso en el que tenemos las ventas clasificadas por categoría y producto:\n",
    "\n"
   ]
  },
  {
   "cell_type": "code",
   "execution_count": 31,
   "metadata": {
    "id": "N7DM0_OwgRi-"
   },
   "outputs": [
    {
     "data": {
      "text/html": [
       "<div>\n",
       "<style scoped>\n",
       "    .dataframe tbody tr th:only-of-type {\n",
       "        vertical-align: middle;\n",
       "    }\n",
       "\n",
       "    .dataframe tbody tr th {\n",
       "        vertical-align: top;\n",
       "    }\n",
       "\n",
       "    .dataframe thead th {\n",
       "        text-align: right;\n",
       "    }\n",
       "</style>\n",
       "<table border=\"1\" class=\"dataframe\">\n",
       "  <thead>\n",
       "    <tr style=\"text-align: right;\">\n",
       "      <th></th>\n",
       "      <th>Categoría</th>\n",
       "      <th>Producto</th>\n",
       "      <th>Ventas</th>\n",
       "    </tr>\n",
       "  </thead>\n",
       "  <tbody>\n",
       "    <tr>\n",
       "      <th>0</th>\n",
       "      <td>1</td>\n",
       "      <td>A</td>\n",
       "      <td>6</td>\n",
       "    </tr>\n",
       "    <tr>\n",
       "      <th>1</th>\n",
       "      <td>2</td>\n",
       "      <td>B</td>\n",
       "      <td>2</td>\n",
       "    </tr>\n",
       "    <tr>\n",
       "      <th>2</th>\n",
       "      <td>1</td>\n",
       "      <td>C</td>\n",
       "      <td>1</td>\n",
       "    </tr>\n",
       "    <tr>\n",
       "      <th>3</th>\n",
       "      <td>1</td>\n",
       "      <td>B</td>\n",
       "      <td>4</td>\n",
       "    </tr>\n",
       "    <tr>\n",
       "      <th>4</th>\n",
       "      <td>2</td>\n",
       "      <td>A</td>\n",
       "      <td>5</td>\n",
       "    </tr>\n",
       "    <tr>\n",
       "      <th>5</th>\n",
       "      <td>1</td>\n",
       "      <td>A</td>\n",
       "      <td>2</td>\n",
       "    </tr>\n",
       "  </tbody>\n",
       "</table>\n",
       "</div>"
      ],
      "text/plain": [
       "   Categoría Producto  Ventas\n",
       "0          1        A       6\n",
       "1          2        B       2\n",
       "2          1        C       1\n",
       "3          1        B       4\n",
       "4          2        A       5\n",
       "5          1        A       2"
      ]
     },
     "execution_count": 31,
     "metadata": {},
     "output_type": "execute_result"
    }
   ],
   "source": [
    "ventas = pd.DataFrame({\n",
    "    \"Categoría\": [1, 2, 1, 1, 2, 1],\n",
    "    \"Producto\": [\"A\", \"B\", \"C\", \"B\", \"A\", \"A\"],\n",
    "    \"Ventas\": [6, 2, 1, 4, 5, 2]\n",
    "})\n",
    "ventas"
   ]
  },
  {
   "cell_type": "markdown",
   "metadata": {
    "id": "ZsCHHUurggVd"
   },
   "source": [
    "Si aplicamos ahora el método **groupby** con el argumento by = [\"Categoría\", \"Producto\"], tenemos:"
   ]
  },
  {
   "cell_type": "code",
   "execution_count": 30,
   "metadata": {
    "id": "c2jMaG_PglrV"
   },
   "outputs": [
    {
     "data": {
      "text/html": [
       "<div>\n",
       "<style scoped>\n",
       "    .dataframe tbody tr th:only-of-type {\n",
       "        vertical-align: middle;\n",
       "    }\n",
       "\n",
       "    .dataframe tbody tr th {\n",
       "        vertical-align: top;\n",
       "    }\n",
       "\n",
       "    .dataframe thead th {\n",
       "        text-align: right;\n",
       "    }\n",
       "</style>\n",
       "<table border=\"1\" class=\"dataframe\">\n",
       "  <thead>\n",
       "    <tr style=\"text-align: right;\">\n",
       "      <th></th>\n",
       "      <th></th>\n",
       "      <th>Ventas</th>\n",
       "    </tr>\n",
       "    <tr>\n",
       "      <th>Categoría</th>\n",
       "      <th>Producto</th>\n",
       "      <th></th>\n",
       "    </tr>\n",
       "  </thead>\n",
       "  <tbody>\n",
       "    <tr>\n",
       "      <th rowspan=\"3\" valign=\"top\">1</th>\n",
       "      <th>A</th>\n",
       "      <td>4</td>\n",
       "    </tr>\n",
       "    <tr>\n",
       "      <th>B</th>\n",
       "      <td>4</td>\n",
       "    </tr>\n",
       "    <tr>\n",
       "      <th>C</th>\n",
       "      <td>1</td>\n",
       "    </tr>\n",
       "    <tr>\n",
       "      <th rowspan=\"2\" valign=\"top\">2</th>\n",
       "      <th>A</th>\n",
       "      <td>5</td>\n",
       "    </tr>\n",
       "    <tr>\n",
       "      <th>B</th>\n",
       "      <td>2</td>\n",
       "    </tr>\n",
       "  </tbody>\n",
       "</table>\n",
       "</div>"
      ],
      "text/plain": [
       "                    Ventas\n",
       "Categoría Producto        \n",
       "1         A              4\n",
       "          B              4\n",
       "          C              1\n",
       "2         A              5\n",
       "          B              2"
      ]
     },
     "execution_count": 30,
     "metadata": {},
     "output_type": "execute_result"
    }
   ],
   "source": [
    "ventas.groupby(by = [\"Categoría\", \"Producto\"]).mean()"
   ]
  },
  {
   "cell_type": "markdown",
   "metadata": {
    "id": "KFnJXC3jgxWs"
   },
   "source": [
    "Este ejemplo tiene demasiados pocos datos para ser significativo, pero aun así es posible ver que el método ha agrupado todas las ventas según la combinación de categoría y producto, y se ha calculado el valor medio. Por ejemplo, hay dos ventas de categoría 1 y producto A, de valores 6 y 2. La media, tal y como se muestra es de 4.\n",
    "\n",
    "También podríamos usar el parámetro **level**. En el caso de estar trabajando con dataframes con índices no jerárquicos, basta pasar como valor para este argumento el 0 para que la agrupación se realice según las etiquetas del índice. Por ejemplo, consideremos el siguiente dataframe:"
   ]
  },
  {
   "cell_type": "code",
   "execution_count": null,
   "metadata": {
    "id": "pvR2KYO7g5iA"
   },
   "outputs": [],
   "source": [
    "ventas = pd.DataFrame({\n",
    "    \"Ventas\": [6, 2, 1, 4, 5, 2]\n",
    "}, index = [\"A\", \"B\", \"C\", \"B\", \"A\", \"A\"])\n",
    "ventas"
   ]
  },
  {
   "cell_type": "markdown",
   "metadata": {
    "id": "my7kh81UhHR8"
   },
   "source": [
    "Si ejecutamos el método con el argumento level = 0, obtendríamos el siguiente resultado:\n"
   ]
  },
  {
   "cell_type": "code",
   "execution_count": null,
   "metadata": {
    "id": "sei2d683hJ04"
   },
   "outputs": [],
   "source": [
    "ventas.groupby(level = 0).mean()"
   ]
  },
  {
   "cell_type": "markdown",
   "metadata": {
    "id": "Vt_QwPz9hYTv"
   },
   "source": [
    "## <font color='blue'>**Tablas dinámicas**</font>\n",
    "\n",
    "Una tabla dinámica (o pivot table en inglés) es una tabla que muestra información resumida extraída de otra tabla. Esta última es un listado de muestras (registros o puntos) con un cierto número de campos o características, por ejemplo:"
   ]
  },
  {
   "cell_type": "code",
   "execution_count": 163,
   "metadata": {
    "id": "k1tJKGYkhej7"
   },
   "outputs": [
    {
     "data": {
      "text/html": [
       "<div>\n",
       "<style scoped>\n",
       "    .dataframe tbody tr th:only-of-type {\n",
       "        vertical-align: middle;\n",
       "    }\n",
       "\n",
       "    .dataframe tbody tr th {\n",
       "        vertical-align: top;\n",
       "    }\n",
       "\n",
       "    .dataframe thead th {\n",
       "        text-align: right;\n",
       "    }\n",
       "</style>\n",
       "<table border=\"1\" class=\"dataframe\">\n",
       "  <thead>\n",
       "    <tr style=\"text-align: right;\">\n",
       "      <th></th>\n",
       "      <th>foo</th>\n",
       "      <th>bar</th>\n",
       "      <th>baz</th>\n",
       "      <th>zoo</th>\n",
       "    </tr>\n",
       "  </thead>\n",
       "  <tbody>\n",
       "    <tr>\n",
       "      <th>0</th>\n",
       "      <td>one</td>\n",
       "      <td>A</td>\n",
       "      <td>1</td>\n",
       "      <td>x</td>\n",
       "    </tr>\n",
       "    <tr>\n",
       "      <th>1</th>\n",
       "      <td>one</td>\n",
       "      <td>B</td>\n",
       "      <td>2</td>\n",
       "      <td>y</td>\n",
       "    </tr>\n",
       "    <tr>\n",
       "      <th>2</th>\n",
       "      <td>one</td>\n",
       "      <td>C</td>\n",
       "      <td>3</td>\n",
       "      <td>z</td>\n",
       "    </tr>\n",
       "    <tr>\n",
       "      <th>3</th>\n",
       "      <td>two</td>\n",
       "      <td>A</td>\n",
       "      <td>4</td>\n",
       "      <td>q</td>\n",
       "    </tr>\n",
       "    <tr>\n",
       "      <th>4</th>\n",
       "      <td>two</td>\n",
       "      <td>B</td>\n",
       "      <td>5</td>\n",
       "      <td>w</td>\n",
       "    </tr>\n",
       "    <tr>\n",
       "      <th>5</th>\n",
       "      <td>two</td>\n",
       "      <td>C</td>\n",
       "      <td>6</td>\n",
       "      <td>t</td>\n",
       "    </tr>\n",
       "  </tbody>\n",
       "</table>\n",
       "</div>"
      ],
      "text/plain": [
       "   foo bar  baz zoo\n",
       "0  one   A    1   x\n",
       "1  one   B    2   y\n",
       "2  one   C    3   z\n",
       "3  two   A    4   q\n",
       "4  two   B    5   w\n",
       "5  two   C    6   t"
      ]
     },
     "execution_count": 163,
     "metadata": {},
     "output_type": "execute_result"
    }
   ],
   "source": [
    "df = pd.DataFrame({\n",
    "    'foo': ['one', 'one', 'one', 'two', 'two', 'two'],\n",
    "    'bar': ['A', 'B', 'C', 'A', 'B', 'C'],\n",
    "    'baz': [1, 2, 3, 4, 5, 6],\n",
    "    'zoo': ['x', 'y', 'z', 'q', 'w', 't']\n",
    "})\n",
    "df"
   ]
  },
  {
   "cell_type": "markdown",
   "metadata": {
    "id": "nHXpAm44hjhK"
   },
   "source": [
    "Una tabla dinámica va a agrupar información a partir de esta tabla de la siguiente forma:\n",
    "\n",
    "1. Va a seleccionar una (o más) características para ocupar el índice de filas, de forma que cada valor que tome dicha característica se muestre en una fila\n",
    "2. Va a seleccionar una (o más) características para ocupar el índice de columnas, de forma que cada valor que tome dicha característica se muestre en una columna\n",
    "3. Va a seleccionar una (o más) características para ocupar las intersecciones de filas y columnas\n",
    "4. Al conjunto de registros representados en cada una de esas intersecciones les va a aplicar una función de agregación, que puede ser tan simple como un recuento, cálculo del valor medio, etc.\n",
    "\n",
    "El método **pandas.DataFrame.pivot_table** crea una tabla dinámica de esta forma a partir de un dataframe. Veamos varios ejemplos comenzando por los más simples:\n",
    "\n",
    "En el dataframe visto comprobamos que la características foo toma dos posibles valores (one y two), y la característica bar toma tres (A, B y C). Podríamos mostrar la distribución de la variable baz respecto de foo y bar de la siguiente forma:"
   ]
  },
  {
   "cell_type": "code",
   "execution_count": 164,
   "metadata": {
    "id": "XOHpG-LshyX0"
   },
   "outputs": [
    {
     "data": {
      "text/html": [
       "<div>\n",
       "<style scoped>\n",
       "    .dataframe tbody tr th:only-of-type {\n",
       "        vertical-align: middle;\n",
       "    }\n",
       "\n",
       "    .dataframe tbody tr th {\n",
       "        vertical-align: top;\n",
       "    }\n",
       "\n",
       "    .dataframe thead th {\n",
       "        text-align: right;\n",
       "    }\n",
       "</style>\n",
       "<table border=\"1\" class=\"dataframe\">\n",
       "  <thead>\n",
       "    <tr style=\"text-align: right;\">\n",
       "      <th>bar</th>\n",
       "      <th>A</th>\n",
       "      <th>B</th>\n",
       "      <th>C</th>\n",
       "    </tr>\n",
       "    <tr>\n",
       "      <th>foo</th>\n",
       "      <th></th>\n",
       "      <th></th>\n",
       "      <th></th>\n",
       "    </tr>\n",
       "  </thead>\n",
       "  <tbody>\n",
       "    <tr>\n",
       "      <th>one</th>\n",
       "      <td>1</td>\n",
       "      <td>2</td>\n",
       "      <td>3</td>\n",
       "    </tr>\n",
       "    <tr>\n",
       "      <th>two</th>\n",
       "      <td>4</td>\n",
       "      <td>5</td>\n",
       "      <td>6</td>\n",
       "    </tr>\n",
       "  </tbody>\n",
       "</table>\n",
       "</div>"
      ],
      "text/plain": [
       "bar  A  B  C\n",
       "foo         \n",
       "one  1  2  3\n",
       "two  4  5  6"
      ]
     },
     "execution_count": 164,
     "metadata": {},
     "output_type": "execute_result"
    }
   ],
   "source": [
    "df.pivot_table(index = \"foo\", columns = \"bar\", values = \"baz\")"
   ]
  },
  {
   "cell_type": "markdown",
   "metadata": {
    "id": "jjx6CF6rh2Md"
   },
   "source": [
    "En este caso, los valores que toma la característica incluida en el parámetro index van a distribuirse a lo largo del eje vertical, y los valores que toma la característica incluida en el parámetro *columns* van a distribuirse a lo largo del eje horizontal. Los valores que toma la variable incluida en el parámetro values van a la intersección de filas y columnas, aplicándoseles una cierta función de agregación que, por defecto, es **np.mean** (cálculo del valor medio). El ejemplo mostrado es muy pequeño y para cada intersección de filas y columnas solo hay un registro, de forma que el valor medio del valor contenido en la columna baz de cada registro coincide con el mismo valor. Por ejemplo, la intersección de foo = one y bar = A representa un conjunto de registros del dataframe que, en nuestro caso, se limita a un único registro (el registro con índice 0) en el que el valor de baz es 1, y su valor medio es 1.\n",
    "\n",
    "Podemos aplicar otra función de agregación utilizando el parámetro **aggfunc**."
   ]
  },
  {
   "cell_type": "code",
   "execution_count": 167,
   "metadata": {
    "id": "bs4-OQ4dh_zY"
   },
   "outputs": [
    {
     "data": {
      "text/html": [
       "<div>\n",
       "<style scoped>\n",
       "    .dataframe tbody tr th:only-of-type {\n",
       "        vertical-align: middle;\n",
       "    }\n",
       "\n",
       "    .dataframe tbody tr th {\n",
       "        vertical-align: top;\n",
       "    }\n",
       "\n",
       "    .dataframe thead th {\n",
       "        text-align: right;\n",
       "    }\n",
       "</style>\n",
       "<table border=\"1\" class=\"dataframe\">\n",
       "  <thead>\n",
       "    <tr style=\"text-align: right;\">\n",
       "      <th>bar</th>\n",
       "      <th>A</th>\n",
       "      <th>B</th>\n",
       "      <th>C</th>\n",
       "    </tr>\n",
       "    <tr>\n",
       "      <th>foo</th>\n",
       "      <th></th>\n",
       "      <th></th>\n",
       "      <th></th>\n",
       "    </tr>\n",
       "  </thead>\n",
       "  <tbody>\n",
       "    <tr>\n",
       "      <th>one</th>\n",
       "      <td>1</td>\n",
       "      <td>1</td>\n",
       "      <td>1</td>\n",
       "    </tr>\n",
       "    <tr>\n",
       "      <th>two</th>\n",
       "      <td>1</td>\n",
       "      <td>1</td>\n",
       "      <td>1</td>\n",
       "    </tr>\n",
       "  </tbody>\n",
       "</table>\n",
       "</div>"
      ],
      "text/plain": [
       "bar  A  B  C\n",
       "foo         \n",
       "one  1  1  1\n",
       "two  1  1  1"
      ]
     },
     "execution_count": 167,
     "metadata": {},
     "output_type": "execute_result"
    }
   ],
   "source": [
    "df.pivot_table(index = \"foo\", columns = \"bar\", values = \"baz\", aggfunc = \"count\")"
   ]
  },
  {
   "cell_type": "markdown",
   "metadata": {
    "id": "sVrZCP5ViEee"
   },
   "source": [
    "En este ejemplo hemos contado el número de registros representados en cada intersección.\n",
    "\n",
    "Es posible aplicar más de una función de agregación a los datos. En el siguiente ejemplo aplicamos tanto la función de cálculo del valor medio como el recuento:"
   ]
  },
  {
   "cell_type": "code",
   "execution_count": 166,
   "metadata": {
    "id": "BnU0Q0oRiFu6"
   },
   "outputs": [
    {
     "data": {
      "text/html": [
       "<div>\n",
       "<style scoped>\n",
       "    .dataframe tbody tr th:only-of-type {\n",
       "        vertical-align: middle;\n",
       "    }\n",
       "\n",
       "    .dataframe tbody tr th {\n",
       "        vertical-align: top;\n",
       "    }\n",
       "\n",
       "    .dataframe thead tr th {\n",
       "        text-align: left;\n",
       "    }\n",
       "\n",
       "    .dataframe thead tr:last-of-type th {\n",
       "        text-align: right;\n",
       "    }\n",
       "</style>\n",
       "<table border=\"1\" class=\"dataframe\">\n",
       "  <thead>\n",
       "    <tr>\n",
       "      <th></th>\n",
       "      <th colspan=\"3\" halign=\"left\">mean</th>\n",
       "      <th colspan=\"3\" halign=\"left\">count</th>\n",
       "    </tr>\n",
       "    <tr>\n",
       "      <th>bar</th>\n",
       "      <th>A</th>\n",
       "      <th>B</th>\n",
       "      <th>C</th>\n",
       "      <th>A</th>\n",
       "      <th>B</th>\n",
       "      <th>C</th>\n",
       "    </tr>\n",
       "    <tr>\n",
       "      <th>foo</th>\n",
       "      <th></th>\n",
       "      <th></th>\n",
       "      <th></th>\n",
       "      <th></th>\n",
       "      <th></th>\n",
       "      <th></th>\n",
       "    </tr>\n",
       "  </thead>\n",
       "  <tbody>\n",
       "    <tr>\n",
       "      <th>one</th>\n",
       "      <td>1</td>\n",
       "      <td>2</td>\n",
       "      <td>3</td>\n",
       "      <td>1</td>\n",
       "      <td>1</td>\n",
       "      <td>1</td>\n",
       "    </tr>\n",
       "    <tr>\n",
       "      <th>two</th>\n",
       "      <td>4</td>\n",
       "      <td>5</td>\n",
       "      <td>6</td>\n",
       "      <td>1</td>\n",
       "      <td>1</td>\n",
       "      <td>1</td>\n",
       "    </tr>\n",
       "  </tbody>\n",
       "</table>\n",
       "</div>"
      ],
      "text/plain": [
       "    mean       count      \n",
       "bar    A  B  C     A  B  C\n",
       "foo                       \n",
       "one    1  2  3     1  1  1\n",
       "two    4  5  6     1  1  1"
      ]
     },
     "execution_count": 166,
     "metadata": {},
     "output_type": "execute_result"
    }
   ],
   "source": [
    "df.pivot_table(index = \"foo\", columns = \"bar\", values = \"baz\", aggfunc = [np.mean, \"count\"])"
   ]
  },
  {
   "cell_type": "markdown",
   "metadata": {
    "id": "0YG7_F0EiIt4"
   },
   "source": [
    "Como puede comprobarse, pandas crea un conjunto de columnas diferente para cada función de agregación.\n",
    "\n",
    "Hagamos algunos ejemplos con un dataset un poco más rico en contenido, por ejemplo el dataset del Titanic:"
   ]
  },
  {
   "cell_type": "code",
   "execution_count": 168,
   "metadata": {
    "id": "F8GXYWFmiM60"
   },
   "outputs": [
    {
     "data": {
      "text/html": [
       "<div>\n",
       "<style scoped>\n",
       "    .dataframe tbody tr th:only-of-type {\n",
       "        vertical-align: middle;\n",
       "    }\n",
       "\n",
       "    .dataframe tbody tr th {\n",
       "        vertical-align: top;\n",
       "    }\n",
       "\n",
       "    .dataframe thead th {\n",
       "        text-align: right;\n",
       "    }\n",
       "</style>\n",
       "<table border=\"1\" class=\"dataframe\">\n",
       "  <thead>\n",
       "    <tr style=\"text-align: right;\">\n",
       "      <th></th>\n",
       "      <th>survived</th>\n",
       "      <th>pclass</th>\n",
       "      <th>sex</th>\n",
       "      <th>age</th>\n",
       "      <th>sibsp</th>\n",
       "      <th>parch</th>\n",
       "      <th>fare</th>\n",
       "      <th>embarked</th>\n",
       "      <th>class</th>\n",
       "      <th>who</th>\n",
       "      <th>adult_male</th>\n",
       "      <th>deck</th>\n",
       "      <th>embark_town</th>\n",
       "      <th>alive</th>\n",
       "      <th>alone</th>\n",
       "    </tr>\n",
       "  </thead>\n",
       "  <tbody>\n",
       "    <tr>\n",
       "      <th>0</th>\n",
       "      <td>0</td>\n",
       "      <td>3</td>\n",
       "      <td>male</td>\n",
       "      <td>22.0</td>\n",
       "      <td>1</td>\n",
       "      <td>0</td>\n",
       "      <td>7.2500</td>\n",
       "      <td>S</td>\n",
       "      <td>Third</td>\n",
       "      <td>man</td>\n",
       "      <td>True</td>\n",
       "      <td>NaN</td>\n",
       "      <td>Southampton</td>\n",
       "      <td>no</td>\n",
       "      <td>False</td>\n",
       "    </tr>\n",
       "    <tr>\n",
       "      <th>1</th>\n",
       "      <td>1</td>\n",
       "      <td>1</td>\n",
       "      <td>female</td>\n",
       "      <td>38.0</td>\n",
       "      <td>1</td>\n",
       "      <td>0</td>\n",
       "      <td>71.2833</td>\n",
       "      <td>C</td>\n",
       "      <td>First</td>\n",
       "      <td>woman</td>\n",
       "      <td>False</td>\n",
       "      <td>C</td>\n",
       "      <td>Cherbourg</td>\n",
       "      <td>yes</td>\n",
       "      <td>False</td>\n",
       "    </tr>\n",
       "    <tr>\n",
       "      <th>2</th>\n",
       "      <td>1</td>\n",
       "      <td>3</td>\n",
       "      <td>female</td>\n",
       "      <td>26.0</td>\n",
       "      <td>0</td>\n",
       "      <td>0</td>\n",
       "      <td>7.9250</td>\n",
       "      <td>S</td>\n",
       "      <td>Third</td>\n",
       "      <td>woman</td>\n",
       "      <td>False</td>\n",
       "      <td>NaN</td>\n",
       "      <td>Southampton</td>\n",
       "      <td>yes</td>\n",
       "      <td>True</td>\n",
       "    </tr>\n",
       "    <tr>\n",
       "      <th>3</th>\n",
       "      <td>1</td>\n",
       "      <td>1</td>\n",
       "      <td>female</td>\n",
       "      <td>35.0</td>\n",
       "      <td>1</td>\n",
       "      <td>0</td>\n",
       "      <td>53.1000</td>\n",
       "      <td>S</td>\n",
       "      <td>First</td>\n",
       "      <td>woman</td>\n",
       "      <td>False</td>\n",
       "      <td>C</td>\n",
       "      <td>Southampton</td>\n",
       "      <td>yes</td>\n",
       "      <td>False</td>\n",
       "    </tr>\n",
       "    <tr>\n",
       "      <th>4</th>\n",
       "      <td>0</td>\n",
       "      <td>3</td>\n",
       "      <td>male</td>\n",
       "      <td>35.0</td>\n",
       "      <td>0</td>\n",
       "      <td>0</td>\n",
       "      <td>8.0500</td>\n",
       "      <td>S</td>\n",
       "      <td>Third</td>\n",
       "      <td>man</td>\n",
       "      <td>True</td>\n",
       "      <td>NaN</td>\n",
       "      <td>Southampton</td>\n",
       "      <td>no</td>\n",
       "      <td>True</td>\n",
       "    </tr>\n",
       "  </tbody>\n",
       "</table>\n",
       "</div>"
      ],
      "text/plain": [
       "   survived  pclass     sex   age  sibsp  parch     fare embarked  class  \\\n",
       "0         0       3    male  22.0      1      0   7.2500        S  Third   \n",
       "1         1       1  female  38.0      1      0  71.2833        C  First   \n",
       "2         1       3  female  26.0      0      0   7.9250        S  Third   \n",
       "3         1       1  female  35.0      1      0  53.1000        S  First   \n",
       "4         0       3    male  35.0      0      0   8.0500        S  Third   \n",
       "\n",
       "     who  adult_male deck  embark_town alive  alone  \n",
       "0    man        True  NaN  Southampton    no  False  \n",
       "1  woman       False    C    Cherbourg   yes  False  \n",
       "2  woman       False  NaN  Southampton   yes   True  \n",
       "3  woman       False    C  Southampton   yes  False  \n",
       "4    man        True  NaN  Southampton    no   True  "
      ]
     },
     "execution_count": 168,
     "metadata": {},
     "output_type": "execute_result"
    }
   ],
   "source": [
    "import seaborn as sns\n",
    "titanic = sns.load_dataset(\"titanic\")\n",
    "titanic.head(5)"
   ]
  },
  {
   "cell_type": "markdown",
   "metadata": {
    "id": "4U7e32ggibyw"
   },
   "source": [
    "Mostremos el valor medio de la característica survived (es decir, el porcentaje de los que sobrevivieron) desglosando la tabla por sexo y clase:"
   ]
  },
  {
   "cell_type": "code",
   "execution_count": 169,
   "metadata": {
    "id": "hTXmilE9icvR"
   },
   "outputs": [
    {
     "data": {
      "text/html": [
       "<div>\n",
       "<style scoped>\n",
       "    .dataframe tbody tr th:only-of-type {\n",
       "        vertical-align: middle;\n",
       "    }\n",
       "\n",
       "    .dataframe tbody tr th {\n",
       "        vertical-align: top;\n",
       "    }\n",
       "\n",
       "    .dataframe thead th {\n",
       "        text-align: right;\n",
       "    }\n",
       "</style>\n",
       "<table border=\"1\" class=\"dataframe\">\n",
       "  <thead>\n",
       "    <tr style=\"text-align: right;\">\n",
       "      <th>class</th>\n",
       "      <th>First</th>\n",
       "      <th>Second</th>\n",
       "      <th>Third</th>\n",
       "    </tr>\n",
       "    <tr>\n",
       "      <th>sex</th>\n",
       "      <th></th>\n",
       "      <th></th>\n",
       "      <th></th>\n",
       "    </tr>\n",
       "  </thead>\n",
       "  <tbody>\n",
       "    <tr>\n",
       "      <th>female</th>\n",
       "      <td>0.968085</td>\n",
       "      <td>0.921053</td>\n",
       "      <td>0.500000</td>\n",
       "    </tr>\n",
       "    <tr>\n",
       "      <th>male</th>\n",
       "      <td>0.368852</td>\n",
       "      <td>0.157407</td>\n",
       "      <td>0.135447</td>\n",
       "    </tr>\n",
       "  </tbody>\n",
       "</table>\n",
       "</div>"
      ],
      "text/plain": [
       "class      First    Second     Third\n",
       "sex                                 \n",
       "female  0.968085  0.921053  0.500000\n",
       "male    0.368852  0.157407  0.135447"
      ]
     },
     "execution_count": 169,
     "metadata": {},
     "output_type": "execute_result"
    }
   ],
   "source": [
    "titanic.pivot_table(index = \"sex\", columns = \"class\", values = \"survived\")"
   ]
  },
  {
   "cell_type": "markdown",
   "metadata": {
    "id": "lkesbivLigI-"
   },
   "source": [
    "Si llevamos dos (o más) campos a index, los valores que tome el primero de ellos se desglosa a su vez según los valores que tome el segundo. Por ejemplo, podemos repetir el ejercicio anterior desglosando las filas por sexo y puerto de embarque:"
   ]
  },
  {
   "cell_type": "code",
   "execution_count": 170,
   "metadata": {
    "id": "NAUJ91Oyii7v",
    "scrolled": true
   },
   "outputs": [
    {
     "data": {
      "text/html": [
       "<div>\n",
       "<style scoped>\n",
       "    .dataframe tbody tr th:only-of-type {\n",
       "        vertical-align: middle;\n",
       "    }\n",
       "\n",
       "    .dataframe tbody tr th {\n",
       "        vertical-align: top;\n",
       "    }\n",
       "\n",
       "    .dataframe thead th {\n",
       "        text-align: right;\n",
       "    }\n",
       "</style>\n",
       "<table border=\"1\" class=\"dataframe\">\n",
       "  <thead>\n",
       "    <tr style=\"text-align: right;\">\n",
       "      <th></th>\n",
       "      <th>class</th>\n",
       "      <th>First</th>\n",
       "      <th>Second</th>\n",
       "      <th>Third</th>\n",
       "    </tr>\n",
       "    <tr>\n",
       "      <th>sex</th>\n",
       "      <th>embarked</th>\n",
       "      <th></th>\n",
       "      <th></th>\n",
       "      <th></th>\n",
       "    </tr>\n",
       "  </thead>\n",
       "  <tbody>\n",
       "    <tr>\n",
       "      <th rowspan=\"3\" valign=\"top\">female</th>\n",
       "      <th>C</th>\n",
       "      <td>0.976744</td>\n",
       "      <td>1.000000</td>\n",
       "      <td>0.652174</td>\n",
       "    </tr>\n",
       "    <tr>\n",
       "      <th>Q</th>\n",
       "      <td>1.000000</td>\n",
       "      <td>1.000000</td>\n",
       "      <td>0.727273</td>\n",
       "    </tr>\n",
       "    <tr>\n",
       "      <th>S</th>\n",
       "      <td>0.958333</td>\n",
       "      <td>0.910448</td>\n",
       "      <td>0.375000</td>\n",
       "    </tr>\n",
       "    <tr>\n",
       "      <th rowspan=\"3\" valign=\"top\">male</th>\n",
       "      <th>C</th>\n",
       "      <td>0.404762</td>\n",
       "      <td>0.200000</td>\n",
       "      <td>0.232558</td>\n",
       "    </tr>\n",
       "    <tr>\n",
       "      <th>Q</th>\n",
       "      <td>0.000000</td>\n",
       "      <td>0.000000</td>\n",
       "      <td>0.076923</td>\n",
       "    </tr>\n",
       "    <tr>\n",
       "      <th>S</th>\n",
       "      <td>0.354430</td>\n",
       "      <td>0.154639</td>\n",
       "      <td>0.128302</td>\n",
       "    </tr>\n",
       "  </tbody>\n",
       "</table>\n",
       "</div>"
      ],
      "text/plain": [
       "class               First    Second     Third\n",
       "sex    embarked                              \n",
       "female C         0.976744  1.000000  0.652174\n",
       "       Q         1.000000  1.000000  0.727273\n",
       "       S         0.958333  0.910448  0.375000\n",
       "male   C         0.404762  0.200000  0.232558\n",
       "       Q         0.000000  0.000000  0.076923\n",
       "       S         0.354430  0.154639  0.128302"
      ]
     },
     "execution_count": 170,
     "metadata": {},
     "output_type": "execute_result"
    }
   ],
   "source": [
    "titanic.pivot_table(index = [\"sex\", \"embarked\"], columns = \"class\", values = \"survived\")"
   ]
  },
  {
   "cell_type": "code",
   "execution_count": 173,
   "metadata": {},
   "outputs": [
    {
     "data": {
      "text/html": [
       "<div>\n",
       "<style scoped>\n",
       "    .dataframe tbody tr th:only-of-type {\n",
       "        vertical-align: middle;\n",
       "    }\n",
       "\n",
       "    .dataframe tbody tr th {\n",
       "        vertical-align: top;\n",
       "    }\n",
       "\n",
       "    .dataframe thead th {\n",
       "        text-align: right;\n",
       "    }\n",
       "</style>\n",
       "<table border=\"1\" class=\"dataframe\">\n",
       "  <thead>\n",
       "    <tr style=\"text-align: right;\">\n",
       "      <th></th>\n",
       "      <th>class</th>\n",
       "      <th>First</th>\n",
       "      <th>Second</th>\n",
       "      <th>Third</th>\n",
       "    </tr>\n",
       "    <tr>\n",
       "      <th>sex</th>\n",
       "      <th>embarked</th>\n",
       "      <th></th>\n",
       "      <th></th>\n",
       "      <th></th>\n",
       "    </tr>\n",
       "  </thead>\n",
       "  <tbody>\n",
       "    <tr>\n",
       "      <th rowspan=\"3\" valign=\"top\">female</th>\n",
       "      <th>C</th>\n",
       "      <td>43</td>\n",
       "      <td>7</td>\n",
       "      <td>23</td>\n",
       "    </tr>\n",
       "    <tr>\n",
       "      <th>Q</th>\n",
       "      <td>1</td>\n",
       "      <td>2</td>\n",
       "      <td>33</td>\n",
       "    </tr>\n",
       "    <tr>\n",
       "      <th>S</th>\n",
       "      <td>48</td>\n",
       "      <td>67</td>\n",
       "      <td>88</td>\n",
       "    </tr>\n",
       "    <tr>\n",
       "      <th rowspan=\"3\" valign=\"top\">male</th>\n",
       "      <th>C</th>\n",
       "      <td>42</td>\n",
       "      <td>10</td>\n",
       "      <td>43</td>\n",
       "    </tr>\n",
       "    <tr>\n",
       "      <th>Q</th>\n",
       "      <td>1</td>\n",
       "      <td>1</td>\n",
       "      <td>39</td>\n",
       "    </tr>\n",
       "    <tr>\n",
       "      <th>S</th>\n",
       "      <td>79</td>\n",
       "      <td>97</td>\n",
       "      <td>265</td>\n",
       "    </tr>\n",
       "  </tbody>\n",
       "</table>\n",
       "</div>"
      ],
      "text/plain": [
       "class            First  Second  Third\n",
       "sex    embarked                      \n",
       "female C            43       7     23\n",
       "       Q             1       2     33\n",
       "       S            48      67     88\n",
       "male   C            42      10     43\n",
       "       Q             1       1     39\n",
       "       S            79      97    265"
      ]
     },
     "execution_count": 173,
     "metadata": {},
     "output_type": "execute_result"
    }
   ],
   "source": [
    "titanic.pivot_table(index = [\"sex\", \"embarked\"], columns = \"class\", values = \"survived\", aggfunc = 'count')"
   ]
  },
  {
   "cell_type": "markdown",
   "metadata": {
    "id": "CTP0Z3noinRx"
   },
   "source": [
    "De forma semejante, si llevamos dos (o más) campos a columns, los valores que tome el primero de ellos se desglosa a su vez según los valores que tome el segundo. En el siguiente ejemplo queremos analizar el valor medio de la edad de los pasajeros por clase (en filas) y por sexo y si viajaba o no solo (por columnas):"
   ]
  },
  {
   "cell_type": "code",
   "execution_count": 174,
   "metadata": {
    "id": "uvf6A-mwio2i"
   },
   "outputs": [
    {
     "data": {
      "text/html": [
       "<div>\n",
       "<style scoped>\n",
       "    .dataframe tbody tr th:only-of-type {\n",
       "        vertical-align: middle;\n",
       "    }\n",
       "\n",
       "    .dataframe tbody tr th {\n",
       "        vertical-align: top;\n",
       "    }\n",
       "\n",
       "    .dataframe thead tr th {\n",
       "        text-align: left;\n",
       "    }\n",
       "\n",
       "    .dataframe thead tr:last-of-type th {\n",
       "        text-align: right;\n",
       "    }\n",
       "</style>\n",
       "<table border=\"1\" class=\"dataframe\">\n",
       "  <thead>\n",
       "    <tr>\n",
       "      <th>sex</th>\n",
       "      <th colspan=\"2\" halign=\"left\">female</th>\n",
       "      <th colspan=\"2\" halign=\"left\">male</th>\n",
       "    </tr>\n",
       "    <tr>\n",
       "      <th>alone</th>\n",
       "      <th>False</th>\n",
       "      <th>True</th>\n",
       "      <th>False</th>\n",
       "      <th>True</th>\n",
       "    </tr>\n",
       "    <tr>\n",
       "      <th>class</th>\n",
       "      <th></th>\n",
       "      <th></th>\n",
       "      <th></th>\n",
       "      <th></th>\n",
       "    </tr>\n",
       "  </thead>\n",
       "  <tbody>\n",
       "    <tr>\n",
       "      <th>First</th>\n",
       "      <td>34.415094</td>\n",
       "      <td>34.937500</td>\n",
       "      <td>37.466383</td>\n",
       "      <td>44.601852</td>\n",
       "    </tr>\n",
       "    <tr>\n",
       "      <th>Second</th>\n",
       "      <td>25.545455</td>\n",
       "      <td>33.383333</td>\n",
       "      <td>25.203611</td>\n",
       "      <td>33.904762</td>\n",
       "    </tr>\n",
       "    <tr>\n",
       "      <th>Third</th>\n",
       "      <td>20.671875</td>\n",
       "      <td>23.565789</td>\n",
       "      <td>18.923030</td>\n",
       "      <td>29.184492</td>\n",
       "    </tr>\n",
       "  </tbody>\n",
       "</table>\n",
       "</div>"
      ],
      "text/plain": [
       "sex        female                  male           \n",
       "alone       False      True       False      True \n",
       "class                                             \n",
       "First   34.415094  34.937500  37.466383  44.601852\n",
       "Second  25.545455  33.383333  25.203611  33.904762\n",
       "Third   20.671875  23.565789  18.923030  29.184492"
      ]
     },
     "execution_count": 174,
     "metadata": {},
     "output_type": "execute_result"
    }
   ],
   "source": [
    "titanic.pivot_table(index = \"class\", columns = [\"sex\", \"alone\"], values = \"age\")"
   ]
  },
  {
   "cell_type": "markdown",
   "metadata": {
    "id": "1U2WnzWdisif"
   },
   "source": [
    "Por último, si llevamos dos (o más) campos a values, pandas va a crear un conjunto de columnas para cada uno de dichos campos:"
   ]
  },
  {
   "cell_type": "code",
   "execution_count": 175,
   "metadata": {
    "id": "iTckDPE2iuyD"
   },
   "outputs": [
    {
     "data": {
      "text/html": [
       "<div>\n",
       "<style scoped>\n",
       "    .dataframe tbody tr th:only-of-type {\n",
       "        vertical-align: middle;\n",
       "    }\n",
       "\n",
       "    .dataframe tbody tr th {\n",
       "        vertical-align: top;\n",
       "    }\n",
       "\n",
       "    .dataframe thead tr th {\n",
       "        text-align: left;\n",
       "    }\n",
       "\n",
       "    .dataframe thead tr:last-of-type th {\n",
       "        text-align: right;\n",
       "    }\n",
       "</style>\n",
       "<table border=\"1\" class=\"dataframe\">\n",
       "  <thead>\n",
       "    <tr>\n",
       "      <th></th>\n",
       "      <th colspan=\"3\" halign=\"left\">age</th>\n",
       "      <th colspan=\"3\" halign=\"left\">survived</th>\n",
       "    </tr>\n",
       "    <tr>\n",
       "      <th>class</th>\n",
       "      <th>First</th>\n",
       "      <th>Second</th>\n",
       "      <th>Third</th>\n",
       "      <th>First</th>\n",
       "      <th>Second</th>\n",
       "      <th>Third</th>\n",
       "    </tr>\n",
       "    <tr>\n",
       "      <th>sex</th>\n",
       "      <th></th>\n",
       "      <th></th>\n",
       "      <th></th>\n",
       "      <th></th>\n",
       "      <th></th>\n",
       "      <th></th>\n",
       "    </tr>\n",
       "  </thead>\n",
       "  <tbody>\n",
       "    <tr>\n",
       "      <th>female</th>\n",
       "      <td>34.611765</td>\n",
       "      <td>28.722973</td>\n",
       "      <td>21.750000</td>\n",
       "      <td>0.968085</td>\n",
       "      <td>0.921053</td>\n",
       "      <td>0.500000</td>\n",
       "    </tr>\n",
       "    <tr>\n",
       "      <th>male</th>\n",
       "      <td>41.281386</td>\n",
       "      <td>30.740707</td>\n",
       "      <td>26.507589</td>\n",
       "      <td>0.368852</td>\n",
       "      <td>0.157407</td>\n",
       "      <td>0.135447</td>\n",
       "    </tr>\n",
       "  </tbody>\n",
       "</table>\n",
       "</div>"
      ],
      "text/plain": [
       "              age                        survived                    \n",
       "class       First     Second      Third     First    Second     Third\n",
       "sex                                                                  \n",
       "female  34.611765  28.722973  21.750000  0.968085  0.921053  0.500000\n",
       "male    41.281386  30.740707  26.507589  0.368852  0.157407  0.135447"
      ]
     },
     "execution_count": 175,
     "metadata": {},
     "output_type": "execute_result"
    }
   ],
   "source": [
    "titanic.pivot_table(index = \"sex\", columns = \"class\", values = [\"survived\", \"age\"])"
   ]
  },
  {
   "cell_type": "markdown",
   "metadata": {
    "id": "4VVYIdUciya-"
   },
   "source": [
    "Este método incluye también parámetros que permite rellenar los valores nulos (**fill_value**) y añadir subtotales de filas y columnas (**margins**)."
   ]
  },
  {
   "cell_type": "markdown",
   "metadata": {
    "id": "21D3JUsNlNto"
   },
   "source": [
    "## <font color='green'>**Ejercicio 3**</font>\n",
    "\n",
    "Se tiene un conjunto de restaurantes en ciudades de Chile, en las que se tiene cada ciudad y el tipo de cocina en cada una.\n",
    "\n",
    "\n",
    "\n",
    "```\n",
    "data_restaurantes = {\n",
    "    'ciudades': ['Valparaíso','Valparaíso','Valparaíso','Valparaíso','Valparaíso','Valparaíso','Santiago','Santiago','Santiago','Santiago','Santiago','Punta Arenas','Punta Arenas','Punta Arenas'],\n",
    "    'culinaria': ['Chorrillana','Chorrillana','Charquicán','Pulmay','Tallarines','Chorrillana','Tallarines','Charquicán','Porotos','Chorrillana','Porotos','Porotos','Tallarines','Charquicán']\n",
    "}\n",
    "\n",
    "restaurantes_dataframe_pares = pd.DataFrame(data_restaurantes)\n",
    "restaurantes_dataframe_pares\n",
    "```\n",
    "\n",
    "1. Generar una tabla que permita contar la presencia de cada tipo de cocina en cada ciudad.\n",
    "2. Genera una tabla sólo para la ciudad de Valparaíso.\n",
    "\n"
   ]
  },
  {
   "cell_type": "code",
   "execution_count": 202,
   "metadata": {
    "id": "HwnoQzm9vigK"
   },
   "outputs": [
    {
     "data": {
      "text/html": [
       "<div>\n",
       "<style scoped>\n",
       "    .dataframe tbody tr th:only-of-type {\n",
       "        vertical-align: middle;\n",
       "    }\n",
       "\n",
       "    .dataframe tbody tr th {\n",
       "        vertical-align: top;\n",
       "    }\n",
       "\n",
       "    .dataframe thead th {\n",
       "        text-align: right;\n",
       "    }\n",
       "</style>\n",
       "<table border=\"1\" class=\"dataframe\">\n",
       "  <thead>\n",
       "    <tr style=\"text-align: right;\">\n",
       "      <th></th>\n",
       "      <th>ciudades</th>\n",
       "      <th>culinaria</th>\n",
       "    </tr>\n",
       "  </thead>\n",
       "  <tbody>\n",
       "    <tr>\n",
       "      <th>0</th>\n",
       "      <td>Valparaíso</td>\n",
       "      <td>Chorrillana</td>\n",
       "    </tr>\n",
       "    <tr>\n",
       "      <th>1</th>\n",
       "      <td>Valparaíso</td>\n",
       "      <td>Chorrillana</td>\n",
       "    </tr>\n",
       "    <tr>\n",
       "      <th>2</th>\n",
       "      <td>Valparaíso</td>\n",
       "      <td>Charquicán</td>\n",
       "    </tr>\n",
       "    <tr>\n",
       "      <th>3</th>\n",
       "      <td>Valparaíso</td>\n",
       "      <td>Pulmay</td>\n",
       "    </tr>\n",
       "    <tr>\n",
       "      <th>4</th>\n",
       "      <td>Valparaíso</td>\n",
       "      <td>Tallarines</td>\n",
       "    </tr>\n",
       "    <tr>\n",
       "      <th>5</th>\n",
       "      <td>Valparaíso</td>\n",
       "      <td>Chorrillana</td>\n",
       "    </tr>\n",
       "    <tr>\n",
       "      <th>6</th>\n",
       "      <td>Santiago</td>\n",
       "      <td>Tallarines</td>\n",
       "    </tr>\n",
       "    <tr>\n",
       "      <th>7</th>\n",
       "      <td>Santiago</td>\n",
       "      <td>Charquicán</td>\n",
       "    </tr>\n",
       "    <tr>\n",
       "      <th>8</th>\n",
       "      <td>Santiago</td>\n",
       "      <td>Porotos</td>\n",
       "    </tr>\n",
       "    <tr>\n",
       "      <th>9</th>\n",
       "      <td>Santiago</td>\n",
       "      <td>Chorrillana</td>\n",
       "    </tr>\n",
       "    <tr>\n",
       "      <th>10</th>\n",
       "      <td>Santiago</td>\n",
       "      <td>Porotos</td>\n",
       "    </tr>\n",
       "    <tr>\n",
       "      <th>11</th>\n",
       "      <td>Punta Arenas</td>\n",
       "      <td>Porotos</td>\n",
       "    </tr>\n",
       "    <tr>\n",
       "      <th>12</th>\n",
       "      <td>Punta Arenas</td>\n",
       "      <td>Tallarines</td>\n",
       "    </tr>\n",
       "    <tr>\n",
       "      <th>13</th>\n",
       "      <td>Punta Arenas</td>\n",
       "      <td>Charquicán</td>\n",
       "    </tr>\n",
       "  </tbody>\n",
       "</table>\n",
       "</div>"
      ],
      "text/plain": [
       "        ciudades    culinaria\n",
       "0     Valparaíso  Chorrillana\n",
       "1     Valparaíso  Chorrillana\n",
       "2     Valparaíso   Charquicán\n",
       "3     Valparaíso       Pulmay\n",
       "4     Valparaíso   Tallarines\n",
       "5     Valparaíso  Chorrillana\n",
       "6       Santiago   Tallarines\n",
       "7       Santiago   Charquicán\n",
       "8       Santiago      Porotos\n",
       "9       Santiago  Chorrillana\n",
       "10      Santiago      Porotos\n",
       "11  Punta Arenas      Porotos\n",
       "12  Punta Arenas   Tallarines\n",
       "13  Punta Arenas   Charquicán"
      ]
     },
     "execution_count": 202,
     "metadata": {},
     "output_type": "execute_result"
    }
   ],
   "source": [
    "#Solución\n",
    "data_restaurantes = {\n",
    "    'ciudades': ['Valparaíso','Valparaíso','Valparaíso','Valparaíso','Valparaíso','Valparaíso','Santiago','Santiago','Santiago','Santiago','Santiago','Punta Arenas','Punta Arenas','Punta Arenas'],\n",
    "    'culinaria': ['Chorrillana','Chorrillana','Charquicán','Pulmay','Tallarines','Chorrillana','Tallarines','Charquicán','Porotos','Chorrillana','Porotos','Porotos','Tallarines','Charquicán']\n",
    "}\n",
    "df_res = pd.DataFrame(data_restaurantes)\n",
    "\n",
    "df_res"
   ]
  },
  {
   "cell_type": "code",
   "execution_count": 226,
   "metadata": {
    "scrolled": true
   },
   "outputs": [
    {
     "data": {
      "text/html": [
       "<div>\n",
       "<style scoped>\n",
       "    .dataframe tbody tr th:only-of-type {\n",
       "        vertical-align: middle;\n",
       "    }\n",
       "\n",
       "    .dataframe tbody tr th {\n",
       "        vertical-align: top;\n",
       "    }\n",
       "\n",
       "    .dataframe thead th {\n",
       "        text-align: right;\n",
       "    }\n",
       "</style>\n",
       "<table border=\"1\" class=\"dataframe\">\n",
       "  <thead>\n",
       "    <tr style=\"text-align: right;\">\n",
       "      <th></th>\n",
       "      <th>culinaria</th>\n",
       "    </tr>\n",
       "    <tr>\n",
       "      <th>ciudades</th>\n",
       "      <th></th>\n",
       "    </tr>\n",
       "  </thead>\n",
       "  <tbody>\n",
       "    <tr>\n",
       "      <th>Punta Arenas</th>\n",
       "      <td>3</td>\n",
       "    </tr>\n",
       "    <tr>\n",
       "      <th>Santiago</th>\n",
       "      <td>5</td>\n",
       "    </tr>\n",
       "    <tr>\n",
       "      <th>Valparaíso</th>\n",
       "      <td>6</td>\n",
       "    </tr>\n",
       "  </tbody>\n",
       "</table>\n",
       "</div>"
      ],
      "text/plain": [
       "              culinaria\n",
       "ciudades               \n",
       "Punta Arenas          3\n",
       "Santiago              5\n",
       "Valparaíso            6"
      ]
     },
     "execution_count": 226,
     "metadata": {},
     "output_type": "execute_result"
    }
   ],
   "source": [
    "df_res.groupby(['ciudades']).count()"
   ]
  },
  {
   "cell_type": "code",
   "execution_count": 230,
   "metadata": {},
   "outputs": [
    {
     "data": {
      "text/html": [
       "<div>\n",
       "<style scoped>\n",
       "    .dataframe tbody tr th:only-of-type {\n",
       "        vertical-align: middle;\n",
       "    }\n",
       "\n",
       "    .dataframe tbody tr th {\n",
       "        vertical-align: top;\n",
       "    }\n",
       "\n",
       "    .dataframe thead th {\n",
       "        text-align: right;\n",
       "    }\n",
       "</style>\n",
       "<table border=\"1\" class=\"dataframe\">\n",
       "  <thead>\n",
       "    <tr style=\"text-align: right;\">\n",
       "      <th>culinaria</th>\n",
       "      <th>Charquicán</th>\n",
       "      <th>Chorrillana</th>\n",
       "      <th>Porotos</th>\n",
       "      <th>Pulmay</th>\n",
       "      <th>Tallarines</th>\n",
       "    </tr>\n",
       "    <tr>\n",
       "      <th>ciudades</th>\n",
       "      <th></th>\n",
       "      <th></th>\n",
       "      <th></th>\n",
       "      <th></th>\n",
       "      <th></th>\n",
       "    </tr>\n",
       "  </thead>\n",
       "  <tbody>\n",
       "    <tr>\n",
       "      <th>Punta Arenas</th>\n",
       "      <td>1</td>\n",
       "      <td>0</td>\n",
       "      <td>1</td>\n",
       "      <td>0</td>\n",
       "      <td>1</td>\n",
       "    </tr>\n",
       "    <tr>\n",
       "      <th>Santiago</th>\n",
       "      <td>1</td>\n",
       "      <td>1</td>\n",
       "      <td>2</td>\n",
       "      <td>0</td>\n",
       "      <td>1</td>\n",
       "    </tr>\n",
       "    <tr>\n",
       "      <th>Valparaíso</th>\n",
       "      <td>1</td>\n",
       "      <td>3</td>\n",
       "      <td>0</td>\n",
       "      <td>1</td>\n",
       "      <td>1</td>\n",
       "    </tr>\n",
       "  </tbody>\n",
       "</table>\n",
       "</div>"
      ],
      "text/plain": [
       "culinaria     Charquicán  Chorrillana  Porotos  Pulmay  Tallarines\n",
       "ciudades                                                          \n",
       "Punta Arenas           1            0        1       0           1\n",
       "Santiago               1            1        2       0           1\n",
       "Valparaíso             1            3        0       1           1"
      ]
     },
     "execution_count": 230,
     "metadata": {},
     "output_type": "execute_result"
    }
   ],
   "source": [
    "# Parte 1\n",
    "df_res.pivot_table(index = 'ciudades', columns = 'culinaria', aggfunc = 'size', fill_value = 0)"
   ]
  },
  {
   "cell_type": "code",
   "execution_count": 228,
   "metadata": {},
   "outputs": [
    {
     "data": {
      "text/html": [
       "<div>\n",
       "<style scoped>\n",
       "    .dataframe tbody tr th:only-of-type {\n",
       "        vertical-align: middle;\n",
       "    }\n",
       "\n",
       "    .dataframe tbody tr th {\n",
       "        vertical-align: top;\n",
       "    }\n",
       "\n",
       "    .dataframe thead th {\n",
       "        text-align: right;\n",
       "    }\n",
       "</style>\n",
       "<table border=\"1\" class=\"dataframe\">\n",
       "  <thead>\n",
       "    <tr style=\"text-align: right;\">\n",
       "      <th></th>\n",
       "      <th></th>\n",
       "      <th>presencia</th>\n",
       "    </tr>\n",
       "    <tr>\n",
       "      <th>ciudades</th>\n",
       "      <th>culinaria</th>\n",
       "      <th></th>\n",
       "    </tr>\n",
       "  </thead>\n",
       "  <tbody>\n",
       "    <tr>\n",
       "      <th rowspan=\"3\" valign=\"top\">Punta Arenas</th>\n",
       "      <th>Charquicán</th>\n",
       "      <td>1</td>\n",
       "    </tr>\n",
       "    <tr>\n",
       "      <th>Porotos</th>\n",
       "      <td>1</td>\n",
       "    </tr>\n",
       "    <tr>\n",
       "      <th>Tallarines</th>\n",
       "      <td>1</td>\n",
       "    </tr>\n",
       "    <tr>\n",
       "      <th rowspan=\"4\" valign=\"top\">Santiago</th>\n",
       "      <th>Charquicán</th>\n",
       "      <td>1</td>\n",
       "    </tr>\n",
       "    <tr>\n",
       "      <th>Chorrillana</th>\n",
       "      <td>1</td>\n",
       "    </tr>\n",
       "    <tr>\n",
       "      <th>Porotos</th>\n",
       "      <td>2</td>\n",
       "    </tr>\n",
       "    <tr>\n",
       "      <th>Tallarines</th>\n",
       "      <td>1</td>\n",
       "    </tr>\n",
       "    <tr>\n",
       "      <th rowspan=\"4\" valign=\"top\">Valparaíso</th>\n",
       "      <th>Charquicán</th>\n",
       "      <td>1</td>\n",
       "    </tr>\n",
       "    <tr>\n",
       "      <th>Chorrillana</th>\n",
       "      <td>3</td>\n",
       "    </tr>\n",
       "    <tr>\n",
       "      <th>Pulmay</th>\n",
       "      <td>1</td>\n",
       "    </tr>\n",
       "    <tr>\n",
       "      <th>Tallarines</th>\n",
       "      <td>1</td>\n",
       "    </tr>\n",
       "  </tbody>\n",
       "</table>\n",
       "</div>"
      ],
      "text/plain": [
       "                          presencia\n",
       "ciudades     culinaria             \n",
       "Punta Arenas Charquicán           1\n",
       "             Porotos              1\n",
       "             Tallarines           1\n",
       "Santiago     Charquicán           1\n",
       "             Chorrillana          1\n",
       "             Porotos              2\n",
       "             Tallarines           1\n",
       "Valparaíso   Charquicán           1\n",
       "             Chorrillana          3\n",
       "             Pulmay               1\n",
       "             Tallarines           1"
      ]
     },
     "execution_count": 228,
     "metadata": {},
     "output_type": "execute_result"
    }
   ],
   "source": [
    "df_res.groupby(['ciudades','culinaria']).size().to_frame('presencia')"
   ]
  },
  {
   "cell_type": "code",
   "execution_count": 232,
   "metadata": {},
   "outputs": [],
   "source": [
    "valpo = df_res[df_res['ciudades'] == 'Valparaíso'][['culinaria']]"
   ]
  },
  {
   "cell_type": "code",
   "execution_count": 241,
   "metadata": {},
   "outputs": [
    {
     "name": "stdout",
     "output_type": "stream",
     "text": [
      "culinaria\n",
      "Charquicán     1\n",
      "Chorrillana    3\n",
      "Porotos        0\n",
      "Pulmay         1\n",
      "Tallarines     1\n",
      "Name: Valparaíso, dtype: int64\n"
     ]
    }
   ],
   "source": [
    "valpo = df_res.pivot_table(index = 'ciudades', columns = 'culinaria', aggfunc = 'size', fill_value = 0).loc['Valparaíso']"
   ]
  },
  {
   "cell_type": "code",
   "execution_count": null,
   "metadata": {},
   "outputs": [],
   "source": []
  },
  {
   "cell_type": "markdown",
   "metadata": {
    "id": "gswM_CF3oKxm"
   },
   "source": [
    "## <font color='green'>**Fin ejercicio 3**</font>\n"
   ]
  }
 ],
 "metadata": {
  "colab": {
   "name": "6-Librería Pandas Parte 2.ipynb",
   "provenance": []
  },
  "kernelspec": {
   "display_name": "Python 3",
   "language": "python",
   "name": "python3"
  },
  "language_info": {
   "codemirror_mode": {
    "name": "ipython",
    "version": 3
   },
   "file_extension": ".py",
   "mimetype": "text/x-python",
   "name": "python",
   "nbconvert_exporter": "python",
   "pygments_lexer": "ipython3",
   "version": "3.7.5"
  }
 },
 "nbformat": 4,
 "nbformat_minor": 1
}
