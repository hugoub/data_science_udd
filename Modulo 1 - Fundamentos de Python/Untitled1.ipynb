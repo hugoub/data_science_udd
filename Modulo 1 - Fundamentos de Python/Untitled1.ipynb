{
 "cells": [
  {
   "cell_type": "markdown",
   "metadata": {},
   "source": [
    "# Esto es el Título\n",
    "\n",
    "\n",
    "<p> Esto es lo primero que debemos saber\n",
    "    \n",
    "<p> Esto es lo segundo\n",
    "        \n",
    "<p> Esto es lo tercero\n",
    "    \n",
    "<p> La formula de MSE </p>\n",
    "\n",
    "$$ \\sum_{i = 0}^{n}{ \\frac{\\sqrt{(x^2 - y)}}{n} } $$"
   ]
  },
  {
   "cell_type": "code",
   "execution_count": null,
   "metadata": {},
   "outputs": [],
   "source": []
  }
 ],
 "metadata": {
  "kernelspec": {
   "display_name": "Python 3",
   "language": "python",
   "name": "python3"
  },
  "language_info": {
   "codemirror_mode": {
    "name": "ipython",
    "version": 3
   },
   "file_extension": ".py",
   "mimetype": "text/x-python",
   "name": "python",
   "nbconvert_exporter": "python",
   "pygments_lexer": "ipython3",
   "version": "3.7.5"
  }
 },
 "nbformat": 4,
 "nbformat_minor": 2
}
