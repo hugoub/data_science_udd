{
 "cells": [
  {
   "cell_type": "markdown",
   "metadata": {},
   "source": [
    "# 27-Tarea Final 02 \n",
    "## Máquina Enigma"
   ]
  },
  {
   "cell_type": "markdown",
   "metadata": {},
   "source": [
    "## Grupo # <font color='green'>____numero_de_grupo____</font> \n",
    "\n",
    "\n",
    "## Integrantes: \n",
    "* <font color='green'>____nombre_integrante____</font> \n",
    "* <font color='green'>____nombre_integrante____</font> \n",
    "* <font color='green'>____nombre_integrante____</font> \n",
    "* <font color='green'>____nombre_integrante____</font> \n",
    "* <font color='green'>____nombre_integrante____</font> \n",
    "* <font color='green'>____nombre_integrante____</font> \n",
    "* <font color='green'>____nombre_integrante____</font> "
   ]
  },
  {
   "cell_type": "markdown",
   "metadata": {},
   "source": [
    "¡Bienvenido Agente! Nos encontramos en pleno conflicto y hemos encontrado los planos de una  [Máquina Enigma](https://es.wikipedia.org/wiki/Enigma_(máquina)) enemiga. Necesitamos que configures una máquina que nos ayude a descifrar los mensajes que interceptamos.\n",
    "La máquina posee tres rotores y un reflector. Cada rotor es un disco circular plano con 26 contactos eléctricos en cada cara, uno por cada letra del alfabeto. Cada contacto de una cara está conectado o cableado a un contacto diferente de la cara contraria. Por ejemplo, en un rotor en particular, el contacto número 1 de una cara puede estar conectado con el contacto número 14 en la otra cara y el contacto número 5 de una cara con el número 22 de la otra.\n",
    "\n",
    "Como cada rotor está en contacto con el otro, lo anterior permite ir cambiando el indice de las letras de entrada, configurando así una criptografía muy compleja de resolver en aquellos tiempos. Estos rotores se conocen como.\n",
    "\n",
    "* Rotor derecho\n",
    "* Rotor medio\n",
    "* Rotor izquierdo\n",
    "* Reflector\n",
    "\n",
    "Mira este video para que entiendas mejor el concepto le la [Máquina Enigma](https://youtu.be/VnsTHAH5yAE)."
   ]
  },
  {
   "cell_type": "markdown",
   "metadata": {},
   "source": [
    "## Estructura de los rotores\n",
    "\n",
    "Los tres rotores (izquierdo, medio y derecho) tienen el alfabeto de 26 letras ordenadas en su sección de entrada y las mismas 26 letras desordenadas en su sección de salida.<br>\n",
    "El reflector, posee solo 13 letra, las cuales están repetidas 2 veces cada una y están repartidas aleatoriamente en el dispositivo. El punto en donde la señal del rotor izquierdo pasa al reflector, determina la letra de entrada; la salida será por la letra que conforma la pareja.\n",
    "\n",
    "Esta es la configuración que hemos encontrado:\n",
    "\n",
    "```python\n",
    "\"\"\"\n",
    "Reflector  Rot_izd   Rot_med   Rot_der  Teclado\n",
    "    A       A - E     A - A     A - B      A\n",
    "    B       B - K     B - J     B - D      B\n",
    "    C       C - M     C - D     C - F      C\n",
    "    D       D - F     D - K     D - H      D\n",
    "    E       E - L     E - S     E - J      E\n",
    "    F       F - G     F - I     F - L      F\n",
    "    G       G - D     G - R     G - C      G\n",
    "    D       H - Q     H - U     H - P      H\n",
    "    I       I - V     I - X     I - R      I\n",
    "    J       J - Z     J - B     J - T      J\n",
    "    K       K - N     K - L     K - X      K\n",
    "    G       L - T     L - H     L - V      L\n",
    "    M       M - O     M - W     M - Z      M\n",
    "    K       N - W     N - T     N - N      N\n",
    "    M       O - Y     O - M     O - Y      O\n",
    "    I       P - H     P - C     P - E      P\n",
    "    E       Q - X     Q - Q     Q - I      Q\n",
    "    B       R - U     R - G     R - W      R\n",
    "    F       S - S     S - Z     S - G      S\n",
    "    T       T - P     T - N     T - A      T\n",
    "    C       U - A     U - P     U - K      U\n",
    "    V       V - I     V - Y     V - M      V\n",
    "    V       W - B     W - F     W - U      W\n",
    "    J       X - R     X - V     X - S      X\n",
    "    A       Y - C     Y - O     Y - Q      Y\n",
    "    T       Z - J     Z - E     Z - O      Z\n",
    "\"\"\"\n",
    "```"
   ]
  },
  {
   "cell_type": "markdown",
   "metadata": {},
   "source": [
    "## Funcionamiento general\n",
    "Cada vez que un usuario presiona una tecla en el Teclado (columna derecha del diagrama anterior), ocurre lo siguiente:\n",
    "1. El Rotor_derecho avanza una posición hacia arriba, i.e., la combinación 'A - B' pasa al final de la lista y el primer lugar lo ocupa 'B - D'\n",
    "2. Se obtiene la posición en la lista (Teclado) de la tecla presionada por el operador . \n",
    "3. La posición obtenida en el punto 2, se utiliza para buscar la letra la sección derecha del Rotor_derecho que está en la misma posición (frente a frente). En esa posición existe una letra a la cual llamaremos Letra_entrada.\n",
    "4. En el Rotor_derecho se busca la posición de la Letra_entrada en la sección de salida. Esta será la posición de salida del rotor.\n",
    "5. Se repiten los pasos amteriores 3 y 4 en el Rotor_medio; esta vez la posición de entrada en equivalente a la posición de salida del punto 4.\n",
    "6. Se repiten los pasos amteriores 3 y 4 en el Rotor_izquierdo.\n",
    "7. Con la posición de salida del Rotor_izquierdo se entra en el Reflector. En la posición de entrada en el Reflector, hay una letra. Se buscará entonces la otra letra equivalente dentro del Reflector. Esto determinará la posición de salida.\n",
    "8. Con esta posición (la de salida del Reflector) se invierte el proceso, es decir, se busca la letra que está en contacto con el rotor anterior y se busca la posición de dicha letra en la salida del rotor. Este proceso se repita sucesivamente con los rotores izquierdo, medio y derecho.\n",
    "9. La posición de salida del Rotor_derecho marcará la posicón en el Teclado, indicando la letra encriptada."
   ]
  },
  {
   "cell_type": "markdown",
   "metadata": {},
   "source": [
    "## Algunos detalles adicionales\n",
    "Cada vez que procesamos una letra, primero rotamos una posición el Rotor_derecho (hacia arriba).\n",
    "Cuando la letra \"V\" de la componente ordenada (iquierza) del Rotor_derecho alcanza la posición inicial en la lista, se gira una posición hacia arriba el Rotor_medio.\n",
    "Lo mismo ocurre cuando la letra 'Q' de la componente ordenada (iquierza) del Rotor_medio llega al inicio, en este caso, se avanza una posición hacia arriba el Rotor_izquierdo."
   ]
  },
  {
   "cell_type": "markdown",
   "metadata": {},
   "source": [
    "## Más detalles\n",
    "Esto no termina aquí. Para hacer más difícil el trabajo de desencriptación, la máquina tiene la posibilidad de fijar la posición inicial de los tres rotores centrales. Para esto se elige una clave de tres letras, las cuales marcan la posición inicial de la primera letra de la sección ordenada (izquierda) de cada rotor. Por ejemplo la clave <font color='red'>'MCK'</font> dejaría los rotores de la siguiente forma:\n",
    "\n",
    "```Python\n",
    "\"\"\"\n",
    "Reflector  Rot_izd   Rot_med   Rot_der  Teclado\n",
    "    A       M - O     C - D     K - X      A\n",
    "    B       N - W     D - K     L - V      B\n",
    "    C       O - Y     E - S     M - Z      C\n",
    "    D       P - H     F - I     N - N      D\n",
    "    E       Q - X     G - R     O - Y      E\n",
    "    F       R - U     H - U     P - E      F\n",
    "    G       S - S     I - X     Q - I      G\n",
    "    D       T - P     J - B     R - W      H\n",
    "    I       U - A     K - L     S - G      I\n",
    "    J       V - I     L - H     T - A      J\n",
    "    K       W - B     M - W     U - K      K\n",
    "    G       X - R     N - T     V - M      L\n",
    "    M       Y - C     O - M     W - U      M\n",
    "    K       Z - J     P - C     X - S      N\n",
    "    M       A - E     Q - Q     Y - Q      O\n",
    "    I       B - K     R - G     Z - O      P\n",
    "    E       C - M     S - Z     A - B      Q\n",
    "    B       D - F     T - N     B - D      R\n",
    "    F       E - L     U - P     C - F      S\n",
    "    T       F - G     V - Y     D - H      T\n",
    "    C       G - D     W - F     E - J      U\n",
    "    V       H - Q     X - V     F - L      V\n",
    "    V       I - V     Y - O     G - C      W\n",
    "    J       J - Z     Z - E     H - P      X\n",
    "    A       K - N     A - A     I - R      Y\n",
    "    T       L - T     B - J     J - T      Z\n",
    "\"\"\"\n",
    "```\n",
    "Fíjate que ni el Teclado ni el Reflector cambian, solo los rotores izquierdo, medio y derecho."
   ]
  },
  {
   "cell_type": "markdown",
   "metadata": {},
   "source": [
    "Aquí te dejamos algunos videos con la misma explicación:\n",
    "    \n",
    "[Criptografía - Máquina Enigma, funcionamiento detallado](https://youtu.be/XK_1gUo8YDE)\n"
   ]
  },
  {
   "cell_type": "markdown",
   "metadata": {},
   "source": [
    "## <font color='green'>Misión</font>\n",
    "\n",
    "Con los planos obtenidos, debes programar en Python tu propia Máquina Enigma. Cuando hayas terminado, se te dará un mensaje cifrado que deberás decodificar para aprobar el curso.\n",
    "\n",
    "Tu misión consiste en lo siguiente:<br>\n",
    "1. Programar la lógica de la máquina utilizando la información de los rotores conseguidos\n",
    "2. Ingresar una clave inicial (te será dada)\n",
    "3. Decodificar el mensaje correctamente\n",
    "\n",
    "Tips:\n",
    "\n",
    "1. Con la clave <font color='red'>'MCK'</font>, la frace **\"ENIGMA REVEALED\"** debiera encriptarse como **'QMJIDOMZWZJFJR\"** y viceversa.\n",
    "2. Recuerda usa stackoverflow e internet para buscar sintaxis y funciones.\n",
    "3. Divide el desafío en tantos problemas pequeños como puedas. "
   ]
  },
  {
   "cell_type": "markdown",
   "metadata": {},
   "source": [
    "## <font color='green'>Tarea 1:</font> Cablea los rotores\n",
    "\n",
    "Crea los cableados de los rotores \n",
    "\n",
    "TIP:\n",
    "1. Crea lista con las secuencias\n",
    "2. Utiliza los strings proporcionados y conviértelos a listas con **split( )**\n"
   ]
  },
  {
   "cell_type": "code",
   "execution_count": 591,
   "metadata": {},
   "outputs": [],
   "source": [
    "# Componente ordenada de los rotores \n",
    "st = 'A B C D E F G H I J K L M N O P Q R S T U V W X Y Z'\n",
    "\n",
    "# Convierte el string 'st' en una lista\n",
    "# Tu código aquí ...\n",
    "\n",
    "st = st.split()"
   ]
  },
  {
   "cell_type": "code",
   "execution_count": 592,
   "metadata": {},
   "outputs": [],
   "source": [
    "# Creamos el reflector\n",
    "rf = 'A B C D E F G D I J K G M K M I E B F T C V V J A T'\n",
    "\n",
    "# Convierte el string 'rf' en una lista\n",
    "# Tu código aquí ...\n",
    "\n",
    "rf = rf.split()"
   ]
  },
  {
   "cell_type": "code",
   "execution_count": 593,
   "metadata": {},
   "outputs": [],
   "source": [
    "# Creamos el rotor derecho\n",
    "# Este string contiene el alfabeto de salida (desordenado)\n",
    "str_r_derecha = 'B D F H J L C P R T X V Z N Y E I W G A K M U S Q O'\n",
    "\n",
    "# Convierte el string 'rf' en una lista\n",
    "# Tu código aquí ...\n",
    "\n",
    "str_r_derecha = str_r_derecha.split()"
   ]
  },
  {
   "cell_type": "code",
   "execution_count": 594,
   "metadata": {},
   "outputs": [],
   "source": [
    "# Creamos el rotor medio\n",
    "# Este string contiene el alfabeto de salida (desordenado)\n",
    "str_r_medio = 'A J D K S I R U X B L H W T M C Q G Z N P Y F V O E'\n",
    "\n",
    "# Convierte el string 'rf' en una lista\n",
    "# Tu código aquí ...\n",
    "\n",
    "str_r_medio = str_r_medio.split()"
   ]
  },
  {
   "cell_type": "code",
   "execution_count": 595,
   "metadata": {},
   "outputs": [],
   "source": [
    "# Creamos el rotor iquierdo\n",
    "# Este string contiene el alfabeto de salida (desordenado)\n",
    "str_r_izq = 'E K M F L G D Q V Z N T O W Y H X U S P A I B R C J '\n",
    "\n",
    "# Convierte el string 'rf' en una lista\n",
    "# Tu código aquí ...\n",
    "\n",
    "str_r_izq = str_r_izq.split()"
   ]
  },
  {
   "cell_type": "markdown",
   "metadata": {},
   "source": [
    "## <font color='green'>Tarea 2:</font> Arma los rotores\n",
    "\n",
    "Crea tres listas vacias para almacenar los rotores armados\n",
    "Recuerda que cada rotor tiene una componente ordenada y otra desordenada. La ordenada va la izquierda y desordenada a la derecha.\n",
    "\n",
    "TIP:\n",
    "1. La estructura a obtener debiera ser una lista de listas. Por ejemplo, el rotor_izquierdo debería verse así:\n",
    "\n",
    "```python\n",
    "[['A', 'E'],\n",
    " ['B', 'K'],\n",
    " ['C', 'M'],\n",
    " ['D', 'F'],\n",
    " ['E', 'L'],\n",
    " ['F', 'G'],\n",
    " ['G', 'D'],\n",
    " ['H', 'Q'],\n",
    " ['I', 'V'],\n",
    " ['J', 'Z'],\n",
    " ['K', 'N'],\n",
    " ['L', 'T'],\n",
    " ['M', 'O'],\n",
    " ['N', 'W'],\n",
    " ['O', 'Y'],\n",
    " ['P', 'H'],\n",
    " ['Q', 'X'],\n",
    " ['R', 'U'],\n",
    " ['S', 'S'],\n",
    " ['T', 'P'],\n",
    " ['U', 'A'],\n",
    " ['V', 'I'],\n",
    " ['W', 'B'],\n",
    " ['X', 'R'],\n",
    " ['Y', 'C'],\n",
    " ['Z', 'J']]\n",
    "```"
   ]
  },
  {
   "cell_type": "code",
   "execution_count": 596,
   "metadata": {},
   "outputs": [],
   "source": [
    "# Crea tres listas vacias para almacenar los rotores armados\n",
    "# Recuerda que cada rotor tendré una componente ordenada y otra desordenada\n",
    "\n",
    "# Tu código aquí ...\n",
    "\n",
    "rot_der = []\n",
    "rot_med = []\n",
    "rot_izq = []"
   ]
  },
  {
   "cell_type": "markdown",
   "metadata": {},
   "source": [
    "Crea tres listas vacias para almacenar los rotores armados\n",
    "Recuerda que cada rotor tiene una componente ordenada y otra desordenada. Ordenada a la izquierda y desordenada a la derecha.\n",
    "\n",
    "TIP:\n",
    "1. Utiliza un ciclo **for** para añadir los pares de elementos  (ordenado - desordenado) en cada rotor. \n",
    "2. Utiliza las listas que creamos anteriormente\n",
    "3. Utiliza la función zip( ) para unir las lista\n",
    "4. Utiliza la función **append( )** e *indexing* \n",
    "\n",
    "```python\n",
    "for i in zip(lista_1, lista_2):\n",
    "    disco.append([i[0], i[1]])\n",
    "```"
   ]
  },
  {
   "cell_type": "code",
   "execution_count": 597,
   "metadata": {},
   "outputs": [],
   "source": [
    "# Tu código aquí ...\n",
    "\n",
    "for i in zip(st, str_r_derecha):\n",
    "    rot_der.append([i[0], i[1]])\n",
    "\n",
    "for i in zip(st, str_r_medio):\n",
    "    rot_med.append([i[0], i[1]])\n",
    "\n",
    "for i in zip(st, str_r_izq):\n",
    "    rot_izq.append([i[0], i[1]])"
   ]
  },
  {
   "cell_type": "markdown",
   "metadata": {},
   "source": [
    "Imprime la configuración del Reflector, de los tres rotores y del Teclado. De la misma forma que en la instrucciones iniciales.\n",
    "\n",
    "Tip:\n",
    "1. Utiliza función **print( )** y **f-strings** para el correcto formateo\n",
    "2. Utiliza **zip( )** nuevamente para agrupar todas las listas. Luego recórrelas con un ciclo **for** para imprimirlas."
   ]
  },
  {
   "cell_type": "code",
   "execution_count": 598,
   "metadata": {
    "scrolled": true
   },
   "outputs": [
    {
     "name": "stdout",
     "output_type": "stream",
     "text": [
      "Reflector  Rotor_izd   Rotor_med   Rotor_der   Teclado\n",
      "    A        A - E       A - A       A - B        A\n",
      "    B        B - K       B - J       B - D        B\n",
      "    C        C - M       C - D       C - F        C\n",
      "    D        D - F       D - K       D - H        D\n",
      "    E        E - L       E - S       E - J        E\n",
      "    F        F - G       F - I       F - L        F\n",
      "    G        G - D       G - R       G - C        G\n",
      "    D        H - Q       H - U       H - P        H\n",
      "    I        I - V       I - X       I - R        I\n",
      "    J        J - Z       J - B       J - T        J\n",
      "    K        K - N       K - L       K - X        K\n",
      "    G        L - T       L - H       L - V        L\n",
      "    M        M - O       M - W       M - Z        M\n",
      "    K        N - W       N - T       N - N        N\n",
      "    M        O - Y       O - M       O - Y        O\n",
      "    I        P - H       P - C       P - E        P\n",
      "    E        Q - X       Q - Q       Q - I        Q\n",
      "    B        R - U       R - G       R - W        R\n",
      "    F        S - S       S - Z       S - G        S\n",
      "    T        T - P       T - N       T - A        T\n",
      "    C        U - A       U - P       U - K        U\n",
      "    V        V - I       V - Y       V - M        V\n",
      "    V        W - B       W - F       W - U        W\n",
      "    J        X - R       X - V       X - S        X\n",
      "    A        Y - C       Y - O       Y - Q        Y\n",
      "    T        Z - J       Z - E       Z - O        Z\n"
     ]
    }
   ],
   "source": [
    "# Tu código aquí ...\n",
    "\n",
    "print(f'Reflector  Rotor_izd   Rotor_med   Rotor_der   Teclado')\n",
    "\n",
    "for i in zip(rf,rot_izq,rot_med,rot_der,st):\n",
    "    print(f'{i[0]:>5s}{i[1][0]:>9s} - {i[1][1]}{i[2][0]:>8s} - {i[2][1]}{i[3][0]:>8s} - {i[3][1]}{i[4]:>9s}')"
   ]
  },
  {
   "cell_type": "markdown",
   "metadata": {},
   "source": [
    "## <font color='green'>Tarea 3:</font> Crea una función para girar los rotores\n",
    "\n",
    "Crea una función llamada **avanza_rotor**. La función debe girar los rotores hacia arriba. Créala de esta forma:\n",
    "\n",
    "```python\n",
    "def avanza_rotor(disco, paso):\n",
    "```\n",
    "Entrada:<br>\n",
    "**disco**: corresponde a la lista con la información del rotor a avanzar. Esta es una lista de listas.<br>\n",
    "**paso**. Esta variable indicará la cantidad de pasos que debe avanzar el rotor.\n",
    "\n",
    "Salida:<br>\n",
    "La funión deve devolver el rotor (lista de listas) rotado **paso** pasos.\n",
    "\n",
    "TIP:\n",
    "1. Recuerda el uso de **pop( )** y **append( )** en las listas"
   ]
  },
  {
   "cell_type": "code",
   "execution_count": 599,
   "metadata": {},
   "outputs": [],
   "source": [
    "# Tu código aquí ...\n",
    "def avanza_rotor(disco, paso):\n",
    "    for i in range(paso):\n",
    "        disco.append(disco[0])\n",
    "        disco.pop(0)\n",
    "    return disco"
   ]
  },
  {
   "cell_type": "markdown",
   "metadata": {},
   "source": [
    "## <font color='green'>Tarea 4:</font> Crea una función para posicionar los rotores según la clave inicial\n",
    "\n",
    "Crea una función que configure la posición inicial de los rotores. Llámala **conf_rotores** de esta forma:\n",
    "\n",
    "```python\n",
    "def conf_rotores(clave_inicial):\n",
    "```\n",
    "Entrada:<br>\n",
    "**clave_inicial**: corresponde a un string de tres letras.<br>\n",
    "\n",
    "A partir de la clave inicial se rotan los tres rotores (izquierdo, medio y derecho).\n",
    "\n",
    "Salida:<br>\n",
    "La funión debe devolver los tres rotores posicionados según la clave ingresada.\n",
    "\n",
    "Tip:\n",
    "1. Necesitarás usa un ciclo **while** cuya condición de salida sea que la letra izquierda del primer par de letras de cada rotor coincida con la letra correspondiente de la clave ingresada.\n",
    "2. No es necesario que pases los rotores (lista) como argumentos ya que esta estrcutura tiene caracter *global* en Python\n"
   ]
  },
  {
   "cell_type": "code",
   "execution_count": 600,
   "metadata": {},
   "outputs": [],
   "source": [
    "# Tu código aquí ...\n",
    "\n",
    "def conf_rotores(clave_inicial, verbose=True):\n",
    "    \n",
    "    while clave_inicial[0] != rot_izq[0][0]:\n",
    "        avanza_rotor(rot_izq, 1)\n",
    "    \n",
    "    while clave_inicial[1] != rot_med[0][0]:\n",
    "        avanza_rotor(rot_med, 1)\n",
    "        \n",
    "    while clave_inicial[2] != rot_der[0][0]:\n",
    "        avanza_rotor(rot_der, 1)\n",
    "        \n",
    "    return True"
   ]
  },
  {
   "cell_type": "code",
   "execution_count": 601,
   "metadata": {},
   "outputs": [
    {
     "data": {
      "text/plain": [
       "True"
      ]
     },
     "execution_count": 601,
     "metadata": {},
     "output_type": "execute_result"
    }
   ],
   "source": [
    "# Pureba con la clave 'MCK'\n",
    "\n",
    "conf_rotores('MCK')"
   ]
  },
  {
   "cell_type": "code",
   "execution_count": 602,
   "metadata": {
    "scrolled": false
   },
   "outputs": [
    {
     "name": "stdout",
     "output_type": "stream",
     "text": [
      "Reflector  Rotor_izd   Rotor_med   Rotor_der   Teclado\n",
      "    A        M - O       C - D       K - X        A\n",
      "    B        N - W       D - K       L - V        B\n",
      "    C        O - Y       E - S       M - Z        C\n",
      "    D        P - H       F - I       N - N        D\n",
      "    E        Q - X       G - R       O - Y        E\n",
      "    F        R - U       H - U       P - E        F\n",
      "    G        S - S       I - X       Q - I        G\n",
      "    D        T - P       J - B       R - W        H\n",
      "    I        U - A       K - L       S - G        I\n",
      "    J        V - I       L - H       T - A        J\n",
      "    K        W - B       M - W       U - K        K\n",
      "    G        X - R       N - T       V - M        L\n",
      "    M        Y - C       O - M       W - U        M\n",
      "    K        Z - J       P - C       X - S        N\n",
      "    M        A - E       Q - Q       Y - Q        O\n",
      "    I        B - K       R - G       Z - O        P\n",
      "    E        C - M       S - Z       A - B        Q\n",
      "    B        D - F       T - N       B - D        R\n",
      "    F        E - L       U - P       C - F        S\n",
      "    T        F - G       V - Y       D - H        T\n",
      "    C        G - D       W - F       E - J        U\n",
      "    V        H - Q       X - V       F - L        V\n",
      "    V        I - V       Y - O       G - C        W\n",
      "    J        J - Z       Z - E       H - P        X\n",
      "    A        K - N       A - A       I - R        Y\n",
      "    T        L - T       B - J       J - T        Z\n"
     ]
    }
   ],
   "source": [
    "# Imprime la nueva configuración de rotores\n",
    "# Este codigo lo deberías haber hecho más arriba\n",
    "print(f'Reflector  Rotor_izd   Rotor_med   Rotor_der   Teclado')\n",
    "\n",
    "# Tu código aquí ...\n",
    "\n",
    "for i in zip(rf,rot_izq,rot_med,rot_der,st):\n",
    "    print(f'{i[0]:>5s}{i[1][0]:>9s} - {i[1][1]}{i[2][0]:>8s} - {i[2][1]}{i[3][0]:>8s} - {i[3][1]}{i[4]:>9s}')"
   ]
  },
  {
   "cell_type": "markdown",
   "metadata": {},
   "source": [
    "## <font color='green'>Tarea 5:</font> Crea funciones para pasar señales por los rotores\n",
    "\n",
    "Crea tres funciones llamadas **pasa_senal_ida**, **pasa_senal_vuelta** y **indice_reflextor** de esta forma:\n",
    "\n",
    "```python\n",
    "def pasa_senal_ida(rotor, indice):\n",
    "\n",
    "    \n",
    "def pasa_senal_vuelta(rotor, indice):\n",
    "    \n",
    "    \n",
    "def indice_reflextor(rotor, indice):\n",
    "    \n",
    "```\n",
    "Entrada:<br>\n",
    "**rotor**: corresponde a la lista con la información del rotor. Esta es una lista de listas.<br>\n",
    "**indice**. Es el punto de contacto en el rotor: En el caso de **pasa_senal_ida** será por la derecha y en el caso de **pasa_senal_vuelta** será por la izquierda\n",
    "\n",
    "Salida:<br>\n",
    "Las funciones devuelven el indice de salida del rotor"
   ]
  },
  {
   "cell_type": "code",
   "execution_count": 603,
   "metadata": {},
   "outputs": [],
   "source": [
    "# Tu código aquí ...\n",
    "\n",
    "def pasa_senal_ida(rotor, indice):\n",
    "    \n",
    "    for i in range(len(rotor)):\n",
    "        if rotor[i][0] == rotor[indice][1]:\n",
    "            indice_salida = i\n",
    "            break\n",
    "        \n",
    "    return indice_salida\n",
    "    \n",
    "def pasa_senal_vuelta(rotor, indice):\n",
    "    \n",
    "    for i in range(len(rotor)):\n",
    "        if rotor[i][1] == rotor[indice][0]:\n",
    "            indice_salida = i\n",
    "            break\n",
    "            \n",
    "    return indice_salida\n",
    "    \n",
    "def indice_reflextor(disco, indice):\n",
    "    \n",
    "    for i in range(len(disco)):\n",
    "        if disco[indice] == disco[i] and indice != i:\n",
    "            indice_salida = i\n",
    "            break\n",
    "    \n",
    "    return indice_salida"
   ]
  },
  {
   "cell_type": "markdown",
   "metadata": {},
   "source": [
    "## <font color='green'>Tarea 5:</font> Armando la ENIGMA\n",
    "\n",
    "Bien hecho hasta acá Hacker. Ahora debes armar la máquina.\n",
    "\n",
    "Crea una función **enigma**\n",
    "\n",
    "```python\n",
    "def enigma(mensaje, clave):\n",
    "```\n",
    "Entrada:<br>\n",
    "**mensaje**: corresponde a un strig que contiene el mensaje a codificar. Recuerda que no se usaban ni numeros ni caractares especiales. Solo lo que el teclado de entrada pudiera escribir.<br>\n",
    "**clave**. Es la clave para posicionar los rotores al inicio\n",
    "\n",
    "Salida:<br>\n",
    "Mensaje cifrado\n"
   ]
  },
  {
   "cell_type": "code",
   "execution_count": 626,
   "metadata": {},
   "outputs": [],
   "source": [
    "# Tu código aquí ...\n",
    "import pdb\n",
    "def enigma(mensaje, clave):\n",
    "    \"\"\"\n",
    "    Función que simula la operación de la Máquina Enigma\n",
    "    \"\"\"\n",
    "    mensaje_cifrado = []\n",
    "    \n",
    "    # Rotamos discos a posición clave\n",
    "    conf_rotores(clave)\n",
    "    \n",
    "    c = 0\n",
    "    \n",
    "    for letra in mensaje:\n",
    "        \n",
    "        \n",
    "        # Cada vez que procesamos una letra, primero \n",
    "        # rotamos las dos componentes del disco derecho\n",
    "                \n",
    "        # Cuando la letra \"V\" del la componente de salida del rotor derecho\n",
    "        # alcanza la posición inicial, se gira una posición el rotor central\n",
    "        \n",
    "        # Lo mismo ocurre cuando la letra 'Q' del rotor centra llega al inicio,\n",
    "        # se avanza una posición ambos componentes del rotor izquierdo\n",
    "        \n",
    "        avanza_rotor(rot_der, 1)\n",
    "        \n",
    "        if rot_der[-1][0] == 'V':                 \n",
    "            avanza_rotor(rot_med, 1)\n",
    "                   \n",
    "        if rot_med[-1][0] == 'Q' and c % 26 == 0:  \n",
    "            avanza_rotor(rot_izq, 1)\n",
    "        \n",
    "        if rot_med[-1][0] == 'Q':\n",
    "            c += 1\n",
    "        \n",
    "        # ida en rotor derecho\n",
    "        salida_ida_der = pasa_senal_ida(rot_der, st.index(letra))       \n",
    "        \n",
    "        # ida en rotor medio\n",
    "        salida_ida_med = pasa_senal_ida(rot_med, salida_ida_der)        \n",
    "        \n",
    "        # ida en rotor izquierdo\n",
    "        salida_ida_izq = pasa_senal_ida(rot_izq, salida_ida_med)   \n",
    "              \n",
    "        # rebote en rotor reflector\n",
    "        reflexion = indice_reflextor(rf, salida_ida_izq)\n",
    "        \n",
    "        # vuelta en rotor izquierdo\n",
    "        salida_vue_izq = pasa_senal_vuelta(rot_izq, reflexion)\n",
    "        \n",
    "        # vuelta en rotor medio\n",
    "        salida_vue_med = pasa_senal_vuelta(rot_med, salida_vue_izq)\n",
    "        \n",
    "        # vuelta en rotor derecho\n",
    "        salida_vue_der = pasa_senal_vuelta(rot_der, salida_vue_med)\n",
    "               \n",
    "        # Vuelta LETRA DE SALIDA\n",
    "        letra_final = st[salida_vue_der]\n",
    "          \n",
    "        mensaje_cifrado.append(letra_final)\n",
    "\n",
    "    return ''.join(mensaje_cifrado)"
   ]
  },
  {
   "cell_type": "code",
   "execution_count": 628,
   "metadata": {},
   "outputs": [
    {
     "name": "stdout",
     "output_type": "stream",
     "text": [
      "HOLAMUNDOHOLAMUNDOHOLAMUNDOHOLAMUNDOHOLAMUNDOHOLAMUNDOHOLAMUNDOHOLAMUNDOHOLAMUNDOHOLAMUNDOHOLAMUNDOHOLAMUNDOHOLAMUNDOHOLAMUNDOHOLAMUNDOHOLAMUNDOHOLAMUNDOHOLAMUNDOHOLAMUNDOHOLAMUNDOHOLAMUNDOHOLAMUNDOHOLAMUNDOHOLAMUNDOHOLAMUNDOHOLAMUNDOHOLAMUNDOHOLAMUNDOHOLAMUNDOHOLAMUNDOHOLAMUNDOHOLAMUNDOHOLAMUNDOHOLAMUNDOHOLAMUNDOHOLAMUNDOHOLAMUNDOHOLAMUNDOHOLAMUNDOHOLAMUNDOHOLAMUNDOHOLAMUNDOHOLAMUNDOHOLAMUNDOHOLAMUNDOHOLAMUNDOHOLAMUNDOHOLAMUNDOHOLAMUNDOHOLAMUNDOHOLAMUNDOHOLAMUNDOHOLAMUNDOHOLAMUNDOHOLAMUNDOHOLAMUNDOHOLAMUNDOHOLAMUNDOHOLAMUNDOHOLAMUNDOHOLAMUNDOHOLAMUNDOHOLAMUNDOHOLAMUNDOHOLAMUNDOHOLAMUNDOHOLAMUNDOHOLAMUNDOHOLAMUNDOHOLAMUNDOHOLAMUNDOHOLAMUNDOHOLAMUNDOHOLAMUNDOHOLAMUNDOHOLAMUNDOHOLAMUNDOHOLAMUNDOHOLAMUNDOHOLAMUNDO\n"
     ]
    }
   ],
   "source": [
    "# Probemos si funciona\n",
    "#'MCK', la frace \"ENIGMA REVEALED\" debiera encriptarse como 'QMJIDOMZWZJFJR\"\n",
    "\n",
    "#enigma('QMJIDOMZWZJFJR','MCK')\n",
    "#print(enigma('QMJIDOMZWZJFJR','MCK'))\n",
    "\n",
    "MENR = 'HOLAMUNDOHOLAMUNDOHOLAMUNDOHOLAMUNDOHOLAMUNDOHOLAMUNDOHOLAMUNDOHOLAMUNDOHOLAMUNDOHOLAMUNDOHOLAMUNDOHOLAMUNDOHOLAMUNDOHOLAMUNDOHOLAMUNDOHOLAMUNDOHOLAMUNDOHOLAMUNDOHOLAMUNDOHOLAMUNDOHOLAMUNDOHOLAMUNDOHOLAMUNDOHOLAMUNDOHOLAMUNDOQFKZPOPAKCAYLYPZJJDSXKVITEKWRKSOCZVNJXZEPIRMRTRRFAWAMTPQBZDKIFLGLZCWQKOFIHORLIWFBNPBEGZGPSASQKKCEBMIRZJPCVMQOHGMYMDFYEDVXYBOQYOINDYWBPEVYFYDQUYNMSTDCGQYBMAOFZRGYEFAURRIITCJNXHDCCAFFLHQZCDRFUGDVQWHHZPYEZWTJRROTJSJVZAQGQDVVGGKEAPNDYZYNDJXMQSXSBRWSGUSOCYVMEZSHPPBVXQKTYHEBLZCEDJTZLQLBPJBRPFYCXRRRWBZQFNSDJJDFCVMJEYHBUCRGADPLLRQLKXRTKAWUQDDRDHUNGYTZZOLJMNVQOOPWBLQJWFMIPZXVOIVTXDBRDNARTIBIGUWFOAYJGLZVOUBRKYETMZAEXPPBXZOHDZZRMRPXRIQMOCIHFLCUAJBXFUKLWESSKOPJEYEEUEIKAPQTHURNLSVSNGBFYIGZBOTTRCKLQXSVHN'\n",
    "MIOZ = 'HOLAMUNDOHOLAMUNDOHOLAMUNDOHOLAMUNDOHOLAMUNDOHOLAMUNDOHOLAMUNDOHOLAMUNDOHOLAMUNDOHOLAMUNDOHOLAMUNDOHOLAMUNDOHOLAMUNDOHOLAMUNDOHOLAMUNDOHOLAMUNDOHOLAMUNDOHOLAMUNDOHOLAMUNDOHOLAMUNDOHOLAMUNDOHOLAMUNDOHOLAMUNDOHOLAMUNDOHOLAMUNDOHRSIYCLOZHZICHASIECTZBYRAEKWRKSOCZVNJXZEPIRMRTRRFAWAMTPQBZDKIFLGLZCWQKOFIHORLIWFBNPBEGZGPSASQKKCEBMIRZJPCVMQOHGMYMDFYEDVXYBOQYOINDYWBPEVYFYDQUYNMSTDCGQYBMAOFZRGYEFAURRIITCJNXHDCCAFFLHQZCDRFUGDVQWHHZPYEZWTJRROTJSJVZAQGQDVVGGKEAPNDYZYNDJXMQSXSBRWSGUSOCYVMEZSHPPBVXQKTYHEBLZCEDJTZLQLBPJBRPFYCXRRRWBZQFNSDJJDFCVMJEYHBUCRGADPLLRQLKXRTKAWUQDDRDHDAMWDZEUXBXBJAUFFDTUCTYKZXLYONFWACPOQSYSGHXPOVBXLEALJITYTZQBRHOYICSJEOXCEAVZEKRDVRQGVJEIGIJEBMFAITKWWCAPCDNKHOHEICXJTLQVOMFVPGTENJWIYSXTBVGRGITOYYGUEWVCLURV'\n",
    "#F     'HOLAMUNDOHOLAMUNDOHOLAMUNDOHOLAMUNDOHOLAMUNDOHOLAMUNDOHOLAMUNDOHOLAMUNDOHOLAMUNDOHOLAMUNDOHOLAMUNDOHOLAMUNDOHOLAMUNDOHOLAMUNDOHOLAMUNDOHOLAMUNDOHOLAMUNDOHOLAMUNDOHOLAMUNDOHOLAMUNDOHOLAMUNDOHOLAMUNDOHOLAMUNDOHOLAMUNDOHOLAMUNDOQFKZPOPAKCAYLYPZJJDSXKVITEKWRKSOCZVNJXZEPIRMRTRRFAWAMTPQBZDKIFLGLZCWQKOFIHORLIWFBNPBEGZGPSASQKKCEBMIRZJPCVMQOHGMYMDFYEDVXYBOQYOINDYWBPEVYFYDQUYNMSTDCGQYBMAOFZRGYEFAURRIITCJNXHDCCAFFLHQZCDRFUGDVQWHHZPYEZWTJRROTJSJVZAQGQDVVGGKEAPNDYZYNDJXMQSXSBRWSGUSOCYVMEZSHPPBVXQKTYHEBLZCEDJTZLQLBPJBRPFYCXRRRWBZQFNSDJJDFCVMJEYHBUCRGADPLLRQLKXRTKAWUQDDRDHDAMWDZEUXBXBJAUFFDTUCTYKZMPLQYXFTBODBZPFAJFFMPLSWZALJITYTZQBRHOYICSJEOXCEAVZEKRDVRQGVJEIGIJEBMFAITKWWCAPCDNKHOHEICXJTLQVOMFVPGTENJWIYSXTBVGRGITOYYGUEWVCLURV'\n",
    "\n",
    "DFSA = 'JMJVFVQAHXRNNDCYIFDENDBHQNJAIEWLLHFAGMTWBNTHXDXGIHKDXAVIOXZXDREAUOJOMYVJKTZPTPMKZBDNKZYFYAURFOVOTZSQVBTHCIYWPIAVSPUZNKZHUPODGIOXDMXWBQFRACWDQIIUNSMSKBGWUYKUVRFXVIWABDCEQMMSPRIPPURXGCAHHATOXBGYBOOMEHTNPBLBKKTWRWMFZTHVNSZZWELDMHOLAMUNDOHOLAMUNDOHOLAMUNDOHOLAMUNDOHOLAMUNDOHOLAMUNDOHOLAMUNDOHOLAMUNDOHOLAMUNDOHOLAMUNDOHOLAMUNDOHOLAMUNDOHOLAMUNDOHOLAMUNDOHOLAMUNDOHOLAMUNDOHOLAMUNDOHOLAMUNDOHOLAMUNDOHOLAMUNDOHOLAMUNDOHOLAMUNDOHOLAMUNDOHOLAMUNDOHOLAMUNDOHOLAMUNDOHOLAMUNDOHOLAMUNDOHOLAMUNDOHOLAMUNDOHOLAMUNDOHOLAMUNDOHOLAMUNDOHOLAMUNDOHOLAMUNDOHOLAMUNDOHOLAMUNDOHOLAMUNDOHOLAMUNDOHOLAMUNDOHOLAMUNDOHOLAMUNDOHOLAMUNDOHOLAMUNDOHOLAMUNDOHOLAMUNDOHOLAMUNDOHOLAMUNDOHOLAMUNDOHOLAMUNDOHOLAMUNDOHOLAMUNDOHOLAMUNDOHOLAMUNDOHOLAMUNDO'\n",
    "mens = 'VQATANPYKOEUMGOHUSLVVGKABCSSGXPYIBGGWWIPYAAGBRMPKWGJBULUNOOORLZESYYCSSKLAFUGLQOQHIXTJDHUHWJQHMLRUCAZRJMYODVEVLHGVVYYYCMYIDIEWHJFIVUIYRKVWAYIIWOSQGCURDBNSLAOEKJSOEAGIQWLILDAICEHFMUIOJEITKZEBVTVNCZDIDWIGJYWUAJNZPEKWEKXBESNTLYXPBYZLSJJBGOYGUEOPAKNRAMOGFMRGJNIESDZBFLQCHTQHTKHODHHFLGERYDBWGBYLUVYDREKBYTJZXJDMKQETBOBJKNNUAIEGANSELBLFNEPLCPYLIIIPUNKYUCXRONESRWUVDVBXLEWERVLHSTYXEJZSFUSNYKGBWYTDONKFTOVWCGOYEWUMAJTULJHVDRABRAXDTFIBJRLRBMQASQFHFPUAFXNGWBOJPJNHWOPMWJMPGOXQRICIEFXOWDTRKKVYZHIXDGAYXEZGOKADWCHXYIJNJCIDLLHUJKATKRDXLPIGQIMQIEWLUXZPOXNOWKWQRBOKGPMCAXVBNEEOEOISFAZNOKVPIZDZBNCSRFGNMBENLSFUXGZOZTGONJCNBYJRKEEQHBPCPVGGMVDZCHRJPKKNVIHKIBFBIPTTJTPBICLPNCMAJRSDNIKAUTTOBYHRXJBKIJNSVGFKXZCNMJFMVKBRCZCNBZNOCKXJIDEYOHTRAKT'\n",
    "\n",
    "#print(enigma('ENIGMAREVEALED','MCK'))\n",
    "\n",
    "print(enigma(mens,'DIE'))\n"
   ]
  },
  {
   "cell_type": "markdown",
   "metadata": {},
   "source": [
    "El resultado esperado es:\n",
    "```python\n",
    "ENIGMAREVEALED\n",
    "```"
   ]
  },
  {
   "cell_type": "markdown",
   "metadata": {},
   "source": [
    "<font color='red'>NOTA: </font>El texto cifrado y la clave serán dadas al final del curso"
   ]
  },
  {
   "cell_type": "code",
   "execution_count": null,
   "metadata": {},
   "outputs": [],
   "source": []
  },
  {
   "cell_type": "code",
   "execution_count": null,
   "metadata": {},
   "outputs": [],
   "source": []
  },
  {
   "cell_type": "code",
   "execution_count": null,
   "metadata": {},
   "outputs": [],
   "source": []
  }
 ],
 "metadata": {
  "kernelspec": {
   "display_name": "Python 3",
   "language": "python",
   "name": "python3"
  },
  "language_info": {
   "codemirror_mode": {
    "name": "ipython",
    "version": 3
   },
   "file_extension": ".py",
   "mimetype": "text/x-python",
   "name": "python",
   "nbconvert_exporter": "python",
   "pygments_lexer": "ipython3",
   "version": "3.7.5"
  }
 },
 "nbformat": 4,
 "nbformat_minor": 2
}
