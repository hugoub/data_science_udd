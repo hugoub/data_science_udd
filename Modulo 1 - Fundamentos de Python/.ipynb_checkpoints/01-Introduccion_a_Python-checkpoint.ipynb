{
 "cells": [
  {
   "cell_type": "markdown",
   "metadata": {
    "colab_type": "text",
    "id": "-rpusNtuDVaW"
   },
   "source": [
    "# 01-Introducción a Python\n",
    "\n"
   ]
  },
  {
   "cell_type": "markdown",
   "metadata": {
    "colab_type": "text",
    "id": "mjIsZWL5DVaY"
   },
   "source": [
    "El veterano pytonista Tim Peters, canaliza sucintamente los principios rectores para el diseño de Python en 19 aforismos. Se le conoce como **El Zen de Python**."
   ]
  },
  {
   "cell_type": "markdown",
   "metadata": {
    "colab_type": "text",
    "id": "prtxHZZtDVaY"
   },
   "source": [
    "# El Zen de Python"
   ]
  },
  {
   "cell_type": "code",
   "execution_count": null,
   "metadata": {
    "colab": {},
    "colab_type": "code",
    "id": "HXQxXmOADVaZ"
   },
   "outputs": [],
   "source": [
    "# El Zen de Python\n",
    "import this"
   ]
  },
  {
   "cell_type": "markdown",
   "metadata": {
    "colab_type": "text",
    "id": "P_vSPDFHDVae"
   },
   "source": [
    "# Variables"
   ]
  },
  {
   "cell_type": "markdown",
   "metadata": {
    "colab_type": "text",
    "id": "k3GiU9p5DVaf"
   },
   "source": [
    "Un nombre que se usa para denotar algo o un valor se llama variable. En Python, las variables se pueden declarar y se le pueden asignar valores de la siguiente manera,\n",
    "\n",
    "\n",
    "\n",
    "```\n",
    "x = 2\n",
    "y = 5\n",
    "xy = 'Hey'\n",
    "```\n",
    "\n"
   ]
  },
  {
   "cell_type": "code",
   "execution_count": null,
   "metadata": {
    "colab": {},
    "colab_type": "code",
    "id": "bzpXwZn_DVag"
   },
   "outputs": [],
   "source": [
    "# "
   ]
  },
  {
   "cell_type": "code",
   "execution_count": null,
   "metadata": {
    "colab": {},
    "colab_type": "code",
    "id": "PaU78HFWDVak"
   },
   "outputs": [],
   "source": [
    "# Aquí usamos nuestra primera función: print()\n",
    "print(x+y, xy)"
   ]
  },
  {
   "cell_type": "markdown",
   "metadata": {
    "colab_type": "text",
    "id": "_KGMPxxyDVao"
   },
   "source": [
    "Multiples variables pueden ser asignadas con el mismo valor."
   ]
  },
  {
   "cell_type": "code",
   "execution_count": null,
   "metadata": {
    "colab": {},
    "colab_type": "code",
    "id": "zEZ2fGTzDVao"
   },
   "outputs": [],
   "source": [
    "x = y = 20"
   ]
  },
  {
   "cell_type": "code",
   "execution_count": null,
   "metadata": {
    "colab": {},
    "colab_type": "code",
    "id": "V-ZObWbEDVar"
   },
   "outputs": [],
   "source": [
    "print(x,y)"
   ]
  },
  {
   "cell_type": "markdown",
   "metadata": {
    "colab_type": "text",
    "id": "mWmeQgpuDVaw"
   },
   "source": [
    "Si has programado en otros lenguajes, probablemente aprendiste que las variables eran una suerte de \"caja\" en la cual guardabas algo. EN Python ese concepto es algo distinto. Mira:"
   ]
  },
  {
   "cell_type": "code",
   "execution_count": 1,
   "metadata": {
    "colab": {},
    "colab_type": "code",
    "id": "4KPyX6E2DVaw"
   },
   "outputs": [],
   "source": [
    "a = 1"
   ]
  },
  {
   "cell_type": "code",
   "execution_count": 2,
   "metadata": {
    "colab": {},
    "colab_type": "code",
    "id": "DzGk3hioDVa1"
   },
   "outputs": [
    {
     "data": {
      "text/plain": [
       "140729464877328"
      ]
     },
     "execution_count": 2,
     "metadata": {},
     "output_type": "execute_result"
    }
   ],
   "source": [
    "id(a)"
   ]
  },
  {
   "cell_type": "code",
   "execution_count": 3,
   "metadata": {
    "colab": {},
    "colab_type": "code",
    "id": "7YbuW-CzDVa4"
   },
   "outputs": [],
   "source": [
    "b = 1"
   ]
  },
  {
   "cell_type": "code",
   "execution_count": null,
   "metadata": {
    "colab": {},
    "colab_type": "code",
    "id": "UR78cTcWDVa7"
   },
   "outputs": [],
   "source": [
    "id(b)"
   ]
  },
  {
   "cell_type": "code",
   "execution_count": null,
   "metadata": {
    "colab": {},
    "colab_type": "code",
    "id": "7ZIyUzBeDVa_"
   },
   "outputs": [],
   "source": [
    "# Veamos si son iguales usando el operador ==\n",
    "id(a) == id(b)"
   ]
  },
  {
   "cell_type": "code",
   "execution_count": null,
   "metadata": {
    "colab": {},
    "colab_type": "code",
    "id": "KDLyaNX-DVbC"
   },
   "outputs": [],
   "source": [
    "id(1)"
   ]
  },
  {
   "cell_type": "code",
   "execution_count": null,
   "metadata": {
    "colab": {},
    "colab_type": "code",
    "id": "28g2kmblDVbO"
   },
   "outputs": [],
   "source": [
    "id(a) == id(b) == id(1)"
   ]
  },
  {
   "cell_type": "markdown",
   "metadata": {
    "colab_type": "text",
    "id": "C0QPbtlfDVba"
   },
   "source": [
    "# Operadores"
   ]
  },
  {
   "cell_type": "markdown",
   "metadata": {
    "colab_type": "text",
    "id": "pTRtjF7ADVbc"
   },
   "source": [
    "## Operadores aritméticos"
   ]
  },
  {
   "cell_type": "markdown",
   "metadata": {
    "colab_type": "text",
    "id": "4HDGWwH6DVbl"
   },
   "source": [
    "| Símbolo | Tarea ejecutada |\n",
    "|:---:|---:|\n",
    "| +  | Suma |\n",
    "| -  | Resta |\n",
    "| /  | División |\n",
    "| %  | Módulo |\n",
    "| *  | Multiplicación |\n",
    "| //  | Función de parte entera - Piso |\n",
    "| **  | Potencia |"
   ]
  },
  {
   "cell_type": "code",
   "execution_count": null,
   "metadata": {
    "colab": {},
    "colab_type": "code",
    "id": "p26TAC6UDVbm"
   },
   "outputs": [],
   "source": [
    "# Suma\n",
    "1 + 2"
   ]
  },
  {
   "cell_type": "code",
   "execution_count": null,
   "metadata": {
    "colab": {},
    "colab_type": "code",
    "id": "wRKAjOBnDVb5"
   },
   "outputs": [],
   "source": [
    "# Resta\n",
    "2 - 1"
   ]
  },
  {
   "cell_type": "code",
   "execution_count": null,
   "metadata": {
    "colab": {},
    "colab_type": "code",
    "id": "YxY01JDkDVcF"
   },
   "outputs": [],
   "source": [
    "# Multiplicación\n",
    "1 * 2"
   ]
  },
  {
   "cell_type": "code",
   "execution_count": null,
   "metadata": {
    "colab": {},
    "colab_type": "code",
    "id": "UAi7xcLTDVcU"
   },
   "outputs": [],
   "source": [
    "# División\n",
    "1 / 2"
   ]
  },
  {
   "cell_type": "code",
   "execution_count": null,
   "metadata": {
    "colab": {},
    "colab_type": "code",
    "id": "DebymVOYDVdC"
   },
   "outputs": [],
   "source": [
    "# División. Entrega muchos decimales\n",
    "3 / 7"
   ]
  },
  {
   "cell_type": "code",
   "execution_count": null,
   "metadata": {
    "colab": {},
    "colab_type": "code",
    "id": "AbYfcKfKDVdS"
   },
   "outputs": [],
   "source": [
    "# Módulo\n",
    "15 % 6"
   ]
  },
  {
   "cell_type": "markdown",
   "metadata": {
    "colab_type": "text",
    "id": "aO8RCwVODVdg"
   },
   "source": [
    "La división de piso no es más que convertir el resultado así obtenido al número entero más cercano."
   ]
  },
  {
   "cell_type": "code",
   "execution_count": null,
   "metadata": {
    "colab": {},
    "colab_type": "code",
    "id": "ldAU98KWDVdh"
   },
   "outputs": [],
   "source": [
    "# Floor division\n",
    "15 // 6"
   ]
  },
  {
   "cell_type": "markdown",
   "metadata": {
    "colab_type": "text",
    "id": "v4dAy8YaDVd5"
   },
   "source": [
    "## Operadores relacionales"
   ]
  },
  {
   "cell_type": "markdown",
   "metadata": {
    "colab_type": "text",
    "id": "O2WnGshPDVd8"
   },
   "source": [
    "|   Símbolo   | Tarea ejecutada |\n",
    "|:-----:|---|\n",
    "| == | igual |\n",
    "| !=  | no igual |\n",
    "| < | menor que |\n",
    "| > | mayor que |\n",
    "| <=  | menor o igual queo |\n",
    "| >=  | mayor o igual que |"
   ]
  },
  {
   "cell_type": "code",
   "execution_count": null,
   "metadata": {
    "colab": {},
    "colab_type": "code",
    "id": "Q8dEchHZDVd9"
   },
   "outputs": [],
   "source": [
    "z = 1"
   ]
  },
  {
   "cell_type": "code",
   "execution_count": null,
   "metadata": {
    "colab": {},
    "colab_type": "code",
    "id": "ZxGKjklVDVeL"
   },
   "outputs": [],
   "source": [
    "print(z)"
   ]
  },
  {
   "cell_type": "code",
   "execution_count": null,
   "metadata": {
    "colab": {},
    "colab_type": "code",
    "id": "ooyimhBiDVea"
   },
   "outputs": [],
   "source": [
    "z == 2"
   ]
  },
  {
   "cell_type": "code",
   "execution_count": null,
   "metadata": {
    "colab": {},
    "colab_type": "code",
    "id": "ZZhsh2GrDVej"
   },
   "outputs": [],
   "source": [
    "z >= 1"
   ]
  },
  {
   "cell_type": "code",
   "execution_count": null,
   "metadata": {
    "colab": {},
    "colab_type": "code",
    "id": "zQXF0MrxDVev"
   },
   "outputs": [],
   "source": [
    "z == 1.0"
   ]
  },
  {
   "cell_type": "code",
   "execution_count": null,
   "metadata": {
    "colab": {},
    "colab_type": "code",
    "id": "MfdFG96yDVe_"
   },
   "outputs": [],
   "source": [
    "id(z) == id(1.0)"
   ]
  },
  {
   "cell_type": "markdown",
   "metadata": {
    "colab_type": "text",
    "id": "F4Pcg4vLDVfw"
   },
   "source": [
    "## Algunas funciones interesantes"
   ]
  },
  {
   "cell_type": "markdown",
   "metadata": {
    "colab_type": "text",
    "id": "DkzH1NHkDVfz"
   },
   "source": [
    "Veamos qué es una función primero.\n",
    "\n",
    "**Función**: Una función es un bloque de código con un nombre asociado, que recibe cero o más argumentos como entrada, sigue una secuencia de sentencias, la cuales ejecuta una operación deseada y devuelve un valor y/o realiza una tarea, este bloque puede ser llamados cuando se necesite.\n",
    "\n",
    "Python implementa muchas funciones en sus librerías básicas. \n",
    "\n",
    "A continuación algunas de ellas:"
   ]
  },
  {
   "cell_type": "markdown",
   "metadata": {
    "colab_type": "text",
    "id": "0s9w-LhZDVfz"
   },
   "source": [
    "**round( )** esta función redondea el valor de entrada a un número específico de lugares o al número entero más cercano."
   ]
  },
  {
   "cell_type": "code",
   "execution_count": null,
   "metadata": {
    "colab": {},
    "colab_type": "code",
    "id": "APvwG8HhDVf2"
   },
   "outputs": [],
   "source": [
    "round(3.1415)"
   ]
  },
  {
   "cell_type": "markdown",
   "metadata": {
    "colab_type": "text",
    "id": "1Fol-OUlDVgA"
   },
   "source": [
    "TIP: en Python, como en muchos lenguajes de programación, la separación de unidades de mil y decimales es con notación inglesa; i.e., se utilizan comas para las unidades de mil y punto para los decimales."
   ]
  },
  {
   "cell_type": "code",
   "execution_count": null,
   "metadata": {
    "colab": {},
    "colab_type": "code",
    "id": "qkyA4aZZDVgB"
   },
   "outputs": [],
   "source": [
    "print(round(5.6231)) \n",
    "print(round(4.55892, 3))"
   ]
  },
  {
   "cell_type": "code",
   "execution_count": null,
   "metadata": {
    "colab": {},
    "colab_type": "code",
    "id": "2oY4PnOSDVgK"
   },
   "outputs": [],
   "source": [
    "print(round(1.1234567,5))\n",
    "print(round(1.5))"
   ]
  },
  {
   "cell_type": "markdown",
   "metadata": {
    "colab_type": "text",
    "id": "9m4O4ZLvDVgw"
   },
   "source": [
    "**type()** la función *type()* es probablemente las más usada en Python; ella nos entrega en tipo de objeto que estamos manejando."
   ]
  },
  {
   "cell_type": "code",
   "execution_count": null,
   "metadata": {
    "colab": {},
    "colab_type": "code",
    "id": "OZp2Ykg4DVgw"
   },
   "outputs": [],
   "source": [
    "b = 10"
   ]
  },
  {
   "cell_type": "code",
   "execution_count": null,
   "metadata": {
    "colab": {},
    "colab_type": "code",
    "id": "_f-nYGLrDVg1"
   },
   "outputs": [],
   "source": [
    "type(b)"
   ]
  },
  {
   "cell_type": "code",
   "execution_count": null,
   "metadata": {
    "colab": {},
    "colab_type": "code",
    "id": "jJYlyLmXDVg4"
   },
   "outputs": [],
   "source": [
    "type(\"Hola mundo\")"
   ]
  },
  {
   "cell_type": "code",
   "execution_count": null,
   "metadata": {
    "colab": {},
    "colab_type": "code",
    "id": "TVfjQds0DVg8"
   },
   "outputs": [],
   "source": [
    "c = 3\n",
    "d = b / c"
   ]
  },
  {
   "cell_type": "code",
   "execution_count": null,
   "metadata": {
    "colab": {},
    "colab_type": "code",
    "id": "IODLlRUgDVhD"
   },
   "outputs": [],
   "source": [
    "type(d)"
   ]
  },
  {
   "cell_type": "markdown",
   "metadata": {
    "colab_type": "text",
    "id": "pYIIcR75DVhI"
   },
   "source": [
    "**range()** esta función crea una lista de elementos del tipo *range*"
   ]
  },
  {
   "cell_type": "code",
   "execution_count": null,
   "metadata": {
    "colab": {},
    "colab_type": "code",
    "id": "7e3DWwiuDVhJ"
   },
   "outputs": [],
   "source": [
    "range(3)\n",
    "#range(2,9)\n",
    "#range(2,27,8)"
   ]
  },
  {
   "cell_type": "code",
   "execution_count": null,
   "metadata": {
    "colab": {},
    "colab_type": "code",
    "id": "JaBOS3-GDVhO"
   },
   "outputs": [],
   "source": [
    "type(range(3))"
   ]
  },
  {
   "cell_type": "code",
   "execution_count": null,
   "metadata": {
    "colab": {},
    "colab_type": "code",
    "id": "VKyXnsTLDVhZ"
   },
   "outputs": [],
   "source": [
    "len(range(3))"
   ]
  },
  {
   "cell_type": "code",
   "execution_count": null,
   "metadata": {
    "colab": {},
    "colab_type": "code",
    "id": "RNv5iEqkDVhf"
   },
   "outputs": [],
   "source": [
    "# Guardemos el resultado de range en una variable\n",
    "r = range(2,9)"
   ]
  },
  {
   "cell_type": "code",
   "execution_count": null,
   "metadata": {
    "colab": {},
    "colab_type": "code",
    "id": "Y0uC7kceDVhn"
   },
   "outputs": [],
   "source": [
    "# Verifiquemos el tipo\n",
    "type(r)"
   ]
  },
  {
   "cell_type": "code",
   "execution_count": null,
   "metadata": {
    "colab": {},
    "colab_type": "code",
    "id": "MLqLDQpfDVht"
   },
   "outputs": [],
   "source": [
    "id(r) == id(range(2,9))"
   ]
  },
  {
   "cell_type": "code",
   "execution_count": null,
   "metadata": {
    "colab": {},
    "colab_type": "code",
    "id": "edMwr-enDVhy"
   },
   "outputs": [],
   "source": [
    "id(range(2,9))"
   ]
  },
  {
   "cell_type": "code",
   "execution_count": null,
   "metadata": {
    "colab": {},
    "colab_type": "code",
    "id": "28yXAnQJDVh6"
   },
   "outputs": [],
   "source": [
    "id(range(2,9))"
   ]
  },
  {
   "cell_type": "markdown",
   "metadata": {
    "colab_type": "text",
    "id": "PpuxjkwEDViC"
   },
   "source": [
    "**help()** La función *help()* nos entrega una descripción detallada de la function pasada como argumento"
   ]
  },
  {
   "cell_type": "code",
   "execution_count": null,
   "metadata": {
    "colab": {},
    "colab_type": "code",
    "id": "RjdaUoCUDViF"
   },
   "outputs": [],
   "source": [
    "help(range)"
   ]
  },
  {
   "cell_type": "code",
   "execution_count": null,
   "metadata": {
    "colab": {},
    "colab_type": "code",
    "id": "wtb_bNOXDViL"
   },
   "outputs": [],
   "source": [
    "range?"
   ]
  },
  {
   "cell_type": "markdown",
   "metadata": {
    "colab_type": "text",
    "id": "kk8b97thDViO"
   },
   "source": [
    "## Guía de estilos para el código de Python"
   ]
  },
  {
   "cell_type": "markdown",
   "metadata": {
    "colab_type": "text",
    "id": "j-XQ2pU0DViP"
   },
   "source": [
    "Python posee un Programa de Mejoas llamado **PEP** (Python Enhancement program). Cada uso de los edictos que salen de este equipo llevan una codificación del estilo **PEP-*numero_correlativo**\n",
    "\n",
    "El **PEP-8** (muy famoso) nos habla de la [**Guía de estilo para el código Python**](http://recursospython.com/pep8es.pdf). \n",
    "\n",
    "## <font color='green'>Tarea:</font> Escribe tres estilos de Python a elección\n",
    "La tarea consiste en leer el documento adjunto y escribir utilizando Markdown 3 de los estilos que más te llamen la atención."
   ]
  },
  {
   "cell_type": "code",
   "execution_count": null,
   "metadata": {
    "colab": {},
    "colab_type": "code",
    "id": "1JW-Jc0wDViQ"
   },
   "outputs": [],
   "source": [
    "# Tu Markdown aquí ...\n"
   ]
  },
  {
   "cell_type": "code",
   "execution_count": null,
   "metadata": {
    "colab": {},
    "colab_type": "code",
    "id": "NfvZYFCODViT"
   },
   "outputs": [],
   "source": []
  }
 ],
 "metadata": {
  "colab": {
   "name": "01-Introduccion_a_Python.ipynb",
   "provenance": []
  },
  "kernelspec": {
   "display_name": "Python 3",
   "language": "python",
   "name": "python3"
  },
  "language_info": {
   "codemirror_mode": {
    "name": "ipython",
    "version": 3
   },
   "file_extension": ".py",
   "mimetype": "text/x-python",
   "name": "python",
   "nbconvert_exporter": "python",
   "pygments_lexer": "ipython3",
   "version": "3.7.5"
  }
 },
 "nbformat": 4,
 "nbformat_minor": 1
}
