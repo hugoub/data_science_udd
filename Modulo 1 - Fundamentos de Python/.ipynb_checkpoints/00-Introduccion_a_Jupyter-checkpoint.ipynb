{
 "cells": [
  {
   "cell_type": "markdown",
   "metadata": {
    "colab_type": "text",
    "id": "MHa5tAX2-94f"
   },
   "source": [
    "# 00- Introducción a Jupyter"
   ]
  },
  {
   "cell_type": "markdown",
   "metadata": {
    "colab_type": "text",
    "id": "zlXczNPu-94m"
   },
   "source": [
    "## Introducción"
   ]
  },
  {
   "cell_type": "markdown",
   "metadata": {
    "colab_type": "text",
    "id": "rfCvSqTm-94r"
   },
   "source": [
    "<img src='https://drive.google.com/uc?export=view&id=1Q8gwKDCyMIxaeWJjML0hKzyf-yQ6A1AK' width=\"200\" align=\"left\" style=\"margin-right: 20px\"> \n",
    "<br>\n",
    "<p style=\"font-size:8pt\"> \n",
    "\n",
    "Imagen gentileza de: Cameron Oelsen</p>\n"
   ]
  },
  {
   "cell_type": "markdown",
   "metadata": {
    "colab_type": "text",
    "id": "cgoCxM-7-94w"
   },
   "source": [
    "**Jupyter** es un shell de comandos para computación interactiva en múltiples lenguajes de programación. Fue desarrollado originalmente para el lenguaje de programación Python. Oofrece una manera fácil de aprender a codificar.\n",
    "\n",
    "¡Jupyter es un software de código abierto!\n",
    "\n",
    "El cuaderno Jupyter, **Jupyter Notebook**, se utiliza en todas las áreas de investigación académica (UC Berkeley, Stanford, UW, NYU, Cal Poly, etc.) y gubernamental (NASA JPL, KBase), así como en la industria (IBM, Facebook, Microsoft, Bloomberg, JP). Morgan, WhatsApp, Quantopian, GraphLab, Enthought, Continuum, Telefónicaetc.) Y en escuelas secundarias (Highlands Montessori School).\n",
    "\n",
    "### ¿De dónde viene el nombre?\n",
    "\n",
    "El nombre tiene su origen en algunos lugares diferentes.\n",
    "\n",
    "Primero, los nombres provienen del planeta Júpiter. Queríamos elegir un nombre que evocara las tradiciones y las ideas de la ciencia.\n",
    "\n",
    "En segundo lugar, los lenguajes de programación básicos admitidos por Jupyter son Julia, Python y R. Si bien el nombre Jupyter no es un acrónimo directo de estos lenguajes, asiente en esas direcciones. En particular, la \"y\" en medio de Jupyter fue elegida para honrar nuestra herencia de Python. \n",
    "\n",
    "En tercer lugar, Galileo fue la primera persona en descubrir las lunas de Júpiter. Su publicación sobre las lunas de Júpiter es un ejemplo temprano de investigación que incluye los datos subyacentes en la publicación. Ésta es una de las ideas y requisitos centrales para la reproducibilidad científica. La reproducibilidad es uno de los ejes principales de nuestro proyecto."
   ]
  },
  {
   "cell_type": "markdown",
   "metadata": {
    "colab_type": "text",
    "id": "9XQcNIdt-940"
   },
   "source": [
    "Más información en [Proyecto Jupyter](https://es.wikipedia.org/wiki/Proyecto_Jupyter)"
   ]
  },
  {
   "cell_type": "markdown",
   "metadata": {
    "colab_type": "text",
    "id": "OmQZgxs5-942"
   },
   "source": [
    "## Qué es Python?\n",
    " \n",
    "\n",
    "![Recurrence](https://drive.google.com/uc?export=view&id=1qORNLuFzC-albMxrO8tZ999vXCUGQFWL)\n",
    "\n"
   ]
  },
  {
   "cell_type": "markdown",
   "metadata": {
    "colab_type": "text",
    "id": "4ZAkcrHZ-945"
   },
   "source": [
    "Python es un lenguaje de programación de alto nivel moderno, robusto y ampliamente usado un diferentes disciplinas. Es muy sencillo de aprender, aún si eres muy novato programando.\n",
    "Fue creado por [Guido van Rossum](https://es.wikipedia.org/wiki/Guido_van_Rossum).\n",
    "\n",
    "\n",
    "<img src='https://drive.google.com/uc?export=view&id=1jCe5neiHrDpNGvWJ3NC1W-14F5FnnGnZ' width=\"200\" align=\"left\" style=\"margin-right: 20px\"> \n",
    "<br>\n",
    "<p style=\"font-size:8pt\"> Imagen gentileza de: Doc Searls</p>"
   ]
  },
  {
   "cell_type": "markdown",
   "metadata": {
    "colab_type": "text",
    "id": "gz4rWdiH-947"
   },
   "source": [
    "Quieres saber más de Python:\n",
    "    \n",
    "* Puedes ir al [sitio oficial](https://www.python.org/)\n",
    "* Leer un poco de su autor y de su historia en [Wikipedia: Python](https://es.wikipedia.org/wiki/Python)"
   ]
  },
  {
   "cell_type": "markdown",
   "metadata": {
    "colab_type": "text",
    "id": "q6s7xp8R-949"
   },
   "source": [
    "## Ejecutar Jupyter Notebook"
   ]
  },
  {
   "cell_type": "markdown",
   "metadata": {
    "colab_type": "text",
    "id": "I7c-9Z78-95A"
   },
   "source": [
    "### A. Trabajo en modo local\n",
    "\n",
    "**Opción 1:** Desde el terminal, escribe\n",
    "\n",
    "    jupyter notebook\n",
    "\n",
    "**Opción 2:** Si has instalado la distribución **Anaconda**, ejecuta el ícono de **Anaconda Navigator** y ejecuta la aplicación **Jupyter Notebook**\n",
    "\n",
    "### B. Trabajo desde la nube\n",
    "\n",
    "**Opción 3:** En tu navegado Chrome ejecuta\n",
    "    \n",
    "    https://colab.research.google.com/\n"
   ]
  },
  {
   "cell_type": "markdown",
   "metadata": {
    "colab_type": "text",
    "id": "7HjHU6dy-95D"
   },
   "source": [
    "# Utilizando Jupyter Notebooks"
   ]
  },
  {
   "cell_type": "markdown",
   "metadata": {
    "colab_type": "text",
    "id": "Hy0hRmJN-95E"
   },
   "source": [
    "Cada notebook está compuesto por una serie de celdas de trabajo. Cada celda tiene dos modos de funcionamiento:\n",
    "- Code Mode\n",
    "- Markdown (text) mode\n",
    "\n",
    "Para pasar de un modo a otro debes presionar la tecla *\\<esc\\>* y luego la tecla *\\<Y\\>* (para pasar a modo *Code*), o la tecla *\\<M\\>* (para pasar a modo *Markdown*)\n",
    "\n",
    "La siguiete celda está en como código. Para ejecutarla debes presionar las teclas *\\<Shift + Enter\\>*"
   ]
  },
  {
   "cell_type": "code",
   "execution_count": null,
   "metadata": {
    "colab": {},
    "colab_type": "code",
    "id": "Db84M755-95G"
   },
   "outputs": [],
   "source": [
    "# Esta es una celda de código; se caracteriza porque a su izquierda tiene un par de corchetes []\n",
    "print(\"Hola mundo\")"
   ]
  },
  {
   "cell_type": "markdown",
   "metadata": {
    "colab_type": "text",
    "id": "9cLlkPeL-95T"
   },
   "source": [
    "Algunos atajos de teclado útiles en Colab:\n",
    "\n",
    "\n",
    "| Atajo de teclado | Resultado|\n",
    "|:----------------:|:--------:|\n",
    "|  ctrl M-Y            | toggle cell to code |\n",
    "|  ctrl M-M            | toggle cell to markdown |\n",
    "|  Z            | undo last cell deletion |\n",
    "|  tab          | code completion or indent |\n",
    "|  Ctrl-J       | indent |\n",
    "|  Ctrl-A       | select all |\n",
    "|  esc          | command mode |\n",
    "|  Shift-Enter  | run cell |\n",
    "|  1            | para Títulos de tamaño 1 |\n",
    "|  2            | para Títulos de tamaño 2 |\n",
    "|  A            | insertar una celda arriba de la actual |\n",
    "|  B            | insertar una celda debajo de la actual |\n",
    "|  C            | copiar la celda actual |\n",
    "|  V            | pegar debajo |\n",
    "|  cmd/ctrl M-D      | borra la celda actual |\n",
    "|  Ctrl-S       | graba y genera un Checkpoint |\n",
    "|  O            | cambia alaternadamente de salida detallada a resumida |\n",
    "|  I            | (doble I) interrumpe el kernel |\n",
    "\n"
   ]
  },
  {
   "cell_type": "markdown",
   "metadata": {
    "colab_type": "text",
    "id": "6NXrd3ua-95V"
   },
   "source": [
    "<font color='green'>Para ver el contenido de las siguientes celdas en modo Markdown, haz doble click en ellas.</font>"
   ]
  },
  {
   "cell_type": "markdown",
   "metadata": {
    "colab_type": "text",
    "id": "cCikDVy6-950"
   },
   "source": [
    "# Título principal (Título 1)\n",
    "## Subtítulo (Título 2)\n",
    "### Título de nivel 3\n",
    "#### Y así sucesivamente"
   ]
  },
  {
   "cell_type": "markdown",
   "metadata": {
    "colab_type": "text",
    "id": "K-G2Lqja-952"
   },
   "source": [
    "Puedes usar \n",
    "\n",
    "*letras cursivas*\to\n",
    "\n",
    "**letras en negritas**\n",
    "\n",
    "Puedes definir listas con números:\n",
    "\n",
    "1. Item 1\n",
    "2. Item 2\n",
    "\n",
    "o con bullets\n",
    "\n",
    "* Item \n",
    "* Another item"
   ]
  },
  {
   "cell_type": "markdown",
   "metadata": {
    "colab_type": "text",
    "id": "sKn_Qh5u-953"
   },
   "source": [
    "Podemos incluir referencias a sitios webs como esta: [UDD](https://www.udd.cl)\n"
   ]
  },
  {
   "cell_type": "markdown",
   "metadata": {
    "colab_type": "text",
    "id": "aNvhmw35-954"
   },
   "source": [
    "# Más cosas"
   ]
  },
  {
   "cell_type": "markdown",
   "metadata": {
    "colab_type": "text",
    "id": "CK8ZiSyr-956"
   },
   "source": [
    "## Las salidas (outputs) de las celdas son asíncronas\n",
    "Esto quiere decir que los resultados se ven conforme se van generando en el kernel. Ejecuta el siguiente código (\\<Shift+Enter\\>)"
   ]
  },
  {
   "cell_type": "code",
   "execution_count": null,
   "metadata": {
    "colab": {},
    "colab_type": "code",
    "id": "Wzh-NWcl-957"
   },
   "outputs": [],
   "source": [
    "import time, sys\n",
    "for i in range(8):\n",
    "    print(i)\n",
    "    time.sleep(0.5)"
   ]
  },
  {
   "cell_type": "markdown",
   "metadata": {
    "colab_type": "text",
    "id": "l3MBw-PD-96C"
   },
   "source": [
    "## Salidas grandes\n",
    "Para manejar mejor las salidas grandes, el área de salida se puede contraer. Ejecute la siguiente celda y luego haga clic simple o doble en el área activa a la izquierda de la salida:"
   ]
  },
  {
   "cell_type": "code",
   "execution_count": null,
   "metadata": {
    "colab": {},
    "colab_type": "code",
    "id": "Gt3_c-ME-96E"
   },
   "outputs": [],
   "source": [
    "for i in range(50):\n",
    "    print(i)"
   ]
  },
  {
   "cell_type": "markdown",
   "metadata": {
    "colab_type": "text",
    "id": "Bhxl6vAf-96K"
   },
   "source": [
    "Pero a partir de cierto punto, la salida comienza  a hacer \"scrolling\" automáticamente: "
   ]
  },
  {
   "cell_type": "code",
   "execution_count": null,
   "metadata": {
    "colab": {},
    "colab_type": "code",
    "id": "WpnooT9V-96N",
    "scrolled": true
   },
   "outputs": [],
   "source": [
    "for i in range(500):\n",
    "    print(2**i - 1)"
   ]
  },
  {
   "cell_type": "markdown",
   "metadata": {
    "colab_type": "text",
    "id": "puDAEOVY-96W"
   },
   "source": [
    "## Tablas\n",
    "\n",
    "Podemos introducir tablas fácilmente. \n",
    "\n",
    "| Esta | es   |\n",
    "|------|------|\n",
    "| una  | tabla|\n"
   ]
  },
  {
   "cell_type": "markdown",
   "metadata": {
    "colab_type": "text",
    "id": "HvC3kgLubReY"
   },
   "source": [
    "## Podemos hacer llamadas a otros notebooks\n",
    "\n",
    "Siguiente Notebook: [01-Introduccion_a_Python.ipynb](https://drive.google.com/file/d/1kBQ9TH65xOjq9rjmYe0-adKcON464kCG/view?usp=sharing)"
   ]
  },
  {
   "cell_type": "markdown",
   "metadata": {
    "colab_type": "text",
    "id": "Ogsc__Z3MBvu"
   },
   "source": [
    "# <font color='blue'>Tiempo de revisión grupal</font>\n",
    "La **Bitácora Grupal** es la herramienta de evaluación de este curso. La misma estará conformada por todos los **Notebooks Grupales** de cada una de las clases y módulos del curso. Los grupos de trabajo deben desarrollarla de forma colaborativa y creativa.\n",
    "\n",
    "Rúbrica de la **Bitácora Grupal** y de los **Notebook Grupal** que la componen:\n",
    "* El notebook se ve ordenado y con una secuencia lógica y limpia.\n",
    "* El notebook no tiene celdas en blanco innecesarias.\n",
    "* El notebook no tiene celdas con errores, salvo aquellas en las que explícitamente queremos mostrar un error.\n",
    "* Todos los ejercicios propuestos están correctamente desarrollados.\n",
    "* Los ejercicios tiene comentarios y reflexiones del grupo.\n",
    "* El notebook tiene abundantes comentarios explicativos del código.\n",
    "* El notebook tiene una sección adicional, creada por el grupo, con experimentos de los alumnos relativos al contenido del mismo.\n",
    "* La Bitácora Grupal, y por ende los notebooks que la componen, tiene aspectos creativos y novedoso que la diferencian significativamente de las de los demás grupos.\n"
   ]
  },
  {
   "cell_type": "code",
   "execution_count": null,
   "metadata": {
    "colab": {},
    "colab_type": "code",
    "id": "5RSMckZbbPRw"
   },
   "outputs": [],
   "source": []
  },
  {
   "cell_type": "markdown",
   "metadata": {
    "colab_type": "text",
    "id": "N-0eS5nacLi0"
   },
   "source": []
  }
 ],
 "metadata": {
  "colab": {
   "name": "00-Introduccion_a_Jupyter.ipynb",
   "provenance": []
  },
  "kernelspec": {
   "display_name": "Python 3",
   "language": "python",
   "name": "python3"
  },
  "language_info": {
   "codemirror_mode": {
    "name": "ipython",
    "version": 3
   },
   "file_extension": ".py",
   "mimetype": "text/x-python",
   "name": "python",
   "nbconvert_exporter": "python",
   "pygments_lexer": "ipython3",
   "version": "3.7.5"
  }
 },
 "nbformat": 4,
 "nbformat_minor": 1
}
