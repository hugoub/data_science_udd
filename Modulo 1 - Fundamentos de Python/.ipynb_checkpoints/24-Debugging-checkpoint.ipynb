{
 "cells": [
  {
   "cell_type": "markdown",
   "metadata": {
    "collapsed": true,
    "id": "Q4hd-uNw2yV0"
   },
   "source": [
    "# 24-Depurando nuestro programa (Debugging)\n",
    "\n",
    "Cubramos rápidamente el uso de la función de depuración (**debugging**) de Python para encontrar más fácilmente los errores en nuestro código."
   ]
  },
  {
   "cell_type": "markdown",
   "metadata": {
    "id": "quP5vnK82yV3"
   },
   "source": [
    "## Depurando con Python Debugger"
   ]
  },
  {
   "cell_type": "markdown",
   "metadata": {
    "collapsed": true,
    "id": "z-aKepH22yV7"
   },
   "source": [
    "Probablemente hayas utilizado una variedad de declaraciones de impresión para intentar encontrar errores en tu código. No te preocupes, es muy normal !!\n",
    "\n",
    "Una mejor forma de hacerlo es utilizando el módulo depurador incorporado de Python (**pdb**). El módulo pdb implementa un entorno de depuración interactivo para programas Python. Incluye funciones que le permiten pausar su programa, observar los valores de las variables y observar la ejecución del programa paso a paso, para que puedas comprender lo que hace realmente tu programa y encontrar errores en la lógica."
   ]
  },
  {
   "cell_type": "code",
   "execution_count": 1,
   "metadata": {
    "executionInfo": {
     "elapsed": 862,
     "status": "ok",
     "timestamp": 1602524132191,
     "user": {
      "displayName": "Hugo Hernan Ubilla Bustamante",
      "photoUrl": "",
      "userId": "11197695438559860471"
     },
     "user_tz": 180
    },
    "id": "B8my8dVv2yV-"
   },
   "outputs": [],
   "source": [
    "# Fabriquemos un error. Sumaremos un string con un entero (str + int)\n",
    "\n",
    "x = '1'\n",
    "y = 2\n",
    "z = 3"
   ]
  },
  {
   "cell_type": "code",
   "execution_count": 2,
   "metadata": {
    "colab": {
     "base_uri": "https://localhost:8080/",
     "height": 35
    },
    "executionInfo": {
     "elapsed": 850,
     "status": "ok",
     "timestamp": 1602524132195,
     "user": {
      "displayName": "Hugo Hernan Ubilla Bustamante",
      "photoUrl": "",
      "userId": "11197695438559860471"
     },
     "user_tz": 180
    },
    "id": "Sb6K2GRy2yWV",
    "outputId": "cd81a620-9704-4652-bb66-bf83e97f676d"
   },
   "outputs": [
    {
     "name": "stdout",
     "output_type": "stream",
     "text": [
      "5\n"
     ]
    }
   ],
   "source": [
    "result = y + z\n",
    "\n",
    "print(result)"
   ]
  },
  {
   "cell_type": "code",
   "execution_count": 3,
   "metadata": {
    "colab": {
     "base_uri": "https://localhost:8080/",
     "height": 227
    },
    "executionInfo": {
     "elapsed": 682,
     "status": "error",
     "timestamp": 1602524134077,
     "user": {
      "displayName": "Hugo Hernan Ubilla Bustamante",
      "photoUrl": "",
      "userId": "11197695438559860471"
     },
     "user_tz": 180
    },
    "id": "lzLeF-Kc2yWg",
    "outputId": "8bb9ea6b-d79b-421c-b493-ebc4542d6401"
   },
   "outputs": [
    {
     "ename": "TypeError",
     "evalue": "ignored",
     "output_type": "error",
     "traceback": [
      "\u001b[0;31m---------------------------------------------------------------------------\u001b[0m",
      "\u001b[0;31mTypeError\u001b[0m                                 Traceback (most recent call last)",
      "\u001b[0;32m<ipython-input-3-14639e445d83>\u001b[0m in \u001b[0;36m<module>\u001b[0;34m()\u001b[0m\n\u001b[1;32m      1\u001b[0m \u001b[0;31m# Esto dará un error. Obvio !!\u001b[0m\u001b[0;34m\u001b[0m\u001b[0;34m\u001b[0m\u001b[0;34m\u001b[0m\u001b[0m\n\u001b[1;32m      2\u001b[0m \u001b[0;34m\u001b[0m\u001b[0m\n\u001b[0;32m----> 3\u001b[0;31m \u001b[0mresult\u001b[0m \u001b[0;34m=\u001b[0m \u001b[0my\u001b[0m \u001b[0;34m+\u001b[0m \u001b[0mx\u001b[0m\u001b[0;34m\u001b[0m\u001b[0;34m\u001b[0m\u001b[0m\n\u001b[0m\u001b[1;32m      4\u001b[0m \u001b[0mprint\u001b[0m\u001b[0;34m(\u001b[0m\u001b[0mresult\u001b[0m\u001b[0;34m)\u001b[0m\u001b[0;34m\u001b[0m\u001b[0;34m\u001b[0m\u001b[0m\n",
      "\u001b[0;31mTypeError\u001b[0m: unsupported operand type(s) for +: 'int' and 'str'"
     ]
    }
   ],
   "source": [
    "# Esto dará un error. Obvio !!\n",
    "\n",
    "result = y + x\n",
    "print(result)"
   ]
  },
  {
   "cell_type": "markdown",
   "metadata": {
    "id": "D5tV0CVr2yWq"
   },
   "source": [
    "Ahora imagina que este pequeño trozo de código está en alguna parte de un programa con muchas líneas. Es posible que no sea evidente qué contienen las variables **x** e **y**. Y la ejecución nos dé un error.\n",
    "\n",
    "Python nos dice la línea en la que se encuentra el error y el tipo del mismo, pero no sabemos el origen. En nuestro ejemplo no sabríamos donde definimos mal la variable *x*."
   ]
  },
  {
   "cell_type": "code",
   "execution_count": null,
   "metadata": {
    "id": "cFQA4cs02yWr"
   },
   "outputs": [],
   "source": [
    "x = '1'\n",
    "y = 2\n",
    "z = 3\n",
    "\n",
    "# Imagina que aquí hay muchas líneas de cógigo\n",
    "#\n",
    "#\n",
    "# Muchas \n",
    "\n",
    "result = y + z\n",
    "print(result)\n",
    "\n",
    "# Y aquí más líneas de cógigo\n",
    "#\n",
    "#\n",
    "# Muchas\n",
    "\n",
    "result = y + x\n",
    "print(result)"
   ]
  },
  {
   "cell_type": "markdown",
   "metadata": {
    "id": "g0GITogf2yW0"
   },
   "source": [
    "\n",
    "Lo que puedes hacer es establecer un seguimiento (*trace*) en cualquier punto de tu código para jugar con las variables y ver cuáles son:"
   ]
  },
  {
   "cell_type": "markdown",
   "metadata": {
    "id": "x9yFZD8C2yW2"
   },
   "source": [
    "## Definiendo un *trace* con el modulo de depuración (*debugger module*)"
   ]
  },
  {
   "cell_type": "code",
   "execution_count": 2,
   "metadata": {
    "executionInfo": {
     "elapsed": 701,
     "status": "ok",
     "timestamp": 1602524207945,
     "user": {
      "displayName": "Hugo Hernan Ubilla Bustamante",
      "photoUrl": "",
      "userId": "11197695438559860471"
     },
     "user_tz": 180
    },
    "id": "hYoRzZVU2yW3"
   },
   "outputs": [],
   "source": [
    "import pdb"
   ]
  },
  {
   "cell_type": "code",
   "execution_count": null,
   "metadata": {
    "colab": {
     "base_uri": "https://localhost:8080/",
     "height": 319
    },
    "executionInfo": {
     "elapsed": 13048,
     "status": "error",
     "timestamp": 1602524394535,
     "user": {
      "displayName": "Hugo Hernan Ubilla Bustamante",
      "photoUrl": "",
      "userId": "11197695438559860471"
     },
     "user_tz": 180
    },
    "id": "jqB0JdGG2yXC",
    "outputId": "f60ee4c7-bb46-4783-c13b-227346f8f49c"
   },
   "outputs": [],
   "source": [
    "xx = '1'\n",
    "yy = 2\n",
    "zz = 3\n",
    "\n",
    "# Imagina que aquí hay muchas líneas de cógigo\n",
    "#\n",
    "#\n",
    "# Muchas \n",
    "\n",
    "result1 = yy + zz\n",
    "print(result1)\n",
    "\n",
    "cc = 3\n",
    "\n",
    "# Y aquí más líneas de cógigo\n",
    "#\n",
    "#\n",
    "# Muchas\n",
    "\n",
    "# Definimos un 'trace' usando Python Debugger\n",
    "pdb.set_trace()\n",
    "\n",
    "result2 = yy + xx\n",
    "print(result2)\n"
   ]
  },
  {
   "cell_type": "markdown",
   "metadata": {
    "id": "Cypxk-5N2yXJ"
   },
   "source": [
    "```python\n",
    "pdb.set_trace()\n",
    "```\n",
    "Detiene la ejecución del programa en este punto.\n",
    "\n",
    "Vuelve a ejecutar la celda anterior y práctica con algunos comandos útiles del *tracer*\n",
    "```python\n",
    "c --> continue\n",
    "s --> step\n",
    "b 12 --> set break point at line 12 and so on.\n",
    "```\n",
    "Encontrarás más en la documentación oficial de [pdb](https://docs.python.org/3/library/pdb.html#debugger-commands)"
   ]
  },
  {
   "cell_type": "markdown",
   "metadata": {
    "id": "4g_fSQJt2yXL"
   },
   "source": [
    "____"
   ]
  },
  {
   "cell_type": "markdown",
   "metadata": {
    "id": "0KmSiSOd2yXM"
   },
   "source": [
    "## Getting Dates and Times\n",
    "\n",
    "Let's show how you can get the current date or time from Python:"
   ]
  },
  {
   "cell_type": "code",
   "execution_count": 9,
   "metadata": {
    "executionInfo": {
     "elapsed": 624,
     "status": "ok",
     "timestamp": 1602524487057,
     "user": {
      "displayName": "Hugo Hernan Ubilla Bustamante",
      "photoUrl": "",
      "userId": "11197695438559860471"
     },
     "user_tz": 180
    },
    "id": "TY_aHKUx2yXO"
   },
   "outputs": [],
   "source": [
    "import datetime"
   ]
  },
  {
   "cell_type": "code",
   "execution_count": 10,
   "metadata": {
    "executionInfo": {
     "elapsed": 484,
     "status": "ok",
     "timestamp": 1602524488219,
     "user": {
      "displayName": "Hugo Hernan Ubilla Bustamante",
      "photoUrl": "",
      "userId": "11197695438559860471"
     },
     "user_tz": 180
    },
    "id": "TfBW44Cx2yXY"
   },
   "outputs": [],
   "source": [
    "t = datetime.time(1, 15, 5)"
   ]
  },
  {
   "cell_type": "code",
   "execution_count": 11,
   "metadata": {
    "colab": {
     "base_uri": "https://localhost:8080/",
     "height": 35
    },
    "executionInfo": {
     "elapsed": 524,
     "status": "ok",
     "timestamp": 1602524489330,
     "user": {
      "displayName": "Hugo Hernan Ubilla Bustamante",
      "photoUrl": "",
      "userId": "11197695438559860471"
     },
     "user_tz": 180
    },
    "id": "IQ55ffgs2yXf",
    "outputId": "7bcece67-ea08-4a04-ec31-85020c39108c"
   },
   "outputs": [
    {
     "data": {
      "text/plain": [
       "1"
      ]
     },
     "execution_count": 11,
     "metadata": {
      "tags": []
     },
     "output_type": "execute_result"
    }
   ],
   "source": [
    "t.hour"
   ]
  },
  {
   "cell_type": "code",
   "execution_count": 12,
   "metadata": {
    "colab": {
     "base_uri": "https://localhost:8080/",
     "height": 35
    },
    "executionInfo": {
     "elapsed": 489,
     "status": "ok",
     "timestamp": 1602524490248,
     "user": {
      "displayName": "Hugo Hernan Ubilla Bustamante",
      "photoUrl": "",
      "userId": "11197695438559860471"
     },
     "user_tz": 180
    },
    "id": "bGhb3mqe2yXm",
    "outputId": "7e9aeb69-8ffb-4797-cb0c-a0fe03526a2a"
   },
   "outputs": [
    {
     "data": {
      "text/plain": [
       "15"
      ]
     },
     "execution_count": 12,
     "metadata": {
      "tags": []
     },
     "output_type": "execute_result"
    }
   ],
   "source": [
    "t.minute"
   ]
  },
  {
   "cell_type": "code",
   "execution_count": 13,
   "metadata": {
    "colab": {
     "base_uri": "https://localhost:8080/",
     "height": 35
    },
    "executionInfo": {
     "elapsed": 767,
     "status": "ok",
     "timestamp": 1602524491189,
     "user": {
      "displayName": "Hugo Hernan Ubilla Bustamante",
      "photoUrl": "",
      "userId": "11197695438559860471"
     },
     "user_tz": 180
    },
    "id": "_QXpLxf32yXt",
    "outputId": "f6772e9b-3701-4c39-c94e-0ed948d4adeb"
   },
   "outputs": [
    {
     "data": {
      "text/plain": [
       "5"
      ]
     },
     "execution_count": 13,
     "metadata": {
      "tags": []
     },
     "output_type": "execute_result"
    }
   ],
   "source": [
    "t.second"
   ]
  },
  {
   "cell_type": "code",
   "execution_count": 14,
   "metadata": {
    "colab": {
     "base_uri": "https://localhost:8080/",
     "height": 35
    },
    "executionInfo": {
     "elapsed": 829,
     "status": "ok",
     "timestamp": 1602524491683,
     "user": {
      "displayName": "Hugo Hernan Ubilla Bustamante",
      "photoUrl": "",
      "userId": "11197695438559860471"
     },
     "user_tz": 180
    },
    "id": "l24rDqDb2yX2",
    "outputId": "e6739822-ccea-49f2-e053-3eab1a6b2254"
   },
   "outputs": [
    {
     "data": {
      "text/plain": [
       "0"
      ]
     },
     "execution_count": 14,
     "metadata": {
      "tags": []
     },
     "output_type": "execute_result"
    }
   ],
   "source": [
    "t.microsecond"
   ]
  },
  {
   "cell_type": "code",
   "execution_count": 15,
   "metadata": {
    "colab": {
     "base_uri": "https://localhost:8080/",
     "height": 35
    },
    "executionInfo": {
     "elapsed": 717,
     "status": "ok",
     "timestamp": 1602524492021,
     "user": {
      "displayName": "Hugo Hernan Ubilla Bustamante",
      "photoUrl": "",
      "userId": "11197695438559860471"
     },
     "user_tz": 180
    },
    "id": "W5PYUGpu2yX_",
    "outputId": "cc9f11d7-2cf3-4f28-e995-8ece9e351b7d"
   },
   "outputs": [
    {
     "data": {
      "text/plain": [
       "datetime.date(2020, 10, 12)"
      ]
     },
     "execution_count": 15,
     "metadata": {
      "tags": []
     },
     "output_type": "execute_result"
    }
   ],
   "source": [
    "# Get current date\n",
    "datetime.date.today()"
   ]
  },
  {
   "cell_type": "code",
   "execution_count": null,
   "metadata": {
    "id": "M2OTlRZ32yYG"
   },
   "outputs": [],
   "source": [
    "# Get current time\n",
    "datetime.datetime.now()"
   ]
  },
  {
   "cell_type": "markdown",
   "metadata": {
    "id": "7Z1r9FQr2yYO"
   },
   "source": [
    "## Midiendo los tiempos de ejecución de nuestro código Code\n",
    "\n",
    "A veces es necesario medir los tiempos de ejecución de nuestro código. Esto se hace necesario porque, en muchas ocasiones, la solución a un problema puede ser de multiples formas, y no toda ellas son eficientes.\n",
    "\n",
    "Para eso importaremos la librería **time**"
   ]
  },
  {
   "cell_type": "code",
   "execution_count": null,
   "metadata": {
    "id": "JoMzawTH2yYP"
   },
   "outputs": [],
   "source": [
    "import time\n",
    "\n",
    "# Guardamos el tiempo inicial en una variable llamada t0\n",
    "\n",
    "t0 = time.time() # Llamamos a la función time() que está en la librería time\n",
    "\n",
    "# Ejecutamos una operación que consuma algo de tiempo\n",
    "result = [x**2 for x in range(100000)]\n",
    "time.sleep(1)\n",
    "\n",
    "t1 = time.time() # Medimos el timpo final"
   ]
  },
  {
   "cell_type": "code",
   "execution_count": null,
   "metadata": {
    "id": "iwOvxptt2yYV"
   },
   "outputs": [],
   "source": [
    "# La diferencia estará en segundos\n",
    "\n",
    "print(f'TIempo de ejecición = {t1 - t0: 2.3f}')"
   ]
  },
  {
   "cell_type": "markdown",
   "metadata": {
    "id": "pT0Ghl_l2yYa"
   },
   "source": [
    "### Uso de los *magic commands* de Jupyter\n",
    "\n",
    "Hay cuatro formas de usarlos para medir tiempos:\n",
    "\n",
    "```python\n",
    "# dos para medir el timpo de ejecución de una instruccione específica\n",
    "%time\n",
    "%timeit\n",
    "\n",
    "# dos para medir el timpo de ejecución de la celda completa\n",
    "%time\n",
    "%timeit\n",
    "```\n",
    "\n",
    "**%time** mide el tiempo de ejecución de una instruccion<br>\n",
    "**%timeit** es mucho más preciso ya que repite las mediciónr muchas veces para eliminar la influencia de otras tareas de tu computador que pudieran está ejecutándose en paralelo"
   ]
  },
  {
   "cell_type": "code",
   "execution_count": 16,
   "metadata": {
    "colab": {
     "base_uri": "https://localhost:8080/",
     "height": 72
    },
    "executionInfo": {
     "elapsed": 3991,
     "status": "ok",
     "timestamp": 1602524739465,
     "user": {
      "displayName": "Hugo Hernan Ubilla Bustamante",
      "photoUrl": "",
      "userId": "11197695438559860471"
     },
     "user_tz": 180
    },
    "id": "g2071jGr2yYb",
    "outputId": "3e1caa30-2bd1-40a5-b33f-3f66005a74b2"
   },
   "outputs": [
    {
     "name": "stdout",
     "output_type": "stream",
     "text": [
      "CPU times: user 2.76 s, sys: 351 ms, total: 3.11 s\n",
      "Wall time: 3.11 s\n"
     ]
    },
    {
     "data": {
      "text/plain": [
       "333333283333335000000"
      ]
     },
     "execution_count": 16,
     "metadata": {
      "tags": []
     },
     "output_type": "execute_result"
    }
   ],
   "source": [
    "# '%time' medirá el tiempo de la instrucción solamente\n",
    "\n",
    "%time result = [x**2 for x in range(10000000)]\n",
    "\n",
    "sum(result)"
   ]
  },
  {
   "cell_type": "code",
   "execution_count": 17,
   "metadata": {
    "colab": {
     "base_uri": "https://localhost:8080/",
     "height": 72
    },
    "executionInfo": {
     "elapsed": 3998,
     "status": "ok",
     "timestamp": 1602524840072,
     "user": {
      "displayName": "Hugo Hernan Ubilla Bustamante",
      "photoUrl": "",
      "userId": "11197695438559860471"
     },
     "user_tz": 180
    },
    "id": "jRaCjV_k2yYi",
    "outputId": "4ad0571e-fde2-4ce2-af95-81b1f190e5ec"
   },
   "outputs": [
    {
     "name": "stdout",
     "output_type": "stream",
     "text": [
      "CPU times: user 221 ms, sys: 0 ns, total: 221 ms\n",
      "Wall time: 221 ms\n"
     ]
    },
    {
     "data": {
      "text/plain": [
       "333333283333335000000"
      ]
     },
     "execution_count": 17,
     "metadata": {
      "tags": []
     },
     "output_type": "execute_result"
    }
   ],
   "source": [
    "# '%time' medirá el tiempo de la instrucción solamente\n",
    "\n",
    "result = [x**2 for x in range(10000000)]\n",
    "\n",
    "%time sum(result)"
   ]
  },
  {
   "cell_type": "code",
   "execution_count": 18,
   "metadata": {
    "colab": {
     "base_uri": "https://localhost:8080/",
     "height": 54
    },
    "executionInfo": {
     "elapsed": 16694,
     "status": "ok",
     "timestamp": 1602524858678,
     "user": {
      "displayName": "Hugo Hernan Ubilla Bustamante",
      "photoUrl": "",
      "userId": "11197695438559860471"
     },
     "user_tz": 180
    },
    "id": "-gaD-_AZ2yYr",
    "outputId": "aec09f56-6e31-42d1-b090-e6acd9d07567"
   },
   "outputs": [
    {
     "name": "stdout",
     "output_type": "stream",
     "text": [
      "1 loop, best of 3: 4.18 s per loop\n"
     ]
    },
    {
     "data": {
      "text/plain": [
       "333333283333335000000"
      ]
     },
     "execution_count": 18,
     "metadata": {
      "tags": []
     },
     "output_type": "execute_result"
    }
   ],
   "source": [
    "# '%timeit' medirá el tiempo de ejeción PROMEDIO de la instrucción solamente, \n",
    "# la ejecutará varias veces\n",
    "\n",
    "%timeit result = [x**2 for x in range(10000000)]\n",
    "\n",
    "sum(result)"
   ]
  },
  {
   "cell_type": "code",
   "execution_count": 19,
   "metadata": {
    "colab": {
     "base_uri": "https://localhost:8080/",
     "height": 35
    },
    "executionInfo": {
     "elapsed": 4508,
     "status": "ok",
     "timestamp": 1602524878444,
     "user": {
      "displayName": "Hugo Hernan Ubilla Bustamante",
      "photoUrl": "",
      "userId": "11197695438559860471"
     },
     "user_tz": 180
    },
    "id": "nEvAi2vU2yYy",
    "outputId": "9d94f935-edba-456b-ce1d-a5d0d2a71fca"
   },
   "outputs": [
    {
     "name": "stdout",
     "output_type": "stream",
     "text": [
      "1 loop, best of 3: 227 ms per loop\n"
     ]
    }
   ],
   "source": [
    "# '%timeit' medirá el tiempo de ejeción PROMEDIO de la instrucción solamente, \n",
    "# la ejecutará varias veces\n",
    "\n",
    "result = [x**2 for x in range(10000000)]\n",
    "\n",
    "%timeit sum(result)"
   ]
  },
  {
   "cell_type": "code",
   "execution_count": 20,
   "metadata": {
    "colab": {
     "base_uri": "https://localhost:8080/",
     "height": 54
    },
    "executionInfo": {
     "elapsed": 3805,
     "status": "ok",
     "timestamp": 1602524884757,
     "user": {
      "displayName": "Hugo Hernan Ubilla Bustamante",
      "photoUrl": "",
      "userId": "11197695438559860471"
     },
     "user_tz": 180
    },
    "id": "PMFxu2SI2yY4",
    "outputId": "ff087a90-d456-412e-83fd-089aa369efa5"
   },
   "outputs": [
    {
     "name": "stdout",
     "output_type": "stream",
     "text": [
      "CPU times: user 3.06 s, sys: 139 ms, total: 3.2 s\n",
      "Wall time: 3.21 s\n"
     ]
    }
   ],
   "source": [
    "%%time \n",
    "# '%%time' con dos '%%' medirá el tiempo de ejeción de la celda completa \n",
    "# debe ir al inicio del todo\n",
    "\n",
    "result = [x**2 for x in range(10000000)]\n",
    "\n",
    "sum(result)"
   ]
  },
  {
   "cell_type": "code",
   "execution_count": 21,
   "metadata": {
    "colab": {
     "base_uri": "https://localhost:8080/",
     "height": 35
    },
    "executionInfo": {
     "elapsed": 1714,
     "status": "ok",
     "timestamp": 1602524887805,
     "user": {
      "displayName": "Hugo Hernan Ubilla Bustamante",
      "photoUrl": "",
      "userId": "11197695438559860471"
     },
     "user_tz": 180
    },
    "id": "FdDyw3pm2yY-",
    "outputId": "85738774-ed15-4e37-dfc6-07d6cb2c7a28"
   },
   "outputs": [
    {
     "name": "stdout",
     "output_type": "stream",
     "text": [
      "100 loops, best of 3: 2.7 ms per loop\n"
     ]
    }
   ],
   "source": [
    "%%timeit \n",
    "# '%%timeit' con dos '%%' medirá el tiempo de ejeción PROMEDIO de la celda completa \n",
    "# debe ir al inicio del todo\n",
    "\n",
    "result = [x**2 for x in range(10000)]\n",
    "\n",
    "sum(result)"
   ]
  },
  {
   "cell_type": "markdown",
   "metadata": {
    "id": "nM1Mz9WU2yZE"
   },
   "source": [
    "# <font color='blue'>Tiempo de revisión grupal</font>\n",
    "La **Bitácora Grupal** es la herramienta de evaluación de este curso. La misma estará conformada por todos los **Notebooks Grupales** de cada una de las clases y módulos del curso. Los grupos de trabajo deben desarrollarla de forma colaborativa y creativa.\n",
    "\n",
    "Rúbrica de la **Bitácora Grupal** y de los **Notebook Grupal** que la componen:\n",
    "* El notebook se ve ordenado y con una secuencia lógica y limpia.\n",
    "* El notebook no tiene celdas en blanco innecesarias.\n",
    "* El notebook no tiene celdas con errores, salvo aquellas en las que explícitamente queremos mostrar un error.\n",
    "* Todos los ejercicios propuestos están correctamente desarrollados.\n",
    "* Los ejercicios tiene comentarios y reflexiones del grupo.\n",
    "* El notebook tiene abundantes comentarios explicativos del código.\n",
    "* El notebook tiene una sección adicional, creada por el grupo, con experimentos de los alumnos relativos al contenido del mismo.\n",
    "* La Bitácora Grupa, y por ende los notebooks que la componen, tiene aspectos creativos y novedoso que la diferencian significativamente de las de los demás grupos."
   ]
  },
  {
   "cell_type": "code",
   "execution_count": null,
   "metadata": {
    "id": "V_i4mTV22yZG"
   },
   "outputs": [],
   "source": []
  }
 ],
 "metadata": {
  "anaconda-cloud": {},
  "colab": {
   "collapsed_sections": [],
   "name": "24-Debugging.ipynb",
   "provenance": []
  },
  "kernelspec": {
   "display_name": "Python 3",
   "language": "python",
   "name": "python3"
  },
  "language_info": {
   "codemirror_mode": {
    "name": "ipython",
    "version": 3
   },
   "file_extension": ".py",
   "mimetype": "text/x-python",
   "name": "python",
   "nbconvert_exporter": "python",
   "pygments_lexer": "ipython3",
   "version": "3.7.5"
  }
 },
 "nbformat": 4,
 "nbformat_minor": 1
}
