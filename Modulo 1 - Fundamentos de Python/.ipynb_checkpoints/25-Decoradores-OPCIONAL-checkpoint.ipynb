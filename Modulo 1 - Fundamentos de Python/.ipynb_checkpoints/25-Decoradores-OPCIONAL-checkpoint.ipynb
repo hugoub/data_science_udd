{
 "cells": [
  {
   "cell_type": "markdown",
   "metadata": {
    "id": "GPSDfYIkY5iY"
   },
   "source": [
    "# 25-Decoradores (Decorators) \n",
    "\n",
    "**<font color='red'>ATENCIÓN: Este notebook es opcional</font>**\n",
    "    \n",
    "Los decoradores son un tópico avazado de Puthon\n",
    "\n",
    "\n",
    "## ¿Por qué queremos decoradores?\n",
    "\n",
    "Imagina la siguiente función:"
   ]
  },
  {
   "cell_type": "code",
   "execution_count": null,
   "metadata": {
    "id": "2G11SpyXY5iY"
   },
   "outputs": [],
   "source": [
    "def mi_func():\n",
    "    print(\"Hola Mundo\")"
   ]
  },
  {
   "cell_type": "code",
   "execution_count": null,
   "metadata": {
    "id": "Ol7e10DfY5ib",
    "outputId": "01a5547a-2019-427c-ccff-7405f9fee453"
   },
   "outputs": [
    {
     "name": "stdout",
     "output_type": "stream",
     "text": [
      "hello\n"
     ]
    }
   ],
   "source": [
    "my_func()"
   ]
  },
  {
   "cell_type": "markdown",
   "metadata": {
    "id": "SaZINUfPY5ie"
   },
   "source": [
    "Qué pasaría si quisiéramos agregarle más funcionalidad a esta función, en lugar de solo la *print('Hola Mundo')*? Por ejemplo, si quisiéramos imprimir 'HOLA MUNDO', todo en mayúsculas.\n",
    "\n",
    "Hasta ahora, con lo que sabemos, tendríamos que reescribir la función para añadirle algo.\n",
    "\n",
    "Un **decorador** es un *patrón de diseño* en Python que permite al usuario agregar nueva funcionalidad a un objeto existente sin modificar su estructura."
   ]
  },
  {
   "cell_type": "code",
   "execution_count": null,
   "metadata": {
    "id": "bWn8I0eNY5if"
   },
   "outputs": [],
   "source": [
    "def mi_func():\n",
    "    # Anadir más funcioalidad aquí\n",
    "    # como por ejemplo otra cláusula print()\n",
    "    \n",
    "    # Aquí tenemos la función original\n",
    "    print(\"Hola Mundo\")\n",
    "    \n",
    "    # Incluso puede agregar más funcionalidad después de las operaciones originales"
   ]
  },
  {
   "cell_type": "markdown",
   "metadata": {
    "id": "OIacFP9HY5ih"
   },
   "source": [
    "Para completar las áreas comentadas arriba en la función *ni_func*, podemos usar el operador **\\@** para adjuntar un decorador. Sin embargo, necesitaremos crear nuestros propios decoradores. Aquí es donde el tema se torna más avanzado!!\n",
    "\n",
    "Los decoradores se pueden considerar como funciones que modifican la *funcionalidad* de otra función. Ayudan a hacer su código más corto y más \"pythonista\".\n",
    "\n",
    "Para explicar adecuadamente qué es un decorador, construiremos uno lenpaso a paso a partir de funciones. \n",
    "\n",
    "\n",
    "**Importante**: Asegúrate de reiniciar el Kernel de este Notebook para que esta lección se vea igual en tu computador. "
   ]
  },
  {
   "cell_type": "markdown",
   "metadata": {
    "id": "wyRaTJ6LY5ih"
   },
   "source": [
    "## La función\n",
    "\n",
    "Las funciones en Python son *ciudadanos de primera clas*e. Esto significa que admiten operaciones como pasarlas como argumento a otra función, devolverlas como resultados desde una función, modificarlas y asignarlas a una variable. Este es un concepto fundamental a entender antes de profundizar en la creación de decoradores de Python."
   ]
  },
  {
   "cell_type": "code",
   "execution_count": 1,
   "metadata": {
    "id": "sGlx3oVZY5ih"
   },
   "outputs": [],
   "source": [
    "def func():\n",
    "    return 1"
   ]
  },
  {
   "cell_type": "code",
   "execution_count": 2,
   "metadata": {
    "id": "ifZXUp8XY5ij",
    "outputId": "1b393fa3-8a88-4d30-9e77-d9cb53ff3210"
   },
   "outputs": [
    {
     "data": {
      "text/plain": [
       "1"
      ]
     },
     "execution_count": 2,
     "metadata": {},
     "output_type": "execute_result"
    }
   ],
   "source": [
    "func()"
   ]
  },
  {
   "cell_type": "markdown",
   "metadata": {
    "id": "G4GoIcJeY5il"
   },
   "source": [
    "## Su alcance\n",
    "\n",
    "Recuerda de la lección de declaraciones anidadas que Python usa *Scope* para saber a qué se refiere una etiqueta. Por ejemplo:"
   ]
  },
  {
   "cell_type": "code",
   "execution_count": 3,
   "metadata": {
    "executionInfo": {
     "elapsed": 1676,
     "status": "ok",
     "timestamp": 1602600426773,
     "user": {
      "displayName": "Jose Garcia",
      "photoUrl": "https://lh3.googleusercontent.com/a-/AOh14GjhVumYNbkFNN5_FNhYU66e0ISQpLkFFjToc7wy0Q=s64",
      "userId": "13404731561212022132"
     },
     "user_tz": 180
    },
    "id": "-4egrvsTY5im"
   },
   "outputs": [],
   "source": [
    "s = 'Variable Global'\n",
    "\n",
    "def func():\n",
    "    print(f'Mi espacio de nosmbres local es {locals()}')"
   ]
  },
  {
   "cell_type": "markdown",
   "metadata": {
    "id": "njY_UKCwY5ip"
   },
   "source": [
    "Recuerda también, que las funciones de Python crean un nuevo alcance (*scope*), lo que significa que la función tiene su propio espacio de nombres para buscar nombres de variables cuando se mencionan dentro de la función. Podemos verificar variables locales y variables globales con las funciones **local( )** y **globals( )**. \n",
    "\n",
    "Por ejemplo:"
   ]
  },
  {
   "cell_type": "code",
   "execution_count": 3,
   "metadata": {
    "colab": {
     "base_uri": "https://localhost:8080/",
     "height": 54
    },
    "executionInfo": {
     "elapsed": 1461,
     "status": "ok",
     "timestamp": 1602600431393,
     "user": {
      "displayName": "Jose Garcia",
      "photoUrl": "https://lh3.googleusercontent.com/a-/AOh14GjhVumYNbkFNN5_FNhYU66e0ISQpLkFFjToc7wy0Q=s64",
      "userId": "13404731561212022132"
     },
     "user_tz": 180
    },
    "id": "MdRkOTugY5ip",
    "outputId": "d8436c6d-d84f-4a02-d884-4e2cbf0c47c2"
   },
   "outputs": [
    {
     "name": "stdout",
     "output_type": "stream",
     "text": [
      "{'__name__': '__main__', '__doc__': 'Automatically created module for IPython interactive environment', '__package__': None, '__loader__': None, '__spec__': None, '__builtin__': <module 'builtins' (built-in)>, '__builtins__': <module 'builtins' (built-in)>, '_ih': ['', '# Con esta iunstrucción verás todas las variables globales que hay en el \\n# espacio de nombres del Kernel actual de Python en el cual se ejecuta el presente notebook\\n\\nprint(globals())', \"s = 'Variable Global'\\n\\ndef func():\\n    print(f'Mi espacio de nosmbres local es {locals()}')\", '# Con esta iunstrucción verás todas las variables globales que hay en el \\n# espacio de nombres del Kernel actual de Python en el cual se ejecuta el presente notebook\\n\\nprint(globals())'], '_oh': {}, '_dh': ['/content'], '_sh': <module 'IPython.core.shadowns' from '/usr/local/lib/python3.6/dist-packages/IPython/core/shadowns.py'>, 'In': ['', '# Con esta iunstrucción verás todas las variables globales que hay en el \\n# espacio de nombres del Kernel actual de Python en el cual se ejecuta el presente notebook\\n\\nprint(globals())', \"s = 'Variable Global'\\n\\ndef func():\\n    print(f'Mi espacio de nosmbres local es {locals()}')\", '# Con esta iunstrucción verás todas las variables globales que hay en el \\n# espacio de nombres del Kernel actual de Python en el cual se ejecuta el presente notebook\\n\\nprint(globals())'], 'Out': {}, 'get_ipython': <bound method InteractiveShell.get_ipython of <google.colab._shell.Shell object at 0x7fa3bd9c6160>>, 'exit': <IPython.core.autocall.ZMQExitAutocall object at 0x7fa3bd9d8668>, 'quit': <IPython.core.autocall.ZMQExitAutocall object at 0x7fa3bd9d8668>, '_': '', '__': '', '___': '', '_i': \"s = 'Variable Global'\\n\\ndef func():\\n    print(f'Mi espacio de nosmbres local es {locals()}')\", '_ii': '# Con esta iunstrucción verás todas las variables globales que hay en el \\n# espacio de nombres del Kernel actual de Python en el cual se ejecuta el presente notebook\\n\\nprint(globals())', '_iii': '', '_i1': '# Con esta iunstrucción verás todas las variables globales que hay en el \\n# espacio de nombres del Kernel actual de Python en el cual se ejecuta el presente notebook\\n\\nprint(globals())', '_i2': \"s = 'Variable Global'\\n\\ndef func():\\n    print(f'Mi espacio de nosmbres local es {locals()}')\", 's': 'Variable Global', 'func': <function func at 0x7fa3b8cb2ea0>, '_i3': '# Con esta iunstrucción verás todas las variables globales que hay en el \\n# espacio de nombres del Kernel actual de Python en el cual se ejecuta el presente notebook\\n\\nprint(globals())'}\n"
     ]
    }
   ],
   "source": [
    "# Con esta iunstrucción verás todas las variables globales que hay en el \n",
    "# espacio de nombres del Kernel actual de Python en el cual se ejecuta el presente notebook\n",
    "\n",
    "print(globals())"
   ]
  },
  {
   "cell_type": "code",
   "execution_count": 4,
   "metadata": {
    "colab": {
     "base_uri": "https://localhost:8080/",
     "height": 34
    },
    "executionInfo": {
     "elapsed": 1611,
     "status": "ok",
     "timestamp": 1602600434708,
     "user": {
      "displayName": "Jose Garcia",
      "photoUrl": "https://lh3.googleusercontent.com/a-/AOh14GjhVumYNbkFNN5_FNhYU66e0ISQpLkFFjToc7wy0Q=s64",
      "userId": "13404731561212022132"
     },
     "user_tz": 180
    },
    "id": "njDz19UfY5ir",
    "outputId": "73227997-8943-4da4-cc73-3289d8509ab7"
   },
   "outputs": [
    {
     "data": {
      "text/plain": [
       "dict"
      ]
     },
     "execution_count": 4,
     "metadata": {
      "tags": []
     },
     "output_type": "execute_result"
    }
   ],
   "source": [
    "# Veamos el tipo de salida que nos entrega?\n",
    "\n",
    "type(globals())"
   ]
  },
  {
   "cell_type": "markdown",
   "metadata": {
    "collapsed": true,
    "id": "PXQvjODiY5it"
   },
   "source": [
    "Aquí obtenemos un diccionario de todas las variables globales, muchas de ellas predefinidas en Python. Así que sigamos adelante y miremos las claves:"
   ]
  },
  {
   "cell_type": "code",
   "execution_count": 5,
   "metadata": {
    "colab": {
     "base_uri": "https://localhost:8080/",
     "height": 54
    },
    "executionInfo": {
     "elapsed": 1425,
     "status": "ok",
     "timestamp": 1602600438100,
     "user": {
      "displayName": "Jose Garcia",
      "photoUrl": "https://lh3.googleusercontent.com/a-/AOh14GjhVumYNbkFNN5_FNhYU66e0ISQpLkFFjToc7wy0Q=s64",
      "userId": "13404731561212022132"
     },
     "user_tz": 180
    },
    "id": "pGDNnwIFY5it",
    "outputId": "d978e330-cdfd-4073-a0fd-874aefee33c0"
   },
   "outputs": [
    {
     "name": "stdout",
     "output_type": "stream",
     "text": [
      "dict_keys(['__name__', '__doc__', '__package__', '__loader__', '__spec__', '__builtin__', '__builtins__', '_ih', '_oh', '_dh', '_sh', 'In', 'Out', 'get_ipython', 'exit', 'quit', '_', '__', '___', '_i', '_ii', '_iii', '_i1', '_i2', 's', 'func', '_i3', '_i4', '_4', '_i5'])\n"
     ]
    }
   ],
   "source": [
    "print(globals().keys())"
   ]
  },
  {
   "cell_type": "markdown",
   "metadata": {
    "id": "AJ2EGAqKY5iv"
   },
   "source": [
    "Fíjatee cómo **s** está ahí, la Variable Global que definimos como una cadena:"
   ]
  },
  {
   "cell_type": "code",
   "execution_count": 6,
   "metadata": {
    "colab": {
     "base_uri": "https://localhost:8080/",
     "height": 35
    },
    "executionInfo": {
     "elapsed": 1051,
     "status": "ok",
     "timestamp": 1602600447332,
     "user": {
      "displayName": "Jose Garcia",
      "photoUrl": "https://lh3.googleusercontent.com/a-/AOh14GjhVumYNbkFNN5_FNhYU66e0ISQpLkFFjToc7wy0Q=s64",
      "userId": "13404731561212022132"
     },
     "user_tz": 180
    },
    "id": "-5BgiL0NY5iv",
    "outputId": "6a98f45a-96fa-4e61-d7a4-16bc2e6731a4"
   },
   "outputs": [
    {
     "data": {
      "application/vnd.google.colaboratory.intrinsic+json": {
       "type": "string"
      },
      "text/plain": [
       "'Variable Global'"
      ]
     },
     "execution_count": 6,
     "metadata": {
      "tags": []
     },
     "output_type": "execute_result"
    }
   ],
   "source": [
    "# Veamos qué valor tiene la llave 's' en el diccionario 'globals()'\n",
    "\n",
    "globals()['s']"
   ]
  },
  {
   "cell_type": "markdown",
   "metadata": {
    "id": "0S9V80H3Y5ix"
   },
   "source": [
    "Ahora ejecutemos nuestra función para verificar si hay variables locales en func().\n",
    "No debería haber ninguna, por que no definimos ninguna en la función."
   ]
  },
  {
   "cell_type": "code",
   "execution_count": 7,
   "metadata": {
    "colab": {
     "base_uri": "https://localhost:8080/",
     "height": 34
    },
    "executionInfo": {
     "elapsed": 700,
     "status": "ok",
     "timestamp": 1602600466829,
     "user": {
      "displayName": "Jose Garcia",
      "photoUrl": "https://lh3.googleusercontent.com/a-/AOh14GjhVumYNbkFNN5_FNhYU66e0ISQpLkFFjToc7wy0Q=s64",
      "userId": "13404731561212022132"
     },
     "user_tz": 180
    },
    "id": "i1VI6aJBY5iy",
    "outputId": "489ef195-78d1-42d8-de6b-df48d8d9d2f1"
   },
   "outputs": [
    {
     "name": "stdout",
     "output_type": "stream",
     "text": [
      "Mi espacio de nosmbres local es {}\n"
     ]
    }
   ],
   "source": [
    "func()"
   ]
  },
  {
   "cell_type": "markdown",
   "metadata": {
    "id": "e1CsBKdgY5iz"
   },
   "source": [
    "¡Excelente! Ahora continuemos con la construcción de la lógica de lo que es un decorador. Recuerda que en Python **todo es un objeto**. Eso significa que las funciones son objetos a los que se les pueden asignar etiquetas y pasarlas como argumetos a otras funciones. \n",
    "\n",
    "Comencemos con algunos ejemplos simples:"
   ]
  },
  {
   "cell_type": "markdown",
   "metadata": {
    "id": "63Ed_7HEY5i0"
   },
   "source": [
    "## Asignar funciones a variables\n",
    "\n",
    "Para comenzar, creamos una función que agregará uno a un número cada vez que se llame. Luego asignaremos la función a una variable y usaremos esta variable para llamar a la función.\n",
    "\n",
    "Verás que aquí no estamos usando paréntesis porque no estamos llamando a la función *mas_uno*, sino que simplemente la estamos colocando la función en la variable *suma_uno*.\n",
    "Si incluyéramos paréntesis, en *suma_uno* guardaríamos el valor de salida de la función *mas_uno*!!"
   ]
  },
  {
   "cell_type": "code",
   "execution_count": 8,
   "metadata": {
    "colab": {
     "base_uri": "https://localhost:8080/",
     "height": 34
    },
    "executionInfo": {
     "elapsed": 936,
     "status": "ok",
     "timestamp": 1602600534842,
     "user": {
      "displayName": "Jose Garcia",
      "photoUrl": "https://lh3.googleusercontent.com/a-/AOh14GjhVumYNbkFNN5_FNhYU66e0ISQpLkFFjToc7wy0Q=s64",
      "userId": "13404731561212022132"
     },
     "user_tz": 180
    },
    "id": "suqjrtfWY5i0",
    "outputId": "4ff55f47-5b28-492a-f646-2aad7d6b029b"
   },
   "outputs": [
    {
     "data": {
      "text/plain": [
       "6"
      ]
     },
     "execution_count": 8,
     "metadata": {
      "tags": []
     },
     "output_type": "execute_result"
    }
   ],
   "source": [
    "def mas_uno(numero=0):\n",
    "    return numero + 1\n",
    "\n",
    "# La función 'mas_uno' es asignada a la variable 'suma_uno'\n",
    "suma_uno = mas_uno\n",
    "suma_uno(5)"
   ]
  },
  {
   "cell_type": "code",
   "execution_count": 9,
   "metadata": {
    "colab": {
     "base_uri": "https://localhost:8080/",
     "height": 34
    },
    "executionInfo": {
     "elapsed": 903,
     "status": "ok",
     "timestamp": 1602600548845,
     "user": {
      "displayName": "Jose Garcia",
      "photoUrl": "https://lh3.googleusercontent.com/a-/AOh14GjhVumYNbkFNN5_FNhYU66e0ISQpLkFFjToc7wy0Q=s64",
      "userId": "13404731561212022132"
     },
     "user_tz": 180
    },
    "id": "aRz21QbMY5i3",
    "outputId": "a173fab0-8fe5-4d78-ad1f-a1b531446cd0"
   },
   "outputs": [
    {
     "data": {
      "text/plain": [
       "4"
      ]
     },
     "execution_count": 9,
     "metadata": {
      "tags": []
     },
     "output_type": "execute_result"
    }
   ],
   "source": [
    "# Las funciones no quedan atadas. Borraremos mas_uno() y suma_uno() seguira existinedo\n",
    "\n",
    "del mas_uno\n",
    "suma_uno(3)"
   ]
  },
  {
   "cell_type": "markdown",
   "metadata": {
    "id": "viToRX6-Y5i5"
   },
   "source": [
    "## Definir funciones dentro de otras funciones\n",
    "\n",
    "A continuación, ilustraremos cómo puedes definir una función dentro de otra función en Python. \n",
    "\n",
    "No te pierdas. Yaveremos cómo todo esto es relevante para crear y comprender decoradores en Python."
   ]
  },
  {
   "cell_type": "code",
   "execution_count": 10,
   "metadata": {
    "colab": {
     "base_uri": "https://localhost:8080/",
     "height": 34
    },
    "executionInfo": {
     "elapsed": 905,
     "status": "ok",
     "timestamp": 1602600576961,
     "user": {
      "displayName": "Jose Garcia",
      "photoUrl": "https://lh3.googleusercontent.com/a-/AOh14GjhVumYNbkFNN5_FNhYU66e0ISQpLkFFjToc7wy0Q=s64",
      "userId": "13404731561212022132"
     },
     "user_tz": 180
    },
    "id": "A5eT9-KRY5i5",
    "outputId": "4d5f89e0-552f-4ba8-b65a-e179798b6939"
   },
   "outputs": [
    {
     "data": {
      "text/plain": [
       "5"
      ]
     },
     "execution_count": 10,
     "metadata": {
      "tags": []
     },
     "output_type": "execute_result"
    }
   ],
   "source": [
    "def mas_uno(numero):\n",
    "    # La función 'suma_uno' está definida dentro de la función 'mas_uno'\n",
    "    def suma_uno(numero):\n",
    "        return numero + 1\n",
    "\n",
    "\n",
    "    resultado = suma_uno(numero)\n",
    "    return resultado\n",
    "\n",
    "mas_uno(4)"
   ]
  },
  {
   "cell_type": "markdown",
   "metadata": {
    "id": "7ww3RMyGY5i7"
   },
   "source": [
    "## Pasar funciones como argumentos a otras funciones\n",
    "\n",
    "Las funciones también se pueden pasar como parámetros a otras funciones. Ilustremos eso a continuación."
   ]
  },
  {
   "cell_type": "code",
   "execution_count": 11,
   "metadata": {
    "colab": {
     "base_uri": "https://localhost:8080/",
     "height": 34
    },
    "executionInfo": {
     "elapsed": 907,
     "status": "ok",
     "timestamp": 1602600625012,
     "user": {
      "displayName": "Jose Garcia",
      "photoUrl": "https://lh3.googleusercontent.com/a-/AOh14GjhVumYNbkFNN5_FNhYU66e0ISQpLkFFjToc7wy0Q=s64",
      "userId": "13404731561212022132"
     },
     "user_tz": 180
    },
    "id": "DPMOLe_fY5i7",
    "outputId": "347bf54f-7847-4bc5-8d73-b1443baaa989"
   },
   "outputs": [
    {
     "data": {
      "text/plain": [
       "6"
      ]
     },
     "execution_count": 11,
     "metadata": {
      "tags": []
     },
     "output_type": "execute_result"
    }
   ],
   "source": [
    "def mas_uno(numero):\n",
    "    return numero + 1\n",
    "\n",
    "def llama_funciom(funccion):\n",
    "    numero_a_sumar = 5\n",
    "    return funccion(numero_a_sumar)\n",
    "\n",
    "# La función 'mas_uno' pasa como argumento de la función 'llama_funcion'\n",
    "llama_funciom(mas_uno)"
   ]
  },
  {
   "cell_type": "markdown",
   "metadata": {
    "id": "YuOgXbLLY5i9"
   },
   "source": [
    "## Funciones anidadas tienen acceso al *scope* de la función adjunta\n",
    "\n",
    "Python permite que una función anidada acceda al ámbito (*scope*) externo de la función adjunta. Este es un concepto crítico en los decoradores: este patrón se conoce como **Closure** (Cierre)."
   ]
  },
  {
   "cell_type": "code",
   "execution_count": 12,
   "metadata": {
    "colab": {
     "base_uri": "https://localhost:8080/",
     "height": 34
    },
    "executionInfo": {
     "elapsed": 709,
     "status": "ok",
     "timestamp": 1602600682024,
     "user": {
      "displayName": "Jose Garcia",
      "photoUrl": "https://lh3.googleusercontent.com/a-/AOh14GjhVumYNbkFNN5_FNhYU66e0ISQpLkFFjToc7wy0Q=s64",
      "userId": "13404731561212022132"
     },
     "user_tz": 180
    },
    "id": "iCanT_NGY5i-",
    "outputId": "a08ae064-5ccb-4290-e1da-633a39b893f5"
   },
   "outputs": [
    {
     "name": "stdout",
     "output_type": "stream",
     "text": [
      "Hola mundo !!\n"
     ]
    }
   ],
   "source": [
    "def imprime_mensaje(mensaje):\n",
    "    \"\"\"\n",
    "    Función adjunta\n",
    "    \"\"\"\n",
    "    def mensajero():\n",
    "        \"\"\"\n",
    "        Función anidada\n",
    "        \"\"\"\n",
    "        # La variable 'mensaje' está en el espacio de nombres (Scope) interno de la función\n",
    "        # 'imprime_mensaje' y la función 'mensajero' puede usarla\n",
    "        print(mensaje)\n",
    "\n",
    "    mensajero()\n",
    "\n",
    "imprime_mensaje(\"Hola mundo !!\")"
   ]
  },
  {
   "cell_type": "markdown",
   "metadata": {
    "id": "bGgn2vkiY5jA"
   },
   "source": [
    "## Creando decoradores\n",
    "\n",
    "Vistoe estos conceptos, sigamos adelante y creemos un decorador simple que convertirá una oración en mayúsculas (Nuestro objetivo inicial, recuerdan?). \n",
    "\n",
    "Haremos esto definiendo un contenedor dentro de una función cerrada. Como ves en la celda siguiente, es muy similar a la función dentro de otra función que creamos anteriormente."
   ]
  },
  {
   "cell_type": "code",
   "execution_count": 13,
   "metadata": {
    "executionInfo": {
     "elapsed": 792,
     "status": "ok",
     "timestamp": 1602601062148,
     "user": {
      "displayName": "Jose Garcia",
      "photoUrl": "https://lh3.googleusercontent.com/a-/AOh14GjhVumYNbkFNN5_FNhYU66e0ISQpLkFFjToc7wy0Q=s64",
      "userId": "13404731561212022132"
     },
     "user_tz": 180
    },
    "id": "xwf7eQ71Y5jA"
   },
   "outputs": [],
   "source": [
    "def decorador_mayusculas(funccion):\n",
    "    def f_envoltura():                     # Definimos una función dento de otra función\n",
    "        func = funccion()                  # Asignamos una función a una variable y\n",
    "                                           # accedemos al 'name space' de la función adjunta\n",
    "        en_mayusculas = func.upper()\n",
    "        return en_mayusculas\n",
    "\n",
    "    return f_envoltura"
   ]
  },
  {
   "cell_type": "markdown",
   "metadata": {
    "id": "6FsUDD7sY5jC"
   },
   "source": [
    "Nuestra función decoradora (**decorador_mayusculas**) toma una función como argumento (**funccion**) y, por lo tanto, definiremos una función y se la pasaremos a nuestro decorador. Aprendimos antes que podíamos asignar una función a una variable. Usaremos ese truco para llamar a nuestra función decoradora."
   ]
  },
  {
   "cell_type": "code",
   "execution_count": 14,
   "metadata": {
    "colab": {
     "base_uri": "https://localhost:8080/",
     "height": 35
    },
    "executionInfo": {
     "elapsed": 969,
     "status": "ok",
     "timestamp": 1602601064681,
     "user": {
      "displayName": "Jose Garcia",
      "photoUrl": "https://lh3.googleusercontent.com/a-/AOh14GjhVumYNbkFNN5_FNhYU66e0ISQpLkFFjToc7wy0Q=s64",
      "userId": "13404731561212022132"
     },
     "user_tz": 180
    },
    "id": "1Bm-ztn2Y5jC",
    "outputId": "2d82b7b0-3075-4a0c-97bb-710b35692703"
   },
   "outputs": [
    {
     "data": {
      "application/vnd.google.colaboratory.intrinsic+json": {
       "type": "string"
      },
      "text/plain": [
       "'HOLA MUNDO'"
      ]
     },
     "execution_count": 14,
     "metadata": {
      "tags": []
     },
     "output_type": "execute_result"
    }
   ],
   "source": [
    "def mi_func():\n",
    "    return f\"Hola Mundo\"\n",
    "    \n",
    "\n",
    "decorate = decorador_mayusculas(mi_func)\n",
    "decorate()"
   ]
  },
  {
   "cell_type": "markdown",
   "metadata": {
    "id": "CHqWDvZVY5jE"
   },
   "source": [
    "Por último, Python nos ofrece una forma mucho más sencilla para aplicar decoradores. Simplemente usamos el símbolo @ antes de la función que nos gustaría decorar. Veamos cómo:\n"
   ]
  },
  {
   "cell_type": "code",
   "execution_count": 15,
   "metadata": {
    "colab": {
     "base_uri": "https://localhost:8080/",
     "height": 35
    },
    "executionInfo": {
     "elapsed": 821,
     "status": "ok",
     "timestamp": 1602601097904,
     "user": {
      "displayName": "Jose Garcia",
      "photoUrl": "https://lh3.googleusercontent.com/a-/AOh14GjhVumYNbkFNN5_FNhYU66e0ISQpLkFFjToc7wy0Q=s64",
      "userId": "13404731561212022132"
     },
     "user_tz": 180
    },
    "id": "Uy3Qia0vY5jF",
    "outputId": "60f63fc0-7006-4718-d8d5-75a6a441453d"
   },
   "outputs": [
    {
     "data": {
      "application/vnd.google.colaboratory.intrinsic+json": {
       "type": "string"
      },
      "text/plain": [
       "'HOLA MUNDO'"
      ]
     },
     "execution_count": 15,
     "metadata": {
      "tags": []
     },
     "output_type": "execute_result"
    }
   ],
   "source": [
    "@decorador_mayusculas\n",
    "def mi_func():\n",
    "    return f\"Hola Mundo\"\n",
    "\n",
    "mi_func()"
   ]
  },
  {
   "cell_type": "markdown",
   "metadata": {
    "id": "FbWvNTCRY5jG"
   },
   "source": [
    "Creamos otro decorador, esta vez uno para dividir un strig de palabras en una lista de palabras separadas."
   ]
  },
  {
   "cell_type": "code",
   "execution_count": null,
   "metadata": {
    "id": "KiQc0JK5Y5jH"
   },
   "outputs": [],
   "source": [
    "def divide_string(funcion):\n",
    "    def wrapper():                      # Por convención llamaremos a las funciones internas 'wrappers'\n",
    "        func = funcion()\n",
    "        string_dividido = func.split()\n",
    "        return string_dividido\n",
    "\n",
    "    return wrapper"
   ]
  },
  {
   "cell_type": "code",
   "execution_count": null,
   "metadata": {
    "id": "PRMJpDLcY5jM",
    "outputId": "5e57cb4f-85e9-4e3d-fb21-86552dc3c3f0"
   },
   "outputs": [
    {
     "data": {
      "text/plain": [
       "['HOLA', 'MUNDO']"
      ]
     },
     "execution_count": 82,
     "metadata": {
      "tags": []
     },
     "output_type": "execute_result"
    }
   ],
   "source": [
    "@divide_string\n",
    "@decorador_mayusculas\n",
    "def mi_func():\n",
    "    return f\"Hola Mundo\"\n",
    "\n",
    "mi_func()"
   ]
  },
  {
   "cell_type": "markdown",
   "metadata": {
    "id": "xy-DcAePY5jP"
   },
   "source": [
    "## Creando un decoradorpara medir tiempo de ejecución\n",
    "\n",
    "Intentemos recrear un decorador similar al que vimos en el notebook de **Debugging**. Recuerdan?"
   ]
  },
  {
   "cell_type": "code",
   "execution_count": null,
   "metadata": {
    "id": "7pJxW9JVY5jP"
   },
   "outputs": [],
   "source": [
    "def mide_tiempo(func):\n",
    "    import time\n",
    "\n",
    "    def wrapper(n):\n",
    "        t0 = time.time()\n",
    "        f = func(n)\n",
    "        t1 = time.time()\n",
    "        tt = (t1 - t0) \n",
    "        print(f'Tiempo = {tt: 1.3f} seconds.')\n",
    "        return f\n",
    "    return wrapper"
   ]
  },
  {
   "cell_type": "code",
   "execution_count": null,
   "metadata": {
    "id": "p-ej6YGqY5jR"
   },
   "outputs": [],
   "source": [
    "@mide_tiempo\n",
    "def suma(n):\n",
    "    result = [x**2 for x in range(10000000)]\n",
    "    return "
   ]
  },
  {
   "cell_type": "code",
   "execution_count": null,
   "metadata": {
    "id": "7V2EM8GUY5jT",
    "outputId": "d1b2c269-bed8-4dca-a81f-69679e7a6993"
   },
   "outputs": [
    {
     "name": "stdout",
     "output_type": "stream",
     "text": [
      "Tiempo =  2.962 seconds.\n"
     ]
    }
   ],
   "source": [
    "suma(10000000)"
   ]
  },
  {
   "cell_type": "markdown",
   "metadata": {
    "id": "YdEBUmDkY5jV"
   },
   "source": [
    "## <font color='green'>Tarea: Challenging</font> Crea un decorador tipo *@timeit*\n",
    "A partir del ejemplo anterior, crea un decorador que simule uno del tipo **@timeit**, el cual tomará el tiempo promedio de 7 ejecuciones de la función pasada como argumento.\n",
    "\n",
    "Nombre tu **decorador** como *tiempo_itera*"
   ]
  },
  {
   "cell_type": "code",
   "execution_count": null,
   "metadata": {
    "id": "Y0ApY2P5Y5jV"
   },
   "outputs": [],
   "source": [
    "# Tu código aquí ...\n"
   ]
  },
  {
   "cell_type": "code",
   "execution_count": null,
   "metadata": {
    "id": "l_KO0baIY5jW"
   },
   "outputs": [],
   "source": [
    "@tiempo_itera\n",
    "def suma(n):\n",
    "    result = [x**2 for x in range(10000000)]\n",
    "    return "
   ]
  },
  {
   "cell_type": "code",
   "execution_count": null,
   "metadata": {
    "id": "bK70TPY3Y5jY"
   },
   "outputs": [],
   "source": [
    "suma(10000000)"
   ]
  },
  {
   "cell_type": "markdown",
   "metadata": {
    "id": "V-fNo2dxY5ja"
   },
   "source": [
    "Genial Hackers !!!"
   ]
  },
  {
   "cell_type": "markdown",
   "metadata": {
    "id": "VOurEj0eY5jb"
   },
   "source": [
    "# <font color='blue'>Tiempo de revisión grupal</font>\n",
    "La **Bitácora Grupal** es la herramienta de evaluación de este curso. La misma estará conformada por todos los **Notebooks Grupales** de cada una de las clases y módulos del curso. Los grupos de trabajo deben desarrollarla de forma colaborativa y creativa.\n",
    "\n",
    "Rúbrica de la **Bitácora Grupal** y de los **Notebook Grupal** que la componen:\n",
    "* El notebook se ve ordenado y con una secuencia lógica y limpia.\n",
    "* El notebook no tiene celdas en blanco innecesarias.\n",
    "* El notebook no tiene celdas con errores, salvo aquellas en las que explícitamente queremos mostrar un error.\n",
    "* Todos los ejercicios propuestos están correctamente desarrollados.\n",
    "* Los ejercicios tiene comentarios y reflexiones del grupo.\n",
    "* El notebook tiene abundantes comentarios explicativos del código.\n",
    "* El notebook tiene una sección adicional, creada por el grupo, con experimentos de los alumnos relativos al contenido del mismo.\n",
    "* La Bitácora Grupa, y por ende los notebooks que la componen, tiene aspectos creativos y novedoso que la diferencian significativamente de las de los demás grupos."
   ]
  }
 ],
 "metadata": {
  "colab": {
   "name": "25-Decoradores-OPCIONAL.ipynb",
   "provenance": []
  },
  "kernelspec": {
   "display_name": "Python 3",
   "language": "python",
   "name": "python3"
  },
  "language_info": {
   "codemirror_mode": {
    "name": "ipython",
    "version": 3
   },
   "file_extension": ".py",
   "mimetype": "text/x-python",
   "name": "python",
   "nbconvert_exporter": "python",
   "pygments_lexer": "ipython3",
   "version": "3.7.5"
  }
 },
 "nbformat": 4,
 "nbformat_minor": 1
}
